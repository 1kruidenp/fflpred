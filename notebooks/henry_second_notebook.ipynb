{
 "cells": [
  {
   "cell_type": "code",
   "execution_count": 1,
   "id": "4fc4727f",
   "metadata": {},
   "outputs": [],
   "source": [
    "import pandas as pd\n",
    "import numpy as np\n",
    "import matplotlib.pyplot as plt\n",
    "from merge_years.import_data import get_full_data"
   ]
  },
  {
   "cell_type": "code",
   "execution_count": 222,
   "id": "5a37ffa8",
   "metadata": {},
   "outputs": [],
   "source": [
    "full_data = get_full_data('../raw_data')"
   ]
  },
  {
   "cell_type": "code",
   "execution_count": 282,
   "id": "8f8ad20a",
   "metadata": {},
   "outputs": [
    {
     "data": {
      "text/plain": [
       "Index(['name', 'assists', 'bonus', 'bps', 'clean_sheets', 'creativity',\n",
       "       'element', 'fixture', 'goals_conceded', 'goals_scored', 'ict_index',\n",
       "       'influence', 'kickoff_time', 'minutes', 'opponent_team', 'own_goals',\n",
       "       'penalties_missed', 'penalties_saved', 'red_cards', 'saves', 'selected',\n",
       "       'team_a_score', 'team_h_score', 'threat', 'total_points',\n",
       "       'transfers_balance', 'transfers_in', 'transfers_out', 'value',\n",
       "       'was_home', 'yellow_cards', 'GW', 'season', 'position',\n",
       "       'dreamteam_yearly_average', 'team_id', 'team_name', 'opponent_level',\n",
       "       'team_level', 'kickoff_date'],\n",
       "      dtype='object')"
      ]
     },
     "execution_count": 282,
     "metadata": {},
     "output_type": "execute_result"
    }
   ],
   "source": [
    "full_data.columns"
   ]
  },
  {
   "cell_type": "markdown",
   "id": "8cc5ac67",
   "metadata": {},
   "source": [
    "### Splitting data into positions ***"
   ]
  },
  {
   "cell_type": "code",
   "execution_count": 458,
   "id": "06f1a8de",
   "metadata": {},
   "outputs": [],
   "source": [
    "mid_data = full_data[full_data.position == \"MID\"]\n",
    "def_data = full_data[full_data.position == \"DEF\"]\n",
    "fwd_data = full_data[full_data.position == \"FWD\"]\n",
    "gk_data = full_data[full_data.position == \"GK\"]"
   ]
  },
  {
   "cell_type": "markdown",
   "id": "34f11b4f",
   "metadata": {},
   "source": [
    "**** SELECTING FEATURES ****\n",
    "\n",
    "features were selected with common sense and little data exploration"
   ]
  },
  {
   "cell_type": "code",
   "execution_count": 425,
   "id": "cc3c6420",
   "metadata": {},
   "outputs": [],
   "source": [
    "known_features = ['name', 'opponent_team','kickoff_time','was_home',\n",
    "                 'opponent_level','team_level','dreamteam_yearly_average','GW',\n",
    "                  'team_id','season','kickoff_date','position']\n",
    "\n",
    "game_features = ['name','assists', 'bonus', 'bps', 'clean_sheets', \n",
    "                 'creativity','goals_conceded','threat',\n",
    "                 'goals_scored', 'ict_index','influence',\n",
    "                 'kickoff_time', 'minutes','own_goals',\n",
    "                 'penalties_missed', 'penalties_saved',\n",
    "                 'red_cards', 'saves','transfers_balance',\n",
    "                 'value','yellow_cards','team_a_score',\n",
    "                 'team_h_score','total_points']\n",
    "\n",
    "know_feat_df = full_data[known_features]\n",
    "game_features = full_data[game_features]"
   ]
  },
  {
   "cell_type": "code",
   "execution_count": 466,
   "id": "f0e477b3",
   "metadata": {},
   "outputs": [],
   "source": [
    "def roll_match_features(df_match, df_pre_match, roll=3, method='mean'):\n",
    "    '''\n",
    "    Returns the lagged dataframe with a chosen method and lagging window\n",
    "    Adds a 'real_total_points' column\n",
    "    '''\n",
    "    # roll\n",
    "    rolled_df = df_match.groupby('name')\n",
    "    if method == 'mean':\n",
    "        rolled_df = rolled_df.rolling(roll,closed='left').mean()\n",
    "    elif method == 'max':\n",
    "        rolled_df = rolled_df.rolling(roll,closed='left').max()\n",
    "    elif method == 'min':\n",
    "        rolled_df = rolled_df.rolling(roll,closed='left').min()\n",
    "    else: #do a mean() meathod\n",
    "        rolled_df = rolled_df.rolling(roll,closed='left').mean()\n",
    "\n",
    "    rolled_df.reset_index(inplace=True)\n",
    "    \n",
    "    # Add back the un-lagged, real total_points\n",
    "    rolled_df['real_total_points'] = df_match['total_points']\n",
    "    \n",
    "    # Rename the moving average total_points\n",
    "    rolled_df.rename({'total_points':'points_pred'},axis=1, inplace=True)\n",
    "    \n",
    "    # Join the features available pre-match\n",
    "    data = rolled_df.join(df_pre_match[['opponent_team','kickoff_time','was_home',\n",
    "                 'opponent_level','team_level','dreamteam_yearly_average','GW',\n",
    "                  'team_id','season','kickoff_date','position']])\n",
    "    \n",
    "    # Delete the NaN values\n",
    "    data = data[~rolled_game_features.total_points.isnull()]\n",
    "    \n",
    "    return data"
   ]
  },
  {
   "cell_type": "code",
   "execution_count": 467,
   "id": "3602846d",
   "metadata": {},
   "outputs": [],
   "source": [
    "data = roll_match_features(game_features, know_feat_df)"
   ]
  },
  {
   "cell_type": "code",
   "execution_count": 468,
   "id": "0364b66e",
   "metadata": {},
   "outputs": [
    {
     "data": {
      "text/plain": [
       "<matplotlib.collections.PathCollection at 0x136338f10>"
      ]
     },
     "execution_count": 468,
     "metadata": {},
     "output_type": "execute_result"
    },
    {
     "data": {
      "image/png": "[encoded data removed]",
      "text/plain": [
       "<Figure size 432x288 with 1 Axes>"
      ]
     },
     "metadata": {
      "needs_background": "light"
     },
     "output_type": "display_data"
    }
   ],
   "source": [
    "plt.scatter(data['creativity'], data['real_total_points'])"
   ]
  },
  {
   "cell_type": "markdown",
   "id": "ec7f6677",
   "metadata": {
    "heading_collapsed": true
   },
   "source": [
    "### USELESS"
   ]
  },
  {
   "cell_type": "code",
   "execution_count": 235,
   "id": "a6e675f5",
   "metadata": {
    "hidden": true
   },
   "outputs": [],
   "source": [
    "from sklearn.model_selection import train_test_split"
   ]
  },
  {
   "cell_type": "code",
   "execution_count": 273,
   "id": "d772e9d8",
   "metadata": {
    "collapsed": true,
    "hidden": true
   },
   "outputs": [
    {
     "name": "stderr",
     "output_type": "stream",
     "text": [
      "/Users/henrybichot/.pyenv/versions/3.9.1/envs/fflpred/lib/python3.9/site-packages/pandas/core/frame.py:4308: SettingWithCopyWarning: \n",
      "A value is trying to be set on a copy of a slice from a DataFrame\n",
      "\n",
      "See the caveats in the documentation: https://pandas.pydata.org/pandas-docs/stable/user_guide/indexing.html#returning-a-view-versus-a-copy\n",
      "  return super().drop(\n"
     ]
    }
   ],
   "source": [
    "gk_y = gk_data.total_points\n",
    "gk_X = gk_data.drop(\"total_points\", axis=1)\n",
    "# Drop the name\n",
    "gk_X.drop(\"name\", axis = 1, inplace = True)"
   ]
  },
  {
   "cell_type": "code",
   "execution_count": 274,
   "id": "6cd74bd3",
   "metadata": {
    "hidden": true
   },
   "outputs": [],
   "source": [
    "gk_X_train, gk_X_test, gk_y_train, gk_y_test = train_test_split(\n",
    "    gk_X, gk_y, test_size=0.3, random_state=42)"
   ]
  },
  {
   "cell_type": "markdown",
   "id": "d6f4998f",
   "metadata": {
    "hidden": true
   },
   "source": [
    "*** Bool to int ***"
   ]
  },
  {
   "cell_type": "code",
   "execution_count": 275,
   "id": "3690cb25",
   "metadata": {
    "collapsed": true,
    "hidden": true
   },
   "outputs": [
    {
     "name": "stderr",
     "output_type": "stream",
     "text": [
      "/Users/henrybichot/.pyenv/versions/3.9.1/envs/fflpred/lib/python3.9/site-packages/pandas/core/generic.py:5494: SettingWithCopyWarning: \n",
      "A value is trying to be set on a copy of a slice from a DataFrame.\n",
      "Try using .loc[row_indexer,col_indexer] = value instead\n",
      "\n",
      "See the caveats in the documentation: https://pandas.pydata.org/pandas-docs/stable/user_guide/indexing.html#returning-a-view-versus-a-copy\n",
      "  self[name] = value\n"
     ]
    }
   ],
   "source": [
    "gk_X_train.was_home = gk_X_train.was_home.map(int)"
   ]
  },
  {
   "cell_type": "markdown",
   "id": "7b4fa1bc",
   "metadata": {
    "hidden": true
   },
   "source": [
    "*** X_test prep ***\n",
    "\n",
    "- the known feature should be used\n",
    "- match features should be moving averages from previous games"
   ]
  },
  {
   "cell_type": "code",
   "execution_count": null,
   "id": "ad87e494",
   "metadata": {
    "hidden": true
   },
   "outputs": [],
   "source": [
    "known features = [\"opponent_team\", ]"
   ]
  },
  {
   "cell_type": "code",
   "execution_count": 276,
   "id": "b2e58816",
   "metadata": {
    "hidden": true
   },
   "outputs": [
    {
     "data": {
      "text/plain": [
       "Index(['saves', 'bonus', 'bps', 'influence', 'penalties_saved',\n",
       "       'goals_conceded', 'own_goals', 'opponent_team', 'transfers_balance',\n",
       "       'was_home', 'saves', 'value'],\n",
       "      dtype='object')"
      ]
     },
     "execution_count": 276,
     "metadata": {},
     "output_type": "execute_result"
    }
   ],
   "source": [
    "gk_X_test.columns"
   ]
  },
  {
   "cell_type": "code",
   "execution_count": null,
   "id": "de587a0f",
   "metadata": {
    "hidden": true
   },
   "outputs": [],
   "source": []
  }
 ],
 "metadata": {
  "kernelspec": {
   "display_name": "Python 3",
   "language": "python",
   "name": "python3"
  },
  "language_info": {
   "codemirror_mode": {
    "name": "ipython",
    "version": 3
   },
   "file_extension": ".py",
   "mimetype": "text/x-python",
   "name": "python",
   "nbconvert_exporter": "python",
   "pygments_lexer": "ipython3",
   "version": "3.9.1"
  },
  "toc": {
   "base_numbering": 1,
   "nav_menu": {},
   "number_sections": true,
   "sideBar": true,
   "skip_h1_title": false,
   "title_cell": "Table of Contents",
   "title_sidebar": "Contents",
   "toc_cell": false,
   "toc_position": {},
   "toc_section_display": true,
   "toc_window_display": false
  }
 },
 "nbformat": 4,
 "nbformat_minor": 5
}
