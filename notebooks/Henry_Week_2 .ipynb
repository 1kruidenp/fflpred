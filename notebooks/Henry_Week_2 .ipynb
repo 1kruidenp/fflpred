{
 "cells": [
  {
   "cell_type": "code",
   "execution_count": 1,
   "id": "8aea2b50",
   "metadata": {},
   "outputs": [],
   "source": [
    "import pandas as pd\n",
    "import numpy as np\n",
    "import matplotlib.pyplot as plt\n",
    "from merge_years.import_data import get_full_data"
   ]
  },
  {
   "cell_type": "code",
   "execution_count": 167,
   "id": "8cb282cc",
   "metadata": {},
   "outputs": [],
   "source": [
    "full_data = get_full_data('../raw_data')"
   ]
  },
  {
   "cell_type": "code",
   "execution_count": 131,
   "id": "ac4a9c74",
   "metadata": {
    "scrolled": true
   },
   "outputs": [],
   "source": [
    "team_data = full_data[[\"season\",\"opponent_team\",\"team_id\",\"team_name\",\"opponent_level\",\"team_level\"]]"
   ]
  },
  {
   "cell_type": "code",
   "execution_count": 132,
   "id": "49ea993b",
   "metadata": {},
   "outputs": [
    {
     "data": {
      "text/html": [
       "<div>\n",
       "<style scoped>\n",
       "    .dataframe tbody tr th:only-of-type {\n",
       "        vertical-align: middle;\n",
       "    }\n",
       "\n",
       "    .dataframe tbody tr th {\n",
       "        vertical-align: top;\n",
       "    }\n",
       "\n",
       "    .dataframe thead th {\n",
       "        text-align: right;\n",
       "    }\n",
       "</style>\n",
       "<table border=\"1\" class=\"dataframe\">\n",
       "  <thead>\n",
       "    <tr style=\"text-align: right;\">\n",
       "      <th></th>\n",
       "      <th>name</th>\n",
       "      <th>season</th>\n",
       "      <th>was_home</th>\n",
       "      <th>opponent_team</th>\n",
       "      <th>team_id</th>\n",
       "      <th>team_name</th>\n",
       "      <th>opponent_level</th>\n",
       "      <th>team_level</th>\n",
       "    </tr>\n",
       "  </thead>\n",
       "  <tbody>\n",
       "    <tr>\n",
       "      <th>3682</th>\n",
       "      <td>ainsley maitland-niles</td>\n",
       "      <td>20</td>\n",
       "      <td>False</td>\n",
       "      <td>13</td>\n",
       "      <td>1.0</td>\n",
       "      <td>Arsenal</td>\n",
       "      <td>1090.0</td>\n",
       "      <td>1240.0</td>\n",
       "    </tr>\n",
       "    <tr>\n",
       "      <th>3683</th>\n",
       "      <td>ainsley maitland-niles</td>\n",
       "      <td>20</td>\n",
       "      <td>True</td>\n",
       "      <td>5</td>\n",
       "      <td>1.0</td>\n",
       "      <td>Arsenal</td>\n",
       "      <td>1180.0</td>\n",
       "      <td>1180.0</td>\n",
       "    </tr>\n",
       "  </tbody>\n",
       "</table>\n",
       "</div>"
      ],
      "text/plain": [
       "                        name  season  was_home  opponent_team  team_id  \\\n",
       "3682  ainsley maitland-niles      20     False             13      1.0   \n",
       "3683  ainsley maitland-niles      20      True              5      1.0   \n",
       "\n",
       "     team_name  opponent_level  team_level  \n",
       "3682   Arsenal          1090.0      1240.0  \n",
       "3683   Arsenal          1180.0      1180.0  "
      ]
     },
     "execution_count": 132,
     "metadata": {},
     "output_type": "execute_result"
    }
   ],
   "source": [
    "full_data[full_data[\"team_id\"]==1][[\"name\",\"season\",\"was_home\",\"opponent_team\",\"team_id\", \"team_name\",\"opponent_level\",\"team_level\"]].head(2)"
   ]
  },
  {
   "cell_type": "code",
   "execution_count": 163,
   "id": "bab2994a",
   "metadata": {},
   "outputs": [],
   "source": [
    "levels = {1:[1290, 1355],2:[1290, 1330],3:[1235, 1255],4:[1235, 1255],5:[1240, 1260],6:[1220, 1210],7:[1210, 1220],8:[1190, 1245],9:[1170, 1185],10:[1180, 1155],11:[1125, 1100],12:[1075, 1155],13:[1085, 1105],14:[1110, 1115],15:[1055, 1055],16:[1085, 1080],17:[1040, 1060],18:[1055, 1060],19:[1040, 1150],20:[990, 1030]}"
   ]
  },
  {
   "cell_type": "code",
   "execution_count": 160,
   "id": "a3e09a40",
   "metadata": {},
   "outputs": [],
   "source": [
    "full_data[full_data['season']==17]\n",
    "\n",
    "rank_2017 = {1: \"Chelsea\",2: \"Tottenham Hotspur\",3: \"Manchester City\",4: \"Liverpool\",5: \"Arsenal\",6: \"Manchester United\",7: \"Everton\",8: \"Southampton\",9: \"Bournemouth\",10:\"West Bromwich Albion\",11:\"West Ham United\",12:\"Leicester City\",13:\"Stoke City\",14:\"Crystal Palace\",15:\"Swansea City\",16:\"Burnley\",17:\"Watford\",18:\"Hull City\",19:\"Middlesbrough\",20:\"Sunderland\"}"
   ]
  },
  {
   "cell_type": "code",
   "execution_count": 161,
   "id": "f353b7f3",
   "metadata": {},
   "outputs": [],
   "source": [
    "full_data[full_data['season']==18]\n",
    "\n",
    "rank_2018 = {1 : \"Manchester City\",2 : \"Manchester United\",3 : \"Tottenham Hotspur\",4 : \"Liverpool\",5 : \"Chelsea\",6 : \"Arsenal\",7 : \"Burnley\",8 : \"Everton\",9 : \"Leicester City\",10: \"Newcastle United\",11: \"Crystal Palace\",12: \"Bournemouth\",13: \"West Ham United\",14: \"Watford\",15: \"Brighton & Hove Albion\",16: \"Huddersfield Town\",17: \"Southampton\",18: \"Swansea City\",19: \"Stoke City\",20: \"West Bromwich Albio\"}"
   ]
  },
  {
   "cell_type": "code",
   "execution_count": 162,
   "id": "23c7df60",
   "metadata": {},
   "outputs": [],
   "source": [
    "full_data[full_data['season']==19]\n",
    "\n",
    "rank_2019 = {1: \"Manchester City\",2: \"Liverpool\",3: \"Chelsea\",4: \"Tottenham Hotspur\",5: \"Arsenal\",6: \"Manchester United\",7: \"Wolverhampton Wanderers\",8: \"Everton\",9: \"Leicester City\",10:\"West Ham United\",11:\"Watford\",12:\"Crystal Palace\",13:\"Newcastle United\",14:\"Bournemouth\",15:\"Burnley\",16:\"Southampton\",17:\"Brighton & Hove Albion\",18:\"Cardiff City\",19:\"Fulham\",20:\"Huddersfield Town\"}"
   ]
  },
  {
   "cell_type": "code",
   "execution_count": 189,
   "id": "11964cc2",
   "metadata": {},
   "outputs": [
    {
     "data": {
      "text/plain": [
       "23679"
      ]
     },
     "execution_count": 189,
     "metadata": {},
     "output_type": "execute_result"
    }
   ],
   "source": [
    "data_17 = full_data[full_data.season == 17]\n",
    "\n",
    "data_17.team_name.isnull().sum() "
   ]
  },
  {
   "cell_type": "code",
   "execution_count": 196,
   "id": "fffa98fe",
   "metadata": {},
   "outputs": [
    {
     "data": {
      "text/plain": [
       "73         4\n",
       "74         2\n",
       "75        10\n",
       "76        18\n",
       "77        19\n",
       "          ..\n",
       "114823    15\n",
       "114824    10\n",
       "114825     4\n",
       "114826    13\n",
       "114827     9\n",
       "Name: opponent_team, Length: 23679, dtype: int64"
      ]
     },
     "execution_count": 196,
     "metadata": {},
     "output_type": "execute_result"
    }
   ],
   "source": [
    "data_17.opponent_team"
   ]
  },
  {
   "cell_type": "code",
   "execution_count": null,
   "id": "e2b6deab",
   "metadata": {},
   "outputs": [],
   "source": [
    "def team_level(df):\n",
    "    data_17 = df[df.season == 17]\n",
    "    for team in df.team_name.unique():\n",
    "        "
   ]
  }
 ],
 "metadata": {
  "kernelspec": {
   "display_name": "Python 3",
   "language": "python",
   "name": "python3"
  },
  "language_info": {
   "codemirror_mode": {
    "name": "ipython",
    "version": 3
   },
   "file_extension": ".py",
   "mimetype": "text/x-python",
   "name": "python",
   "nbconvert_exporter": "python",
   "pygments_lexer": "ipython3",
   "version": "3.9.1"
  },
  "toc": {
   "base_numbering": 1,
   "nav_menu": {},
   "number_sections": true,
   "sideBar": true,
   "skip_h1_title": false,
   "title_cell": "Table of Contents",
   "title_sidebar": "Contents",
   "toc_cell": false,
   "toc_position": {},
   "toc_section_display": true,
   "toc_window_display": false
  }
 },
 "nbformat": 4,
 "nbformat_minor": 5
}
