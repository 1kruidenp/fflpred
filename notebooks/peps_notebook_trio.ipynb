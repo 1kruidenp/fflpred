{
 "cells": [
  {
   "cell_type": "code",
   "execution_count": 1,
   "id": "63b5d1b6",
   "metadata": {
    "ExecuteTime": {
     "end_time": "2021-06-09T08:16:32.123868Z",
     "start_time": "2021-06-09T08:16:31.530942Z"
    }
   },
   "outputs": [],
   "source": [
    "from merge_years.import_data import get_full_data\n",
    "\n"
   ]
  },
  {
   "cell_type": "code",
   "execution_count": null,
   "id": "ff27a610",
   "metadata": {
    "ExecuteTime": {
     "start_time": "2021-06-09T08:16:31.507Z"
    }
   },
   "outputs": [],
   "source": [
    "complete_data=get_full_data('../raw_data')\n",
    "complete_data.shape"
   ]
  },
  {
   "cell_type": "code",
   "execution_count": null,
   "id": "4fee3996",
   "metadata": {
    "ExecuteTime": {
     "start_time": "2021-06-09T08:16:31.509Z"
    }
   },
   "outputs": [],
   "source": [
    "complete_data.columns"
   ]
  },
  {
   "cell_type": "code",
   "execution_count": null,
   "id": "cd1c558a",
   "metadata": {
    "ExecuteTime": {
     "start_time": "2021-06-09T08:16:31.512Z"
    }
   },
   "outputs": [],
   "source": [
    "complete_data"
   ]
  },
  {
   "cell_type": "code",
   "execution_count": null,
   "id": "d79f4ea6",
   "metadata": {
    "ExecuteTime": {
     "start_time": "2021-06-09T08:16:31.514Z"
    }
   },
   "outputs": [],
   "source": [
    "import pandas as pd"
   ]
  },
  {
   "cell_type": "markdown",
   "id": "a85a971b",
   "metadata": {},
   "source": [
    "# Hi ARMIN the following two cells can be used to make two new columns. The first makes opponent_level and the other makes team_level"
   ]
  },
  {
   "cell_type": "code",
   "execution_count": null,
   "id": "46d3f335",
   "metadata": {
    "ExecuteTime": {
     "start_time": "2021-06-09T08:16:31.515Z"
    }
   },
   "outputs": [],
   "source": [
    "team_playing_home_20={\n",
    "    1:1180,\n",
    "    2:1020,\n",
    "    3:1020,\n",
    "    4:1050,\n",
    "    5:1110,\n",
    "    6:1220,\n",
    "    7:1130,\n",
    "    8:1100,\n",
    "    9:1210,\n",
    "    10:1340,\n",
    "    11:1330,\n",
    "    12:1220,\n",
    "    13:1090,\n",
    "    14:980,\n",
    "    15:1180,\n",
    "    16:1150,\n",
    "    17:1180,\n",
    "    18:1030,\n",
    "    19:1040,\n",
    "    20:1230\n",
    "}\n",
    "\n",
    "team_playing_away_20={\n",
    "    1:1240,\n",
    "    2:1050,\n",
    "    3:1020,\n",
    "    4:1010,\n",
    "    5:1180,\n",
    "    6:1230,\n",
    "    7:1120,\n",
    "    8:1240,\n",
    "    9:1160,\n",
    "    10:1350,\n",
    "    11:1340,\n",
    "    12:1300,\n",
    "    13:1100,\n",
    "    14:1020,\n",
    "    15:1200,\n",
    "    16:1040,\n",
    "    17:1240,\n",
    "    18:1140,\n",
    "    19:1030,\n",
    "    20:1190\n",
    "}\n",
    "\n",
    "team_playing_home_21={\n",
    "    1:1200,\n",
    "    2:1100,\n",
    "    3:1130,\n",
    "    4:1060,\n",
    "    5:1250,\n",
    "    6:1090,\n",
    "    7:1250,\n",
    "    8:1090,\n",
    "    9:1240,\n",
    "    10:1160,\n",
    "    11:1250,\n",
    "    12:1340,\n",
    "    13:1250,\n",
    "    14:1050,\n",
    "    15:1000,\n",
    "    16:1060,\n",
    "    17:1190,\n",
    "    18:1050,\n",
    "    19:1230,\n",
    "    20:1080\n",
    "}\n",
    "\n",
    "team_playing_away_21={\n",
    "    1:1250,\n",
    "    2:1160,\n",
    "    3:1130,\n",
    "    4:1070,\n",
    "    5:1280,\n",
    "    6:1110,\n",
    "    7:1130,\n",
    "    8:1100,\n",
    "    9:1260,\n",
    "    10:1170,\n",
    "    11:1210,\n",
    "    12:1360,\n",
    "    13:1320,\n",
    "    14:1070,\n",
    "    15:1040,\n",
    "    16:1100,\n",
    "    17:1250,\n",
    "    18:1040,\n",
    "    19:1260,\n",
    "    20:1110\n",
    "}\n",
    "\n",
    "df17=complete_data.loc[complete_data['season'] == 17].copy()\n",
    "\n",
    "df18=complete_data.loc[complete_data['season'] == 18].copy()\n",
    "\n",
    "df19=complete_data.loc[complete_data['season'] == 19].copy()\n",
    "\n",
    "df20=complete_data.loc[complete_data['season'] == 20].copy()\n",
    "level=[]\n",
    "for i,row in df20.iterrows():\n",
    "    if row.was_home==True:\n",
    "        level.append(team_playing_away_20[row['opponent_team']])\n",
    "    else:\n",
    "        level.append(team_playing_home_20[row['opponent_team']])\n",
    "df20['opponent_level']=level\n",
    "\n",
    "df21=complete_data.loc[complete_data['season'] == 21].copy()\n",
    "level=[]\n",
    "for i,row in df21.iterrows():\n",
    "    if row.was_home==True:\n",
    "        level.append(team_playing_away_21[row['opponent_team']])\n",
    "    else:\n",
    "        level.append(team_playing_home_21[row['opponent_team']])\n",
    "df21['opponent_level']=level\n",
    "\n",
    "complete_data = pd.concat([df17,df18,df19,df20,df21])"
   ]
  },
  {
   "cell_type": "code",
   "execution_count": null,
   "id": "644ff04e",
   "metadata": {
    "ExecuteTime": {
     "start_time": "2021-06-09T08:16:31.517Z"
    }
   },
   "outputs": [],
   "source": [
    "\n",
    "\n",
    "df17=complete_data.loc[complete_data['season'] == 17].copy()\n",
    "\n",
    "df18=complete_data.loc[complete_data['season'] == 18].copy()\n",
    "\n",
    "df19=complete_data.loc[complete_data['season'] == 19].copy()\n",
    "\n",
    "df20=complete_data.loc[complete_data['season'] == 20].copy()\n",
    "level=[]\n",
    "for i,row in df20.iterrows():\n",
    "    if row.was_home==False:\n",
    "        level.append(team_playing_away_20[row['team_id']])\n",
    "    else:\n",
    "        level.append(team_playing_home_20[row['team_id']])\n",
    "df20['team_level']=level\n",
    "\n",
    "df21=complete_data.loc[complete_data['season'] == 21].copy()\n",
    "level=[]\n",
    "for i,row in df21.iterrows():\n",
    "    if row.was_home==False:\n",
    "        level.append(team_playing_away_21[row['team_id']])\n",
    "    else:\n",
    "        level.append(team_playing_home_21[row['team_id']])\n",
    "df21['team_level']=level\n",
    "\n",
    "complete_data = pd.concat([df17,df18,df19,df20,df21])"
   ]
  },
  {
   "cell_type": "code",
   "execution_count": null,
   "id": "8e3fa909",
   "metadata": {
    "ExecuteTime": {
     "start_time": "2021-06-09T08:16:31.520Z"
    }
   },
   "outputs": [],
   "source": [
    "complete_data"
   ]
  },
  {
   "cell_type": "code",
   "execution_count": null,
   "id": "4fd9da0f",
   "metadata": {
    "ExecuteTime": {
     "start_time": "2021-06-09T08:16:31.522Z"
    }
   },
   "outputs": [],
   "source": [
    "import matplotlib.pyplot as plt"
   ]
  },
  {
   "cell_type": "code",
   "execution_count": null,
   "id": "2a8df6e4",
   "metadata": {
    "ExecuteTime": {
     "start_time": "2021-06-09T08:16:31.523Z"
    }
   },
   "outputs": [],
   "source": [
    "plt.plot(df20[['total_points','team_level']].groupby('team_level').mean())\n",
    "plt.plot(df20[['total_points','opponent_level']].groupby('opponent_level').mean())"
   ]
  },
  {
   "cell_type": "code",
   "execution_count": null,
   "id": "8f69fc9b",
   "metadata": {
    "ExecuteTime": {
     "start_time": "2021-06-09T08:16:31.525Z"
    },
    "scrolled": false
   },
   "outputs": [],
   "source": [
    "plt.plot(df21[['total_points','team_level']].groupby('team_level').mean())\n",
    "plt.plot(df21[['total_points','opponent_level']].groupby('opponent_level').mean())"
   ]
  },
  {
   "cell_type": "code",
   "execution_count": null,
   "id": "231df1d0",
   "metadata": {
    "ExecuteTime": {
     "start_time": "2021-06-09T08:16:31.527Z"
    },
    "scrolled": true
   },
   "outputs": [],
   "source": [
    "complete_data.tail()"
   ]
  },
  {
   "cell_type": "code",
   "execution_count": null,
   "id": "d1a78578",
   "metadata": {
    "ExecuteTime": {
     "start_time": "2021-06-09T08:16:31.529Z"
    }
   },
   "outputs": [],
   "source": [
    "df21=complete_data.loc[complete_data['season'] == 21].copy()"
   ]
  },
  {
   "cell_type": "code",
   "execution_count": null,
   "id": "8c4642d4",
   "metadata": {
    "ExecuteTime": {
     "start_time": "2021-06-09T08:16:31.531Z"
    }
   },
   "outputs": [],
   "source": [
    "df21.head()"
   ]
  },
  {
   "cell_type": "code",
   "execution_count": null,
   "id": "69d87904",
   "metadata": {
    "ExecuteTime": {
     "start_time": "2021-06-09T08:16:31.534Z"
    }
   },
   "outputs": [],
   "source": [
    "df21.shape"
   ]
  }
 ],
 "metadata": {
  "kernelspec": {
   "display_name": "Python 3",
   "language": "python",
   "name": "python3"
  },
  "language_info": {
   "codemirror_mode": {
    "name": "ipython",
    "version": 3
   },
   "file_extension": ".py",
   "mimetype": "text/x-python",
   "name": "python",
   "nbconvert_exporter": "python",
   "pygments_lexer": "ipython3",
   "version": "3.8.6"
  },
  "toc": {
   "base_numbering": 1,
   "nav_menu": {},
   "number_sections": true,
   "sideBar": true,
   "skip_h1_title": false,
   "title_cell": "Table of Contents",
   "title_sidebar": "Contents",
   "toc_cell": false,
   "toc_position": {},
   "toc_section_display": true,
   "toc_window_display": false
  }
 },
 "nbformat": 4,
 "nbformat_minor": 5
}
