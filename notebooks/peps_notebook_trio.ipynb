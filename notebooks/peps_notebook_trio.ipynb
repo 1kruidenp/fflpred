{
 "cells": [
  {
   "cell_type": "code",
   "execution_count": 1,
   "id": "63b5d1b6",
   "metadata": {
    "ExecuteTime": {
     "end_time": "2021-06-09T08:29:19.843893Z",
     "start_time": "2021-06-09T08:29:19.215851Z"
    }
   },
   "outputs": [],
   "source": [
    "from merge_years.import_data import get_full_data\n",
    "\n"
   ]
  },
  {
   "cell_type": "code",
   "execution_count": 2,
   "id": "ff27a610",
   "metadata": {
    "ExecuteTime": {
     "end_time": "2021-06-09T08:30:27.636757Z",
     "start_time": "2021-06-09T08:29:19.847716Z"
    }
   },
   "outputs": [
    {
     "data": {
      "text/plain": [
       "(114992, 40)"
      ]
     },
     "execution_count": 2,
     "metadata": {},
     "output_type": "execute_result"
    }
   ],
   "source": [
    "complete_data=get_full_data('../raw_data')\n",
    "complete_data.shape"
   ]
  },
  {
   "cell_type": "code",
   "execution_count": 3,
   "id": "4fee3996",
   "metadata": {
    "ExecuteTime": {
     "end_time": "2021-06-09T08:30:27.649677Z",
     "start_time": "2021-06-09T08:30:27.640882Z"
    }
   },
   "outputs": [
    {
     "data": {
      "text/plain": [
       "Index(['name', 'assists', 'bonus', 'bps', 'clean_sheets', 'creativity',\n",
       "       'element', 'fixture', 'goals_conceded', 'goals_scored', 'ict_index',\n",
       "       'influence', 'kickoff_time', 'minutes', 'opponent_team', 'own_goals',\n",
       "       'penalties_missed', 'penalties_saved', 'red_cards', 'saves', 'selected',\n",
       "       'team_a_score', 'team_h_score', 'threat', 'total_points',\n",
       "       'transfers_balance', 'transfers_in', 'transfers_out', 'value',\n",
       "       'was_home', 'yellow_cards', 'GW', 'season', 'position',\n",
       "       'dreamteam_yearly_average', 'team_id', 'team_name', 'opponent_level',\n",
       "       'team_level', 'kickoff_date'],\n",
       "      dtype='object')"
      ]
     },
     "execution_count": 3,
     "metadata": {},
     "output_type": "execute_result"
    }
   ],
   "source": [
    "complete_data.columns"
   ]
  },
  {
   "cell_type": "code",
   "execution_count": 4,
   "id": "cd1c558a",
   "metadata": {
    "ExecuteTime": {
     "end_time": "2021-06-09T08:30:27.733209Z",
     "start_time": "2021-06-09T08:30:27.669731Z"
    },
    "scrolled": true
   },
   "outputs": [
    {
     "data": {
      "text/html": [
       "<div>\n",
       "<style scoped>\n",
       "    .dataframe tbody tr th:only-of-type {\n",
       "        vertical-align: middle;\n",
       "    }\n",
       "\n",
       "    .dataframe tbody tr th {\n",
       "        vertical-align: top;\n",
       "    }\n",
       "\n",
       "    .dataframe thead th {\n",
       "        text-align: right;\n",
       "    }\n",
       "</style>\n",
       "<table border=\"1\" class=\"dataframe\">\n",
       "  <thead>\n",
       "    <tr style=\"text-align: right;\">\n",
       "      <th></th>\n",
       "      <th>name</th>\n",
       "      <th>assists</th>\n",
       "      <th>bonus</th>\n",
       "      <th>bps</th>\n",
       "      <th>clean_sheets</th>\n",
       "      <th>creativity</th>\n",
       "      <th>element</th>\n",
       "      <th>fixture</th>\n",
       "      <th>goals_conceded</th>\n",
       "      <th>goals_scored</th>\n",
       "      <th>...</th>\n",
       "      <th>yellow_cards</th>\n",
       "      <th>GW</th>\n",
       "      <th>season</th>\n",
       "      <th>position</th>\n",
       "      <th>dreamteam_yearly_average</th>\n",
       "      <th>team_id</th>\n",
       "      <th>team_name</th>\n",
       "      <th>opponent_level</th>\n",
       "      <th>team_level</th>\n",
       "      <th>kickoff_date</th>\n",
       "    </tr>\n",
       "  </thead>\n",
       "  <tbody>\n",
       "    <tr>\n",
       "      <th>0</th>\n",
       "      <td>aaron connolly</td>\n",
       "      <td>0</td>\n",
       "      <td>0</td>\n",
       "      <td>1</td>\n",
       "      <td>0</td>\n",
       "      <td>0.1</td>\n",
       "      <td>534</td>\n",
       "      <td>37</td>\n",
       "      <td>1</td>\n",
       "      <td>0</td>\n",
       "      <td>...</td>\n",
       "      <td>0</td>\n",
       "      <td>4</td>\n",
       "      <td>20</td>\n",
       "      <td>FWD</td>\n",
       "      <td>NaN</td>\n",
       "      <td>4.0</td>\n",
       "      <td>Brighton</td>\n",
       "      <td>1330.0</td>\n",
       "      <td>1010.0</td>\n",
       "      <td>2019-08-31</td>\n",
       "    </tr>\n",
       "    <tr>\n",
       "      <th>1</th>\n",
       "      <td>aaron connolly</td>\n",
       "      <td>0</td>\n",
       "      <td>0</td>\n",
       "      <td>1</td>\n",
       "      <td>0</td>\n",
       "      <td>0.3</td>\n",
       "      <td>534</td>\n",
       "      <td>43</td>\n",
       "      <td>1</td>\n",
       "      <td>0</td>\n",
       "      <td>...</td>\n",
       "      <td>0</td>\n",
       "      <td>5</td>\n",
       "      <td>20</td>\n",
       "      <td>FWD</td>\n",
       "      <td>NaN</td>\n",
       "      <td>4.0</td>\n",
       "      <td>Brighton</td>\n",
       "      <td>1180.0</td>\n",
       "      <td>1050.0</td>\n",
       "      <td>2019-09-14</td>\n",
       "    </tr>\n",
       "    <tr>\n",
       "      <th>2</th>\n",
       "      <td>aaron connolly</td>\n",
       "      <td>0</td>\n",
       "      <td>0</td>\n",
       "      <td>1</td>\n",
       "      <td>0</td>\n",
       "      <td>4.8</td>\n",
       "      <td>534</td>\n",
       "      <td>58</td>\n",
       "      <td>0</td>\n",
       "      <td>0</td>\n",
       "      <td>...</td>\n",
       "      <td>0</td>\n",
       "      <td>6</td>\n",
       "      <td>20</td>\n",
       "      <td>FWD</td>\n",
       "      <td>NaN</td>\n",
       "      <td>4.0</td>\n",
       "      <td>Brighton</td>\n",
       "      <td>1090.0</td>\n",
       "      <td>1010.0</td>\n",
       "      <td>2019-09-21</td>\n",
       "    </tr>\n",
       "    <tr>\n",
       "      <th>3</th>\n",
       "      <td>aaron connolly</td>\n",
       "      <td>0</td>\n",
       "      <td>0</td>\n",
       "      <td>2</td>\n",
       "      <td>0</td>\n",
       "      <td>0.6</td>\n",
       "      <td>534</td>\n",
       "      <td>63</td>\n",
       "      <td>1</td>\n",
       "      <td>0</td>\n",
       "      <td>...</td>\n",
       "      <td>0</td>\n",
       "      <td>7</td>\n",
       "      <td>20</td>\n",
       "      <td>FWD</td>\n",
       "      <td>NaN</td>\n",
       "      <td>4.0</td>\n",
       "      <td>Brighton</td>\n",
       "      <td>1220.0</td>\n",
       "      <td>1010.0</td>\n",
       "      <td>2019-09-28</td>\n",
       "    </tr>\n",
       "    <tr>\n",
       "      <th>4</th>\n",
       "      <td>aaron connolly</td>\n",
       "      <td>0</td>\n",
       "      <td>3</td>\n",
       "      <td>53</td>\n",
       "      <td>1</td>\n",
       "      <td>23.8</td>\n",
       "      <td>534</td>\n",
       "      <td>72</td>\n",
       "      <td>0</td>\n",
       "      <td>2</td>\n",
       "      <td>...</td>\n",
       "      <td>0</td>\n",
       "      <td>8</td>\n",
       "      <td>20</td>\n",
       "      <td>FWD</td>\n",
       "      <td>NaN</td>\n",
       "      <td>4.0</td>\n",
       "      <td>Brighton</td>\n",
       "      <td>1240.0</td>\n",
       "      <td>1050.0</td>\n",
       "      <td>2019-10-05</td>\n",
       "    </tr>\n",
       "  </tbody>\n",
       "</table>\n",
       "<p>5 rows × 40 columns</p>\n",
       "</div>"
      ],
      "text/plain": [
       "             name  assists  bonus  bps  clean_sheets  creativity  element  \\\n",
       "0  aaron connolly        0      0    1             0         0.1      534   \n",
       "1  aaron connolly        0      0    1             0         0.3      534   \n",
       "2  aaron connolly        0      0    1             0         4.8      534   \n",
       "3  aaron connolly        0      0    2             0         0.6      534   \n",
       "4  aaron connolly        0      3   53             1        23.8      534   \n",
       "\n",
       "   fixture  goals_conceded  goals_scored  ...  yellow_cards  GW season  \\\n",
       "0       37               1             0  ...             0   4     20   \n",
       "1       43               1             0  ...             0   5     20   \n",
       "2       58               0             0  ...             0   6     20   \n",
       "3       63               1             0  ...             0   7     20   \n",
       "4       72               0             2  ...             0   8     20   \n",
       "\n",
       "   position  dreamteam_yearly_average  team_id  team_name  opponent_level  \\\n",
       "0       FWD                       NaN      4.0   Brighton          1330.0   \n",
       "1       FWD                       NaN      4.0   Brighton          1180.0   \n",
       "2       FWD                       NaN      4.0   Brighton          1090.0   \n",
       "3       FWD                       NaN      4.0   Brighton          1220.0   \n",
       "4       FWD                       NaN      4.0   Brighton          1240.0   \n",
       "\n",
       "   team_level  kickoff_date  \n",
       "0      1010.0    2019-08-31  \n",
       "1      1050.0    2019-09-14  \n",
       "2      1010.0    2019-09-21  \n",
       "3      1010.0    2019-09-28  \n",
       "4      1050.0    2019-10-05  \n",
       "\n",
       "[5 rows x 40 columns]"
      ]
     },
     "execution_count": 4,
     "metadata": {},
     "output_type": "execute_result"
    }
   ],
   "source": [
    "complete_data.head()"
   ]
  },
  {
   "cell_type": "code",
   "execution_count": 5,
   "id": "2e6720e3",
   "metadata": {
    "ExecuteTime": {
     "end_time": "2021-06-09T08:30:28.218299Z",
     "start_time": "2021-06-09T08:30:27.738807Z"
    }
   },
   "outputs": [],
   "source": [
    "import matplotlib.pyplot as plt"
   ]
  },
  {
   "cell_type": "code",
   "execution_count": 7,
   "id": "ca2276f1",
   "metadata": {
    "ExecuteTime": {
     "end_time": "2021-06-09T08:30:32.129299Z",
     "start_time": "2021-06-09T08:30:32.071013Z"
    }
   },
   "outputs": [],
   "source": [
    "df21=complete_data.loc[complete_data['season'] == 21].copy()"
   ]
  },
  {
   "cell_type": "code",
   "execution_count": 9,
   "id": "cca18384",
   "metadata": {
    "ExecuteTime": {
     "end_time": "2021-06-09T08:31:45.719263Z",
     "start_time": "2021-06-09T08:31:45.518422Z"
    },
    "scrolled": true
   },
   "outputs": [
    {
     "data": {
      "text/plain": [
       "[<matplotlib.lines.Line2D at 0x113dd9e80>]"
      ]
     },
     "execution_count": 9,
     "metadata": {},
     "output_type": "execute_result"
    },
    {
     "data": {
      "image/png": "[encoded data removed]",
      "text/plain": [
       "<Figure size 432x288 with 1 Axes>"
      ]
     },
     "metadata": {
      "needs_background": "light"
     },
     "output_type": "display_data"
    }
   ],
   "source": [
    "plt.plot(df21[['total_points','team_level']].groupby('team_level').mean())\n",
    "plt.plot(df21[['total_points','opponent_level']].groupby('opponent_level').mean())"
   ]
  },
  {
   "cell_type": "code",
   "execution_count": 12,
   "id": "478a322d",
   "metadata": {
    "ExecuteTime": {
     "end_time": "2021-06-09T08:42:16.476892Z",
     "start_time": "2021-06-09T08:42:16.470334Z"
    }
   },
   "outputs": [],
   "source": [
    "import pandas as pd"
   ]
  },
  {
   "cell_type": "code",
   "execution_count": 27,
   "id": "201f929f",
   "metadata": {
    "ExecuteTime": {
     "end_time": "2021-06-09T08:48:25.351207Z",
     "start_time": "2021-06-09T08:48:25.145455Z"
    }
   },
   "outputs": [
    {
     "data": {
      "text/plain": [
       "[<matplotlib.lines.Line2D at 0x114107760>]"
      ]
     },
     "execution_count": 27,
     "metadata": {},
     "output_type": "execute_result"
    },
    {
     "data": {
      "image/png": "[encoded data removed]",
      "text/plain": [
       "<Figure size 432x288 with 1 Axes>"
      ]
     },
     "metadata": {
      "needs_background": "light"
     },
     "output_type": "display_data"
    }
   ],
   "source": [
    "plt.plot(df21[['total_points','team_level']].groupby('team_level').mean())\n",
    "plt.plot(df21[['total_points','opponent_level']].groupby('opponent_level').mean())"
   ]
  },
  {
   "cell_type": "code",
   "execution_count": 25,
   "id": "56bbfcb1",
   "metadata": {
    "ExecuteTime": {
     "end_time": "2021-06-09T08:47:22.834927Z",
     "start_time": "2021-06-09T08:47:22.573077Z"
    }
   },
   "outputs": [
    {
     "data": {
      "text/plain": [
       "[<matplotlib.lines.Line2D at 0x1145bbf40>]"
      ]
     },
     "execution_count": 25,
     "metadata": {},
     "output_type": "execute_result"
    },
    {
     "data": {
      "image/png": "[encoded data removed]",
      "text/plain": [
       "<Figure size 432x288 with 1 Axes>"
      ]
     },
     "metadata": {
      "needs_background": "light"
     },
     "output_type": "display_data"
    }
   ],
   "source": [
    "X=df21['team_level']-df21['opponent_level']\n",
    "y=df21['total_points']\n",
    "\n",
    "d={'overall_level':X,'total_points':y}\n",
    "abc=pd.DataFrame(d)\n",
    "abc\n",
    "plt.plot(abc.groupby('overall_level').mean())"
   ]
  },
  {
   "cell_type": "code",
   "execution_count": null,
   "id": "d79f4ea6",
   "metadata": {
    "ExecuteTime": {
     "end_time": "2021-06-09T08:30:28.388632Z",
     "start_time": "2021-06-09T08:29:19.204Z"
    }
   },
   "outputs": [],
   "source": [
    "import pandas as pd"
   ]
  },
  {
   "cell_type": "markdown",
   "id": "a85a971b",
   "metadata": {},
   "source": [
    "# Hi ARMIN the following two cells can be used to make two new columns. The first makes opponent_level and the other makes team_level"
   ]
  },
  {
   "cell_type": "code",
   "execution_count": null,
   "id": "453c2353",
   "metadata": {
    "ExecuteTime": {
     "end_time": "2021-06-09T08:30:28.390926Z",
     "start_time": "2021-06-09T08:29:19.207Z"
    }
   },
   "outputs": [],
   "source": [
    "acsjdsjk"
   ]
  },
  {
   "cell_type": "code",
   "execution_count": null,
   "id": "46d3f335",
   "metadata": {
    "ExecuteTime": {
     "end_time": "2021-06-09T08:30:28.393071Z",
     "start_time": "2021-06-09T08:29:19.209Z"
    }
   },
   "outputs": [],
   "source": [
    "team_playing_home_20={\n",
    "    1:1180,\n",
    "    2:1020,\n",
    "    3:1020,\n",
    "    4:1050,\n",
    "    5:1110,\n",
    "    6:1220,\n",
    "    7:1130,\n",
    "    8:1100,\n",
    "    9:1210,\n",
    "    10:1340,\n",
    "    11:1330,\n",
    "    12:1220,\n",
    "    13:1090,\n",
    "    14:980,\n",
    "    15:1180,\n",
    "    16:1150,\n",
    "    17:1180,\n",
    "    18:1030,\n",
    "    19:1040,\n",
    "    20:1230\n",
    "}\n",
    "\n",
    "team_playing_away_20={\n",
    "    1:1240,\n",
    "    2:1050,\n",
    "    3:1020,\n",
    "    4:1010,\n",
    "    5:1180,\n",
    "    6:1230,\n",
    "    7:1120,\n",
    "    8:1240,\n",
    "    9:1160,\n",
    "    10:1350,\n",
    "    11:1340,\n",
    "    12:1300,\n",
    "    13:1100,\n",
    "    14:1020,\n",
    "    15:1200,\n",
    "    16:1040,\n",
    "    17:1240,\n",
    "    18:1140,\n",
    "    19:1030,\n",
    "    20:1190\n",
    "}\n",
    "\n",
    "team_playing_home_21={\n",
    "    1:1200,\n",
    "    2:1100,\n",
    "    3:1130,\n",
    "    4:1060,\n",
    "    5:1250,\n",
    "    6:1090,\n",
    "    7:1250,\n",
    "    8:1090,\n",
    "    9:1240,\n",
    "    10:1160,\n",
    "    11:1250,\n",
    "    12:1340,\n",
    "    13:1250,\n",
    "    14:1050,\n",
    "    15:1000,\n",
    "    16:1060,\n",
    "    17:1190,\n",
    "    18:1050,\n",
    "    19:1230,\n",
    "    20:1080\n",
    "}\n",
    "\n",
    "team_playing_away_21={\n",
    "    1:1250,\n",
    "    2:1160,\n",
    "    3:1130,\n",
    "    4:1070,\n",
    "    5:1280,\n",
    "    6:1110,\n",
    "    7:1130,\n",
    "    8:1100,\n",
    "    9:1260,\n",
    "    10:1170,\n",
    "    11:1210,\n",
    "    12:1360,\n",
    "    13:1320,\n",
    "    14:1070,\n",
    "    15:1040,\n",
    "    16:1100,\n",
    "    17:1250,\n",
    "    18:1040,\n",
    "    19:1260,\n",
    "    20:1110\n",
    "}\n",
    "\n",
    "df17=complete_data.loc[complete_data['season'] == 17].copy()\n",
    "\n",
    "df18=complete_data.loc[complete_data['season'] == 18].copy()\n",
    "\n",
    "df19=complete_data.loc[complete_data['season'] == 19].copy()\n",
    "\n",
    "df20=complete_data.loc[complete_data['season'] == 20].copy()\n",
    "level=[]\n",
    "for i,row in df20.iterrows():\n",
    "    if row.was_home==True:\n",
    "        level.append(team_playing_away_20[row['opponent_team']])\n",
    "    else:\n",
    "        level.append(team_playing_home_20[row['opponent_team']])\n",
    "df20['opponent_level']=level\n",
    "\n",
    "df21=complete_data.loc[complete_data['season'] == 21].copy()\n",
    "level=[]\n",
    "for i,row in df21.iterrows():\n",
    "    if row.was_home==True:\n",
    "        level.append(team_playing_away_21[row['opponent_team']])\n",
    "    else:\n",
    "        level.append(team_playing_home_21[row['opponent_team']])\n",
    "df21['opponent_level']=level\n",
    "\n",
    "complete_data = pd.concat([df17,df18,df19,df20,df21])"
   ]
  },
  {
   "cell_type": "code",
   "execution_count": null,
   "id": "644ff04e",
   "metadata": {
    "ExecuteTime": {
     "end_time": "2021-06-09T08:30:28.395551Z",
     "start_time": "2021-06-09T08:29:19.212Z"
    }
   },
   "outputs": [],
   "source": [
    "\n",
    "\n",
    "df17=complete_data.loc[complete_data['season'] == 17].copy()\n",
    "\n",
    "df18=complete_data.loc[complete_data['season'] == 18].copy()\n",
    "\n",
    "df19=complete_data.loc[complete_data['season'] == 19].copy()\n",
    "\n",
    "df20=complete_data.loc[complete_data['season'] == 20].copy()\n",
    "level=[]\n",
    "for i,row in df20.iterrows():\n",
    "    if row.was_home==False:\n",
    "        level.append(team_playing_away_20[row['team_id']])\n",
    "    else:\n",
    "        level.append(team_playing_home_20[row['team_id']])\n",
    "df20['team_level']=level\n",
    "\n",
    "df21=complete_data.loc[complete_data['season'] == 21].copy()\n",
    "level=[]\n",
    "for i,row in df21.iterrows():\n",
    "    if row.was_home==False:\n",
    "        level.append(team_playing_away_21[row['team_id']])\n",
    "    else:\n",
    "        level.append(team_playing_home_21[row['team_id']])\n",
    "df21['team_level']=level\n",
    "\n",
    "complete_data = pd.concat([df17,df18,df19,df20,df21])"
   ]
  },
  {
   "cell_type": "code",
   "execution_count": null,
   "id": "8e3fa909",
   "metadata": {
    "ExecuteTime": {
     "end_time": "2021-06-09T08:30:28.398044Z",
     "start_time": "2021-06-09T08:29:19.213Z"
    }
   },
   "outputs": [],
   "source": [
    "complete_data"
   ]
  },
  {
   "cell_type": "code",
   "execution_count": null,
   "id": "4fd9da0f",
   "metadata": {
    "ExecuteTime": {
     "end_time": "2021-06-09T08:30:28.403524Z",
     "start_time": "2021-06-09T08:29:19.215Z"
    }
   },
   "outputs": [],
   "source": [
    "import matplotlib.pyplot as plt"
   ]
  },
  {
   "cell_type": "code",
   "execution_count": null,
   "id": "2a8df6e4",
   "metadata": {
    "ExecuteTime": {
     "end_time": "2021-06-09T08:30:28.414426Z",
     "start_time": "2021-06-09T08:29:19.216Z"
    }
   },
   "outputs": [],
   "source": [
    "plt.plot(df20[['total_points','team_level']].groupby('team_level').mean())\n",
    "plt.plot(df20[['total_points','opponent_level']].groupby('opponent_level').mean())"
   ]
  },
  {
   "cell_type": "code",
   "execution_count": null,
   "id": "8f69fc9b",
   "metadata": {
    "ExecuteTime": {
     "end_time": "2021-06-09T08:30:28.466280Z",
     "start_time": "2021-06-09T08:29:19.217Z"
    },
    "scrolled": false
   },
   "outputs": [],
   "source": [
    "plt.plot(df21[['total_points','team_level']].groupby('team_level').mean())\n",
    "plt.plot(df21[['total_points','opponent_level']].groupby('opponent_level').mean())"
   ]
  },
  {
   "cell_type": "code",
   "execution_count": null,
   "id": "231df1d0",
   "metadata": {
    "ExecuteTime": {
     "end_time": "2021-06-09T08:30:28.470767Z",
     "start_time": "2021-06-09T08:29:19.218Z"
    },
    "scrolled": true
   },
   "outputs": [],
   "source": [
    "complete_data.tail()"
   ]
  },
  {
   "cell_type": "code",
   "execution_count": null,
   "id": "d1a78578",
   "metadata": {
    "ExecuteTime": {
     "end_time": "2021-06-09T08:30:28.473171Z",
     "start_time": "2021-06-09T08:29:19.220Z"
    }
   },
   "outputs": [],
   "source": [
    "df21=complete_data.loc[complete_data['season'] == 21].copy()"
   ]
  },
  {
   "cell_type": "code",
   "execution_count": null,
   "id": "8c4642d4",
   "metadata": {
    "ExecuteTime": {
     "end_time": "2021-06-09T08:30:28.475501Z",
     "start_time": "2021-06-09T08:29:19.222Z"
    }
   },
   "outputs": [],
   "source": [
    "df21.head()"
   ]
  },
  {
   "cell_type": "code",
   "execution_count": null,
   "id": "69d87904",
   "metadata": {
    "ExecuteTime": {
     "end_time": "2021-06-09T08:30:28.478329Z",
     "start_time": "2021-06-09T08:29:19.224Z"
    }
   },
   "outputs": [],
   "source": [
    "df21.shape"
   ]
  }
 ],
 "metadata": {
  "kernelspec": {
   "display_name": "Python 3",
   "language": "python",
   "name": "python3"
  },
  "language_info": {
   "codemirror_mode": {
    "name": "ipython",
    "version": 3
   },
   "file_extension": ".py",
   "mimetype": "text/x-python",
   "name": "python",
   "nbconvert_exporter": "python",
   "pygments_lexer": "ipython3",
   "version": "3.8.6"
  },
  "toc": {
   "base_numbering": 1,
   "nav_menu": {},
   "number_sections": true,
   "sideBar": true,
   "skip_h1_title": false,
   "title_cell": "Table of Contents",
   "title_sidebar": "Contents",
   "toc_cell": false,
   "toc_position": {},
   "toc_section_display": true,
   "toc_window_display": false
  }
 },
 "nbformat": 4,
 "nbformat_minor": 5
}
