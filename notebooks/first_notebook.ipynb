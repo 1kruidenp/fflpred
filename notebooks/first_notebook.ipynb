{
 "cells": [
  {
   "cell_type": "markdown",
   "id": "3ddd7f50",
   "metadata": {},
   "source": [
    "# Notebbook #1 Exploring the \n"
   ]
  },
  {
   "cell_type": "code",
   "execution_count": 1,
   "id": "7357827b",
   "metadata": {},
   "outputs": [],
   "source": [
    "import pandas as pd\n",
    "import numpy as np"
   ]
  },
  {
   "cell_type": "markdown",
   "id": "74a5402c",
   "metadata": {
    "heading_collapsed": true
   },
   "source": [
    "### IMPORT data"
   ]
  },
  {
   "cell_type": "code",
   "execution_count": 2,
   "id": "52330c6c",
   "metadata": {
    "hidden": true
   },
   "outputs": [],
   "source": [
    "from merge_years.import_data import get_full_data"
   ]
  },
  {
   "cell_type": "code",
   "execution_count": 3,
   "id": "7fe628a5",
   "metadata": {
    "hidden": true
   },
   "outputs": [],
   "source": [
    "full_data = get_full_data('../raw_data')"
   ]
  },
  {
   "cell_type": "markdown",
   "id": "f4afae28",
   "metadata": {
    "heading_collapsed": true
   },
   "source": [
    "### *** LAST 4 GAMES FUNCTION ***\n",
    "\n",
    "input a feature and get a summary of that features in the last 4 games (av and values)"
   ]
  },
  {
   "cell_type": "code",
   "execution_count": 4,
   "id": "24ddac62",
   "metadata": {
    "hidden": true
   },
   "outputs": [
    {
     "data": {
      "text/html": [
       "<div>\n",
       "<style scoped>\n",
       "    .dataframe tbody tr th:only-of-type {\n",
       "        vertical-align: middle;\n",
       "    }\n",
       "\n",
       "    .dataframe tbody tr th {\n",
       "        vertical-align: top;\n",
       "    }\n",
       "\n",
       "    .dataframe thead th {\n",
       "        text-align: right;\n",
       "    }\n",
       "</style>\n",
       "<table border=\"1\" class=\"dataframe\">\n",
       "  <thead>\n",
       "    <tr style=\"text-align: right;\">\n",
       "      <th></th>\n",
       "      <th>name</th>\n",
       "      <th>GW</th>\n",
       "      <th>kickoff_time</th>\n",
       "      <th>minutes</th>\n",
       "      <th>value</th>\n",
       "    </tr>\n",
       "  </thead>\n",
       "  <tbody>\n",
       "    <tr>\n",
       "      <th>89073</th>\n",
       "      <td>paul pogba</td>\n",
       "      <td>32.0</td>\n",
       "      <td>15:00:00</td>\n",
       "      <td>90.000000</td>\n",
       "      <td>76.0</td>\n",
       "    </tr>\n",
       "    <tr>\n",
       "      <th>89074</th>\n",
       "      <td>paul pogba</td>\n",
       "      <td>33.0</td>\n",
       "      <td>13:00:00</td>\n",
       "      <td>14.000000</td>\n",
       "      <td>76.0</td>\n",
       "    </tr>\n",
       "    <tr>\n",
       "      <th>89075</th>\n",
       "      <td>paul pogba</td>\n",
       "      <td>35.0</td>\n",
       "      <td>13:05:00</td>\n",
       "      <td>90.000000</td>\n",
       "      <td>76.0</td>\n",
       "    </tr>\n",
       "    <tr>\n",
       "      <th>89076</th>\n",
       "      <td>paul pogba</td>\n",
       "      <td>35.0</td>\n",
       "      <td>17:00:00</td>\n",
       "      <td>0.000000</td>\n",
       "      <td>76.0</td>\n",
       "    </tr>\n",
       "    <tr>\n",
       "      <th>89077</th>\n",
       "      <td>paul pogba</td>\n",
       "      <td>35.0</td>\n",
       "      <td>19:15:00</td>\n",
       "      <td>90.000000</td>\n",
       "      <td>76.0</td>\n",
       "    </tr>\n",
       "    <tr>\n",
       "      <th>89078</th>\n",
       "      <td>paul pogba</td>\n",
       "      <td>37.0</td>\n",
       "      <td>17:00:00</td>\n",
       "      <td>90.000000</td>\n",
       "      <td>76.0</td>\n",
       "    </tr>\n",
       "    <tr>\n",
       "      <th>89079</th>\n",
       "      <td>paul pogba</td>\n",
       "      <td>38.0</td>\n",
       "      <td>15:00:00</td>\n",
       "      <td>0.000000</td>\n",
       "      <td>76.0</td>\n",
       "    </tr>\n",
       "    <tr>\n",
       "      <th>mean</th>\n",
       "      <td>NaN</td>\n",
       "      <td>35.0</td>\n",
       "      <td>NaN</td>\n",
       "      <td>53.428571</td>\n",
       "      <td>76.0</td>\n",
       "    </tr>\n",
       "  </tbody>\n",
       "</table>\n",
       "</div>"
      ],
      "text/plain": [
       "             name    GW kickoff_time    minutes  value\n",
       "89073  paul pogba  32.0     15:00:00  90.000000   76.0\n",
       "89074  paul pogba  33.0     13:00:00  14.000000   76.0\n",
       "89075  paul pogba  35.0     13:05:00  90.000000   76.0\n",
       "89076  paul pogba  35.0     17:00:00   0.000000   76.0\n",
       "89077  paul pogba  35.0     19:15:00  90.000000   76.0\n",
       "89078  paul pogba  37.0     17:00:00  90.000000   76.0\n",
       "89079  paul pogba  38.0     15:00:00   0.000000   76.0\n",
       "mean          NaN  35.0          NaN  53.428571   76.0"
      ]
     },
     "execution_count": 4,
     "metadata": {},
     "output_type": "execute_result"
    }
   ],
   "source": [
    "def summary(player, features, games = 4):\n",
    "    features[0:0] = ['name', 'GW', 'kickoff_time']\n",
    "    df = full_data[full_data['name'] == player]\n",
    "    df = df[features].tail(games)\n",
    "    df.loc['mean'] = df.mean()\n",
    "    return df\n",
    "\n",
    "summary(\"paul pogba\", [\"minutes\", \"value\"], 7)"
   ]
  },
  {
   "cell_type": "markdown",
   "id": "3517d1e6",
   "metadata": {
    "heading_collapsed": true
   },
   "source": [
    "### Function : player focus \n",
    "\n",
    "Lloris, Pogba, Van Dijk"
   ]
  },
  {
   "cell_type": "code",
   "execution_count": 80,
   "id": "73af7cee",
   "metadata": {
    "hidden": true
   },
   "outputs": [],
   "source": [
    "def player_focus(players):\n",
    "    frames = []\n",
    "    for player in players:\n",
    "        player_stats = full_data[full_data[\"name\"] == player]\n",
    "        frames.append(player_stats)\n",
    "    return pd.concat(frames) "
   ]
  },
  {
   "cell_type": "code",
   "execution_count": 81,
   "id": "41d9d77e",
   "metadata": {
    "hidden": true
   },
   "outputs": [
    {
     "data": {
      "text/plain": [
       "(570, 35)"
      ]
     },
     "execution_count": 81,
     "metadata": {},
     "output_type": "execute_result"
    }
   ],
   "source": [
    "players = [\"virgil van dijk\", \"paul pogba\", \"hugo lloris\"]\n",
    "test_dataset = player_focus(players)\n",
    "test_dataset.shape"
   ]
  },
  {
   "cell_type": "code",
   "execution_count": 92,
   "id": "0b8f3b6a",
   "metadata": {
    "hidden": true
   },
   "outputs": [
    {
     "data": {
      "text/plain": [
       "570"
      ]
     },
     "execution_count": 92,
     "metadata": {},
     "output_type": "execute_result"
    }
   ],
   "source": [
    "test_dataset.shape[0]"
   ]
  },
  {
   "cell_type": "markdown",
   "id": "fb0f26df",
   "metadata": {
    "heading_collapsed": true,
    "hidden": true
   },
   "source": [
    "#### bullshit"
   ]
  },
  {
   "cell_type": "markdown",
   "id": "edf67cd9",
   "metadata": {
    "hidden": true
   },
   "source": [
    "*** SET THE INDEX ***"
   ]
  },
  {
   "cell_type": "code",
   "execution_count": 8,
   "id": "4265b254",
   "metadata": {
    "hidden": true
   },
   "outputs": [],
   "source": [
    "test_dataset = test_dataset.set_index(np.linspace(1, test_dataset.shape[0], num=test_dataset.shape[0], dtype=int))"
   ]
  },
  {
   "cell_type": "code",
   "execution_count": 9,
   "id": "b0c44218",
   "metadata": {
    "hidden": true
   },
   "outputs": [
    {
     "data": {
      "text/html": [
       "<div>\n",
       "<style scoped>\n",
       "    .dataframe tbody tr th:only-of-type {\n",
       "        vertical-align: middle;\n",
       "    }\n",
       "\n",
       "    .dataframe tbody tr th {\n",
       "        vertical-align: top;\n",
       "    }\n",
       "\n",
       "    .dataframe thead th {\n",
       "        text-align: right;\n",
       "    }\n",
       "</style>\n",
       "<table border=\"1\" class=\"dataframe\">\n",
       "  <thead>\n",
       "    <tr style=\"text-align: right;\">\n",
       "      <th></th>\n",
       "      <th>total_points</th>\n",
       "    </tr>\n",
       "  </thead>\n",
       "  <tbody>\n",
       "    <tr>\n",
       "      <th>1</th>\n",
       "      <td>1</td>\n",
       "    </tr>\n",
       "    <tr>\n",
       "      <th>2</th>\n",
       "      <td>1</td>\n",
       "    </tr>\n",
       "    <tr>\n",
       "      <th>3</th>\n",
       "      <td>2</td>\n",
       "    </tr>\n",
       "    <tr>\n",
       "      <th>4</th>\n",
       "      <td>0</td>\n",
       "    </tr>\n",
       "    <tr>\n",
       "      <th>5</th>\n",
       "      <td>7</td>\n",
       "    </tr>\n",
       "  </tbody>\n",
       "</table>\n",
       "</div>"
      ],
      "text/plain": [
       "   total_points\n",
       "1             1\n",
       "2             1\n",
       "3             2\n",
       "4             0\n",
       "5             7"
      ]
     },
     "execution_count": 9,
     "metadata": {},
     "output_type": "execute_result"
    }
   ],
   "source": [
    "test_dataset[[\"total_points\"]].iloc[[1,2,3]]\n",
    "test_dataset[[\"total_points\"]].head()"
   ]
  },
  {
   "cell_type": "markdown",
   "id": "74f7cc94",
   "metadata": {},
   "source": [
    "### SET MOVING AVERAGE for all dataset"
   ]
  },
  {
   "cell_type": "markdown",
   "id": "e6740d84",
   "metadata": {
    "heading_collapsed": true
   },
   "source": [
    "#### function"
   ]
  },
  {
   "cell_type": "code",
   "execution_count": 114,
   "id": "46700037",
   "metadata": {
    "hidden": true,
    "scrolled": false
   },
   "outputs": [
    {
     "name": "stdout",
     "output_type": "stream",
     "text": [
      "input shape = (114937, 35)\n",
      "# players = 1515\n"
     ]
    },
    {
     "name": "stderr",
     "output_type": "stream",
     "text": [
      "<ipython-input-114-f61006fa6b95>:22: SettingWithCopyWarning: \n",
      "A value is trying to be set on a copy of a slice from a DataFrame.\n",
      "Try using .loc[row_indexer,col_indexer] = value instead\n",
      "\n",
      "See the caveats in the documentation: https://pandas.pydata.org/pandas-docs/stable/user_guide/indexing.html#returning-a-view-versus-a-copy\n",
      "  unique_player_df[\"moving_a\"] = unique_player_df[f'{points}'].rolling(days,closed=\"left\").mean()\n"
     ]
    },
    {
     "name": "stdout",
     "output_type": "stream",
     "text": [
      "output shape = (114937, 36)\n"
     ]
    }
   ],
   "source": [
    "def moving_a(df, points = 'total_points', days = 4):\n",
    "    \n",
    "    ### check shape of input df\n",
    "    print(f\"input shape = {df.shape}\")\n",
    "    \n",
    "    # get a list of all players\n",
    "    players_list = df.name.unique()\n",
    "    \n",
    "    # preparing the list of dataframe of each players with their m_a scores\n",
    "    # we will conncat these back later to make the output df\n",
    "    players_df_with_ma = []\n",
    "    \n",
    "    ### print how many players are in the df\n",
    "    print(f\"# players = {len(players_list)}\")\n",
    "    \n",
    "    for player in players_list:\n",
    "        \n",
    "        # creating a unique DF for each player\n",
    "        unique_player_df = df[df[\"name\"] == player]\n",
    "        \n",
    "        # adding the moving average for each player\n",
    "        unique_player_df[\"moving_a\"] = unique_player_df[f'{points}'].rolling(days,closed=\"left\").mean()\n",
    "        \n",
    "        #appending each player's DF to the list of players DFs\n",
    "        players_df_with_ma.append(unique_player_df)\n",
    "        \n",
    "    #concatenating players df into the output df\n",
    "    output = pd.concat(players_df_with_ma)\n",
    "    \n",
    "    ### check shape of output df\n",
    "    print(f\"output shape = {output.shape}\")\n",
    "    return output\n",
    "\n",
    "full_data_ma = moving_a(full_data, days =3)"
   ]
  },
  {
   "cell_type": "markdown",
   "id": "bab96825",
   "metadata": {
    "heading_collapsed": true
   },
   "source": [
    "#### Other"
   ]
  },
  {
   "cell_type": "markdown",
   "id": "9837f452",
   "metadata": {
    "hidden": true
   },
   "source": [
    "*** Number of rows without a moving_a ***"
   ]
  },
  {
   "cell_type": "code",
   "execution_count": 108,
   "id": "26c65753",
   "metadata": {
    "hidden": true
   },
   "outputs": [
    {
     "data": {
      "text/plain": [
       "False    108952\n",
       "True       5985\n",
       "Name: moving_a, dtype: int64"
      ]
     },
     "execution_count": 108,
     "metadata": {},
     "output_type": "execute_result"
    }
   ],
   "source": [
    "full_data_ma.moving_a.isna().value_counts()"
   ]
  },
  {
   "cell_type": "code",
   "execution_count": 12,
   "id": "4881e21e",
   "metadata": {
    "collapsed": true,
    "hidden": true
   },
   "outputs": [
    {
     "data": {
      "text/html": [
       "<div>\n",
       "<style scoped>\n",
       "    .dataframe tbody tr th:only-of-type {\n",
       "        vertical-align: middle;\n",
       "    }\n",
       "\n",
       "    .dataframe tbody tr th {\n",
       "        vertical-align: top;\n",
       "    }\n",
       "\n",
       "    .dataframe thead th {\n",
       "        text-align: right;\n",
       "    }\n",
       "</style>\n",
       "<table border=\"1\" class=\"dataframe\">\n",
       "  <thead>\n",
       "    <tr style=\"text-align: right;\">\n",
       "      <th></th>\n",
       "      <th>name</th>\n",
       "      <th>season</th>\n",
       "      <th>GW</th>\n",
       "      <th>total_points</th>\n",
       "      <th>moving_a</th>\n",
       "    </tr>\n",
       "  </thead>\n",
       "  <tbody>\n",
       "    <tr>\n",
       "      <th>88890</th>\n",
       "      <td>paul pogba</td>\n",
       "      <td>17</td>\n",
       "      <td>1</td>\n",
       "      <td>0</td>\n",
       "      <td>NaN</td>\n",
       "    </tr>\n",
       "    <tr>\n",
       "      <th>88891</th>\n",
       "      <td>paul pogba</td>\n",
       "      <td>17</td>\n",
       "      <td>2</td>\n",
       "      <td>3</td>\n",
       "      <td>NaN</td>\n",
       "    </tr>\n",
       "    <tr>\n",
       "      <th>88892</th>\n",
       "      <td>paul pogba</td>\n",
       "      <td>17</td>\n",
       "      <td>3</td>\n",
       "      <td>3</td>\n",
       "      <td>NaN</td>\n",
       "    </tr>\n",
       "    <tr>\n",
       "      <th>88893</th>\n",
       "      <td>paul pogba</td>\n",
       "      <td>17</td>\n",
       "      <td>4</td>\n",
       "      <td>2</td>\n",
       "      <td>2.00</td>\n",
       "    </tr>\n",
       "    <tr>\n",
       "      <th>88894</th>\n",
       "      <td>paul pogba</td>\n",
       "      <td>17</td>\n",
       "      <td>5</td>\n",
       "      <td>1</td>\n",
       "      <td>2.25</td>\n",
       "    </tr>\n",
       "    <tr>\n",
       "      <th>88895</th>\n",
       "      <td>paul pogba</td>\n",
       "      <td>17</td>\n",
       "      <td>6</td>\n",
       "      <td>8</td>\n",
       "      <td>3.50</td>\n",
       "    </tr>\n",
       "    <tr>\n",
       "      <th>88896</th>\n",
       "      <td>paul pogba</td>\n",
       "      <td>17</td>\n",
       "      <td>7</td>\n",
       "      <td>2</td>\n",
       "      <td>3.25</td>\n",
       "    </tr>\n",
       "    <tr>\n",
       "      <th>88897</th>\n",
       "      <td>paul pogba</td>\n",
       "      <td>17</td>\n",
       "      <td>8</td>\n",
       "      <td>3</td>\n",
       "      <td>3.50</td>\n",
       "    </tr>\n",
       "    <tr>\n",
       "      <th>88898</th>\n",
       "      <td>paul pogba</td>\n",
       "      <td>17</td>\n",
       "      <td>9</td>\n",
       "      <td>1</td>\n",
       "      <td>3.50</td>\n",
       "    </tr>\n",
       "    <tr>\n",
       "      <th>88899</th>\n",
       "      <td>paul pogba</td>\n",
       "      <td>17</td>\n",
       "      <td>10</td>\n",
       "      <td>2</td>\n",
       "      <td>2.00</td>\n",
       "    </tr>\n",
       "    <tr>\n",
       "      <th>88900</th>\n",
       "      <td>paul pogba</td>\n",
       "      <td>17</td>\n",
       "      <td>11</td>\n",
       "      <td>8</td>\n",
       "      <td>3.50</td>\n",
       "    </tr>\n",
       "    <tr>\n",
       "      <th>88901</th>\n",
       "      <td>paul pogba</td>\n",
       "      <td>17</td>\n",
       "      <td>12</td>\n",
       "      <td>2</td>\n",
       "      <td>3.25</td>\n",
       "    </tr>\n",
       "    <tr>\n",
       "      <th>88902</th>\n",
       "      <td>paul pogba</td>\n",
       "      <td>17</td>\n",
       "      <td>13</td>\n",
       "      <td>5</td>\n",
       "      <td>4.25</td>\n",
       "    </tr>\n",
       "    <tr>\n",
       "      <th>88903</th>\n",
       "      <td>paul pogba</td>\n",
       "      <td>17</td>\n",
       "      <td>14</td>\n",
       "      <td>2</td>\n",
       "      <td>4.25</td>\n",
       "    </tr>\n",
       "    <tr>\n",
       "      <th>88904</th>\n",
       "      <td>paul pogba</td>\n",
       "      <td>17</td>\n",
       "      <td>15</td>\n",
       "      <td>2</td>\n",
       "      <td>2.75</td>\n",
       "    </tr>\n",
       "    <tr>\n",
       "      <th>88905</th>\n",
       "      <td>paul pogba</td>\n",
       "      <td>17</td>\n",
       "      <td>16</td>\n",
       "      <td>12</td>\n",
       "      <td>5.25</td>\n",
       "    </tr>\n",
       "    <tr>\n",
       "      <th>88906</th>\n",
       "      <td>paul pogba</td>\n",
       "      <td>17</td>\n",
       "      <td>17</td>\n",
       "      <td>3</td>\n",
       "      <td>4.75</td>\n",
       "    </tr>\n",
       "    <tr>\n",
       "      <th>88907</th>\n",
       "      <td>paul pogba</td>\n",
       "      <td>17</td>\n",
       "      <td>18</td>\n",
       "      <td>7</td>\n",
       "      <td>6.00</td>\n",
       "    </tr>\n",
       "    <tr>\n",
       "      <th>88908</th>\n",
       "      <td>paul pogba</td>\n",
       "      <td>17</td>\n",
       "      <td>19</td>\n",
       "      <td>10</td>\n",
       "      <td>8.00</td>\n",
       "    </tr>\n",
       "    <tr>\n",
       "      <th>88909</th>\n",
       "      <td>paul pogba</td>\n",
       "      <td>17</td>\n",
       "      <td>20</td>\n",
       "      <td>3</td>\n",
       "      <td>5.75</td>\n",
       "    </tr>\n",
       "  </tbody>\n",
       "</table>\n",
       "</div>"
      ],
      "text/plain": [
       "             name  season  GW  total_points  moving_a\n",
       "88890  paul pogba      17   1             0       NaN\n",
       "88891  paul pogba      17   2             3       NaN\n",
       "88892  paul pogba      17   3             3       NaN\n",
       "88893  paul pogba      17   4             2      2.00\n",
       "88894  paul pogba      17   5             1      2.25\n",
       "88895  paul pogba      17   6             8      3.50\n",
       "88896  paul pogba      17   7             2      3.25\n",
       "88897  paul pogba      17   8             3      3.50\n",
       "88898  paul pogba      17   9             1      3.50\n",
       "88899  paul pogba      17  10             2      2.00\n",
       "88900  paul pogba      17  11             8      3.50\n",
       "88901  paul pogba      17  12             2      3.25\n",
       "88902  paul pogba      17  13             5      4.25\n",
       "88903  paul pogba      17  14             2      4.25\n",
       "88904  paul pogba      17  15             2      2.75\n",
       "88905  paul pogba      17  16            12      5.25\n",
       "88906  paul pogba      17  17             3      4.75\n",
       "88907  paul pogba      17  18             7      6.00\n",
       "88908  paul pogba      17  19            10      8.00\n",
       "88909  paul pogba      17  20             3      5.75"
      ]
     },
     "execution_count": 12,
     "metadata": {},
     "output_type": "execute_result"
    }
   ],
   "source": [
    "full_data_ma[full_data_ma[\"name\"] == \"paul pogba\"][[\"name\", \"season\", \"GW\", \"total_points\", \"moving_a\"]].head(20)"
   ]
  },
  {
   "cell_type": "markdown",
   "id": "ff65a119",
   "metadata": {},
   "source": [
    "#### BASELINE SCORE"
   ]
  },
  {
   "cell_type": "code",
   "execution_count": 117,
   "id": "e28846a9",
   "metadata": {},
   "outputs": [
    {
     "data": {
      "text/html": [
       "<div>\n",
       "<style scoped>\n",
       "    .dataframe tbody tr th:only-of-type {\n",
       "        vertical-align: middle;\n",
       "    }\n",
       "\n",
       "    .dataframe tbody tr th {\n",
       "        vertical-align: top;\n",
       "    }\n",
       "\n",
       "    .dataframe thead th {\n",
       "        text-align: right;\n",
       "    }\n",
       "</style>\n",
       "<table border=\"1\" class=\"dataframe\">\n",
       "  <thead>\n",
       "    <tr style=\"text-align: right;\">\n",
       "      <th></th>\n",
       "      <th>name</th>\n",
       "      <th>total_points</th>\n",
       "      <th>moving_a</th>\n",
       "    </tr>\n",
       "  </thead>\n",
       "  <tbody>\n",
       "    <tr>\n",
       "      <th>0</th>\n",
       "      <td>aaron connolly</td>\n",
       "      <td>1</td>\n",
       "      <td>NaN</td>\n",
       "    </tr>\n",
       "    <tr>\n",
       "      <th>1</th>\n",
       "      <td>aaron connolly</td>\n",
       "      <td>1</td>\n",
       "      <td>NaN</td>\n",
       "    </tr>\n",
       "    <tr>\n",
       "      <th>2</th>\n",
       "      <td>aaron connolly</td>\n",
       "      <td>1</td>\n",
       "      <td>NaN</td>\n",
       "    </tr>\n",
       "    <tr>\n",
       "      <th>3</th>\n",
       "      <td>aaron connolly</td>\n",
       "      <td>1</td>\n",
       "      <td>1.0</td>\n",
       "    </tr>\n",
       "    <tr>\n",
       "      <th>4</th>\n",
       "      <td>aaron connolly</td>\n",
       "      <td>13</td>\n",
       "      <td>1.0</td>\n",
       "    </tr>\n",
       "  </tbody>\n",
       "</table>\n",
       "</div>"
      ],
      "text/plain": [
       "             name  total_points  moving_a\n",
       "0  aaron connolly             1       NaN\n",
       "1  aaron connolly             1       NaN\n",
       "2  aaron connolly             1       NaN\n",
       "3  aaron connolly             1       1.0\n",
       "4  aaron connolly            13       1.0"
      ]
     },
     "execution_count": 117,
     "metadata": {},
     "output_type": "execute_result"
    }
   ],
   "source": [
    "full_data_ma[[\"name\", \"total_points\", \"moving_a\"]].head(5)"
   ]
  },
  {
   "cell_type": "code",
   "execution_count": 119,
   "id": "64323da6",
   "metadata": {},
   "outputs": [],
   "source": [
    "full_data_ma[\"error\"] = full_data_ma['total_points'] - full_data_ma[\"moving_a\"]"
   ]
  },
  {
   "cell_type": "code",
   "execution_count": 183,
   "id": "b508bfbd",
   "metadata": {},
   "outputs": [
    {
     "data": {
      "text/plain": [
       "(110435,)"
      ]
     },
     "execution_count": 183,
     "metadata": {},
     "output_type": "execute_result"
    }
   ],
   "source": [
    "df_error = full_data_ma[[\"name\", \"total_points\", \"moving_a\", \"minutes\", \"error\"]].dropna()\n",
    "error = df_error[\"error\"]\n",
    "error.shape"
   ]
  },
  {
   "cell_type": "code",
   "execution_count": 184,
   "id": "e09653ef",
   "metadata": {},
   "outputs": [
    {
     "data": {
      "text/plain": [
       "3.148641269031105"
      ]
     },
     "execution_count": 184,
     "metadata": {},
     "output_type": "execute_result"
    }
   ],
   "source": [
    "error_0 = df_error[df_error['error']!= 0]\n",
    "error_ = error_0[\"error\"]\n",
    "error_.std()"
   ]
  },
  {
   "cell_type": "code",
   "execution_count": 178,
   "id": "6cdf0762",
   "metadata": {},
   "outputs": [
    {
     "data": {
      "image/png": "[encoded data removed]",
      "text/plain": [
       "<Figure size 864x216 with 1 Axes>"
      ]
     },
     "metadata": {
      "needs_background": "light"
     },
     "output_type": "display_data"
    }
   ],
   "source": [
    "fig = plt.figure(figsize = (12, 3))\n",
    "plt.hist(error, bins = 50, range=(-7, 7));"
   ]
  },
  {
   "cell_type": "code",
   "execution_count": 181,
   "id": "9a316df4",
   "metadata": {},
   "outputs": [
    {
     "data": {
      "image/png": "[encoded data removed]",
      "text/plain": [
       "<Figure size 864x216 with 1 Axes>"
      ]
     },
     "metadata": {
      "needs_background": "light"
     },
     "output_type": "display_data"
    }
   ],
   "source": [
    "fig = plt.figure(figsize = (12, 3))\n",
    "plt.hist(error_, bins = 50, range=(-7, 7));"
   ]
  },
  {
   "cell_type": "markdown",
   "id": "b7deba07",
   "metadata": {
    "heading_collapsed": true
   },
   "source": [
    "### *** VISUALIZER FUNCTION***\n",
    "\n",
    "see a player's performance through time\n",
    "\n",
    "TO DO --> MAKE IT POSSIBLE TO INPUT 1< player !!!"
   ]
  },
  {
   "cell_type": "code",
   "execution_count": 13,
   "id": "e646b1cb",
   "metadata": {
    "hidden": true
   },
   "outputs": [],
   "source": [
    "import matplotlib.pyplot as plt"
   ]
  },
  {
   "cell_type": "code",
   "execution_count": 88,
   "id": "33f8ff46",
   "metadata": {
    "hidden": true
   },
   "outputs": [],
   "source": [
    "def points_visualizer(player):\n",
    "    person = player_focus(player)\n",
    "    fig = plt.figure(figsize = (17, 5))\n",
    "    x = person[\"kickoff_date\"]\n",
    "    y = person[\"total_points\"]\n",
    "    plt.plot(x, y)\n",
    "    plt.xlabel(\"Game Weeks\")\n",
    "    plt.ylabel(\"Total Points\")\n",
    "    plt.title(f\"{player}\")\n",
    "    return plt.show()"
   ]
  },
  {
   "cell_type": "code",
   "execution_count": 91,
   "id": "00a3c040",
   "metadata": {
    "hidden": true,
    "scrolled": true
   },
   "outputs": [
    {
     "data": {
      "image/png": "[encoded data removed]",
      "text/plain": [
       "<Figure size 1224x360 with 1 Axes>"
      ]
     },
     "metadata": {
      "needs_background": "light"
     },
     "output_type": "display_data"
    }
   ],
   "source": [
    "points_visualizer([\"paul pogba\"])"
   ]
  }
 ],
 "metadata": {
  "kernelspec": {
   "display_name": "Python 3",
   "language": "python",
   "name": "python3"
  },
  "language_info": {
   "codemirror_mode": {
    "name": "ipython",
    "version": 3
   },
   "file_extension": ".py",
   "mimetype": "text/x-python",
   "name": "python",
   "nbconvert_exporter": "python",
   "pygments_lexer": "ipython3",
   "version": "3.9.1"
  },
  "toc": {
   "base_numbering": 1,
   "nav_menu": {},
   "number_sections": true,
   "sideBar": true,
   "skip_h1_title": false,
   "title_cell": "Table of Contents",
   "title_sidebar": "Contents",
   "toc_cell": false,
   "toc_position": {},
   "toc_section_display": true,
   "toc_window_display": false
  }
 },
 "nbformat": 4,
 "nbformat_minor": 5
}
