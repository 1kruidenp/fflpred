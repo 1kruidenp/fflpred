{
 "cells": [
  {
   "cell_type": "code",
   "execution_count": 1,
   "id": "9e33a4ed",
   "metadata": {
    "ExecuteTime": {
     "end_time": "2021-06-14T09:10:23.963275Z",
     "start_time": "2021-06-14T09:10:17.955163Z"
    }
   },
   "outputs": [],
   "source": [
    "import pandas as pd\n",
    "import numpy as np\n",
    "import matplotlib.pyplot as plt\n",
    "import seaborn as sns\n",
    "from sklearn import set_config; set_config(display='diagram')\n",
    "import tensorflow"
   ]
  },
  {
   "cell_type": "code",
   "execution_count": null,
   "id": "fe4da622",
   "metadata": {},
   "outputs": [],
   "source": []
  },
  {
   "cell_type": "markdown",
   "id": "3f6066e3",
   "metadata": {},
   "source": [
    "# Get Data"
   ]
  },
  {
   "cell_type": "code",
   "execution_count": 2,
   "id": "32e2b0ff",
   "metadata": {
    "ExecuteTime": {
     "end_time": "2021-06-14T09:10:23.972558Z",
     "start_time": "2021-06-14T09:10:23.965859Z"
    }
   },
   "outputs": [],
   "source": [
    "from merge_years.import_data import get_full_data"
   ]
  },
  {
   "cell_type": "code",
   "execution_count": 3,
   "id": "b57e6feb",
   "metadata": {
    "ExecuteTime": {
     "end_time": "2021-06-14T09:10:24.107453Z",
     "start_time": "2021-06-14T09:10:23.975346Z"
    }
   },
   "outputs": [
    {
     "name": "stdout",
     "output_type": "stream",
     "text": [
      "/Users/admin/code/1kruidenp/fflpred/notebooks\r\n"
     ]
    }
   ],
   "source": [
    "!pwd"
   ]
  },
  {
   "cell_type": "code",
   "execution_count": 4,
   "id": "cb626823",
   "metadata": {
    "ExecuteTime": {
     "end_time": "2021-06-14T09:11:26.102998Z",
     "start_time": "2021-06-14T09:10:24.110465Z"
    },
    "scrolled": true
   },
   "outputs": [],
   "source": [
    "full_raw_data=get_full_data('../raw_data')"
   ]
  },
  {
   "cell_type": "code",
   "execution_count": 5,
   "id": "dfefc83c",
   "metadata": {
    "ExecuteTime": {
     "end_time": "2021-06-14T09:11:26.159041Z",
     "start_time": "2021-06-14T09:11:26.104986Z"
    },
    "scrolled": true
   },
   "outputs": [
    {
     "data": {
      "text/html": [
       "<div>\n",
       "<style scoped>\n",
       "    .dataframe tbody tr th:only-of-type {\n",
       "        vertical-align: middle;\n",
       "    }\n",
       "\n",
       "    .dataframe tbody tr th {\n",
       "        vertical-align: top;\n",
       "    }\n",
       "\n",
       "    .dataframe thead th {\n",
       "        text-align: right;\n",
       "    }\n",
       "</style>\n",
       "<table border=\"1\" class=\"dataframe\">\n",
       "  <thead>\n",
       "    <tr style=\"text-align: right;\">\n",
       "      <th></th>\n",
       "      <th>name</th>\n",
       "      <th>assists</th>\n",
       "      <th>bonus</th>\n",
       "      <th>bps</th>\n",
       "      <th>clean_sheets</th>\n",
       "      <th>creativity</th>\n",
       "      <th>element</th>\n",
       "      <th>fixture</th>\n",
       "      <th>goals_conceded</th>\n",
       "      <th>goals_scored</th>\n",
       "      <th>...</th>\n",
       "      <th>yellow_cards</th>\n",
       "      <th>GW</th>\n",
       "      <th>season</th>\n",
       "      <th>position</th>\n",
       "      <th>dreamteam_yearly_average</th>\n",
       "      <th>team_id</th>\n",
       "      <th>team_name</th>\n",
       "      <th>opponent_level</th>\n",
       "      <th>team_level</th>\n",
       "      <th>kickoff_date</th>\n",
       "    </tr>\n",
       "  </thead>\n",
       "  <tbody>\n",
       "    <tr>\n",
       "      <th>0</th>\n",
       "      <td>aaron connolly</td>\n",
       "      <td>0</td>\n",
       "      <td>0</td>\n",
       "      <td>1</td>\n",
       "      <td>0</td>\n",
       "      <td>0.1</td>\n",
       "      <td>534</td>\n",
       "      <td>37</td>\n",
       "      <td>1</td>\n",
       "      <td>0</td>\n",
       "      <td>...</td>\n",
       "      <td>0</td>\n",
       "      <td>4</td>\n",
       "      <td>20</td>\n",
       "      <td>FWD</td>\n",
       "      <td>NaN</td>\n",
       "      <td>4.0</td>\n",
       "      <td>Brighton</td>\n",
       "      <td>1330.0</td>\n",
       "      <td>1010.0</td>\n",
       "      <td>2019-08-31</td>\n",
       "    </tr>\n",
       "    <tr>\n",
       "      <th>1</th>\n",
       "      <td>aaron connolly</td>\n",
       "      <td>0</td>\n",
       "      <td>0</td>\n",
       "      <td>1</td>\n",
       "      <td>0</td>\n",
       "      <td>0.3</td>\n",
       "      <td>534</td>\n",
       "      <td>43</td>\n",
       "      <td>1</td>\n",
       "      <td>0</td>\n",
       "      <td>...</td>\n",
       "      <td>0</td>\n",
       "      <td>5</td>\n",
       "      <td>20</td>\n",
       "      <td>FWD</td>\n",
       "      <td>NaN</td>\n",
       "      <td>4.0</td>\n",
       "      <td>Brighton</td>\n",
       "      <td>1180.0</td>\n",
       "      <td>1050.0</td>\n",
       "      <td>2019-09-14</td>\n",
       "    </tr>\n",
       "    <tr>\n",
       "      <th>2</th>\n",
       "      <td>aaron connolly</td>\n",
       "      <td>0</td>\n",
       "      <td>0</td>\n",
       "      <td>1</td>\n",
       "      <td>0</td>\n",
       "      <td>4.8</td>\n",
       "      <td>534</td>\n",
       "      <td>58</td>\n",
       "      <td>0</td>\n",
       "      <td>0</td>\n",
       "      <td>...</td>\n",
       "      <td>0</td>\n",
       "      <td>6</td>\n",
       "      <td>20</td>\n",
       "      <td>FWD</td>\n",
       "      <td>NaN</td>\n",
       "      <td>4.0</td>\n",
       "      <td>Brighton</td>\n",
       "      <td>1090.0</td>\n",
       "      <td>1010.0</td>\n",
       "      <td>2019-09-21</td>\n",
       "    </tr>\n",
       "    <tr>\n",
       "      <th>3</th>\n",
       "      <td>aaron connolly</td>\n",
       "      <td>0</td>\n",
       "      <td>0</td>\n",
       "      <td>2</td>\n",
       "      <td>0</td>\n",
       "      <td>0.6</td>\n",
       "      <td>534</td>\n",
       "      <td>63</td>\n",
       "      <td>1</td>\n",
       "      <td>0</td>\n",
       "      <td>...</td>\n",
       "      <td>0</td>\n",
       "      <td>7</td>\n",
       "      <td>20</td>\n",
       "      <td>FWD</td>\n",
       "      <td>NaN</td>\n",
       "      <td>4.0</td>\n",
       "      <td>Brighton</td>\n",
       "      <td>1220.0</td>\n",
       "      <td>1010.0</td>\n",
       "      <td>2019-09-28</td>\n",
       "    </tr>\n",
       "    <tr>\n",
       "      <th>4</th>\n",
       "      <td>aaron connolly</td>\n",
       "      <td>0</td>\n",
       "      <td>3</td>\n",
       "      <td>53</td>\n",
       "      <td>1</td>\n",
       "      <td>23.8</td>\n",
       "      <td>534</td>\n",
       "      <td>72</td>\n",
       "      <td>0</td>\n",
       "      <td>2</td>\n",
       "      <td>...</td>\n",
       "      <td>0</td>\n",
       "      <td>8</td>\n",
       "      <td>20</td>\n",
       "      <td>FWD</td>\n",
       "      <td>NaN</td>\n",
       "      <td>4.0</td>\n",
       "      <td>Brighton</td>\n",
       "      <td>1240.0</td>\n",
       "      <td>1050.0</td>\n",
       "      <td>2019-10-05</td>\n",
       "    </tr>\n",
       "  </tbody>\n",
       "</table>\n",
       "<p>5 rows × 40 columns</p>\n",
       "</div>"
      ],
      "text/plain": [
       "             name  assists  bonus  bps  clean_sheets  creativity  element  \\\n",
       "0  aaron connolly        0      0    1             0         0.1      534   \n",
       "1  aaron connolly        0      0    1             0         0.3      534   \n",
       "2  aaron connolly        0      0    1             0         4.8      534   \n",
       "3  aaron connolly        0      0    2             0         0.6      534   \n",
       "4  aaron connolly        0      3   53             1        23.8      534   \n",
       "\n",
       "   fixture  goals_conceded  goals_scored  ...  yellow_cards  GW season  \\\n",
       "0       37               1             0  ...             0   4     20   \n",
       "1       43               1             0  ...             0   5     20   \n",
       "2       58               0             0  ...             0   6     20   \n",
       "3       63               1             0  ...             0   7     20   \n",
       "4       72               0             2  ...             0   8     20   \n",
       "\n",
       "   position  dreamteam_yearly_average  team_id  team_name  opponent_level  \\\n",
       "0       FWD                       NaN      4.0   Brighton          1330.0   \n",
       "1       FWD                       NaN      4.0   Brighton          1180.0   \n",
       "2       FWD                       NaN      4.0   Brighton          1090.0   \n",
       "3       FWD                       NaN      4.0   Brighton          1220.0   \n",
       "4       FWD                       NaN      4.0   Brighton          1240.0   \n",
       "\n",
       "   team_level  kickoff_date  \n",
       "0      1010.0    2019-08-31  \n",
       "1      1050.0    2019-09-14  \n",
       "2      1010.0    2019-09-21  \n",
       "3      1010.0    2019-09-28  \n",
       "4      1050.0    2019-10-05  \n",
       "\n",
       "[5 rows x 40 columns]"
      ]
     },
     "execution_count": 5,
     "metadata": {},
     "output_type": "execute_result"
    }
   ],
   "source": [
    "full_raw_data.head()"
   ]
  },
  {
   "cell_type": "code",
   "execution_count": 6,
   "id": "8675b6c8",
   "metadata": {
    "ExecuteTime": {
     "end_time": "2021-06-14T09:11:26.172203Z",
     "start_time": "2021-06-14T09:11:26.165484Z"
    },
    "scrolled": true
   },
   "outputs": [
    {
     "data": {
      "text/plain": [
       "(114992, 40)"
      ]
     },
     "execution_count": 6,
     "metadata": {},
     "output_type": "execute_result"
    }
   ],
   "source": [
    "full_raw_data.shape"
   ]
  },
  {
   "cell_type": "code",
   "execution_count": 7,
   "id": "a691d692",
   "metadata": {
    "ExecuteTime": {
     "end_time": "2021-06-14T09:11:35.287486Z",
     "start_time": "2021-06-14T09:11:26.178550Z"
    }
   },
   "outputs": [
    {
     "name": "stdout",
     "output_type": "stream",
     "text": [
      "0\n",
      "1\n",
      "2\n",
      "3\n",
      "4\n",
      "5\n",
      "6\n",
      "7\n",
      "8\n",
      "9\n",
      "10\n",
      "11\n",
      "12\n",
      "13\n",
      "14\n",
      "15\n",
      "16\n",
      "17\n",
      "18\n",
      "19\n",
      "20\n",
      "21\n",
      "22\n",
      "23\n",
      "24\n",
      "25\n"
     ]
    }
   ],
   "source": [
    "j=0\n",
    "for i,row in full_raw_data.iterrows():\n",
    "    if row['name']=='caglar söyüncü':\n",
    "        print(j)\n",
    "        full_raw_data['position'].at[i]='DEF'\n",
    "        j+=1"
   ]
  },
  {
   "cell_type": "markdown",
   "id": "58ced904",
   "metadata": {},
   "source": [
    "# Split between train and test\n",
    "\n",
    "We will use the last 10 gameweeks of 2021 (for those playing) as test "
   ]
  },
  {
   "cell_type": "code",
   "execution_count": 8,
   "id": "a112f6cf",
   "metadata": {
    "ExecuteTime": {
     "end_time": "2021-06-14T09:11:35.318364Z",
     "start_time": "2021-06-14T09:11:35.291375Z"
    }
   },
   "outputs": [
    {
     "data": {
      "text/plain": [
       "(5617, 40)"
      ]
     },
     "execution_count": 8,
     "metadata": {},
     "output_type": "execute_result"
    }
   ],
   "source": [
    "ra=3 #rolling average\n",
    "\n",
    "test_raw_df = full_raw_data[(full_raw_data.season > 20) & (full_raw_data.GW >= 34-ra)]\n",
    "train_raw_df = full_raw_data[~((full_raw_data.season > 20) & (full_raw_data.GW >= 34-ra))]\n",
    "#train_raw_df = full_raw_data[(full_raw_data.season < 21) & (full_raw_data.GW < 29-ra)]\n",
    "#pd.concat([train_raw_df,full_raw_data[(full_raw_data.season == 21) & (full_raw_data.GW < 29-ra)]])\n",
    "test_raw_df.shape"
   ]
  },
  {
   "cell_type": "code",
   "execution_count": 9,
   "id": "44ac53f8",
   "metadata": {
    "ExecuteTime": {
     "end_time": "2021-06-14T09:11:35.333083Z",
     "start_time": "2021-06-14T09:11:35.321407Z"
    }
   },
   "outputs": [],
   "source": [
    "assert(len(train_raw_df)+len(test_raw_df)==len(full_raw_data))"
   ]
  },
  {
   "cell_type": "markdown",
   "id": "407e9498",
   "metadata": {
    "heading_collapsed": true
   },
   "source": [
    "# Split between rookies and non rookies"
   ]
  },
  {
   "cell_type": "code",
   "execution_count": 10,
   "id": "39e2568f",
   "metadata": {
    "ExecuteTime": {
     "end_time": "2021-06-14T09:11:35.340229Z",
     "start_time": "2021-06-14T09:11:35.335808Z"
    },
    "hidden": true
   },
   "outputs": [],
   "source": [
    "#for player in train_raw['name'].unique():\n",
    "#    train_raw[train_raw['name']==player]\n"
   ]
  },
  {
   "cell_type": "code",
   "execution_count": 11,
   "id": "3dff9649",
   "metadata": {
    "ExecuteTime": {
     "end_time": "2021-06-14T09:11:35.347355Z",
     "start_time": "2021-06-14T09:11:35.343318Z"
    },
    "hidden": true
   },
   "outputs": [],
   "source": [
    "#train_raw_df[train_raw_df['name']=='harry kane']['season'].min()"
   ]
  },
  {
   "cell_type": "code",
   "execution_count": 12,
   "id": "ed8252af",
   "metadata": {
    "ExecuteTime": {
     "end_time": "2021-06-14T09:11:35.355234Z",
     "start_time": "2021-06-14T09:11:35.350630Z"
    },
    "hidden": true
   },
   "outputs": [],
   "source": [
    "#player_dtya={} #Give players with dtya (should be all non rookies) the\n",
    "#for i,player in enumerate(not_processed_df['name'].unique()):\n",
    "#    player_dtya[player]=not_processed_df[not_processed_df['name']==player]['dreamteam_yearly_average'].max()\n",
    "#    if i%100==0:\n",
    "#        print(player,i)"
   ]
  },
  {
   "cell_type": "markdown",
   "id": "551fca38",
   "metadata": {
    "ExecuteTime": {
     "end_time": "2021-06-10T09:54:26.879308Z",
     "start_time": "2021-06-10T09:54:26.871894Z"
    }
   },
   "source": [
    "# Split between positions"
   ]
  },
  {
   "cell_type": "code",
   "execution_count": 13,
   "id": "01d6c1b2",
   "metadata": {
    "ExecuteTime": {
     "end_time": "2021-06-14T09:11:35.470493Z",
     "start_time": "2021-06-14T09:11:35.358572Z"
    }
   },
   "outputs": [],
   "source": [
    "fwd_df_train = train_raw_df[(train_raw_df.position=='FWD')]\n",
    "mid_df_train = train_raw_df[(train_raw_df.position=='MID')]\n",
    "def_df_train = train_raw_df[(train_raw_df.position=='DEF')]\n",
    "gk_df_train = train_raw_df[(train_raw_df.position=='GK')]\n",
    "\n",
    "fwd_df_test = test_raw_df[(test_raw_df.position=='FWD')]\n",
    "mid_df_test = test_raw_df[(test_raw_df.position=='MID')]\n",
    "def_df_test = test_raw_df[(test_raw_df.position=='DEF')]\n",
    "gk_df_test = test_raw_df[(test_raw_df.position=='GK')]"
   ]
  },
  {
   "cell_type": "code",
   "execution_count": 14,
   "id": "a7003114",
   "metadata": {
    "ExecuteTime": {
     "end_time": "2021-06-14T09:11:35.480612Z",
     "start_time": "2021-06-14T09:11:35.472725Z"
    }
   },
   "outputs": [
    {
     "name": "stdout",
     "output_type": "stream",
     "text": [
      "(15366, 40)\n",
      "(45039, 40)\n",
      "(37049, 40)\n",
      "(11921, 40)\n",
      "\n",
      "(728, 40)\n",
      "(2294, 40)\n",
      "(1951, 40)\n",
      "(644, 40)\n"
     ]
    }
   ],
   "source": [
    "print(fwd_df_train.shape)\n",
    "print(mid_df_train.shape)\n",
    "print(def_df_train.shape)\n",
    "print(gk_df_train.shape)\n",
    "print(\"\")\n",
    "print(fwd_df_test.shape )\n",
    "print(mid_df_test.shape )\n",
    "print(def_df_test.shape )\n",
    "print(gk_df_test.shape )"
   ]
  },
  {
   "cell_type": "code",
   "execution_count": 15,
   "id": "1c07f801",
   "metadata": {
    "ExecuteTime": {
     "end_time": "2021-06-14T09:11:35.491306Z",
     "start_time": "2021-06-14T09:11:35.483489Z"
    }
   },
   "outputs": [
    {
     "data": {
      "text/plain": [
       "(109375, 40)"
      ]
     },
     "execution_count": 15,
     "metadata": {},
     "output_type": "execute_result"
    }
   ],
   "source": [
    "train_raw_df.shape"
   ]
  },
  {
   "cell_type": "code",
   "execution_count": 16,
   "id": "a0b206fe",
   "metadata": {
    "ExecuteTime": {
     "end_time": "2021-06-14T09:11:35.559448Z",
     "start_time": "2021-06-14T09:11:35.494581Z"
    }
   },
   "outputs": [
    {
     "data": {
      "text/plain": [
       "105804"
      ]
     },
     "execution_count": 16,
     "metadata": {},
     "output_type": "execute_result"
    }
   ],
   "source": [
    "14907+43598+35796+11503"
   ]
  },
  {
   "cell_type": "markdown",
   "id": "397e34cc",
   "metadata": {},
   "source": [
    "# Preprocessing"
   ]
  },
  {
   "cell_type": "code",
   "execution_count": 17,
   "id": "24e5c728",
   "metadata": {
    "ExecuteTime": {
     "end_time": "2021-06-14T09:11:35.686162Z",
     "start_time": "2021-06-14T09:11:35.562147Z"
    }
   },
   "outputs": [
    {
     "name": "stderr",
     "output_type": "stream",
     "text": [
      "/Users/admin/.pyenv/versions/3.8.6/envs/fflpred/lib/python3.8/site-packages/pandas/core/frame.py:4308: SettingWithCopyWarning: \n",
      "A value is trying to be set on a copy of a slice from a DataFrame\n",
      "\n",
      "See the caveats in the documentation: https://pandas.pydata.org/pandas-docs/stable/user_guide/indexing.html#returning-a-view-versus-a-copy\n",
      "  return super().drop(\n"
     ]
    }
   ],
   "source": [
    "fwd_df_train.drop(columns=['fixture', 'element', 'team_a_score', 'team_h_score', 'team_id', 'team_name'],inplace=True)\n",
    "mid_df_train.drop(columns=['fixture', 'element', 'team_a_score', 'team_h_score', 'team_id', 'team_name'],inplace=True)\n",
    "def_df_train.drop(columns=['fixture', 'element', 'team_a_score', 'team_h_score', 'team_id', 'team_name'],inplace=True)\n",
    "gk_df_train.drop(columns=['fixture', 'element', 'team_a_score', 'team_h_score', 'team_id', 'team_name'],inplace=True)\n",
    "fwd_df_test.drop(columns=['fixture', 'element', 'team_a_score', 'team_h_score', 'team_id', 'team_name'],inplace=True)  \n",
    "mid_df_test.drop(columns=['fixture', 'element', 'team_a_score', 'team_h_score', 'team_id', 'team_name'],inplace=True) \n",
    "def_df_test.drop(columns=['fixture', 'element', 'team_a_score', 'team_h_score', 'team_id', 'team_name'],inplace=True) \n",
    "gk_df_test.drop(columns=['fixture', 'element', 'team_a_score', 'team_h_score', 'team_id', 'team_name'],inplace=True) \n",
    "\n",
    "\n"
   ]
  },
  {
   "cell_type": "markdown",
   "id": "041b89ce",
   "metadata": {},
   "source": [
    "## Forwards "
   ]
  },
  {
   "cell_type": "code",
   "execution_count": 18,
   "id": "ce266305",
   "metadata": {
    "ExecuteTime": {
     "end_time": "2021-06-14T09:11:35.781018Z",
     "start_time": "2021-06-14T09:11:35.689421Z"
    },
    "scrolled": true
   },
   "outputs": [
    {
     "data": {
      "text/html": [
       "<div>\n",
       "<style scoped>\n",
       "    .dataframe tbody tr th:only-of-type {\n",
       "        vertical-align: middle;\n",
       "    }\n",
       "\n",
       "    .dataframe tbody tr th {\n",
       "        vertical-align: top;\n",
       "    }\n",
       "\n",
       "    .dataframe thead th {\n",
       "        text-align: right;\n",
       "    }\n",
       "</style>\n",
       "<table border=\"1\" class=\"dataframe\">\n",
       "  <thead>\n",
       "    <tr style=\"text-align: right;\">\n",
       "      <th></th>\n",
       "      <th>name</th>\n",
       "      <th>assists</th>\n",
       "      <th>bonus</th>\n",
       "      <th>bps</th>\n",
       "      <th>clean_sheets</th>\n",
       "      <th>creativity</th>\n",
       "      <th>goals_conceded</th>\n",
       "      <th>goals_scored</th>\n",
       "      <th>ict_index</th>\n",
       "      <th>influence</th>\n",
       "      <th>...</th>\n",
       "      <th>value</th>\n",
       "      <th>was_home</th>\n",
       "      <th>yellow_cards</th>\n",
       "      <th>GW</th>\n",
       "      <th>season</th>\n",
       "      <th>position</th>\n",
       "      <th>dreamteam_yearly_average</th>\n",
       "      <th>opponent_level</th>\n",
       "      <th>team_level</th>\n",
       "      <th>kickoff_date</th>\n",
       "    </tr>\n",
       "  </thead>\n",
       "  <tbody>\n",
       "    <tr>\n",
       "      <th>0</th>\n",
       "      <td>aaron connolly</td>\n",
       "      <td>0</td>\n",
       "      <td>0</td>\n",
       "      <td>1</td>\n",
       "      <td>0</td>\n",
       "      <td>0.1</td>\n",
       "      <td>1</td>\n",
       "      <td>0</td>\n",
       "      <td>0.0</td>\n",
       "      <td>0.2</td>\n",
       "      <td>...</td>\n",
       "      <td>45</td>\n",
       "      <td>False</td>\n",
       "      <td>0</td>\n",
       "      <td>4</td>\n",
       "      <td>20</td>\n",
       "      <td>FWD</td>\n",
       "      <td>NaN</td>\n",
       "      <td>1330.0</td>\n",
       "      <td>1010.0</td>\n",
       "      <td>2019-08-31</td>\n",
       "    </tr>\n",
       "  </tbody>\n",
       "</table>\n",
       "<p>1 rows × 34 columns</p>\n",
       "</div>"
      ],
      "text/plain": [
       "             name  assists  bonus  bps  clean_sheets  creativity  \\\n",
       "0  aaron connolly        0      0    1             0         0.1   \n",
       "\n",
       "   goals_conceded  goals_scored  ict_index  influence  ... value  was_home  \\\n",
       "0               1             0        0.0        0.2  ...    45     False   \n",
       "\n",
       "   yellow_cards  GW  season  position  dreamteam_yearly_average  \\\n",
       "0             0   4      20       FWD                       NaN   \n",
       "\n",
       "   opponent_level  team_level  kickoff_date  \n",
       "0          1330.0      1010.0    2019-08-31  \n",
       "\n",
       "[1 rows x 34 columns]"
      ]
     },
     "execution_count": 18,
     "metadata": {},
     "output_type": "execute_result"
    }
   ],
   "source": [
    "fwd_df_train.head(1)"
   ]
  },
  {
   "cell_type": "code",
   "execution_count": 19,
   "id": "0242c440",
   "metadata": {
    "ExecuteTime": {
     "end_time": "2021-06-14T09:11:35.815257Z",
     "start_time": "2021-06-14T09:11:35.786680Z"
    },
    "scrolled": false
   },
   "outputs": [
    {
     "data": {
      "text/plain": [
       "Index(['name', 'assists', 'bonus', 'bps', 'clean_sheets', 'creativity',\n",
       "       'goals_conceded', 'goals_scored', 'ict_index', 'influence',\n",
       "       'kickoff_time', 'minutes', 'opponent_team', 'own_goals',\n",
       "       'penalties_missed', 'penalties_saved', 'red_cards', 'saves', 'selected',\n",
       "       'threat', 'total_points', 'transfers_balance', 'transfers_in',\n",
       "       'transfers_out', 'value', 'was_home', 'yellow_cards', 'GW', 'season',\n",
       "       'position', 'dreamteam_yearly_average', 'opponent_level', 'team_level',\n",
       "       'kickoff_date'],\n",
       "      dtype='object')"
      ]
     },
     "execution_count": 19,
     "metadata": {},
     "output_type": "execute_result"
    }
   ],
   "source": [
    "fwd_df_train.columns"
   ]
  },
  {
   "cell_type": "markdown",
   "id": "5ef0ad31",
   "metadata": {},
   "source": [
    "The columns we want for forwards are (for now)\n"
   ]
  },
  {
   "cell_type": "code",
   "execution_count": 20,
   "id": "dfce9f98",
   "metadata": {
    "ExecuteTime": {
     "end_time": "2021-06-14T09:11:35.824955Z",
     "start_time": "2021-06-14T09:11:35.819681Z"
    }
   },
   "outputs": [],
   "source": [
    "fwd_features=['name', 'assists', 'bps', 'creativity', 'goals_scored', \n",
    "              'ict_index', 'influence','kickoff_time','minutes',\n",
    "              'penalties_missed','red_cards','selected','threat','total_points','transfers_balance',\n",
    "              'value','was_home','yellow_cards','GW','season','opponent_level','team_level']"
   ]
  },
  {
   "cell_type": "code",
   "execution_count": 21,
   "id": "ce9906de",
   "metadata": {
    "ExecuteTime": {
     "end_time": "2021-06-14T09:11:35.839882Z",
     "start_time": "2021-06-14T09:11:35.828731Z"
    }
   },
   "outputs": [],
   "source": [
    "fwd_train=fwd_df_train[fwd_features]\n",
    "fwd_test=fwd_df_test[fwd_features]"
   ]
  },
  {
   "cell_type": "code",
   "execution_count": 22,
   "id": "33fbb828",
   "metadata": {
    "ExecuteTime": {
     "end_time": "2021-06-14T09:11:35.884223Z",
     "start_time": "2021-06-14T09:11:35.863179Z"
    }
   },
   "outputs": [
    {
     "name": "stderr",
     "output_type": "stream",
     "text": [
      "<ipython-input-22-bb4ec425f763>:1: SettingWithCopyWarning: \n",
      "A value is trying to be set on a copy of a slice from a DataFrame.\n",
      "Try using .loc[row_indexer,col_indexer] = value instead\n",
      "\n",
      "See the caveats in the documentation: https://pandas.pydata.org/pandas-docs/stable/user_guide/indexing.html#returning-a-view-versus-a-copy\n",
      "  fwd_train['cards']=fwd_train['yellow_cards']+fwd_train['red_cards']\n",
      "<ipython-input-22-bb4ec425f763>:2: SettingWithCopyWarning: \n",
      "A value is trying to be set on a copy of a slice from a DataFrame.\n",
      "Try using .loc[row_indexer,col_indexer] = value instead\n",
      "\n",
      "See the caveats in the documentation: https://pandas.pydata.org/pandas-docs/stable/user_guide/indexing.html#returning-a-view-versus-a-copy\n",
      "  fwd_test['cards']=fwd_test['yellow_cards']+fwd_test['red_cards']\n"
     ]
    }
   ],
   "source": [
    "fwd_train['cards']=fwd_train['yellow_cards']+fwd_train['red_cards']\n",
    "fwd_test['cards']=fwd_test['yellow_cards']+fwd_test['red_cards']\n",
    "\n"
   ]
  },
  {
   "cell_type": "code",
   "execution_count": 23,
   "id": "d4062978",
   "metadata": {
    "ExecuteTime": {
     "end_time": "2021-06-14T09:11:35.897986Z",
     "start_time": "2021-06-14T09:11:35.892258Z"
    },
    "scrolled": true
   },
   "outputs": [
    {
     "data": {
      "text/plain": [
       "Index(['name', 'assists', 'bps', 'creativity', 'goals_scored', 'ict_index',\n",
       "       'influence', 'kickoff_time', 'minutes', 'penalties_missed', 'red_cards',\n",
       "       'selected', 'threat', 'total_points', 'transfers_balance', 'value',\n",
       "       'was_home', 'yellow_cards', 'GW', 'season', 'opponent_level',\n",
       "       'team_level', 'cards'],\n",
       "      dtype='object')"
      ]
     },
     "execution_count": 23,
     "metadata": {},
     "output_type": "execute_result"
    }
   ],
   "source": [
    "fwd_train.columns"
   ]
  },
  {
   "cell_type": "code",
   "execution_count": 24,
   "id": "376fa08a",
   "metadata": {
    "ExecuteTime": {
     "end_time": "2021-06-14T09:11:35.906687Z",
     "start_time": "2021-06-14T09:11:35.902342Z"
    }
   },
   "outputs": [],
   "source": [
    "rolling_features=['name','assists','bps','creativity','goals_scored','ict_index','influence',\n",
    "                  'minutes','selected','threat','total_points','transfers_balance','value','penalties_missed','cards']\n",
    "\n",
    "static_features=['kickoff_time','was_home','GW','season','opponent_level','team_level']\n",
    "\n",
    "total_points_train=fwd_train['total_points']\n",
    "total_points_test=fwd_test['total_points']\n",
    "\n",
    "\n"
   ]
  },
  {
   "cell_type": "markdown",
   "id": "a965a1dc",
   "metadata": {},
   "source": [
    "### Rolling features"
   ]
  },
  {
   "cell_type": "code",
   "execution_count": 25,
   "id": "cea5f04c",
   "metadata": {
    "ExecuteTime": {
     "end_time": "2021-06-14T09:11:36.279488Z",
     "start_time": "2021-06-14T09:11:35.911884Z"
    }
   },
   "outputs": [],
   "source": [
    "rolling_df_train=fwd_train[rolling_features].groupby('name').rolling(ra,closed = 'left').mean()\n",
    "rolling_df_test=fwd_test[rolling_features].groupby('name').rolling(ra,closed = 'left').mean()\n"
   ]
  },
  {
   "cell_type": "code",
   "execution_count": 26,
   "id": "85fdce2d",
   "metadata": {
    "ExecuteTime": {
     "end_time": "2021-06-14T09:11:36.286306Z",
     "start_time": "2021-06-14T09:11:36.281334Z"
    }
   },
   "outputs": [],
   "source": [
    "rolling_df_train.rename(columns={'total_points':'rolling_points'},inplace=True)\n",
    "rolling_df_test.rename(columns={'total_points':'rolling_points'},inplace=True)"
   ]
  },
  {
   "cell_type": "code",
   "execution_count": 27,
   "id": "eec10376",
   "metadata": {
    "ExecuteTime": {
     "end_time": "2021-06-14T09:11:36.300836Z",
     "start_time": "2021-06-14T09:11:36.289562Z"
    }
   },
   "outputs": [],
   "source": [
    "\n",
    "result = map(lambda position:position, total_points_train)\n",
    "rolling_df_train['total_points']=list(result)\n",
    "\n",
    "result = map(lambda position:position, total_points_test)\n",
    "rolling_df_test['total_points']=list(result)"
   ]
  },
  {
   "cell_type": "code",
   "execution_count": 28,
   "id": "d17b61a5",
   "metadata": {
    "ExecuteTime": {
     "end_time": "2021-06-14T09:11:36.325279Z",
     "start_time": "2021-06-14T09:11:36.304017Z"
    },
    "scrolled": true
   },
   "outputs": [
    {
     "data": {
      "text/html": [
       "<div>\n",
       "<style scoped>\n",
       "    .dataframe tbody tr th:only-of-type {\n",
       "        vertical-align: middle;\n",
       "    }\n",
       "\n",
       "    .dataframe tbody tr th {\n",
       "        vertical-align: top;\n",
       "    }\n",
       "\n",
       "    .dataframe thead th {\n",
       "        text-align: right;\n",
       "    }\n",
       "</style>\n",
       "<table border=\"1\" class=\"dataframe\">\n",
       "  <thead>\n",
       "    <tr style=\"text-align: right;\">\n",
       "      <th></th>\n",
       "      <th></th>\n",
       "      <th>assists</th>\n",
       "      <th>bps</th>\n",
       "      <th>creativity</th>\n",
       "      <th>goals_scored</th>\n",
       "      <th>ict_index</th>\n",
       "      <th>influence</th>\n",
       "      <th>minutes</th>\n",
       "      <th>selected</th>\n",
       "      <th>threat</th>\n",
       "      <th>rolling_points</th>\n",
       "      <th>transfers_balance</th>\n",
       "      <th>value</th>\n",
       "      <th>penalties_missed</th>\n",
       "      <th>cards</th>\n",
       "      <th>total_points</th>\n",
       "    </tr>\n",
       "    <tr>\n",
       "      <th>name</th>\n",
       "      <th></th>\n",
       "      <th></th>\n",
       "      <th></th>\n",
       "      <th></th>\n",
       "      <th></th>\n",
       "      <th></th>\n",
       "      <th></th>\n",
       "      <th></th>\n",
       "      <th></th>\n",
       "      <th></th>\n",
       "      <th></th>\n",
       "      <th></th>\n",
       "      <th></th>\n",
       "      <th></th>\n",
       "      <th></th>\n",
       "      <th></th>\n",
       "    </tr>\n",
       "  </thead>\n",
       "  <tbody>\n",
       "    <tr>\n",
       "      <th rowspan=\"5\" valign=\"top\">aaron connolly</th>\n",
       "      <th>0</th>\n",
       "      <td>NaN</td>\n",
       "      <td>NaN</td>\n",
       "      <td>NaN</td>\n",
       "      <td>NaN</td>\n",
       "      <td>NaN</td>\n",
       "      <td>NaN</td>\n",
       "      <td>NaN</td>\n",
       "      <td>NaN</td>\n",
       "      <td>NaN</td>\n",
       "      <td>NaN</td>\n",
       "      <td>NaN</td>\n",
       "      <td>NaN</td>\n",
       "      <td>NaN</td>\n",
       "      <td>NaN</td>\n",
       "      <td>1</td>\n",
       "    </tr>\n",
       "    <tr>\n",
       "      <th>1</th>\n",
       "      <td>NaN</td>\n",
       "      <td>NaN</td>\n",
       "      <td>NaN</td>\n",
       "      <td>NaN</td>\n",
       "      <td>NaN</td>\n",
       "      <td>NaN</td>\n",
       "      <td>NaN</td>\n",
       "      <td>NaN</td>\n",
       "      <td>NaN</td>\n",
       "      <td>NaN</td>\n",
       "      <td>NaN</td>\n",
       "      <td>NaN</td>\n",
       "      <td>NaN</td>\n",
       "      <td>NaN</td>\n",
       "      <td>1</td>\n",
       "    </tr>\n",
       "    <tr>\n",
       "      <th>2</th>\n",
       "      <td>NaN</td>\n",
       "      <td>NaN</td>\n",
       "      <td>NaN</td>\n",
       "      <td>NaN</td>\n",
       "      <td>NaN</td>\n",
       "      <td>NaN</td>\n",
       "      <td>NaN</td>\n",
       "      <td>NaN</td>\n",
       "      <td>NaN</td>\n",
       "      <td>NaN</td>\n",
       "      <td>NaN</td>\n",
       "      <td>NaN</td>\n",
       "      <td>NaN</td>\n",
       "      <td>NaN</td>\n",
       "      <td>1</td>\n",
       "    </tr>\n",
       "    <tr>\n",
       "      <th>3</th>\n",
       "      <td>0.0</td>\n",
       "      <td>1.000000</td>\n",
       "      <td>1.733333</td>\n",
       "      <td>0.0</td>\n",
       "      <td>1.566667</td>\n",
       "      <td>1.066667</td>\n",
       "      <td>16.666667</td>\n",
       "      <td>12277.666667</td>\n",
       "      <td>13.0</td>\n",
       "      <td>1.0</td>\n",
       "      <td>6226.333333</td>\n",
       "      <td>45.0</td>\n",
       "      <td>0.0</td>\n",
       "      <td>0.0</td>\n",
       "      <td>1</td>\n",
       "    </tr>\n",
       "    <tr>\n",
       "      <th>4</th>\n",
       "      <td>0.0</td>\n",
       "      <td>1.333333</td>\n",
       "      <td>1.900000</td>\n",
       "      <td>0.0</td>\n",
       "      <td>1.600000</td>\n",
       "      <td>1.066667</td>\n",
       "      <td>17.000000</td>\n",
       "      <td>23177.333333</td>\n",
       "      <td>13.0</td>\n",
       "      <td>1.0</td>\n",
       "      <td>9038.666667</td>\n",
       "      <td>45.0</td>\n",
       "      <td>0.0</td>\n",
       "      <td>0.0</td>\n",
       "      <td>13</td>\n",
       "    </tr>\n",
       "  </tbody>\n",
       "</table>\n",
       "</div>"
      ],
      "text/plain": [
       "                  assists       bps  creativity  goals_scored  ict_index  \\\n",
       "name                                                                       \n",
       "aaron connolly 0      NaN       NaN         NaN           NaN        NaN   \n",
       "               1      NaN       NaN         NaN           NaN        NaN   \n",
       "               2      NaN       NaN         NaN           NaN        NaN   \n",
       "               3      0.0  1.000000    1.733333           0.0   1.566667   \n",
       "               4      0.0  1.333333    1.900000           0.0   1.600000   \n",
       "\n",
       "                  influence    minutes      selected  threat  rolling_points  \\\n",
       "name                                                                           \n",
       "aaron connolly 0        NaN        NaN           NaN     NaN             NaN   \n",
       "               1        NaN        NaN           NaN     NaN             NaN   \n",
       "               2        NaN        NaN           NaN     NaN             NaN   \n",
       "               3   1.066667  16.666667  12277.666667    13.0             1.0   \n",
       "               4   1.066667  17.000000  23177.333333    13.0             1.0   \n",
       "\n",
       "                  transfers_balance  value  penalties_missed  cards  \\\n",
       "name                                                                  \n",
       "aaron connolly 0                NaN    NaN               NaN    NaN   \n",
       "               1                NaN    NaN               NaN    NaN   \n",
       "               2                NaN    NaN               NaN    NaN   \n",
       "               3        6226.333333   45.0               0.0    0.0   \n",
       "               4        9038.666667   45.0               0.0    0.0   \n",
       "\n",
       "                  total_points  \n",
       "name                            \n",
       "aaron connolly 0             1  \n",
       "               1             1  \n",
       "               2             1  \n",
       "               3             1  \n",
       "               4            13  "
      ]
     },
     "execution_count": 28,
     "metadata": {},
     "output_type": "execute_result"
    }
   ],
   "source": [
    "rolling_df_train.head()"
   ]
  },
  {
   "cell_type": "code",
   "execution_count": 29,
   "id": "a2b33650",
   "metadata": {
    "ExecuteTime": {
     "end_time": "2021-06-14T09:11:36.366391Z",
     "start_time": "2021-06-14T09:11:36.328410Z"
    }
   },
   "outputs": [],
   "source": [
    "for i in static_features:\n",
    "    result = map(lambda position:position, fwd_train[i])\n",
    "    rolling_df_train[i]=list(result)\n",
    "for i in static_features:\n",
    "    result = map(lambda position:position, fwd_test[i])\n",
    "    rolling_df_test[i]=list(result)\n",
    "\n"
   ]
  },
  {
   "cell_type": "code",
   "execution_count": 30,
   "id": "9d5eeb07",
   "metadata": {
    "ExecuteTime": {
     "end_time": "2021-06-14T09:11:36.392982Z",
     "start_time": "2021-06-14T09:11:36.368928Z"
    }
   },
   "outputs": [],
   "source": [
    "rolling_df_train.dropna(inplace=True)\n",
    "rolling_df_test.dropna(inplace=True)"
   ]
  },
  {
   "cell_type": "code",
   "execution_count": 31,
   "id": "5081683d",
   "metadata": {
    "ExecuteTime": {
     "end_time": "2021-06-14T09:11:36.406784Z",
     "start_time": "2021-06-14T09:11:36.395421Z"
    },
    "collapsed": true
   },
   "outputs": [
    {
     "data": {
      "text/plain": [
       "assists              0\n",
       "value                0\n",
       "opponent_level       0\n",
       "season               0\n",
       "GW                   0\n",
       "was_home             0\n",
       "kickoff_time         0\n",
       "total_points         0\n",
       "cards                0\n",
       "penalties_missed     0\n",
       "transfers_balance    0\n",
       "bps                  0\n",
       "rolling_points       0\n",
       "threat               0\n",
       "selected             0\n",
       "minutes              0\n",
       "influence            0\n",
       "ict_index            0\n",
       "goals_scored         0\n",
       "creativity           0\n",
       "team_level           0\n",
       "dtype: int64"
      ]
     },
     "execution_count": 31,
     "metadata": {},
     "output_type": "execute_result"
    }
   ],
   "source": [
    "rolling_df_train.isnull().sum().sort_values(ascending=False)"
   ]
  },
  {
   "cell_type": "code",
   "execution_count": 32,
   "id": "d3b3544b",
   "metadata": {
    "ExecuteTime": {
     "end_time": "2021-06-14T09:11:36.416942Z",
     "start_time": "2021-06-14T09:11:36.410473Z"
    }
   },
   "outputs": [],
   "source": [
    "rolling_df_train.drop(columns=['creativity','influence','threat'],inplace=True)\n",
    "rolling_df_test.drop(columns=['creativity','influence','threat'],inplace=True)"
   ]
  },
  {
   "cell_type": "code",
   "execution_count": 33,
   "id": "8647df36",
   "metadata": {
    "ExecuteTime": {
     "end_time": "2021-06-14T09:11:36.454986Z",
     "start_time": "2021-06-14T09:11:36.419924Z"
    }
   },
   "outputs": [],
   "source": [
    "time=[]\n",
    "for row in rolling_df_train['kickoff_time']:\n",
    "    time.append(row.hour)\n",
    "rolling_df_train['time']=time\n",
    "\n",
    "time=[]\n",
    "for row in rolling_df_test['kickoff_time']:\n",
    "    time.append(row.hour)\n",
    "rolling_df_test['time']=time"
   ]
  },
  {
   "cell_type": "code",
   "execution_count": 34,
   "id": "9d150ae4",
   "metadata": {
    "ExecuteTime": {
     "end_time": "2021-06-14T09:11:36.464602Z",
     "start_time": "2021-06-14T09:11:36.457806Z"
    }
   },
   "outputs": [],
   "source": [
    "rolling_df_train.drop(columns='kickoff_time',inplace=True)\n",
    "rolling_df_test.drop(columns='kickoff_time',inplace=True)"
   ]
  },
  {
   "cell_type": "code",
   "execution_count": 35,
   "id": "44ac47fa",
   "metadata": {
    "ExecuteTime": {
     "end_time": "2021-06-14T09:11:36.471649Z",
     "start_time": "2021-06-14T09:11:36.466907Z"
    }
   },
   "outputs": [
    {
     "data": {
      "text/plain": [
       "Index(['assists', 'bps', 'goals_scored', 'ict_index', 'minutes', 'selected',\n",
       "       'rolling_points', 'transfers_balance', 'value', 'penalties_missed',\n",
       "       'cards', 'total_points', 'was_home', 'GW', 'season', 'opponent_level',\n",
       "       'team_level', 'time'],\n",
       "      dtype='object')"
      ]
     },
     "execution_count": 35,
     "metadata": {},
     "output_type": "execute_result"
    }
   ],
   "source": [
    "rolling_df_train.columns"
   ]
  },
  {
   "cell_type": "code",
   "execution_count": 36,
   "id": "4e4c5074",
   "metadata": {
    "ExecuteTime": {
     "end_time": "2021-06-14T09:11:36.503583Z",
     "start_time": "2021-06-14T09:11:36.474483Z"
    }
   },
   "outputs": [
    {
     "name": "stderr",
     "output_type": "stream",
     "text": [
      "/Users/admin/.pyenv/versions/3.8.6/envs/fflpred/lib/python3.8/site-packages/sklearn/utils/validation.py:63: DataConversionWarning: A column-vector y was passed when a 1d array was expected. Please change the shape of y to (n_samples, ), for example using ravel().\n",
      "  return f(*args, **kwargs)\n"
     ]
    }
   ],
   "source": [
    "from sklearn.preprocessing import LabelEncoder\n",
    "\n",
    "encoder = LabelEncoder()\n",
    "encoder.fit(rolling_df_train[['was_home']])\n",
    "rolling_df_train['was_home'] = encoder.transform(rolling_df_train[['was_home']])\n",
    "\n",
    "encoder = LabelEncoder()\n",
    "encoder.fit(rolling_df_test[['was_home']])\n",
    "rolling_df_test['was_home'] = encoder.transform(rolling_df_test[['was_home']])"
   ]
  },
  {
   "cell_type": "code",
   "execution_count": 37,
   "id": "12815741",
   "metadata": {
    "ExecuteTime": {
     "end_time": "2021-06-14T09:11:36.520014Z",
     "start_time": "2021-06-14T09:11:36.510757Z"
    }
   },
   "outputs": [],
   "source": [
    "rolling_df_train=rolling_df_train.reset_index()\n",
    "rolling_df_test=rolling_df_test.reset_index()\n"
   ]
  },
  {
   "cell_type": "code",
   "execution_count": 38,
   "id": "8df38d11",
   "metadata": {
    "ExecuteTime": {
     "end_time": "2021-06-14T09:11:36.538928Z",
     "start_time": "2021-06-14T09:11:36.523700Z"
    }
   },
   "outputs": [],
   "source": [
    "\n",
    "hold_train=rolling_df_train[['name','GW','season']]\n",
    "hold_test=rolling_df_test[['name','GW','season']]\n",
    "\n",
    "rolling_df_train.drop(columns=['name','GW','season','level_1'],inplace=True)\n",
    "rolling_df_test.drop(columns=['name','GW','season','level_1'],inplace=True)"
   ]
  },
  {
   "cell_type": "code",
   "execution_count": 39,
   "id": "07a3aed5",
   "metadata": {
    "ExecuteTime": {
     "end_time": "2021-06-14T09:11:36.566464Z",
     "start_time": "2021-06-14T09:11:36.541824Z"
    },
    "scrolled": true
   },
   "outputs": [
    {
     "data": {
      "text/html": [
       "<div>\n",
       "<style scoped>\n",
       "    .dataframe tbody tr th:only-of-type {\n",
       "        vertical-align: middle;\n",
       "    }\n",
       "\n",
       "    .dataframe tbody tr th {\n",
       "        vertical-align: top;\n",
       "    }\n",
       "\n",
       "    .dataframe thead th {\n",
       "        text-align: right;\n",
       "    }\n",
       "</style>\n",
       "<table border=\"1\" class=\"dataframe\">\n",
       "  <thead>\n",
       "    <tr style=\"text-align: right;\">\n",
       "      <th></th>\n",
       "      <th>assists</th>\n",
       "      <th>bps</th>\n",
       "      <th>goals_scored</th>\n",
       "      <th>ict_index</th>\n",
       "      <th>minutes</th>\n",
       "      <th>selected</th>\n",
       "      <th>rolling_points</th>\n",
       "      <th>transfers_balance</th>\n",
       "      <th>value</th>\n",
       "      <th>penalties_missed</th>\n",
       "      <th>cards</th>\n",
       "      <th>total_points</th>\n",
       "      <th>was_home</th>\n",
       "      <th>opponent_level</th>\n",
       "      <th>team_level</th>\n",
       "      <th>time</th>\n",
       "    </tr>\n",
       "  </thead>\n",
       "  <tbody>\n",
       "    <tr>\n",
       "      <th>0</th>\n",
       "      <td>0.000000</td>\n",
       "      <td>1.000000</td>\n",
       "      <td>0.000000</td>\n",
       "      <td>1.566667</td>\n",
       "      <td>16.666667</td>\n",
       "      <td>12277.666667</td>\n",
       "      <td>1.000000</td>\n",
       "      <td>6226.333333</td>\n",
       "      <td>45.000000</td>\n",
       "      <td>0.0</td>\n",
       "      <td>0.0</td>\n",
       "      <td>1</td>\n",
       "      <td>0</td>\n",
       "      <td>1220.0</td>\n",
       "      <td>1010.0</td>\n",
       "      <td>14</td>\n",
       "    </tr>\n",
       "    <tr>\n",
       "      <th>1</th>\n",
       "      <td>0.000000</td>\n",
       "      <td>1.333333</td>\n",
       "      <td>0.000000</td>\n",
       "      <td>1.600000</td>\n",
       "      <td>17.000000</td>\n",
       "      <td>23177.333333</td>\n",
       "      <td>1.000000</td>\n",
       "      <td>9038.666667</td>\n",
       "      <td>45.000000</td>\n",
       "      <td>0.0</td>\n",
       "      <td>0.0</td>\n",
       "      <td>13</td>\n",
       "      <td>1</td>\n",
       "      <td>1240.0</td>\n",
       "      <td>1050.0</td>\n",
       "      <td>11</td>\n",
       "    </tr>\n",
       "    <tr>\n",
       "      <th>2</th>\n",
       "      <td>0.000000</td>\n",
       "      <td>18.666667</td>\n",
       "      <td>0.666667</td>\n",
       "      <td>7.566667</td>\n",
       "      <td>41.333333</td>\n",
       "      <td>30176.333333</td>\n",
       "      <td>5.000000</td>\n",
       "      <td>6227.666667</td>\n",
       "      <td>45.000000</td>\n",
       "      <td>0.0</td>\n",
       "      <td>0.0</td>\n",
       "      <td>1</td>\n",
       "      <td>0</td>\n",
       "      <td>1020.0</td>\n",
       "      <td>1010.0</td>\n",
       "      <td>14</td>\n",
       "    </tr>\n",
       "    <tr>\n",
       "      <th>3</th>\n",
       "      <td>0.000000</td>\n",
       "      <td>19.333333</td>\n",
       "      <td>0.666667</td>\n",
       "      <td>7.933333</td>\n",
       "      <td>49.666667</td>\n",
       "      <td>59556.333333</td>\n",
       "      <td>5.000000</td>\n",
       "      <td>27131.666667</td>\n",
       "      <td>45.000000</td>\n",
       "      <td>0.0</td>\n",
       "      <td>0.0</td>\n",
       "      <td>8</td>\n",
       "      <td>1</td>\n",
       "      <td>1240.0</td>\n",
       "      <td>1050.0</td>\n",
       "      <td>14</td>\n",
       "    </tr>\n",
       "    <tr>\n",
       "      <th>4</th>\n",
       "      <td>0.666667</td>\n",
       "      <td>26.000000</td>\n",
       "      <td>0.666667</td>\n",
       "      <td>7.966667</td>\n",
       "      <td>67.666667</td>\n",
       "      <td>97405.666667</td>\n",
       "      <td>7.333333</td>\n",
       "      <td>35975.666667</td>\n",
       "      <td>45.333333</td>\n",
       "      <td>0.0</td>\n",
       "      <td>0.0</td>\n",
       "      <td>2</td>\n",
       "      <td>1</td>\n",
       "      <td>1020.0</td>\n",
       "      <td>1050.0</td>\n",
       "      <td>15</td>\n",
       "    </tr>\n",
       "  </tbody>\n",
       "</table>\n",
       "</div>"
      ],
      "text/plain": [
       "    assists        bps  goals_scored  ict_index    minutes      selected  \\\n",
       "0  0.000000   1.000000      0.000000   1.566667  16.666667  12277.666667   \n",
       "1  0.000000   1.333333      0.000000   1.600000  17.000000  23177.333333   \n",
       "2  0.000000  18.666667      0.666667   7.566667  41.333333  30176.333333   \n",
       "3  0.000000  19.333333      0.666667   7.933333  49.666667  59556.333333   \n",
       "4  0.666667  26.000000      0.666667   7.966667  67.666667  97405.666667   \n",
       "\n",
       "   rolling_points  transfers_balance      value  penalties_missed  cards  \\\n",
       "0        1.000000        6226.333333  45.000000               0.0    0.0   \n",
       "1        1.000000        9038.666667  45.000000               0.0    0.0   \n",
       "2        5.000000        6227.666667  45.000000               0.0    0.0   \n",
       "3        5.000000       27131.666667  45.000000               0.0    0.0   \n",
       "4        7.333333       35975.666667  45.333333               0.0    0.0   \n",
       "\n",
       "   total_points  was_home  opponent_level  team_level  time  \n",
       "0             1         0          1220.0      1010.0    14  \n",
       "1            13         1          1240.0      1050.0    11  \n",
       "2             1         0          1020.0      1010.0    14  \n",
       "3             8         1          1240.0      1050.0    14  \n",
       "4             2         1          1020.0      1050.0    15  "
      ]
     },
     "execution_count": 39,
     "metadata": {},
     "output_type": "execute_result"
    }
   ],
   "source": [
    "rolling_df_train.head()"
   ]
  },
  {
   "cell_type": "code",
   "execution_count": 40,
   "id": "fc105f24",
   "metadata": {
    "ExecuteTime": {
     "end_time": "2021-06-14T09:11:36.578242Z",
     "start_time": "2021-06-14T09:11:36.569356Z"
    }
   },
   "outputs": [
    {
     "data": {
      "text/plain": [
       "Index(['assists', 'bps', 'goals_scored', 'ict_index', 'minutes', 'selected',\n",
       "       'rolling_points', 'transfers_balance', 'value', 'penalties_missed',\n",
       "       'cards', 'total_points', 'was_home', 'opponent_level', 'team_level',\n",
       "       'time'],\n",
       "      dtype='object')"
      ]
     },
     "execution_count": 40,
     "metadata": {},
     "output_type": "execute_result"
    }
   ],
   "source": [
    "rolling_df_train.columns"
   ]
  },
  {
   "cell_type": "code",
   "execution_count": 41,
   "id": "3d3676b4",
   "metadata": {
    "ExecuteTime": {
     "end_time": "2021-06-14T09:11:36.604870Z",
     "start_time": "2021-06-14T09:11:36.585751Z"
    }
   },
   "outputs": [
    {
     "data": {
      "text/plain": [
       "(5253, 16)"
      ]
     },
     "execution_count": 41,
     "metadata": {},
     "output_type": "execute_result"
    }
   ],
   "source": [
    "rolling_df_train.shape"
   ]
  },
  {
   "cell_type": "markdown",
   "id": "7380f333",
   "metadata": {},
   "source": [
    "## Models for the forwards"
   ]
  },
  {
   "cell_type": "markdown",
   "id": "38850f39",
   "metadata": {},
   "source": [
    "### Gradient Boosting"
   ]
  },
  {
   "cell_type": "code",
   "execution_count": 42,
   "id": "99930c28",
   "metadata": {
    "ExecuteTime": {
     "end_time": "2021-06-14T09:11:36.671593Z",
     "start_time": "2021-06-14T09:11:36.607736Z"
    }
   },
   "outputs": [],
   "source": [
    "X_train=rolling_df_train.drop(columns=['total_points','goals_scored'])\n",
    "X_test=rolling_df_test.drop(columns=['total_points','goals_scored'])"
   ]
  },
  {
   "cell_type": "code",
   "execution_count": 43,
   "id": "337da2af",
   "metadata": {
    "ExecuteTime": {
     "end_time": "2021-06-14T09:11:36.677888Z",
     "start_time": "2021-06-14T09:11:36.674001Z"
    }
   },
   "outputs": [],
   "source": [
    "y_train=rolling_df_train['total_points']\n",
    "y_test=rolling_df_test['total_points']\n"
   ]
  },
  {
   "cell_type": "code",
   "execution_count": 44,
   "id": "3b3c87f5",
   "metadata": {
    "ExecuteTime": {
     "end_time": "2021-06-14T09:11:37.607996Z",
     "start_time": "2021-06-14T09:11:36.681652Z"
    }
   },
   "outputs": [
    {
     "data": {
      "text/plain": [
       "1.2334163531487103"
      ]
     },
     "execution_count": 44,
     "metadata": {},
     "output_type": "execute_result"
    }
   ],
   "source": [
    "from sklearn.ensemble import GradientBoostingRegressor\n",
    "from sklearn.model_selection import GridSearchCV\n",
    "from sklearn.metrics import mean_absolute_error\n",
    "from sklearn.model_selection import cross_val_score\n",
    "\n",
    "reg = GradientBoostingRegressor(random_state=0)\n",
    "reg.fit(X_train, y_train)\n",
    "y_pred=reg.predict(X_test)\n",
    "\n",
    "mean_absolute_error(y_test,y_pred)"
   ]
  },
  {
   "cell_type": "code",
   "execution_count": 45,
   "id": "46a4dfcf",
   "metadata": {
    "ExecuteTime": {
     "end_time": "2021-06-14T09:11:37.616693Z",
     "start_time": "2021-06-14T09:11:37.610480Z"
    }
   },
   "outputs": [
    {
     "data": {
      "text/plain": [
       "'\\nfrom sklearn.metrics import make_scorer\\n\\nparameters = {\\n    \"learning_rate\": [0.01, 0.025, 0.05, 0.075, 0.1, 0.15, 0.2],\\n    \"min_samples_split\": np.linspace(0.1, 0.5, 8),\\n    \"min_samples_leaf\": np.linspace(0.1, 0.5, 8),\\n    \"max_depth\":[3,5,8],\\n    \"max_features\":[\"log2\",\"sqrt\"],\\n    \"n_estimators\":[10,100]\\n    }\\n\\nclf = GridSearchCV(GradientBoostingRegressor(), parameters,cv=3, n_jobs=-1)\\nclf.fit(X_train, y_train)\\n'"
      ]
     },
     "execution_count": 45,
     "metadata": {},
     "output_type": "execute_result"
    }
   ],
   "source": [
    "\"\"\"\n",
    "from sklearn.metrics import make_scorer\n",
    "\n",
    "parameters = {\n",
    "    \"learning_rate\": [0.01, 0.025, 0.05, 0.075, 0.1, 0.15, 0.2],\n",
    "    \"min_samples_split\": np.linspace(0.1, 0.5, 8),\n",
    "    \"min_samples_leaf\": np.linspace(0.1, 0.5, 8),\n",
    "    \"max_depth\":[3,5,8],\n",
    "    \"max_features\":[\"log2\",\"sqrt\"],\n",
    "    \"n_estimators\":[10,100]\n",
    "    }\n",
    "\n",
    "clf = GridSearchCV(GradientBoostingRegressor(), parameters,cv=3, n_jobs=-1)\n",
    "clf.fit(X_train, y_train)\n",
    "\"\"\""
   ]
  },
  {
   "cell_type": "code",
   "execution_count": 46,
   "id": "46df5759",
   "metadata": {
    "ExecuteTime": {
     "end_time": "2021-06-14T09:11:37.622563Z",
     "start_time": "2021-06-14T09:11:37.619661Z"
    }
   },
   "outputs": [],
   "source": [
    "#clf.best_estimator_"
   ]
  },
  {
   "cell_type": "code",
   "execution_count": 47,
   "id": "219f2c82",
   "metadata": {
    "ExecuteTime": {
     "end_time": "2021-06-14T09:11:37.629486Z",
     "start_time": "2021-06-14T09:11:37.626380Z"
    }
   },
   "outputs": [],
   "source": [
    "#model=clf.best_estimator_"
   ]
  },
  {
   "cell_type": "code",
   "execution_count": 48,
   "id": "194cebc5",
   "metadata": {
    "ExecuteTime": {
     "end_time": "2021-06-14T09:11:37.634727Z",
     "start_time": "2021-06-14T09:11:37.632412Z"
    }
   },
   "outputs": [],
   "source": [
    "#y_pred=model.predict(X_test)"
   ]
  },
  {
   "cell_type": "code",
   "execution_count": 49,
   "id": "4873bcc3",
   "metadata": {
    "ExecuteTime": {
     "end_time": "2021-06-14T09:11:37.642343Z",
     "start_time": "2021-06-14T09:11:37.637294Z"
    }
   },
   "outputs": [
    {
     "data": {
      "text/plain": [
       "1.2334163531487103"
      ]
     },
     "execution_count": 49,
     "metadata": {},
     "output_type": "execute_result"
    }
   ],
   "source": [
    "mean_absolute_error(y_test,y_pred)"
   ]
  },
  {
   "cell_type": "code",
   "execution_count": 50,
   "id": "19d3f93f",
   "metadata": {
    "ExecuteTime": {
     "end_time": "2021-06-14T09:11:37.650398Z",
     "start_time": "2021-06-14T09:11:37.646161Z"
    }
   },
   "outputs": [
    {
     "name": "stderr",
     "output_type": "stream",
     "text": [
      "<ipython-input-50-9c4b9cdd679b>:1: SettingWithCopyWarning: \n",
      "A value is trying to be set on a copy of a slice from a DataFrame.\n",
      "Try using .loc[row_indexer,col_indexer] = value instead\n",
      "\n",
      "See the caveats in the documentation: https://pandas.pydata.org/pandas-docs/stable/user_guide/indexing.html#returning-a-view-versus-a-copy\n",
      "  hold_test['y_pred']=y_pred\n"
     ]
    }
   ],
   "source": [
    "hold_test['y_pred']=y_pred"
   ]
  },
  {
   "cell_type": "code",
   "execution_count": 51,
   "id": "8dbaa484",
   "metadata": {
    "ExecuteTime": {
     "end_time": "2021-06-14T09:11:37.657112Z",
     "start_time": "2021-06-14T09:11:37.653228Z"
    }
   },
   "outputs": [
    {
     "name": "stderr",
     "output_type": "stream",
     "text": [
      "<ipython-input-51-088461d3fca5>:1: SettingWithCopyWarning: \n",
      "A value is trying to be set on a copy of a slice from a DataFrame.\n",
      "Try using .loc[row_indexer,col_indexer] = value instead\n",
      "\n",
      "See the caveats in the documentation: https://pandas.pydata.org/pandas-docs/stable/user_guide/indexing.html#returning-a-view-versus-a-copy\n",
      "  hold_test['y_test']=y_test\n"
     ]
    }
   ],
   "source": [
    "hold_test['y_test']=y_test"
   ]
  },
  {
   "cell_type": "code",
   "execution_count": 52,
   "id": "3880ce76",
   "metadata": {
    "ExecuteTime": {
     "end_time": "2021-06-14T09:11:37.671731Z",
     "start_time": "2021-06-14T09:11:37.660350Z"
    },
    "scrolled": true
   },
   "outputs": [
    {
     "data": {
      "text/html": [
       "<div>\n",
       "<style scoped>\n",
       "    .dataframe tbody tr th:only-of-type {\n",
       "        vertical-align: middle;\n",
       "    }\n",
       "\n",
       "    .dataframe tbody tr th {\n",
       "        vertical-align: top;\n",
       "    }\n",
       "\n",
       "    .dataframe thead th {\n",
       "        text-align: right;\n",
       "    }\n",
       "</style>\n",
       "<table border=\"1\" class=\"dataframe\">\n",
       "  <thead>\n",
       "    <tr style=\"text-align: right;\">\n",
       "      <th></th>\n",
       "      <th>name</th>\n",
       "      <th>GW</th>\n",
       "      <th>season</th>\n",
       "      <th>y_pred</th>\n",
       "      <th>y_test</th>\n",
       "    </tr>\n",
       "  </thead>\n",
       "  <tbody>\n",
       "    <tr>\n",
       "      <th>94</th>\n",
       "      <td>chris wood</td>\n",
       "      <td>34</td>\n",
       "      <td>21</td>\n",
       "      <td>2.240322</td>\n",
       "      <td>6</td>\n",
       "    </tr>\n",
       "    <tr>\n",
       "      <th>95</th>\n",
       "      <td>chris wood</td>\n",
       "      <td>35</td>\n",
       "      <td>21</td>\n",
       "      <td>2.961402</td>\n",
       "      <td>6</td>\n",
       "    </tr>\n",
       "    <tr>\n",
       "      <th>96</th>\n",
       "      <td>chris wood</td>\n",
       "      <td>36</td>\n",
       "      <td>21</td>\n",
       "      <td>2.943515</td>\n",
       "      <td>2</td>\n",
       "    </tr>\n",
       "    <tr>\n",
       "      <th>97</th>\n",
       "      <td>chris wood</td>\n",
       "      <td>37</td>\n",
       "      <td>21</td>\n",
       "      <td>3.546029</td>\n",
       "      <td>2</td>\n",
       "    </tr>\n",
       "    <tr>\n",
       "      <th>98</th>\n",
       "      <td>chris wood</td>\n",
       "      <td>38</td>\n",
       "      <td>21</td>\n",
       "      <td>3.415360</td>\n",
       "      <td>2</td>\n",
       "    </tr>\n",
       "  </tbody>\n",
       "</table>\n",
       "</div>"
      ],
      "text/plain": [
       "          name  GW  season    y_pred  y_test\n",
       "94  chris wood  34      21  2.240322       6\n",
       "95  chris wood  35      21  2.961402       6\n",
       "96  chris wood  36      21  2.943515       2\n",
       "97  chris wood  37      21  3.546029       2\n",
       "98  chris wood  38      21  3.415360       2"
      ]
     },
     "execution_count": 52,
     "metadata": {},
     "output_type": "execute_result"
    }
   ],
   "source": [
    "hold_test[hold_test['name']=='chris wood']"
   ]
  },
  {
   "cell_type": "code",
   "execution_count": 382,
   "id": "4706e020",
   "metadata": {
    "ExecuteTime": {
     "end_time": "2021-06-14T15:57:15.245900Z",
     "start_time": "2021-06-14T15:57:15.167415Z"
    }
   },
   "outputs": [
    {
     "data": {
      "text/html": [
       "<div>\n",
       "<style scoped>\n",
       "    .dataframe tbody tr th:only-of-type {\n",
       "        vertical-align: middle;\n",
       "    }\n",
       "\n",
       "    .dataframe tbody tr th {\n",
       "        vertical-align: top;\n",
       "    }\n",
       "\n",
       "    .dataframe thead th {\n",
       "        text-align: right;\n",
       "    }\n",
       "</style>\n",
       "<table border=\"1\" class=\"dataframe\">\n",
       "  <thead>\n",
       "    <tr style=\"text-align: right;\">\n",
       "      <th></th>\n",
       "      <th>name</th>\n",
       "      <th>GW</th>\n",
       "      <th>season</th>\n",
       "      <th>y_pred</th>\n",
       "      <th>y_test</th>\n",
       "    </tr>\n",
       "  </thead>\n",
       "  <tbody>\n",
       "    <tr>\n",
       "      <th>1</th>\n",
       "      <td>aaron ramsdale</td>\n",
       "      <td>32</td>\n",
       "      <td>21</td>\n",
       "      <td>5.6</td>\n",
       "      <td>3</td>\n",
       "    </tr>\n",
       "    <tr>\n",
       "      <th>2</th>\n",
       "      <td>aaron ramsdale</td>\n",
       "      <td>33</td>\n",
       "      <td>21</td>\n",
       "      <td>2.2</td>\n",
       "      <td>9</td>\n",
       "    </tr>\n",
       "    <tr>\n",
       "      <th>3</th>\n",
       "      <td>aaron ramsdale</td>\n",
       "      <td>34</td>\n",
       "      <td>21</td>\n",
       "      <td>2.0</td>\n",
       "      <td>2</td>\n",
       "    </tr>\n",
       "    <tr>\n",
       "      <th>4</th>\n",
       "      <td>aaron ramsdale</td>\n",
       "      <td>35</td>\n",
       "      <td>21</td>\n",
       "      <td>5.6</td>\n",
       "      <td>3</td>\n",
       "    </tr>\n",
       "    <tr>\n",
       "      <th>5</th>\n",
       "      <td>aaron ramsdale</td>\n",
       "      <td>36</td>\n",
       "      <td>21</td>\n",
       "      <td>3.8</td>\n",
       "      <td>10</td>\n",
       "    </tr>\n",
       "    <tr>\n",
       "      <th>...</th>\n",
       "      <td>...</td>\n",
       "      <td>...</td>\n",
       "      <td>...</td>\n",
       "      <td>...</td>\n",
       "      <td>...</td>\n",
       "    </tr>\n",
       "    <tr>\n",
       "      <th>639</th>\n",
       "      <td>ørjan nyland</td>\n",
       "      <td>35</td>\n",
       "      <td>21</td>\n",
       "      <td>0.0</td>\n",
       "      <td>0</td>\n",
       "    </tr>\n",
       "    <tr>\n",
       "      <th>640</th>\n",
       "      <td>ørjan nyland</td>\n",
       "      <td>35</td>\n",
       "      <td>21</td>\n",
       "      <td>0.0</td>\n",
       "      <td>0</td>\n",
       "    </tr>\n",
       "    <tr>\n",
       "      <th>641</th>\n",
       "      <td>ørjan nyland</td>\n",
       "      <td>36</td>\n",
       "      <td>21</td>\n",
       "      <td>0.0</td>\n",
       "      <td>0</td>\n",
       "    </tr>\n",
       "    <tr>\n",
       "      <th>642</th>\n",
       "      <td>ørjan nyland</td>\n",
       "      <td>37</td>\n",
       "      <td>21</td>\n",
       "      <td>0.0</td>\n",
       "      <td>0</td>\n",
       "    </tr>\n",
       "    <tr>\n",
       "      <th>643</th>\n",
       "      <td>ørjan nyland</td>\n",
       "      <td>38</td>\n",
       "      <td>21</td>\n",
       "      <td>0.0</td>\n",
       "      <td>0</td>\n",
       "    </tr>\n",
       "  </tbody>\n",
       "</table>\n",
       "<p>560 rows × 5 columns</p>\n",
       "</div>"
      ],
      "text/plain": [
       "               name  GW  season  y_pred  y_test\n",
       "1    aaron ramsdale  32      21     5.6       3\n",
       "2    aaron ramsdale  33      21     2.2       9\n",
       "3    aaron ramsdale  34      21     2.0       2\n",
       "4    aaron ramsdale  35      21     5.6       3\n",
       "5    aaron ramsdale  36      21     3.8      10\n",
       "..              ...  ..     ...     ...     ...\n",
       "639    ørjan nyland  35      21     0.0       0\n",
       "640    ørjan nyland  35      21     0.0       0\n",
       "641    ørjan nyland  36      21     0.0       0\n",
       "642    ørjan nyland  37      21     0.0       0\n",
       "643    ørjan nyland  38      21     0.0       0\n",
       "\n",
       "[560 rows x 5 columns]"
      ]
     },
     "execution_count": 382,
     "metadata": {},
     "output_type": "execute_result"
    }
   ],
   "source": [
    "hold_test"
   ]
  },
  {
   "cell_type": "code",
   "execution_count": 53,
   "id": "6f4a45af",
   "metadata": {
    "ExecuteTime": {
     "end_time": "2021-06-14T09:11:37.684915Z",
     "start_time": "2021-06-14T09:11:37.674584Z"
    },
    "scrolled": true
   },
   "outputs": [
    {
     "data": {
      "text/html": [
       "<div>\n",
       "<style scoped>\n",
       "    .dataframe tbody tr th:only-of-type {\n",
       "        vertical-align: middle;\n",
       "    }\n",
       "\n",
       "    .dataframe tbody tr th {\n",
       "        vertical-align: top;\n",
       "    }\n",
       "\n",
       "    .dataframe thead th {\n",
       "        text-align: right;\n",
       "    }\n",
       "</style>\n",
       "<table border=\"1\" class=\"dataframe\">\n",
       "  <thead>\n",
       "    <tr style=\"text-align: right;\">\n",
       "      <th></th>\n",
       "      <th>name</th>\n",
       "      <th>GW</th>\n",
       "      <th>season</th>\n",
       "      <th>y_pred</th>\n",
       "      <th>y_test</th>\n",
       "    </tr>\n",
       "  </thead>\n",
       "  <tbody>\n",
       "    <tr>\n",
       "      <th>191</th>\n",
       "      <td>harry kane</td>\n",
       "      <td>34</td>\n",
       "      <td>21</td>\n",
       "      <td>7.452984</td>\n",
       "      <td>2</td>\n",
       "    </tr>\n",
       "    <tr>\n",
       "      <th>192</th>\n",
       "      <td>harry kane</td>\n",
       "      <td>35</td>\n",
       "      <td>21</td>\n",
       "      <td>3.947899</td>\n",
       "      <td>2</td>\n",
       "    </tr>\n",
       "    <tr>\n",
       "      <th>193</th>\n",
       "      <td>harry kane</td>\n",
       "      <td>36</td>\n",
       "      <td>21</td>\n",
       "      <td>4.261283</td>\n",
       "      <td>8</td>\n",
       "    </tr>\n",
       "    <tr>\n",
       "      <th>194</th>\n",
       "      <td>harry kane</td>\n",
       "      <td>37</td>\n",
       "      <td>21</td>\n",
       "      <td>4.810322</td>\n",
       "      <td>2</td>\n",
       "    </tr>\n",
       "    <tr>\n",
       "      <th>195</th>\n",
       "      <td>harry kane</td>\n",
       "      <td>38</td>\n",
       "      <td>21</td>\n",
       "      <td>4.177335</td>\n",
       "      <td>10</td>\n",
       "    </tr>\n",
       "  </tbody>\n",
       "</table>\n",
       "</div>"
      ],
      "text/plain": [
       "           name  GW  season    y_pred  y_test\n",
       "191  harry kane  34      21  7.452984       2\n",
       "192  harry kane  35      21  3.947899       2\n",
       "193  harry kane  36      21  4.261283       8\n",
       "194  harry kane  37      21  4.810322       2\n",
       "195  harry kane  38      21  4.177335      10"
      ]
     },
     "execution_count": 53,
     "metadata": {},
     "output_type": "execute_result"
    }
   ],
   "source": [
    "hold_test[hold_test['name']=='harry kane']"
   ]
  },
  {
   "cell_type": "code",
   "execution_count": 54,
   "id": "a62898cd",
   "metadata": {
    "ExecuteTime": {
     "end_time": "2021-06-14T09:11:37.893390Z",
     "start_time": "2021-06-14T09:11:37.687590Z"
    },
    "scrolled": true
   },
   "outputs": [
    {
     "data": {
      "text/plain": [
       "<matplotlib.legend.Legend at 0x15c6cb250>"
      ]
     },
     "execution_count": 54,
     "metadata": {},
     "output_type": "execute_result"
    },
    {
     "data": {
      "image/png": "[encoded data removed]",
      "text/plain": [
       "<Figure size 432x288 with 1 Axes>"
      ]
     },
     "metadata": {
      "needs_background": "light"
     },
     "output_type": "display_data"
    }
   ],
   "source": [
    "hold_df=hold_test.copy()\n",
    "plt.plot(hold_df[hold_df['name']=='harry kane']['GW'],np.abs(hold_df[hold_df['name']=='harry kane']['y_pred']-hold_df[hold_df['name']=='harry kane']['y_test']),label='harry kane')\n",
    "plt.plot(hold_df[hold_df['name']=='timo werner']['GW'],np.abs(hold_df[hold_df['name']=='timo werner']['y_pred']-hold_df[hold_df['name']=='timo werner']['y_test']),label='timo werner')\n",
    "plt.plot(hold_df[hold_df['name']=='aaron connolly']['GW'],np.abs(hold_df[hold_df['name']=='aaron connolly']['y_pred']-hold_df[hold_df['name']=='aaron connolly']['y_test']),label='aaron connolly')\n",
    "plt.plot(hold_df[hold_df['name']=='anthony martial']['GW'],np.abs(hold_df[hold_df['name']=='anthony martial']['y_pred']-hold_df[hold_df['name']=='anthony martial']['y_test']),label='anthony martial')\n",
    "plt.plot([28,30,32,34,36,38],[1.2592478095185238,1.2592478095185238,1.2592478095185238,1.2592478095185238,1.2592478095185238,1.2592478095185238],label='model')\n",
    "plt.legend()"
   ]
  },
  {
   "cell_type": "code",
   "execution_count": 55,
   "id": "b4064baa",
   "metadata": {
    "ExecuteTime": {
     "end_time": "2021-06-14T09:11:37.906101Z",
     "start_time": "2021-06-14T09:11:37.896479Z"
    },
    "scrolled": false
   },
   "outputs": [
    {
     "data": {
      "text/html": [
       "<div>\n",
       "<style scoped>\n",
       "    .dataframe tbody tr th:only-of-type {\n",
       "        vertical-align: middle;\n",
       "    }\n",
       "\n",
       "    .dataframe tbody tr th {\n",
       "        vertical-align: top;\n",
       "    }\n",
       "\n",
       "    .dataframe thead th {\n",
       "        text-align: right;\n",
       "    }\n",
       "</style>\n",
       "<table border=\"1\" class=\"dataframe\">\n",
       "  <thead>\n",
       "    <tr style=\"text-align: right;\">\n",
       "      <th></th>\n",
       "      <th>name</th>\n",
       "      <th>GW</th>\n",
       "      <th>season</th>\n",
       "      <th>y_pred</th>\n",
       "      <th>y_test</th>\n",
       "    </tr>\n",
       "  </thead>\n",
       "  <tbody>\n",
       "  </tbody>\n",
       "</table>\n",
       "</div>"
      ],
      "text/plain": [
       "Empty DataFrame\n",
       "Columns: [name, GW, season, y_pred, y_test]\n",
       "Index: []"
      ]
     },
     "execution_count": 55,
     "metadata": {},
     "output_type": "execute_result"
    }
   ],
   "source": [
    "hold_df[hold_df['GW']==28].sort_values(by='y_pred',ascending=False).head(5)"
   ]
  },
  {
   "cell_type": "code",
   "execution_count": 56,
   "id": "c04c4cc3",
   "metadata": {
    "ExecuteTime": {
     "end_time": "2021-06-14T09:11:37.917982Z",
     "start_time": "2021-06-14T09:11:37.908748Z"
    },
    "scrolled": false
   },
   "outputs": [
    {
     "data": {
      "text/html": [
       "<div>\n",
       "<style scoped>\n",
       "    .dataframe tbody tr th:only-of-type {\n",
       "        vertical-align: middle;\n",
       "    }\n",
       "\n",
       "    .dataframe tbody tr th {\n",
       "        vertical-align: top;\n",
       "    }\n",
       "\n",
       "    .dataframe thead th {\n",
       "        text-align: right;\n",
       "    }\n",
       "</style>\n",
       "<table border=\"1\" class=\"dataframe\">\n",
       "  <thead>\n",
       "    <tr style=\"text-align: right;\">\n",
       "      <th></th>\n",
       "      <th>name</th>\n",
       "      <th>GW</th>\n",
       "      <th>season</th>\n",
       "      <th>y_pred</th>\n",
       "      <th>y_test</th>\n",
       "    </tr>\n",
       "  </thead>\n",
       "  <tbody>\n",
       "  </tbody>\n",
       "</table>\n",
       "</div>"
      ],
      "text/plain": [
       "Empty DataFrame\n",
       "Columns: [name, GW, season, y_pred, y_test]\n",
       "Index: []"
      ]
     },
     "execution_count": 56,
     "metadata": {},
     "output_type": "execute_result"
    }
   ],
   "source": [
    "hold_df[hold_df['GW']==28].sort_values(by='y_test',ascending=False).head(5)"
   ]
  },
  {
   "cell_type": "code",
   "execution_count": 57,
   "id": "e3ce4a48",
   "metadata": {
    "ExecuteTime": {
     "end_time": "2021-06-14T09:11:37.955449Z",
     "start_time": "2021-06-14T09:11:37.920433Z"
    },
    "scrolled": true
   },
   "outputs": [
    {
     "data": {
      "text/html": [
       "<div>\n",
       "<style scoped>\n",
       "    .dataframe tbody tr th:only-of-type {\n",
       "        vertical-align: middle;\n",
       "    }\n",
       "\n",
       "    .dataframe tbody tr th {\n",
       "        vertical-align: top;\n",
       "    }\n",
       "\n",
       "    .dataframe thead th {\n",
       "        text-align: right;\n",
       "    }\n",
       "</style>\n",
       "<table border=\"1\" class=\"dataframe\">\n",
       "  <thead>\n",
       "    <tr style=\"text-align: right;\">\n",
       "      <th></th>\n",
       "      <th>name</th>\n",
       "      <th>GW</th>\n",
       "      <th>season</th>\n",
       "      <th>y_pred</th>\n",
       "      <th>y_test</th>\n",
       "    </tr>\n",
       "  </thead>\n",
       "  <tbody>\n",
       "    <tr>\n",
       "      <th>328</th>\n",
       "      <td>michail antonio</td>\n",
       "      <td>34</td>\n",
       "      <td>21</td>\n",
       "      <td>0.590040</td>\n",
       "      <td>13</td>\n",
       "    </tr>\n",
       "    <tr>\n",
       "      <th>125</th>\n",
       "      <td>danny welbeck</td>\n",
       "      <td>34</td>\n",
       "      <td>21</td>\n",
       "      <td>3.147722</td>\n",
       "      <td>12</td>\n",
       "    </tr>\n",
       "    <tr>\n",
       "      <th>140</th>\n",
       "      <td>dominic calvert-lewin</td>\n",
       "      <td>34</td>\n",
       "      <td>21</td>\n",
       "      <td>2.046661</td>\n",
       "      <td>8</td>\n",
       "    </tr>\n",
       "    <tr>\n",
       "      <th>402</th>\n",
       "      <td>roberto firmino</td>\n",
       "      <td>35</td>\n",
       "      <td>21</td>\n",
       "      <td>3.541645</td>\n",
       "      <td>13</td>\n",
       "    </tr>\n",
       "    <tr>\n",
       "      <th>64</th>\n",
       "      <td>callum wilson</td>\n",
       "      <td>35</td>\n",
       "      <td>21</td>\n",
       "      <td>2.278475</td>\n",
       "      <td>13</td>\n",
       "    </tr>\n",
       "    <tr>\n",
       "      <th>121</th>\n",
       "      <td>danny ings</td>\n",
       "      <td>35</td>\n",
       "      <td>21</td>\n",
       "      <td>2.298090</td>\n",
       "      <td>13</td>\n",
       "    </tr>\n",
       "    <tr>\n",
       "      <th>408</th>\n",
       "      <td>rodrigo moreno</td>\n",
       "      <td>36</td>\n",
       "      <td>21</td>\n",
       "      <td>1.821796</td>\n",
       "      <td>12</td>\n",
       "    </tr>\n",
       "    <tr>\n",
       "      <th>86</th>\n",
       "      <td>che adams</td>\n",
       "      <td>36</td>\n",
       "      <td>21</td>\n",
       "      <td>3.602758</td>\n",
       "      <td>9</td>\n",
       "    </tr>\n",
       "    <tr>\n",
       "      <th>127</th>\n",
       "      <td>danny welbeck</td>\n",
       "      <td>36</td>\n",
       "      <td>21</td>\n",
       "      <td>2.668449</td>\n",
       "      <td>9</td>\n",
       "    </tr>\n",
       "    <tr>\n",
       "      <th>378</th>\n",
       "      <td>patrick bamford</td>\n",
       "      <td>37</td>\n",
       "      <td>21</td>\n",
       "      <td>3.350019</td>\n",
       "      <td>12</td>\n",
       "    </tr>\n",
       "    <tr>\n",
       "      <th>331</th>\n",
       "      <td>michail antonio</td>\n",
       "      <td>37</td>\n",
       "      <td>21</td>\n",
       "      <td>4.542515</td>\n",
       "      <td>9</td>\n",
       "    </tr>\n",
       "    <tr>\n",
       "      <th>399</th>\n",
       "      <td>richarlison de andrade</td>\n",
       "      <td>37</td>\n",
       "      <td>21</td>\n",
       "      <td>4.031920</td>\n",
       "      <td>9</td>\n",
       "    </tr>\n",
       "    <tr>\n",
       "      <th>211</th>\n",
       "      <td>jamie vardy</td>\n",
       "      <td>38</td>\n",
       "      <td>21</td>\n",
       "      <td>4.441737</td>\n",
       "      <td>13</td>\n",
       "    </tr>\n",
       "    <tr>\n",
       "      <th>195</th>\n",
       "      <td>harry kane</td>\n",
       "      <td>38</td>\n",
       "      <td>21</td>\n",
       "      <td>4.177335</td>\n",
       "      <td>10</td>\n",
       "    </tr>\n",
       "    <tr>\n",
       "      <th>417</th>\n",
       "      <td>sergio agüero</td>\n",
       "      <td>38</td>\n",
       "      <td>21</td>\n",
       "      <td>2.715272</td>\n",
       "      <td>10</td>\n",
       "    </tr>\n",
       "  </tbody>\n",
       "</table>\n",
       "</div>"
      ],
      "text/plain": [
       "                       name  GW  season    y_pred  y_test\n",
       "328         michail antonio  34      21  0.590040      13\n",
       "125           danny welbeck  34      21  3.147722      12\n",
       "140   dominic calvert-lewin  34      21  2.046661       8\n",
       "402         roberto firmino  35      21  3.541645      13\n",
       "64            callum wilson  35      21  2.278475      13\n",
       "121              danny ings  35      21  2.298090      13\n",
       "408          rodrigo moreno  36      21  1.821796      12\n",
       "86                che adams  36      21  3.602758       9\n",
       "127           danny welbeck  36      21  2.668449       9\n",
       "378         patrick bamford  37      21  3.350019      12\n",
       "331         michail antonio  37      21  4.542515       9\n",
       "399  richarlison de andrade  37      21  4.031920       9\n",
       "211             jamie vardy  38      21  4.441737      13\n",
       "195              harry kane  38      21  4.177335      10\n",
       "417           sergio agüero  38      21  2.715272      10"
      ]
     },
     "execution_count": 57,
     "metadata": {},
     "output_type": "execute_result"
    }
   ],
   "source": [
    "GW_list=[35,36,37,38]\n",
    "top_predicted_fwd=hold_df[hold_df['GW']==34].sort_values(by='y_pred',ascending=False).head(3)\n",
    "for GW in GW_list:\n",
    "    df1=hold_df[hold_df['GW']==GW].sort_values(by='y_pred',ascending=False).head(3)\n",
    "    top_predicted_fwd=pd.concat([top_predicted_fwd,df1])\n",
    "top_predicted_fwd\n",
    "\n",
    "\n",
    "GW_list=[35,36,37,38]\n",
    "top_actual_fwd=hold_df[hold_df['GW']==34].sort_values(by='y_test',ascending=False).head(3)\n",
    "for GW in GW_list:\n",
    "    df1=hold_df[hold_df['GW']==GW].sort_values(by='y_test',ascending=False).head(3)\n",
    "    top_actual_fwd=pd.concat([top_actual_fwd,df1])\n",
    "top_actual_fwd"
   ]
  },
  {
   "cell_type": "markdown",
   "id": "069742ca",
   "metadata": {},
   "source": [
    "### KNN"
   ]
  },
  {
   "cell_type": "code",
   "execution_count": 58,
   "id": "168198d2",
   "metadata": {
    "ExecuteTime": {
     "end_time": "2021-06-14T09:11:37.965673Z",
     "start_time": "2021-06-14T09:11:37.958246Z"
    }
   },
   "outputs": [],
   "source": [
    "X_train=rolling_df_train.drop(columns='total_points')\n",
    "X_test=rolling_df_test.drop(columns='total_points')\n",
    "\n",
    "y_train=rolling_df_train['total_points']\n",
    "y_test=rolling_df_test['total_points']"
   ]
  },
  {
   "cell_type": "code",
   "execution_count": 59,
   "id": "a8130a5d",
   "metadata": {
    "ExecuteTime": {
     "end_time": "2021-06-14T09:11:37.992578Z",
     "start_time": "2021-06-14T09:11:37.967883Z"
    }
   },
   "outputs": [
    {
     "data": {
      "text/html": [
       "<div>\n",
       "<style scoped>\n",
       "    .dataframe tbody tr th:only-of-type {\n",
       "        vertical-align: middle;\n",
       "    }\n",
       "\n",
       "    .dataframe tbody tr th {\n",
       "        vertical-align: top;\n",
       "    }\n",
       "\n",
       "    .dataframe thead th {\n",
       "        text-align: right;\n",
       "    }\n",
       "</style>\n",
       "<table border=\"1\" class=\"dataframe\">\n",
       "  <thead>\n",
       "    <tr style=\"text-align: right;\">\n",
       "      <th></th>\n",
       "      <th>assists</th>\n",
       "      <th>bps</th>\n",
       "      <th>goals_scored</th>\n",
       "      <th>ict_index</th>\n",
       "      <th>minutes</th>\n",
       "      <th>selected</th>\n",
       "      <th>rolling_points</th>\n",
       "      <th>transfers_balance</th>\n",
       "      <th>value</th>\n",
       "      <th>penalties_missed</th>\n",
       "      <th>cards</th>\n",
       "      <th>was_home</th>\n",
       "      <th>opponent_level</th>\n",
       "      <th>team_level</th>\n",
       "      <th>time</th>\n",
       "    </tr>\n",
       "  </thead>\n",
       "  <tbody>\n",
       "    <tr>\n",
       "      <th>0</th>\n",
       "      <td>0.000000</td>\n",
       "      <td>1.000000</td>\n",
       "      <td>0.000000</td>\n",
       "      <td>1.566667e+00</td>\n",
       "      <td>16.666667</td>\n",
       "      <td>12277.666667</td>\n",
       "      <td>1.000000</td>\n",
       "      <td>6226.333333</td>\n",
       "      <td>45.000000</td>\n",
       "      <td>0.0</td>\n",
       "      <td>0.0</td>\n",
       "      <td>0</td>\n",
       "      <td>1220.0</td>\n",
       "      <td>1010.0</td>\n",
       "      <td>14</td>\n",
       "    </tr>\n",
       "    <tr>\n",
       "      <th>1</th>\n",
       "      <td>0.000000</td>\n",
       "      <td>1.333333</td>\n",
       "      <td>0.000000</td>\n",
       "      <td>1.600000e+00</td>\n",
       "      <td>17.000000</td>\n",
       "      <td>23177.333333</td>\n",
       "      <td>1.000000</td>\n",
       "      <td>9038.666667</td>\n",
       "      <td>45.000000</td>\n",
       "      <td>0.0</td>\n",
       "      <td>0.0</td>\n",
       "      <td>1</td>\n",
       "      <td>1240.0</td>\n",
       "      <td>1050.0</td>\n",
       "      <td>11</td>\n",
       "    </tr>\n",
       "    <tr>\n",
       "      <th>2</th>\n",
       "      <td>0.000000</td>\n",
       "      <td>18.666667</td>\n",
       "      <td>0.666667</td>\n",
       "      <td>7.566667e+00</td>\n",
       "      <td>41.333333</td>\n",
       "      <td>30176.333333</td>\n",
       "      <td>5.000000</td>\n",
       "      <td>6227.666667</td>\n",
       "      <td>45.000000</td>\n",
       "      <td>0.0</td>\n",
       "      <td>0.0</td>\n",
       "      <td>0</td>\n",
       "      <td>1020.0</td>\n",
       "      <td>1010.0</td>\n",
       "      <td>14</td>\n",
       "    </tr>\n",
       "    <tr>\n",
       "      <th>3</th>\n",
       "      <td>0.000000</td>\n",
       "      <td>19.333333</td>\n",
       "      <td>0.666667</td>\n",
       "      <td>7.933333e+00</td>\n",
       "      <td>49.666667</td>\n",
       "      <td>59556.333333</td>\n",
       "      <td>5.000000</td>\n",
       "      <td>27131.666667</td>\n",
       "      <td>45.000000</td>\n",
       "      <td>0.0</td>\n",
       "      <td>0.0</td>\n",
       "      <td>1</td>\n",
       "      <td>1240.0</td>\n",
       "      <td>1050.0</td>\n",
       "      <td>14</td>\n",
       "    </tr>\n",
       "    <tr>\n",
       "      <th>4</th>\n",
       "      <td>0.666667</td>\n",
       "      <td>26.000000</td>\n",
       "      <td>0.666667</td>\n",
       "      <td>7.966667e+00</td>\n",
       "      <td>67.666667</td>\n",
       "      <td>97405.666667</td>\n",
       "      <td>7.333333</td>\n",
       "      <td>35975.666667</td>\n",
       "      <td>45.333333</td>\n",
       "      <td>0.0</td>\n",
       "      <td>0.0</td>\n",
       "      <td>1</td>\n",
       "      <td>1020.0</td>\n",
       "      <td>1050.0</td>\n",
       "      <td>15</td>\n",
       "    </tr>\n",
       "    <tr>\n",
       "      <th>...</th>\n",
       "      <td>...</td>\n",
       "      <td>...</td>\n",
       "      <td>...</td>\n",
       "      <td>...</td>\n",
       "      <td>...</td>\n",
       "      <td>...</td>\n",
       "      <td>...</td>\n",
       "      <td>...</td>\n",
       "      <td>...</td>\n",
       "      <td>...</td>\n",
       "      <td>...</td>\n",
       "      <td>...</td>\n",
       "      <td>...</td>\n",
       "      <td>...</td>\n",
       "      <td>...</td>\n",
       "    </tr>\n",
       "    <tr>\n",
       "      <th>5248</th>\n",
       "      <td>0.000000</td>\n",
       "      <td>0.000000</td>\n",
       "      <td>0.000000</td>\n",
       "      <td>8.881784e-15</td>\n",
       "      <td>0.000000</td>\n",
       "      <td>7082.666667</td>\n",
       "      <td>0.000000</td>\n",
       "      <td>-47.333333</td>\n",
       "      <td>48.000000</td>\n",
       "      <td>0.0</td>\n",
       "      <td>0.0</td>\n",
       "      <td>1</td>\n",
       "      <td>1110.0</td>\n",
       "      <td>1050.0</td>\n",
       "      <td>20</td>\n",
       "    </tr>\n",
       "    <tr>\n",
       "      <th>5249</th>\n",
       "      <td>0.000000</td>\n",
       "      <td>0.000000</td>\n",
       "      <td>0.000000</td>\n",
       "      <td>8.881784e-15</td>\n",
       "      <td>0.000000</td>\n",
       "      <td>7033.000000</td>\n",
       "      <td>0.000000</td>\n",
       "      <td>-49.666667</td>\n",
       "      <td>48.000000</td>\n",
       "      <td>0.0</td>\n",
       "      <td>0.0</td>\n",
       "      <td>0</td>\n",
       "      <td>1050.0</td>\n",
       "      <td>1070.0</td>\n",
       "      <td>12</td>\n",
       "    </tr>\n",
       "    <tr>\n",
       "      <th>5250</th>\n",
       "      <td>0.000000</td>\n",
       "      <td>0.000000</td>\n",
       "      <td>0.000000</td>\n",
       "      <td>8.881784e-15</td>\n",
       "      <td>0.000000</td>\n",
       "      <td>6994.000000</td>\n",
       "      <td>0.000000</td>\n",
       "      <td>-39.333333</td>\n",
       "      <td>48.000000</td>\n",
       "      <td>0.0</td>\n",
       "      <td>0.0</td>\n",
       "      <td>1</td>\n",
       "      <td>1160.0</td>\n",
       "      <td>1050.0</td>\n",
       "      <td>20</td>\n",
       "    </tr>\n",
       "    <tr>\n",
       "      <th>5251</th>\n",
       "      <td>0.000000</td>\n",
       "      <td>0.000000</td>\n",
       "      <td>0.000000</td>\n",
       "      <td>8.881784e-15</td>\n",
       "      <td>0.000000</td>\n",
       "      <td>6961.666667</td>\n",
       "      <td>0.000000</td>\n",
       "      <td>-32.333333</td>\n",
       "      <td>48.000000</td>\n",
       "      <td>0.0</td>\n",
       "      <td>0.0</td>\n",
       "      <td>0</td>\n",
       "      <td>1130.0</td>\n",
       "      <td>1070.0</td>\n",
       "      <td>20</td>\n",
       "    </tr>\n",
       "    <tr>\n",
       "      <th>5252</th>\n",
       "      <td>0.000000</td>\n",
       "      <td>0.000000</td>\n",
       "      <td>0.000000</td>\n",
       "      <td>8.881784e-15</td>\n",
       "      <td>0.000000</td>\n",
       "      <td>6940.666667</td>\n",
       "      <td>0.000000</td>\n",
       "      <td>-20.666667</td>\n",
       "      <td>48.000000</td>\n",
       "      <td>0.0</td>\n",
       "      <td>0.0</td>\n",
       "      <td>1</td>\n",
       "      <td>1250.0</td>\n",
       "      <td>1050.0</td>\n",
       "      <td>13</td>\n",
       "    </tr>\n",
       "  </tbody>\n",
       "</table>\n",
       "<p>5253 rows × 15 columns</p>\n",
       "</div>"
      ],
      "text/plain": [
       "       assists        bps  goals_scored     ict_index    minutes  \\\n",
       "0     0.000000   1.000000      0.000000  1.566667e+00  16.666667   \n",
       "1     0.000000   1.333333      0.000000  1.600000e+00  17.000000   \n",
       "2     0.000000  18.666667      0.666667  7.566667e+00  41.333333   \n",
       "3     0.000000  19.333333      0.666667  7.933333e+00  49.666667   \n",
       "4     0.666667  26.000000      0.666667  7.966667e+00  67.666667   \n",
       "...        ...        ...           ...           ...        ...   \n",
       "5248  0.000000   0.000000      0.000000  8.881784e-15   0.000000   \n",
       "5249  0.000000   0.000000      0.000000  8.881784e-15   0.000000   \n",
       "5250  0.000000   0.000000      0.000000  8.881784e-15   0.000000   \n",
       "5251  0.000000   0.000000      0.000000  8.881784e-15   0.000000   \n",
       "5252  0.000000   0.000000      0.000000  8.881784e-15   0.000000   \n",
       "\n",
       "          selected  rolling_points  transfers_balance      value  \\\n",
       "0     12277.666667        1.000000        6226.333333  45.000000   \n",
       "1     23177.333333        1.000000        9038.666667  45.000000   \n",
       "2     30176.333333        5.000000        6227.666667  45.000000   \n",
       "3     59556.333333        5.000000       27131.666667  45.000000   \n",
       "4     97405.666667        7.333333       35975.666667  45.333333   \n",
       "...            ...             ...                ...        ...   \n",
       "5248   7082.666667        0.000000         -47.333333  48.000000   \n",
       "5249   7033.000000        0.000000         -49.666667  48.000000   \n",
       "5250   6994.000000        0.000000         -39.333333  48.000000   \n",
       "5251   6961.666667        0.000000         -32.333333  48.000000   \n",
       "5252   6940.666667        0.000000         -20.666667  48.000000   \n",
       "\n",
       "      penalties_missed  cards  was_home  opponent_level  team_level  time  \n",
       "0                  0.0    0.0         0          1220.0      1010.0    14  \n",
       "1                  0.0    0.0         1          1240.0      1050.0    11  \n",
       "2                  0.0    0.0         0          1020.0      1010.0    14  \n",
       "3                  0.0    0.0         1          1240.0      1050.0    14  \n",
       "4                  0.0    0.0         1          1020.0      1050.0    15  \n",
       "...                ...    ...       ...             ...         ...   ...  \n",
       "5248               0.0    0.0         1          1110.0      1050.0    20  \n",
       "5249               0.0    0.0         0          1050.0      1070.0    12  \n",
       "5250               0.0    0.0         1          1160.0      1050.0    20  \n",
       "5251               0.0    0.0         0          1130.0      1070.0    20  \n",
       "5252               0.0    0.0         1          1250.0      1050.0    13  \n",
       "\n",
       "[5253 rows x 15 columns]"
      ]
     },
     "execution_count": 59,
     "metadata": {},
     "output_type": "execute_result"
    }
   ],
   "source": [
    "X_train"
   ]
  },
  {
   "cell_type": "code",
   "execution_count": 60,
   "id": "1c669355",
   "metadata": {
    "ExecuteTime": {
     "end_time": "2021-06-14T09:11:38.008845Z",
     "start_time": "2021-06-14T09:11:37.995249Z"
    }
   },
   "outputs": [],
   "source": [
    "from sklearn.preprocessing import MinMaxScaler\n",
    "\n",
    "scaler = MinMaxScaler()\n",
    "scaler.fit(X_train)\n",
    "X_train=scaler.transform(X_train)\n",
    "X_test=scaler.transform(X_test)"
   ]
  },
  {
   "cell_type": "code",
   "execution_count": 61,
   "id": "9c04f82c",
   "metadata": {
    "ExecuteTime": {
     "end_time": "2021-06-14T09:11:38.238614Z",
     "start_time": "2021-06-14T09:11:38.012527Z"
    }
   },
   "outputs": [
    {
     "data": {
      "text/plain": [
       "0.11958485352570562"
      ]
     },
     "execution_count": 61,
     "metadata": {},
     "output_type": "execute_result"
    }
   ],
   "source": [
    "from sklearn.neighbors import KNeighborsRegressor\n",
    "from sklearn.model_selection import GridSearchCV\n",
    "\n",
    "reg = KNeighborsRegressor()\n",
    "reg.fit(X_train, y_train)\n",
    "\n",
    "result=cross_val_score(reg, X_train, y_train).mean()\n",
    "\n",
    "result\n"
   ]
  },
  {
   "cell_type": "code",
   "execution_count": 62,
   "id": "b1a323aa",
   "metadata": {
    "ExecuteTime": {
     "end_time": "2021-06-14T09:11:38.264533Z",
     "start_time": "2021-06-14T09:11:38.241490Z"
    }
   },
   "outputs": [
    {
     "data": {
      "text/plain": [
       "1.2436123348017618"
      ]
     },
     "execution_count": 62,
     "metadata": {},
     "output_type": "execute_result"
    }
   ],
   "source": [
    "y_pred=reg.predict(X_test)\n",
    "\n",
    "mean_absolute_error(y_test,y_pred)"
   ]
  },
  {
   "cell_type": "markdown",
   "id": "a19cb7b9",
   "metadata": {},
   "source": [
    "### Neural network"
   ]
  },
  {
   "cell_type": "code",
   "execution_count": 63,
   "id": "36683b0e",
   "metadata": {
    "ExecuteTime": {
     "end_time": "2021-06-14T09:11:38.272816Z",
     "start_time": "2021-06-14T09:11:38.267013Z"
    }
   },
   "outputs": [],
   "source": [
    "X_train=rolling_df_train.drop(columns='total_points')\n",
    "X_test=rolling_df_test.drop(columns='total_points')\n",
    "\n",
    "y_train=rolling_df_train['total_points']\n",
    "y_test=rolling_df_test['total_points']"
   ]
  },
  {
   "cell_type": "code",
   "execution_count": 64,
   "id": "ae0d6b8b",
   "metadata": {
    "ExecuteTime": {
     "end_time": "2021-06-14T09:11:38.299771Z",
     "start_time": "2021-06-14T09:11:38.275547Z"
    }
   },
   "outputs": [
    {
     "data": {
      "text/html": [
       "<div>\n",
       "<style scoped>\n",
       "    .dataframe tbody tr th:only-of-type {\n",
       "        vertical-align: middle;\n",
       "    }\n",
       "\n",
       "    .dataframe tbody tr th {\n",
       "        vertical-align: top;\n",
       "    }\n",
       "\n",
       "    .dataframe thead th {\n",
       "        text-align: right;\n",
       "    }\n",
       "</style>\n",
       "<table border=\"1\" class=\"dataframe\">\n",
       "  <thead>\n",
       "    <tr style=\"text-align: right;\">\n",
       "      <th></th>\n",
       "      <th>assists</th>\n",
       "      <th>bps</th>\n",
       "      <th>goals_scored</th>\n",
       "      <th>ict_index</th>\n",
       "      <th>minutes</th>\n",
       "      <th>selected</th>\n",
       "      <th>rolling_points</th>\n",
       "      <th>transfers_balance</th>\n",
       "      <th>value</th>\n",
       "      <th>penalties_missed</th>\n",
       "      <th>cards</th>\n",
       "      <th>was_home</th>\n",
       "      <th>opponent_level</th>\n",
       "      <th>team_level</th>\n",
       "      <th>time</th>\n",
       "    </tr>\n",
       "  </thead>\n",
       "  <tbody>\n",
       "    <tr>\n",
       "      <th>0</th>\n",
       "      <td>0.000000</td>\n",
       "      <td>1.000000</td>\n",
       "      <td>0.000000</td>\n",
       "      <td>1.566667e+00</td>\n",
       "      <td>16.666667</td>\n",
       "      <td>12277.666667</td>\n",
       "      <td>1.000000</td>\n",
       "      <td>6226.333333</td>\n",
       "      <td>45.000000</td>\n",
       "      <td>0.0</td>\n",
       "      <td>0.0</td>\n",
       "      <td>0</td>\n",
       "      <td>1220.0</td>\n",
       "      <td>1010.0</td>\n",
       "      <td>14</td>\n",
       "    </tr>\n",
       "    <tr>\n",
       "      <th>1</th>\n",
       "      <td>0.000000</td>\n",
       "      <td>1.333333</td>\n",
       "      <td>0.000000</td>\n",
       "      <td>1.600000e+00</td>\n",
       "      <td>17.000000</td>\n",
       "      <td>23177.333333</td>\n",
       "      <td>1.000000</td>\n",
       "      <td>9038.666667</td>\n",
       "      <td>45.000000</td>\n",
       "      <td>0.0</td>\n",
       "      <td>0.0</td>\n",
       "      <td>1</td>\n",
       "      <td>1240.0</td>\n",
       "      <td>1050.0</td>\n",
       "      <td>11</td>\n",
       "    </tr>\n",
       "    <tr>\n",
       "      <th>2</th>\n",
       "      <td>0.000000</td>\n",
       "      <td>18.666667</td>\n",
       "      <td>0.666667</td>\n",
       "      <td>7.566667e+00</td>\n",
       "      <td>41.333333</td>\n",
       "      <td>30176.333333</td>\n",
       "      <td>5.000000</td>\n",
       "      <td>6227.666667</td>\n",
       "      <td>45.000000</td>\n",
       "      <td>0.0</td>\n",
       "      <td>0.0</td>\n",
       "      <td>0</td>\n",
       "      <td>1020.0</td>\n",
       "      <td>1010.0</td>\n",
       "      <td>14</td>\n",
       "    </tr>\n",
       "    <tr>\n",
       "      <th>3</th>\n",
       "      <td>0.000000</td>\n",
       "      <td>19.333333</td>\n",
       "      <td>0.666667</td>\n",
       "      <td>7.933333e+00</td>\n",
       "      <td>49.666667</td>\n",
       "      <td>59556.333333</td>\n",
       "      <td>5.000000</td>\n",
       "      <td>27131.666667</td>\n",
       "      <td>45.000000</td>\n",
       "      <td>0.0</td>\n",
       "      <td>0.0</td>\n",
       "      <td>1</td>\n",
       "      <td>1240.0</td>\n",
       "      <td>1050.0</td>\n",
       "      <td>14</td>\n",
       "    </tr>\n",
       "    <tr>\n",
       "      <th>4</th>\n",
       "      <td>0.666667</td>\n",
       "      <td>26.000000</td>\n",
       "      <td>0.666667</td>\n",
       "      <td>7.966667e+00</td>\n",
       "      <td>67.666667</td>\n",
       "      <td>97405.666667</td>\n",
       "      <td>7.333333</td>\n",
       "      <td>35975.666667</td>\n",
       "      <td>45.333333</td>\n",
       "      <td>0.0</td>\n",
       "      <td>0.0</td>\n",
       "      <td>1</td>\n",
       "      <td>1020.0</td>\n",
       "      <td>1050.0</td>\n",
       "      <td>15</td>\n",
       "    </tr>\n",
       "    <tr>\n",
       "      <th>...</th>\n",
       "      <td>...</td>\n",
       "      <td>...</td>\n",
       "      <td>...</td>\n",
       "      <td>...</td>\n",
       "      <td>...</td>\n",
       "      <td>...</td>\n",
       "      <td>...</td>\n",
       "      <td>...</td>\n",
       "      <td>...</td>\n",
       "      <td>...</td>\n",
       "      <td>...</td>\n",
       "      <td>...</td>\n",
       "      <td>...</td>\n",
       "      <td>...</td>\n",
       "      <td>...</td>\n",
       "    </tr>\n",
       "    <tr>\n",
       "      <th>5248</th>\n",
       "      <td>0.000000</td>\n",
       "      <td>0.000000</td>\n",
       "      <td>0.000000</td>\n",
       "      <td>8.881784e-15</td>\n",
       "      <td>0.000000</td>\n",
       "      <td>7082.666667</td>\n",
       "      <td>0.000000</td>\n",
       "      <td>-47.333333</td>\n",
       "      <td>48.000000</td>\n",
       "      <td>0.0</td>\n",
       "      <td>0.0</td>\n",
       "      <td>1</td>\n",
       "      <td>1110.0</td>\n",
       "      <td>1050.0</td>\n",
       "      <td>20</td>\n",
       "    </tr>\n",
       "    <tr>\n",
       "      <th>5249</th>\n",
       "      <td>0.000000</td>\n",
       "      <td>0.000000</td>\n",
       "      <td>0.000000</td>\n",
       "      <td>8.881784e-15</td>\n",
       "      <td>0.000000</td>\n",
       "      <td>7033.000000</td>\n",
       "      <td>0.000000</td>\n",
       "      <td>-49.666667</td>\n",
       "      <td>48.000000</td>\n",
       "      <td>0.0</td>\n",
       "      <td>0.0</td>\n",
       "      <td>0</td>\n",
       "      <td>1050.0</td>\n",
       "      <td>1070.0</td>\n",
       "      <td>12</td>\n",
       "    </tr>\n",
       "    <tr>\n",
       "      <th>5250</th>\n",
       "      <td>0.000000</td>\n",
       "      <td>0.000000</td>\n",
       "      <td>0.000000</td>\n",
       "      <td>8.881784e-15</td>\n",
       "      <td>0.000000</td>\n",
       "      <td>6994.000000</td>\n",
       "      <td>0.000000</td>\n",
       "      <td>-39.333333</td>\n",
       "      <td>48.000000</td>\n",
       "      <td>0.0</td>\n",
       "      <td>0.0</td>\n",
       "      <td>1</td>\n",
       "      <td>1160.0</td>\n",
       "      <td>1050.0</td>\n",
       "      <td>20</td>\n",
       "    </tr>\n",
       "    <tr>\n",
       "      <th>5251</th>\n",
       "      <td>0.000000</td>\n",
       "      <td>0.000000</td>\n",
       "      <td>0.000000</td>\n",
       "      <td>8.881784e-15</td>\n",
       "      <td>0.000000</td>\n",
       "      <td>6961.666667</td>\n",
       "      <td>0.000000</td>\n",
       "      <td>-32.333333</td>\n",
       "      <td>48.000000</td>\n",
       "      <td>0.0</td>\n",
       "      <td>0.0</td>\n",
       "      <td>0</td>\n",
       "      <td>1130.0</td>\n",
       "      <td>1070.0</td>\n",
       "      <td>20</td>\n",
       "    </tr>\n",
       "    <tr>\n",
       "      <th>5252</th>\n",
       "      <td>0.000000</td>\n",
       "      <td>0.000000</td>\n",
       "      <td>0.000000</td>\n",
       "      <td>8.881784e-15</td>\n",
       "      <td>0.000000</td>\n",
       "      <td>6940.666667</td>\n",
       "      <td>0.000000</td>\n",
       "      <td>-20.666667</td>\n",
       "      <td>48.000000</td>\n",
       "      <td>0.0</td>\n",
       "      <td>0.0</td>\n",
       "      <td>1</td>\n",
       "      <td>1250.0</td>\n",
       "      <td>1050.0</td>\n",
       "      <td>13</td>\n",
       "    </tr>\n",
       "  </tbody>\n",
       "</table>\n",
       "<p>5253 rows × 15 columns</p>\n",
       "</div>"
      ],
      "text/plain": [
       "       assists        bps  goals_scored     ict_index    minutes  \\\n",
       "0     0.000000   1.000000      0.000000  1.566667e+00  16.666667   \n",
       "1     0.000000   1.333333      0.000000  1.600000e+00  17.000000   \n",
       "2     0.000000  18.666667      0.666667  7.566667e+00  41.333333   \n",
       "3     0.000000  19.333333      0.666667  7.933333e+00  49.666667   \n",
       "4     0.666667  26.000000      0.666667  7.966667e+00  67.666667   \n",
       "...        ...        ...           ...           ...        ...   \n",
       "5248  0.000000   0.000000      0.000000  8.881784e-15   0.000000   \n",
       "5249  0.000000   0.000000      0.000000  8.881784e-15   0.000000   \n",
       "5250  0.000000   0.000000      0.000000  8.881784e-15   0.000000   \n",
       "5251  0.000000   0.000000      0.000000  8.881784e-15   0.000000   \n",
       "5252  0.000000   0.000000      0.000000  8.881784e-15   0.000000   \n",
       "\n",
       "          selected  rolling_points  transfers_balance      value  \\\n",
       "0     12277.666667        1.000000        6226.333333  45.000000   \n",
       "1     23177.333333        1.000000        9038.666667  45.000000   \n",
       "2     30176.333333        5.000000        6227.666667  45.000000   \n",
       "3     59556.333333        5.000000       27131.666667  45.000000   \n",
       "4     97405.666667        7.333333       35975.666667  45.333333   \n",
       "...            ...             ...                ...        ...   \n",
       "5248   7082.666667        0.000000         -47.333333  48.000000   \n",
       "5249   7033.000000        0.000000         -49.666667  48.000000   \n",
       "5250   6994.000000        0.000000         -39.333333  48.000000   \n",
       "5251   6961.666667        0.000000         -32.333333  48.000000   \n",
       "5252   6940.666667        0.000000         -20.666667  48.000000   \n",
       "\n",
       "      penalties_missed  cards  was_home  opponent_level  team_level  time  \n",
       "0                  0.0    0.0         0          1220.0      1010.0    14  \n",
       "1                  0.0    0.0         1          1240.0      1050.0    11  \n",
       "2                  0.0    0.0         0          1020.0      1010.0    14  \n",
       "3                  0.0    0.0         1          1240.0      1050.0    14  \n",
       "4                  0.0    0.0         1          1020.0      1050.0    15  \n",
       "...                ...    ...       ...             ...         ...   ...  \n",
       "5248               0.0    0.0         1          1110.0      1050.0    20  \n",
       "5249               0.0    0.0         0          1050.0      1070.0    12  \n",
       "5250               0.0    0.0         1          1160.0      1050.0    20  \n",
       "5251               0.0    0.0         0          1130.0      1070.0    20  \n",
       "5252               0.0    0.0         1          1250.0      1050.0    13  \n",
       "\n",
       "[5253 rows x 15 columns]"
      ]
     },
     "execution_count": 64,
     "metadata": {},
     "output_type": "execute_result"
    }
   ],
   "source": [
    "X_train"
   ]
  },
  {
   "cell_type": "code",
   "execution_count": 65,
   "id": "2614532b",
   "metadata": {
    "ExecuteTime": {
     "end_time": "2021-06-14T09:11:38.316869Z",
     "start_time": "2021-06-14T09:11:38.302955Z"
    }
   },
   "outputs": [],
   "source": [
    "from sklearn.preprocessing import MinMaxScaler\n",
    "\n",
    "scaler = MinMaxScaler()\n",
    "scaler.fit(X_train)\n",
    "X_train=scaler.transform(X_train)\n",
    "X_test=scaler.transform(X_test)"
   ]
  },
  {
   "cell_type": "markdown",
   "id": "1bf49ba6",
   "metadata": {},
   "source": [
    "# Midfielders"
   ]
  },
  {
   "cell_type": "code",
   "execution_count": 66,
   "id": "34680b6a",
   "metadata": {
    "ExecuteTime": {
     "end_time": "2021-06-14T09:11:38.324169Z",
     "start_time": "2021-06-14T09:11:38.319325Z"
    }
   },
   "outputs": [],
   "source": [
    "mid_features=['name','assists','bps','clean_sheets','creativity','goals_conceded','goals_scored','ict_index',\n",
    "              'influence','kickoff_time','minutes','penalties_missed','red_cards','selected',\n",
    "              'threat','total_points','transfers_balance','value','was_home','yellow_cards','GW',\n",
    "              'season','opponent_level','team_level']"
   ]
  },
  {
   "cell_type": "code",
   "execution_count": 67,
   "id": "78992a7d",
   "metadata": {
    "ExecuteTime": {
     "end_time": "2021-06-14T09:11:38.353786Z",
     "start_time": "2021-06-14T09:11:38.341929Z"
    }
   },
   "outputs": [],
   "source": [
    "mid_train=mid_df_train[mid_features]\n",
    "mid_test=mid_df_test[mid_features]"
   ]
  },
  {
   "cell_type": "code",
   "execution_count": 68,
   "id": "c3b482e7",
   "metadata": {
    "ExecuteTime": {
     "end_time": "2021-06-14T09:11:38.373120Z",
     "start_time": "2021-06-14T09:11:38.364540Z"
    },
    "scrolled": true
   },
   "outputs": [
    {
     "name": "stderr",
     "output_type": "stream",
     "text": [
      "<ipython-input-68-acb516f42b05>:1: SettingWithCopyWarning: \n",
      "A value is trying to be set on a copy of a slice from a DataFrame.\n",
      "Try using .loc[row_indexer,col_indexer] = value instead\n",
      "\n",
      "See the caveats in the documentation: https://pandas.pydata.org/pandas-docs/stable/user_guide/indexing.html#returning-a-view-versus-a-copy\n",
      "  mid_train['cards']=mid_train['yellow_cards']+mid_train['red_cards']\n",
      "<ipython-input-68-acb516f42b05>:2: SettingWithCopyWarning: \n",
      "A value is trying to be set on a copy of a slice from a DataFrame.\n",
      "Try using .loc[row_indexer,col_indexer] = value instead\n",
      "\n",
      "See the caveats in the documentation: https://pandas.pydata.org/pandas-docs/stable/user_guide/indexing.html#returning-a-view-versus-a-copy\n",
      "  mid_test['cards']=mid_test['yellow_cards']+mid_test['red_cards']\n"
     ]
    }
   ],
   "source": [
    "mid_train['cards']=mid_train['yellow_cards']+mid_train['red_cards']\n",
    "mid_test['cards']=mid_test['yellow_cards']+mid_test['red_cards']\n",
    "\n"
   ]
  },
  {
   "cell_type": "code",
   "execution_count": 69,
   "id": "2b0dcb52",
   "metadata": {
    "ExecuteTime": {
     "end_time": "2021-06-14T09:11:38.383722Z",
     "start_time": "2021-06-14T09:11:38.376672Z"
    },
    "scrolled": true
   },
   "outputs": [
    {
     "data": {
      "text/plain": [
       "Index(['name', 'assists', 'bps', 'clean_sheets', 'creativity',\n",
       "       'goals_conceded', 'goals_scored', 'ict_index', 'influence',\n",
       "       'kickoff_time', 'minutes', 'penalties_missed', 'red_cards', 'selected',\n",
       "       'threat', 'total_points', 'transfers_balance', 'value', 'was_home',\n",
       "       'yellow_cards', 'GW', 'season', 'opponent_level', 'team_level',\n",
       "       'cards'],\n",
       "      dtype='object')"
      ]
     },
     "execution_count": 69,
     "metadata": {},
     "output_type": "execute_result"
    }
   ],
   "source": [
    "mid_train.columns"
   ]
  },
  {
   "cell_type": "code",
   "execution_count": 70,
   "id": "a1e40900",
   "metadata": {
    "ExecuteTime": {
     "end_time": "2021-06-14T09:11:38.392693Z",
     "start_time": "2021-06-14T09:11:38.387372Z"
    }
   },
   "outputs": [],
   "source": [
    "rolling_features=['name','assists','bps','clean_sheets','creativity','goals_conceded','goals_scored','ict_index','influence',\n",
    "                  'minutes','selected','threat','total_points','transfers_balance','value','penalties_missed','cards']\n",
    "\n",
    "static_features=['kickoff_time','was_home','GW','season','opponent_level','team_level']\n",
    "\n",
    "\n",
    "\n",
    "total_points_train=mid_train['total_points']\n",
    "total_points_test=mid_test['total_points']\n",
    "\n",
    "\n"
   ]
  },
  {
   "cell_type": "markdown",
   "id": "06f5eecf",
   "metadata": {},
   "source": [
    "## Rolling Features"
   ]
  },
  {
   "cell_type": "code",
   "execution_count": 71,
   "id": "f43f3625",
   "metadata": {
    "ExecuteTime": {
     "end_time": "2021-06-14T09:11:39.451469Z",
     "start_time": "2021-06-14T09:11:38.396404Z"
    }
   },
   "outputs": [],
   "source": [
    "rolling_df_train=mid_train[rolling_features].groupby('name').rolling(ra,closed = 'left').mean()\n",
    "rolling_df_test=mid_test[rolling_features].groupby('name').rolling(ra,closed = 'left').mean()\n"
   ]
  },
  {
   "cell_type": "code",
   "execution_count": 72,
   "id": "f8901d78",
   "metadata": {
    "ExecuteTime": {
     "end_time": "2021-06-14T09:11:39.456813Z",
     "start_time": "2021-06-14T09:11:39.453139Z"
    }
   },
   "outputs": [],
   "source": [
    "rolling_df_train.rename(columns={'total_points':'rolling_points'},inplace=True)\n",
    "rolling_df_test.rename(columns={'total_points':'rolling_points'},inplace=True)"
   ]
  },
  {
   "cell_type": "code",
   "execution_count": 73,
   "id": "bedea3c5",
   "metadata": {
    "ExecuteTime": {
     "end_time": "2021-06-14T09:11:39.486740Z",
     "start_time": "2021-06-14T09:11:39.459733Z"
    }
   },
   "outputs": [],
   "source": [
    "\n",
    "result = map(lambda position:position, total_points_train)\n",
    "rolling_df_train['total_points']=list(result)\n",
    "\n",
    "result = map(lambda position:position, total_points_test)\n",
    "rolling_df_test['total_points']=list(result)"
   ]
  },
  {
   "cell_type": "code",
   "execution_count": 74,
   "id": "5612b749",
   "metadata": {
    "ExecuteTime": {
     "end_time": "2021-06-14T09:11:39.542931Z",
     "start_time": "2021-06-14T09:11:39.493641Z"
    },
    "scrolled": true
   },
   "outputs": [
    {
     "data": {
      "text/html": [
       "<div>\n",
       "<style scoped>\n",
       "    .dataframe tbody tr th:only-of-type {\n",
       "        vertical-align: middle;\n",
       "    }\n",
       "\n",
       "    .dataframe tbody tr th {\n",
       "        vertical-align: top;\n",
       "    }\n",
       "\n",
       "    .dataframe thead th {\n",
       "        text-align: right;\n",
       "    }\n",
       "</style>\n",
       "<table border=\"1\" class=\"dataframe\">\n",
       "  <thead>\n",
       "    <tr style=\"text-align: right;\">\n",
       "      <th></th>\n",
       "      <th></th>\n",
       "      <th>assists</th>\n",
       "      <th>bps</th>\n",
       "      <th>clean_sheets</th>\n",
       "      <th>creativity</th>\n",
       "      <th>goals_conceded</th>\n",
       "      <th>goals_scored</th>\n",
       "      <th>ict_index</th>\n",
       "      <th>influence</th>\n",
       "      <th>minutes</th>\n",
       "      <th>selected</th>\n",
       "      <th>threat</th>\n",
       "      <th>rolling_points</th>\n",
       "      <th>transfers_balance</th>\n",
       "      <th>value</th>\n",
       "      <th>penalties_missed</th>\n",
       "      <th>cards</th>\n",
       "      <th>total_points</th>\n",
       "    </tr>\n",
       "    <tr>\n",
       "      <th>name</th>\n",
       "      <th></th>\n",
       "      <th></th>\n",
       "      <th></th>\n",
       "      <th></th>\n",
       "      <th></th>\n",
       "      <th></th>\n",
       "      <th></th>\n",
       "      <th></th>\n",
       "      <th></th>\n",
       "      <th></th>\n",
       "      <th></th>\n",
       "      <th></th>\n",
       "      <th></th>\n",
       "      <th></th>\n",
       "      <th></th>\n",
       "      <th></th>\n",
       "      <th></th>\n",
       "      <th></th>\n",
       "    </tr>\n",
       "  </thead>\n",
       "  <tbody>\n",
       "    <tr>\n",
       "      <th rowspan=\"5\" valign=\"top\">aaron lennon</th>\n",
       "      <th>263</th>\n",
       "      <td>NaN</td>\n",
       "      <td>NaN</td>\n",
       "      <td>NaN</td>\n",
       "      <td>NaN</td>\n",
       "      <td>NaN</td>\n",
       "      <td>NaN</td>\n",
       "      <td>NaN</td>\n",
       "      <td>NaN</td>\n",
       "      <td>NaN</td>\n",
       "      <td>NaN</td>\n",
       "      <td>NaN</td>\n",
       "      <td>NaN</td>\n",
       "      <td>NaN</td>\n",
       "      <td>NaN</td>\n",
       "      <td>NaN</td>\n",
       "      <td>NaN</td>\n",
       "      <td>1</td>\n",
       "    </tr>\n",
       "    <tr>\n",
       "      <th>264</th>\n",
       "      <td>NaN</td>\n",
       "      <td>NaN</td>\n",
       "      <td>NaN</td>\n",
       "      <td>NaN</td>\n",
       "      <td>NaN</td>\n",
       "      <td>NaN</td>\n",
       "      <td>NaN</td>\n",
       "      <td>NaN</td>\n",
       "      <td>NaN</td>\n",
       "      <td>NaN</td>\n",
       "      <td>NaN</td>\n",
       "      <td>NaN</td>\n",
       "      <td>NaN</td>\n",
       "      <td>NaN</td>\n",
       "      <td>NaN</td>\n",
       "      <td>NaN</td>\n",
       "      <td>0</td>\n",
       "    </tr>\n",
       "    <tr>\n",
       "      <th>265</th>\n",
       "      <td>NaN</td>\n",
       "      <td>NaN</td>\n",
       "      <td>NaN</td>\n",
       "      <td>NaN</td>\n",
       "      <td>NaN</td>\n",
       "      <td>NaN</td>\n",
       "      <td>NaN</td>\n",
       "      <td>NaN</td>\n",
       "      <td>NaN</td>\n",
       "      <td>NaN</td>\n",
       "      <td>NaN</td>\n",
       "      <td>NaN</td>\n",
       "      <td>NaN</td>\n",
       "      <td>NaN</td>\n",
       "      <td>NaN</td>\n",
       "      <td>NaN</td>\n",
       "      <td>0</td>\n",
       "    </tr>\n",
       "    <tr>\n",
       "      <th>266</th>\n",
       "      <td>0.0</td>\n",
       "      <td>2.0</td>\n",
       "      <td>0.0</td>\n",
       "      <td>0.1</td>\n",
       "      <td>0.0</td>\n",
       "      <td>0.0</td>\n",
       "      <td>0.3</td>\n",
       "      <td>2.733333</td>\n",
       "      <td>5.0</td>\n",
       "      <td>13245.666667</td>\n",
       "      <td>0.0</td>\n",
       "      <td>0.333333</td>\n",
       "      <td>-1310.0</td>\n",
       "      <td>59.666667</td>\n",
       "      <td>0.0</td>\n",
       "      <td>0.0</td>\n",
       "      <td>0</td>\n",
       "    </tr>\n",
       "    <tr>\n",
       "      <th>267</th>\n",
       "      <td>0.0</td>\n",
       "      <td>0.0</td>\n",
       "      <td>0.0</td>\n",
       "      <td>0.0</td>\n",
       "      <td>0.0</td>\n",
       "      <td>0.0</td>\n",
       "      <td>0.0</td>\n",
       "      <td>0.000000</td>\n",
       "      <td>0.0</td>\n",
       "      <td>12175.000000</td>\n",
       "      <td>0.0</td>\n",
       "      <td>0.000000</td>\n",
       "      <td>-1898.0</td>\n",
       "      <td>59.000000</td>\n",
       "      <td>0.0</td>\n",
       "      <td>0.0</td>\n",
       "      <td>0</td>\n",
       "    </tr>\n",
       "  </tbody>\n",
       "</table>\n",
       "</div>"
      ],
      "text/plain": [
       "                  assists  bps  clean_sheets  creativity  goals_conceded  \\\n",
       "name                                                                       \n",
       "aaron lennon 263      NaN  NaN           NaN         NaN             NaN   \n",
       "             264      NaN  NaN           NaN         NaN             NaN   \n",
       "             265      NaN  NaN           NaN         NaN             NaN   \n",
       "             266      0.0  2.0           0.0         0.1             0.0   \n",
       "             267      0.0  0.0           0.0         0.0             0.0   \n",
       "\n",
       "                  goals_scored  ict_index  influence  minutes      selected  \\\n",
       "name                                                                          \n",
       "aaron lennon 263           NaN        NaN        NaN      NaN           NaN   \n",
       "             264           NaN        NaN        NaN      NaN           NaN   \n",
       "             265           NaN        NaN        NaN      NaN           NaN   \n",
       "             266           0.0        0.3   2.733333      5.0  13245.666667   \n",
       "             267           0.0        0.0   0.000000      0.0  12175.000000   \n",
       "\n",
       "                  threat  rolling_points  transfers_balance      value  \\\n",
       "name                                                                     \n",
       "aaron lennon 263     NaN             NaN                NaN        NaN   \n",
       "             264     NaN             NaN                NaN        NaN   \n",
       "             265     NaN             NaN                NaN        NaN   \n",
       "             266     0.0        0.333333            -1310.0  59.666667   \n",
       "             267     0.0        0.000000            -1898.0  59.000000   \n",
       "\n",
       "                  penalties_missed  cards  total_points  \n",
       "name                                                     \n",
       "aaron lennon 263               NaN    NaN             1  \n",
       "             264               NaN    NaN             0  \n",
       "             265               NaN    NaN             0  \n",
       "             266               0.0    0.0             0  \n",
       "             267               0.0    0.0             0  "
      ]
     },
     "execution_count": 74,
     "metadata": {},
     "output_type": "execute_result"
    }
   ],
   "source": [
    "rolling_df_train.head()"
   ]
  },
  {
   "cell_type": "code",
   "execution_count": 75,
   "id": "9c6b659a",
   "metadata": {
    "ExecuteTime": {
     "end_time": "2021-06-14T09:11:39.670240Z",
     "start_time": "2021-06-14T09:11:39.545674Z"
    }
   },
   "outputs": [],
   "source": [
    "for i in static_features:\n",
    "    result = map(lambda position:position, mid_train[i])\n",
    "    rolling_df_train[i]=list(result)\n",
    "for i in static_features:\n",
    "    result = map(lambda position:position, mid_test[i])\n",
    "    rolling_df_test[i]=list(result)\n",
    "\n"
   ]
  },
  {
   "cell_type": "code",
   "execution_count": 76,
   "id": "0277a632",
   "metadata": {
    "ExecuteTime": {
     "end_time": "2021-06-14T09:11:39.701547Z",
     "start_time": "2021-06-14T09:11:39.673741Z"
    }
   },
   "outputs": [
    {
     "data": {
      "text/html": [
       "<div>\n",
       "<style scoped>\n",
       "    .dataframe tbody tr th:only-of-type {\n",
       "        vertical-align: middle;\n",
       "    }\n",
       "\n",
       "    .dataframe tbody tr th {\n",
       "        vertical-align: top;\n",
       "    }\n",
       "\n",
       "    .dataframe thead th {\n",
       "        text-align: right;\n",
       "    }\n",
       "</style>\n",
       "<table border=\"1\" class=\"dataframe\">\n",
       "  <thead>\n",
       "    <tr style=\"text-align: right;\">\n",
       "      <th></th>\n",
       "      <th></th>\n",
       "      <th>assists</th>\n",
       "      <th>bps</th>\n",
       "      <th>clean_sheets</th>\n",
       "      <th>creativity</th>\n",
       "      <th>goals_conceded</th>\n",
       "      <th>goals_scored</th>\n",
       "      <th>ict_index</th>\n",
       "      <th>influence</th>\n",
       "      <th>minutes</th>\n",
       "      <th>selected</th>\n",
       "      <th>...</th>\n",
       "      <th>value</th>\n",
       "      <th>penalties_missed</th>\n",
       "      <th>cards</th>\n",
       "      <th>total_points</th>\n",
       "      <th>kickoff_time</th>\n",
       "      <th>was_home</th>\n",
       "      <th>GW</th>\n",
       "      <th>season</th>\n",
       "      <th>opponent_level</th>\n",
       "      <th>team_level</th>\n",
       "    </tr>\n",
       "    <tr>\n",
       "      <th>name</th>\n",
       "      <th></th>\n",
       "      <th></th>\n",
       "      <th></th>\n",
       "      <th></th>\n",
       "      <th></th>\n",
       "      <th></th>\n",
       "      <th></th>\n",
       "      <th></th>\n",
       "      <th></th>\n",
       "      <th></th>\n",
       "      <th></th>\n",
       "      <th></th>\n",
       "      <th></th>\n",
       "      <th></th>\n",
       "      <th></th>\n",
       "      <th></th>\n",
       "      <th></th>\n",
       "      <th></th>\n",
       "      <th></th>\n",
       "      <th></th>\n",
       "      <th></th>\n",
       "      <th></th>\n",
       "    </tr>\n",
       "  </thead>\n",
       "  <tbody>\n",
       "    <tr>\n",
       "      <th rowspan=\"5\" valign=\"top\">aaron lennon</th>\n",
       "      <th>263</th>\n",
       "      <td>NaN</td>\n",
       "      <td>NaN</td>\n",
       "      <td>NaN</td>\n",
       "      <td>NaN</td>\n",
       "      <td>NaN</td>\n",
       "      <td>NaN</td>\n",
       "      <td>NaN</td>\n",
       "      <td>NaN</td>\n",
       "      <td>NaN</td>\n",
       "      <td>NaN</td>\n",
       "      <td>...</td>\n",
       "      <td>NaN</td>\n",
       "      <td>NaN</td>\n",
       "      <td>NaN</td>\n",
       "      <td>1</td>\n",
       "      <td>14:00:00</td>\n",
       "      <td>True</td>\n",
       "      <td>1</td>\n",
       "      <td>17</td>\n",
       "      <td>NaN</td>\n",
       "      <td>NaN</td>\n",
       "    </tr>\n",
       "    <tr>\n",
       "      <th>264</th>\n",
       "      <td>NaN</td>\n",
       "      <td>NaN</td>\n",
       "      <td>NaN</td>\n",
       "      <td>NaN</td>\n",
       "      <td>NaN</td>\n",
       "      <td>NaN</td>\n",
       "      <td>NaN</td>\n",
       "      <td>NaN</td>\n",
       "      <td>NaN</td>\n",
       "      <td>NaN</td>\n",
       "      <td>...</td>\n",
       "      <td>NaN</td>\n",
       "      <td>NaN</td>\n",
       "      <td>NaN</td>\n",
       "      <td>0</td>\n",
       "      <td>14:00:00</td>\n",
       "      <td>False</td>\n",
       "      <td>2</td>\n",
       "      <td>17</td>\n",
       "      <td>NaN</td>\n",
       "      <td>NaN</td>\n",
       "    </tr>\n",
       "    <tr>\n",
       "      <th>265</th>\n",
       "      <td>NaN</td>\n",
       "      <td>NaN</td>\n",
       "      <td>NaN</td>\n",
       "      <td>NaN</td>\n",
       "      <td>NaN</td>\n",
       "      <td>NaN</td>\n",
       "      <td>NaN</td>\n",
       "      <td>NaN</td>\n",
       "      <td>NaN</td>\n",
       "      <td>NaN</td>\n",
       "      <td>...</td>\n",
       "      <td>NaN</td>\n",
       "      <td>NaN</td>\n",
       "      <td>NaN</td>\n",
       "      <td>0</td>\n",
       "      <td>14:00:00</td>\n",
       "      <td>True</td>\n",
       "      <td>3</td>\n",
       "      <td>17</td>\n",
       "      <td>NaN</td>\n",
       "      <td>NaN</td>\n",
       "    </tr>\n",
       "    <tr>\n",
       "      <th>266</th>\n",
       "      <td>0.0</td>\n",
       "      <td>2.0</td>\n",
       "      <td>0.0</td>\n",
       "      <td>0.1</td>\n",
       "      <td>0.0</td>\n",
       "      <td>0.0</td>\n",
       "      <td>0.3</td>\n",
       "      <td>2.733333</td>\n",
       "      <td>5.0</td>\n",
       "      <td>13245.666667</td>\n",
       "      <td>...</td>\n",
       "      <td>59.666667</td>\n",
       "      <td>0.0</td>\n",
       "      <td>0.0</td>\n",
       "      <td>0</td>\n",
       "      <td>19:00:00</td>\n",
       "      <td>False</td>\n",
       "      <td>4</td>\n",
       "      <td>17</td>\n",
       "      <td>NaN</td>\n",
       "      <td>NaN</td>\n",
       "    </tr>\n",
       "    <tr>\n",
       "      <th>267</th>\n",
       "      <td>0.0</td>\n",
       "      <td>0.0</td>\n",
       "      <td>0.0</td>\n",
       "      <td>0.0</td>\n",
       "      <td>0.0</td>\n",
       "      <td>0.0</td>\n",
       "      <td>0.0</td>\n",
       "      <td>0.000000</td>\n",
       "      <td>0.0</td>\n",
       "      <td>12175.000000</td>\n",
       "      <td>...</td>\n",
       "      <td>59.000000</td>\n",
       "      <td>0.0</td>\n",
       "      <td>0.0</td>\n",
       "      <td>0</td>\n",
       "      <td>16:30:00</td>\n",
       "      <td>True</td>\n",
       "      <td>5</td>\n",
       "      <td>17</td>\n",
       "      <td>NaN</td>\n",
       "      <td>NaN</td>\n",
       "    </tr>\n",
       "  </tbody>\n",
       "</table>\n",
       "<p>5 rows × 23 columns</p>\n",
       "</div>"
      ],
      "text/plain": [
       "                  assists  bps  clean_sheets  creativity  goals_conceded  \\\n",
       "name                                                                       \n",
       "aaron lennon 263      NaN  NaN           NaN         NaN             NaN   \n",
       "             264      NaN  NaN           NaN         NaN             NaN   \n",
       "             265      NaN  NaN           NaN         NaN             NaN   \n",
       "             266      0.0  2.0           0.0         0.1             0.0   \n",
       "             267      0.0  0.0           0.0         0.0             0.0   \n",
       "\n",
       "                  goals_scored  ict_index  influence  minutes      selected  \\\n",
       "name                                                                          \n",
       "aaron lennon 263           NaN        NaN        NaN      NaN           NaN   \n",
       "             264           NaN        NaN        NaN      NaN           NaN   \n",
       "             265           NaN        NaN        NaN      NaN           NaN   \n",
       "             266           0.0        0.3   2.733333      5.0  13245.666667   \n",
       "             267           0.0        0.0   0.000000      0.0  12175.000000   \n",
       "\n",
       "                  ...      value  penalties_missed  cards  total_points  \\\n",
       "name              ...                                                     \n",
       "aaron lennon 263  ...        NaN               NaN    NaN             1   \n",
       "             264  ...        NaN               NaN    NaN             0   \n",
       "             265  ...        NaN               NaN    NaN             0   \n",
       "             266  ...  59.666667               0.0    0.0             0   \n",
       "             267  ...  59.000000               0.0    0.0             0   \n",
       "\n",
       "                  kickoff_time  was_home  GW season  opponent_level  \\\n",
       "name                                                                  \n",
       "aaron lennon 263      14:00:00      True   1     17             NaN   \n",
       "             264      14:00:00     False   2     17             NaN   \n",
       "             265      14:00:00      True   3     17             NaN   \n",
       "             266      19:00:00     False   4     17             NaN   \n",
       "             267      16:30:00      True   5     17             NaN   \n",
       "\n",
       "                  team_level  \n",
       "name                          \n",
       "aaron lennon 263         NaN  \n",
       "             264         NaN  \n",
       "             265         NaN  \n",
       "             266         NaN  \n",
       "             267         NaN  \n",
       "\n",
       "[5 rows x 23 columns]"
      ]
     },
     "execution_count": 76,
     "metadata": {},
     "output_type": "execute_result"
    }
   ],
   "source": [
    "rolling_df_train.head()"
   ]
  },
  {
   "cell_type": "code",
   "execution_count": 77,
   "id": "bad788f6",
   "metadata": {
    "ExecuteTime": {
     "end_time": "2021-06-14T09:11:39.734357Z",
     "start_time": "2021-06-14T09:11:39.705081Z"
    }
   },
   "outputs": [],
   "source": [
    "rolling_df_train.dropna(inplace=True)\n",
    "rolling_df_test.dropna(inplace=True)"
   ]
  },
  {
   "cell_type": "code",
   "execution_count": 78,
   "id": "8d6943bf",
   "metadata": {
    "ExecuteTime": {
     "end_time": "2021-06-14T09:11:39.747478Z",
     "start_time": "2021-06-14T09:11:39.736678Z"
    }
   },
   "outputs": [
    {
     "data": {
      "text/plain": [
       "assists              0\n",
       "transfers_balance    0\n",
       "opponent_level       0\n",
       "season               0\n",
       "GW                   0\n",
       "was_home             0\n",
       "kickoff_time         0\n",
       "total_points         0\n",
       "cards                0\n",
       "penalties_missed     0\n",
       "value                0\n",
       "rolling_points       0\n",
       "bps                  0\n",
       "threat               0\n",
       "selected             0\n",
       "minutes              0\n",
       "influence            0\n",
       "ict_index            0\n",
       "goals_scored         0\n",
       "goals_conceded       0\n",
       "creativity           0\n",
       "clean_sheets         0\n",
       "team_level           0\n",
       "dtype: int64"
      ]
     },
     "execution_count": 78,
     "metadata": {},
     "output_type": "execute_result"
    }
   ],
   "source": [
    "rolling_df_train.isnull().sum().sort_values(ascending=False)"
   ]
  },
  {
   "cell_type": "code",
   "execution_count": 79,
   "id": "d077d3ed",
   "metadata": {
    "ExecuteTime": {
     "end_time": "2021-06-14T09:11:39.759551Z",
     "start_time": "2021-06-14T09:11:39.750520Z"
    }
   },
   "outputs": [],
   "source": [
    "rolling_df_train.drop(columns=['creativity','influence','threat'],inplace=True)\n",
    "rolling_df_test.drop(columns=['creativity','influence','threat'],inplace=True)"
   ]
  },
  {
   "cell_type": "code",
   "execution_count": 80,
   "id": "a146ca1e",
   "metadata": {
    "ExecuteTime": {
     "end_time": "2021-06-14T09:11:39.777561Z",
     "start_time": "2021-06-14T09:11:39.762234Z"
    }
   },
   "outputs": [],
   "source": [
    "time=[]\n",
    "for row in rolling_df_train['kickoff_time']:\n",
    "    time.append(row.hour)\n",
    "rolling_df_train['time']=time\n",
    "\n",
    "time=[]\n",
    "for row in rolling_df_test['kickoff_time']:\n",
    "    time.append(row.hour)\n",
    "rolling_df_test['time']=time"
   ]
  },
  {
   "cell_type": "code",
   "execution_count": 81,
   "id": "3051a15a",
   "metadata": {
    "ExecuteTime": {
     "end_time": "2021-06-14T09:11:39.789058Z",
     "start_time": "2021-06-14T09:11:39.780453Z"
    }
   },
   "outputs": [],
   "source": [
    "rolling_df_train.drop(columns='kickoff_time',inplace=True)\n",
    "rolling_df_test.drop(columns='kickoff_time',inplace=True)"
   ]
  },
  {
   "cell_type": "code",
   "execution_count": 82,
   "id": "46293a89",
   "metadata": {
    "ExecuteTime": {
     "end_time": "2021-06-14T09:11:39.799305Z",
     "start_time": "2021-06-14T09:11:39.792361Z"
    }
   },
   "outputs": [
    {
     "data": {
      "text/plain": [
       "Index(['assists', 'bps', 'clean_sheets', 'goals_conceded', 'goals_scored',\n",
       "       'ict_index', 'minutes', 'selected', 'rolling_points',\n",
       "       'transfers_balance', 'value', 'penalties_missed', 'cards',\n",
       "       'total_points', 'was_home', 'GW', 'season', 'opponent_level',\n",
       "       'team_level', 'time'],\n",
       "      dtype='object')"
      ]
     },
     "execution_count": 82,
     "metadata": {},
     "output_type": "execute_result"
    }
   ],
   "source": [
    "rolling_df_train.columns"
   ]
  },
  {
   "cell_type": "code",
   "execution_count": 83,
   "id": "622dee46",
   "metadata": {
    "ExecuteTime": {
     "end_time": "2021-06-14T09:11:39.815184Z",
     "start_time": "2021-06-14T09:11:39.802229Z"
    }
   },
   "outputs": [
    {
     "name": "stderr",
     "output_type": "stream",
     "text": [
      "/Users/admin/.pyenv/versions/3.8.6/envs/fflpred/lib/python3.8/site-packages/sklearn/utils/validation.py:63: DataConversionWarning: A column-vector y was passed when a 1d array was expected. Please change the shape of y to (n_samples, ), for example using ravel().\n",
      "  return f(*args, **kwargs)\n"
     ]
    }
   ],
   "source": [
    "from sklearn.preprocessing import LabelEncoder\n",
    "\n",
    "encoder = LabelEncoder()\n",
    "encoder.fit(rolling_df_train[['was_home']])\n",
    "rolling_df_train['was_home'] = encoder.transform(rolling_df_train[['was_home']])\n",
    "\n",
    "encoder = LabelEncoder()\n",
    "encoder.fit(rolling_df_test[['was_home']])\n",
    "rolling_df_test['was_home'] = encoder.transform(rolling_df_test[['was_home']])"
   ]
  },
  {
   "cell_type": "code",
   "execution_count": 84,
   "id": "46908080",
   "metadata": {
    "ExecuteTime": {
     "end_time": "2021-06-14T09:11:39.827355Z",
     "start_time": "2021-06-14T09:11:39.818097Z"
    }
   },
   "outputs": [],
   "source": [
    "rolling_df_train=rolling_df_train.reset_index()\n",
    "rolling_df_test=rolling_df_test.reset_index()\n"
   ]
  },
  {
   "cell_type": "code",
   "execution_count": 85,
   "id": "13580f3b",
   "metadata": {
    "ExecuteTime": {
     "end_time": "2021-06-14T09:11:39.857897Z",
     "start_time": "2021-06-14T09:11:39.830167Z"
    }
   },
   "outputs": [
    {
     "data": {
      "text/html": [
       "<div>\n",
       "<style scoped>\n",
       "    .dataframe tbody tr th:only-of-type {\n",
       "        vertical-align: middle;\n",
       "    }\n",
       "\n",
       "    .dataframe tbody tr th {\n",
       "        vertical-align: top;\n",
       "    }\n",
       "\n",
       "    .dataframe thead th {\n",
       "        text-align: right;\n",
       "    }\n",
       "</style>\n",
       "<table border=\"1\" class=\"dataframe\">\n",
       "  <thead>\n",
       "    <tr style=\"text-align: right;\">\n",
       "      <th></th>\n",
       "      <th>name</th>\n",
       "      <th>level_1</th>\n",
       "      <th>assists</th>\n",
       "      <th>bps</th>\n",
       "      <th>clean_sheets</th>\n",
       "      <th>goals_conceded</th>\n",
       "      <th>goals_scored</th>\n",
       "      <th>ict_index</th>\n",
       "      <th>minutes</th>\n",
       "      <th>selected</th>\n",
       "      <th>...</th>\n",
       "      <th>value</th>\n",
       "      <th>penalties_missed</th>\n",
       "      <th>cards</th>\n",
       "      <th>total_points</th>\n",
       "      <th>was_home</th>\n",
       "      <th>GW</th>\n",
       "      <th>season</th>\n",
       "      <th>opponent_level</th>\n",
       "      <th>team_level</th>\n",
       "      <th>time</th>\n",
       "    </tr>\n",
       "  </thead>\n",
       "  <tbody>\n",
       "    <tr>\n",
       "      <th>0</th>\n",
       "      <td>aaron lennon</td>\n",
       "      <td>377</td>\n",
       "      <td>0.0</td>\n",
       "      <td>0.000000</td>\n",
       "      <td>0.0</td>\n",
       "      <td>0.000000</td>\n",
       "      <td>0.0</td>\n",
       "      <td>5.921189e-16</td>\n",
       "      <td>0.0</td>\n",
       "      <td>18824.666667</td>\n",
       "      <td>...</td>\n",
       "      <td>49.000000</td>\n",
       "      <td>0.0</td>\n",
       "      <td>0.000000</td>\n",
       "      <td>1</td>\n",
       "      <td>1</td>\n",
       "      <td>1</td>\n",
       "      <td>20</td>\n",
       "      <td>1040.0</td>\n",
       "      <td>1110.0</td>\n",
       "      <td>14</td>\n",
       "    </tr>\n",
       "    <tr>\n",
       "      <th>1</th>\n",
       "      <td>aaron lennon</td>\n",
       "      <td>378</td>\n",
       "      <td>0.0</td>\n",
       "      <td>1.000000</td>\n",
       "      <td>0.0</td>\n",
       "      <td>0.000000</td>\n",
       "      <td>0.0</td>\n",
       "      <td>6.666667e-02</td>\n",
       "      <td>2.0</td>\n",
       "      <td>15226.000000</td>\n",
       "      <td>...</td>\n",
       "      <td>49.333333</td>\n",
       "      <td>0.0</td>\n",
       "      <td>0.000000</td>\n",
       "      <td>1</td>\n",
       "      <td>0</td>\n",
       "      <td>2</td>\n",
       "      <td>20</td>\n",
       "      <td>1180.0</td>\n",
       "      <td>1180.0</td>\n",
       "      <td>11</td>\n",
       "    </tr>\n",
       "    <tr>\n",
       "      <th>2</th>\n",
       "      <td>aaron lennon</td>\n",
       "      <td>379</td>\n",
       "      <td>0.0</td>\n",
       "      <td>2.333333</td>\n",
       "      <td>0.0</td>\n",
       "      <td>0.000000</td>\n",
       "      <td>0.0</td>\n",
       "      <td>2.000000e-01</td>\n",
       "      <td>8.0</td>\n",
       "      <td>11863.333333</td>\n",
       "      <td>...</td>\n",
       "      <td>49.666667</td>\n",
       "      <td>0.0</td>\n",
       "      <td>0.000000</td>\n",
       "      <td>0</td>\n",
       "      <td>0</td>\n",
       "      <td>3</td>\n",
       "      <td>20</td>\n",
       "      <td>1230.0</td>\n",
       "      <td>1180.0</td>\n",
       "      <td>15</td>\n",
       "    </tr>\n",
       "    <tr>\n",
       "      <th>3</th>\n",
       "      <td>aaron lennon</td>\n",
       "      <td>380</td>\n",
       "      <td>0.0</td>\n",
       "      <td>2.666667</td>\n",
       "      <td>0.0</td>\n",
       "      <td>0.333333</td>\n",
       "      <td>0.0</td>\n",
       "      <td>3.000000e-01</td>\n",
       "      <td>16.0</td>\n",
       "      <td>8281.333333</td>\n",
       "      <td>...</td>\n",
       "      <td>49.666667</td>\n",
       "      <td>0.0</td>\n",
       "      <td>0.333333</td>\n",
       "      <td>2</td>\n",
       "      <td>1</td>\n",
       "      <td>4</td>\n",
       "      <td>20</td>\n",
       "      <td>1350.0</td>\n",
       "      <td>1110.0</td>\n",
       "      <td>16</td>\n",
       "    </tr>\n",
       "    <tr>\n",
       "      <th>4</th>\n",
       "      <td>aaron lennon</td>\n",
       "      <td>381</td>\n",
       "      <td>0.0</td>\n",
       "      <td>4.000000</td>\n",
       "      <td>0.0</td>\n",
       "      <td>1.333333</td>\n",
       "      <td>0.0</td>\n",
       "      <td>4.000000e-01</td>\n",
       "      <td>44.0</td>\n",
       "      <td>8071.333333</td>\n",
       "      <td>...</td>\n",
       "      <td>49.333333</td>\n",
       "      <td>0.0</td>\n",
       "      <td>0.333333</td>\n",
       "      <td>0</td>\n",
       "      <td>0</td>\n",
       "      <td>5</td>\n",
       "      <td>20</td>\n",
       "      <td>1050.0</td>\n",
       "      <td>1180.0</td>\n",
       "      <td>14</td>\n",
       "    </tr>\n",
       "  </tbody>\n",
       "</table>\n",
       "<p>5 rows × 22 columns</p>\n",
       "</div>"
      ],
      "text/plain": [
       "           name  level_1  assists       bps  clean_sheets  goals_conceded  \\\n",
       "0  aaron lennon      377      0.0  0.000000           0.0        0.000000   \n",
       "1  aaron lennon      378      0.0  1.000000           0.0        0.000000   \n",
       "2  aaron lennon      379      0.0  2.333333           0.0        0.000000   \n",
       "3  aaron lennon      380      0.0  2.666667           0.0        0.333333   \n",
       "4  aaron lennon      381      0.0  4.000000           0.0        1.333333   \n",
       "\n",
       "   goals_scored     ict_index  minutes      selected  ...      value  \\\n",
       "0           0.0  5.921189e-16      0.0  18824.666667  ...  49.000000   \n",
       "1           0.0  6.666667e-02      2.0  15226.000000  ...  49.333333   \n",
       "2           0.0  2.000000e-01      8.0  11863.333333  ...  49.666667   \n",
       "3           0.0  3.000000e-01     16.0   8281.333333  ...  49.666667   \n",
       "4           0.0  4.000000e-01     44.0   8071.333333  ...  49.333333   \n",
       "\n",
       "   penalties_missed     cards  total_points  was_home  GW  season  \\\n",
       "0               0.0  0.000000             1         1   1      20   \n",
       "1               0.0  0.000000             1         0   2      20   \n",
       "2               0.0  0.000000             0         0   3      20   \n",
       "3               0.0  0.333333             2         1   4      20   \n",
       "4               0.0  0.333333             0         0   5      20   \n",
       "\n",
       "   opponent_level  team_level  time  \n",
       "0          1040.0      1110.0    14  \n",
       "1          1180.0      1180.0    11  \n",
       "2          1230.0      1180.0    15  \n",
       "3          1350.0      1110.0    16  \n",
       "4          1050.0      1180.0    14  \n",
       "\n",
       "[5 rows x 22 columns]"
      ]
     },
     "execution_count": 85,
     "metadata": {},
     "output_type": "execute_result"
    }
   ],
   "source": [
    "rolling_df_train.head()"
   ]
  },
  {
   "cell_type": "code",
   "execution_count": 86,
   "id": "87f2bfed",
   "metadata": {
    "ExecuteTime": {
     "end_time": "2021-06-14T09:11:39.871045Z",
     "start_time": "2021-06-14T09:11:39.860598Z"
    }
   },
   "outputs": [],
   "source": [
    "hold_train=rolling_df_train[['name','GW','season']]\n",
    "hold_test=rolling_df_test[['name','GW','season']]\n",
    "\n",
    "rolling_df_train.drop(columns=['name','GW','season','level_1'],inplace=True)\n",
    "rolling_df_test.drop(columns=['name','GW','season','level_1'],inplace=True)"
   ]
  },
  {
   "cell_type": "code",
   "execution_count": 87,
   "id": "6136788d",
   "metadata": {
    "ExecuteTime": {
     "end_time": "2021-06-14T09:11:39.894835Z",
     "start_time": "2021-06-14T09:11:39.873292Z"
    },
    "scrolled": true
   },
   "outputs": [
    {
     "data": {
      "text/html": [
       "<div>\n",
       "<style scoped>\n",
       "    .dataframe tbody tr th:only-of-type {\n",
       "        vertical-align: middle;\n",
       "    }\n",
       "\n",
       "    .dataframe tbody tr th {\n",
       "        vertical-align: top;\n",
       "    }\n",
       "\n",
       "    .dataframe thead th {\n",
       "        text-align: right;\n",
       "    }\n",
       "</style>\n",
       "<table border=\"1\" class=\"dataframe\">\n",
       "  <thead>\n",
       "    <tr style=\"text-align: right;\">\n",
       "      <th></th>\n",
       "      <th>assists</th>\n",
       "      <th>bps</th>\n",
       "      <th>clean_sheets</th>\n",
       "      <th>goals_conceded</th>\n",
       "      <th>goals_scored</th>\n",
       "      <th>ict_index</th>\n",
       "      <th>minutes</th>\n",
       "      <th>selected</th>\n",
       "      <th>rolling_points</th>\n",
       "      <th>transfers_balance</th>\n",
       "      <th>value</th>\n",
       "      <th>penalties_missed</th>\n",
       "      <th>cards</th>\n",
       "      <th>total_points</th>\n",
       "      <th>was_home</th>\n",
       "      <th>opponent_level</th>\n",
       "      <th>team_level</th>\n",
       "      <th>time</th>\n",
       "    </tr>\n",
       "  </thead>\n",
       "  <tbody>\n",
       "    <tr>\n",
       "      <th>0</th>\n",
       "      <td>0.0</td>\n",
       "      <td>0.000000</td>\n",
       "      <td>0.0</td>\n",
       "      <td>0.000000</td>\n",
       "      <td>0.0</td>\n",
       "      <td>5.921189e-16</td>\n",
       "      <td>0.0</td>\n",
       "      <td>18824.666667</td>\n",
       "      <td>0.000000</td>\n",
       "      <td>-85.000000</td>\n",
       "      <td>49.000000</td>\n",
       "      <td>0.0</td>\n",
       "      <td>0.000000</td>\n",
       "      <td>1</td>\n",
       "      <td>1</td>\n",
       "      <td>1040.0</td>\n",
       "      <td>1110.0</td>\n",
       "      <td>14</td>\n",
       "    </tr>\n",
       "    <tr>\n",
       "      <th>1</th>\n",
       "      <td>0.0</td>\n",
       "      <td>1.000000</td>\n",
       "      <td>0.0</td>\n",
       "      <td>0.000000</td>\n",
       "      <td>0.0</td>\n",
       "      <td>6.666667e-02</td>\n",
       "      <td>2.0</td>\n",
       "      <td>15226.000000</td>\n",
       "      <td>0.333333</td>\n",
       "      <td>-52.666667</td>\n",
       "      <td>49.333333</td>\n",
       "      <td>0.0</td>\n",
       "      <td>0.000000</td>\n",
       "      <td>1</td>\n",
       "      <td>0</td>\n",
       "      <td>1180.0</td>\n",
       "      <td>1180.0</td>\n",
       "      <td>11</td>\n",
       "    </tr>\n",
       "    <tr>\n",
       "      <th>2</th>\n",
       "      <td>0.0</td>\n",
       "      <td>2.333333</td>\n",
       "      <td>0.0</td>\n",
       "      <td>0.000000</td>\n",
       "      <td>0.0</td>\n",
       "      <td>2.000000e-01</td>\n",
       "      <td>8.0</td>\n",
       "      <td>11863.333333</td>\n",
       "      <td>0.666667</td>\n",
       "      <td>-310.666667</td>\n",
       "      <td>49.666667</td>\n",
       "      <td>0.0</td>\n",
       "      <td>0.000000</td>\n",
       "      <td>0</td>\n",
       "      <td>0</td>\n",
       "      <td>1230.0</td>\n",
       "      <td>1180.0</td>\n",
       "      <td>15</td>\n",
       "    </tr>\n",
       "    <tr>\n",
       "      <th>3</th>\n",
       "      <td>0.0</td>\n",
       "      <td>2.666667</td>\n",
       "      <td>0.0</td>\n",
       "      <td>0.333333</td>\n",
       "      <td>0.0</td>\n",
       "      <td>3.000000e-01</td>\n",
       "      <td>16.0</td>\n",
       "      <td>8281.333333</td>\n",
       "      <td>0.666667</td>\n",
       "      <td>-651.333333</td>\n",
       "      <td>49.666667</td>\n",
       "      <td>0.0</td>\n",
       "      <td>0.333333</td>\n",
       "      <td>2</td>\n",
       "      <td>1</td>\n",
       "      <td>1350.0</td>\n",
       "      <td>1110.0</td>\n",
       "      <td>16</td>\n",
       "    </tr>\n",
       "    <tr>\n",
       "      <th>4</th>\n",
       "      <td>0.0</td>\n",
       "      <td>4.000000</td>\n",
       "      <td>0.0</td>\n",
       "      <td>1.333333</td>\n",
       "      <td>0.0</td>\n",
       "      <td>4.000000e-01</td>\n",
       "      <td>44.0</td>\n",
       "      <td>8071.333333</td>\n",
       "      <td>1.000000</td>\n",
       "      <td>-935.333333</td>\n",
       "      <td>49.333333</td>\n",
       "      <td>0.0</td>\n",
       "      <td>0.333333</td>\n",
       "      <td>0</td>\n",
       "      <td>0</td>\n",
       "      <td>1050.0</td>\n",
       "      <td>1180.0</td>\n",
       "      <td>14</td>\n",
       "    </tr>\n",
       "  </tbody>\n",
       "</table>\n",
       "</div>"
      ],
      "text/plain": [
       "   assists       bps  clean_sheets  goals_conceded  goals_scored  \\\n",
       "0      0.0  0.000000           0.0        0.000000           0.0   \n",
       "1      0.0  1.000000           0.0        0.000000           0.0   \n",
       "2      0.0  2.333333           0.0        0.000000           0.0   \n",
       "3      0.0  2.666667           0.0        0.333333           0.0   \n",
       "4      0.0  4.000000           0.0        1.333333           0.0   \n",
       "\n",
       "      ict_index  minutes      selected  rolling_points  transfers_balance  \\\n",
       "0  5.921189e-16      0.0  18824.666667        0.000000         -85.000000   \n",
       "1  6.666667e-02      2.0  15226.000000        0.333333         -52.666667   \n",
       "2  2.000000e-01      8.0  11863.333333        0.666667        -310.666667   \n",
       "3  3.000000e-01     16.0   8281.333333        0.666667        -651.333333   \n",
       "4  4.000000e-01     44.0   8071.333333        1.000000        -935.333333   \n",
       "\n",
       "       value  penalties_missed     cards  total_points  was_home  \\\n",
       "0  49.000000               0.0  0.000000             1         1   \n",
       "1  49.333333               0.0  0.000000             1         0   \n",
       "2  49.666667               0.0  0.000000             0         0   \n",
       "3  49.666667               0.0  0.333333             2         1   \n",
       "4  49.333333               0.0  0.333333             0         0   \n",
       "\n",
       "   opponent_level  team_level  time  \n",
       "0          1040.0      1110.0    14  \n",
       "1          1180.0      1180.0    11  \n",
       "2          1230.0      1180.0    15  \n",
       "3          1350.0      1110.0    16  \n",
       "4          1050.0      1180.0    14  "
      ]
     },
     "execution_count": 87,
     "metadata": {},
     "output_type": "execute_result"
    }
   ],
   "source": [
    "rolling_df_train.head()"
   ]
  },
  {
   "cell_type": "code",
   "execution_count": 88,
   "id": "92e8cc1c",
   "metadata": {
    "ExecuteTime": {
     "end_time": "2021-06-14T09:11:39.904785Z",
     "start_time": "2021-06-14T09:11:39.897826Z"
    }
   },
   "outputs": [
    {
     "data": {
      "text/plain": [
       "Index(['assists', 'bps', 'clean_sheets', 'goals_conceded', 'goals_scored',\n",
       "       'ict_index', 'minutes', 'selected', 'rolling_points',\n",
       "       'transfers_balance', 'value', 'penalties_missed', 'cards',\n",
       "       'total_points', 'was_home', 'opponent_level', 'team_level', 'time'],\n",
       "      dtype='object')"
      ]
     },
     "execution_count": 88,
     "metadata": {},
     "output_type": "execute_result"
    }
   ],
   "source": [
    "rolling_df_train.columns"
   ]
  },
  {
   "cell_type": "code",
   "execution_count": 89,
   "id": "7f973404",
   "metadata": {
    "ExecuteTime": {
     "end_time": "2021-06-14T09:11:39.913794Z",
     "start_time": "2021-06-14T09:11:39.907518Z"
    }
   },
   "outputs": [
    {
     "data": {
      "text/plain": [
       "(16276, 18)"
      ]
     },
     "execution_count": 89,
     "metadata": {},
     "output_type": "execute_result"
    }
   ],
   "source": [
    "rolling_df_train.shape"
   ]
  },
  {
   "cell_type": "markdown",
   "id": "212481c9",
   "metadata": {},
   "source": [
    "## Models for the midfielders"
   ]
  },
  {
   "cell_type": "markdown",
   "id": "9e46cb9d",
   "metadata": {},
   "source": [
    "### Gradient Boosting"
   ]
  },
  {
   "cell_type": "code",
   "execution_count": 90,
   "id": "8f14c679",
   "metadata": {
    "ExecuteTime": {
     "end_time": "2021-06-14T09:11:39.923491Z",
     "start_time": "2021-06-14T09:11:39.916233Z"
    }
   },
   "outputs": [],
   "source": [
    "X_train=rolling_df_train.drop(columns='total_points')\n",
    "X_test=rolling_df_test.drop(columns='total_points')"
   ]
  },
  {
   "cell_type": "code",
   "execution_count": 91,
   "id": "aeeeee00",
   "metadata": {
    "ExecuteTime": {
     "end_time": "2021-06-14T09:11:39.930408Z",
     "start_time": "2021-06-14T09:11:39.925929Z"
    }
   },
   "outputs": [],
   "source": [
    "y_train=rolling_df_train['total_points']\n",
    "y_test=rolling_df_test['total_points']\n"
   ]
  },
  {
   "cell_type": "code",
   "execution_count": 92,
   "id": "f6ad4166",
   "metadata": {
    "ExecuteTime": {
     "end_time": "2021-06-14T09:11:42.367938Z",
     "start_time": "2021-06-14T09:11:39.933090Z"
    }
   },
   "outputs": [
    {
     "data": {
      "text/plain": [
       "1.0225059303125743"
      ]
     },
     "execution_count": 92,
     "metadata": {},
     "output_type": "execute_result"
    }
   ],
   "source": [
    "from sklearn.ensemble import GradientBoostingRegressor\n",
    "from sklearn.model_selection import GridSearchCV\n",
    "from sklearn.metrics import mean_absolute_error\n",
    "from sklearn.model_selection import cross_val_score\n",
    "\n",
    "reg = GradientBoostingRegressor(random_state=0,loss='ls')\n",
    "reg.fit(X_train, y_train)\n",
    "y_pred=reg.predict(X_test)\n",
    "\n",
    "mean_absolute_error(y_test,y_pred)"
   ]
  },
  {
   "cell_type": "code",
   "execution_count": 93,
   "id": "c5c39886",
   "metadata": {
    "ExecuteTime": {
     "end_time": "2021-06-14T09:11:51.538728Z",
     "start_time": "2021-06-14T09:11:42.370622Z"
    }
   },
   "outputs": [
    {
     "data": {
      "text/plain": [
       "0.258756508924579"
      ]
     },
     "execution_count": 93,
     "metadata": {},
     "output_type": "execute_result"
    }
   ],
   "source": [
    "result=cross_val_score(reg, X_train, y_train).mean()\n",
    "\n",
    "result"
   ]
  },
  {
   "cell_type": "code",
   "execution_count": 94,
   "id": "5b0a8ac9",
   "metadata": {
    "ExecuteTime": {
     "end_time": "2021-06-14T09:11:51.553265Z",
     "start_time": "2021-06-14T09:11:51.547683Z"
    }
   },
   "outputs": [
    {
     "name": "stderr",
     "output_type": "stream",
     "text": [
      "<ipython-input-94-9c4b9cdd679b>:1: SettingWithCopyWarning: \n",
      "A value is trying to be set on a copy of a slice from a DataFrame.\n",
      "Try using .loc[row_indexer,col_indexer] = value instead\n",
      "\n",
      "See the caveats in the documentation: https://pandas.pydata.org/pandas-docs/stable/user_guide/indexing.html#returning-a-view-versus-a-copy\n",
      "  hold_test['y_pred']=y_pred\n"
     ]
    }
   ],
   "source": [
    "hold_test['y_pred']=y_pred"
   ]
  },
  {
   "cell_type": "code",
   "execution_count": 95,
   "id": "f826857b",
   "metadata": {
    "ExecuteTime": {
     "end_time": "2021-06-14T09:11:51.562655Z",
     "start_time": "2021-06-14T09:11:51.556489Z"
    }
   },
   "outputs": [
    {
     "name": "stderr",
     "output_type": "stream",
     "text": [
      "<ipython-input-95-088461d3fca5>:1: SettingWithCopyWarning: \n",
      "A value is trying to be set on a copy of a slice from a DataFrame.\n",
      "Try using .loc[row_indexer,col_indexer] = value instead\n",
      "\n",
      "See the caveats in the documentation: https://pandas.pydata.org/pandas-docs/stable/user_guide/indexing.html#returning-a-view-versus-a-copy\n",
      "  hold_test['y_test']=y_test\n"
     ]
    }
   ],
   "source": [
    "hold_test['y_test']=y_test"
   ]
  },
  {
   "cell_type": "code",
   "execution_count": 96,
   "id": "3abab6e3",
   "metadata": {
    "ExecuteTime": {
     "end_time": "2021-06-14T09:11:51.579678Z",
     "start_time": "2021-06-14T09:11:51.566027Z"
    }
   },
   "outputs": [
    {
     "data": {
      "text/html": [
       "<div>\n",
       "<style scoped>\n",
       "    .dataframe tbody tr th:only-of-type {\n",
       "        vertical-align: middle;\n",
       "    }\n",
       "\n",
       "    .dataframe tbody tr th {\n",
       "        vertical-align: top;\n",
       "    }\n",
       "\n",
       "    .dataframe thead th {\n",
       "        text-align: right;\n",
       "    }\n",
       "</style>\n",
       "<table border=\"1\" class=\"dataframe\">\n",
       "  <thead>\n",
       "    <tr style=\"text-align: right;\">\n",
       "      <th></th>\n",
       "      <th>name</th>\n",
       "      <th>GW</th>\n",
       "      <th>season</th>\n",
       "      <th>y_pred</th>\n",
       "      <th>y_test</th>\n",
       "    </tr>\n",
       "  </thead>\n",
       "  <tbody>\n",
       "    <tr>\n",
       "      <th>1107</th>\n",
       "      <td>paul pogba</td>\n",
       "      <td>35</td>\n",
       "      <td>21</td>\n",
       "      <td>3.363465</td>\n",
       "      <td>5</td>\n",
       "    </tr>\n",
       "    <tr>\n",
       "      <th>1108</th>\n",
       "      <td>paul pogba</td>\n",
       "      <td>35</td>\n",
       "      <td>21</td>\n",
       "      <td>2.469348</td>\n",
       "      <td>0</td>\n",
       "    </tr>\n",
       "    <tr>\n",
       "      <th>1109</th>\n",
       "      <td>paul pogba</td>\n",
       "      <td>35</td>\n",
       "      <td>21</td>\n",
       "      <td>2.248831</td>\n",
       "      <td>2</td>\n",
       "    </tr>\n",
       "    <tr>\n",
       "      <th>1110</th>\n",
       "      <td>paul pogba</td>\n",
       "      <td>37</td>\n",
       "      <td>21</td>\n",
       "      <td>4.878253</td>\n",
       "      <td>2</td>\n",
       "    </tr>\n",
       "    <tr>\n",
       "      <th>1111</th>\n",
       "      <td>paul pogba</td>\n",
       "      <td>38</td>\n",
       "      <td>21</td>\n",
       "      <td>2.671378</td>\n",
       "      <td>0</td>\n",
       "    </tr>\n",
       "  </tbody>\n",
       "</table>\n",
       "</div>"
      ],
      "text/plain": [
       "            name  GW  season    y_pred  y_test\n",
       "1107  paul pogba  35      21  3.363465       5\n",
       "1108  paul pogba  35      21  2.469348       0\n",
       "1109  paul pogba  35      21  2.248831       2\n",
       "1110  paul pogba  37      21  4.878253       2\n",
       "1111  paul pogba  38      21  2.671378       0"
      ]
     },
     "execution_count": 96,
     "metadata": {},
     "output_type": "execute_result"
    }
   ],
   "source": [
    "hold_test[hold_test['name']=='paul pogba']"
   ]
  },
  {
   "cell_type": "code",
   "execution_count": 97,
   "id": "b2edebfb",
   "metadata": {
    "ExecuteTime": {
     "end_time": "2021-06-14T09:11:51.598869Z",
     "start_time": "2021-06-14T09:11:51.582382Z"
    },
    "scrolled": true
   },
   "outputs": [
    {
     "data": {
      "text/html": [
       "<div>\n",
       "<style scoped>\n",
       "    .dataframe tbody tr th:only-of-type {\n",
       "        vertical-align: middle;\n",
       "    }\n",
       "\n",
       "    .dataframe tbody tr th {\n",
       "        vertical-align: top;\n",
       "    }\n",
       "\n",
       "    .dataframe thead th {\n",
       "        text-align: right;\n",
       "    }\n",
       "</style>\n",
       "<table border=\"1\" class=\"dataframe\">\n",
       "  <thead>\n",
       "    <tr style=\"text-align: right;\">\n",
       "      <th></th>\n",
       "      <th>name</th>\n",
       "      <th>GW</th>\n",
       "      <th>season</th>\n",
       "      <th>y_pred</th>\n",
       "      <th>y_test</th>\n",
       "    </tr>\n",
       "  </thead>\n",
       "  <tbody>\n",
       "    <tr>\n",
       "      <th>461</th>\n",
       "      <td>harry winks</td>\n",
       "      <td>34</td>\n",
       "      <td>21</td>\n",
       "      <td>0.680952</td>\n",
       "      <td>1</td>\n",
       "    </tr>\n",
       "    <tr>\n",
       "      <th>462</th>\n",
       "      <td>harry winks</td>\n",
       "      <td>35</td>\n",
       "      <td>21</td>\n",
       "      <td>0.960021</td>\n",
       "      <td>0</td>\n",
       "    </tr>\n",
       "    <tr>\n",
       "      <th>463</th>\n",
       "      <td>harry winks</td>\n",
       "      <td>36</td>\n",
       "      <td>21</td>\n",
       "      <td>1.031078</td>\n",
       "      <td>1</td>\n",
       "    </tr>\n",
       "    <tr>\n",
       "      <th>464</th>\n",
       "      <td>harry winks</td>\n",
       "      <td>37</td>\n",
       "      <td>21</td>\n",
       "      <td>1.031078</td>\n",
       "      <td>2</td>\n",
       "    </tr>\n",
       "    <tr>\n",
       "      <th>465</th>\n",
       "      <td>harry winks</td>\n",
       "      <td>38</td>\n",
       "      <td>21</td>\n",
       "      <td>0.941621</td>\n",
       "      <td>1</td>\n",
       "    </tr>\n",
       "  </tbody>\n",
       "</table>\n",
       "</div>"
      ],
      "text/plain": [
       "            name  GW  season    y_pred  y_test\n",
       "461  harry winks  34      21  0.680952       1\n",
       "462  harry winks  35      21  0.960021       0\n",
       "463  harry winks  36      21  1.031078       1\n",
       "464  harry winks  37      21  1.031078       2\n",
       "465  harry winks  38      21  0.941621       1"
      ]
     },
     "execution_count": 97,
     "metadata": {},
     "output_type": "execute_result"
    }
   ],
   "source": [
    "hold_test[hold_test['name']=='harry winks']"
   ]
  },
  {
   "cell_type": "code",
   "execution_count": 98,
   "id": "254effb2",
   "metadata": {
    "ExecuteTime": {
     "end_time": "2021-06-14T09:11:51.818846Z",
     "start_time": "2021-06-14T09:11:51.601699Z"
    },
    "scrolled": true
   },
   "outputs": [
    {
     "data": {
      "text/plain": [
       "<matplotlib.legend.Legend at 0x15c6cb100>"
      ]
     },
     "execution_count": 98,
     "metadata": {},
     "output_type": "execute_result"
    },
    {
     "data": {
      "image/png": "[encoded data removed]",
      "text/plain": [
       "<Figure size 432x288 with 1 Axes>"
      ]
     },
     "metadata": {
      "needs_background": "light"
     },
     "output_type": "display_data"
    }
   ],
   "source": [
    "hold_df=hold_test.copy()\n",
    "plt.plot(hold_df[hold_df['name']=='harry winks']['GW'],np.abs(hold_df[hold_df['name']=='harry winks']['y_pred']-hold_df[hold_df['name']=='harry winks']['y_test']),label='harry winks')\n",
    "plt.plot(hold_df[hold_df['name']=='paul pogba']['GW'],np.abs(hold_df[hold_df['name']=='paul pogba']['y_pred']-hold_df[hold_df['name']=='paul pogba']['y_test']),label='paul pogba')\n",
    "plt.plot(hold_df[hold_df['name']=='declan rice']['GW'],np.abs(hold_df[hold_df['name']=='declan rice']['y_pred']-hold_df[hold_df['name']=='declan rice']['y_test']),label='declan rice')\n",
    "plt.plot(hold_df[hold_df['name']=='mason mount']['GW'],np.abs(hold_df[hold_df['name']=='mason mount']['y_pred']-hold_df[hold_df['name']=='mason mount']['y_test']),label='mason mount')\n",
    "plt.plot([28,30,32,34,36,38],[1.046823268074249,1.046823268074249,1.046823268074249,1.046823268074249,1.046823268074249,1.046823268074249],label='model')\n",
    "plt.legend()"
   ]
  },
  {
   "cell_type": "code",
   "execution_count": 99,
   "id": "5f230485",
   "metadata": {
    "ExecuteTime": {
     "end_time": "2021-06-14T09:11:51.832067Z",
     "start_time": "2021-06-14T09:11:51.822351Z"
    },
    "scrolled": false
   },
   "outputs": [
    {
     "data": {
      "text/html": [
       "<div>\n",
       "<style scoped>\n",
       "    .dataframe tbody tr th:only-of-type {\n",
       "        vertical-align: middle;\n",
       "    }\n",
       "\n",
       "    .dataframe tbody tr th {\n",
       "        vertical-align: top;\n",
       "    }\n",
       "\n",
       "    .dataframe thead th {\n",
       "        text-align: right;\n",
       "    }\n",
       "</style>\n",
       "<table border=\"1\" class=\"dataframe\">\n",
       "  <thead>\n",
       "    <tr style=\"text-align: right;\">\n",
       "      <th></th>\n",
       "      <th>name</th>\n",
       "      <th>GW</th>\n",
       "      <th>season</th>\n",
       "      <th>y_pred</th>\n",
       "      <th>y_test</th>\n",
       "    </tr>\n",
       "  </thead>\n",
       "  <tbody>\n",
       "    <tr>\n",
       "      <th>990</th>\n",
       "      <td>mohamed salah</td>\n",
       "      <td>38</td>\n",
       "      <td>21</td>\n",
       "      <td>7.444237</td>\n",
       "      <td>6</td>\n",
       "    </tr>\n",
       "    <tr>\n",
       "      <th>1130</th>\n",
       "      <td>pierre-emerick aubameyang</td>\n",
       "      <td>38</td>\n",
       "      <td>21</td>\n",
       "      <td>5.215265</td>\n",
       "      <td>3</td>\n",
       "    </tr>\n",
       "    <tr>\n",
       "      <th>195</th>\n",
       "      <td>bruno miguel borges fernandes</td>\n",
       "      <td>38</td>\n",
       "      <td>21</td>\n",
       "      <td>5.170251</td>\n",
       "      <td>0</td>\n",
       "    </tr>\n",
       "    <tr>\n",
       "      <th>1215</th>\n",
       "      <td>sadio mané</td>\n",
       "      <td>38</td>\n",
       "      <td>21</td>\n",
       "      <td>5.060070</td>\n",
       "      <td>16</td>\n",
       "    </tr>\n",
       "    <tr>\n",
       "      <th>541</th>\n",
       "      <td>jack harrison</td>\n",
       "      <td>38</td>\n",
       "      <td>21</td>\n",
       "      <td>4.714583</td>\n",
       "      <td>5</td>\n",
       "    </tr>\n",
       "  </tbody>\n",
       "</table>\n",
       "</div>"
      ],
      "text/plain": [
       "                               name  GW  season    y_pred  y_test\n",
       "990                   mohamed salah  38      21  7.444237       6\n",
       "1130      pierre-emerick aubameyang  38      21  5.215265       3\n",
       "195   bruno miguel borges fernandes  38      21  5.170251       0\n",
       "1215                     sadio mané  38      21  5.060070      16\n",
       "541                   jack harrison  38      21  4.714583       5"
      ]
     },
     "execution_count": 99,
     "metadata": {},
     "output_type": "execute_result"
    }
   ],
   "source": [
    "hold_df[hold_df['GW']==38].sort_values(by='y_pred',ascending=False).head(5)"
   ]
  },
  {
   "cell_type": "code",
   "execution_count": 100,
   "id": "2ab71019",
   "metadata": {
    "ExecuteTime": {
     "end_time": "2021-06-14T09:11:51.859612Z",
     "start_time": "2021-06-14T09:11:51.835454Z"
    },
    "scrolled": true
   },
   "outputs": [
    {
     "data": {
      "text/html": [
       "<div>\n",
       "<style scoped>\n",
       "    .dataframe tbody tr th:only-of-type {\n",
       "        vertical-align: middle;\n",
       "    }\n",
       "\n",
       "    .dataframe tbody tr th {\n",
       "        vertical-align: top;\n",
       "    }\n",
       "\n",
       "    .dataframe thead th {\n",
       "        text-align: right;\n",
       "    }\n",
       "</style>\n",
       "<table border=\"1\" class=\"dataframe\">\n",
       "  <thead>\n",
       "    <tr style=\"text-align: right;\">\n",
       "      <th></th>\n",
       "      <th>name</th>\n",
       "      <th>GW</th>\n",
       "      <th>season</th>\n",
       "      <th>y_pred</th>\n",
       "      <th>y_test</th>\n",
       "    </tr>\n",
       "  </thead>\n",
       "  <tbody>\n",
       "    <tr>\n",
       "      <th>1096</th>\n",
       "      <td>pablo fornals</td>\n",
       "      <td>38</td>\n",
       "      <td>21</td>\n",
       "      <td>3.678157</td>\n",
       "      <td>19</td>\n",
       "    </tr>\n",
       "    <tr>\n",
       "      <th>1215</th>\n",
       "      <td>sadio mané</td>\n",
       "      <td>38</td>\n",
       "      <td>21</td>\n",
       "      <td>5.060070</td>\n",
       "      <td>16</td>\n",
       "    </tr>\n",
       "    <tr>\n",
       "      <th>1061</th>\n",
       "      <td>nicolas pépé</td>\n",
       "      <td>38</td>\n",
       "      <td>21</td>\n",
       "      <td>3.563928</td>\n",
       "      <td>16</td>\n",
       "    </tr>\n",
       "    <tr>\n",
       "      <th>175</th>\n",
       "      <td>bertrand traoré</td>\n",
       "      <td>38</td>\n",
       "      <td>21</td>\n",
       "      <td>2.860577</td>\n",
       "      <td>13</td>\n",
       "    </tr>\n",
       "    <tr>\n",
       "      <th>795</th>\n",
       "      <td>kevin de bruyne</td>\n",
       "      <td>38</td>\n",
       "      <td>21</td>\n",
       "      <td>0.447481</td>\n",
       "      <td>13</td>\n",
       "    </tr>\n",
       "  </tbody>\n",
       "</table>\n",
       "</div>"
      ],
      "text/plain": [
       "                 name  GW  season    y_pred  y_test\n",
       "1096    pablo fornals  38      21  3.678157      19\n",
       "1215       sadio mané  38      21  5.060070      16\n",
       "1061     nicolas pépé  38      21  3.563928      16\n",
       "175   bertrand traoré  38      21  2.860577      13\n",
       "795   kevin de bruyne  38      21  0.447481      13"
      ]
     },
     "execution_count": 100,
     "metadata": {},
     "output_type": "execute_result"
    }
   ],
   "source": [
    "hold_df[hold_df['GW']==38].sort_values(by='y_test',ascending=False).head(5)"
   ]
  },
  {
   "cell_type": "code",
   "execution_count": 101,
   "id": "91b89889",
   "metadata": {
    "ExecuteTime": {
     "end_time": "2021-06-14T09:11:51.904932Z",
     "start_time": "2021-06-14T09:11:51.863151Z"
    },
    "scrolled": false
   },
   "outputs": [
    {
     "data": {
      "text/html": [
       "<div>\n",
       "<style scoped>\n",
       "    .dataframe tbody tr th:only-of-type {\n",
       "        vertical-align: middle;\n",
       "    }\n",
       "\n",
       "    .dataframe tbody tr th {\n",
       "        vertical-align: top;\n",
       "    }\n",
       "\n",
       "    .dataframe thead th {\n",
       "        text-align: right;\n",
       "    }\n",
       "</style>\n",
       "<table border=\"1\" class=\"dataframe\">\n",
       "  <thead>\n",
       "    <tr style=\"text-align: right;\">\n",
       "      <th></th>\n",
       "      <th>name</th>\n",
       "      <th>GW</th>\n",
       "      <th>season</th>\n",
       "      <th>y_pred</th>\n",
       "      <th>y_test</th>\n",
       "    </tr>\n",
       "  </thead>\n",
       "  <tbody>\n",
       "    <tr>\n",
       "      <th>406</th>\n",
       "      <td>gareth bale</td>\n",
       "      <td>34</td>\n",
       "      <td>21</td>\n",
       "      <td>3.797842</td>\n",
       "      <td>21</td>\n",
       "    </tr>\n",
       "    <tr>\n",
       "      <th>771</th>\n",
       "      <td>kai havertz</td>\n",
       "      <td>34</td>\n",
       "      <td>21</td>\n",
       "      <td>4.078725</td>\n",
       "      <td>16</td>\n",
       "    </tr>\n",
       "    <tr>\n",
       "      <th>1126</th>\n",
       "      <td>pierre-emerick aubameyang</td>\n",
       "      <td>34</td>\n",
       "      <td>21</td>\n",
       "      <td>0.582917</td>\n",
       "      <td>12</td>\n",
       "    </tr>\n",
       "    <tr>\n",
       "      <th>482</th>\n",
       "      <td>heung-min son</td>\n",
       "      <td>34</td>\n",
       "      <td>21</td>\n",
       "      <td>6.075437</td>\n",
       "      <td>12</td>\n",
       "    </tr>\n",
       "    <tr>\n",
       "      <th>981</th>\n",
       "      <td>mohamed naser el sayed elneny</td>\n",
       "      <td>34</td>\n",
       "      <td>21</td>\n",
       "      <td>0.819089</td>\n",
       "      <td>11</td>\n",
       "    </tr>\n",
       "    <tr>\n",
       "      <th>330</th>\n",
       "      <td>eberechi eze</td>\n",
       "      <td>35</td>\n",
       "      <td>21</td>\n",
       "      <td>2.657198</td>\n",
       "      <td>14</td>\n",
       "    </tr>\n",
       "    <tr>\n",
       "      <th>342</th>\n",
       "      <td>emile smith rowe</td>\n",
       "      <td>35</td>\n",
       "      <td>21</td>\n",
       "      <td>1.854771</td>\n",
       "      <td>11</td>\n",
       "    </tr>\n",
       "    <tr>\n",
       "      <th>1211</th>\n",
       "      <td>sadio mané</td>\n",
       "      <td>35</td>\n",
       "      <td>21</td>\n",
       "      <td>4.767796</td>\n",
       "      <td>11</td>\n",
       "    </tr>\n",
       "    <tr>\n",
       "      <th>139</th>\n",
       "      <td>ashley westwood</td>\n",
       "      <td>35</td>\n",
       "      <td>21</td>\n",
       "      <td>2.761210</td>\n",
       "      <td>10</td>\n",
       "    </tr>\n",
       "    <tr>\n",
       "      <th>997</th>\n",
       "      <td>morgan gibbs-white</td>\n",
       "      <td>35</td>\n",
       "      <td>21</td>\n",
       "      <td>1.025239</td>\n",
       "      <td>10</td>\n",
       "    </tr>\n",
       "    <tr>\n",
       "      <th>383</th>\n",
       "      <td>ferran torres</td>\n",
       "      <td>36</td>\n",
       "      <td>21</td>\n",
       "      <td>3.011629</td>\n",
       "      <td>20</td>\n",
       "    </tr>\n",
       "    <tr>\n",
       "      <th>539</th>\n",
       "      <td>jack harrison</td>\n",
       "      <td>36</td>\n",
       "      <td>21</td>\n",
       "      <td>3.131447</td>\n",
       "      <td>16</td>\n",
       "    </tr>\n",
       "    <tr>\n",
       "      <th>1133</th>\n",
       "      <td>pierre-emile højbjerg</td>\n",
       "      <td>36</td>\n",
       "      <td>21</td>\n",
       "      <td>2.387469</td>\n",
       "      <td>14</td>\n",
       "    </tr>\n",
       "    <tr>\n",
       "      <th>1045</th>\n",
       "      <td>nathan tella</td>\n",
       "      <td>36</td>\n",
       "      <td>21</td>\n",
       "      <td>1.087636</td>\n",
       "      <td>11</td>\n",
       "    </tr>\n",
       "    <tr>\n",
       "      <th>988</th>\n",
       "      <td>mohamed salah</td>\n",
       "      <td>36</td>\n",
       "      <td>21</td>\n",
       "      <td>8.681603</td>\n",
       "      <td>10</td>\n",
       "    </tr>\n",
       "    <tr>\n",
       "      <th>1060</th>\n",
       "      <td>nicolas pépé</td>\n",
       "      <td>37</td>\n",
       "      <td>21</td>\n",
       "      <td>2.316446</td>\n",
       "      <td>15</td>\n",
       "    </tr>\n",
       "    <tr>\n",
       "      <th>729</th>\n",
       "      <td>joseph willock</td>\n",
       "      <td>37</td>\n",
       "      <td>21</td>\n",
       "      <td>3.241370</td>\n",
       "      <td>11</td>\n",
       "    </tr>\n",
       "    <tr>\n",
       "      <th>724</th>\n",
       "      <td>jorge luiz frello filho</td>\n",
       "      <td>37</td>\n",
       "      <td>21</td>\n",
       "      <td>1.479414</td>\n",
       "      <td>10</td>\n",
       "    </tr>\n",
       "    <tr>\n",
       "      <th>1124</th>\n",
       "      <td>phil foden</td>\n",
       "      <td>37</td>\n",
       "      <td>21</td>\n",
       "      <td>1.910719</td>\n",
       "      <td>10</td>\n",
       "    </tr>\n",
       "    <tr>\n",
       "      <th>1277</th>\n",
       "      <td>steven bergwijn</td>\n",
       "      <td>37</td>\n",
       "      <td>21</td>\n",
       "      <td>1.372877</td>\n",
       "      <td>9</td>\n",
       "    </tr>\n",
       "    <tr>\n",
       "      <th>1096</th>\n",
       "      <td>pablo fornals</td>\n",
       "      <td>38</td>\n",
       "      <td>21</td>\n",
       "      <td>3.678157</td>\n",
       "      <td>19</td>\n",
       "    </tr>\n",
       "    <tr>\n",
       "      <th>1215</th>\n",
       "      <td>sadio mané</td>\n",
       "      <td>38</td>\n",
       "      <td>21</td>\n",
       "      <td>5.060070</td>\n",
       "      <td>16</td>\n",
       "    </tr>\n",
       "    <tr>\n",
       "      <th>1061</th>\n",
       "      <td>nicolas pépé</td>\n",
       "      <td>38</td>\n",
       "      <td>21</td>\n",
       "      <td>3.563928</td>\n",
       "      <td>16</td>\n",
       "    </tr>\n",
       "    <tr>\n",
       "      <th>175</th>\n",
       "      <td>bertrand traoré</td>\n",
       "      <td>38</td>\n",
       "      <td>21</td>\n",
       "      <td>2.860577</td>\n",
       "      <td>13</td>\n",
       "    </tr>\n",
       "    <tr>\n",
       "      <th>795</th>\n",
       "      <td>kevin de bruyne</td>\n",
       "      <td>38</td>\n",
       "      <td>21</td>\n",
       "      <td>0.447481</td>\n",
       "      <td>13</td>\n",
       "    </tr>\n",
       "  </tbody>\n",
       "</table>\n",
       "</div>"
      ],
      "text/plain": [
       "                               name  GW  season    y_pred  y_test\n",
       "406                     gareth bale  34      21  3.797842      21\n",
       "771                     kai havertz  34      21  4.078725      16\n",
       "1126      pierre-emerick aubameyang  34      21  0.582917      12\n",
       "482                   heung-min son  34      21  6.075437      12\n",
       "981   mohamed naser el sayed elneny  34      21  0.819089      11\n",
       "330                    eberechi eze  35      21  2.657198      14\n",
       "342                emile smith rowe  35      21  1.854771      11\n",
       "1211                     sadio mané  35      21  4.767796      11\n",
       "139                 ashley westwood  35      21  2.761210      10\n",
       "997              morgan gibbs-white  35      21  1.025239      10\n",
       "383                   ferran torres  36      21  3.011629      20\n",
       "539                   jack harrison  36      21  3.131447      16\n",
       "1133          pierre-emile højbjerg  36      21  2.387469      14\n",
       "1045                   nathan tella  36      21  1.087636      11\n",
       "988                   mohamed salah  36      21  8.681603      10\n",
       "1060                   nicolas pépé  37      21  2.316446      15\n",
       "729                  joseph willock  37      21  3.241370      11\n",
       "724         jorge luiz frello filho  37      21  1.479414      10\n",
       "1124                     phil foden  37      21  1.910719      10\n",
       "1277                steven bergwijn  37      21  1.372877       9\n",
       "1096                  pablo fornals  38      21  3.678157      19\n",
       "1215                     sadio mané  38      21  5.060070      16\n",
       "1061                   nicolas pépé  38      21  3.563928      16\n",
       "175                 bertrand traoré  38      21  2.860577      13\n",
       "795                 kevin de bruyne  38      21  0.447481      13"
      ]
     },
     "execution_count": 101,
     "metadata": {},
     "output_type": "execute_result"
    }
   ],
   "source": [
    "GW_list=[35,36,37,38]\n",
    "top_predicted_mid=hold_df[hold_df['GW']==34].sort_values(by='y_pred',ascending=False).head(5)\n",
    "for GW in GW_list:\n",
    "    df1=hold_df[hold_df['GW']==GW].sort_values(by='y_pred',ascending=False).head(5)\n",
    "    top_predicted_mid=pd.concat([top_predicted_mid,df1])\n",
    "top_predicted_mid\n",
    "\n",
    "\n",
    "GW_list=[35,36,37,38]\n",
    "top_actual_mid=hold_df[hold_df['GW']==34].sort_values(by='y_test',ascending=False).head(5)\n",
    "for GW in GW_list:\n",
    "    df1=hold_df[hold_df['GW']==GW].sort_values(by='y_test',ascending=False).head(5)\n",
    "    top_actual_mid=pd.concat([top_actual_mid,df1])\n",
    "top_actual_mid"
   ]
  },
  {
   "cell_type": "markdown",
   "id": "8ec3aca2",
   "metadata": {},
   "source": [
    "### KNN"
   ]
  },
  {
   "cell_type": "code",
   "execution_count": 102,
   "id": "5385daf1",
   "metadata": {
    "ExecuteTime": {
     "end_time": "2021-06-14T09:11:51.913734Z",
     "start_time": "2021-06-14T09:11:51.907915Z"
    }
   },
   "outputs": [],
   "source": [
    "X_train=rolling_df_train.drop(columns='total_points')\n",
    "X_test=rolling_df_test.drop(columns='total_points')\n",
    "\n",
    "y_train=rolling_df_train['total_points']\n",
    "y_test=rolling_df_test['total_points']"
   ]
  },
  {
   "cell_type": "code",
   "execution_count": 103,
   "id": "0f1e5058",
   "metadata": {
    "ExecuteTime": {
     "end_time": "2021-06-14T09:11:51.943812Z",
     "start_time": "2021-06-14T09:11:51.916291Z"
    }
   },
   "outputs": [
    {
     "data": {
      "text/html": [
       "<div>\n",
       "<style scoped>\n",
       "    .dataframe tbody tr th:only-of-type {\n",
       "        vertical-align: middle;\n",
       "    }\n",
       "\n",
       "    .dataframe tbody tr th {\n",
       "        vertical-align: top;\n",
       "    }\n",
       "\n",
       "    .dataframe thead th {\n",
       "        text-align: right;\n",
       "    }\n",
       "</style>\n",
       "<table border=\"1\" class=\"dataframe\">\n",
       "  <thead>\n",
       "    <tr style=\"text-align: right;\">\n",
       "      <th></th>\n",
       "      <th>assists</th>\n",
       "      <th>bps</th>\n",
       "      <th>clean_sheets</th>\n",
       "      <th>goals_conceded</th>\n",
       "      <th>goals_scored</th>\n",
       "      <th>ict_index</th>\n",
       "      <th>minutes</th>\n",
       "      <th>selected</th>\n",
       "      <th>rolling_points</th>\n",
       "      <th>transfers_balance</th>\n",
       "      <th>value</th>\n",
       "      <th>penalties_missed</th>\n",
       "      <th>cards</th>\n",
       "      <th>was_home</th>\n",
       "      <th>opponent_level</th>\n",
       "      <th>team_level</th>\n",
       "      <th>time</th>\n",
       "    </tr>\n",
       "  </thead>\n",
       "  <tbody>\n",
       "    <tr>\n",
       "      <th>0</th>\n",
       "      <td>0.0</td>\n",
       "      <td>0.000000</td>\n",
       "      <td>0.0</td>\n",
       "      <td>0.000000</td>\n",
       "      <td>0.0</td>\n",
       "      <td>5.921189e-16</td>\n",
       "      <td>0.0</td>\n",
       "      <td>18824.666667</td>\n",
       "      <td>0.000000</td>\n",
       "      <td>-85.000000</td>\n",
       "      <td>49.000000</td>\n",
       "      <td>0.0</td>\n",
       "      <td>0.000000</td>\n",
       "      <td>1</td>\n",
       "      <td>1040.0</td>\n",
       "      <td>1110.0</td>\n",
       "      <td>14</td>\n",
       "    </tr>\n",
       "    <tr>\n",
       "      <th>1</th>\n",
       "      <td>0.0</td>\n",
       "      <td>1.000000</td>\n",
       "      <td>0.0</td>\n",
       "      <td>0.000000</td>\n",
       "      <td>0.0</td>\n",
       "      <td>6.666667e-02</td>\n",
       "      <td>2.0</td>\n",
       "      <td>15226.000000</td>\n",
       "      <td>0.333333</td>\n",
       "      <td>-52.666667</td>\n",
       "      <td>49.333333</td>\n",
       "      <td>0.0</td>\n",
       "      <td>0.000000</td>\n",
       "      <td>0</td>\n",
       "      <td>1180.0</td>\n",
       "      <td>1180.0</td>\n",
       "      <td>11</td>\n",
       "    </tr>\n",
       "    <tr>\n",
       "      <th>2</th>\n",
       "      <td>0.0</td>\n",
       "      <td>2.333333</td>\n",
       "      <td>0.0</td>\n",
       "      <td>0.000000</td>\n",
       "      <td>0.0</td>\n",
       "      <td>2.000000e-01</td>\n",
       "      <td>8.0</td>\n",
       "      <td>11863.333333</td>\n",
       "      <td>0.666667</td>\n",
       "      <td>-310.666667</td>\n",
       "      <td>49.666667</td>\n",
       "      <td>0.0</td>\n",
       "      <td>0.000000</td>\n",
       "      <td>0</td>\n",
       "      <td>1230.0</td>\n",
       "      <td>1180.0</td>\n",
       "      <td>15</td>\n",
       "    </tr>\n",
       "    <tr>\n",
       "      <th>3</th>\n",
       "      <td>0.0</td>\n",
       "      <td>2.666667</td>\n",
       "      <td>0.0</td>\n",
       "      <td>0.333333</td>\n",
       "      <td>0.0</td>\n",
       "      <td>3.000000e-01</td>\n",
       "      <td>16.0</td>\n",
       "      <td>8281.333333</td>\n",
       "      <td>0.666667</td>\n",
       "      <td>-651.333333</td>\n",
       "      <td>49.666667</td>\n",
       "      <td>0.0</td>\n",
       "      <td>0.333333</td>\n",
       "      <td>1</td>\n",
       "      <td>1350.0</td>\n",
       "      <td>1110.0</td>\n",
       "      <td>16</td>\n",
       "    </tr>\n",
       "    <tr>\n",
       "      <th>4</th>\n",
       "      <td>0.0</td>\n",
       "      <td>4.000000</td>\n",
       "      <td>0.0</td>\n",
       "      <td>1.333333</td>\n",
       "      <td>0.0</td>\n",
       "      <td>4.000000e-01</td>\n",
       "      <td>44.0</td>\n",
       "      <td>8071.333333</td>\n",
       "      <td>1.000000</td>\n",
       "      <td>-935.333333</td>\n",
       "      <td>49.333333</td>\n",
       "      <td>0.0</td>\n",
       "      <td>0.333333</td>\n",
       "      <td>0</td>\n",
       "      <td>1050.0</td>\n",
       "      <td>1180.0</td>\n",
       "      <td>14</td>\n",
       "    </tr>\n",
       "    <tr>\n",
       "      <th>...</th>\n",
       "      <td>...</td>\n",
       "      <td>...</td>\n",
       "      <td>...</td>\n",
       "      <td>...</td>\n",
       "      <td>...</td>\n",
       "      <td>...</td>\n",
       "      <td>...</td>\n",
       "      <td>...</td>\n",
       "      <td>...</td>\n",
       "      <td>...</td>\n",
       "      <td>...</td>\n",
       "      <td>...</td>\n",
       "      <td>...</td>\n",
       "      <td>...</td>\n",
       "      <td>...</td>\n",
       "      <td>...</td>\n",
       "      <td>...</td>\n",
       "    </tr>\n",
       "    <tr>\n",
       "      <th>16271</th>\n",
       "      <td>0.0</td>\n",
       "      <td>0.000000</td>\n",
       "      <td>0.0</td>\n",
       "      <td>0.000000</td>\n",
       "      <td>0.0</td>\n",
       "      <td>1.450691e-14</td>\n",
       "      <td>0.0</td>\n",
       "      <td>175.666667</td>\n",
       "      <td>0.000000</td>\n",
       "      <td>82.000000</td>\n",
       "      <td>45.000000</td>\n",
       "      <td>0.0</td>\n",
       "      <td>0.000000</td>\n",
       "      <td>1</td>\n",
       "      <td>1210.0</td>\n",
       "      <td>1000.0</td>\n",
       "      <td>19</td>\n",
       "    </tr>\n",
       "    <tr>\n",
       "      <th>16272</th>\n",
       "      <td>0.0</td>\n",
       "      <td>0.000000</td>\n",
       "      <td>0.0</td>\n",
       "      <td>0.000000</td>\n",
       "      <td>0.0</td>\n",
       "      <td>1.450691e-14</td>\n",
       "      <td>0.0</td>\n",
       "      <td>237.333333</td>\n",
       "      <td>0.000000</td>\n",
       "      <td>38.666667</td>\n",
       "      <td>45.000000</td>\n",
       "      <td>0.0</td>\n",
       "      <td>0.000000</td>\n",
       "      <td>1</td>\n",
       "      <td>1160.0</td>\n",
       "      <td>1000.0</td>\n",
       "      <td>18</td>\n",
       "    </tr>\n",
       "    <tr>\n",
       "      <th>16273</th>\n",
       "      <td>0.0</td>\n",
       "      <td>0.000000</td>\n",
       "      <td>0.0</td>\n",
       "      <td>0.000000</td>\n",
       "      <td>0.0</td>\n",
       "      <td>1.450691e-14</td>\n",
       "      <td>0.0</td>\n",
       "      <td>259.000000</td>\n",
       "      <td>0.000000</td>\n",
       "      <td>-27.000000</td>\n",
       "      <td>45.000000</td>\n",
       "      <td>0.0</td>\n",
       "      <td>0.000000</td>\n",
       "      <td>1</td>\n",
       "      <td>1100.0</td>\n",
       "      <td>1000.0</td>\n",
       "      <td>15</td>\n",
       "    </tr>\n",
       "    <tr>\n",
       "      <th>16274</th>\n",
       "      <td>0.0</td>\n",
       "      <td>0.000000</td>\n",
       "      <td>0.0</td>\n",
       "      <td>0.000000</td>\n",
       "      <td>0.0</td>\n",
       "      <td>1.450691e-14</td>\n",
       "      <td>0.0</td>\n",
       "      <td>242.666667</td>\n",
       "      <td>0.000000</td>\n",
       "      <td>-65.333333</td>\n",
       "      <td>45.000000</td>\n",
       "      <td>0.0</td>\n",
       "      <td>0.000000</td>\n",
       "      <td>0</td>\n",
       "      <td>1240.0</td>\n",
       "      <td>1040.0</td>\n",
       "      <td>14</td>\n",
       "    </tr>\n",
       "    <tr>\n",
       "      <th>16275</th>\n",
       "      <td>0.0</td>\n",
       "      <td>0.000000</td>\n",
       "      <td>0.0</td>\n",
       "      <td>0.000000</td>\n",
       "      <td>0.0</td>\n",
       "      <td>1.450691e-14</td>\n",
       "      <td>0.0</td>\n",
       "      <td>254.000000</td>\n",
       "      <td>0.000000</td>\n",
       "      <td>-35.666667</td>\n",
       "      <td>45.000000</td>\n",
       "      <td>0.0</td>\n",
       "      <td>0.000000</td>\n",
       "      <td>0</td>\n",
       "      <td>1160.0</td>\n",
       "      <td>1040.0</td>\n",
       "      <td>14</td>\n",
       "    </tr>\n",
       "  </tbody>\n",
       "</table>\n",
       "<p>16276 rows × 17 columns</p>\n",
       "</div>"
      ],
      "text/plain": [
       "       assists       bps  clean_sheets  goals_conceded  goals_scored  \\\n",
       "0          0.0  0.000000           0.0        0.000000           0.0   \n",
       "1          0.0  1.000000           0.0        0.000000           0.0   \n",
       "2          0.0  2.333333           0.0        0.000000           0.0   \n",
       "3          0.0  2.666667           0.0        0.333333           0.0   \n",
       "4          0.0  4.000000           0.0        1.333333           0.0   \n",
       "...        ...       ...           ...             ...           ...   \n",
       "16271      0.0  0.000000           0.0        0.000000           0.0   \n",
       "16272      0.0  0.000000           0.0        0.000000           0.0   \n",
       "16273      0.0  0.000000           0.0        0.000000           0.0   \n",
       "16274      0.0  0.000000           0.0        0.000000           0.0   \n",
       "16275      0.0  0.000000           0.0        0.000000           0.0   \n",
       "\n",
       "          ict_index  minutes      selected  rolling_points  transfers_balance  \\\n",
       "0      5.921189e-16      0.0  18824.666667        0.000000         -85.000000   \n",
       "1      6.666667e-02      2.0  15226.000000        0.333333         -52.666667   \n",
       "2      2.000000e-01      8.0  11863.333333        0.666667        -310.666667   \n",
       "3      3.000000e-01     16.0   8281.333333        0.666667        -651.333333   \n",
       "4      4.000000e-01     44.0   8071.333333        1.000000        -935.333333   \n",
       "...             ...      ...           ...             ...                ...   \n",
       "16271  1.450691e-14      0.0    175.666667        0.000000          82.000000   \n",
       "16272  1.450691e-14      0.0    237.333333        0.000000          38.666667   \n",
       "16273  1.450691e-14      0.0    259.000000        0.000000         -27.000000   \n",
       "16274  1.450691e-14      0.0    242.666667        0.000000         -65.333333   \n",
       "16275  1.450691e-14      0.0    254.000000        0.000000         -35.666667   \n",
       "\n",
       "           value  penalties_missed     cards  was_home  opponent_level  \\\n",
       "0      49.000000               0.0  0.000000         1          1040.0   \n",
       "1      49.333333               0.0  0.000000         0          1180.0   \n",
       "2      49.666667               0.0  0.000000         0          1230.0   \n",
       "3      49.666667               0.0  0.333333         1          1350.0   \n",
       "4      49.333333               0.0  0.333333         0          1050.0   \n",
       "...          ...               ...       ...       ...             ...   \n",
       "16271  45.000000               0.0  0.000000         1          1210.0   \n",
       "16272  45.000000               0.0  0.000000         1          1160.0   \n",
       "16273  45.000000               0.0  0.000000         1          1100.0   \n",
       "16274  45.000000               0.0  0.000000         0          1240.0   \n",
       "16275  45.000000               0.0  0.000000         0          1160.0   \n",
       "\n",
       "       team_level  time  \n",
       "0          1110.0    14  \n",
       "1          1180.0    11  \n",
       "2          1180.0    15  \n",
       "3          1110.0    16  \n",
       "4          1180.0    14  \n",
       "...           ...   ...  \n",
       "16271      1000.0    19  \n",
       "16272      1000.0    18  \n",
       "16273      1000.0    15  \n",
       "16274      1040.0    14  \n",
       "16275      1040.0    14  \n",
       "\n",
       "[16276 rows x 17 columns]"
      ]
     },
     "execution_count": 103,
     "metadata": {},
     "output_type": "execute_result"
    }
   ],
   "source": [
    "X_train"
   ]
  },
  {
   "cell_type": "code",
   "execution_count": 104,
   "id": "ac40fa0b",
   "metadata": {
    "ExecuteTime": {
     "end_time": "2021-06-14T09:11:51.961710Z",
     "start_time": "2021-06-14T09:11:51.946212Z"
    }
   },
   "outputs": [],
   "source": [
    "from sklearn.preprocessing import MinMaxScaler\n",
    "\n",
    "scaler = MinMaxScaler()\n",
    "scaler.fit(X_train)\n",
    "X_train=scaler.transform(X_train)\n",
    "X_test=scaler.transform(X_test)"
   ]
  },
  {
   "cell_type": "code",
   "execution_count": 105,
   "id": "eec88ec9",
   "metadata": {
    "ExecuteTime": {
     "end_time": "2021-06-14T09:11:56.789420Z",
     "start_time": "2021-06-14T09:11:51.964002Z"
    }
   },
   "outputs": [
    {
     "data": {
      "text/plain": [
       "0.11322777218983619"
      ]
     },
     "execution_count": 105,
     "metadata": {},
     "output_type": "execute_result"
    }
   ],
   "source": [
    "from sklearn.neighbors import KNeighborsRegressor\n",
    "from sklearn.model_selection import GridSearchCV\n",
    "\n",
    "reg = KNeighborsRegressor()\n",
    "reg.fit(X_train, y_train)\n",
    "\n",
    "result=cross_val_score(reg, X_train, y_train).mean()\n",
    "\n",
    "result\n"
   ]
  },
  {
   "cell_type": "code",
   "execution_count": 106,
   "id": "2b05c137",
   "metadata": {
    "ExecuteTime": {
     "end_time": "2021-06-14T09:11:57.313987Z",
     "start_time": "2021-06-14T09:11:56.796351Z"
    }
   },
   "outputs": [
    {
     "data": {
      "text/plain": [
       "1.117945109078114"
      ]
     },
     "execution_count": 106,
     "metadata": {},
     "output_type": "execute_result"
    }
   ],
   "source": [
    "y_pred=reg.predict(X_test)\n",
    "\n",
    "mean_absolute_error(y_test,y_pred)"
   ]
  },
  {
   "cell_type": "markdown",
   "id": "e1d84ef6",
   "metadata": {},
   "source": [
    "# Defenders"
   ]
  },
  {
   "cell_type": "code",
   "execution_count": 107,
   "id": "50d297a5",
   "metadata": {
    "ExecuteTime": {
     "end_time": "2021-06-14T09:11:57.321335Z",
     "start_time": "2021-06-14T09:11:57.316492Z"
    }
   },
   "outputs": [],
   "source": [
    "def_features=['name','assists','bps','clean_sheets','creativity','goals_conceded','goals_scored',\n",
    "              'ict_index','influence','kickoff_time','minutes','penalties_missed','red_cards',\n",
    "              'selected','threat','total_points','transfers_balance','value','was_home',\n",
    "              'yellow_cards','GW','season','opponent_level','team_level']"
   ]
  },
  {
   "cell_type": "code",
   "execution_count": 108,
   "id": "0326ce86",
   "metadata": {
    "ExecuteTime": {
     "end_time": "2021-06-14T09:11:57.335321Z",
     "start_time": "2021-06-14T09:11:57.324691Z"
    }
   },
   "outputs": [],
   "source": [
    "def_train=def_df_train[def_features]\n",
    "def_test=def_df_test[def_features]"
   ]
  },
  {
   "cell_type": "code",
   "execution_count": 109,
   "id": "aa703669",
   "metadata": {
    "ExecuteTime": {
     "end_time": "2021-06-14T09:11:57.346293Z",
     "start_time": "2021-06-14T09:11:57.338213Z"
    }
   },
   "outputs": [
    {
     "name": "stderr",
     "output_type": "stream",
     "text": [
      "<ipython-input-109-d5f3f02e812a>:1: SettingWithCopyWarning: \n",
      "A value is trying to be set on a copy of a slice from a DataFrame.\n",
      "Try using .loc[row_indexer,col_indexer] = value instead\n",
      "\n",
      "See the caveats in the documentation: https://pandas.pydata.org/pandas-docs/stable/user_guide/indexing.html#returning-a-view-versus-a-copy\n",
      "  def_train['cards']=def_train['yellow_cards']+def_train['red_cards']\n",
      "<ipython-input-109-d5f3f02e812a>:2: SettingWithCopyWarning: \n",
      "A value is trying to be set on a copy of a slice from a DataFrame.\n",
      "Try using .loc[row_indexer,col_indexer] = value instead\n",
      "\n",
      "See the caveats in the documentation: https://pandas.pydata.org/pandas-docs/stable/user_guide/indexing.html#returning-a-view-versus-a-copy\n",
      "  def_test['cards']=def_test['yellow_cards']+def_test['red_cards']\n"
     ]
    }
   ],
   "source": [
    "def_train['cards']=def_train['yellow_cards']+def_train['red_cards']\n",
    "def_test['cards']=def_test['yellow_cards']+def_test['red_cards']\n",
    "\n"
   ]
  },
  {
   "cell_type": "code",
   "execution_count": 110,
   "id": "1a1dd6ae",
   "metadata": {
    "ExecuteTime": {
     "end_time": "2021-06-14T09:11:57.356323Z",
     "start_time": "2021-06-14T09:11:57.349286Z"
    },
    "scrolled": true
   },
   "outputs": [
    {
     "data": {
      "text/plain": [
       "Index(['name', 'assists', 'bps', 'clean_sheets', 'creativity',\n",
       "       'goals_conceded', 'goals_scored', 'ict_index', 'influence',\n",
       "       'kickoff_time', 'minutes', 'penalties_missed', 'red_cards', 'selected',\n",
       "       'threat', 'total_points', 'transfers_balance', 'value', 'was_home',\n",
       "       'yellow_cards', 'GW', 'season', 'opponent_level', 'team_level',\n",
       "       'cards'],\n",
       "      dtype='object')"
      ]
     },
     "execution_count": 110,
     "metadata": {},
     "output_type": "execute_result"
    }
   ],
   "source": [
    "def_train.columns"
   ]
  },
  {
   "cell_type": "code",
   "execution_count": 111,
   "id": "e2b33aa5",
   "metadata": {
    "ExecuteTime": {
     "end_time": "2021-06-14T09:11:57.365247Z",
     "start_time": "2021-06-14T09:11:57.359245Z"
    }
   },
   "outputs": [],
   "source": [
    "rolling_features=['name','assists','bps','clean_sheets','creativity','goals_conceded','goals_scored','ict_index','influence',\n",
    "                  'minutes','selected','threat','total_points','transfers_balance','value','cards']\n",
    "\n",
    "static_features=['kickoff_time','was_home','GW','season','opponent_level','team_level']\n",
    "\n",
    "\n",
    "\n",
    "total_points_train=def_train['total_points']\n",
    "total_points_test=def_test['total_points']\n",
    "\n",
    "\n"
   ]
  },
  {
   "cell_type": "markdown",
   "id": "6bf899dd",
   "metadata": {},
   "source": [
    "## Rolling features"
   ]
  },
  {
   "cell_type": "code",
   "execution_count": 112,
   "id": "cb821e65",
   "metadata": {
    "ExecuteTime": {
     "end_time": "2021-06-14T09:11:58.235762Z",
     "start_time": "2021-06-14T09:11:57.368562Z"
    }
   },
   "outputs": [],
   "source": [
    "rolling_df_train=def_train[rolling_features].groupby('name').rolling(ra,closed = 'left').mean()\n",
    "rolling_df_test=def_test[rolling_features].groupby('name').rolling(ra,closed = 'left').mean()\n"
   ]
  },
  {
   "cell_type": "code",
   "execution_count": 113,
   "id": "ba232df0",
   "metadata": {
    "ExecuteTime": {
     "end_time": "2021-06-14T09:11:58.241867Z",
     "start_time": "2021-06-14T09:11:58.237941Z"
    }
   },
   "outputs": [],
   "source": [
    "rolling_df_train.rename(columns={'total_points':'rolling_points'},inplace=True)\n",
    "rolling_df_test.rename(columns={'total_points':'rolling_points'},inplace=True)"
   ]
  },
  {
   "cell_type": "code",
   "execution_count": 114,
   "id": "500181fa",
   "metadata": {
    "ExecuteTime": {
     "end_time": "2021-06-14T09:11:58.262145Z",
     "start_time": "2021-06-14T09:11:58.244880Z"
    }
   },
   "outputs": [],
   "source": [
    "\n",
    "result = map(lambda position:position, total_points_train)\n",
    "rolling_df_train['total_points']=list(result)\n",
    "\n",
    "result = map(lambda position:position, total_points_test)\n",
    "rolling_df_test['total_points']=list(result)"
   ]
  },
  {
   "cell_type": "code",
   "execution_count": 115,
   "id": "a136d483",
   "metadata": {
    "ExecuteTime": {
     "end_time": "2021-06-14T09:11:58.285422Z",
     "start_time": "2021-06-14T09:11:58.264854Z"
    },
    "scrolled": true
   },
   "outputs": [
    {
     "data": {
      "text/html": [
       "<div>\n",
       "<style scoped>\n",
       "    .dataframe tbody tr th:only-of-type {\n",
       "        vertical-align: middle;\n",
       "    }\n",
       "\n",
       "    .dataframe tbody tr th {\n",
       "        vertical-align: top;\n",
       "    }\n",
       "\n",
       "    .dataframe thead th {\n",
       "        text-align: right;\n",
       "    }\n",
       "</style>\n",
       "<table border=\"1\" class=\"dataframe\">\n",
       "  <thead>\n",
       "    <tr style=\"text-align: right;\">\n",
       "      <th></th>\n",
       "      <th></th>\n",
       "      <th>assists</th>\n",
       "      <th>bps</th>\n",
       "      <th>clean_sheets</th>\n",
       "      <th>creativity</th>\n",
       "      <th>goals_conceded</th>\n",
       "      <th>goals_scored</th>\n",
       "      <th>ict_index</th>\n",
       "      <th>influence</th>\n",
       "      <th>minutes</th>\n",
       "      <th>selected</th>\n",
       "      <th>threat</th>\n",
       "      <th>rolling_points</th>\n",
       "      <th>transfers_balance</th>\n",
       "      <th>value</th>\n",
       "      <th>cards</th>\n",
       "      <th>total_points</th>\n",
       "    </tr>\n",
       "    <tr>\n",
       "      <th>name</th>\n",
       "      <th></th>\n",
       "      <th></th>\n",
       "      <th></th>\n",
       "      <th></th>\n",
       "      <th></th>\n",
       "      <th></th>\n",
       "      <th></th>\n",
       "      <th></th>\n",
       "      <th></th>\n",
       "      <th></th>\n",
       "      <th></th>\n",
       "      <th></th>\n",
       "      <th></th>\n",
       "      <th></th>\n",
       "      <th></th>\n",
       "      <th></th>\n",
       "      <th></th>\n",
       "    </tr>\n",
       "  </thead>\n",
       "  <tbody>\n",
       "    <tr>\n",
       "      <th rowspan=\"5\" valign=\"top\">aaron cresswell</th>\n",
       "      <th>73</th>\n",
       "      <td>NaN</td>\n",
       "      <td>NaN</td>\n",
       "      <td>NaN</td>\n",
       "      <td>NaN</td>\n",
       "      <td>NaN</td>\n",
       "      <td>NaN</td>\n",
       "      <td>NaN</td>\n",
       "      <td>NaN</td>\n",
       "      <td>NaN</td>\n",
       "      <td>NaN</td>\n",
       "      <td>NaN</td>\n",
       "      <td>NaN</td>\n",
       "      <td>NaN</td>\n",
       "      <td>NaN</td>\n",
       "      <td>NaN</td>\n",
       "      <td>0</td>\n",
       "    </tr>\n",
       "    <tr>\n",
       "      <th>74</th>\n",
       "      <td>NaN</td>\n",
       "      <td>NaN</td>\n",
       "      <td>NaN</td>\n",
       "      <td>NaN</td>\n",
       "      <td>NaN</td>\n",
       "      <td>NaN</td>\n",
       "      <td>NaN</td>\n",
       "      <td>NaN</td>\n",
       "      <td>NaN</td>\n",
       "      <td>NaN</td>\n",
       "      <td>NaN</td>\n",
       "      <td>NaN</td>\n",
       "      <td>NaN</td>\n",
       "      <td>NaN</td>\n",
       "      <td>NaN</td>\n",
       "      <td>0</td>\n",
       "    </tr>\n",
       "    <tr>\n",
       "      <th>75</th>\n",
       "      <td>NaN</td>\n",
       "      <td>NaN</td>\n",
       "      <td>NaN</td>\n",
       "      <td>NaN</td>\n",
       "      <td>NaN</td>\n",
       "      <td>NaN</td>\n",
       "      <td>NaN</td>\n",
       "      <td>NaN</td>\n",
       "      <td>NaN</td>\n",
       "      <td>NaN</td>\n",
       "      <td>NaN</td>\n",
       "      <td>NaN</td>\n",
       "      <td>NaN</td>\n",
       "      <td>NaN</td>\n",
       "      <td>NaN</td>\n",
       "      <td>0</td>\n",
       "    </tr>\n",
       "    <tr>\n",
       "      <th>76</th>\n",
       "      <td>0.0</td>\n",
       "      <td>0.0</td>\n",
       "      <td>0.0</td>\n",
       "      <td>0.0</td>\n",
       "      <td>0.0</td>\n",
       "      <td>0.0</td>\n",
       "      <td>0.0</td>\n",
       "      <td>0.0</td>\n",
       "      <td>0.0</td>\n",
       "      <td>11713.666667</td>\n",
       "      <td>0.0</td>\n",
       "      <td>0.0</td>\n",
       "      <td>-1685.0</td>\n",
       "      <td>54.666667</td>\n",
       "      <td>0.0</td>\n",
       "      <td>0</td>\n",
       "    </tr>\n",
       "    <tr>\n",
       "      <th>77</th>\n",
       "      <td>0.0</td>\n",
       "      <td>0.0</td>\n",
       "      <td>0.0</td>\n",
       "      <td>0.0</td>\n",
       "      <td>0.0</td>\n",
       "      <td>0.0</td>\n",
       "      <td>0.0</td>\n",
       "      <td>0.0</td>\n",
       "      <td>0.0</td>\n",
       "      <td>9848.333333</td>\n",
       "      <td>0.0</td>\n",
       "      <td>0.0</td>\n",
       "      <td>-2092.0</td>\n",
       "      <td>54.333333</td>\n",
       "      <td>0.0</td>\n",
       "      <td>0</td>\n",
       "    </tr>\n",
       "  </tbody>\n",
       "</table>\n",
       "</div>"
      ],
      "text/plain": [
       "                    assists  bps  clean_sheets  creativity  goals_conceded  \\\n",
       "name                                                                         \n",
       "aaron cresswell 73      NaN  NaN           NaN         NaN             NaN   \n",
       "                74      NaN  NaN           NaN         NaN             NaN   \n",
       "                75      NaN  NaN           NaN         NaN             NaN   \n",
       "                76      0.0  0.0           0.0         0.0             0.0   \n",
       "                77      0.0  0.0           0.0         0.0             0.0   \n",
       "\n",
       "                    goals_scored  ict_index  influence  minutes      selected  \\\n",
       "name                                                                            \n",
       "aaron cresswell 73           NaN        NaN        NaN      NaN           NaN   \n",
       "                74           NaN        NaN        NaN      NaN           NaN   \n",
       "                75           NaN        NaN        NaN      NaN           NaN   \n",
       "                76           0.0        0.0        0.0      0.0  11713.666667   \n",
       "                77           0.0        0.0        0.0      0.0   9848.333333   \n",
       "\n",
       "                    threat  rolling_points  transfers_balance      value  \\\n",
       "name                                                                       \n",
       "aaron cresswell 73     NaN             NaN                NaN        NaN   \n",
       "                74     NaN             NaN                NaN        NaN   \n",
       "                75     NaN             NaN                NaN        NaN   \n",
       "                76     0.0             0.0            -1685.0  54.666667   \n",
       "                77     0.0             0.0            -2092.0  54.333333   \n",
       "\n",
       "                    cards  total_points  \n",
       "name                                     \n",
       "aaron cresswell 73    NaN             0  \n",
       "                74    NaN             0  \n",
       "                75    NaN             0  \n",
       "                76    0.0             0  \n",
       "                77    0.0             0  "
      ]
     },
     "execution_count": 115,
     "metadata": {},
     "output_type": "execute_result"
    }
   ],
   "source": [
    "rolling_df_train.head()"
   ]
  },
  {
   "cell_type": "code",
   "execution_count": 116,
   "id": "afb57c9a",
   "metadata": {
    "ExecuteTime": {
     "end_time": "2021-06-14T09:11:58.374542Z",
     "start_time": "2021-06-14T09:11:58.288172Z"
    }
   },
   "outputs": [],
   "source": [
    "for i in static_features:\n",
    "    result = map(lambda position:position, def_train[i])\n",
    "    rolling_df_train[i]=list(result)\n",
    "for i in static_features:\n",
    "    result = map(lambda position:position, def_test[i])\n",
    "    rolling_df_test[i]=list(result)\n",
    "\n"
   ]
  },
  {
   "cell_type": "code",
   "execution_count": 117,
   "id": "10489510",
   "metadata": {
    "ExecuteTime": {
     "end_time": "2021-06-14T09:11:58.411117Z",
     "start_time": "2021-06-14T09:11:58.376568Z"
    }
   },
   "outputs": [
    {
     "data": {
      "text/html": [
       "<div>\n",
       "<style scoped>\n",
       "    .dataframe tbody tr th:only-of-type {\n",
       "        vertical-align: middle;\n",
       "    }\n",
       "\n",
       "    .dataframe tbody tr th {\n",
       "        vertical-align: top;\n",
       "    }\n",
       "\n",
       "    .dataframe thead th {\n",
       "        text-align: right;\n",
       "    }\n",
       "</style>\n",
       "<table border=\"1\" class=\"dataframe\">\n",
       "  <thead>\n",
       "    <tr style=\"text-align: right;\">\n",
       "      <th></th>\n",
       "      <th></th>\n",
       "      <th>assists</th>\n",
       "      <th>bps</th>\n",
       "      <th>clean_sheets</th>\n",
       "      <th>creativity</th>\n",
       "      <th>goals_conceded</th>\n",
       "      <th>goals_scored</th>\n",
       "      <th>ict_index</th>\n",
       "      <th>influence</th>\n",
       "      <th>minutes</th>\n",
       "      <th>selected</th>\n",
       "      <th>...</th>\n",
       "      <th>transfers_balance</th>\n",
       "      <th>value</th>\n",
       "      <th>cards</th>\n",
       "      <th>total_points</th>\n",
       "      <th>kickoff_time</th>\n",
       "      <th>was_home</th>\n",
       "      <th>GW</th>\n",
       "      <th>season</th>\n",
       "      <th>opponent_level</th>\n",
       "      <th>team_level</th>\n",
       "    </tr>\n",
       "    <tr>\n",
       "      <th>name</th>\n",
       "      <th></th>\n",
       "      <th></th>\n",
       "      <th></th>\n",
       "      <th></th>\n",
       "      <th></th>\n",
       "      <th></th>\n",
       "      <th></th>\n",
       "      <th></th>\n",
       "      <th></th>\n",
       "      <th></th>\n",
       "      <th></th>\n",
       "      <th></th>\n",
       "      <th></th>\n",
       "      <th></th>\n",
       "      <th></th>\n",
       "      <th></th>\n",
       "      <th></th>\n",
       "      <th></th>\n",
       "      <th></th>\n",
       "      <th></th>\n",
       "      <th></th>\n",
       "      <th></th>\n",
       "    </tr>\n",
       "  </thead>\n",
       "  <tbody>\n",
       "    <tr>\n",
       "      <th rowspan=\"5\" valign=\"top\">aaron cresswell</th>\n",
       "      <th>73</th>\n",
       "      <td>NaN</td>\n",
       "      <td>NaN</td>\n",
       "      <td>NaN</td>\n",
       "      <td>NaN</td>\n",
       "      <td>NaN</td>\n",
       "      <td>NaN</td>\n",
       "      <td>NaN</td>\n",
       "      <td>NaN</td>\n",
       "      <td>NaN</td>\n",
       "      <td>NaN</td>\n",
       "      <td>...</td>\n",
       "      <td>NaN</td>\n",
       "      <td>NaN</td>\n",
       "      <td>NaN</td>\n",
       "      <td>0</td>\n",
       "      <td>19:00:00</td>\n",
       "      <td>False</td>\n",
       "      <td>1</td>\n",
       "      <td>17</td>\n",
       "      <td>NaN</td>\n",
       "      <td>NaN</td>\n",
       "    </tr>\n",
       "    <tr>\n",
       "      <th>74</th>\n",
       "      <td>NaN</td>\n",
       "      <td>NaN</td>\n",
       "      <td>NaN</td>\n",
       "      <td>NaN</td>\n",
       "      <td>NaN</td>\n",
       "      <td>NaN</td>\n",
       "      <td>NaN</td>\n",
       "      <td>NaN</td>\n",
       "      <td>NaN</td>\n",
       "      <td>NaN</td>\n",
       "      <td>...</td>\n",
       "      <td>NaN</td>\n",
       "      <td>NaN</td>\n",
       "      <td>NaN</td>\n",
       "      <td>0</td>\n",
       "      <td>15:00:00</td>\n",
       "      <td>True</td>\n",
       "      <td>2</td>\n",
       "      <td>17</td>\n",
       "      <td>NaN</td>\n",
       "      <td>NaN</td>\n",
       "    </tr>\n",
       "    <tr>\n",
       "      <th>75</th>\n",
       "      <td>NaN</td>\n",
       "      <td>NaN</td>\n",
       "      <td>NaN</td>\n",
       "      <td>NaN</td>\n",
       "      <td>NaN</td>\n",
       "      <td>NaN</td>\n",
       "      <td>NaN</td>\n",
       "      <td>NaN</td>\n",
       "      <td>NaN</td>\n",
       "      <td>NaN</td>\n",
       "      <td>...</td>\n",
       "      <td>NaN</td>\n",
       "      <td>NaN</td>\n",
       "      <td>NaN</td>\n",
       "      <td>0</td>\n",
       "      <td>15:00:00</td>\n",
       "      <td>False</td>\n",
       "      <td>3</td>\n",
       "      <td>17</td>\n",
       "      <td>NaN</td>\n",
       "      <td>NaN</td>\n",
       "    </tr>\n",
       "    <tr>\n",
       "      <th>76</th>\n",
       "      <td>0.0</td>\n",
       "      <td>0.0</td>\n",
       "      <td>0.0</td>\n",
       "      <td>0.0</td>\n",
       "      <td>0.0</td>\n",
       "      <td>0.0</td>\n",
       "      <td>0.0</td>\n",
       "      <td>0.0</td>\n",
       "      <td>0.0</td>\n",
       "      <td>11713.666667</td>\n",
       "      <td>...</td>\n",
       "      <td>-1685.0</td>\n",
       "      <td>54.666667</td>\n",
       "      <td>0.0</td>\n",
       "      <td>0</td>\n",
       "      <td>14:00:00</td>\n",
       "      <td>True</td>\n",
       "      <td>4</td>\n",
       "      <td>17</td>\n",
       "      <td>NaN</td>\n",
       "      <td>NaN</td>\n",
       "    </tr>\n",
       "    <tr>\n",
       "      <th>77</th>\n",
       "      <td>0.0</td>\n",
       "      <td>0.0</td>\n",
       "      <td>0.0</td>\n",
       "      <td>0.0</td>\n",
       "      <td>0.0</td>\n",
       "      <td>0.0</td>\n",
       "      <td>0.0</td>\n",
       "      <td>0.0</td>\n",
       "      <td>0.0</td>\n",
       "      <td>9848.333333</td>\n",
       "      <td>...</td>\n",
       "      <td>-2092.0</td>\n",
       "      <td>54.333333</td>\n",
       "      <td>0.0</td>\n",
       "      <td>0</td>\n",
       "      <td>14:00:00</td>\n",
       "      <td>False</td>\n",
       "      <td>5</td>\n",
       "      <td>17</td>\n",
       "      <td>NaN</td>\n",
       "      <td>NaN</td>\n",
       "    </tr>\n",
       "  </tbody>\n",
       "</table>\n",
       "<p>5 rows × 22 columns</p>\n",
       "</div>"
      ],
      "text/plain": [
       "                    assists  bps  clean_sheets  creativity  goals_conceded  \\\n",
       "name                                                                         \n",
       "aaron cresswell 73      NaN  NaN           NaN         NaN             NaN   \n",
       "                74      NaN  NaN           NaN         NaN             NaN   \n",
       "                75      NaN  NaN           NaN         NaN             NaN   \n",
       "                76      0.0  0.0           0.0         0.0             0.0   \n",
       "                77      0.0  0.0           0.0         0.0             0.0   \n",
       "\n",
       "                    goals_scored  ict_index  influence  minutes      selected  \\\n",
       "name                                                                            \n",
       "aaron cresswell 73           NaN        NaN        NaN      NaN           NaN   \n",
       "                74           NaN        NaN        NaN      NaN           NaN   \n",
       "                75           NaN        NaN        NaN      NaN           NaN   \n",
       "                76           0.0        0.0        0.0      0.0  11713.666667   \n",
       "                77           0.0        0.0        0.0      0.0   9848.333333   \n",
       "\n",
       "                    ...  transfers_balance      value  cards  total_points  \\\n",
       "name                ...                                                      \n",
       "aaron cresswell 73  ...                NaN        NaN    NaN             0   \n",
       "                74  ...                NaN        NaN    NaN             0   \n",
       "                75  ...                NaN        NaN    NaN             0   \n",
       "                76  ...            -1685.0  54.666667    0.0             0   \n",
       "                77  ...            -2092.0  54.333333    0.0             0   \n",
       "\n",
       "                    kickoff_time  was_home GW  season  opponent_level  \\\n",
       "name                                                                    \n",
       "aaron cresswell 73      19:00:00     False  1      17             NaN   \n",
       "                74      15:00:00      True  2      17             NaN   \n",
       "                75      15:00:00     False  3      17             NaN   \n",
       "                76      14:00:00      True  4      17             NaN   \n",
       "                77      14:00:00     False  5      17             NaN   \n",
       "\n",
       "                    team_level  \n",
       "name                            \n",
       "aaron cresswell 73         NaN  \n",
       "                74         NaN  \n",
       "                75         NaN  \n",
       "                76         NaN  \n",
       "                77         NaN  \n",
       "\n",
       "[5 rows x 22 columns]"
      ]
     },
     "execution_count": 117,
     "metadata": {},
     "output_type": "execute_result"
    }
   ],
   "source": [
    "rolling_df_train.head()"
   ]
  },
  {
   "cell_type": "code",
   "execution_count": 118,
   "id": "85002248",
   "metadata": {
    "ExecuteTime": {
     "end_time": "2021-06-14T09:11:58.441040Z",
     "start_time": "2021-06-14T09:11:58.414148Z"
    }
   },
   "outputs": [],
   "source": [
    "rolling_df_train.dropna(inplace=True)\n",
    "rolling_df_test.dropna(inplace=True)"
   ]
  },
  {
   "cell_type": "code",
   "execution_count": 119,
   "id": "61f88b4d",
   "metadata": {
    "ExecuteTime": {
     "end_time": "2021-06-14T09:11:58.453732Z",
     "start_time": "2021-06-14T09:11:58.443136Z"
    }
   },
   "outputs": [
    {
     "data": {
      "text/plain": [
       "assists              0\n",
       "bps                  0\n",
       "opponent_level       0\n",
       "season               0\n",
       "GW                   0\n",
       "was_home             0\n",
       "kickoff_time         0\n",
       "total_points         0\n",
       "cards                0\n",
       "value                0\n",
       "transfers_balance    0\n",
       "rolling_points       0\n",
       "threat               0\n",
       "selected             0\n",
       "minutes              0\n",
       "influence            0\n",
       "ict_index            0\n",
       "goals_scored         0\n",
       "goals_conceded       0\n",
       "creativity           0\n",
       "clean_sheets         0\n",
       "team_level           0\n",
       "dtype: int64"
      ]
     },
     "execution_count": 119,
     "metadata": {},
     "output_type": "execute_result"
    }
   ],
   "source": [
    "rolling_df_train.isnull().sum().sort_values(ascending=False)"
   ]
  },
  {
   "cell_type": "code",
   "execution_count": 120,
   "id": "5b740780",
   "metadata": {
    "ExecuteTime": {
     "end_time": "2021-06-14T09:11:58.463609Z",
     "start_time": "2021-06-14T09:11:58.455884Z"
    }
   },
   "outputs": [],
   "source": [
    "rolling_df_train.drop(columns=['creativity','influence','threat'],inplace=True)\n",
    "rolling_df_test.drop(columns=['creativity','influence','threat'],inplace=True)"
   ]
  },
  {
   "cell_type": "code",
   "execution_count": 121,
   "id": "5c038a35",
   "metadata": {
    "ExecuteTime": {
     "end_time": "2021-06-14T09:11:58.479727Z",
     "start_time": "2021-06-14T09:11:58.466093Z"
    }
   },
   "outputs": [],
   "source": [
    "time=[]\n",
    "for row in rolling_df_train['kickoff_time']:\n",
    "    time.append(row.hour)\n",
    "rolling_df_train['time']=time\n",
    "\n",
    "time=[]\n",
    "for row in rolling_df_test['kickoff_time']:\n",
    "    time.append(row.hour)\n",
    "rolling_df_test['time']=time"
   ]
  },
  {
   "cell_type": "code",
   "execution_count": 122,
   "id": "914a6580",
   "metadata": {
    "ExecuteTime": {
     "end_time": "2021-06-14T09:11:58.488750Z",
     "start_time": "2021-06-14T09:11:58.481815Z"
    }
   },
   "outputs": [],
   "source": [
    "rolling_df_train.drop(columns='kickoff_time',inplace=True)\n",
    "rolling_df_test.drop(columns='kickoff_time',inplace=True)"
   ]
  },
  {
   "cell_type": "code",
   "execution_count": 123,
   "id": "0fc84900",
   "metadata": {
    "ExecuteTime": {
     "end_time": "2021-06-14T09:11:58.496865Z",
     "start_time": "2021-06-14T09:11:58.491261Z"
    }
   },
   "outputs": [
    {
     "data": {
      "text/plain": [
       "Index(['assists', 'bps', 'clean_sheets', 'goals_conceded', 'goals_scored',\n",
       "       'ict_index', 'minutes', 'selected', 'rolling_points',\n",
       "       'transfers_balance', 'value', 'cards', 'total_points', 'was_home', 'GW',\n",
       "       'season', 'opponent_level', 'team_level', 'time'],\n",
       "      dtype='object')"
      ]
     },
     "execution_count": 123,
     "metadata": {},
     "output_type": "execute_result"
    }
   ],
   "source": [
    "rolling_df_train.columns"
   ]
  },
  {
   "cell_type": "code",
   "execution_count": 124,
   "id": "92af45c6",
   "metadata": {
    "ExecuteTime": {
     "end_time": "2021-06-14T09:11:58.510803Z",
     "start_time": "2021-06-14T09:11:58.500271Z"
    }
   },
   "outputs": [
    {
     "name": "stderr",
     "output_type": "stream",
     "text": [
      "/Users/admin/.pyenv/versions/3.8.6/envs/fflpred/lib/python3.8/site-packages/sklearn/utils/validation.py:63: DataConversionWarning: A column-vector y was passed when a 1d array was expected. Please change the shape of y to (n_samples, ), for example using ravel().\n",
      "  return f(*args, **kwargs)\n"
     ]
    }
   ],
   "source": [
    "from sklearn.preprocessing import LabelEncoder\n",
    "\n",
    "encoder = LabelEncoder()\n",
    "encoder.fit(rolling_df_train[['was_home']])\n",
    "rolling_df_train['was_home'] = encoder.transform(rolling_df_train[['was_home']])\n",
    "\n",
    "encoder = LabelEncoder()\n",
    "encoder.fit(rolling_df_test[['was_home']])\n",
    "rolling_df_test['was_home'] = encoder.transform(rolling_df_test[['was_home']])"
   ]
  },
  {
   "cell_type": "code",
   "execution_count": 125,
   "id": "fe8d46a6",
   "metadata": {
    "ExecuteTime": {
     "end_time": "2021-06-14T09:11:58.521779Z",
     "start_time": "2021-06-14T09:11:58.513589Z"
    }
   },
   "outputs": [],
   "source": [
    "rolling_df_train=rolling_df_train.reset_index()\n",
    "rolling_df_test=rolling_df_test.reset_index()\n"
   ]
  },
  {
   "cell_type": "code",
   "execution_count": 126,
   "id": "70e1314b",
   "metadata": {
    "ExecuteTime": {
     "end_time": "2021-06-14T09:11:58.558658Z",
     "start_time": "2021-06-14T09:11:58.525090Z"
    }
   },
   "outputs": [
    {
     "data": {
      "text/html": [
       "<div>\n",
       "<style scoped>\n",
       "    .dataframe tbody tr th:only-of-type {\n",
       "        vertical-align: middle;\n",
       "    }\n",
       "\n",
       "    .dataframe tbody tr th {\n",
       "        vertical-align: top;\n",
       "    }\n",
       "\n",
       "    .dataframe thead th {\n",
       "        text-align: right;\n",
       "    }\n",
       "</style>\n",
       "<table border=\"1\" class=\"dataframe\">\n",
       "  <thead>\n",
       "    <tr style=\"text-align: right;\">\n",
       "      <th></th>\n",
       "      <th>name</th>\n",
       "      <th>level_1</th>\n",
       "      <th>assists</th>\n",
       "      <th>bps</th>\n",
       "      <th>clean_sheets</th>\n",
       "      <th>goals_conceded</th>\n",
       "      <th>goals_scored</th>\n",
       "      <th>ict_index</th>\n",
       "      <th>minutes</th>\n",
       "      <th>selected</th>\n",
       "      <th>...</th>\n",
       "      <th>transfers_balance</th>\n",
       "      <th>value</th>\n",
       "      <th>cards</th>\n",
       "      <th>total_points</th>\n",
       "      <th>was_home</th>\n",
       "      <th>GW</th>\n",
       "      <th>season</th>\n",
       "      <th>opponent_level</th>\n",
       "      <th>team_level</th>\n",
       "      <th>time</th>\n",
       "    </tr>\n",
       "  </thead>\n",
       "  <tbody>\n",
       "    <tr>\n",
       "      <th>0</th>\n",
       "      <td>aaron cresswell</td>\n",
       "      <td>187</td>\n",
       "      <td>0.0</td>\n",
       "      <td>0.000000</td>\n",
       "      <td>0.0</td>\n",
       "      <td>0.000000</td>\n",
       "      <td>0.0</td>\n",
       "      <td>0.000000</td>\n",
       "      <td>0.0</td>\n",
       "      <td>33443.000000</td>\n",
       "      <td>...</td>\n",
       "      <td>-399.666667</td>\n",
       "      <td>50.000000</td>\n",
       "      <td>0.0</td>\n",
       "      <td>0</td>\n",
       "      <td>1</td>\n",
       "      <td>1</td>\n",
       "      <td>20</td>\n",
       "      <td>1340.0</td>\n",
       "      <td>1040.0</td>\n",
       "      <td>11</td>\n",
       "    </tr>\n",
       "    <tr>\n",
       "      <th>1</th>\n",
       "      <td>aaron cresswell</td>\n",
       "      <td>188</td>\n",
       "      <td>0.0</td>\n",
       "      <td>2.333333</td>\n",
       "      <td>0.0</td>\n",
       "      <td>1.666667</td>\n",
       "      <td>0.0</td>\n",
       "      <td>0.366667</td>\n",
       "      <td>30.0</td>\n",
       "      <td>30007.000000</td>\n",
       "      <td>...</td>\n",
       "      <td>-166.000000</td>\n",
       "      <td>50.000000</td>\n",
       "      <td>0.0</td>\n",
       "      <td>0</td>\n",
       "      <td>0</td>\n",
       "      <td>2</td>\n",
       "      <td>20</td>\n",
       "      <td>1050.0</td>\n",
       "      <td>1030.0</td>\n",
       "      <td>14</td>\n",
       "    </tr>\n",
       "    <tr>\n",
       "      <th>2</th>\n",
       "      <td>aaron cresswell</td>\n",
       "      <td>189</td>\n",
       "      <td>0.0</td>\n",
       "      <td>2.333333</td>\n",
       "      <td>0.0</td>\n",
       "      <td>1.666667</td>\n",
       "      <td>0.0</td>\n",
       "      <td>0.366667</td>\n",
       "      <td>30.0</td>\n",
       "      <td>27892.666667</td>\n",
       "      <td>...</td>\n",
       "      <td>-406.666667</td>\n",
       "      <td>50.000000</td>\n",
       "      <td>0.0</td>\n",
       "      <td>0</td>\n",
       "      <td>0</td>\n",
       "      <td>3</td>\n",
       "      <td>20</td>\n",
       "      <td>1030.0</td>\n",
       "      <td>1030.0</td>\n",
       "      <td>14</td>\n",
       "    </tr>\n",
       "    <tr>\n",
       "      <th>3</th>\n",
       "      <td>aaron cresswell</td>\n",
       "      <td>190</td>\n",
       "      <td>0.0</td>\n",
       "      <td>2.333333</td>\n",
       "      <td>0.0</td>\n",
       "      <td>1.666667</td>\n",
       "      <td>0.0</td>\n",
       "      <td>0.366667</td>\n",
       "      <td>30.0</td>\n",
       "      <td>24951.000000</td>\n",
       "      <td>...</td>\n",
       "      <td>-1434.666667</td>\n",
       "      <td>50.000000</td>\n",
       "      <td>0.0</td>\n",
       "      <td>0</td>\n",
       "      <td>1</td>\n",
       "      <td>4</td>\n",
       "      <td>20</td>\n",
       "      <td>1020.0</td>\n",
       "      <td>1040.0</td>\n",
       "      <td>14</td>\n",
       "    </tr>\n",
       "    <tr>\n",
       "      <th>4</th>\n",
       "      <td>aaron cresswell</td>\n",
       "      <td>191</td>\n",
       "      <td>0.0</td>\n",
       "      <td>0.000000</td>\n",
       "      <td>0.0</td>\n",
       "      <td>0.000000</td>\n",
       "      <td>0.0</td>\n",
       "      <td>0.000000</td>\n",
       "      <td>0.0</td>\n",
       "      <td>24891.333333</td>\n",
       "      <td>...</td>\n",
       "      <td>-2110.000000</td>\n",
       "      <td>49.666667</td>\n",
       "      <td>0.0</td>\n",
       "      <td>0</td>\n",
       "      <td>0</td>\n",
       "      <td>5</td>\n",
       "      <td>20</td>\n",
       "      <td>1020.0</td>\n",
       "      <td>1030.0</td>\n",
       "      <td>19</td>\n",
       "    </tr>\n",
       "  </tbody>\n",
       "</table>\n",
       "<p>5 rows × 21 columns</p>\n",
       "</div>"
      ],
      "text/plain": [
       "              name  level_1  assists       bps  clean_sheets  goals_conceded  \\\n",
       "0  aaron cresswell      187      0.0  0.000000           0.0        0.000000   \n",
       "1  aaron cresswell      188      0.0  2.333333           0.0        1.666667   \n",
       "2  aaron cresswell      189      0.0  2.333333           0.0        1.666667   \n",
       "3  aaron cresswell      190      0.0  2.333333           0.0        1.666667   \n",
       "4  aaron cresswell      191      0.0  0.000000           0.0        0.000000   \n",
       "\n",
       "   goals_scored  ict_index  minutes      selected  ...  transfers_balance  \\\n",
       "0           0.0   0.000000      0.0  33443.000000  ...        -399.666667   \n",
       "1           0.0   0.366667     30.0  30007.000000  ...        -166.000000   \n",
       "2           0.0   0.366667     30.0  27892.666667  ...        -406.666667   \n",
       "3           0.0   0.366667     30.0  24951.000000  ...       -1434.666667   \n",
       "4           0.0   0.000000      0.0  24891.333333  ...       -2110.000000   \n",
       "\n",
       "       value  cards  total_points  was_home  GW  season  opponent_level  \\\n",
       "0  50.000000    0.0             0         1   1      20          1340.0   \n",
       "1  50.000000    0.0             0         0   2      20          1050.0   \n",
       "2  50.000000    0.0             0         0   3      20          1030.0   \n",
       "3  50.000000    0.0             0         1   4      20          1020.0   \n",
       "4  49.666667    0.0             0         0   5      20          1020.0   \n",
       "\n",
       "   team_level  time  \n",
       "0      1040.0    11  \n",
       "1      1030.0    14  \n",
       "2      1030.0    14  \n",
       "3      1040.0    14  \n",
       "4      1030.0    19  \n",
       "\n",
       "[5 rows x 21 columns]"
      ]
     },
     "execution_count": 126,
     "metadata": {},
     "output_type": "execute_result"
    }
   ],
   "source": [
    "rolling_df_train.head()"
   ]
  },
  {
   "cell_type": "code",
   "execution_count": 127,
   "id": "bb36013f",
   "metadata": {
    "ExecuteTime": {
     "end_time": "2021-06-14T09:11:58.573230Z",
     "start_time": "2021-06-14T09:11:58.561607Z"
    }
   },
   "outputs": [],
   "source": [
    "hold_train=rolling_df_train[['name','GW','season']]\n",
    "hold_test=rolling_df_test[['name','GW','season']]\n",
    "\n",
    "rolling_df_train.drop(columns=['name','GW','season','level_1'],inplace=True)\n",
    "rolling_df_test.drop(columns=['name','GW','season','level_1'],inplace=True)"
   ]
  },
  {
   "cell_type": "code",
   "execution_count": 128,
   "id": "5d2dd43d",
   "metadata": {
    "ExecuteTime": {
     "end_time": "2021-06-14T09:11:58.600862Z",
     "start_time": "2021-06-14T09:11:58.575554Z"
    },
    "scrolled": true
   },
   "outputs": [
    {
     "data": {
      "text/html": [
       "<div>\n",
       "<style scoped>\n",
       "    .dataframe tbody tr th:only-of-type {\n",
       "        vertical-align: middle;\n",
       "    }\n",
       "\n",
       "    .dataframe tbody tr th {\n",
       "        vertical-align: top;\n",
       "    }\n",
       "\n",
       "    .dataframe thead th {\n",
       "        text-align: right;\n",
       "    }\n",
       "</style>\n",
       "<table border=\"1\" class=\"dataframe\">\n",
       "  <thead>\n",
       "    <tr style=\"text-align: right;\">\n",
       "      <th></th>\n",
       "      <th>assists</th>\n",
       "      <th>bps</th>\n",
       "      <th>clean_sheets</th>\n",
       "      <th>goals_conceded</th>\n",
       "      <th>goals_scored</th>\n",
       "      <th>ict_index</th>\n",
       "      <th>minutes</th>\n",
       "      <th>selected</th>\n",
       "      <th>rolling_points</th>\n",
       "      <th>transfers_balance</th>\n",
       "      <th>value</th>\n",
       "      <th>cards</th>\n",
       "      <th>total_points</th>\n",
       "      <th>was_home</th>\n",
       "      <th>opponent_level</th>\n",
       "      <th>team_level</th>\n",
       "      <th>time</th>\n",
       "    </tr>\n",
       "  </thead>\n",
       "  <tbody>\n",
       "    <tr>\n",
       "      <th>0</th>\n",
       "      <td>0.0</td>\n",
       "      <td>0.000000</td>\n",
       "      <td>0.0</td>\n",
       "      <td>0.000000</td>\n",
       "      <td>0.0</td>\n",
       "      <td>0.000000</td>\n",
       "      <td>0.0</td>\n",
       "      <td>33443.000000</td>\n",
       "      <td>0.0</td>\n",
       "      <td>-399.666667</td>\n",
       "      <td>50.000000</td>\n",
       "      <td>0.0</td>\n",
       "      <td>0</td>\n",
       "      <td>1</td>\n",
       "      <td>1340.0</td>\n",
       "      <td>1040.0</td>\n",
       "      <td>11</td>\n",
       "    </tr>\n",
       "    <tr>\n",
       "      <th>1</th>\n",
       "      <td>0.0</td>\n",
       "      <td>2.333333</td>\n",
       "      <td>0.0</td>\n",
       "      <td>1.666667</td>\n",
       "      <td>0.0</td>\n",
       "      <td>0.366667</td>\n",
       "      <td>30.0</td>\n",
       "      <td>30007.000000</td>\n",
       "      <td>0.0</td>\n",
       "      <td>-166.000000</td>\n",
       "      <td>50.000000</td>\n",
       "      <td>0.0</td>\n",
       "      <td>0</td>\n",
       "      <td>0</td>\n",
       "      <td>1050.0</td>\n",
       "      <td>1030.0</td>\n",
       "      <td>14</td>\n",
       "    </tr>\n",
       "    <tr>\n",
       "      <th>2</th>\n",
       "      <td>0.0</td>\n",
       "      <td>2.333333</td>\n",
       "      <td>0.0</td>\n",
       "      <td>1.666667</td>\n",
       "      <td>0.0</td>\n",
       "      <td>0.366667</td>\n",
       "      <td>30.0</td>\n",
       "      <td>27892.666667</td>\n",
       "      <td>0.0</td>\n",
       "      <td>-406.666667</td>\n",
       "      <td>50.000000</td>\n",
       "      <td>0.0</td>\n",
       "      <td>0</td>\n",
       "      <td>0</td>\n",
       "      <td>1030.0</td>\n",
       "      <td>1030.0</td>\n",
       "      <td>14</td>\n",
       "    </tr>\n",
       "    <tr>\n",
       "      <th>3</th>\n",
       "      <td>0.0</td>\n",
       "      <td>2.333333</td>\n",
       "      <td>0.0</td>\n",
       "      <td>1.666667</td>\n",
       "      <td>0.0</td>\n",
       "      <td>0.366667</td>\n",
       "      <td>30.0</td>\n",
       "      <td>24951.000000</td>\n",
       "      <td>0.0</td>\n",
       "      <td>-1434.666667</td>\n",
       "      <td>50.000000</td>\n",
       "      <td>0.0</td>\n",
       "      <td>0</td>\n",
       "      <td>1</td>\n",
       "      <td>1020.0</td>\n",
       "      <td>1040.0</td>\n",
       "      <td>14</td>\n",
       "    </tr>\n",
       "    <tr>\n",
       "      <th>4</th>\n",
       "      <td>0.0</td>\n",
       "      <td>0.000000</td>\n",
       "      <td>0.0</td>\n",
       "      <td>0.000000</td>\n",
       "      <td>0.0</td>\n",
       "      <td>0.000000</td>\n",
       "      <td>0.0</td>\n",
       "      <td>24891.333333</td>\n",
       "      <td>0.0</td>\n",
       "      <td>-2110.000000</td>\n",
       "      <td>49.666667</td>\n",
       "      <td>0.0</td>\n",
       "      <td>0</td>\n",
       "      <td>0</td>\n",
       "      <td>1020.0</td>\n",
       "      <td>1030.0</td>\n",
       "      <td>19</td>\n",
       "    </tr>\n",
       "  </tbody>\n",
       "</table>\n",
       "</div>"
      ],
      "text/plain": [
       "   assists       bps  clean_sheets  goals_conceded  goals_scored  ict_index  \\\n",
       "0      0.0  0.000000           0.0        0.000000           0.0   0.000000   \n",
       "1      0.0  2.333333           0.0        1.666667           0.0   0.366667   \n",
       "2      0.0  2.333333           0.0        1.666667           0.0   0.366667   \n",
       "3      0.0  2.333333           0.0        1.666667           0.0   0.366667   \n",
       "4      0.0  0.000000           0.0        0.000000           0.0   0.000000   \n",
       "\n",
       "   minutes      selected  rolling_points  transfers_balance      value  cards  \\\n",
       "0      0.0  33443.000000             0.0        -399.666667  50.000000    0.0   \n",
       "1     30.0  30007.000000             0.0        -166.000000  50.000000    0.0   \n",
       "2     30.0  27892.666667             0.0        -406.666667  50.000000    0.0   \n",
       "3     30.0  24951.000000             0.0       -1434.666667  50.000000    0.0   \n",
       "4      0.0  24891.333333             0.0       -2110.000000  49.666667    0.0   \n",
       "\n",
       "   total_points  was_home  opponent_level  team_level  time  \n",
       "0             0         1          1340.0      1040.0    11  \n",
       "1             0         0          1050.0      1030.0    14  \n",
       "2             0         0          1030.0      1030.0    14  \n",
       "3             0         1          1020.0      1040.0    14  \n",
       "4             0         0          1020.0      1030.0    19  "
      ]
     },
     "execution_count": 128,
     "metadata": {},
     "output_type": "execute_result"
    }
   ],
   "source": [
    "rolling_df_train.head()"
   ]
  },
  {
   "cell_type": "code",
   "execution_count": 129,
   "id": "4b602245",
   "metadata": {
    "ExecuteTime": {
     "end_time": "2021-06-14T09:11:58.610481Z",
     "start_time": "2021-06-14T09:11:58.604029Z"
    }
   },
   "outputs": [
    {
     "data": {
      "text/plain": [
       "Index(['assists', 'bps', 'clean_sheets', 'goals_conceded', 'goals_scored',\n",
       "       'ict_index', 'minutes', 'selected', 'rolling_points',\n",
       "       'transfers_balance', 'value', 'cards', 'total_points', 'was_home',\n",
       "       'opponent_level', 'team_level', 'time'],\n",
       "      dtype='object')"
      ]
     },
     "execution_count": 129,
     "metadata": {},
     "output_type": "execute_result"
    }
   ],
   "source": [
    "rolling_df_train.columns"
   ]
  },
  {
   "cell_type": "code",
   "execution_count": 130,
   "id": "19479807",
   "metadata": {
    "ExecuteTime": {
     "end_time": "2021-06-14T09:11:58.618818Z",
     "start_time": "2021-06-14T09:11:58.612980Z"
    },
    "scrolled": true
   },
   "outputs": [
    {
     "data": {
      "text/plain": [
       "(13959, 17)"
      ]
     },
     "execution_count": 130,
     "metadata": {},
     "output_type": "execute_result"
    }
   ],
   "source": [
    "rolling_df_train.shape"
   ]
  },
  {
   "cell_type": "markdown",
   "id": "97027aed",
   "metadata": {},
   "source": [
    "## Models for the defenders"
   ]
  },
  {
   "cell_type": "markdown",
   "id": "f3a11ae3",
   "metadata": {},
   "source": [
    "### Gradient boosting"
   ]
  },
  {
   "cell_type": "code",
   "execution_count": 131,
   "id": "b5fb755d",
   "metadata": {
    "ExecuteTime": {
     "end_time": "2021-06-14T09:11:58.628996Z",
     "start_time": "2021-06-14T09:11:58.621727Z"
    }
   },
   "outputs": [],
   "source": [
    "X_train=rolling_df_train.drop(columns='total_points')\n",
    "X_test=rolling_df_test.drop(columns='total_points')"
   ]
  },
  {
   "cell_type": "code",
   "execution_count": 132,
   "id": "8860b4f5",
   "metadata": {
    "ExecuteTime": {
     "end_time": "2021-06-14T09:11:58.636071Z",
     "start_time": "2021-06-14T09:11:58.631885Z"
    }
   },
   "outputs": [],
   "source": [
    "y_train=rolling_df_train['total_points']\n",
    "y_test=rolling_df_test['total_points']\n"
   ]
  },
  {
   "cell_type": "code",
   "execution_count": 133,
   "id": "7c581b58",
   "metadata": {
    "ExecuteTime": {
     "end_time": "2021-06-14T09:12:00.668142Z",
     "start_time": "2021-06-14T09:11:58.638953Z"
    }
   },
   "outputs": [
    {
     "data": {
      "text/plain": [
       "1.1401085534417374"
      ]
     },
     "execution_count": 133,
     "metadata": {},
     "output_type": "execute_result"
    }
   ],
   "source": [
    "from sklearn.ensemble import GradientBoostingRegressor\n",
    "from sklearn.model_selection import GridSearchCV\n",
    "from sklearn.metrics import mean_absolute_error\n",
    "from sklearn.model_selection import cross_val_score\n",
    "\n",
    "reg = GradientBoostingRegressor(random_state=0,loss='ls')\n",
    "reg.fit(X_train, y_train)\n",
    "y_pred=reg.predict(X_test)\n",
    "\n",
    "mean_absolute_error(y_test,y_pred)"
   ]
  },
  {
   "cell_type": "code",
   "execution_count": 134,
   "id": "146e9a0b",
   "metadata": {
    "ExecuteTime": {
     "end_time": "2021-06-14T09:12:07.928669Z",
     "start_time": "2021-06-14T09:12:00.670883Z"
    }
   },
   "outputs": [
    {
     "data": {
      "text/plain": [
       "0.2254479732898731"
      ]
     },
     "execution_count": 134,
     "metadata": {},
     "output_type": "execute_result"
    }
   ],
   "source": [
    "result=cross_val_score(reg, X_train, y_train).mean()\n",
    "\n",
    "result"
   ]
  },
  {
   "cell_type": "code",
   "execution_count": 135,
   "id": "fd7cbaf2",
   "metadata": {
    "ExecuteTime": {
     "end_time": "2021-06-14T09:12:07.944872Z",
     "start_time": "2021-06-14T09:12:07.935208Z"
    }
   },
   "outputs": [
    {
     "name": "stderr",
     "output_type": "stream",
     "text": [
      "<ipython-input-135-9c4b9cdd679b>:1: SettingWithCopyWarning: \n",
      "A value is trying to be set on a copy of a slice from a DataFrame.\n",
      "Try using .loc[row_indexer,col_indexer] = value instead\n",
      "\n",
      "See the caveats in the documentation: https://pandas.pydata.org/pandas-docs/stable/user_guide/indexing.html#returning-a-view-versus-a-copy\n",
      "  hold_test['y_pred']=y_pred\n"
     ]
    }
   ],
   "source": [
    "hold_test['y_pred']=y_pred"
   ]
  },
  {
   "cell_type": "code",
   "execution_count": 136,
   "id": "13b5a976",
   "metadata": {
    "ExecuteTime": {
     "end_time": "2021-06-14T09:12:07.954492Z",
     "start_time": "2021-06-14T09:12:07.948603Z"
    }
   },
   "outputs": [
    {
     "name": "stderr",
     "output_type": "stream",
     "text": [
      "<ipython-input-136-088461d3fca5>:1: SettingWithCopyWarning: \n",
      "A value is trying to be set on a copy of a slice from a DataFrame.\n",
      "Try using .loc[row_indexer,col_indexer] = value instead\n",
      "\n",
      "See the caveats in the documentation: https://pandas.pydata.org/pandas-docs/stable/user_guide/indexing.html#returning-a-view-versus-a-copy\n",
      "  hold_test['y_test']=y_test\n"
     ]
    }
   ],
   "source": [
    "hold_test['y_test']=y_test"
   ]
  },
  {
   "cell_type": "code",
   "execution_count": 137,
   "id": "c5aa2055",
   "metadata": {
    "ExecuteTime": {
     "end_time": "2021-06-14T09:12:07.972243Z",
     "start_time": "2021-06-14T09:12:07.958199Z"
    }
   },
   "outputs": [
    {
     "data": {
      "text/html": [
       "<div>\n",
       "<style scoped>\n",
       "    .dataframe tbody tr th:only-of-type {\n",
       "        vertical-align: middle;\n",
       "    }\n",
       "\n",
       "    .dataframe tbody tr th {\n",
       "        vertical-align: top;\n",
       "    }\n",
       "\n",
       "    .dataframe thead th {\n",
       "        text-align: right;\n",
       "    }\n",
       "</style>\n",
       "<table border=\"1\" class=\"dataframe\">\n",
       "  <thead>\n",
       "    <tr style=\"text-align: right;\">\n",
       "      <th></th>\n",
       "      <th>name</th>\n",
       "      <th>GW</th>\n",
       "      <th>season</th>\n",
       "      <th>y_pred</th>\n",
       "      <th>y_test</th>\n",
       "    </tr>\n",
       "  </thead>\n",
       "  <tbody>\n",
       "    <tr>\n",
       "      <th>0</th>\n",
       "      <td>aaron cresswell</td>\n",
       "      <td>34</td>\n",
       "      <td>21</td>\n",
       "      <td>1.111306</td>\n",
       "      <td>2</td>\n",
       "    </tr>\n",
       "    <tr>\n",
       "      <th>1</th>\n",
       "      <td>aaron cresswell</td>\n",
       "      <td>35</td>\n",
       "      <td>21</td>\n",
       "      <td>2.621372</td>\n",
       "      <td>1</td>\n",
       "    </tr>\n",
       "    <tr>\n",
       "      <th>2</th>\n",
       "      <td>aaron cresswell</td>\n",
       "      <td>36</td>\n",
       "      <td>21</td>\n",
       "      <td>1.651889</td>\n",
       "      <td>3</td>\n",
       "    </tr>\n",
       "    <tr>\n",
       "      <th>3</th>\n",
       "      <td>aaron cresswell</td>\n",
       "      <td>37</td>\n",
       "      <td>21</td>\n",
       "      <td>3.086858</td>\n",
       "      <td>5</td>\n",
       "    </tr>\n",
       "    <tr>\n",
       "      <th>4</th>\n",
       "      <td>aaron cresswell</td>\n",
       "      <td>38</td>\n",
       "      <td>21</td>\n",
       "      <td>3.650930</td>\n",
       "      <td>6</td>\n",
       "    </tr>\n",
       "  </tbody>\n",
       "</table>\n",
       "</div>"
      ],
      "text/plain": [
       "              name  GW  season    y_pred  y_test\n",
       "0  aaron cresswell  34      21  1.111306       2\n",
       "1  aaron cresswell  35      21  2.621372       1\n",
       "2  aaron cresswell  36      21  1.651889       3\n",
       "3  aaron cresswell  37      21  3.086858       5\n",
       "4  aaron cresswell  38      21  3.650930       6"
      ]
     },
     "execution_count": 137,
     "metadata": {},
     "output_type": "execute_result"
    }
   ],
   "source": [
    "hold_test[hold_test['name']=='aaron cresswell']"
   ]
  },
  {
   "cell_type": "code",
   "execution_count": 138,
   "id": "0c315692",
   "metadata": {
    "ExecuteTime": {
     "end_time": "2021-06-14T09:12:07.989195Z",
     "start_time": "2021-06-14T09:12:07.975788Z"
    },
    "scrolled": true
   },
   "outputs": [
    {
     "data": {
      "text/html": [
       "<div>\n",
       "<style scoped>\n",
       "    .dataframe tbody tr th:only-of-type {\n",
       "        vertical-align: middle;\n",
       "    }\n",
       "\n",
       "    .dataframe tbody tr th {\n",
       "        vertical-align: top;\n",
       "    }\n",
       "\n",
       "    .dataframe thead th {\n",
       "        text-align: right;\n",
       "    }\n",
       "</style>\n",
       "<table border=\"1\" class=\"dataframe\">\n",
       "  <thead>\n",
       "    <tr style=\"text-align: right;\">\n",
       "      <th></th>\n",
       "      <th>name</th>\n",
       "      <th>GW</th>\n",
       "      <th>season</th>\n",
       "      <th>y_pred</th>\n",
       "      <th>y_test</th>\n",
       "    </tr>\n",
       "  </thead>\n",
       "  <tbody>\n",
       "    <tr>\n",
       "      <th>148</th>\n",
       "      <td>benjamin chilwell</td>\n",
       "      <td>34</td>\n",
       "      <td>21</td>\n",
       "      <td>3.264894</td>\n",
       "      <td>6</td>\n",
       "    </tr>\n",
       "    <tr>\n",
       "      <th>149</th>\n",
       "      <td>benjamin chilwell</td>\n",
       "      <td>35</td>\n",
       "      <td>21</td>\n",
       "      <td>1.781086</td>\n",
       "      <td>0</td>\n",
       "    </tr>\n",
       "    <tr>\n",
       "      <th>150</th>\n",
       "      <td>benjamin chilwell</td>\n",
       "      <td>35</td>\n",
       "      <td>21</td>\n",
       "      <td>2.791032</td>\n",
       "      <td>2</td>\n",
       "    </tr>\n",
       "    <tr>\n",
       "      <th>151</th>\n",
       "      <td>benjamin chilwell</td>\n",
       "      <td>37</td>\n",
       "      <td>21</td>\n",
       "      <td>2.705192</td>\n",
       "      <td>5</td>\n",
       "    </tr>\n",
       "    <tr>\n",
       "      <th>152</th>\n",
       "      <td>benjamin chilwell</td>\n",
       "      <td>38</td>\n",
       "      <td>21</td>\n",
       "      <td>2.384942</td>\n",
       "      <td>8</td>\n",
       "    </tr>\n",
       "  </tbody>\n",
       "</table>\n",
       "</div>"
      ],
      "text/plain": [
       "                  name  GW  season    y_pred  y_test\n",
       "148  benjamin chilwell  34      21  3.264894       6\n",
       "149  benjamin chilwell  35      21  1.781086       0\n",
       "150  benjamin chilwell  35      21  2.791032       2\n",
       "151  benjamin chilwell  37      21  2.705192       5\n",
       "152  benjamin chilwell  38      21  2.384942       8"
      ]
     },
     "execution_count": 138,
     "metadata": {},
     "output_type": "execute_result"
    }
   ],
   "source": [
    "hold_test[hold_test['name']=='benjamin chilwell']"
   ]
  },
  {
   "cell_type": "code",
   "execution_count": 139,
   "id": "28255970",
   "metadata": {
    "ExecuteTime": {
     "end_time": "2021-06-14T09:12:08.248446Z",
     "start_time": "2021-06-14T09:12:07.992344Z"
    },
    "scrolled": true
   },
   "outputs": [
    {
     "data": {
      "text/plain": [
       "<matplotlib.legend.Legend at 0x15a94dfd0>"
      ]
     },
     "execution_count": 139,
     "metadata": {},
     "output_type": "execute_result"
    },
    {
     "data": {
      "image/png": "[encoded data removed]",
      "text/plain": [
       "<Figure size 432x288 with 1 Axes>"
      ]
     },
     "metadata": {
      "needs_background": "light"
     },
     "output_type": "display_data"
    }
   ],
   "source": [
    "hold_df=hold_test.copy()\n",
    "plt.plot(hold_df[hold_df['name']=='benjamin chilwell']['GW'],np.abs(hold_df[hold_df['name']=='benjamin chilwell']['y_pred']-hold_df[hold_df['name']=='benjamin chilwell']['y_test']),label='benjamin chilwell')\n",
    "plt.plot(hold_df[hold_df['name']=='aaron cresswell']['GW'],np.abs(hold_df[hold_df['name']=='aaron cresswell']['y_pred']-hold_df[hold_df['name']=='aaron cresswell']['y_test']),label='aaron cresswell')\n",
    "plt.plot(hold_df[hold_df['name']=='kurt zouma']['GW'],np.abs(hold_df[hold_df['name']=='kurt zouma']['y_pred']-hold_df[hold_df['name']=='kurt zouma']['y_test']),label='kurt zouma')\n",
    "plt.plot(hold_df[hold_df['name']=='ben davies']['GW'],np.abs(hold_df[hold_df['name']=='ben davies']['y_pred']-hold_df[hold_df['name']=='ben davies']['y_test']),label='ben davies')\n",
    "plt.plot([28,30,32,34,36,38],[1.1492831245394917,1.1492831245394917,1.1492831245394917,1.1492831245394917,1.1492831245394917,1.1492831245394917],label='model')\n",
    "plt.legend()"
   ]
  },
  {
   "cell_type": "code",
   "execution_count": 140,
   "id": "8a9f3c5d",
   "metadata": {
    "ExecuteTime": {
     "end_time": "2021-06-14T09:12:08.306674Z",
     "start_time": "2021-06-14T09:12:08.255147Z"
    },
    "scrolled": false
   },
   "outputs": [
    {
     "data": {
      "text/html": [
       "<div>\n",
       "<style scoped>\n",
       "    .dataframe tbody tr th:only-of-type {\n",
       "        vertical-align: middle;\n",
       "    }\n",
       "\n",
       "    .dataframe tbody tr th {\n",
       "        vertical-align: top;\n",
       "    }\n",
       "\n",
       "    .dataframe thead th {\n",
       "        text-align: right;\n",
       "    }\n",
       "</style>\n",
       "<table border=\"1\" class=\"dataframe\">\n",
       "  <thead>\n",
       "    <tr style=\"text-align: right;\">\n",
       "      <th></th>\n",
       "      <th>name</th>\n",
       "      <th>GW</th>\n",
       "      <th>season</th>\n",
       "      <th>y_pred</th>\n",
       "      <th>y_test</th>\n",
       "    </tr>\n",
       "  </thead>\n",
       "  <tbody>\n",
       "    <tr>\n",
       "      <th>93</th>\n",
       "      <td>ben davies</td>\n",
       "      <td>31</td>\n",
       "      <td>21</td>\n",
       "      <td>0.283557</td>\n",
       "      <td>0</td>\n",
       "    </tr>\n",
       "  </tbody>\n",
       "</table>\n",
       "</div>"
      ],
      "text/plain": [
       "          name  GW  season    y_pred  y_test\n",
       "93  ben davies  31      21  0.283557       0"
      ]
     },
     "execution_count": 140,
     "metadata": {},
     "output_type": "execute_result"
    }
   ],
   "source": [
    "hold_df[hold_df['GW']==31].sort_values(by='y_pred',ascending=False).head(5)"
   ]
  },
  {
   "cell_type": "code",
   "execution_count": 141,
   "id": "85d107f0",
   "metadata": {
    "ExecuteTime": {
     "end_time": "2021-06-14T09:12:08.342147Z",
     "start_time": "2021-06-14T09:12:08.327086Z"
    },
    "scrolled": false
   },
   "outputs": [
    {
     "data": {
      "text/html": [
       "<div>\n",
       "<style scoped>\n",
       "    .dataframe tbody tr th:only-of-type {\n",
       "        vertical-align: middle;\n",
       "    }\n",
       "\n",
       "    .dataframe tbody tr th {\n",
       "        vertical-align: top;\n",
       "    }\n",
       "\n",
       "    .dataframe thead th {\n",
       "        text-align: right;\n",
       "    }\n",
       "</style>\n",
       "<table border=\"1\" class=\"dataframe\">\n",
       "  <thead>\n",
       "    <tr style=\"text-align: right;\">\n",
       "      <th></th>\n",
       "      <th>name</th>\n",
       "      <th>GW</th>\n",
       "      <th>season</th>\n",
       "      <th>y_pred</th>\n",
       "      <th>y_test</th>\n",
       "    </tr>\n",
       "  </thead>\n",
       "  <tbody>\n",
       "    <tr>\n",
       "      <th>93</th>\n",
       "      <td>ben davies</td>\n",
       "      <td>31</td>\n",
       "      <td>21</td>\n",
       "      <td>0.283557</td>\n",
       "      <td>0</td>\n",
       "    </tr>\n",
       "  </tbody>\n",
       "</table>\n",
       "</div>"
      ],
      "text/plain": [
       "          name  GW  season    y_pred  y_test\n",
       "93  ben davies  31      21  0.283557       0"
      ]
     },
     "execution_count": 141,
     "metadata": {},
     "output_type": "execute_result"
    }
   ],
   "source": [
    "hold_df[hold_df['GW']==31].sort_values(by='y_test',ascending=False).head(5)"
   ]
  },
  {
   "cell_type": "code",
   "execution_count": 142,
   "id": "a079867e",
   "metadata": {
    "ExecuteTime": {
     "end_time": "2021-06-14T09:12:08.382173Z",
     "start_time": "2021-06-14T09:12:08.345724Z"
    },
    "scrolled": false
   },
   "outputs": [
    {
     "data": {
      "text/html": [
       "<div>\n",
       "<style scoped>\n",
       "    .dataframe tbody tr th:only-of-type {\n",
       "        vertical-align: middle;\n",
       "    }\n",
       "\n",
       "    .dataframe tbody tr th {\n",
       "        vertical-align: top;\n",
       "    }\n",
       "\n",
       "    .dataframe thead th {\n",
       "        text-align: right;\n",
       "    }\n",
       "</style>\n",
       "<table border=\"1\" class=\"dataframe\">\n",
       "  <thead>\n",
       "    <tr style=\"text-align: right;\">\n",
       "      <th></th>\n",
       "      <th>name</th>\n",
       "      <th>GW</th>\n",
       "      <th>season</th>\n",
       "      <th>y_pred</th>\n",
       "      <th>y_test</th>\n",
       "    </tr>\n",
       "  </thead>\n",
       "  <tbody>\n",
       "    <tr>\n",
       "      <th>1066</th>\n",
       "      <td>serge aurier</td>\n",
       "      <td>34</td>\n",
       "      <td>21</td>\n",
       "      <td>2.974589</td>\n",
       "      <td>14</td>\n",
       "    </tr>\n",
       "    <tr>\n",
       "      <th>591</th>\n",
       "      <td>jonny evans</td>\n",
       "      <td>34</td>\n",
       "      <td>21</td>\n",
       "      <td>3.121507</td>\n",
       "      <td>10</td>\n",
       "    </tr>\n",
       "    <tr>\n",
       "      <th>446</th>\n",
       "      <td>héctor bellerín</td>\n",
       "      <td>34</td>\n",
       "      <td>21</td>\n",
       "      <td>1.057925</td>\n",
       "      <td>8</td>\n",
       "    </tr>\n",
       "    <tr>\n",
       "      <th>45</th>\n",
       "      <td>andreas christensen</td>\n",
       "      <td>34</td>\n",
       "      <td>21</td>\n",
       "      <td>3.151537</td>\n",
       "      <td>8</td>\n",
       "    </tr>\n",
       "    <tr>\n",
       "      <th>886</th>\n",
       "      <td>nélson cabral semedo</td>\n",
       "      <td>34</td>\n",
       "      <td>21</td>\n",
       "      <td>2.642611</td>\n",
       "      <td>8</td>\n",
       "    </tr>\n",
       "    <tr>\n",
       "      <th>128</th>\n",
       "      <td>ben godfrey</td>\n",
       "      <td>35</td>\n",
       "      <td>21</td>\n",
       "      <td>2.156109</td>\n",
       "      <td>12</td>\n",
       "    </tr>\n",
       "    <tr>\n",
       "      <th>1216</th>\n",
       "      <td>çaglar söyüncü</td>\n",
       "      <td>35</td>\n",
       "      <td>21</td>\n",
       "      <td>2.370042</td>\n",
       "      <td>11</td>\n",
       "    </tr>\n",
       "    <tr>\n",
       "      <th>426</th>\n",
       "      <td>gary cahill</td>\n",
       "      <td>35</td>\n",
       "      <td>21</td>\n",
       "      <td>1.314060</td>\n",
       "      <td>11</td>\n",
       "    </tr>\n",
       "    <tr>\n",
       "      <th>1092</th>\n",
       "      <td>stuart dallas</td>\n",
       "      <td>35</td>\n",
       "      <td>21</td>\n",
       "      <td>3.525919</td>\n",
       "      <td>9</td>\n",
       "    </tr>\n",
       "    <tr>\n",
       "      <th>503</th>\n",
       "      <td>james tarkowski</td>\n",
       "      <td>35</td>\n",
       "      <td>21</td>\n",
       "      <td>3.095523</td>\n",
       "      <td>9</td>\n",
       "    </tr>\n",
       "    <tr>\n",
       "      <th>1149</th>\n",
       "      <td>tyrick mitchell</td>\n",
       "      <td>36</td>\n",
       "      <td>21</td>\n",
       "      <td>2.833970</td>\n",
       "      <td>13</td>\n",
       "    </tr>\n",
       "    <tr>\n",
       "      <th>463</th>\n",
       "      <td>jack robinson</td>\n",
       "      <td>36</td>\n",
       "      <td>21</td>\n",
       "      <td>0.068037</td>\n",
       "      <td>11</td>\n",
       "    </tr>\n",
       "    <tr>\n",
       "      <th>607</th>\n",
       "      <td>joão pedro cavaco cancelo</td>\n",
       "      <td>36</td>\n",
       "      <td>21</td>\n",
       "      <td>3.140551</td>\n",
       "      <td>11</td>\n",
       "    </tr>\n",
       "    <tr>\n",
       "      <th>357</th>\n",
       "      <td>ezgjan alioski</td>\n",
       "      <td>36</td>\n",
       "      <td>21</td>\n",
       "      <td>2.157530</td>\n",
       "      <td>10</td>\n",
       "    </tr>\n",
       "    <tr>\n",
       "      <th>338</th>\n",
       "      <td>eric dier</td>\n",
       "      <td>36</td>\n",
       "      <td>21</td>\n",
       "      <td>3.357312</td>\n",
       "      <td>6</td>\n",
       "    </tr>\n",
       "    <tr>\n",
       "      <th>53</th>\n",
       "      <td>andrew robertson</td>\n",
       "      <td>37</td>\n",
       "      <td>21</td>\n",
       "      <td>5.054086</td>\n",
       "      <td>15</td>\n",
       "    </tr>\n",
       "    <tr>\n",
       "      <th>858</th>\n",
       "      <td>nathaniel phillips</td>\n",
       "      <td>37</td>\n",
       "      <td>21</td>\n",
       "      <td>3.233353</td>\n",
       "      <td>13</td>\n",
       "    </tr>\n",
       "    <tr>\n",
       "      <th>554</th>\n",
       "      <td>joe bryan</td>\n",
       "      <td>37</td>\n",
       "      <td>21</td>\n",
       "      <td>0.827471</td>\n",
       "      <td>10</td>\n",
       "    </tr>\n",
       "    <tr>\n",
       "      <th>72</th>\n",
       "      <td>antonio rüdiger</td>\n",
       "      <td>37</td>\n",
       "      <td>21</td>\n",
       "      <td>1.092290</td>\n",
       "      <td>9</td>\n",
       "    </tr>\n",
       "    <tr>\n",
       "      <th>728</th>\n",
       "      <td>lucas digne</td>\n",
       "      <td>37</td>\n",
       "      <td>21</td>\n",
       "      <td>4.298663</td>\n",
       "      <td>8</td>\n",
       "    </tr>\n",
       "    <tr>\n",
       "      <th>384</th>\n",
       "      <td>fernando luiz rosa</td>\n",
       "      <td>38</td>\n",
       "      <td>21</td>\n",
       "      <td>1.069944</td>\n",
       "      <td>15</td>\n",
       "    </tr>\n",
       "    <tr>\n",
       "      <th>190</th>\n",
       "      <td>calum chambers</td>\n",
       "      <td>38</td>\n",
       "      <td>21</td>\n",
       "      <td>2.847320</td>\n",
       "      <td>11</td>\n",
       "    </tr>\n",
       "    <tr>\n",
       "      <th>330</th>\n",
       "      <td>enda stevens</td>\n",
       "      <td>38</td>\n",
       "      <td>21</td>\n",
       "      <td>2.758683</td>\n",
       "      <td>11</td>\n",
       "    </tr>\n",
       "    <tr>\n",
       "      <th>1173</th>\n",
       "      <td>vladimir coufal</td>\n",
       "      <td>38</td>\n",
       "      <td>21</td>\n",
       "      <td>3.127536</td>\n",
       "      <td>10</td>\n",
       "    </tr>\n",
       "    <tr>\n",
       "      <th>152</th>\n",
       "      <td>benjamin chilwell</td>\n",
       "      <td>38</td>\n",
       "      <td>21</td>\n",
       "      <td>2.384942</td>\n",
       "      <td>8</td>\n",
       "    </tr>\n",
       "  </tbody>\n",
       "</table>\n",
       "</div>"
      ],
      "text/plain": [
       "                           name  GW  season    y_pred  y_test\n",
       "1066               serge aurier  34      21  2.974589      14\n",
       "591                 jonny evans  34      21  3.121507      10\n",
       "446             héctor bellerín  34      21  1.057925       8\n",
       "45          andreas christensen  34      21  3.151537       8\n",
       "886        nélson cabral semedo  34      21  2.642611       8\n",
       "128                 ben godfrey  35      21  2.156109      12\n",
       "1216             çaglar söyüncü  35      21  2.370042      11\n",
       "426                 gary cahill  35      21  1.314060      11\n",
       "1092              stuart dallas  35      21  3.525919       9\n",
       "503             james tarkowski  35      21  3.095523       9\n",
       "1149            tyrick mitchell  36      21  2.833970      13\n",
       "463               jack robinson  36      21  0.068037      11\n",
       "607   joão pedro cavaco cancelo  36      21  3.140551      11\n",
       "357              ezgjan alioski  36      21  2.157530      10\n",
       "338                   eric dier  36      21  3.357312       6\n",
       "53             andrew robertson  37      21  5.054086      15\n",
       "858          nathaniel phillips  37      21  3.233353      13\n",
       "554                   joe bryan  37      21  0.827471      10\n",
       "72              antonio rüdiger  37      21  1.092290       9\n",
       "728                 lucas digne  37      21  4.298663       8\n",
       "384          fernando luiz rosa  38      21  1.069944      15\n",
       "190              calum chambers  38      21  2.847320      11\n",
       "330                enda stevens  38      21  2.758683      11\n",
       "1173            vladimir coufal  38      21  3.127536      10\n",
       "152           benjamin chilwell  38      21  2.384942       8"
      ]
     },
     "execution_count": 142,
     "metadata": {},
     "output_type": "execute_result"
    }
   ],
   "source": [
    "GW_list=[35,36,37,38]\n",
    "top_predicted_def=hold_df[hold_df['GW']==34].sort_values(by='y_pred',ascending=False).head(5)\n",
    "for GW in GW_list:\n",
    "    df1=hold_df[hold_df['GW']==GW].sort_values(by='y_pred',ascending=False).head(5)\n",
    "    top_predicted_def=pd.concat([top_predicted_def,df1])\n",
    "top_predicted_def\n",
    "\n",
    "\n",
    "GW_list=[35,36,37,38]\n",
    "top_actual_def=hold_df[hold_df['GW']==34].sort_values(by='y_test',ascending=False).head(5)\n",
    "for GW in GW_list:\n",
    "    df1=hold_df[hold_df['GW']==GW].sort_values(by='y_test',ascending=False).head(5)\n",
    "    top_actual_def=pd.concat([top_actual_def,df1])\n",
    "top_actual_def"
   ]
  },
  {
   "cell_type": "code",
   "execution_count": 361,
   "id": "ce6e6440",
   "metadata": {
    "ExecuteTime": {
     "end_time": "2021-06-14T11:03:58.355269Z",
     "start_time": "2021-06-14T11:03:58.333206Z"
    }
   },
   "outputs": [
    {
     "data": {
      "text/html": [
       "<div>\n",
       "<style scoped>\n",
       "    .dataframe tbody tr th:only-of-type {\n",
       "        vertical-align: middle;\n",
       "    }\n",
       "\n",
       "    .dataframe tbody tr th {\n",
       "        vertical-align: top;\n",
       "    }\n",
       "\n",
       "    .dataframe thead th {\n",
       "        text-align: right;\n",
       "    }\n",
       "</style>\n",
       "<table border=\"1\" class=\"dataframe\">\n",
       "  <thead>\n",
       "    <tr style=\"text-align: right;\">\n",
       "      <th></th>\n",
       "      <th>name</th>\n",
       "      <th>GW</th>\n",
       "      <th>season</th>\n",
       "      <th>y_pred</th>\n",
       "      <th>y_test</th>\n",
       "    </tr>\n",
       "  </thead>\n",
       "  <tbody>\n",
       "    <tr>\n",
       "      <th>1123</th>\n",
       "      <td>timothy castagne</td>\n",
       "      <td>34</td>\n",
       "      <td>21</td>\n",
       "      <td>3.958717</td>\n",
       "      <td>2</td>\n",
       "    </tr>\n",
       "    <tr>\n",
       "      <th>69</th>\n",
       "      <td>antonio rüdiger</td>\n",
       "      <td>34</td>\n",
       "      <td>21</td>\n",
       "      <td>3.828786</td>\n",
       "      <td>0</td>\n",
       "    </tr>\n",
       "    <tr>\n",
       "      <th>724</th>\n",
       "      <td>lucas digne</td>\n",
       "      <td>34</td>\n",
       "      <td>21</td>\n",
       "      <td>3.774791</td>\n",
       "      <td>7</td>\n",
       "    </tr>\n",
       "    <tr>\n",
       "      <th>127</th>\n",
       "      <td>ben godfrey</td>\n",
       "      <td>34</td>\n",
       "      <td>21</td>\n",
       "      <td>3.616565</td>\n",
       "      <td>1</td>\n",
       "    </tr>\n",
       "    <tr>\n",
       "      <th>1000</th>\n",
       "      <td>romain saïss</td>\n",
       "      <td>34</td>\n",
       "      <td>21</td>\n",
       "      <td>3.565200</td>\n",
       "      <td>2</td>\n",
       "    </tr>\n",
       "    <tr>\n",
       "      <th>50</th>\n",
       "      <td>andrew robertson</td>\n",
       "      <td>35</td>\n",
       "      <td>21</td>\n",
       "      <td>4.730077</td>\n",
       "      <td>6</td>\n",
       "    </tr>\n",
       "    <tr>\n",
       "      <th>1142</th>\n",
       "      <td>trent alexander-arnold</td>\n",
       "      <td>35</td>\n",
       "      <td>21</td>\n",
       "      <td>4.525743</td>\n",
       "      <td>7</td>\n",
       "    </tr>\n",
       "    <tr>\n",
       "      <th>787</th>\n",
       "      <td>matt targett</td>\n",
       "      <td>35</td>\n",
       "      <td>21</td>\n",
       "      <td>4.124356</td>\n",
       "      <td>7</td>\n",
       "    </tr>\n",
       "    <tr>\n",
       "      <th>1143</th>\n",
       "      <td>trent alexander-arnold</td>\n",
       "      <td>35</td>\n",
       "      <td>21</td>\n",
       "      <td>4.110863</td>\n",
       "      <td>9</td>\n",
       "    </tr>\n",
       "    <tr>\n",
       "      <th>726</th>\n",
       "      <td>lucas digne</td>\n",
       "      <td>35</td>\n",
       "      <td>21</td>\n",
       "      <td>3.924773</td>\n",
       "      <td>8</td>\n",
       "    </tr>\n",
       "    <tr>\n",
       "      <th>1144</th>\n",
       "      <td>trent alexander-arnold</td>\n",
       "      <td>36</td>\n",
       "      <td>21</td>\n",
       "      <td>5.962996</td>\n",
       "      <td>6</td>\n",
       "    </tr>\n",
       "    <tr>\n",
       "      <th>727</th>\n",
       "      <td>lucas digne</td>\n",
       "      <td>36</td>\n",
       "      <td>21</td>\n",
       "      <td>4.245756</td>\n",
       "      <td>2</td>\n",
       "    </tr>\n",
       "    <tr>\n",
       "      <th>52</th>\n",
       "      <td>andrew robertson</td>\n",
       "      <td>36</td>\n",
       "      <td>21</td>\n",
       "      <td>4.177683</td>\n",
       "      <td>2</td>\n",
       "    </tr>\n",
       "    <tr>\n",
       "      <th>1093</th>\n",
       "      <td>stuart dallas</td>\n",
       "      <td>36</td>\n",
       "      <td>21</td>\n",
       "      <td>4.095830</td>\n",
       "      <td>6</td>\n",
       "    </tr>\n",
       "    <tr>\n",
       "      <th>130</th>\n",
       "      <td>ben godfrey</td>\n",
       "      <td>36</td>\n",
       "      <td>21</td>\n",
       "      <td>3.872124</td>\n",
       "      <td>2</td>\n",
       "    </tr>\n",
       "    <tr>\n",
       "      <th>53</th>\n",
       "      <td>andrew robertson</td>\n",
       "      <td>37</td>\n",
       "      <td>21</td>\n",
       "      <td>5.054086</td>\n",
       "      <td>15</td>\n",
       "    </tr>\n",
       "    <tr>\n",
       "      <th>1145</th>\n",
       "      <td>trent alexander-arnold</td>\n",
       "      <td>37</td>\n",
       "      <td>21</td>\n",
       "      <td>4.919743</td>\n",
       "      <td>6</td>\n",
       "    </tr>\n",
       "    <tr>\n",
       "      <th>439</th>\n",
       "      <td>harry maguire</td>\n",
       "      <td>37</td>\n",
       "      <td>21</td>\n",
       "      <td>4.416690</td>\n",
       "      <td>0</td>\n",
       "    </tr>\n",
       "    <tr>\n",
       "      <th>728</th>\n",
       "      <td>lucas digne</td>\n",
       "      <td>37</td>\n",
       "      <td>21</td>\n",
       "      <td>4.298663</td>\n",
       "      <td>8</td>\n",
       "    </tr>\n",
       "    <tr>\n",
       "      <th>8</th>\n",
       "      <td>aaron wan-bissaka</td>\n",
       "      <td>37</td>\n",
       "      <td>21</td>\n",
       "      <td>3.998796</td>\n",
       "      <td>2</td>\n",
       "    </tr>\n",
       "    <tr>\n",
       "      <th>743</th>\n",
       "      <td>luke shaw</td>\n",
       "      <td>38</td>\n",
       "      <td>21</td>\n",
       "      <td>5.945226</td>\n",
       "      <td>0</td>\n",
       "    </tr>\n",
       "    <tr>\n",
       "      <th>1095</th>\n",
       "      <td>stuart dallas</td>\n",
       "      <td>38</td>\n",
       "      <td>21</td>\n",
       "      <td>4.432710</td>\n",
       "      <td>2</td>\n",
       "    </tr>\n",
       "    <tr>\n",
       "      <th>142</th>\n",
       "      <td>ben mee</td>\n",
       "      <td>38</td>\n",
       "      <td>21</td>\n",
       "      <td>4.141941</td>\n",
       "      <td>0</td>\n",
       "    </tr>\n",
       "    <tr>\n",
       "      <th>9</th>\n",
       "      <td>aaron wan-bissaka</td>\n",
       "      <td>38</td>\n",
       "      <td>21</td>\n",
       "      <td>3.894684</td>\n",
       "      <td>0</td>\n",
       "    </tr>\n",
       "    <tr>\n",
       "      <th>440</th>\n",
       "      <td>harry maguire</td>\n",
       "      <td>38</td>\n",
       "      <td>21</td>\n",
       "      <td>3.858824</td>\n",
       "      <td>0</td>\n",
       "    </tr>\n",
       "  </tbody>\n",
       "</table>\n",
       "</div>"
      ],
      "text/plain": [
       "                        name  GW  season    y_pred  y_test\n",
       "1123        timothy castagne  34      21  3.958717       2\n",
       "69           antonio rüdiger  34      21  3.828786       0\n",
       "724              lucas digne  34      21  3.774791       7\n",
       "127              ben godfrey  34      21  3.616565       1\n",
       "1000            romain saïss  34      21  3.565200       2\n",
       "50          andrew robertson  35      21  4.730077       6\n",
       "1142  trent alexander-arnold  35      21  4.525743       7\n",
       "787             matt targett  35      21  4.124356       7\n",
       "1143  trent alexander-arnold  35      21  4.110863       9\n",
       "726              lucas digne  35      21  3.924773       8\n",
       "1144  trent alexander-arnold  36      21  5.962996       6\n",
       "727              lucas digne  36      21  4.245756       2\n",
       "52          andrew robertson  36      21  4.177683       2\n",
       "1093           stuart dallas  36      21  4.095830       6\n",
       "130              ben godfrey  36      21  3.872124       2\n",
       "53          andrew robertson  37      21  5.054086      15\n",
       "1145  trent alexander-arnold  37      21  4.919743       6\n",
       "439            harry maguire  37      21  4.416690       0\n",
       "728              lucas digne  37      21  4.298663       8\n",
       "8          aaron wan-bissaka  37      21  3.998796       2\n",
       "743                luke shaw  38      21  5.945226       0\n",
       "1095           stuart dallas  38      21  4.432710       2\n",
       "142                  ben mee  38      21  4.141941       0\n",
       "9          aaron wan-bissaka  38      21  3.894684       0\n",
       "440            harry maguire  38      21  3.858824       0"
      ]
     },
     "execution_count": 361,
     "metadata": {},
     "output_type": "execute_result"
    }
   ],
   "source": [
    "top_predicted_def"
   ]
  },
  {
   "cell_type": "markdown",
   "id": "2c26f74c",
   "metadata": {},
   "source": [
    "### KNN"
   ]
  },
  {
   "cell_type": "code",
   "execution_count": 143,
   "id": "57e86e0d",
   "metadata": {
    "ExecuteTime": {
     "end_time": "2021-06-14T09:12:08.392576Z",
     "start_time": "2021-06-14T09:12:08.385799Z"
    }
   },
   "outputs": [],
   "source": [
    "X_train=rolling_df_train.drop(columns='total_points')\n",
    "X_test=rolling_df_test.drop(columns='total_points')\n",
    "\n",
    "y_train=rolling_df_train['total_points']\n",
    "y_test=rolling_df_test['total_points']"
   ]
  },
  {
   "cell_type": "code",
   "execution_count": 144,
   "id": "a1b1c6b4",
   "metadata": {
    "ExecuteTime": {
     "end_time": "2021-06-14T09:12:08.418878Z",
     "start_time": "2021-06-14T09:12:08.394403Z"
    }
   },
   "outputs": [
    {
     "data": {
      "text/html": [
       "<div>\n",
       "<style scoped>\n",
       "    .dataframe tbody tr th:only-of-type {\n",
       "        vertical-align: middle;\n",
       "    }\n",
       "\n",
       "    .dataframe tbody tr th {\n",
       "        vertical-align: top;\n",
       "    }\n",
       "\n",
       "    .dataframe thead th {\n",
       "        text-align: right;\n",
       "    }\n",
       "</style>\n",
       "<table border=\"1\" class=\"dataframe\">\n",
       "  <thead>\n",
       "    <tr style=\"text-align: right;\">\n",
       "      <th></th>\n",
       "      <th>assists</th>\n",
       "      <th>bps</th>\n",
       "      <th>clean_sheets</th>\n",
       "      <th>goals_conceded</th>\n",
       "      <th>goals_scored</th>\n",
       "      <th>ict_index</th>\n",
       "      <th>minutes</th>\n",
       "      <th>selected</th>\n",
       "      <th>rolling_points</th>\n",
       "      <th>transfers_balance</th>\n",
       "      <th>value</th>\n",
       "      <th>cards</th>\n",
       "      <th>was_home</th>\n",
       "      <th>opponent_level</th>\n",
       "      <th>team_level</th>\n",
       "      <th>time</th>\n",
       "    </tr>\n",
       "  </thead>\n",
       "  <tbody>\n",
       "    <tr>\n",
       "      <th>0</th>\n",
       "      <td>0.0</td>\n",
       "      <td>0.000000</td>\n",
       "      <td>0.000000</td>\n",
       "      <td>0.000000</td>\n",
       "      <td>0.0</td>\n",
       "      <td>0.000000</td>\n",
       "      <td>0.0</td>\n",
       "      <td>33443.000000</td>\n",
       "      <td>0.000000</td>\n",
       "      <td>-399.666667</td>\n",
       "      <td>50.000000</td>\n",
       "      <td>0.000000</td>\n",
       "      <td>1</td>\n",
       "      <td>1340.0</td>\n",
       "      <td>1040.0</td>\n",
       "      <td>11</td>\n",
       "    </tr>\n",
       "    <tr>\n",
       "      <th>1</th>\n",
       "      <td>0.0</td>\n",
       "      <td>2.333333</td>\n",
       "      <td>0.000000</td>\n",
       "      <td>1.666667</td>\n",
       "      <td>0.0</td>\n",
       "      <td>0.366667</td>\n",
       "      <td>30.0</td>\n",
       "      <td>30007.000000</td>\n",
       "      <td>0.000000</td>\n",
       "      <td>-166.000000</td>\n",
       "      <td>50.000000</td>\n",
       "      <td>0.000000</td>\n",
       "      <td>0</td>\n",
       "      <td>1050.0</td>\n",
       "      <td>1030.0</td>\n",
       "      <td>14</td>\n",
       "    </tr>\n",
       "    <tr>\n",
       "      <th>2</th>\n",
       "      <td>0.0</td>\n",
       "      <td>2.333333</td>\n",
       "      <td>0.000000</td>\n",
       "      <td>1.666667</td>\n",
       "      <td>0.0</td>\n",
       "      <td>0.366667</td>\n",
       "      <td>30.0</td>\n",
       "      <td>27892.666667</td>\n",
       "      <td>0.000000</td>\n",
       "      <td>-406.666667</td>\n",
       "      <td>50.000000</td>\n",
       "      <td>0.000000</td>\n",
       "      <td>0</td>\n",
       "      <td>1030.0</td>\n",
       "      <td>1030.0</td>\n",
       "      <td>14</td>\n",
       "    </tr>\n",
       "    <tr>\n",
       "      <th>3</th>\n",
       "      <td>0.0</td>\n",
       "      <td>2.333333</td>\n",
       "      <td>0.000000</td>\n",
       "      <td>1.666667</td>\n",
       "      <td>0.0</td>\n",
       "      <td>0.366667</td>\n",
       "      <td>30.0</td>\n",
       "      <td>24951.000000</td>\n",
       "      <td>0.000000</td>\n",
       "      <td>-1434.666667</td>\n",
       "      <td>50.000000</td>\n",
       "      <td>0.000000</td>\n",
       "      <td>1</td>\n",
       "      <td>1020.0</td>\n",
       "      <td>1040.0</td>\n",
       "      <td>14</td>\n",
       "    </tr>\n",
       "    <tr>\n",
       "      <th>4</th>\n",
       "      <td>0.0</td>\n",
       "      <td>0.000000</td>\n",
       "      <td>0.000000</td>\n",
       "      <td>0.000000</td>\n",
       "      <td>0.0</td>\n",
       "      <td>0.000000</td>\n",
       "      <td>0.0</td>\n",
       "      <td>24891.333333</td>\n",
       "      <td>0.000000</td>\n",
       "      <td>-2110.000000</td>\n",
       "      <td>49.666667</td>\n",
       "      <td>0.000000</td>\n",
       "      <td>0</td>\n",
       "      <td>1020.0</td>\n",
       "      <td>1030.0</td>\n",
       "      <td>19</td>\n",
       "    </tr>\n",
       "    <tr>\n",
       "      <th>...</th>\n",
       "      <td>...</td>\n",
       "      <td>...</td>\n",
       "      <td>...</td>\n",
       "      <td>...</td>\n",
       "      <td>...</td>\n",
       "      <td>...</td>\n",
       "      <td>...</td>\n",
       "      <td>...</td>\n",
       "      <td>...</td>\n",
       "      <td>...</td>\n",
       "      <td>...</td>\n",
       "      <td>...</td>\n",
       "      <td>...</td>\n",
       "      <td>...</td>\n",
       "      <td>...</td>\n",
       "      <td>...</td>\n",
       "    </tr>\n",
       "    <tr>\n",
       "      <th>13954</th>\n",
       "      <td>0.0</td>\n",
       "      <td>17.666667</td>\n",
       "      <td>0.333333</td>\n",
       "      <td>0.666667</td>\n",
       "      <td>0.0</td>\n",
       "      <td>2.633333</td>\n",
       "      <td>90.0</td>\n",
       "      <td>220138.000000</td>\n",
       "      <td>3.000000</td>\n",
       "      <td>4724.666667</td>\n",
       "      <td>53.000000</td>\n",
       "      <td>0.333333</td>\n",
       "      <td>1</td>\n",
       "      <td>1250.0</td>\n",
       "      <td>1240.0</td>\n",
       "      <td>12</td>\n",
       "    </tr>\n",
       "    <tr>\n",
       "      <th>13955</th>\n",
       "      <td>0.0</td>\n",
       "      <td>14.666667</td>\n",
       "      <td>0.000000</td>\n",
       "      <td>1.666667</td>\n",
       "      <td>0.0</td>\n",
       "      <td>2.500000</td>\n",
       "      <td>90.0</td>\n",
       "      <td>232906.000000</td>\n",
       "      <td>1.666667</td>\n",
       "      <td>11325.666667</td>\n",
       "      <td>53.000000</td>\n",
       "      <td>0.000000</td>\n",
       "      <td>0</td>\n",
       "      <td>1060.0</td>\n",
       "      <td>1260.0</td>\n",
       "      <td>18</td>\n",
       "    </tr>\n",
       "    <tr>\n",
       "      <th>13956</th>\n",
       "      <td>0.0</td>\n",
       "      <td>15.666667</td>\n",
       "      <td>0.000000</td>\n",
       "      <td>1.666667</td>\n",
       "      <td>0.0</td>\n",
       "      <td>3.233333</td>\n",
       "      <td>90.0</td>\n",
       "      <td>244586.000000</td>\n",
       "      <td>1.666667</td>\n",
       "      <td>17727.333333</td>\n",
       "      <td>53.000000</td>\n",
       "      <td>0.000000</td>\n",
       "      <td>0</td>\n",
       "      <td>1130.0</td>\n",
       "      <td>1260.0</td>\n",
       "      <td>20</td>\n",
       "    </tr>\n",
       "    <tr>\n",
       "      <th>13957</th>\n",
       "      <td>0.0</td>\n",
       "      <td>15.333333</td>\n",
       "      <td>0.000000</td>\n",
       "      <td>1.666667</td>\n",
       "      <td>0.0</td>\n",
       "      <td>3.000000</td>\n",
       "      <td>90.0</td>\n",
       "      <td>254212.000000</td>\n",
       "      <td>1.666667</td>\n",
       "      <td>16055.666667</td>\n",
       "      <td>53.000000</td>\n",
       "      <td>0.000000</td>\n",
       "      <td>1</td>\n",
       "      <td>1040.0</td>\n",
       "      <td>1240.0</td>\n",
       "      <td>14</td>\n",
       "    </tr>\n",
       "    <tr>\n",
       "      <th>13958</th>\n",
       "      <td>0.0</td>\n",
       "      <td>19.333333</td>\n",
       "      <td>0.333333</td>\n",
       "      <td>0.666667</td>\n",
       "      <td>0.0</td>\n",
       "      <td>2.633333</td>\n",
       "      <td>90.0</td>\n",
       "      <td>256512.333333</td>\n",
       "      <td>3.333333</td>\n",
       "      <td>9348.000000</td>\n",
       "      <td>53.000000</td>\n",
       "      <td>0.000000</td>\n",
       "      <td>1</td>\n",
       "      <td>1360.0</td>\n",
       "      <td>1240.0</td>\n",
       "      <td>16</td>\n",
       "    </tr>\n",
       "  </tbody>\n",
       "</table>\n",
       "<p>13959 rows × 16 columns</p>\n",
       "</div>"
      ],
      "text/plain": [
       "       assists        bps  clean_sheets  goals_conceded  goals_scored  \\\n",
       "0          0.0   0.000000      0.000000        0.000000           0.0   \n",
       "1          0.0   2.333333      0.000000        1.666667           0.0   \n",
       "2          0.0   2.333333      0.000000        1.666667           0.0   \n",
       "3          0.0   2.333333      0.000000        1.666667           0.0   \n",
       "4          0.0   0.000000      0.000000        0.000000           0.0   \n",
       "...        ...        ...           ...             ...           ...   \n",
       "13954      0.0  17.666667      0.333333        0.666667           0.0   \n",
       "13955      0.0  14.666667      0.000000        1.666667           0.0   \n",
       "13956      0.0  15.666667      0.000000        1.666667           0.0   \n",
       "13957      0.0  15.333333      0.000000        1.666667           0.0   \n",
       "13958      0.0  19.333333      0.333333        0.666667           0.0   \n",
       "\n",
       "       ict_index  minutes       selected  rolling_points  transfers_balance  \\\n",
       "0       0.000000      0.0   33443.000000        0.000000        -399.666667   \n",
       "1       0.366667     30.0   30007.000000        0.000000        -166.000000   \n",
       "2       0.366667     30.0   27892.666667        0.000000        -406.666667   \n",
       "3       0.366667     30.0   24951.000000        0.000000       -1434.666667   \n",
       "4       0.000000      0.0   24891.333333        0.000000       -2110.000000   \n",
       "...          ...      ...            ...             ...                ...   \n",
       "13954   2.633333     90.0  220138.000000        3.000000        4724.666667   \n",
       "13955   2.500000     90.0  232906.000000        1.666667       11325.666667   \n",
       "13956   3.233333     90.0  244586.000000        1.666667       17727.333333   \n",
       "13957   3.000000     90.0  254212.000000        1.666667       16055.666667   \n",
       "13958   2.633333     90.0  256512.333333        3.333333        9348.000000   \n",
       "\n",
       "           value     cards  was_home  opponent_level  team_level  time  \n",
       "0      50.000000  0.000000         1          1340.0      1040.0    11  \n",
       "1      50.000000  0.000000         0          1050.0      1030.0    14  \n",
       "2      50.000000  0.000000         0          1030.0      1030.0    14  \n",
       "3      50.000000  0.000000         1          1020.0      1040.0    14  \n",
       "4      49.666667  0.000000         0          1020.0      1030.0    19  \n",
       "...          ...       ...       ...             ...         ...   ...  \n",
       "13954  53.000000  0.333333         1          1250.0      1240.0    12  \n",
       "13955  53.000000  0.000000         0          1060.0      1260.0    18  \n",
       "13956  53.000000  0.000000         0          1130.0      1260.0    20  \n",
       "13957  53.000000  0.000000         1          1040.0      1240.0    14  \n",
       "13958  53.000000  0.000000         1          1360.0      1240.0    16  \n",
       "\n",
       "[13959 rows x 16 columns]"
      ]
     },
     "execution_count": 144,
     "metadata": {},
     "output_type": "execute_result"
    }
   ],
   "source": [
    "X_train"
   ]
  },
  {
   "cell_type": "code",
   "execution_count": 145,
   "id": "4abc2c78",
   "metadata": {
    "ExecuteTime": {
     "end_time": "2021-06-14T09:12:08.436163Z",
     "start_time": "2021-06-14T09:12:08.421286Z"
    }
   },
   "outputs": [],
   "source": [
    "from sklearn.preprocessing import MinMaxScaler\n",
    "\n",
    "scaler = MinMaxScaler()\n",
    "scaler.fit(X_train)\n",
    "X_train=scaler.transform(X_train)\n",
    "X_test=scaler.transform(X_test)"
   ]
  },
  {
   "cell_type": "code",
   "execution_count": 146,
   "id": "7c9d2ad5",
   "metadata": {
    "ExecuteTime": {
     "end_time": "2021-06-14T09:12:11.913132Z",
     "start_time": "2021-06-14T09:12:08.438280Z"
    }
   },
   "outputs": [
    {
     "data": {
      "text/plain": [
       "0.10851402429280518"
      ]
     },
     "execution_count": 146,
     "metadata": {},
     "output_type": "execute_result"
    }
   ],
   "source": [
    "from sklearn.neighbors import KNeighborsRegressor\n",
    "from sklearn.model_selection import GridSearchCV\n",
    "\n",
    "reg = KNeighborsRegressor()\n",
    "reg.fit(X_train, y_train)\n",
    "\n",
    "result=cross_val_score(reg, X_train, y_train).mean()\n",
    "\n",
    "result\n"
   ]
  },
  {
   "cell_type": "code",
   "execution_count": 147,
   "id": "38f0df60",
   "metadata": {
    "ExecuteTime": {
     "end_time": "2021-06-14T09:12:12.325361Z",
     "start_time": "2021-06-14T09:12:11.915909Z"
    }
   },
   "outputs": [
    {
     "data": {
      "text/plain": [
       "1.2031173092698932"
      ]
     },
     "execution_count": 147,
     "metadata": {},
     "output_type": "execute_result"
    }
   ],
   "source": [
    "y_pred=reg.predict(X_test)\n",
    "\n",
    "mean_absolute_error(y_test,y_pred)"
   ]
  },
  {
   "cell_type": "markdown",
   "id": "3ba3d668",
   "metadata": {},
   "source": [
    "# Goalkeepers"
   ]
  },
  {
   "cell_type": "code",
   "execution_count": 148,
   "id": "ab23e8cf",
   "metadata": {
    "ExecuteTime": {
     "end_time": "2021-06-14T09:12:12.334975Z",
     "start_time": "2021-06-14T09:12:12.327978Z"
    }
   },
   "outputs": [],
   "source": [
    "gk_features=['name','assists','bps','clean_sheets','creativity','goals_conceded','ict_index','influence',\n",
    "             'kickoff_time','minutes','penalties_saved','red_cards','saves','selected','threat','total_points',\n",
    "            'transfers_balance','value','was_home','yellow_cards','GW','season','opponent_level','team_level']"
   ]
  },
  {
   "cell_type": "code",
   "execution_count": 149,
   "id": "af42ee0b",
   "metadata": {
    "ExecuteTime": {
     "end_time": "2021-06-14T09:12:12.365682Z",
     "start_time": "2021-06-14T09:12:12.340797Z"
    },
    "scrolled": true
   },
   "outputs": [
    {
     "data": {
      "text/html": [
       "<div>\n",
       "<style scoped>\n",
       "    .dataframe tbody tr th:only-of-type {\n",
       "        vertical-align: middle;\n",
       "    }\n",
       "\n",
       "    .dataframe tbody tr th {\n",
       "        vertical-align: top;\n",
       "    }\n",
       "\n",
       "    .dataframe thead th {\n",
       "        text-align: right;\n",
       "    }\n",
       "</style>\n",
       "<table border=\"1\" class=\"dataframe\">\n",
       "  <thead>\n",
       "    <tr style=\"text-align: right;\">\n",
       "      <th></th>\n",
       "      <th>name</th>\n",
       "      <th>assists</th>\n",
       "      <th>bonus</th>\n",
       "      <th>bps</th>\n",
       "      <th>clean_sheets</th>\n",
       "      <th>creativity</th>\n",
       "      <th>goals_conceded</th>\n",
       "      <th>goals_scored</th>\n",
       "      <th>ict_index</th>\n",
       "      <th>influence</th>\n",
       "      <th>...</th>\n",
       "      <th>value</th>\n",
       "      <th>was_home</th>\n",
       "      <th>yellow_cards</th>\n",
       "      <th>GW</th>\n",
       "      <th>season</th>\n",
       "      <th>position</th>\n",
       "      <th>dreamteam_yearly_average</th>\n",
       "      <th>opponent_level</th>\n",
       "      <th>team_level</th>\n",
       "      <th>kickoff_date</th>\n",
       "    </tr>\n",
       "  </thead>\n",
       "  <tbody>\n",
       "    <tr>\n",
       "      <th>567</th>\n",
       "      <td>aaron ramsdale</td>\n",
       "      <td>0</td>\n",
       "      <td>0</td>\n",
       "      <td>0</td>\n",
       "      <td>0</td>\n",
       "      <td>0.0</td>\n",
       "      <td>0</td>\n",
       "      <td>0</td>\n",
       "      <td>0.0</td>\n",
       "      <td>0.0</td>\n",
       "      <td>...</td>\n",
       "      <td>40</td>\n",
       "      <td>False</td>\n",
       "      <td>0</td>\n",
       "      <td>38</td>\n",
       "      <td>17</td>\n",
       "      <td>GK</td>\n",
       "      <td>NaN</td>\n",
       "      <td>NaN</td>\n",
       "      <td>NaN</td>\n",
       "      <td>2017-05-21</td>\n",
       "    </tr>\n",
       "  </tbody>\n",
       "</table>\n",
       "<p>1 rows × 34 columns</p>\n",
       "</div>"
      ],
      "text/plain": [
       "               name  assists  bonus  bps  clean_sheets  creativity  \\\n",
       "567  aaron ramsdale        0      0    0             0         0.0   \n",
       "\n",
       "     goals_conceded  goals_scored  ict_index  influence  ... value  was_home  \\\n",
       "567               0             0        0.0        0.0  ...    40     False   \n",
       "\n",
       "     yellow_cards  GW  season  position  dreamteam_yearly_average  \\\n",
       "567             0  38      17        GK                       NaN   \n",
       "\n",
       "     opponent_level  team_level  kickoff_date  \n",
       "567             NaN         NaN    2017-05-21  \n",
       "\n",
       "[1 rows x 34 columns]"
      ]
     },
     "execution_count": 149,
     "metadata": {},
     "output_type": "execute_result"
    }
   ],
   "source": [
    "gk_df_train.head(1)"
   ]
  },
  {
   "cell_type": "code",
   "execution_count": 150,
   "id": "eb1c0dcb",
   "metadata": {
    "ExecuteTime": {
     "end_time": "2021-06-14T09:12:12.373872Z",
     "start_time": "2021-06-14T09:12:12.369389Z"
    },
    "scrolled": false
   },
   "outputs": [
    {
     "data": {
      "text/plain": [
       "Index(['name', 'assists', 'bonus', 'bps', 'clean_sheets', 'creativity',\n",
       "       'goals_conceded', 'goals_scored', 'ict_index', 'influence',\n",
       "       'kickoff_time', 'minutes', 'opponent_team', 'own_goals',\n",
       "       'penalties_missed', 'penalties_saved', 'red_cards', 'saves', 'selected',\n",
       "       'threat', 'total_points', 'transfers_balance', 'transfers_in',\n",
       "       'transfers_out', 'value', 'was_home', 'yellow_cards', 'GW', 'season',\n",
       "       'position', 'dreamteam_yearly_average', 'opponent_level', 'team_level',\n",
       "       'kickoff_date'],\n",
       "      dtype='object')"
      ]
     },
     "execution_count": 150,
     "metadata": {},
     "output_type": "execute_result"
    }
   ],
   "source": [
    "gk_df_train.columns"
   ]
  },
  {
   "cell_type": "markdown",
   "id": "34ed47f8",
   "metadata": {},
   "source": [
    "The columns we want for goalkeepers are (for now)\n"
   ]
  },
  {
   "cell_type": "code",
   "execution_count": 151,
   "id": "8407ab59",
   "metadata": {
    "ExecuteTime": {
     "end_time": "2021-06-14T09:12:12.380560Z",
     "start_time": "2021-06-14T09:12:12.377306Z"
    }
   },
   "outputs": [],
   "source": [
    "gk_features=['name', 'bps','clean_sheets','creativity', 'goals_conceded', \n",
    "              'ict_index', 'influence','kickoff_time','minutes',\n",
    "              'penalties_saved','red_cards','saves','selected','threat','total_points','transfers_balance',\n",
    "              'value','was_home','yellow_cards','GW','season','opponent_level','team_level']"
   ]
  },
  {
   "cell_type": "code",
   "execution_count": 152,
   "id": "ad85957c",
   "metadata": {
    "ExecuteTime": {
     "end_time": "2021-06-14T09:12:12.389888Z",
     "start_time": "2021-06-14T09:12:12.383736Z"
    }
   },
   "outputs": [],
   "source": [
    "gk_train=gk_df_train[gk_features]\n",
    "gk_test=gk_df_test[gk_features]"
   ]
  },
  {
   "cell_type": "code",
   "execution_count": 153,
   "id": "250d0221",
   "metadata": {
    "ExecuteTime": {
     "end_time": "2021-06-14T09:12:12.398624Z",
     "start_time": "2021-06-14T09:12:12.392705Z"
    }
   },
   "outputs": [
    {
     "name": "stderr",
     "output_type": "stream",
     "text": [
      "<ipython-input-153-cc640347aa19>:1: SettingWithCopyWarning: \n",
      "A value is trying to be set on a copy of a slice from a DataFrame.\n",
      "Try using .loc[row_indexer,col_indexer] = value instead\n",
      "\n",
      "See the caveats in the documentation: https://pandas.pydata.org/pandas-docs/stable/user_guide/indexing.html#returning-a-view-versus-a-copy\n",
      "  gk_train['cards']=gk_train['yellow_cards']+gk_train['red_cards']\n",
      "<ipython-input-153-cc640347aa19>:2: SettingWithCopyWarning: \n",
      "A value is trying to be set on a copy of a slice from a DataFrame.\n",
      "Try using .loc[row_indexer,col_indexer] = value instead\n",
      "\n",
      "See the caveats in the documentation: https://pandas.pydata.org/pandas-docs/stable/user_guide/indexing.html#returning-a-view-versus-a-copy\n",
      "  gk_test['cards']=gk_test['yellow_cards']+gk_test['red_cards']\n"
     ]
    }
   ],
   "source": [
    "gk_train['cards']=gk_train['yellow_cards']+gk_train['red_cards']\n",
    "gk_test['cards']=gk_test['yellow_cards']+gk_test['red_cards']\n",
    "\n"
   ]
  },
  {
   "cell_type": "code",
   "execution_count": 154,
   "id": "95a3eb6c",
   "metadata": {
    "ExecuteTime": {
     "end_time": "2021-06-14T09:12:12.405912Z",
     "start_time": "2021-06-14T09:12:12.400979Z"
    },
    "scrolled": true
   },
   "outputs": [
    {
     "data": {
      "text/plain": [
       "Index(['name', 'bps', 'clean_sheets', 'creativity', 'goals_conceded',\n",
       "       'ict_index', 'influence', 'kickoff_time', 'minutes', 'penalties_saved',\n",
       "       'red_cards', 'saves', 'selected', 'threat', 'total_points',\n",
       "       'transfers_balance', 'value', 'was_home', 'yellow_cards', 'GW',\n",
       "       'season', 'opponent_level', 'team_level', 'cards'],\n",
       "      dtype='object')"
      ]
     },
     "execution_count": 154,
     "metadata": {},
     "output_type": "execute_result"
    }
   ],
   "source": [
    "gk_train.columns"
   ]
  },
  {
   "cell_type": "code",
   "execution_count": 155,
   "id": "910f280d",
   "metadata": {
    "ExecuteTime": {
     "end_time": "2021-06-14T09:12:12.412825Z",
     "start_time": "2021-06-14T09:12:12.408919Z"
    }
   },
   "outputs": [],
   "source": [
    "rolling_features=['name','bps','clean_sheets','creativity','goals_conceded','ict_index','influence',\n",
    "                  'minutes','saves','selected','threat','total_points','transfers_balance','value','cards']\n",
    "\n",
    "mean_features=['name','penalties_saved']\n",
    "static_features=['kickoff_time','was_home','GW','season','opponent_level','team_level']\n",
    "\n",
    "\n",
    "\n",
    "total_points_train=gk_train['total_points']\n",
    "total_points_test=gk_test['total_points']\n",
    "\n",
    "\n"
   ]
  },
  {
   "cell_type": "markdown",
   "id": "ac2589e7",
   "metadata": {},
   "source": [
    "## Rolling Features"
   ]
  },
  {
   "cell_type": "code",
   "execution_count": 156,
   "id": "9c9615a3",
   "metadata": {
    "ExecuteTime": {
     "end_time": "2021-06-14T09:12:12.776970Z",
     "start_time": "2021-06-14T09:12:12.414980Z"
    }
   },
   "outputs": [],
   "source": [
    "#rolling_df_train=gk_train[rolling_features].groupby('name').rolling(ra,closed = 'left').mean()\n",
    "#rolling_df_test=gk_test[rolling_features].groupby('name').rolling(ra,closed = 'left').mean()\n",
    "\n",
    "rolling_df_train=gk_train[rolling_features].groupby('name').rolling(1,closed = 'left').mean()\n",
    "rolling_df_test=gk_test[rolling_features].groupby('name').rolling(1,closed = 'left').mean()\n"
   ]
  },
  {
   "cell_type": "code",
   "execution_count": 157,
   "id": "724f5057",
   "metadata": {
    "ExecuteTime": {
     "end_time": "2021-06-14T09:12:12.784264Z",
     "start_time": "2021-06-14T09:12:12.778865Z"
    }
   },
   "outputs": [],
   "source": [
    "rolling_df_train.rename(columns={'total_points':'rolling_points'},inplace=True)\n",
    "rolling_df_test.rename(columns={'total_points':'rolling_points'},inplace=True)"
   ]
  },
  {
   "cell_type": "code",
   "execution_count": 158,
   "id": "c248db99",
   "metadata": {
    "ExecuteTime": {
     "end_time": "2021-06-14T09:12:12.800234Z",
     "start_time": "2021-06-14T09:12:12.787708Z"
    }
   },
   "outputs": [],
   "source": [
    "mean_saves_train=gk_train[mean_features].groupby('name').mean()\n",
    "mean_saves_test=gk_test[mean_features].groupby('name').mean()"
   ]
  },
  {
   "cell_type": "code",
   "execution_count": 159,
   "id": "30205ade",
   "metadata": {
    "ExecuteTime": {
     "end_time": "2021-06-14T09:12:12.810042Z",
     "start_time": "2021-06-14T09:12:12.802131Z"
    }
   },
   "outputs": [],
   "source": [
    "rolling_df_train=rolling_df_train.reset_index()\n",
    "rolling_df_test=rolling_df_test.reset_index()"
   ]
  },
  {
   "cell_type": "code",
   "execution_count": 160,
   "id": "d61b14bc",
   "metadata": {
    "ExecuteTime": {
     "end_time": "2021-06-14T09:12:14.013980Z",
     "start_time": "2021-06-14T09:12:12.812399Z"
    }
   },
   "outputs": [],
   "source": [
    "ls=[]\n",
    "for i,player in enumerate(rolling_df_train['name']):\n",
    "    ls.append(mean_saves_train.loc[player][0])\n",
    "    #print(mean_saves_train.loc[player][0])\n",
    "ls\n",
    "rolling_df_train['penalty_saves']=ls\n",
    "\n",
    "ls=[]\n",
    "for i,player in enumerate(rolling_df_test['name']):\n",
    "    ls.append(mean_saves_test.loc[player][0])\n",
    "    #print(mean_saves_train.loc[player][0])\n",
    "ls\n",
    "rolling_df_test['penalty_saves']=ls\n"
   ]
  },
  {
   "cell_type": "code",
   "execution_count": 161,
   "id": "2386f146",
   "metadata": {
    "ExecuteTime": {
     "end_time": "2021-06-14T09:12:14.026239Z",
     "start_time": "2021-06-14T09:12:14.016245Z"
    }
   },
   "outputs": [],
   "source": [
    "\n",
    "result = map(lambda position:position, total_points_train)\n",
    "rolling_df_train['total_points']=list(result)\n",
    "\n",
    "result = map(lambda position:position, total_points_test)\n",
    "rolling_df_test['total_points']=list(result)"
   ]
  },
  {
   "cell_type": "code",
   "execution_count": 162,
   "id": "459d2158",
   "metadata": {
    "ExecuteTime": {
     "end_time": "2021-06-14T09:12:14.072098Z",
     "start_time": "2021-06-14T09:12:14.029337Z"
    },
    "scrolled": true
   },
   "outputs": [
    {
     "data": {
      "text/html": [
       "<div>\n",
       "<style scoped>\n",
       "    .dataframe tbody tr th:only-of-type {\n",
       "        vertical-align: middle;\n",
       "    }\n",
       "\n",
       "    .dataframe tbody tr th {\n",
       "        vertical-align: top;\n",
       "    }\n",
       "\n",
       "    .dataframe thead th {\n",
       "        text-align: right;\n",
       "    }\n",
       "</style>\n",
       "<table border=\"1\" class=\"dataframe\">\n",
       "  <thead>\n",
       "    <tr style=\"text-align: right;\">\n",
       "      <th></th>\n",
       "      <th>name</th>\n",
       "      <th>level_1</th>\n",
       "      <th>bps</th>\n",
       "      <th>clean_sheets</th>\n",
       "      <th>creativity</th>\n",
       "      <th>goals_conceded</th>\n",
       "      <th>ict_index</th>\n",
       "      <th>influence</th>\n",
       "      <th>minutes</th>\n",
       "      <th>saves</th>\n",
       "      <th>selected</th>\n",
       "      <th>threat</th>\n",
       "      <th>rolling_points</th>\n",
       "      <th>transfers_balance</th>\n",
       "      <th>value</th>\n",
       "      <th>cards</th>\n",
       "      <th>penalty_saves</th>\n",
       "      <th>total_points</th>\n",
       "    </tr>\n",
       "  </thead>\n",
       "  <tbody>\n",
       "    <tr>\n",
       "      <th>0</th>\n",
       "      <td>aaron ramsdale</td>\n",
       "      <td>567</td>\n",
       "      <td>NaN</td>\n",
       "      <td>NaN</td>\n",
       "      <td>NaN</td>\n",
       "      <td>NaN</td>\n",
       "      <td>NaN</td>\n",
       "      <td>NaN</td>\n",
       "      <td>NaN</td>\n",
       "      <td>NaN</td>\n",
       "      <td>NaN</td>\n",
       "      <td>NaN</td>\n",
       "      <td>NaN</td>\n",
       "      <td>NaN</td>\n",
       "      <td>NaN</td>\n",
       "      <td>NaN</td>\n",
       "      <td>0.009804</td>\n",
       "      <td>0</td>\n",
       "    </tr>\n",
       "    <tr>\n",
       "      <th>1</th>\n",
       "      <td>aaron ramsdale</td>\n",
       "      <td>568</td>\n",
       "      <td>0.0</td>\n",
       "      <td>0.0</td>\n",
       "      <td>0.0</td>\n",
       "      <td>0.0</td>\n",
       "      <td>0.0</td>\n",
       "      <td>0.0</td>\n",
       "      <td>0.0</td>\n",
       "      <td>0.0</td>\n",
       "      <td>0.0</td>\n",
       "      <td>0.0</td>\n",
       "      <td>0.0</td>\n",
       "      <td>0.0</td>\n",
       "      <td>40.0</td>\n",
       "      <td>0.0</td>\n",
       "      <td>0.009804</td>\n",
       "      <td>0</td>\n",
       "    </tr>\n",
       "    <tr>\n",
       "      <th>2</th>\n",
       "      <td>aaron ramsdale</td>\n",
       "      <td>569</td>\n",
       "      <td>0.0</td>\n",
       "      <td>0.0</td>\n",
       "      <td>0.0</td>\n",
       "      <td>0.0</td>\n",
       "      <td>0.0</td>\n",
       "      <td>0.0</td>\n",
       "      <td>0.0</td>\n",
       "      <td>0.0</td>\n",
       "      <td>0.0</td>\n",
       "      <td>0.0</td>\n",
       "      <td>0.0</td>\n",
       "      <td>0.0</td>\n",
       "      <td>40.0</td>\n",
       "      <td>0.0</td>\n",
       "      <td>0.009804</td>\n",
       "      <td>0</td>\n",
       "    </tr>\n",
       "    <tr>\n",
       "      <th>3</th>\n",
       "      <td>aaron ramsdale</td>\n",
       "      <td>570</td>\n",
       "      <td>0.0</td>\n",
       "      <td>0.0</td>\n",
       "      <td>0.0</td>\n",
       "      <td>0.0</td>\n",
       "      <td>0.0</td>\n",
       "      <td>0.0</td>\n",
       "      <td>0.0</td>\n",
       "      <td>0.0</td>\n",
       "      <td>7664.0</td>\n",
       "      <td>0.0</td>\n",
       "      <td>0.0</td>\n",
       "      <td>6202.0</td>\n",
       "      <td>40.0</td>\n",
       "      <td>0.0</td>\n",
       "      <td>0.009804</td>\n",
       "      <td>0</td>\n",
       "    </tr>\n",
       "    <tr>\n",
       "      <th>4</th>\n",
       "      <td>aaron ramsdale</td>\n",
       "      <td>571</td>\n",
       "      <td>0.0</td>\n",
       "      <td>0.0</td>\n",
       "      <td>0.0</td>\n",
       "      <td>0.0</td>\n",
       "      <td>0.0</td>\n",
       "      <td>0.0</td>\n",
       "      <td>0.0</td>\n",
       "      <td>0.0</td>\n",
       "      <td>11351.0</td>\n",
       "      <td>0.0</td>\n",
       "      <td>0.0</td>\n",
       "      <td>2883.0</td>\n",
       "      <td>40.0</td>\n",
       "      <td>0.0</td>\n",
       "      <td>0.009804</td>\n",
       "      <td>0</td>\n",
       "    </tr>\n",
       "  </tbody>\n",
       "</table>\n",
       "</div>"
      ],
      "text/plain": [
       "             name  level_1  bps  clean_sheets  creativity  goals_conceded  \\\n",
       "0  aaron ramsdale      567  NaN           NaN         NaN             NaN   \n",
       "1  aaron ramsdale      568  0.0           0.0         0.0             0.0   \n",
       "2  aaron ramsdale      569  0.0           0.0         0.0             0.0   \n",
       "3  aaron ramsdale      570  0.0           0.0         0.0             0.0   \n",
       "4  aaron ramsdale      571  0.0           0.0         0.0             0.0   \n",
       "\n",
       "   ict_index  influence  minutes  saves  selected  threat  rolling_points  \\\n",
       "0        NaN        NaN      NaN    NaN       NaN     NaN             NaN   \n",
       "1        0.0        0.0      0.0    0.0       0.0     0.0             0.0   \n",
       "2        0.0        0.0      0.0    0.0       0.0     0.0             0.0   \n",
       "3        0.0        0.0      0.0    0.0    7664.0     0.0             0.0   \n",
       "4        0.0        0.0      0.0    0.0   11351.0     0.0             0.0   \n",
       "\n",
       "   transfers_balance  value  cards  penalty_saves  total_points  \n",
       "0                NaN    NaN    NaN       0.009804             0  \n",
       "1                0.0   40.0    0.0       0.009804             0  \n",
       "2                0.0   40.0    0.0       0.009804             0  \n",
       "3             6202.0   40.0    0.0       0.009804             0  \n",
       "4             2883.0   40.0    0.0       0.009804             0  "
      ]
     },
     "execution_count": 162,
     "metadata": {},
     "output_type": "execute_result"
    }
   ],
   "source": [
    "rolling_df_train.head()"
   ]
  },
  {
   "cell_type": "code",
   "execution_count": 163,
   "id": "ce4768d7",
   "metadata": {
    "ExecuteTime": {
     "end_time": "2021-06-14T09:12:14.113081Z",
     "start_time": "2021-06-14T09:12:14.074889Z"
    }
   },
   "outputs": [],
   "source": [
    "for i in static_features:\n",
    "    result = map(lambda position:position, gk_train[i])\n",
    "    rolling_df_train[i]=list(result)\n",
    "for i in static_features:\n",
    "    result = map(lambda position:position, gk_test[i])\n",
    "    rolling_df_test[i]=list(result)\n",
    "\n"
   ]
  },
  {
   "cell_type": "code",
   "execution_count": 164,
   "id": "e448ded5",
   "metadata": {
    "ExecuteTime": {
     "end_time": "2021-06-14T09:12:14.160335Z",
     "start_time": "2021-06-14T09:12:14.115700Z"
    }
   },
   "outputs": [
    {
     "data": {
      "text/html": [
       "<div>\n",
       "<style scoped>\n",
       "    .dataframe tbody tr th:only-of-type {\n",
       "        vertical-align: middle;\n",
       "    }\n",
       "\n",
       "    .dataframe tbody tr th {\n",
       "        vertical-align: top;\n",
       "    }\n",
       "\n",
       "    .dataframe thead th {\n",
       "        text-align: right;\n",
       "    }\n",
       "</style>\n",
       "<table border=\"1\" class=\"dataframe\">\n",
       "  <thead>\n",
       "    <tr style=\"text-align: right;\">\n",
       "      <th></th>\n",
       "      <th>name</th>\n",
       "      <th>level_1</th>\n",
       "      <th>bps</th>\n",
       "      <th>clean_sheets</th>\n",
       "      <th>creativity</th>\n",
       "      <th>goals_conceded</th>\n",
       "      <th>ict_index</th>\n",
       "      <th>influence</th>\n",
       "      <th>minutes</th>\n",
       "      <th>saves</th>\n",
       "      <th>...</th>\n",
       "      <th>value</th>\n",
       "      <th>cards</th>\n",
       "      <th>penalty_saves</th>\n",
       "      <th>total_points</th>\n",
       "      <th>kickoff_time</th>\n",
       "      <th>was_home</th>\n",
       "      <th>GW</th>\n",
       "      <th>season</th>\n",
       "      <th>opponent_level</th>\n",
       "      <th>team_level</th>\n",
       "    </tr>\n",
       "  </thead>\n",
       "  <tbody>\n",
       "    <tr>\n",
       "      <th>0</th>\n",
       "      <td>aaron ramsdale</td>\n",
       "      <td>567</td>\n",
       "      <td>NaN</td>\n",
       "      <td>NaN</td>\n",
       "      <td>NaN</td>\n",
       "      <td>NaN</td>\n",
       "      <td>NaN</td>\n",
       "      <td>NaN</td>\n",
       "      <td>NaN</td>\n",
       "      <td>NaN</td>\n",
       "      <td>...</td>\n",
       "      <td>NaN</td>\n",
       "      <td>NaN</td>\n",
       "      <td>0.009804</td>\n",
       "      <td>0</td>\n",
       "      <td>14:00:00</td>\n",
       "      <td>False</td>\n",
       "      <td>38</td>\n",
       "      <td>17</td>\n",
       "      <td>NaN</td>\n",
       "      <td>NaN</td>\n",
       "    </tr>\n",
       "    <tr>\n",
       "      <th>1</th>\n",
       "      <td>aaron ramsdale</td>\n",
       "      <td>568</td>\n",
       "      <td>0.0</td>\n",
       "      <td>0.0</td>\n",
       "      <td>0.0</td>\n",
       "      <td>0.0</td>\n",
       "      <td>0.0</td>\n",
       "      <td>0.0</td>\n",
       "      <td>0.0</td>\n",
       "      <td>0.0</td>\n",
       "      <td>...</td>\n",
       "      <td>40.0</td>\n",
       "      <td>0.0</td>\n",
       "      <td>0.009804</td>\n",
       "      <td>0</td>\n",
       "      <td>14:00:00</td>\n",
       "      <td>False</td>\n",
       "      <td>6</td>\n",
       "      <td>18</td>\n",
       "      <td>NaN</td>\n",
       "      <td>NaN</td>\n",
       "    </tr>\n",
       "    <tr>\n",
       "      <th>2</th>\n",
       "      <td>aaron ramsdale</td>\n",
       "      <td>569</td>\n",
       "      <td>0.0</td>\n",
       "      <td>0.0</td>\n",
       "      <td>0.0</td>\n",
       "      <td>0.0</td>\n",
       "      <td>0.0</td>\n",
       "      <td>0.0</td>\n",
       "      <td>0.0</td>\n",
       "      <td>0.0</td>\n",
       "      <td>...</td>\n",
       "      <td>40.0</td>\n",
       "      <td>0.0</td>\n",
       "      <td>0.009804</td>\n",
       "      <td>0</td>\n",
       "      <td>14:00:00</td>\n",
       "      <td>True</td>\n",
       "      <td>7</td>\n",
       "      <td>18</td>\n",
       "      <td>NaN</td>\n",
       "      <td>NaN</td>\n",
       "    </tr>\n",
       "    <tr>\n",
       "      <th>3</th>\n",
       "      <td>aaron ramsdale</td>\n",
       "      <td>570</td>\n",
       "      <td>0.0</td>\n",
       "      <td>0.0</td>\n",
       "      <td>0.0</td>\n",
       "      <td>0.0</td>\n",
       "      <td>0.0</td>\n",
       "      <td>0.0</td>\n",
       "      <td>0.0</td>\n",
       "      <td>0.0</td>\n",
       "      <td>...</td>\n",
       "      <td>40.0</td>\n",
       "      <td>0.0</td>\n",
       "      <td>0.009804</td>\n",
       "      <td>0</td>\n",
       "      <td>14:00:00</td>\n",
       "      <td>False</td>\n",
       "      <td>8</td>\n",
       "      <td>18</td>\n",
       "      <td>NaN</td>\n",
       "      <td>NaN</td>\n",
       "    </tr>\n",
       "    <tr>\n",
       "      <th>4</th>\n",
       "      <td>aaron ramsdale</td>\n",
       "      <td>571</td>\n",
       "      <td>0.0</td>\n",
       "      <td>0.0</td>\n",
       "      <td>0.0</td>\n",
       "      <td>0.0</td>\n",
       "      <td>0.0</td>\n",
       "      <td>0.0</td>\n",
       "      <td>0.0</td>\n",
       "      <td>0.0</td>\n",
       "      <td>...</td>\n",
       "      <td>40.0</td>\n",
       "      <td>0.0</td>\n",
       "      <td>0.009804</td>\n",
       "      <td>0</td>\n",
       "      <td>14:00:00</td>\n",
       "      <td>False</td>\n",
       "      <td>9</td>\n",
       "      <td>18</td>\n",
       "      <td>NaN</td>\n",
       "      <td>NaN</td>\n",
       "    </tr>\n",
       "  </tbody>\n",
       "</table>\n",
       "<p>5 rows × 24 columns</p>\n",
       "</div>"
      ],
      "text/plain": [
       "             name  level_1  bps  clean_sheets  creativity  goals_conceded  \\\n",
       "0  aaron ramsdale      567  NaN           NaN         NaN             NaN   \n",
       "1  aaron ramsdale      568  0.0           0.0         0.0             0.0   \n",
       "2  aaron ramsdale      569  0.0           0.0         0.0             0.0   \n",
       "3  aaron ramsdale      570  0.0           0.0         0.0             0.0   \n",
       "4  aaron ramsdale      571  0.0           0.0         0.0             0.0   \n",
       "\n",
       "   ict_index  influence  minutes  saves  ...  value  cards  penalty_saves  \\\n",
       "0        NaN        NaN      NaN    NaN  ...    NaN    NaN       0.009804   \n",
       "1        0.0        0.0      0.0    0.0  ...   40.0    0.0       0.009804   \n",
       "2        0.0        0.0      0.0    0.0  ...   40.0    0.0       0.009804   \n",
       "3        0.0        0.0      0.0    0.0  ...   40.0    0.0       0.009804   \n",
       "4        0.0        0.0      0.0    0.0  ...   40.0    0.0       0.009804   \n",
       "\n",
       "   total_points  kickoff_time  was_home  GW  season opponent_level  team_level  \n",
       "0             0      14:00:00     False  38      17            NaN         NaN  \n",
       "1             0      14:00:00     False   6      18            NaN         NaN  \n",
       "2             0      14:00:00      True   7      18            NaN         NaN  \n",
       "3             0      14:00:00     False   8      18            NaN         NaN  \n",
       "4             0      14:00:00     False   9      18            NaN         NaN  \n",
       "\n",
       "[5 rows x 24 columns]"
      ]
     },
     "execution_count": 164,
     "metadata": {},
     "output_type": "execute_result"
    }
   ],
   "source": [
    "rolling_df_train.head()"
   ]
  },
  {
   "cell_type": "code",
   "execution_count": 165,
   "id": "d7c107d6",
   "metadata": {
    "ExecuteTime": {
     "end_time": "2021-06-14T09:12:14.180836Z",
     "start_time": "2021-06-14T09:12:14.163619Z"
    }
   },
   "outputs": [],
   "source": [
    "rolling_df_train.dropna(inplace=True)\n",
    "rolling_df_test.dropna(inplace=True)"
   ]
  },
  {
   "cell_type": "code",
   "execution_count": 166,
   "id": "b5c303e3",
   "metadata": {
    "ExecuteTime": {
     "end_time": "2021-06-14T09:12:14.195357Z",
     "start_time": "2021-06-14T09:12:14.184294Z"
    }
   },
   "outputs": [
    {
     "data": {
      "text/plain": [
       "name                 0\n",
       "level_1              0\n",
       "opponent_level       0\n",
       "season               0\n",
       "GW                   0\n",
       "was_home             0\n",
       "kickoff_time         0\n",
       "total_points         0\n",
       "penalty_saves        0\n",
       "cards                0\n",
       "value                0\n",
       "transfers_balance    0\n",
       "rolling_points       0\n",
       "threat               0\n",
       "selected             0\n",
       "saves                0\n",
       "minutes              0\n",
       "influence            0\n",
       "ict_index            0\n",
       "goals_conceded       0\n",
       "creativity           0\n",
       "clean_sheets         0\n",
       "bps                  0\n",
       "team_level           0\n",
       "dtype: int64"
      ]
     },
     "execution_count": 166,
     "metadata": {},
     "output_type": "execute_result"
    }
   ],
   "source": [
    "rolling_df_train.isnull().sum().sort_values(ascending=False)"
   ]
  },
  {
   "cell_type": "code",
   "execution_count": 167,
   "id": "66b5ee90",
   "metadata": {
    "ExecuteTime": {
     "end_time": "2021-06-14T09:12:14.205020Z",
     "start_time": "2021-06-14T09:12:14.198559Z"
    }
   },
   "outputs": [],
   "source": [
    "rolling_df_train.drop(columns=['creativity','influence','threat'],inplace=True)\n",
    "rolling_df_test.drop(columns=['creativity','influence','threat'],inplace=True)"
   ]
  },
  {
   "cell_type": "code",
   "execution_count": 168,
   "id": "a5dc274a",
   "metadata": {
    "ExecuteTime": {
     "end_time": "2021-06-14T09:12:14.218003Z",
     "start_time": "2021-06-14T09:12:14.207979Z"
    }
   },
   "outputs": [],
   "source": [
    "time=[]\n",
    "for row in rolling_df_train['kickoff_time']:\n",
    "    time.append(row.hour)\n",
    "rolling_df_train['time']=time\n",
    "\n",
    "time=[]\n",
    "for row in rolling_df_test['kickoff_time']:\n",
    "    time.append(row.hour)\n",
    "rolling_df_test['time']=time"
   ]
  },
  {
   "cell_type": "code",
   "execution_count": 169,
   "id": "ce6f38a7",
   "metadata": {
    "ExecuteTime": {
     "end_time": "2021-06-14T09:12:14.229014Z",
     "start_time": "2021-06-14T09:12:14.221192Z"
    }
   },
   "outputs": [],
   "source": [
    "rolling_df_train.drop(columns='kickoff_time',inplace=True)\n",
    "rolling_df_test.drop(columns='kickoff_time',inplace=True)"
   ]
  },
  {
   "cell_type": "code",
   "execution_count": 170,
   "id": "c3a384d3",
   "metadata": {
    "ExecuteTime": {
     "end_time": "2021-06-14T09:12:14.238107Z",
     "start_time": "2021-06-14T09:12:14.231483Z"
    }
   },
   "outputs": [
    {
     "data": {
      "text/plain": [
       "Index(['name', 'level_1', 'bps', 'clean_sheets', 'goals_conceded', 'ict_index',\n",
       "       'minutes', 'saves', 'selected', 'rolling_points', 'transfers_balance',\n",
       "       'value', 'cards', 'penalty_saves', 'total_points', 'was_home', 'GW',\n",
       "       'season', 'opponent_level', 'team_level', 'time'],\n",
       "      dtype='object')"
      ]
     },
     "execution_count": 170,
     "metadata": {},
     "output_type": "execute_result"
    }
   ],
   "source": [
    "rolling_df_train.columns"
   ]
  },
  {
   "cell_type": "code",
   "execution_count": 171,
   "id": "b70bc9e2",
   "metadata": {
    "ExecuteTime": {
     "end_time": "2021-06-14T09:12:14.250705Z",
     "start_time": "2021-06-14T09:12:14.240877Z"
    }
   },
   "outputs": [
    {
     "name": "stderr",
     "output_type": "stream",
     "text": [
      "/Users/admin/.pyenv/versions/3.8.6/envs/fflpred/lib/python3.8/site-packages/sklearn/utils/validation.py:63: DataConversionWarning: A column-vector y was passed when a 1d array was expected. Please change the shape of y to (n_samples, ), for example using ravel().\n",
      "  return f(*args, **kwargs)\n"
     ]
    }
   ],
   "source": [
    "from sklearn.preprocessing import LabelEncoder\n",
    "\n",
    "encoder = LabelEncoder()\n",
    "encoder.fit(rolling_df_train[['was_home']])\n",
    "rolling_df_train['was_home'] = encoder.transform(rolling_df_train[['was_home']])\n",
    "\n",
    "encoder = LabelEncoder()\n",
    "encoder.fit(rolling_df_test[['was_home']])\n",
    "rolling_df_test['was_home'] = encoder.transform(rolling_df_test[['was_home']])"
   ]
  },
  {
   "cell_type": "code",
   "execution_count": 172,
   "id": "f5a20c82",
   "metadata": {
    "ExecuteTime": {
     "end_time": "2021-06-14T09:12:14.290987Z",
     "start_time": "2021-06-14T09:12:14.253369Z"
    }
   },
   "outputs": [
    {
     "data": {
      "text/html": [
       "<div>\n",
       "<style scoped>\n",
       "    .dataframe tbody tr th:only-of-type {\n",
       "        vertical-align: middle;\n",
       "    }\n",
       "\n",
       "    .dataframe tbody tr th {\n",
       "        vertical-align: top;\n",
       "    }\n",
       "\n",
       "    .dataframe thead th {\n",
       "        text-align: right;\n",
       "    }\n",
       "</style>\n",
       "<table border=\"1\" class=\"dataframe\">\n",
       "  <thead>\n",
       "    <tr style=\"text-align: right;\">\n",
       "      <th></th>\n",
       "      <th>name</th>\n",
       "      <th>level_1</th>\n",
       "      <th>bps</th>\n",
       "      <th>clean_sheets</th>\n",
       "      <th>goals_conceded</th>\n",
       "      <th>ict_index</th>\n",
       "      <th>minutes</th>\n",
       "      <th>saves</th>\n",
       "      <th>selected</th>\n",
       "      <th>rolling_points</th>\n",
       "      <th>...</th>\n",
       "      <th>value</th>\n",
       "      <th>cards</th>\n",
       "      <th>penalty_saves</th>\n",
       "      <th>total_points</th>\n",
       "      <th>was_home</th>\n",
       "      <th>GW</th>\n",
       "      <th>season</th>\n",
       "      <th>opponent_level</th>\n",
       "      <th>team_level</th>\n",
       "      <th>time</th>\n",
       "    </tr>\n",
       "  </thead>\n",
       "  <tbody>\n",
       "    <tr>\n",
       "      <th>34</th>\n",
       "      <td>aaron ramsdale</td>\n",
       "      <td>601</td>\n",
       "      <td>0.0</td>\n",
       "      <td>0.0</td>\n",
       "      <td>0.0</td>\n",
       "      <td>0.0</td>\n",
       "      <td>0.0</td>\n",
       "      <td>0.0</td>\n",
       "      <td>7198.0</td>\n",
       "      <td>0.0</td>\n",
       "      <td>...</td>\n",
       "      <td>40.0</td>\n",
       "      <td>0.0</td>\n",
       "      <td>0.009804</td>\n",
       "      <td>2</td>\n",
       "      <td>1</td>\n",
       "      <td>1</td>\n",
       "      <td>20</td>\n",
       "      <td>1200.0</td>\n",
       "      <td>1020.0</td>\n",
       "      <td>14</td>\n",
       "    </tr>\n",
       "    <tr>\n",
       "      <th>35</th>\n",
       "      <td>aaron ramsdale</td>\n",
       "      <td>602</td>\n",
       "      <td>11.0</td>\n",
       "      <td>0.0</td>\n",
       "      <td>1.0</td>\n",
       "      <td>1.0</td>\n",
       "      <td>90.0</td>\n",
       "      <td>2.0</td>\n",
       "      <td>3091.0</td>\n",
       "      <td>2.0</td>\n",
       "      <td>...</td>\n",
       "      <td>45.0</td>\n",
       "      <td>0.0</td>\n",
       "      <td>0.009804</td>\n",
       "      <td>4</td>\n",
       "      <td>0</td>\n",
       "      <td>2</td>\n",
       "      <td>20</td>\n",
       "      <td>1020.0</td>\n",
       "      <td>1020.0</td>\n",
       "      <td>14</td>\n",
       "    </tr>\n",
       "    <tr>\n",
       "      <th>36</th>\n",
       "      <td>aaron ramsdale</td>\n",
       "      <td>603</td>\n",
       "      <td>24.0</td>\n",
       "      <td>0.0</td>\n",
       "      <td>1.0</td>\n",
       "      <td>4.0</td>\n",
       "      <td>90.0</td>\n",
       "      <td>6.0</td>\n",
       "      <td>8566.0</td>\n",
       "      <td>4.0</td>\n",
       "      <td>...</td>\n",
       "      <td>45.0</td>\n",
       "      <td>0.0</td>\n",
       "      <td>0.009804</td>\n",
       "      <td>1</td>\n",
       "      <td>1</td>\n",
       "      <td>3</td>\n",
       "      <td>20</td>\n",
       "      <td>1340.0</td>\n",
       "      <td>1020.0</td>\n",
       "      <td>13</td>\n",
       "    </tr>\n",
       "    <tr>\n",
       "      <th>37</th>\n",
       "      <td>aaron ramsdale</td>\n",
       "      <td>604</td>\n",
       "      <td>12.0</td>\n",
       "      <td>0.0</td>\n",
       "      <td>3.0</td>\n",
       "      <td>1.9</td>\n",
       "      <td>90.0</td>\n",
       "      <td>2.0</td>\n",
       "      <td>13643.0</td>\n",
       "      <td>1.0</td>\n",
       "      <td>...</td>\n",
       "      <td>45.0</td>\n",
       "      <td>0.0</td>\n",
       "      <td>0.009804</td>\n",
       "      <td>1</td>\n",
       "      <td>0</td>\n",
       "      <td>4</td>\n",
       "      <td>20</td>\n",
       "      <td>1210.0</td>\n",
       "      <td>1020.0</td>\n",
       "      <td>14</td>\n",
       "    </tr>\n",
       "    <tr>\n",
       "      <th>38</th>\n",
       "      <td>aaron ramsdale</td>\n",
       "      <td>605</td>\n",
       "      <td>13.0</td>\n",
       "      <td>0.0</td>\n",
       "      <td>3.0</td>\n",
       "      <td>1.3</td>\n",
       "      <td>90.0</td>\n",
       "      <td>2.0</td>\n",
       "      <td>19406.0</td>\n",
       "      <td>1.0</td>\n",
       "      <td>...</td>\n",
       "      <td>45.0</td>\n",
       "      <td>0.0</td>\n",
       "      <td>0.009804</td>\n",
       "      <td>3</td>\n",
       "      <td>1</td>\n",
       "      <td>5</td>\n",
       "      <td>20</td>\n",
       "      <td>1240.0</td>\n",
       "      <td>1020.0</td>\n",
       "      <td>13</td>\n",
       "    </tr>\n",
       "  </tbody>\n",
       "</table>\n",
       "<p>5 rows × 21 columns</p>\n",
       "</div>"
      ],
      "text/plain": [
       "              name  level_1   bps  clean_sheets  goals_conceded  ict_index  \\\n",
       "34  aaron ramsdale      601   0.0           0.0             0.0        0.0   \n",
       "35  aaron ramsdale      602  11.0           0.0             1.0        1.0   \n",
       "36  aaron ramsdale      603  24.0           0.0             1.0        4.0   \n",
       "37  aaron ramsdale      604  12.0           0.0             3.0        1.9   \n",
       "38  aaron ramsdale      605  13.0           0.0             3.0        1.3   \n",
       "\n",
       "    minutes  saves  selected  rolling_points  ...  value  cards  \\\n",
       "34      0.0    0.0    7198.0             0.0  ...   40.0    0.0   \n",
       "35     90.0    2.0    3091.0             2.0  ...   45.0    0.0   \n",
       "36     90.0    6.0    8566.0             4.0  ...   45.0    0.0   \n",
       "37     90.0    2.0   13643.0             1.0  ...   45.0    0.0   \n",
       "38     90.0    2.0   19406.0             1.0  ...   45.0    0.0   \n",
       "\n",
       "    penalty_saves  total_points  was_home  GW  season  opponent_level  \\\n",
       "34       0.009804             2         1   1      20          1200.0   \n",
       "35       0.009804             4         0   2      20          1020.0   \n",
       "36       0.009804             1         1   3      20          1340.0   \n",
       "37       0.009804             1         0   4      20          1210.0   \n",
       "38       0.009804             3         1   5      20          1240.0   \n",
       "\n",
       "    team_level  time  \n",
       "34      1020.0    14  \n",
       "35      1020.0    14  \n",
       "36      1020.0    13  \n",
       "37      1020.0    14  \n",
       "38      1020.0    13  \n",
       "\n",
       "[5 rows x 21 columns]"
      ]
     },
     "execution_count": 172,
     "metadata": {},
     "output_type": "execute_result"
    }
   ],
   "source": [
    "rolling_df_train.head()"
   ]
  },
  {
   "cell_type": "code",
   "execution_count": 173,
   "id": "358a8412",
   "metadata": {
    "ExecuteTime": {
     "end_time": "2021-06-14T09:12:14.303783Z",
     "start_time": "2021-06-14T09:12:14.293911Z"
    }
   },
   "outputs": [],
   "source": [
    "hold_train=rolling_df_train[['name','GW','season']]\n",
    "hold_test=rolling_df_test[['name','GW','season']]\n",
    "\n",
    "rolling_df_train.drop(columns=['name','GW','season','level_1'],inplace=True)\n",
    "rolling_df_test.drop(columns=['name','GW','season','level_1'],inplace=True)"
   ]
  },
  {
   "cell_type": "code",
   "execution_count": 174,
   "id": "e678164f",
   "metadata": {
    "ExecuteTime": {
     "end_time": "2021-06-14T09:12:14.329912Z",
     "start_time": "2021-06-14T09:12:14.307049Z"
    },
    "scrolled": true
   },
   "outputs": [
    {
     "data": {
      "text/html": [
       "<div>\n",
       "<style scoped>\n",
       "    .dataframe tbody tr th:only-of-type {\n",
       "        vertical-align: middle;\n",
       "    }\n",
       "\n",
       "    .dataframe tbody tr th {\n",
       "        vertical-align: top;\n",
       "    }\n",
       "\n",
       "    .dataframe thead th {\n",
       "        text-align: right;\n",
       "    }\n",
       "</style>\n",
       "<table border=\"1\" class=\"dataframe\">\n",
       "  <thead>\n",
       "    <tr style=\"text-align: right;\">\n",
       "      <th></th>\n",
       "      <th>bps</th>\n",
       "      <th>clean_sheets</th>\n",
       "      <th>goals_conceded</th>\n",
       "      <th>ict_index</th>\n",
       "      <th>minutes</th>\n",
       "      <th>saves</th>\n",
       "      <th>selected</th>\n",
       "      <th>rolling_points</th>\n",
       "      <th>transfers_balance</th>\n",
       "      <th>value</th>\n",
       "      <th>cards</th>\n",
       "      <th>penalty_saves</th>\n",
       "      <th>total_points</th>\n",
       "      <th>was_home</th>\n",
       "      <th>opponent_level</th>\n",
       "      <th>team_level</th>\n",
       "      <th>time</th>\n",
       "    </tr>\n",
       "  </thead>\n",
       "  <tbody>\n",
       "    <tr>\n",
       "      <th>34</th>\n",
       "      <td>0.0</td>\n",
       "      <td>0.0</td>\n",
       "      <td>0.0</td>\n",
       "      <td>0.0</td>\n",
       "      <td>0.0</td>\n",
       "      <td>0.0</td>\n",
       "      <td>7198.0</td>\n",
       "      <td>0.0</td>\n",
       "      <td>-99.0</td>\n",
       "      <td>40.0</td>\n",
       "      <td>0.0</td>\n",
       "      <td>0.009804</td>\n",
       "      <td>2</td>\n",
       "      <td>1</td>\n",
       "      <td>1200.0</td>\n",
       "      <td>1020.0</td>\n",
       "      <td>14</td>\n",
       "    </tr>\n",
       "    <tr>\n",
       "      <th>35</th>\n",
       "      <td>11.0</td>\n",
       "      <td>0.0</td>\n",
       "      <td>1.0</td>\n",
       "      <td>1.0</td>\n",
       "      <td>90.0</td>\n",
       "      <td>2.0</td>\n",
       "      <td>3091.0</td>\n",
       "      <td>2.0</td>\n",
       "      <td>0.0</td>\n",
       "      <td>45.0</td>\n",
       "      <td>0.0</td>\n",
       "      <td>0.009804</td>\n",
       "      <td>4</td>\n",
       "      <td>0</td>\n",
       "      <td>1020.0</td>\n",
       "      <td>1020.0</td>\n",
       "      <td>14</td>\n",
       "    </tr>\n",
       "    <tr>\n",
       "      <th>36</th>\n",
       "      <td>24.0</td>\n",
       "      <td>0.0</td>\n",
       "      <td>1.0</td>\n",
       "      <td>4.0</td>\n",
       "      <td>90.0</td>\n",
       "      <td>6.0</td>\n",
       "      <td>8566.0</td>\n",
       "      <td>4.0</td>\n",
       "      <td>2802.0</td>\n",
       "      <td>45.0</td>\n",
       "      <td>0.0</td>\n",
       "      <td>0.009804</td>\n",
       "      <td>1</td>\n",
       "      <td>1</td>\n",
       "      <td>1340.0</td>\n",
       "      <td>1020.0</td>\n",
       "      <td>13</td>\n",
       "    </tr>\n",
       "    <tr>\n",
       "      <th>37</th>\n",
       "      <td>12.0</td>\n",
       "      <td>0.0</td>\n",
       "      <td>3.0</td>\n",
       "      <td>1.9</td>\n",
       "      <td>90.0</td>\n",
       "      <td>2.0</td>\n",
       "      <td>13643.0</td>\n",
       "      <td>1.0</td>\n",
       "      <td>3236.0</td>\n",
       "      <td>45.0</td>\n",
       "      <td>0.0</td>\n",
       "      <td>0.009804</td>\n",
       "      <td>1</td>\n",
       "      <td>0</td>\n",
       "      <td>1210.0</td>\n",
       "      <td>1020.0</td>\n",
       "      <td>14</td>\n",
       "    </tr>\n",
       "    <tr>\n",
       "      <th>38</th>\n",
       "      <td>13.0</td>\n",
       "      <td>0.0</td>\n",
       "      <td>3.0</td>\n",
       "      <td>1.3</td>\n",
       "      <td>90.0</td>\n",
       "      <td>2.0</td>\n",
       "      <td>19406.0</td>\n",
       "      <td>1.0</td>\n",
       "      <td>4356.0</td>\n",
       "      <td>45.0</td>\n",
       "      <td>0.0</td>\n",
       "      <td>0.009804</td>\n",
       "      <td>3</td>\n",
       "      <td>1</td>\n",
       "      <td>1240.0</td>\n",
       "      <td>1020.0</td>\n",
       "      <td>13</td>\n",
       "    </tr>\n",
       "  </tbody>\n",
       "</table>\n",
       "</div>"
      ],
      "text/plain": [
       "     bps  clean_sheets  goals_conceded  ict_index  minutes  saves  selected  \\\n",
       "34   0.0           0.0             0.0        0.0      0.0    0.0    7198.0   \n",
       "35  11.0           0.0             1.0        1.0     90.0    2.0    3091.0   \n",
       "36  24.0           0.0             1.0        4.0     90.0    6.0    8566.0   \n",
       "37  12.0           0.0             3.0        1.9     90.0    2.0   13643.0   \n",
       "38  13.0           0.0             3.0        1.3     90.0    2.0   19406.0   \n",
       "\n",
       "    rolling_points  transfers_balance  value  cards  penalty_saves  \\\n",
       "34             0.0              -99.0   40.0    0.0       0.009804   \n",
       "35             2.0                0.0   45.0    0.0       0.009804   \n",
       "36             4.0             2802.0   45.0    0.0       0.009804   \n",
       "37             1.0             3236.0   45.0    0.0       0.009804   \n",
       "38             1.0             4356.0   45.0    0.0       0.009804   \n",
       "\n",
       "    total_points  was_home  opponent_level  team_level  time  \n",
       "34             2         1          1200.0      1020.0    14  \n",
       "35             4         0          1020.0      1020.0    14  \n",
       "36             1         1          1340.0      1020.0    13  \n",
       "37             1         0          1210.0      1020.0    14  \n",
       "38             3         1          1240.0      1020.0    13  "
      ]
     },
     "execution_count": 174,
     "metadata": {},
     "output_type": "execute_result"
    }
   ],
   "source": [
    "rolling_df_train.head()"
   ]
  },
  {
   "cell_type": "code",
   "execution_count": 175,
   "id": "8ec77211",
   "metadata": {
    "ExecuteTime": {
     "end_time": "2021-06-14T09:12:14.341496Z",
     "start_time": "2021-06-14T09:12:14.333737Z"
    }
   },
   "outputs": [
    {
     "data": {
      "text/plain": [
       "Index(['bps', 'clean_sheets', 'goals_conceded', 'ict_index', 'minutes',\n",
       "       'saves', 'selected', 'rolling_points', 'transfers_balance', 'value',\n",
       "       'cards', 'penalty_saves', 'total_points', 'was_home', 'opponent_level',\n",
       "       'team_level', 'time'],\n",
       "      dtype='object')"
      ]
     },
     "execution_count": 175,
     "metadata": {},
     "output_type": "execute_result"
    }
   ],
   "source": [
    "rolling_df_train.columns"
   ]
  },
  {
   "cell_type": "code",
   "execution_count": 176,
   "id": "6ec46555",
   "metadata": {
    "ExecuteTime": {
     "end_time": "2021-06-14T09:12:14.352058Z",
     "start_time": "2021-06-14T09:12:14.345057Z"
    }
   },
   "outputs": [
    {
     "data": {
      "text/plain": [
       "(4640, 17)"
      ]
     },
     "execution_count": 176,
     "metadata": {},
     "output_type": "execute_result"
    }
   ],
   "source": [
    "rolling_df_train.shape"
   ]
  },
  {
   "cell_type": "markdown",
   "id": "27452027",
   "metadata": {},
   "source": [
    "## Models for the defenders"
   ]
  },
  {
   "cell_type": "markdown",
   "id": "b04a9245",
   "metadata": {},
   "source": [
    "### Gradient boosting"
   ]
  },
  {
   "cell_type": "code",
   "execution_count": 177,
   "id": "b6abca39",
   "metadata": {
    "ExecuteTime": {
     "end_time": "2021-06-14T09:12:14.363401Z",
     "start_time": "2021-06-14T09:12:14.355683Z"
    }
   },
   "outputs": [],
   "source": [
    "X_train=rolling_df_train.drop(columns='total_points')\n",
    "X_test=rolling_df_test.drop(columns='total_points')"
   ]
  },
  {
   "cell_type": "code",
   "execution_count": 178,
   "id": "672faf96",
   "metadata": {
    "ExecuteTime": {
     "end_time": "2021-06-14T09:12:14.370820Z",
     "start_time": "2021-06-14T09:12:14.366519Z"
    }
   },
   "outputs": [],
   "source": [
    "y_train=rolling_df_train['total_points']\n",
    "y_test=rolling_df_test['total_points']\n"
   ]
  },
  {
   "cell_type": "code",
   "execution_count": 179,
   "id": "bf5ca4b0",
   "metadata": {
    "ExecuteTime": {
     "end_time": "2021-06-14T09:12:14.923721Z",
     "start_time": "2021-06-14T09:12:14.373244Z"
    }
   },
   "outputs": [
    {
     "data": {
      "text/plain": [
       "0.8055243956568945"
      ]
     },
     "execution_count": 179,
     "metadata": {},
     "output_type": "execute_result"
    }
   ],
   "source": [
    "from sklearn.ensemble import GradientBoostingRegressor\n",
    "from sklearn.model_selection import GridSearchCV\n",
    "from sklearn.metrics import mean_absolute_error\n",
    "from sklearn.model_selection import cross_val_score\n",
    "\n",
    "reg = GradientBoostingRegressor(random_state=0,loss='ls')\n",
    "reg.fit(X_train, y_train)\n",
    "y_pred=reg.predict(X_test)\n",
    "\n",
    "mean_absolute_error(y_test,y_pred)"
   ]
  },
  {
   "cell_type": "code",
   "execution_count": 180,
   "id": "232029d9",
   "metadata": {
    "ExecuteTime": {
     "end_time": "2021-06-14T09:12:17.178965Z",
     "start_time": "2021-06-14T09:12:14.926148Z"
    }
   },
   "outputs": [
    {
     "data": {
      "text/plain": [
       "0.4075126326230887"
      ]
     },
     "execution_count": 180,
     "metadata": {},
     "output_type": "execute_result"
    }
   ],
   "source": [
    "result=cross_val_score(reg, X_train, y_train).mean()\n",
    "\n",
    "result"
   ]
  },
  {
   "cell_type": "code",
   "execution_count": null,
   "id": "c86cab3f",
   "metadata": {},
   "outputs": [],
   "source": []
  },
  {
   "cell_type": "code",
   "execution_count": 181,
   "id": "93aafb5d",
   "metadata": {
    "ExecuteTime": {
     "end_time": "2021-06-14T09:12:17.187050Z",
     "start_time": "2021-06-14T09:12:17.181483Z"
    }
   },
   "outputs": [
    {
     "name": "stderr",
     "output_type": "stream",
     "text": [
      "<ipython-input-181-9c4b9cdd679b>:1: SettingWithCopyWarning: \n",
      "A value is trying to be set on a copy of a slice from a DataFrame.\n",
      "Try using .loc[row_indexer,col_indexer] = value instead\n",
      "\n",
      "See the caveats in the documentation: https://pandas.pydata.org/pandas-docs/stable/user_guide/indexing.html#returning-a-view-versus-a-copy\n",
      "  hold_test['y_pred']=y_pred\n"
     ]
    }
   ],
   "source": [
    "hold_test['y_pred']=y_pred"
   ]
  },
  {
   "cell_type": "code",
   "execution_count": 182,
   "id": "2163c61e",
   "metadata": {
    "ExecuteTime": {
     "end_time": "2021-06-14T09:12:17.195491Z",
     "start_time": "2021-06-14T09:12:17.189781Z"
    }
   },
   "outputs": [
    {
     "name": "stderr",
     "output_type": "stream",
     "text": [
      "<ipython-input-182-088461d3fca5>:1: SettingWithCopyWarning: \n",
      "A value is trying to be set on a copy of a slice from a DataFrame.\n",
      "Try using .loc[row_indexer,col_indexer] = value instead\n",
      "\n",
      "See the caveats in the documentation: https://pandas.pydata.org/pandas-docs/stable/user_guide/indexing.html#returning-a-view-versus-a-copy\n",
      "  hold_test['y_test']=y_test\n"
     ]
    }
   ],
   "source": [
    "hold_test['y_test']=y_test"
   ]
  },
  {
   "cell_type": "code",
   "execution_count": 183,
   "id": "7fc332ac",
   "metadata": {
    "ExecuteTime": {
     "end_time": "2021-06-14T09:12:17.212027Z",
     "start_time": "2021-06-14T09:12:17.198456Z"
    }
   },
   "outputs": [
    {
     "data": {
      "text/html": [
       "<div>\n",
       "<style scoped>\n",
       "    .dataframe tbody tr th:only-of-type {\n",
       "        vertical-align: middle;\n",
       "    }\n",
       "\n",
       "    .dataframe tbody tr th {\n",
       "        vertical-align: top;\n",
       "    }\n",
       "\n",
       "    .dataframe thead th {\n",
       "        text-align: right;\n",
       "    }\n",
       "</style>\n",
       "<table border=\"1\" class=\"dataframe\">\n",
       "  <thead>\n",
       "    <tr style=\"text-align: right;\">\n",
       "      <th></th>\n",
       "      <th>name</th>\n",
       "      <th>GW</th>\n",
       "      <th>season</th>\n",
       "      <th>y_pred</th>\n",
       "      <th>y_test</th>\n",
       "    </tr>\n",
       "  </thead>\n",
       "  <tbody>\n",
       "    <tr>\n",
       "      <th>231</th>\n",
       "      <td>hugo lloris</td>\n",
       "      <td>32</td>\n",
       "      <td>21</td>\n",
       "      <td>3.050993</td>\n",
       "      <td>3</td>\n",
       "    </tr>\n",
       "    <tr>\n",
       "      <th>232</th>\n",
       "      <td>hugo lloris</td>\n",
       "      <td>32</td>\n",
       "      <td>21</td>\n",
       "      <td>2.560910</td>\n",
       "      <td>3</td>\n",
       "    </tr>\n",
       "    <tr>\n",
       "      <th>233</th>\n",
       "      <td>hugo lloris</td>\n",
       "      <td>34</td>\n",
       "      <td>21</td>\n",
       "      <td>2.626814</td>\n",
       "      <td>6</td>\n",
       "    </tr>\n",
       "    <tr>\n",
       "      <th>234</th>\n",
       "      <td>hugo lloris</td>\n",
       "      <td>35</td>\n",
       "      <td>21</td>\n",
       "      <td>3.505624</td>\n",
       "      <td>2</td>\n",
       "    </tr>\n",
       "    <tr>\n",
       "      <th>235</th>\n",
       "      <td>hugo lloris</td>\n",
       "      <td>36</td>\n",
       "      <td>21</td>\n",
       "      <td>3.645984</td>\n",
       "      <td>8</td>\n",
       "    </tr>\n",
       "    <tr>\n",
       "      <th>236</th>\n",
       "      <td>hugo lloris</td>\n",
       "      <td>37</td>\n",
       "      <td>21</td>\n",
       "      <td>3.472874</td>\n",
       "      <td>2</td>\n",
       "    </tr>\n",
       "    <tr>\n",
       "      <th>237</th>\n",
       "      <td>hugo lloris</td>\n",
       "      <td>38</td>\n",
       "      <td>21</td>\n",
       "      <td>3.112888</td>\n",
       "      <td>2</td>\n",
       "    </tr>\n",
       "  </tbody>\n",
       "</table>\n",
       "</div>"
      ],
      "text/plain": [
       "            name  GW  season    y_pred  y_test\n",
       "231  hugo lloris  32      21  3.050993       3\n",
       "232  hugo lloris  32      21  2.560910       3\n",
       "233  hugo lloris  34      21  2.626814       6\n",
       "234  hugo lloris  35      21  3.505624       2\n",
       "235  hugo lloris  36      21  3.645984       8\n",
       "236  hugo lloris  37      21  3.472874       2\n",
       "237  hugo lloris  38      21  3.112888       2"
      ]
     },
     "execution_count": 183,
     "metadata": {},
     "output_type": "execute_result"
    }
   ],
   "source": [
    "hold_test[hold_test['name']=='hugo lloris']"
   ]
  },
  {
   "cell_type": "code",
   "execution_count": 184,
   "id": "2199ca69",
   "metadata": {
    "ExecuteTime": {
     "end_time": "2021-06-14T09:12:17.227563Z",
     "start_time": "2021-06-14T09:12:17.215320Z"
    },
    "scrolled": true
   },
   "outputs": [
    {
     "data": {
      "text/html": [
       "<div>\n",
       "<style scoped>\n",
       "    .dataframe tbody tr th:only-of-type {\n",
       "        vertical-align: middle;\n",
       "    }\n",
       "\n",
       "    .dataframe tbody tr th {\n",
       "        vertical-align: top;\n",
       "    }\n",
       "\n",
       "    .dataframe thead th {\n",
       "        text-align: right;\n",
       "    }\n",
       "</style>\n",
       "<table border=\"1\" class=\"dataframe\">\n",
       "  <thead>\n",
       "    <tr style=\"text-align: right;\">\n",
       "      <th></th>\n",
       "      <th>name</th>\n",
       "      <th>GW</th>\n",
       "      <th>season</th>\n",
       "      <th>y_pred</th>\n",
       "      <th>y_test</th>\n",
       "    </tr>\n",
       "  </thead>\n",
       "  <tbody>\n",
       "    <tr>\n",
       "      <th>135</th>\n",
       "      <td>david de gea</td>\n",
       "      <td>32</td>\n",
       "      <td>21</td>\n",
       "      <td>1.113616</td>\n",
       "      <td>0</td>\n",
       "    </tr>\n",
       "    <tr>\n",
       "      <th>136</th>\n",
       "      <td>david de gea</td>\n",
       "      <td>33</td>\n",
       "      <td>21</td>\n",
       "      <td>1.019918</td>\n",
       "      <td>0</td>\n",
       "    </tr>\n",
       "    <tr>\n",
       "      <th>137</th>\n",
       "      <td>david de gea</td>\n",
       "      <td>35</td>\n",
       "      <td>21</td>\n",
       "      <td>1.024166</td>\n",
       "      <td>0</td>\n",
       "    </tr>\n",
       "    <tr>\n",
       "      <th>138</th>\n",
       "      <td>david de gea</td>\n",
       "      <td>35</td>\n",
       "      <td>21</td>\n",
       "      <td>1.766816</td>\n",
       "      <td>1</td>\n",
       "    </tr>\n",
       "    <tr>\n",
       "      <th>139</th>\n",
       "      <td>david de gea</td>\n",
       "      <td>35</td>\n",
       "      <td>21</td>\n",
       "      <td>3.448488</td>\n",
       "      <td>0</td>\n",
       "    </tr>\n",
       "    <tr>\n",
       "      <th>140</th>\n",
       "      <td>david de gea</td>\n",
       "      <td>37</td>\n",
       "      <td>21</td>\n",
       "      <td>1.775449</td>\n",
       "      <td>3</td>\n",
       "    </tr>\n",
       "    <tr>\n",
       "      <th>141</th>\n",
       "      <td>david de gea</td>\n",
       "      <td>38</td>\n",
       "      <td>21</td>\n",
       "      <td>3.370477</td>\n",
       "      <td>0</td>\n",
       "    </tr>\n",
       "  </tbody>\n",
       "</table>\n",
       "</div>"
      ],
      "text/plain": [
       "             name  GW  season    y_pred  y_test\n",
       "135  david de gea  32      21  1.113616       0\n",
       "136  david de gea  33      21  1.019918       0\n",
       "137  david de gea  35      21  1.024166       0\n",
       "138  david de gea  35      21  1.766816       1\n",
       "139  david de gea  35      21  3.448488       0\n",
       "140  david de gea  37      21  1.775449       3\n",
       "141  david de gea  38      21  3.370477       0"
      ]
     },
     "execution_count": 184,
     "metadata": {},
     "output_type": "execute_result"
    }
   ],
   "source": [
    "hold_test[hold_test['name']=='david de gea']"
   ]
  },
  {
   "cell_type": "code",
   "execution_count": 185,
   "id": "5307a892",
   "metadata": {
    "ExecuteTime": {
     "end_time": "2021-06-14T09:12:17.443057Z",
     "start_time": "2021-06-14T09:12:17.230630Z"
    },
    "scrolled": true
   },
   "outputs": [
    {
     "data": {
      "text/plain": [
       "<matplotlib.legend.Legend at 0x15a8621f0>"
      ]
     },
     "execution_count": 185,
     "metadata": {},
     "output_type": "execute_result"
    },
    {
     "data": {
      "image/png": "[encoded data removed]",
      "text/plain": [
       "<Figure size 432x288 with 1 Axes>"
      ]
     },
     "metadata": {
      "needs_background": "light"
     },
     "output_type": "display_data"
    }
   ],
   "source": [
    "hold_df=hold_test.copy()\n",
    "plt.plot(hold_df[hold_df['name']=='dean henderson']['GW'],np.abs(hold_df[hold_df['name']=='dean henderson']['y_pred']-hold_df[hold_df['name']=='dean henderson']['y_test']),label='dean henderson')\n",
    "plt.plot(hold_df[hold_df['name']=='david de gea']['GW'],np.abs(hold_df[hold_df['name']=='david de gea']['y_pred']-hold_df[hold_df['name']=='david de gea']['y_test']),label='david de gea')\n",
    "plt.plot(hold_df[hold_df['name']=='hugo lloris']['GW'],np.abs(hold_df[hold_df['name']=='hugo lloris']['y_pred']-hold_df[hold_df['name']=='hugo lloris']['y_test']),label='hugo lloris')\n",
    "plt.plot(hold_df[hold_df['name']=='aaron ramsdale']['GW'],np.abs(hold_df[hold_df['name']=='aaron ramsdale']['y_pred']-hold_df[hold_df['name']=='aaron ramsdale']['y_test']),label='aaron ramsdale')\n",
    "plt.plot([28,30,32,34,36,38],[0.789761366302951,0.789761366302951,0.789761366302951,0.789761366302951,0.789761366302951,0.789761366302951],label='model')\n",
    "plt.legend()"
   ]
  },
  {
   "cell_type": "code",
   "execution_count": 186,
   "id": "f1fc202b",
   "metadata": {
    "ExecuteTime": {
     "end_time": "2021-06-14T09:12:17.459319Z",
     "start_time": "2021-06-14T09:12:17.446616Z"
    },
    "scrolled": false
   },
   "outputs": [
    {
     "data": {
      "text/html": [
       "<div>\n",
       "<style scoped>\n",
       "    .dataframe tbody tr th:only-of-type {\n",
       "        vertical-align: middle;\n",
       "    }\n",
       "\n",
       "    .dataframe tbody tr th {\n",
       "        vertical-align: top;\n",
       "    }\n",
       "\n",
       "    .dataframe thead th {\n",
       "        text-align: right;\n",
       "    }\n",
       "</style>\n",
       "<table border=\"1\" class=\"dataframe\">\n",
       "  <thead>\n",
       "    <tr style=\"text-align: right;\">\n",
       "      <th></th>\n",
       "      <th>name</th>\n",
       "      <th>GW</th>\n",
       "      <th>season</th>\n",
       "      <th>y_pred</th>\n",
       "      <th>y_test</th>\n",
       "    </tr>\n",
       "  </thead>\n",
       "  <tbody>\n",
       "    <tr>\n",
       "      <th>163</th>\n",
       "      <td>ederson santana de moraes</td>\n",
       "      <td>37</td>\n",
       "      <td>21</td>\n",
       "      <td>6.065956</td>\n",
       "      <td>2</td>\n",
       "    </tr>\n",
       "    <tr>\n",
       "      <th>188</th>\n",
       "      <td>emiliano martínez</td>\n",
       "      <td>37</td>\n",
       "      <td>21</td>\n",
       "      <td>4.857791</td>\n",
       "      <td>3</td>\n",
       "    </tr>\n",
       "    <tr>\n",
       "      <th>318</th>\n",
       "      <td>jordan pickford</td>\n",
       "      <td>37</td>\n",
       "      <td>21</td>\n",
       "      <td>3.671651</td>\n",
       "      <td>7</td>\n",
       "    </tr>\n",
       "    <tr>\n",
       "      <th>244</th>\n",
       "      <td>illan meslier</td>\n",
       "      <td>37</td>\n",
       "      <td>21</td>\n",
       "      <td>3.566330</td>\n",
       "      <td>0</td>\n",
       "    </tr>\n",
       "    <tr>\n",
       "      <th>236</th>\n",
       "      <td>hugo lloris</td>\n",
       "      <td>37</td>\n",
       "      <td>21</td>\n",
       "      <td>3.472874</td>\n",
       "      <td>2</td>\n",
       "    </tr>\n",
       "  </tbody>\n",
       "</table>\n",
       "</div>"
      ],
      "text/plain": [
       "                          name  GW  season    y_pred  y_test\n",
       "163  ederson santana de moraes  37      21  6.065956       2\n",
       "188          emiliano martínez  37      21  4.857791       3\n",
       "318            jordan pickford  37      21  3.671651       7\n",
       "244              illan meslier  37      21  3.566330       0\n",
       "236                hugo lloris  37      21  3.472874       2"
      ]
     },
     "execution_count": 186,
     "metadata": {},
     "output_type": "execute_result"
    }
   ],
   "source": [
    "hold_df[hold_df['GW']==37].sort_values(by='y_pred',ascending=False).head(5)"
   ]
  },
  {
   "cell_type": "code",
   "execution_count": 187,
   "id": "2f51455d",
   "metadata": {
    "ExecuteTime": {
     "end_time": "2021-06-14T09:12:17.473886Z",
     "start_time": "2021-06-14T09:12:17.461906Z"
    },
    "scrolled": true
   },
   "outputs": [
    {
     "data": {
      "text/html": [
       "<div>\n",
       "<style scoped>\n",
       "    .dataframe tbody tr th:only-of-type {\n",
       "        vertical-align: middle;\n",
       "    }\n",
       "\n",
       "    .dataframe tbody tr th {\n",
       "        vertical-align: top;\n",
       "    }\n",
       "\n",
       "    .dataframe thead th {\n",
       "        text-align: right;\n",
       "    }\n",
       "</style>\n",
       "<table border=\"1\" class=\"dataframe\">\n",
       "  <thead>\n",
       "    <tr style=\"text-align: right;\">\n",
       "      <th></th>\n",
       "      <th>name</th>\n",
       "      <th>GW</th>\n",
       "      <th>season</th>\n",
       "      <th>y_pred</th>\n",
       "      <th>y_test</th>\n",
       "    </tr>\n",
       "  </thead>\n",
       "  <tbody>\n",
       "    <tr>\n",
       "      <th>164</th>\n",
       "      <td>ederson santana de moraes</td>\n",
       "      <td>38</td>\n",
       "      <td>21</td>\n",
       "      <td>4.245209</td>\n",
       "      <td>12</td>\n",
       "    </tr>\n",
       "    <tr>\n",
       "      <th>7</th>\n",
       "      <td>aaron ramsdale</td>\n",
       "      <td>38</td>\n",
       "      <td>21</td>\n",
       "      <td>3.490157</td>\n",
       "      <td>9</td>\n",
       "    </tr>\n",
       "    <tr>\n",
       "      <th>393</th>\n",
       "      <td>lukasz fabianski</td>\n",
       "      <td>38</td>\n",
       "      <td>21</td>\n",
       "      <td>1.753277</td>\n",
       "      <td>9</td>\n",
       "    </tr>\n",
       "    <tr>\n",
       "      <th>31</th>\n",
       "      <td>alisson ramses becker</td>\n",
       "      <td>38</td>\n",
       "      <td>21</td>\n",
       "      <td>2.749378</td>\n",
       "      <td>8</td>\n",
       "    </tr>\n",
       "    <tr>\n",
       "      <th>423</th>\n",
       "      <td>martin dubravka</td>\n",
       "      <td>38</td>\n",
       "      <td>21</td>\n",
       "      <td>3.476485</td>\n",
       "      <td>7</td>\n",
       "    </tr>\n",
       "  </tbody>\n",
       "</table>\n",
       "</div>"
      ],
      "text/plain": [
       "                          name  GW  season    y_pred  y_test\n",
       "164  ederson santana de moraes  38      21  4.245209      12\n",
       "7               aaron ramsdale  38      21  3.490157       9\n",
       "393           lukasz fabianski  38      21  1.753277       9\n",
       "31       alisson ramses becker  38      21  2.749378       8\n",
       "423            martin dubravka  38      21  3.476485       7"
      ]
     },
     "execution_count": 187,
     "metadata": {},
     "output_type": "execute_result"
    }
   ],
   "source": [
    "hold_df[hold_df['GW']==38].sort_values(by='y_test',ascending=False).head(5)"
   ]
  },
  {
   "cell_type": "code",
   "execution_count": 203,
   "id": "66e13de7",
   "metadata": {
    "ExecuteTime": {
     "end_time": "2021-06-14T09:12:49.783201Z",
     "start_time": "2021-06-14T09:12:49.739086Z"
    },
    "scrolled": false
   },
   "outputs": [
    {
     "data": {
      "text/html": [
       "<div>\n",
       "<style scoped>\n",
       "    .dataframe tbody tr th:only-of-type {\n",
       "        vertical-align: middle;\n",
       "    }\n",
       "\n",
       "    .dataframe tbody tr th {\n",
       "        vertical-align: top;\n",
       "    }\n",
       "\n",
       "    .dataframe thead th {\n",
       "        text-align: right;\n",
       "    }\n",
       "</style>\n",
       "<table border=\"1\" class=\"dataframe\">\n",
       "  <thead>\n",
       "    <tr style=\"text-align: right;\">\n",
       "      <th></th>\n",
       "      <th>name</th>\n",
       "      <th>GW</th>\n",
       "      <th>season</th>\n",
       "      <th>y_pred</th>\n",
       "      <th>y_test</th>\n",
       "    </tr>\n",
       "  </thead>\n",
       "  <tbody>\n",
       "    <tr>\n",
       "      <th>534</th>\n",
       "      <td>sam johnstone</td>\n",
       "      <td>34</td>\n",
       "      <td>21</td>\n",
       "      <td>4.6</td>\n",
       "      <td>7</td>\n",
       "    </tr>\n",
       "    <tr>\n",
       "      <th>168</th>\n",
       "      <td>edouard mendy</td>\n",
       "      <td>34</td>\n",
       "      <td>21</td>\n",
       "      <td>3.4</td>\n",
       "      <td>7</td>\n",
       "    </tr>\n",
       "    <tr>\n",
       "      <th>169</th>\n",
       "      <td>edouard mendy</td>\n",
       "      <td>35</td>\n",
       "      <td>21</td>\n",
       "      <td>1.8</td>\n",
       "      <td>11</td>\n",
       "    </tr>\n",
       "    <tr>\n",
       "      <th>27</th>\n",
       "      <td>alisson ramses becker</td>\n",
       "      <td>35</td>\n",
       "      <td>21</td>\n",
       "      <td>2.4</td>\n",
       "      <td>10</td>\n",
       "    </tr>\n",
       "    <tr>\n",
       "      <th>5</th>\n",
       "      <td>aaron ramsdale</td>\n",
       "      <td>36</td>\n",
       "      <td>21</td>\n",
       "      <td>3.8</td>\n",
       "      <td>10</td>\n",
       "    </tr>\n",
       "    <tr>\n",
       "      <th>29</th>\n",
       "      <td>alisson ramses becker</td>\n",
       "      <td>36</td>\n",
       "      <td>21</td>\n",
       "      <td>3.0</td>\n",
       "      <td>10</td>\n",
       "    </tr>\n",
       "    <tr>\n",
       "      <th>203</th>\n",
       "      <td>francisco casilla cortés</td>\n",
       "      <td>37</td>\n",
       "      <td>21</td>\n",
       "      <td>0.0</td>\n",
       "      <td>9</td>\n",
       "    </tr>\n",
       "    <tr>\n",
       "      <th>422</th>\n",
       "      <td>martin dubravka</td>\n",
       "      <td>37</td>\n",
       "      <td>21</td>\n",
       "      <td>4.2</td>\n",
       "      <td>7</td>\n",
       "    </tr>\n",
       "    <tr>\n",
       "      <th>164</th>\n",
       "      <td>ederson santana de moraes</td>\n",
       "      <td>38</td>\n",
       "      <td>21</td>\n",
       "      <td>4.4</td>\n",
       "      <td>12</td>\n",
       "    </tr>\n",
       "    <tr>\n",
       "      <th>7</th>\n",
       "      <td>aaron ramsdale</td>\n",
       "      <td>38</td>\n",
       "      <td>21</td>\n",
       "      <td>4.4</td>\n",
       "      <td>9</td>\n",
       "    </tr>\n",
       "  </tbody>\n",
       "</table>\n",
       "</div>"
      ],
      "text/plain": [
       "                          name  GW  season  y_pred  y_test\n",
       "534              sam johnstone  34      21     4.6       7\n",
       "168              edouard mendy  34      21     3.4       7\n",
       "169              edouard mendy  35      21     1.8      11\n",
       "27       alisson ramses becker  35      21     2.4      10\n",
       "5               aaron ramsdale  36      21     3.8      10\n",
       "29       alisson ramses becker  36      21     3.0      10\n",
       "203   francisco casilla cortés  37      21     0.0       9\n",
       "422            martin dubravka  37      21     4.2       7\n",
       "164  ederson santana de moraes  38      21     4.4      12\n",
       "7               aaron ramsdale  38      21     4.4       9"
      ]
     },
     "execution_count": 203,
     "metadata": {},
     "output_type": "execute_result"
    }
   ],
   "source": [
    "GW_list=[35,36,37,38]\n",
    "top_predicted_gk=hold_df[hold_df['GW']==34].sort_values(by='y_pred',ascending=False).head(2)\n",
    "for GW in GW_list:\n",
    "    df1=hold_df[hold_df['GW']==GW].sort_values(by='y_pred',ascending=False).head(2)\n",
    "    top_predicted_gk=pd.concat([top_predicted_gk,df1])\n",
    "top_predicted_gk\n",
    "\n",
    "\n",
    "GW_list=[35,36,37,38]\n",
    "top_actual_gk=hold_df[hold_df['GW']==34].sort_values(by='y_test',ascending=False).head(2)\n",
    "for GW in GW_list:\n",
    "    df1=hold_df[hold_df['GW']==GW].sort_values(by='y_test',ascending=False).head(2)\n",
    "    top_actual_gk=pd.concat([top_actual_gk,df1])\n",
    "top_actual_gk"
   ]
  },
  {
   "cell_type": "markdown",
   "id": "8a964263",
   "metadata": {},
   "source": [
    "### KNN"
   ]
  },
  {
   "cell_type": "code",
   "execution_count": 204,
   "id": "73febde3",
   "metadata": {
    "ExecuteTime": {
     "end_time": "2021-06-14T09:13:02.875993Z",
     "start_time": "2021-06-14T09:13:02.869091Z"
    }
   },
   "outputs": [],
   "source": [
    "X_train=rolling_df_train.drop(columns='total_points')\n",
    "X_test=rolling_df_test.drop(columns='total_points')\n",
    "\n",
    "y_train=rolling_df_train['total_points']\n",
    "y_test=rolling_df_test['total_points']"
   ]
  },
  {
   "cell_type": "code",
   "execution_count": 205,
   "id": "23f53ebd",
   "metadata": {
    "ExecuteTime": {
     "end_time": "2021-06-14T09:13:04.287644Z",
     "start_time": "2021-06-14T09:13:04.249320Z"
    }
   },
   "outputs": [
    {
     "data": {
      "text/html": [
       "<div>\n",
       "<style scoped>\n",
       "    .dataframe tbody tr th:only-of-type {\n",
       "        vertical-align: middle;\n",
       "    }\n",
       "\n",
       "    .dataframe tbody tr th {\n",
       "        vertical-align: top;\n",
       "    }\n",
       "\n",
       "    .dataframe thead th {\n",
       "        text-align: right;\n",
       "    }\n",
       "</style>\n",
       "<table border=\"1\" class=\"dataframe\">\n",
       "  <thead>\n",
       "    <tr style=\"text-align: right;\">\n",
       "      <th></th>\n",
       "      <th>bps</th>\n",
       "      <th>clean_sheets</th>\n",
       "      <th>goals_conceded</th>\n",
       "      <th>ict_index</th>\n",
       "      <th>minutes</th>\n",
       "      <th>saves</th>\n",
       "      <th>selected</th>\n",
       "      <th>rolling_points</th>\n",
       "      <th>transfers_balance</th>\n",
       "      <th>value</th>\n",
       "      <th>cards</th>\n",
       "      <th>penalty_saves</th>\n",
       "      <th>was_home</th>\n",
       "      <th>opponent_level</th>\n",
       "      <th>team_level</th>\n",
       "      <th>time</th>\n",
       "    </tr>\n",
       "  </thead>\n",
       "  <tbody>\n",
       "    <tr>\n",
       "      <th>34</th>\n",
       "      <td>0.0</td>\n",
       "      <td>0.0</td>\n",
       "      <td>0.0</td>\n",
       "      <td>0.0</td>\n",
       "      <td>0.0</td>\n",
       "      <td>0.0</td>\n",
       "      <td>7198.0</td>\n",
       "      <td>0.0</td>\n",
       "      <td>-99.0</td>\n",
       "      <td>40.0</td>\n",
       "      <td>0.0</td>\n",
       "      <td>0.009804</td>\n",
       "      <td>1</td>\n",
       "      <td>1200.0</td>\n",
       "      <td>1020.0</td>\n",
       "      <td>14</td>\n",
       "    </tr>\n",
       "    <tr>\n",
       "      <th>35</th>\n",
       "      <td>11.0</td>\n",
       "      <td>0.0</td>\n",
       "      <td>1.0</td>\n",
       "      <td>1.0</td>\n",
       "      <td>90.0</td>\n",
       "      <td>2.0</td>\n",
       "      <td>3091.0</td>\n",
       "      <td>2.0</td>\n",
       "      <td>0.0</td>\n",
       "      <td>45.0</td>\n",
       "      <td>0.0</td>\n",
       "      <td>0.009804</td>\n",
       "      <td>0</td>\n",
       "      <td>1020.0</td>\n",
       "      <td>1020.0</td>\n",
       "      <td>14</td>\n",
       "    </tr>\n",
       "    <tr>\n",
       "      <th>36</th>\n",
       "      <td>24.0</td>\n",
       "      <td>0.0</td>\n",
       "      <td>1.0</td>\n",
       "      <td>4.0</td>\n",
       "      <td>90.0</td>\n",
       "      <td>6.0</td>\n",
       "      <td>8566.0</td>\n",
       "      <td>4.0</td>\n",
       "      <td>2802.0</td>\n",
       "      <td>45.0</td>\n",
       "      <td>0.0</td>\n",
       "      <td>0.009804</td>\n",
       "      <td>1</td>\n",
       "      <td>1340.0</td>\n",
       "      <td>1020.0</td>\n",
       "      <td>13</td>\n",
       "    </tr>\n",
       "    <tr>\n",
       "      <th>37</th>\n",
       "      <td>12.0</td>\n",
       "      <td>0.0</td>\n",
       "      <td>3.0</td>\n",
       "      <td>1.9</td>\n",
       "      <td>90.0</td>\n",
       "      <td>2.0</td>\n",
       "      <td>13643.0</td>\n",
       "      <td>1.0</td>\n",
       "      <td>3236.0</td>\n",
       "      <td>45.0</td>\n",
       "      <td>0.0</td>\n",
       "      <td>0.009804</td>\n",
       "      <td>0</td>\n",
       "      <td>1210.0</td>\n",
       "      <td>1020.0</td>\n",
       "      <td>14</td>\n",
       "    </tr>\n",
       "    <tr>\n",
       "      <th>38</th>\n",
       "      <td>13.0</td>\n",
       "      <td>0.0</td>\n",
       "      <td>3.0</td>\n",
       "      <td>1.3</td>\n",
       "      <td>90.0</td>\n",
       "      <td>2.0</td>\n",
       "      <td>19406.0</td>\n",
       "      <td>1.0</td>\n",
       "      <td>4356.0</td>\n",
       "      <td>45.0</td>\n",
       "      <td>0.0</td>\n",
       "      <td>0.009804</td>\n",
       "      <td>1</td>\n",
       "      <td>1240.0</td>\n",
       "      <td>1020.0</td>\n",
       "      <td>13</td>\n",
       "    </tr>\n",
       "    <tr>\n",
       "      <th>...</th>\n",
       "      <td>...</td>\n",
       "      <td>...</td>\n",
       "      <td>...</td>\n",
       "      <td>...</td>\n",
       "      <td>...</td>\n",
       "      <td>...</td>\n",
       "      <td>...</td>\n",
       "      <td>...</td>\n",
       "      <td>...</td>\n",
       "      <td>...</td>\n",
       "      <td>...</td>\n",
       "      <td>...</td>\n",
       "      <td>...</td>\n",
       "      <td>...</td>\n",
       "      <td>...</td>\n",
       "      <td>...</td>\n",
       "    </tr>\n",
       "    <tr>\n",
       "      <th>11916</th>\n",
       "      <td>0.0</td>\n",
       "      <td>0.0</td>\n",
       "      <td>0.0</td>\n",
       "      <td>0.0</td>\n",
       "      <td>0.0</td>\n",
       "      <td>0.0</td>\n",
       "      <td>302548.0</td>\n",
       "      <td>0.0</td>\n",
       "      <td>-17075.0</td>\n",
       "      <td>40.0</td>\n",
       "      <td>0.0</td>\n",
       "      <td>0.000000</td>\n",
       "      <td>0</td>\n",
       "      <td>1000.0</td>\n",
       "      <td>1160.0</td>\n",
       "      <td>18</td>\n",
       "    </tr>\n",
       "    <tr>\n",
       "      <th>11917</th>\n",
       "      <td>0.0</td>\n",
       "      <td>0.0</td>\n",
       "      <td>0.0</td>\n",
       "      <td>0.0</td>\n",
       "      <td>0.0</td>\n",
       "      <td>0.0</td>\n",
       "      <td>302548.0</td>\n",
       "      <td>0.0</td>\n",
       "      <td>-17075.0</td>\n",
       "      <td>40.0</td>\n",
       "      <td>0.0</td>\n",
       "      <td>0.000000</td>\n",
       "      <td>1</td>\n",
       "      <td>1110.0</td>\n",
       "      <td>1100.0</td>\n",
       "      <td>17</td>\n",
       "    </tr>\n",
       "    <tr>\n",
       "      <th>11918</th>\n",
       "      <td>0.0</td>\n",
       "      <td>0.0</td>\n",
       "      <td>0.0</td>\n",
       "      <td>0.0</td>\n",
       "      <td>0.0</td>\n",
       "      <td>0.0</td>\n",
       "      <td>299689.0</td>\n",
       "      <td>0.0</td>\n",
       "      <td>-3834.0</td>\n",
       "      <td>40.0</td>\n",
       "      <td>0.0</td>\n",
       "      <td>0.000000</td>\n",
       "      <td>0</td>\n",
       "      <td>1050.0</td>\n",
       "      <td>1160.0</td>\n",
       "      <td>20</td>\n",
       "    </tr>\n",
       "    <tr>\n",
       "      <th>11919</th>\n",
       "      <td>0.0</td>\n",
       "      <td>0.0</td>\n",
       "      <td>0.0</td>\n",
       "      <td>0.0</td>\n",
       "      <td>0.0</td>\n",
       "      <td>0.0</td>\n",
       "      <td>295984.0</td>\n",
       "      <td>0.0</td>\n",
       "      <td>-3714.0</td>\n",
       "      <td>40.0</td>\n",
       "      <td>0.0</td>\n",
       "      <td>0.000000</td>\n",
       "      <td>1</td>\n",
       "      <td>1250.0</td>\n",
       "      <td>1100.0</td>\n",
       "      <td>19</td>\n",
       "    </tr>\n",
       "    <tr>\n",
       "      <th>11920</th>\n",
       "      <td>0.0</td>\n",
       "      <td>0.0</td>\n",
       "      <td>0.0</td>\n",
       "      <td>0.0</td>\n",
       "      <td>0.0</td>\n",
       "      <td>0.0</td>\n",
       "      <td>289804.0</td>\n",
       "      <td>0.0</td>\n",
       "      <td>-3430.0</td>\n",
       "      <td>40.0</td>\n",
       "      <td>0.0</td>\n",
       "      <td>0.000000</td>\n",
       "      <td>1</td>\n",
       "      <td>1100.0</td>\n",
       "      <td>1100.0</td>\n",
       "      <td>15</td>\n",
       "    </tr>\n",
       "  </tbody>\n",
       "</table>\n",
       "<p>4640 rows × 16 columns</p>\n",
       "</div>"
      ],
      "text/plain": [
       "        bps  clean_sheets  goals_conceded  ict_index  minutes  saves  \\\n",
       "34      0.0           0.0             0.0        0.0      0.0    0.0   \n",
       "35     11.0           0.0             1.0        1.0     90.0    2.0   \n",
       "36     24.0           0.0             1.0        4.0     90.0    6.0   \n",
       "37     12.0           0.0             3.0        1.9     90.0    2.0   \n",
       "38     13.0           0.0             3.0        1.3     90.0    2.0   \n",
       "...     ...           ...             ...        ...      ...    ...   \n",
       "11916   0.0           0.0             0.0        0.0      0.0    0.0   \n",
       "11917   0.0           0.0             0.0        0.0      0.0    0.0   \n",
       "11918   0.0           0.0             0.0        0.0      0.0    0.0   \n",
       "11919   0.0           0.0             0.0        0.0      0.0    0.0   \n",
       "11920   0.0           0.0             0.0        0.0      0.0    0.0   \n",
       "\n",
       "       selected  rolling_points  transfers_balance  value  cards  \\\n",
       "34       7198.0             0.0              -99.0   40.0    0.0   \n",
       "35       3091.0             2.0                0.0   45.0    0.0   \n",
       "36       8566.0             4.0             2802.0   45.0    0.0   \n",
       "37      13643.0             1.0             3236.0   45.0    0.0   \n",
       "38      19406.0             1.0             4356.0   45.0    0.0   \n",
       "...         ...             ...                ...    ...    ...   \n",
       "11916  302548.0             0.0           -17075.0   40.0    0.0   \n",
       "11917  302548.0             0.0           -17075.0   40.0    0.0   \n",
       "11918  299689.0             0.0            -3834.0   40.0    0.0   \n",
       "11919  295984.0             0.0            -3714.0   40.0    0.0   \n",
       "11920  289804.0             0.0            -3430.0   40.0    0.0   \n",
       "\n",
       "       penalty_saves  was_home  opponent_level  team_level  time  \n",
       "34          0.009804         1          1200.0      1020.0    14  \n",
       "35          0.009804         0          1020.0      1020.0    14  \n",
       "36          0.009804         1          1340.0      1020.0    13  \n",
       "37          0.009804         0          1210.0      1020.0    14  \n",
       "38          0.009804         1          1240.0      1020.0    13  \n",
       "...              ...       ...             ...         ...   ...  \n",
       "11916       0.000000         0          1000.0      1160.0    18  \n",
       "11917       0.000000         1          1110.0      1100.0    17  \n",
       "11918       0.000000         0          1050.0      1160.0    20  \n",
       "11919       0.000000         1          1250.0      1100.0    19  \n",
       "11920       0.000000         1          1100.0      1100.0    15  \n",
       "\n",
       "[4640 rows x 16 columns]"
      ]
     },
     "execution_count": 205,
     "metadata": {},
     "output_type": "execute_result"
    }
   ],
   "source": [
    "X_train"
   ]
  },
  {
   "cell_type": "code",
   "execution_count": 206,
   "id": "16f2d96b",
   "metadata": {
    "ExecuteTime": {
     "end_time": "2021-06-14T09:13:08.224058Z",
     "start_time": "2021-06-14T09:13:08.210231Z"
    }
   },
   "outputs": [],
   "source": [
    "from sklearn.preprocessing import MinMaxScaler\n",
    "\n",
    "scaler = MinMaxScaler()\n",
    "scaler.fit(X_train)\n",
    "X_train=scaler.transform(X_train)\n",
    "X_test=scaler.transform(X_test)"
   ]
  },
  {
   "cell_type": "code",
   "execution_count": 207,
   "id": "7e7beb1a",
   "metadata": {
    "ExecuteTime": {
     "end_time": "2021-06-14T09:13:10.012016Z",
     "start_time": "2021-06-14T09:13:09.657109Z"
    }
   },
   "outputs": [
    {
     "data": {
      "text/plain": [
       "0.3721028486920326"
      ]
     },
     "execution_count": 207,
     "metadata": {},
     "output_type": "execute_result"
    }
   ],
   "source": [
    "from sklearn.neighbors import KNeighborsRegressor\n",
    "from sklearn.model_selection import GridSearchCV\n",
    "\n",
    "reg = KNeighborsRegressor()\n",
    "reg.fit(X_train, y_train)\n",
    "\n",
    "result=cross_val_score(reg, X_train, y_train).mean()\n",
    "\n",
    "result\n"
   ]
  },
  {
   "cell_type": "code",
   "execution_count": 208,
   "id": "519d493e",
   "metadata": {
    "ExecuteTime": {
     "end_time": "2021-06-14T09:13:24.327297Z",
     "start_time": "2021-06-14T09:13:24.262177Z"
    }
   },
   "outputs": [
    {
     "data": {
      "text/plain": [
       "0.849642857142857"
      ]
     },
     "execution_count": 208,
     "metadata": {},
     "output_type": "execute_result"
    }
   ],
   "source": [
    "y_pred=reg.predict(X_test)\n",
    "\n",
    "mean_absolute_error(y_test,y_pred)"
   ]
  },
  {
   "cell_type": "code",
   "execution_count": null,
   "id": "07812200",
   "metadata": {},
   "outputs": [],
   "source": []
  },
  {
   "cell_type": "code",
   "execution_count": 209,
   "id": "70ccb5de",
   "metadata": {
    "ExecuteTime": {
     "end_time": "2021-06-14T09:13:29.836941Z",
     "start_time": "2021-06-14T09:13:29.830052Z"
    }
   },
   "outputs": [
    {
     "name": "stderr",
     "output_type": "stream",
     "text": [
      "<ipython-input-209-9c4b9cdd679b>:1: SettingWithCopyWarning: \n",
      "A value is trying to be set on a copy of a slice from a DataFrame.\n",
      "Try using .loc[row_indexer,col_indexer] = value instead\n",
      "\n",
      "See the caveats in the documentation: https://pandas.pydata.org/pandas-docs/stable/user_guide/indexing.html#returning-a-view-versus-a-copy\n",
      "  hold_test['y_pred']=y_pred\n"
     ]
    }
   ],
   "source": [
    "hold_test['y_pred']=y_pred"
   ]
  },
  {
   "cell_type": "code",
   "execution_count": 210,
   "id": "b08a42d5",
   "metadata": {
    "ExecuteTime": {
     "end_time": "2021-06-14T09:13:32.441012Z",
     "start_time": "2021-06-14T09:13:32.436978Z"
    }
   },
   "outputs": [
    {
     "name": "stderr",
     "output_type": "stream",
     "text": [
      "<ipython-input-210-088461d3fca5>:1: SettingWithCopyWarning: \n",
      "A value is trying to be set on a copy of a slice from a DataFrame.\n",
      "Try using .loc[row_indexer,col_indexer] = value instead\n",
      "\n",
      "See the caveats in the documentation: https://pandas.pydata.org/pandas-docs/stable/user_guide/indexing.html#returning-a-view-versus-a-copy\n",
      "  hold_test['y_test']=y_test\n"
     ]
    }
   ],
   "source": [
    "hold_test['y_test']=y_test"
   ]
  },
  {
   "cell_type": "code",
   "execution_count": 211,
   "id": "c21d35a6",
   "metadata": {
    "ExecuteTime": {
     "end_time": "2021-06-14T09:13:35.047438Z",
     "start_time": "2021-06-14T09:13:35.025338Z"
    }
   },
   "outputs": [
    {
     "data": {
      "text/html": [
       "<div>\n",
       "<style scoped>\n",
       "    .dataframe tbody tr th:only-of-type {\n",
       "        vertical-align: middle;\n",
       "    }\n",
       "\n",
       "    .dataframe tbody tr th {\n",
       "        vertical-align: top;\n",
       "    }\n",
       "\n",
       "    .dataframe thead th {\n",
       "        text-align: right;\n",
       "    }\n",
       "</style>\n",
       "<table border=\"1\" class=\"dataframe\">\n",
       "  <thead>\n",
       "    <tr style=\"text-align: right;\">\n",
       "      <th></th>\n",
       "      <th>name</th>\n",
       "      <th>GW</th>\n",
       "      <th>season</th>\n",
       "      <th>y_pred</th>\n",
       "      <th>y_test</th>\n",
       "    </tr>\n",
       "  </thead>\n",
       "  <tbody>\n",
       "    <tr>\n",
       "      <th>231</th>\n",
       "      <td>hugo lloris</td>\n",
       "      <td>32</td>\n",
       "      <td>21</td>\n",
       "      <td>4.0</td>\n",
       "      <td>3</td>\n",
       "    </tr>\n",
       "    <tr>\n",
       "      <th>232</th>\n",
       "      <td>hugo lloris</td>\n",
       "      <td>32</td>\n",
       "      <td>21</td>\n",
       "      <td>2.8</td>\n",
       "      <td>3</td>\n",
       "    </tr>\n",
       "    <tr>\n",
       "      <th>233</th>\n",
       "      <td>hugo lloris</td>\n",
       "      <td>34</td>\n",
       "      <td>21</td>\n",
       "      <td>2.4</td>\n",
       "      <td>6</td>\n",
       "    </tr>\n",
       "    <tr>\n",
       "      <th>234</th>\n",
       "      <td>hugo lloris</td>\n",
       "      <td>35</td>\n",
       "      <td>21</td>\n",
       "      <td>3.4</td>\n",
       "      <td>2</td>\n",
       "    </tr>\n",
       "    <tr>\n",
       "      <th>235</th>\n",
       "      <td>hugo lloris</td>\n",
       "      <td>36</td>\n",
       "      <td>21</td>\n",
       "      <td>4.0</td>\n",
       "      <td>8</td>\n",
       "    </tr>\n",
       "    <tr>\n",
       "      <th>236</th>\n",
       "      <td>hugo lloris</td>\n",
       "      <td>37</td>\n",
       "      <td>21</td>\n",
       "      <td>3.4</td>\n",
       "      <td>2</td>\n",
       "    </tr>\n",
       "    <tr>\n",
       "      <th>237</th>\n",
       "      <td>hugo lloris</td>\n",
       "      <td>38</td>\n",
       "      <td>21</td>\n",
       "      <td>4.2</td>\n",
       "      <td>2</td>\n",
       "    </tr>\n",
       "  </tbody>\n",
       "</table>\n",
       "</div>"
      ],
      "text/plain": [
       "            name  GW  season  y_pred  y_test\n",
       "231  hugo lloris  32      21     4.0       3\n",
       "232  hugo lloris  32      21     2.8       3\n",
       "233  hugo lloris  34      21     2.4       6\n",
       "234  hugo lloris  35      21     3.4       2\n",
       "235  hugo lloris  36      21     4.0       8\n",
       "236  hugo lloris  37      21     3.4       2\n",
       "237  hugo lloris  38      21     4.2       2"
      ]
     },
     "execution_count": 211,
     "metadata": {},
     "output_type": "execute_result"
    }
   ],
   "source": [
    "hold_test[hold_test['name']=='hugo lloris']"
   ]
  },
  {
   "cell_type": "code",
   "execution_count": 212,
   "id": "6ed3d5b8",
   "metadata": {
    "ExecuteTime": {
     "end_time": "2021-06-14T09:13:38.399943Z",
     "start_time": "2021-06-14T09:13:38.374200Z"
    },
    "scrolled": true
   },
   "outputs": [
    {
     "data": {
      "text/html": [
       "<div>\n",
       "<style scoped>\n",
       "    .dataframe tbody tr th:only-of-type {\n",
       "        vertical-align: middle;\n",
       "    }\n",
       "\n",
       "    .dataframe tbody tr th {\n",
       "        vertical-align: top;\n",
       "    }\n",
       "\n",
       "    .dataframe thead th {\n",
       "        text-align: right;\n",
       "    }\n",
       "</style>\n",
       "<table border=\"1\" class=\"dataframe\">\n",
       "  <thead>\n",
       "    <tr style=\"text-align: right;\">\n",
       "      <th></th>\n",
       "      <th>name</th>\n",
       "      <th>GW</th>\n",
       "      <th>season</th>\n",
       "      <th>y_pred</th>\n",
       "      <th>y_test</th>\n",
       "    </tr>\n",
       "  </thead>\n",
       "  <tbody>\n",
       "    <tr>\n",
       "      <th>135</th>\n",
       "      <td>david de gea</td>\n",
       "      <td>32</td>\n",
       "      <td>21</td>\n",
       "      <td>0.0</td>\n",
       "      <td>0</td>\n",
       "    </tr>\n",
       "    <tr>\n",
       "      <th>136</th>\n",
       "      <td>david de gea</td>\n",
       "      <td>33</td>\n",
       "      <td>21</td>\n",
       "      <td>0.0</td>\n",
       "      <td>0</td>\n",
       "    </tr>\n",
       "    <tr>\n",
       "      <th>137</th>\n",
       "      <td>david de gea</td>\n",
       "      <td>35</td>\n",
       "      <td>21</td>\n",
       "      <td>0.4</td>\n",
       "      <td>0</td>\n",
       "    </tr>\n",
       "    <tr>\n",
       "      <th>138</th>\n",
       "      <td>david de gea</td>\n",
       "      <td>35</td>\n",
       "      <td>21</td>\n",
       "      <td>0.0</td>\n",
       "      <td>1</td>\n",
       "    </tr>\n",
       "    <tr>\n",
       "      <th>139</th>\n",
       "      <td>david de gea</td>\n",
       "      <td>35</td>\n",
       "      <td>21</td>\n",
       "      <td>5.0</td>\n",
       "      <td>0</td>\n",
       "    </tr>\n",
       "    <tr>\n",
       "      <th>140</th>\n",
       "      <td>david de gea</td>\n",
       "      <td>37</td>\n",
       "      <td>21</td>\n",
       "      <td>0.2</td>\n",
       "      <td>3</td>\n",
       "    </tr>\n",
       "    <tr>\n",
       "      <th>141</th>\n",
       "      <td>david de gea</td>\n",
       "      <td>38</td>\n",
       "      <td>21</td>\n",
       "      <td>1.6</td>\n",
       "      <td>0</td>\n",
       "    </tr>\n",
       "  </tbody>\n",
       "</table>\n",
       "</div>"
      ],
      "text/plain": [
       "             name  GW  season  y_pred  y_test\n",
       "135  david de gea  32      21     0.0       0\n",
       "136  david de gea  33      21     0.0       0\n",
       "137  david de gea  35      21     0.4       0\n",
       "138  david de gea  35      21     0.0       1\n",
       "139  david de gea  35      21     5.0       0\n",
       "140  david de gea  37      21     0.2       3\n",
       "141  david de gea  38      21     1.6       0"
      ]
     },
     "execution_count": 212,
     "metadata": {},
     "output_type": "execute_result"
    }
   ],
   "source": [
    "hold_test[hold_test['name']=='david de gea']"
   ]
  },
  {
   "cell_type": "code",
   "execution_count": 213,
   "id": "ff51c070",
   "metadata": {
    "ExecuteTime": {
     "end_time": "2021-06-14T09:13:42.141866Z",
     "start_time": "2021-06-14T09:13:41.915419Z"
    },
    "scrolled": true
   },
   "outputs": [
    {
     "data": {
      "text/plain": [
       "<matplotlib.legend.Legend at 0x15b25a790>"
      ]
     },
     "execution_count": 213,
     "metadata": {},
     "output_type": "execute_result"
    },
    {
     "data": {
      "image/png": "[encoded data removed]",
      "text/plain": [
       "<Figure size 432x288 with 1 Axes>"
      ]
     },
     "metadata": {
      "needs_background": "light"
     },
     "output_type": "display_data"
    }
   ],
   "source": [
    "hold_df=hold_test.copy()\n",
    "plt.plot(hold_df[hold_df['name']=='dean henderson']['GW'],np.abs(hold_df[hold_df['name']=='dean henderson']['y_pred']-hold_df[hold_df['name']=='dean henderson']['y_test']),label='dean henderson')\n",
    "plt.plot(hold_df[hold_df['name']=='david de gea']['GW'],np.abs(hold_df[hold_df['name']=='david de gea']['y_pred']-hold_df[hold_df['name']=='david de gea']['y_test']),label='david de gea')\n",
    "plt.plot(hold_df[hold_df['name']=='hugo lloris']['GW'],np.abs(hold_df[hold_df['name']=='hugo lloris']['y_pred']-hold_df[hold_df['name']=='hugo lloris']['y_test']),label='hugo lloris')\n",
    "plt.plot(hold_df[hold_df['name']=='aaron ramsdale']['GW'],np.abs(hold_df[hold_df['name']=='aaron ramsdale']['y_pred']-hold_df[hold_df['name']=='aaron ramsdale']['y_test']),label='aaron ramsdale')\n",
    "plt.plot([28,30,32,34,36,38],[0.789761366302951,0.789761366302951,0.789761366302951,0.789761366302951,0.789761366302951,0.789761366302951],label='model')\n",
    "plt.legend()"
   ]
  },
  {
   "cell_type": "code",
   "execution_count": 214,
   "id": "f81ca10f",
   "metadata": {
    "ExecuteTime": {
     "end_time": "2021-06-14T09:13:46.643850Z",
     "start_time": "2021-06-14T09:13:46.624890Z"
    },
    "scrolled": false
   },
   "outputs": [
    {
     "data": {
      "text/html": [
       "<div>\n",
       "<style scoped>\n",
       "    .dataframe tbody tr th:only-of-type {\n",
       "        vertical-align: middle;\n",
       "    }\n",
       "\n",
       "    .dataframe tbody tr th {\n",
       "        vertical-align: top;\n",
       "    }\n",
       "\n",
       "    .dataframe thead th {\n",
       "        text-align: right;\n",
       "    }\n",
       "</style>\n",
       "<table border=\"1\" class=\"dataframe\">\n",
       "  <thead>\n",
       "    <tr style=\"text-align: right;\">\n",
       "      <th></th>\n",
       "      <th>name</th>\n",
       "      <th>GW</th>\n",
       "      <th>season</th>\n",
       "      <th>y_pred</th>\n",
       "      <th>y_test</th>\n",
       "    </tr>\n",
       "  </thead>\n",
       "  <tbody>\n",
       "    <tr>\n",
       "      <th>188</th>\n",
       "      <td>emiliano martínez</td>\n",
       "      <td>37</td>\n",
       "      <td>21</td>\n",
       "      <td>5.2</td>\n",
       "      <td>3</td>\n",
       "    </tr>\n",
       "    <tr>\n",
       "      <th>494</th>\n",
       "      <td>robert sánchez</td>\n",
       "      <td>37</td>\n",
       "      <td>21</td>\n",
       "      <td>5.2</td>\n",
       "      <td>0</td>\n",
       "    </tr>\n",
       "    <tr>\n",
       "      <th>244</th>\n",
       "      <td>illan meslier</td>\n",
       "      <td>37</td>\n",
       "      <td>21</td>\n",
       "      <td>5.0</td>\n",
       "      <td>0</td>\n",
       "    </tr>\n",
       "    <tr>\n",
       "      <th>422</th>\n",
       "      <td>martin dubravka</td>\n",
       "      <td>37</td>\n",
       "      <td>21</td>\n",
       "      <td>4.2</td>\n",
       "      <td>7</td>\n",
       "    </tr>\n",
       "    <tr>\n",
       "      <th>537</th>\n",
       "      <td>sam johnstone</td>\n",
       "      <td>37</td>\n",
       "      <td>21</td>\n",
       "      <td>4.0</td>\n",
       "      <td>2</td>\n",
       "    </tr>\n",
       "  </tbody>\n",
       "</table>\n",
       "</div>"
      ],
      "text/plain": [
       "                  name  GW  season  y_pred  y_test\n",
       "188  emiliano martínez  37      21     5.2       3\n",
       "494     robert sánchez  37      21     5.2       0\n",
       "244      illan meslier  37      21     5.0       0\n",
       "422    martin dubravka  37      21     4.2       7\n",
       "537      sam johnstone  37      21     4.0       2"
      ]
     },
     "execution_count": 214,
     "metadata": {},
     "output_type": "execute_result"
    }
   ],
   "source": [
    "hold_df[hold_df['GW']==37].sort_values(by='y_pred',ascending=False).head(5)"
   ]
  },
  {
   "cell_type": "code",
   "execution_count": 215,
   "id": "7c4d7cce",
   "metadata": {
    "ExecuteTime": {
     "end_time": "2021-06-14T09:13:50.441225Z",
     "start_time": "2021-06-14T09:13:50.425540Z"
    },
    "scrolled": true
   },
   "outputs": [
    {
     "data": {
      "text/html": [
       "<div>\n",
       "<style scoped>\n",
       "    .dataframe tbody tr th:only-of-type {\n",
       "        vertical-align: middle;\n",
       "    }\n",
       "\n",
       "    .dataframe tbody tr th {\n",
       "        vertical-align: top;\n",
       "    }\n",
       "\n",
       "    .dataframe thead th {\n",
       "        text-align: right;\n",
       "    }\n",
       "</style>\n",
       "<table border=\"1\" class=\"dataframe\">\n",
       "  <thead>\n",
       "    <tr style=\"text-align: right;\">\n",
       "      <th></th>\n",
       "      <th>name</th>\n",
       "      <th>GW</th>\n",
       "      <th>season</th>\n",
       "      <th>y_pred</th>\n",
       "      <th>y_test</th>\n",
       "    </tr>\n",
       "  </thead>\n",
       "  <tbody>\n",
       "    <tr>\n",
       "      <th>164</th>\n",
       "      <td>ederson santana de moraes</td>\n",
       "      <td>38</td>\n",
       "      <td>21</td>\n",
       "      <td>4.4</td>\n",
       "      <td>12</td>\n",
       "    </tr>\n",
       "    <tr>\n",
       "      <th>7</th>\n",
       "      <td>aaron ramsdale</td>\n",
       "      <td>38</td>\n",
       "      <td>21</td>\n",
       "      <td>4.4</td>\n",
       "      <td>9</td>\n",
       "    </tr>\n",
       "    <tr>\n",
       "      <th>393</th>\n",
       "      <td>lukasz fabianski</td>\n",
       "      <td>38</td>\n",
       "      <td>21</td>\n",
       "      <td>0.0</td>\n",
       "      <td>9</td>\n",
       "    </tr>\n",
       "    <tr>\n",
       "      <th>31</th>\n",
       "      <td>alisson ramses becker</td>\n",
       "      <td>38</td>\n",
       "      <td>21</td>\n",
       "      <td>2.8</td>\n",
       "      <td>8</td>\n",
       "    </tr>\n",
       "    <tr>\n",
       "      <th>423</th>\n",
       "      <td>martin dubravka</td>\n",
       "      <td>38</td>\n",
       "      <td>21</td>\n",
       "      <td>4.0</td>\n",
       "      <td>7</td>\n",
       "    </tr>\n",
       "  </tbody>\n",
       "</table>\n",
       "</div>"
      ],
      "text/plain": [
       "                          name  GW  season  y_pred  y_test\n",
       "164  ederson santana de moraes  38      21     4.4      12\n",
       "7               aaron ramsdale  38      21     4.4       9\n",
       "393           lukasz fabianski  38      21     0.0       9\n",
       "31       alisson ramses becker  38      21     2.8       8\n",
       "423            martin dubravka  38      21     4.0       7"
      ]
     },
     "execution_count": 215,
     "metadata": {},
     "output_type": "execute_result"
    }
   ],
   "source": [
    "hold_df[hold_df['GW']==38].sort_values(by='y_test',ascending=False).head(5)"
   ]
  },
  {
   "cell_type": "markdown",
   "id": "d1120a8e",
   "metadata": {},
   "source": [
    "# Top 11 predicted players for each gameweek"
   ]
  },
  {
   "cell_type": "code",
   "execution_count": 245,
   "id": "c06a1e0e",
   "metadata": {
    "ExecuteTime": {
     "end_time": "2021-06-14T09:32:53.435661Z",
     "start_time": "2021-06-14T09:32:53.429237Z"
    }
   },
   "outputs": [],
   "source": [
    "positions=['FWD']*15+['MID']*25+['DEF']*25+['GK']*10"
   ]
  },
  {
   "cell_type": "code",
   "execution_count": 246,
   "id": "16c3c9e9",
   "metadata": {
    "ExecuteTime": {
     "end_time": "2021-06-14T09:32:54.691028Z",
     "start_time": "2021-06-14T09:32:54.685744Z"
    }
   },
   "outputs": [
    {
     "name": "stdout",
     "output_type": "stream",
     "text": [
      "(15, 5)\n",
      "(25, 5)\n",
      "(25, 5)\n",
      "(10, 5)\n",
      "(15, 5)\n",
      "(25, 5)\n",
      "(25, 5)\n",
      "(10, 5)\n"
     ]
    }
   ],
   "source": [
    "print(top_predicted_fwd.shape)\n",
    "print(top_predicted_mid.shape)\n",
    "print(top_predicted_def.shape)\n",
    "print(top_predicted_gk.shape)\n",
    "print(top_actual_fwd.shape)\n",
    "print(top_actual_mid.shape)\n",
    "print(top_actual_def.shape)\n",
    "print(top_actual_gk.shape)\n",
    "\n",
    "\n",
    "\n"
   ]
  },
  {
   "cell_type": "code",
   "execution_count": 247,
   "id": "74677eed",
   "metadata": {
    "ExecuteTime": {
     "end_time": "2021-06-14T09:32:59.864719Z",
     "start_time": "2021-06-14T09:32:59.842336Z"
    },
    "scrolled": false
   },
   "outputs": [
    {
     "data": {
      "text/html": [
       "<div>\n",
       "<style scoped>\n",
       "    .dataframe tbody tr th:only-of-type {\n",
       "        vertical-align: middle;\n",
       "    }\n",
       "\n",
       "    .dataframe tbody tr th {\n",
       "        vertical-align: top;\n",
       "    }\n",
       "\n",
       "    .dataframe thead th {\n",
       "        text-align: right;\n",
       "    }\n",
       "</style>\n",
       "<table border=\"1\" class=\"dataframe\">\n",
       "  <thead>\n",
       "    <tr style=\"text-align: right;\">\n",
       "      <th></th>\n",
       "      <th>season</th>\n",
       "      <th>y_pred</th>\n",
       "      <th>y_test</th>\n",
       "    </tr>\n",
       "    <tr>\n",
       "      <th>GW</th>\n",
       "      <th></th>\n",
       "      <th></th>\n",
       "      <th></th>\n",
       "    </tr>\n",
       "  </thead>\n",
       "  <tbody>\n",
       "    <tr>\n",
       "      <th>34</th>\n",
       "      <td>315</td>\n",
       "      <td>72.764292</td>\n",
       "      <td>61</td>\n",
       "    </tr>\n",
       "    <tr>\n",
       "      <th>35</th>\n",
       "      <td>315</td>\n",
       "      <td>82.265476</td>\n",
       "      <td>89</td>\n",
       "    </tr>\n",
       "    <tr>\n",
       "      <th>36</th>\n",
       "      <td>315</td>\n",
       "      <td>75.793807</td>\n",
       "      <td>59</td>\n",
       "    </tr>\n",
       "    <tr>\n",
       "      <th>37</th>\n",
       "      <td>315</td>\n",
       "      <td>74.054897</td>\n",
       "      <td>60</td>\n",
       "    </tr>\n",
       "    <tr>\n",
       "      <th>38</th>\n",
       "      <td>315</td>\n",
       "      <td>72.331458</td>\n",
       "      <td>59</td>\n",
       "    </tr>\n",
       "  </tbody>\n",
       "</table>\n",
       "</div>"
      ],
      "text/plain": [
       "    season     y_pred  y_test\n",
       "GW                           \n",
       "34     315  72.764292      61\n",
       "35     315  82.265476      89\n",
       "36     315  75.793807      59\n",
       "37     315  74.054897      60\n",
       "38     315  72.331458      59"
      ]
     },
     "execution_count": 247,
     "metadata": {},
     "output_type": "execute_result"
    }
   ],
   "source": [
    "predicted=[top_predicted_fwd, top_predicted_mid, top_predicted_def, top_predicted_gk]\n",
    "\n",
    "actual=[top_actual_fwd, top_actual_mid, top_actual_def, top_actual_gk]\n",
    "\n",
    "top_predicted = pd.concat(predicted)\n",
    "top_actual = pd.concat(actual)\n",
    "\n",
    "top_predicted.groupby('GW').sum()"
   ]
  },
  {
   "cell_type": "code",
   "execution_count": 248,
   "id": "bee7b25b",
   "metadata": {
    "ExecuteTime": {
     "end_time": "2021-06-14T09:33:27.065729Z",
     "start_time": "2021-06-14T09:33:27.058254Z"
    }
   },
   "outputs": [],
   "source": [
    "top_predicted['pos']=positions"
   ]
  },
  {
   "cell_type": "code",
   "execution_count": 249,
   "id": "a2b0422d",
   "metadata": {
    "ExecuteTime": {
     "end_time": "2021-06-14T09:33:38.204664Z",
     "start_time": "2021-06-14T09:33:38.200340Z"
    }
   },
   "outputs": [],
   "source": [
    "top_actual['pos']=positions"
   ]
  },
  {
   "cell_type": "code",
   "execution_count": 254,
   "id": "b248e5c8",
   "metadata": {
    "ExecuteTime": {
     "end_time": "2021-06-14T09:43:59.221651Z",
     "start_time": "2021-06-14T09:43:59.199782Z"
    },
    "scrolled": false
   },
   "outputs": [
    {
     "data": {
      "text/html": [
       "<div>\n",
       "<style scoped>\n",
       "    .dataframe tbody tr th:only-of-type {\n",
       "        vertical-align: middle;\n",
       "    }\n",
       "\n",
       "    .dataframe tbody tr th {\n",
       "        vertical-align: top;\n",
       "    }\n",
       "\n",
       "    .dataframe thead th {\n",
       "        text-align: right;\n",
       "    }\n",
       "</style>\n",
       "<table border=\"1\" class=\"dataframe\">\n",
       "  <thead>\n",
       "    <tr style=\"text-align: right;\">\n",
       "      <th></th>\n",
       "      <th>season</th>\n",
       "      <th>y_pred</th>\n",
       "      <th>y_test</th>\n",
       "    </tr>\n",
       "    <tr>\n",
       "      <th>GW</th>\n",
       "      <th></th>\n",
       "      <th></th>\n",
       "      <th></th>\n",
       "    </tr>\n",
       "  </thead>\n",
       "  <tbody>\n",
       "    <tr>\n",
       "      <th>34</th>\n",
       "      <td>315</td>\n",
       "      <td>42.086602</td>\n",
       "      <td>167</td>\n",
       "    </tr>\n",
       "    <tr>\n",
       "      <th>35</th>\n",
       "      <td>315</td>\n",
       "      <td>37.846077</td>\n",
       "      <td>168</td>\n",
       "    </tr>\n",
       "    <tr>\n",
       "      <th>36</th>\n",
       "      <td>315</td>\n",
       "      <td>44.750187</td>\n",
       "      <td>172</td>\n",
       "    </tr>\n",
       "    <tr>\n",
       "      <th>37</th>\n",
       "      <td>315</td>\n",
       "      <td>40.951145</td>\n",
       "      <td>156</td>\n",
       "    </tr>\n",
       "    <tr>\n",
       "      <th>38</th>\n",
       "      <td>315</td>\n",
       "      <td>47.932980</td>\n",
       "      <td>186</td>\n",
       "    </tr>\n",
       "  </tbody>\n",
       "</table>\n",
       "</div>"
      ],
      "text/plain": [
       "    season     y_pred  y_test\n",
       "GW                           \n",
       "34     315  42.086602     167\n",
       "35     315  37.846077     168\n",
       "36     315  44.750187     172\n",
       "37     315  40.951145     156\n",
       "38     315  47.932980     186"
      ]
     },
     "execution_count": 254,
     "metadata": {},
     "output_type": "execute_result"
    }
   ],
   "source": [
    "top_actual.groupby('GW').sum()"
   ]
  },
  {
   "cell_type": "code",
   "execution_count": 257,
   "id": "304cc58b",
   "metadata": {
    "ExecuteTime": {
     "end_time": "2021-06-14T09:45:17.957706Z",
     "start_time": "2021-06-14T09:45:17.947524Z"
    },
    "scrolled": true
   },
   "outputs": [
    {
     "data": {
      "text/plain": [
       "328"
      ]
     },
     "execution_count": 257,
     "metadata": {},
     "output_type": "execute_result"
    }
   ],
   "source": [
    "top_predicted['y_test'].sum()"
   ]
  },
  {
   "cell_type": "code",
   "execution_count": 225,
   "id": "b0d26972",
   "metadata": {
    "ExecuteTime": {
     "end_time": "2021-06-14T09:24:34.037442Z",
     "start_time": "2021-06-14T09:24:34.030642Z"
    }
   },
   "outputs": [
    {
     "data": {
      "text/plain": [
       "849"
      ]
     },
     "execution_count": 225,
     "metadata": {},
     "output_type": "execute_result"
    }
   ],
   "source": [
    "top_actual['y_test'].sum()"
   ]
  },
  {
   "cell_type": "code",
   "execution_count": 226,
   "id": "d613fed8",
   "metadata": {
    "ExecuteTime": {
     "end_time": "2021-06-14T09:24:52.789537Z",
     "start_time": "2021-06-14T09:24:52.783540Z"
    }
   },
   "outputs": [
    {
     "data": {
      "text/plain": [
       "521"
      ]
     },
     "execution_count": 226,
     "metadata": {},
     "output_type": "execute_result"
    }
   ],
   "source": [
    "849-328"
   ]
  },
  {
   "cell_type": "code",
   "execution_count": 381,
   "id": "ed8e9816",
   "metadata": {
    "ExecuteTime": {
     "end_time": "2021-06-14T13:19:26.568690Z",
     "start_time": "2021-06-14T13:19:26.546512Z"
    },
    "scrolled": false
   },
   "outputs": [
    {
     "data": {
      "text/html": [
       "<div>\n",
       "<style scoped>\n",
       "    .dataframe tbody tr th:only-of-type {\n",
       "        vertical-align: middle;\n",
       "    }\n",
       "\n",
       "    .dataframe tbody tr th {\n",
       "        vertical-align: top;\n",
       "    }\n",
       "\n",
       "    .dataframe thead th {\n",
       "        text-align: right;\n",
       "    }\n",
       "</style>\n",
       "<table border=\"1\" class=\"dataframe\">\n",
       "  <thead>\n",
       "    <tr style=\"text-align: right;\">\n",
       "      <th></th>\n",
       "      <th>name</th>\n",
       "      <th>GW</th>\n",
       "      <th>season</th>\n",
       "      <th>y_pred</th>\n",
       "      <th>y_test</th>\n",
       "      <th>pos</th>\n",
       "    </tr>\n",
       "  </thead>\n",
       "  <tbody>\n",
       "    <tr>\n",
       "      <th>406</th>\n",
       "      <td>gareth bale</td>\n",
       "      <td>34</td>\n",
       "      <td>21</td>\n",
       "      <td>3.797842</td>\n",
       "      <td>21</td>\n",
       "      <td>MID</td>\n",
       "    </tr>\n",
       "    <tr>\n",
       "      <th>771</th>\n",
       "      <td>kai havertz</td>\n",
       "      <td>34</td>\n",
       "      <td>21</td>\n",
       "      <td>4.078725</td>\n",
       "      <td>16</td>\n",
       "      <td>MID</td>\n",
       "    </tr>\n",
       "    <tr>\n",
       "      <th>1126</th>\n",
       "      <td>pierre-emerick aubameyang</td>\n",
       "      <td>34</td>\n",
       "      <td>21</td>\n",
       "      <td>0.582917</td>\n",
       "      <td>12</td>\n",
       "      <td>MID</td>\n",
       "    </tr>\n",
       "    <tr>\n",
       "      <th>482</th>\n",
       "      <td>heung-min son</td>\n",
       "      <td>34</td>\n",
       "      <td>21</td>\n",
       "      <td>6.075437</td>\n",
       "      <td>12</td>\n",
       "      <td>MID</td>\n",
       "    </tr>\n",
       "    <tr>\n",
       "      <th>981</th>\n",
       "      <td>mohamed naser el sayed elneny</td>\n",
       "      <td>34</td>\n",
       "      <td>21</td>\n",
       "      <td>0.819089</td>\n",
       "      <td>11</td>\n",
       "      <td>MID</td>\n",
       "    </tr>\n",
       "    <tr>\n",
       "      <th>534</th>\n",
       "      <td>sam johnstone</td>\n",
       "      <td>34</td>\n",
       "      <td>21</td>\n",
       "      <td>4.600000</td>\n",
       "      <td>7</td>\n",
       "      <td>GK</td>\n",
       "    </tr>\n",
       "    <tr>\n",
       "      <th>168</th>\n",
       "      <td>edouard mendy</td>\n",
       "      <td>34</td>\n",
       "      <td>21</td>\n",
       "      <td>3.400000</td>\n",
       "      <td>7</td>\n",
       "      <td>GK</td>\n",
       "    </tr>\n",
       "    <tr>\n",
       "      <th>328</th>\n",
       "      <td>michail antonio</td>\n",
       "      <td>34</td>\n",
       "      <td>21</td>\n",
       "      <td>0.590040</td>\n",
       "      <td>13</td>\n",
       "      <td>FWD</td>\n",
       "    </tr>\n",
       "    <tr>\n",
       "      <th>125</th>\n",
       "      <td>danny welbeck</td>\n",
       "      <td>34</td>\n",
       "      <td>21</td>\n",
       "      <td>3.147722</td>\n",
       "      <td>12</td>\n",
       "      <td>FWD</td>\n",
       "    </tr>\n",
       "    <tr>\n",
       "      <th>140</th>\n",
       "      <td>dominic calvert-lewin</td>\n",
       "      <td>34</td>\n",
       "      <td>21</td>\n",
       "      <td>2.046661</td>\n",
       "      <td>8</td>\n",
       "      <td>FWD</td>\n",
       "    </tr>\n",
       "    <tr>\n",
       "      <th>1066</th>\n",
       "      <td>serge aurier</td>\n",
       "      <td>34</td>\n",
       "      <td>21</td>\n",
       "      <td>2.974589</td>\n",
       "      <td>14</td>\n",
       "      <td>DEF</td>\n",
       "    </tr>\n",
       "    <tr>\n",
       "      <th>591</th>\n",
       "      <td>jonny evans</td>\n",
       "      <td>34</td>\n",
       "      <td>21</td>\n",
       "      <td>3.121507</td>\n",
       "      <td>10</td>\n",
       "      <td>DEF</td>\n",
       "    </tr>\n",
       "    <tr>\n",
       "      <th>446</th>\n",
       "      <td>héctor bellerín</td>\n",
       "      <td>34</td>\n",
       "      <td>21</td>\n",
       "      <td>1.057925</td>\n",
       "      <td>8</td>\n",
       "      <td>DEF</td>\n",
       "    </tr>\n",
       "    <tr>\n",
       "      <th>45</th>\n",
       "      <td>andreas christensen</td>\n",
       "      <td>34</td>\n",
       "      <td>21</td>\n",
       "      <td>3.151537</td>\n",
       "      <td>8</td>\n",
       "      <td>DEF</td>\n",
       "    </tr>\n",
       "    <tr>\n",
       "      <th>886</th>\n",
       "      <td>nélson cabral semedo</td>\n",
       "      <td>34</td>\n",
       "      <td>21</td>\n",
       "      <td>2.642611</td>\n",
       "      <td>8</td>\n",
       "      <td>DEF</td>\n",
       "    </tr>\n",
       "  </tbody>\n",
       "</table>\n",
       "</div>"
      ],
      "text/plain": [
       "                               name  GW  season    y_pred  y_test  pos\n",
       "406                     gareth bale  34      21  3.797842      21  MID\n",
       "771                     kai havertz  34      21  4.078725      16  MID\n",
       "1126      pierre-emerick aubameyang  34      21  0.582917      12  MID\n",
       "482                   heung-min son  34      21  6.075437      12  MID\n",
       "981   mohamed naser el sayed elneny  34      21  0.819089      11  MID\n",
       "534                   sam johnstone  34      21  4.600000       7   GK\n",
       "168                   edouard mendy  34      21  3.400000       7   GK\n",
       "328                 michail antonio  34      21  0.590040      13  FWD\n",
       "125                   danny welbeck  34      21  3.147722      12  FWD\n",
       "140           dominic calvert-lewin  34      21  2.046661       8  FWD\n",
       "1066                   serge aurier  34      21  2.974589      14  DEF\n",
       "591                     jonny evans  34      21  3.121507      10  DEF\n",
       "446                 héctor bellerín  34      21  1.057925       8  DEF\n",
       "45              andreas christensen  34      21  3.151537       8  DEF\n",
       "886            nélson cabral semedo  34      21  2.642611       8  DEF"
      ]
     },
     "execution_count": 381,
     "metadata": {},
     "output_type": "execute_result"
    }
   ],
   "source": [
    "top_actual[top_actual.GW==34].sort_values('pos',ascending=False)"
   ]
  },
  {
   "cell_type": "code",
   "execution_count": 360,
   "id": "0639e3c8",
   "metadata": {
    "ExecuteTime": {
     "end_time": "2021-06-14T11:00:56.832232Z",
     "start_time": "2021-06-14T11:00:56.817366Z"
    }
   },
   "outputs": [
    {
     "data": {
      "text/html": [
       "<div>\n",
       "<style scoped>\n",
       "    .dataframe tbody tr th:only-of-type {\n",
       "        vertical-align: middle;\n",
       "    }\n",
       "\n",
       "    .dataframe tbody tr th {\n",
       "        vertical-align: top;\n",
       "    }\n",
       "\n",
       "    .dataframe thead th {\n",
       "        text-align: right;\n",
       "    }\n",
       "</style>\n",
       "<table border=\"1\" class=\"dataframe\">\n",
       "  <thead>\n",
       "    <tr style=\"text-align: right;\">\n",
       "      <th></th>\n",
       "      <th>name</th>\n",
       "      <th>GW</th>\n",
       "      <th>season</th>\n",
       "      <th>y_pred</th>\n",
       "      <th>y_test</th>\n",
       "      <th>pos</th>\n",
       "    </tr>\n",
       "  </thead>\n",
       "  <tbody>\n",
       "    <tr>\n",
       "      <th>482</th>\n",
       "      <td>heung-min son</td>\n",
       "      <td>34</td>\n",
       "      <td>21</td>\n",
       "      <td>6.075437</td>\n",
       "      <td>12</td>\n",
       "      <td>MID</td>\n",
       "    </tr>\n",
       "    <tr>\n",
       "      <th>901</th>\n",
       "      <td>mason mount</td>\n",
       "      <td>34</td>\n",
       "      <td>21</td>\n",
       "      <td>5.794932</td>\n",
       "      <td>6</td>\n",
       "      <td>MID</td>\n",
       "    </tr>\n",
       "    <tr>\n",
       "      <th>232</th>\n",
       "      <td>christian pulisic</td>\n",
       "      <td>34</td>\n",
       "      <td>21</td>\n",
       "      <td>5.020375</td>\n",
       "      <td>0</td>\n",
       "      <td>MID</td>\n",
       "    </tr>\n",
       "    <tr>\n",
       "      <th>771</th>\n",
       "      <td>kai havertz</td>\n",
       "      <td>34</td>\n",
       "      <td>21</td>\n",
       "      <td>4.078725</td>\n",
       "      <td>16</td>\n",
       "      <td>MID</td>\n",
       "    </tr>\n",
       "    <tr>\n",
       "      <th>670</th>\n",
       "      <td>jesse lingard</td>\n",
       "      <td>34</td>\n",
       "      <td>21</td>\n",
       "      <td>3.857403</td>\n",
       "      <td>2</td>\n",
       "      <td>MID</td>\n",
       "    </tr>\n",
       "    <tr>\n",
       "      <th>517</th>\n",
       "      <td>rui pedro dos santos patrício</td>\n",
       "      <td>34</td>\n",
       "      <td>21</td>\n",
       "      <td>5.200000</td>\n",
       "      <td>2</td>\n",
       "      <td>GK</td>\n",
       "    </tr>\n",
       "    <tr>\n",
       "      <th>184</th>\n",
       "      <td>emiliano martínez</td>\n",
       "      <td>34</td>\n",
       "      <td>21</td>\n",
       "      <td>5.000000</td>\n",
       "      <td>2</td>\n",
       "      <td>GK</td>\n",
       "    </tr>\n",
       "    <tr>\n",
       "      <th>191</th>\n",
       "      <td>harry kane</td>\n",
       "      <td>34</td>\n",
       "      <td>21</td>\n",
       "      <td>7.452984</td>\n",
       "      <td>2</td>\n",
       "      <td>FWD</td>\n",
       "    </tr>\n",
       "    <tr>\n",
       "      <th>207</th>\n",
       "      <td>jamie vardy</td>\n",
       "      <td>34</td>\n",
       "      <td>21</td>\n",
       "      <td>5.838458</td>\n",
       "      <td>2</td>\n",
       "      <td>FWD</td>\n",
       "    </tr>\n",
       "    <tr>\n",
       "      <th>268</th>\n",
       "      <td>kelechi iheanacho</td>\n",
       "      <td>34</td>\n",
       "      <td>21</td>\n",
       "      <td>5.701920</td>\n",
       "      <td>5</td>\n",
       "      <td>FWD</td>\n",
       "    </tr>\n",
       "    <tr>\n",
       "      <th>1123</th>\n",
       "      <td>timothy castagne</td>\n",
       "      <td>34</td>\n",
       "      <td>21</td>\n",
       "      <td>3.958717</td>\n",
       "      <td>2</td>\n",
       "      <td>DEF</td>\n",
       "    </tr>\n",
       "    <tr>\n",
       "      <th>69</th>\n",
       "      <td>antonio rüdiger</td>\n",
       "      <td>34</td>\n",
       "      <td>21</td>\n",
       "      <td>3.828786</td>\n",
       "      <td>0</td>\n",
       "      <td>DEF</td>\n",
       "    </tr>\n",
       "    <tr>\n",
       "      <th>724</th>\n",
       "      <td>lucas digne</td>\n",
       "      <td>34</td>\n",
       "      <td>21</td>\n",
       "      <td>3.774791</td>\n",
       "      <td>7</td>\n",
       "      <td>DEF</td>\n",
       "    </tr>\n",
       "    <tr>\n",
       "      <th>127</th>\n",
       "      <td>ben godfrey</td>\n",
       "      <td>34</td>\n",
       "      <td>21</td>\n",
       "      <td>3.616565</td>\n",
       "      <td>1</td>\n",
       "      <td>DEF</td>\n",
       "    </tr>\n",
       "    <tr>\n",
       "      <th>1000</th>\n",
       "      <td>romain saïss</td>\n",
       "      <td>34</td>\n",
       "      <td>21</td>\n",
       "      <td>3.565200</td>\n",
       "      <td>2</td>\n",
       "      <td>DEF</td>\n",
       "    </tr>\n",
       "  </tbody>\n",
       "</table>\n",
       "</div>"
      ],
      "text/plain": [
       "                               name  GW  season    y_pred  y_test  pos\n",
       "482                   heung-min son  34      21  6.075437      12  MID\n",
       "901                     mason mount  34      21  5.794932       6  MID\n",
       "232               christian pulisic  34      21  5.020375       0  MID\n",
       "771                     kai havertz  34      21  4.078725      16  MID\n",
       "670                   jesse lingard  34      21  3.857403       2  MID\n",
       "517   rui pedro dos santos patrício  34      21  5.200000       2   GK\n",
       "184               emiliano martínez  34      21  5.000000       2   GK\n",
       "191                      harry kane  34      21  7.452984       2  FWD\n",
       "207                     jamie vardy  34      21  5.838458       2  FWD\n",
       "268               kelechi iheanacho  34      21  5.701920       5  FWD\n",
       "1123               timothy castagne  34      21  3.958717       2  DEF\n",
       "69                  antonio rüdiger  34      21  3.828786       0  DEF\n",
       "724                     lucas digne  34      21  3.774791       7  DEF\n",
       "127                     ben godfrey  34      21  3.616565       1  DEF\n",
       "1000                   romain saïss  34      21  3.565200       2  DEF"
      ]
     },
     "execution_count": 360,
     "metadata": {},
     "output_type": "execute_result"
    }
   ],
   "source": [
    "top_predicted[top_predicted.GW==34].sort_values('pos',ascending=False)"
   ]
  },
  {
   "cell_type": "code",
   "execution_count": 409,
   "id": "8f8305b3",
   "metadata": {
    "ExecuteTime": {
     "end_time": "2021-06-15T09:24:30.692038Z",
     "start_time": "2021-06-15T09:24:30.613803Z"
    },
    "scrolled": true
   },
   "outputs": [
    {
     "name": "stdout",
     "output_type": "stream",
     "text": [
      "                        name  GW  season    y_pred  y_test  pos\n",
      "210           fraser forster  36      21  5.400000       0   GK\n",
      "1144  trent alexander-arnold  36      21  5.962996       6  DEF\n",
      "727              lucas digne  36      21  4.245756       2  DEF\n",
      "52          andrew robertson  36      21  4.177683       2  DEF\n",
      "mohamed salah\n",
      "heung-min son\n",
      "['lucas digne']\n",
      "['andrew robertson']\n"
     ]
    },
    {
     "data": {
      "text/html": [
       "<div>\n",
       "<style scoped>\n",
       "    .dataframe tbody tr th:only-of-type {\n",
       "        vertical-align: middle;\n",
       "    }\n",
       "\n",
       "    .dataframe tbody tr th {\n",
       "        vertical-align: top;\n",
       "    }\n",
       "\n",
       "    .dataframe thead th {\n",
       "        text-align: right;\n",
       "    }\n",
       "</style>\n",
       "<table border=\"1\" class=\"dataframe\">\n",
       "  <thead>\n",
       "    <tr style=\"text-align: right;\">\n",
       "      <th></th>\n",
       "      <th>name</th>\n",
       "      <th>GW</th>\n",
       "      <th>season</th>\n",
       "      <th>y_pred</th>\n",
       "      <th>y_test</th>\n",
       "      <th>pos</th>\n",
       "    </tr>\n",
       "  </thead>\n",
       "  <tbody>\n",
       "    <tr>\n",
       "      <th>1144</th>\n",
       "      <td>trent alexander-arnold</td>\n",
       "      <td>36</td>\n",
       "      <td>21</td>\n",
       "      <td>5.962996</td>\n",
       "      <td>6</td>\n",
       "      <td>DEF</td>\n",
       "    </tr>\n",
       "    <tr>\n",
       "      <th>727</th>\n",
       "      <td>lucas digne</td>\n",
       "      <td>36</td>\n",
       "      <td>21</td>\n",
       "      <td>4.245756</td>\n",
       "      <td>2</td>\n",
       "      <td>DEF</td>\n",
       "    </tr>\n",
       "    <tr>\n",
       "      <th>52</th>\n",
       "      <td>andrew robertson</td>\n",
       "      <td>36</td>\n",
       "      <td>21</td>\n",
       "      <td>4.177683</td>\n",
       "      <td>2</td>\n",
       "      <td>DEF</td>\n",
       "    </tr>\n",
       "    <tr>\n",
       "      <th>398</th>\n",
       "      <td>richarlison de andrade</td>\n",
       "      <td>36</td>\n",
       "      <td>21</td>\n",
       "      <td>4.553650</td>\n",
       "      <td>2</td>\n",
       "      <td>FWD</td>\n",
       "    </tr>\n",
       "    <tr>\n",
       "      <th>143</th>\n",
       "      <td>dominic calvert-lewin</td>\n",
       "      <td>36</td>\n",
       "      <td>21</td>\n",
       "      <td>4.545645</td>\n",
       "      <td>2</td>\n",
       "      <td>FWD</td>\n",
       "    </tr>\n",
       "    <tr>\n",
       "      <th>210</th>\n",
       "      <td>fraser forster</td>\n",
       "      <td>36</td>\n",
       "      <td>21</td>\n",
       "      <td>5.400000</td>\n",
       "      <td>0</td>\n",
       "      <td>GK</td>\n",
       "    </tr>\n",
       "    <tr>\n",
       "      <th>988</th>\n",
       "      <td>mohamed salah</td>\n",
       "      <td>36</td>\n",
       "      <td>21</td>\n",
       "      <td>8.681603</td>\n",
       "      <td>10</td>\n",
       "      <td>MID</td>\n",
       "    </tr>\n",
       "    <tr>\n",
       "      <th>484</th>\n",
       "      <td>heung-min son</td>\n",
       "      <td>36</td>\n",
       "      <td>21</td>\n",
       "      <td>6.472026</td>\n",
       "      <td>3</td>\n",
       "      <td>MID</td>\n",
       "    </tr>\n",
       "    <tr>\n",
       "      <th>1213</th>\n",
       "      <td>sadio mané</td>\n",
       "      <td>36</td>\n",
       "      <td>21</td>\n",
       "      <td>5.160620</td>\n",
       "      <td>5</td>\n",
       "      <td>MID</td>\n",
       "    </tr>\n",
       "    <tr>\n",
       "      <th>408</th>\n",
       "      <td>gareth bale</td>\n",
       "      <td>36</td>\n",
       "      <td>21</td>\n",
       "      <td>4.956642</td>\n",
       "      <td>7</td>\n",
       "      <td>MID</td>\n",
       "    </tr>\n",
       "    <tr>\n",
       "      <th>1137</th>\n",
       "      <td>raheem sterling</td>\n",
       "      <td>36</td>\n",
       "      <td>21</td>\n",
       "      <td>4.407949</td>\n",
       "      <td>2</td>\n",
       "      <td>MID</td>\n",
       "    </tr>\n",
       "  </tbody>\n",
       "</table>\n",
       "</div>"
      ],
      "text/plain": [
       "                        name  GW  season    y_pred  y_test  pos\n",
       "1144  trent alexander-arnold  36      21  5.962996       6  DEF\n",
       "727              lucas digne  36      21  4.245756       2  DEF\n",
       "52          andrew robertson  36      21  4.177683       2  DEF\n",
       "398   richarlison de andrade  36      21  4.553650       2  FWD\n",
       "143    dominic calvert-lewin  36      21  4.545645       2  FWD\n",
       "210           fraser forster  36      21  5.400000       0   GK\n",
       "988            mohamed salah  36      21  8.681603      10  MID\n",
       "484            heung-min son  36      21  6.472026       3  MID\n",
       "1213              sadio mané  36      21  5.160620       5  MID\n",
       "408              gareth bale  36      21  4.956642       7  MID\n",
       "1137         raheem sterling  36      21  4.407949       2  MID"
      ]
     },
     "execution_count": 409,
     "metadata": {},
     "output_type": "execute_result"
    }
   ],
   "source": [
    "def get_best_11(df,week=38):\n",
    "    best_15=df[df.GW==week]\n",
    "    best_11=best_15.head(0).copy()\n",
    "    sub_4=best_15.head(0).copy()\n",
    "    best_11=pd.concat([best_11,best_15[best_15.pos=='GK'].sort_values('y_pred',ascending=False).head(1)])\n",
    "\n",
    "    best_11=pd.concat([best_11,best_15[best_15.pos=='DEF'].sort_values('y_pred',ascending=False).head(3)])\n",
    "    \n",
    "    captain=best_15.sort_values('y_pred',ascending=False).head(1).name.unique()[0]\n",
    "    vice_captain=best_15.sort_values('y_pred',ascending=False).head(2).name.unique()[1]\n",
    "    print(best_11)\n",
    "    print(captain)\n",
    "    print(vice_captain)\n",
    "    \n",
    "    for i,row in best_15.sort_values('y_pred',ascending=False).iterrows():\n",
    "        row=pd.DataFrame([row])\n",
    "        if len(best_11)<11:\n",
    "            if row.name.unique()[0] in best_11.name.unique():\n",
    "                continue\n",
    "            elif row.pos.unique()[0] == 'GK':\n",
    "                sub_4=pd.concat([sub_4,row])\n",
    "                continue\n",
    "            else:\n",
    "                best_11=pd.concat([best_11,row])\n",
    "        elif row.name.unique()[0] in best_11.name.unique():\n",
    "                print(row.name.unique())\n",
    "                continue\n",
    "        elif len(best_11)==11 and len(sub_4)<4:\n",
    "            sub_4=pd.concat([sub_4,row])\n",
    "    \n",
    "    return best_11, sub_4, captain, vice_captain\n",
    "    \n",
    "    \n",
    "    \n",
    "    \n",
    "    \n",
    "best_11_36, sub_4_36, captain_36,vice_captain_36 = get_best_11(top_predicted,36)\n",
    "best_11_36.sort_values('pos')\n"
   ]
  },
  {
   "cell_type": "code",
   "execution_count": 410,
   "id": "2af0e031",
   "metadata": {
    "ExecuteTime": {
     "end_time": "2021-06-15T09:24:36.671839Z",
     "start_time": "2021-06-15T09:24:36.663107Z"
    }
   },
   "outputs": [
    {
     "data": {
      "text/html": [
       "<div>\n",
       "<style scoped>\n",
       "    .dataframe tbody tr th:only-of-type {\n",
       "        vertical-align: middle;\n",
       "    }\n",
       "\n",
       "    .dataframe tbody tr th {\n",
       "        vertical-align: top;\n",
       "    }\n",
       "\n",
       "    .dataframe thead th {\n",
       "        text-align: right;\n",
       "    }\n",
       "</style>\n",
       "<table border=\"1\" class=\"dataframe\">\n",
       "  <thead>\n",
       "    <tr style=\"text-align: right;\">\n",
       "      <th></th>\n",
       "      <th>name</th>\n",
       "      <th>GW</th>\n",
       "      <th>season</th>\n",
       "      <th>y_pred</th>\n",
       "      <th>y_test</th>\n",
       "      <th>pos</th>\n",
       "    </tr>\n",
       "  </thead>\n",
       "  <tbody>\n",
       "    <tr>\n",
       "      <th>391</th>\n",
       "      <td>lukasz fabianski</td>\n",
       "      <td>36</td>\n",
       "      <td>21</td>\n",
       "      <td>5.000000</td>\n",
       "      <td>2</td>\n",
       "      <td>GK</td>\n",
       "    </tr>\n",
       "    <tr>\n",
       "      <th>193</th>\n",
       "      <td>harry kane</td>\n",
       "      <td>36</td>\n",
       "      <td>21</td>\n",
       "      <td>4.261283</td>\n",
       "      <td>8</td>\n",
       "      <td>FWD</td>\n",
       "    </tr>\n",
       "    <tr>\n",
       "      <th>1093</th>\n",
       "      <td>stuart dallas</td>\n",
       "      <td>36</td>\n",
       "      <td>21</td>\n",
       "      <td>4.095830</td>\n",
       "      <td>6</td>\n",
       "      <td>DEF</td>\n",
       "    </tr>\n",
       "    <tr>\n",
       "      <th>130</th>\n",
       "      <td>ben godfrey</td>\n",
       "      <td>36</td>\n",
       "      <td>21</td>\n",
       "      <td>3.872124</td>\n",
       "      <td>2</td>\n",
       "      <td>DEF</td>\n",
       "    </tr>\n",
       "  </tbody>\n",
       "</table>\n",
       "</div>"
      ],
      "text/plain": [
       "                  name  GW  season    y_pred  y_test  pos\n",
       "391   lukasz fabianski  36      21  5.000000       2   GK\n",
       "193         harry kane  36      21  4.261283       8  FWD\n",
       "1093     stuart dallas  36      21  4.095830       6  DEF\n",
       "130        ben godfrey  36      21  3.872124       2  DEF"
      ]
     },
     "execution_count": 410,
     "metadata": {},
     "output_type": "execute_result"
    }
   ],
   "source": [
    "sub_4_36"
   ]
  },
  {
   "cell_type": "code",
   "execution_count": 411,
   "id": "f31bd438",
   "metadata": {
    "ExecuteTime": {
     "end_time": "2021-06-15T09:24:39.808758Z",
     "start_time": "2021-06-15T09:24:39.794810Z"
    }
   },
   "outputs": [
    {
     "data": {
      "text/plain": [
       "'heung-min son'"
      ]
     },
     "execution_count": 411,
     "metadata": {},
     "output_type": "execute_result"
    }
   ],
   "source": [
    "vice_captain_36"
   ]
  },
  {
   "cell_type": "code",
   "execution_count": 412,
   "id": "68ce2919",
   "metadata": {
    "ExecuteTime": {
     "end_time": "2021-06-15T09:26:20.258781Z",
     "start_time": "2021-06-15T09:26:20.246913Z"
    }
   },
   "outputs": [],
   "source": [
    "hypothetical_team=['edouard mendy', 'aaron cresswell', 'benjamin chilwell', 'john stones',\n",
    "                  'kevin de bruyne', 'joseph willok', 'jesse lingard', 'jack harrison', \n",
    "                   'raphael dias belloli', 'harry kane','michail antonio', 'illan meslier', \n",
    "                   'victor lindelöf', 'dominic calvert-lewin', 'nathaniel phillips']"
   ]
  },
  {
   "cell_type": "code",
   "execution_count": 413,
   "id": "1cd7c13f",
   "metadata": {
    "ExecuteTime": {
     "end_time": "2021-06-15T09:26:53.869636Z",
     "start_time": "2021-06-15T09:26:53.825514Z"
    }
   },
   "outputs": [
    {
     "ename": "AttributeError",
     "evalue": "'list' object has no attribute 'GW'",
     "output_type": "error",
     "traceback": [
      "\u001b[0;31m---------------------------------------------------------------------------\u001b[0m",
      "\u001b[0;31mAttributeError\u001b[0m                            Traceback (most recent call last)",
      "\u001b[0;32m<ipython-input-413-024374708056>\u001b[0m in \u001b[0;36m<module>\u001b[0;34m\u001b[0m\n\u001b[0;32m----> 1\u001b[0;31m \u001b[0mbest_11_38\u001b[0m\u001b[0;34m,\u001b[0m \u001b[0msub_4_38\u001b[0m\u001b[0;34m,\u001b[0m \u001b[0mcaptain_38\u001b[0m\u001b[0;34m,\u001b[0m\u001b[0mvice_captain_38\u001b[0m \u001b[0;34m=\u001b[0m \u001b[0mget_best_11\u001b[0m\u001b[0;34m(\u001b[0m\u001b[0mhypothetical_team\u001b[0m\u001b[0;34m,\u001b[0m\u001b[0;36m38\u001b[0m\u001b[0;34m)\u001b[0m\u001b[0;34m\u001b[0m\u001b[0;34m\u001b[0m\u001b[0m\n\u001b[0m\u001b[1;32m      2\u001b[0m \u001b[0mbest_11_36\u001b[0m\u001b[0;34m.\u001b[0m\u001b[0msort_values\u001b[0m\u001b[0;34m(\u001b[0m\u001b[0;34m'pos'\u001b[0m\u001b[0;34m)\u001b[0m\u001b[0;34m\u001b[0m\u001b[0;34m\u001b[0m\u001b[0m\n\u001b[1;32m      3\u001b[0m \u001b[0;34m\u001b[0m\u001b[0m\n",
      "\u001b[0;32m<ipython-input-409-a08f0af0fa05>\u001b[0m in \u001b[0;36mget_best_11\u001b[0;34m(df, week)\u001b[0m\n\u001b[1;32m      1\u001b[0m \u001b[0;32mdef\u001b[0m \u001b[0mget_best_11\u001b[0m\u001b[0;34m(\u001b[0m\u001b[0mdf\u001b[0m\u001b[0;34m,\u001b[0m\u001b[0mweek\u001b[0m\u001b[0;34m=\u001b[0m\u001b[0;36m38\u001b[0m\u001b[0;34m)\u001b[0m\u001b[0;34m:\u001b[0m\u001b[0;34m\u001b[0m\u001b[0;34m\u001b[0m\u001b[0m\n\u001b[0;32m----> 2\u001b[0;31m     \u001b[0mbest_15\u001b[0m\u001b[0;34m=\u001b[0m\u001b[0mdf\u001b[0m\u001b[0;34m[\u001b[0m\u001b[0mdf\u001b[0m\u001b[0;34m.\u001b[0m\u001b[0mGW\u001b[0m\u001b[0;34m==\u001b[0m\u001b[0mweek\u001b[0m\u001b[0;34m]\u001b[0m\u001b[0;34m\u001b[0m\u001b[0;34m\u001b[0m\u001b[0m\n\u001b[0m\u001b[1;32m      3\u001b[0m     \u001b[0mbest_11\u001b[0m\u001b[0;34m=\u001b[0m\u001b[0mbest_15\u001b[0m\u001b[0;34m.\u001b[0m\u001b[0mhead\u001b[0m\u001b[0;34m(\u001b[0m\u001b[0;36m0\u001b[0m\u001b[0;34m)\u001b[0m\u001b[0;34m.\u001b[0m\u001b[0mcopy\u001b[0m\u001b[0;34m(\u001b[0m\u001b[0;34m)\u001b[0m\u001b[0;34m\u001b[0m\u001b[0;34m\u001b[0m\u001b[0m\n\u001b[1;32m      4\u001b[0m     \u001b[0msub_4\u001b[0m\u001b[0;34m=\u001b[0m\u001b[0mbest_15\u001b[0m\u001b[0;34m.\u001b[0m\u001b[0mhead\u001b[0m\u001b[0;34m(\u001b[0m\u001b[0;36m0\u001b[0m\u001b[0;34m)\u001b[0m\u001b[0;34m.\u001b[0m\u001b[0mcopy\u001b[0m\u001b[0;34m(\u001b[0m\u001b[0;34m)\u001b[0m\u001b[0;34m\u001b[0m\u001b[0;34m\u001b[0m\u001b[0m\n\u001b[1;32m      5\u001b[0m     \u001b[0mbest_11\u001b[0m\u001b[0;34m=\u001b[0m\u001b[0mpd\u001b[0m\u001b[0;34m.\u001b[0m\u001b[0mconcat\u001b[0m\u001b[0;34m(\u001b[0m\u001b[0;34m[\u001b[0m\u001b[0mbest_11\u001b[0m\u001b[0;34m,\u001b[0m\u001b[0mbest_15\u001b[0m\u001b[0;34m[\u001b[0m\u001b[0mbest_15\u001b[0m\u001b[0;34m.\u001b[0m\u001b[0mpos\u001b[0m\u001b[0;34m==\u001b[0m\u001b[0;34m'GK'\u001b[0m\u001b[0;34m]\u001b[0m\u001b[0;34m.\u001b[0m\u001b[0msort_values\u001b[0m\u001b[0;34m(\u001b[0m\u001b[0;34m'y_pred'\u001b[0m\u001b[0;34m,\u001b[0m\u001b[0mascending\u001b[0m\u001b[0;34m=\u001b[0m\u001b[0;32mFalse\u001b[0m\u001b[0;34m)\u001b[0m\u001b[0;34m.\u001b[0m\u001b[0mhead\u001b[0m\u001b[0;34m(\u001b[0m\u001b[0;36m1\u001b[0m\u001b[0;34m)\u001b[0m\u001b[0;34m]\u001b[0m\u001b[0;34m)\u001b[0m\u001b[0;34m\u001b[0m\u001b[0;34m\u001b[0m\u001b[0m\n",
      "\u001b[0;31mAttributeError\u001b[0m: 'list' object has no attribute 'GW'"
     ]
    }
   ],
   "source": [
    "best_11_38, sub_4_38, captain_38,vice_captain_38 = get_best_11(hypothetical_team,38)\n",
    "best_11_36.sort_values('pos')\n",
    "\n"
   ]
  },
  {
   "cell_type": "markdown",
   "id": "9adebe7e",
   "metadata": {},
   "source": [
    "# The end"
   ]
  }
 ],
 "metadata": {
  "kernelspec": {
   "display_name": "Python 3",
   "language": "python",
   "name": "python3"
  },
  "language_info": {
   "codemirror_mode": {
    "name": "ipython",
    "version": 3
   },
   "file_extension": ".py",
   "mimetype": "text/x-python",
   "name": "python",
   "nbconvert_exporter": "python",
   "pygments_lexer": "ipython3",
   "version": "3.8.6"
  },
  "toc": {
   "base_numbering": 1,
   "nav_menu": {},
   "number_sections": true,
   "sideBar": true,
   "skip_h1_title": false,
   "title_cell": "Table of Contents",
   "title_sidebar": "Contents",
   "toc_cell": false,
   "toc_position": {
    "height": "calc(100% - 180px)",
    "left": "10px",
    "top": "150px",
    "width": "287px"
   },
   "toc_section_display": true,
   "toc_window_display": true
  }
 },
 "nbformat": 4,
 "nbformat_minor": 5
}
