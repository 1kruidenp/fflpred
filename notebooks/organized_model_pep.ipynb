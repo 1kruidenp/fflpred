{
 "cells": [
  {
   "cell_type": "code",
   "execution_count": 1,
   "id": "fa02f4f9",
   "metadata": {
    "ExecuteTime": {
     "end_time": "2021-06-10T16:52:33.505695Z",
     "start_time": "2021-06-10T16:52:31.783211Z"
    }
   },
   "outputs": [],
   "source": [
    "import pandas as pd\n",
    "import numpy as np\n",
    "import matplotlib.pyplot as plt\n",
    "import seaborn as sns\n",
    "from sklearn import set_config; set_config(display='diagram')"
   ]
  },
  {
   "cell_type": "markdown",
   "id": "b4090b92",
   "metadata": {},
   "source": [
    "# Get Data"
   ]
  },
  {
   "cell_type": "code",
   "execution_count": 2,
   "id": "c810709d",
   "metadata": {
    "ExecuteTime": {
     "end_time": "2021-06-10T16:52:33.516513Z",
     "start_time": "2021-06-10T16:52:33.509508Z"
    }
   },
   "outputs": [],
   "source": [
    "from merge_years.import_data import get_full_data"
   ]
  },
  {
   "cell_type": "code",
   "execution_count": 3,
   "id": "8aff5d8a",
   "metadata": {
    "ExecuteTime": {
     "end_time": "2021-06-10T16:52:33.651650Z",
     "start_time": "2021-06-10T16:52:33.520010Z"
    }
   },
   "outputs": [
    {
     "name": "stdout",
     "output_type": "stream",
     "text": [
      "/Users/admin/code/1kruidenp/fflpred/notebooks\r\n"
     ]
    }
   ],
   "source": [
    "!pwd"
   ]
  },
  {
   "cell_type": "code",
   "execution_count": 4,
   "id": "1c9fb528",
   "metadata": {
    "ExecuteTime": {
     "end_time": "2021-06-10T16:53:38.235338Z",
     "start_time": "2021-06-10T16:52:33.654451Z"
    },
    "scrolled": true
   },
   "outputs": [],
   "source": [
    "full_raw_data=get_full_data('../raw_data')"
   ]
  },
  {
   "cell_type": "code",
   "execution_count": 5,
   "id": "2cb4f7e7",
   "metadata": {
    "ExecuteTime": {
     "end_time": "2021-06-10T16:53:38.279799Z",
     "start_time": "2021-06-10T16:53:38.237942Z"
    },
    "scrolled": true
   },
   "outputs": [
    {
     "data": {
      "text/html": [
       "<div>\n",
       "<style scoped>\n",
       "    .dataframe tbody tr th:only-of-type {\n",
       "        vertical-align: middle;\n",
       "    }\n",
       "\n",
       "    .dataframe tbody tr th {\n",
       "        vertical-align: top;\n",
       "    }\n",
       "\n",
       "    .dataframe thead th {\n",
       "        text-align: right;\n",
       "    }\n",
       "</style>\n",
       "<table border=\"1\" class=\"dataframe\">\n",
       "  <thead>\n",
       "    <tr style=\"text-align: right;\">\n",
       "      <th></th>\n",
       "      <th>name</th>\n",
       "      <th>assists</th>\n",
       "      <th>bonus</th>\n",
       "      <th>bps</th>\n",
       "      <th>clean_sheets</th>\n",
       "      <th>creativity</th>\n",
       "      <th>element</th>\n",
       "      <th>fixture</th>\n",
       "      <th>goals_conceded</th>\n",
       "      <th>goals_scored</th>\n",
       "      <th>...</th>\n",
       "      <th>yellow_cards</th>\n",
       "      <th>GW</th>\n",
       "      <th>season</th>\n",
       "      <th>position</th>\n",
       "      <th>dreamteam_yearly_average</th>\n",
       "      <th>team_id</th>\n",
       "      <th>team_name</th>\n",
       "      <th>opponent_level</th>\n",
       "      <th>team_level</th>\n",
       "      <th>kickoff_date</th>\n",
       "    </tr>\n",
       "  </thead>\n",
       "  <tbody>\n",
       "    <tr>\n",
       "      <th>0</th>\n",
       "      <td>aaron connolly</td>\n",
       "      <td>0</td>\n",
       "      <td>0</td>\n",
       "      <td>1</td>\n",
       "      <td>0</td>\n",
       "      <td>0.1</td>\n",
       "      <td>534</td>\n",
       "      <td>37</td>\n",
       "      <td>1</td>\n",
       "      <td>0</td>\n",
       "      <td>...</td>\n",
       "      <td>0</td>\n",
       "      <td>4</td>\n",
       "      <td>20</td>\n",
       "      <td>FWD</td>\n",
       "      <td>NaN</td>\n",
       "      <td>4.0</td>\n",
       "      <td>Brighton</td>\n",
       "      <td>1330.0</td>\n",
       "      <td>1010.0</td>\n",
       "      <td>2019-08-31</td>\n",
       "    </tr>\n",
       "    <tr>\n",
       "      <th>1</th>\n",
       "      <td>aaron connolly</td>\n",
       "      <td>0</td>\n",
       "      <td>0</td>\n",
       "      <td>1</td>\n",
       "      <td>0</td>\n",
       "      <td>0.3</td>\n",
       "      <td>534</td>\n",
       "      <td>43</td>\n",
       "      <td>1</td>\n",
       "      <td>0</td>\n",
       "      <td>...</td>\n",
       "      <td>0</td>\n",
       "      <td>5</td>\n",
       "      <td>20</td>\n",
       "      <td>FWD</td>\n",
       "      <td>NaN</td>\n",
       "      <td>4.0</td>\n",
       "      <td>Brighton</td>\n",
       "      <td>1180.0</td>\n",
       "      <td>1050.0</td>\n",
       "      <td>2019-09-14</td>\n",
       "    </tr>\n",
       "    <tr>\n",
       "      <th>2</th>\n",
       "      <td>aaron connolly</td>\n",
       "      <td>0</td>\n",
       "      <td>0</td>\n",
       "      <td>1</td>\n",
       "      <td>0</td>\n",
       "      <td>4.8</td>\n",
       "      <td>534</td>\n",
       "      <td>58</td>\n",
       "      <td>0</td>\n",
       "      <td>0</td>\n",
       "      <td>...</td>\n",
       "      <td>0</td>\n",
       "      <td>6</td>\n",
       "      <td>20</td>\n",
       "      <td>FWD</td>\n",
       "      <td>NaN</td>\n",
       "      <td>4.0</td>\n",
       "      <td>Brighton</td>\n",
       "      <td>1090.0</td>\n",
       "      <td>1010.0</td>\n",
       "      <td>2019-09-21</td>\n",
       "    </tr>\n",
       "    <tr>\n",
       "      <th>3</th>\n",
       "      <td>aaron connolly</td>\n",
       "      <td>0</td>\n",
       "      <td>0</td>\n",
       "      <td>2</td>\n",
       "      <td>0</td>\n",
       "      <td>0.6</td>\n",
       "      <td>534</td>\n",
       "      <td>63</td>\n",
       "      <td>1</td>\n",
       "      <td>0</td>\n",
       "      <td>...</td>\n",
       "      <td>0</td>\n",
       "      <td>7</td>\n",
       "      <td>20</td>\n",
       "      <td>FWD</td>\n",
       "      <td>NaN</td>\n",
       "      <td>4.0</td>\n",
       "      <td>Brighton</td>\n",
       "      <td>1220.0</td>\n",
       "      <td>1010.0</td>\n",
       "      <td>2019-09-28</td>\n",
       "    </tr>\n",
       "    <tr>\n",
       "      <th>4</th>\n",
       "      <td>aaron connolly</td>\n",
       "      <td>0</td>\n",
       "      <td>3</td>\n",
       "      <td>53</td>\n",
       "      <td>1</td>\n",
       "      <td>23.8</td>\n",
       "      <td>534</td>\n",
       "      <td>72</td>\n",
       "      <td>0</td>\n",
       "      <td>2</td>\n",
       "      <td>...</td>\n",
       "      <td>0</td>\n",
       "      <td>8</td>\n",
       "      <td>20</td>\n",
       "      <td>FWD</td>\n",
       "      <td>NaN</td>\n",
       "      <td>4.0</td>\n",
       "      <td>Brighton</td>\n",
       "      <td>1240.0</td>\n",
       "      <td>1050.0</td>\n",
       "      <td>2019-10-05</td>\n",
       "    </tr>\n",
       "  </tbody>\n",
       "</table>\n",
       "<p>5 rows × 40 columns</p>\n",
       "</div>"
      ],
      "text/plain": [
       "             name  assists  bonus  bps  clean_sheets  creativity  element  \\\n",
       "0  aaron connolly        0      0    1             0         0.1      534   \n",
       "1  aaron connolly        0      0    1             0         0.3      534   \n",
       "2  aaron connolly        0      0    1             0         4.8      534   \n",
       "3  aaron connolly        0      0    2             0         0.6      534   \n",
       "4  aaron connolly        0      3   53             1        23.8      534   \n",
       "\n",
       "   fixture  goals_conceded  goals_scored  ...  yellow_cards  GW season  \\\n",
       "0       37               1             0  ...             0   4     20   \n",
       "1       43               1             0  ...             0   5     20   \n",
       "2       58               0             0  ...             0   6     20   \n",
       "3       63               1             0  ...             0   7     20   \n",
       "4       72               0             2  ...             0   8     20   \n",
       "\n",
       "   position  dreamteam_yearly_average  team_id  team_name  opponent_level  \\\n",
       "0       FWD                       NaN      4.0   Brighton          1330.0   \n",
       "1       FWD                       NaN      4.0   Brighton          1180.0   \n",
       "2       FWD                       NaN      4.0   Brighton          1090.0   \n",
       "3       FWD                       NaN      4.0   Brighton          1220.0   \n",
       "4       FWD                       NaN      4.0   Brighton          1240.0   \n",
       "\n",
       "   team_level  kickoff_date  \n",
       "0      1010.0    2019-08-31  \n",
       "1      1050.0    2019-09-14  \n",
       "2      1010.0    2019-09-21  \n",
       "3      1010.0    2019-09-28  \n",
       "4      1050.0    2019-10-05  \n",
       "\n",
       "[5 rows x 40 columns]"
      ]
     },
     "execution_count": 5,
     "metadata": {},
     "output_type": "execute_result"
    }
   ],
   "source": [
    "full_raw_data.head()"
   ]
  },
  {
   "cell_type": "code",
   "execution_count": 6,
   "id": "50c96117",
   "metadata": {
    "ExecuteTime": {
     "end_time": "2021-06-10T16:53:38.291038Z",
     "start_time": "2021-06-10T16:53:38.283718Z"
    },
    "scrolled": true
   },
   "outputs": [
    {
     "data": {
      "text/plain": [
       "(114992, 40)"
      ]
     },
     "execution_count": 6,
     "metadata": {},
     "output_type": "execute_result"
    }
   ],
   "source": [
    "full_raw_data.shape"
   ]
  },
  {
   "cell_type": "code",
   "execution_count": 7,
   "id": "f802923c",
   "metadata": {
    "ExecuteTime": {
     "end_time": "2021-06-10T16:53:46.900765Z",
     "start_time": "2021-06-10T16:53:38.299306Z"
    }
   },
   "outputs": [
    {
     "name": "stdout",
     "output_type": "stream",
     "text": [
      "0\n",
      "1\n",
      "2\n",
      "3\n",
      "4\n",
      "5\n",
      "6\n",
      "7\n",
      "8\n",
      "9\n",
      "10\n",
      "11\n",
      "12\n",
      "13\n",
      "14\n",
      "15\n",
      "16\n",
      "17\n",
      "18\n",
      "19\n",
      "20\n",
      "21\n",
      "22\n",
      "23\n",
      "24\n",
      "25\n"
     ]
    }
   ],
   "source": [
    "j=0\n",
    "for i,row in full_raw_data.iterrows():\n",
    "    if row['name']=='caglar söyüncü':\n",
    "        print(j)\n",
    "        full_raw_data['position'].at[i]='DEF'\n",
    "        j+=1"
   ]
  },
  {
   "cell_type": "markdown",
   "id": "c1af1a3a",
   "metadata": {},
   "source": [
    "# Split between train and test\n",
    "\n",
    "We will use the last 10 gameweeks of 2021 (for those playing) as test "
   ]
  },
  {
   "cell_type": "code",
   "execution_count": 8,
   "id": "0140adaf",
   "metadata": {
    "ExecuteTime": {
     "end_time": "2021-06-10T16:53:46.942513Z",
     "start_time": "2021-06-10T16:53:46.906831Z"
    }
   },
   "outputs": [
    {
     "data": {
      "text/plain": [
       "(8029, 40)"
      ]
     },
     "execution_count": 8,
     "metadata": {},
     "output_type": "execute_result"
    }
   ],
   "source": [
    "ra=2 #rolling average\n",
    "\n",
    "test_raw_df = full_raw_data[(full_raw_data.season > 20) & (full_raw_data.GW >= 29-ra)]\n",
    "train_raw_df = full_raw_data[~((full_raw_data.season > 20) & (full_raw_data.GW >= 29-ra))]\n",
    "#train_raw_df = full_raw_data[(full_raw_data.season < 21) & (full_raw_data.GW < 29-ra)]\n",
    "#pd.concat([train_raw_df,full_raw_data[(full_raw_data.season == 21) & (full_raw_data.GW < 29-ra)]])\n",
    "test_raw_df.shape"
   ]
  },
  {
   "cell_type": "code",
   "execution_count": 9,
   "id": "f945e29a",
   "metadata": {
    "ExecuteTime": {
     "end_time": "2021-06-10T16:53:46.951154Z",
     "start_time": "2021-06-10T16:53:46.946374Z"
    }
   },
   "outputs": [],
   "source": [
    "assert(len(train_raw_df)+len(test_raw_df)==len(full_raw_data))"
   ]
  },
  {
   "cell_type": "markdown",
   "id": "9ba298c0",
   "metadata": {
    "heading_collapsed": true
   },
   "source": [
    "# Split between rookies and non rookies"
   ]
  },
  {
   "cell_type": "code",
   "execution_count": 10,
   "id": "4f49d183",
   "metadata": {
    "ExecuteTime": {
     "end_time": "2021-06-10T16:53:46.958848Z",
     "start_time": "2021-06-10T16:53:46.954345Z"
    },
    "hidden": true
   },
   "outputs": [],
   "source": [
    "#for player in train_raw['name'].unique():\n",
    "#    train_raw[train_raw['name']==player]\n"
   ]
  },
  {
   "cell_type": "code",
   "execution_count": 11,
   "id": "0b0d0693",
   "metadata": {
    "ExecuteTime": {
     "end_time": "2021-06-10T16:53:46.966447Z",
     "start_time": "2021-06-10T16:53:46.962106Z"
    },
    "hidden": true
   },
   "outputs": [],
   "source": [
    "#train_raw_df[train_raw_df['name']=='harry kane']['season'].min()"
   ]
  },
  {
   "cell_type": "code",
   "execution_count": 12,
   "id": "acec8a13",
   "metadata": {
    "ExecuteTime": {
     "end_time": "2021-06-10T16:53:46.976973Z",
     "start_time": "2021-06-10T16:53:46.971669Z"
    },
    "hidden": true
   },
   "outputs": [],
   "source": [
    "#player_dtya={} #Give players with dtya (should be all non rookies) the\n",
    "#for i,player in enumerate(not_processed_df['name'].unique()):\n",
    "#    player_dtya[player]=not_processed_df[not_processed_df['name']==player]['dreamteam_yearly_average'].max()\n",
    "#    if i%100==0:\n",
    "#        print(player,i)"
   ]
  },
  {
   "cell_type": "markdown",
   "id": "a2e5c7ca",
   "metadata": {
    "ExecuteTime": {
     "end_time": "2021-06-10T09:54:26.879308Z",
     "start_time": "2021-06-10T09:54:26.871894Z"
    }
   },
   "source": [
    "# Split between positions"
   ]
  },
  {
   "cell_type": "code",
   "execution_count": 13,
   "id": "447c83ac",
   "metadata": {
    "ExecuteTime": {
     "end_time": "2021-06-10T16:53:47.124294Z",
     "start_time": "2021-06-10T16:53:46.980299Z"
    }
   },
   "outputs": [],
   "source": [
    "fwd_df_train = train_raw_df[(train_raw_df.position=='FWD')]\n",
    "mid_df_train = train_raw_df[(train_raw_df.position=='MID')]\n",
    "def_df_train = train_raw_df[(train_raw_df.position=='DEF')]\n",
    "gkr_df_train = train_raw_df[(train_raw_df.position=='GK')]\n",
    "\n",
    "fwd_df_test = test_raw_df[(test_raw_df.position=='FWD')]\n",
    "mid_df_test = test_raw_df[(test_raw_df.position=='MID')]\n",
    "def_df_test = test_raw_df[(test_raw_df.position=='DEF')]\n",
    "gkr_df_test = test_raw_df[(test_raw_df.position=='GK')]"
   ]
  },
  {
   "cell_type": "code",
   "execution_count": 14,
   "id": "b42bc70a",
   "metadata": {
    "ExecuteTime": {
     "end_time": "2021-06-10T16:53:47.168940Z",
     "start_time": "2021-06-10T16:53:47.131588Z"
    }
   },
   "outputs": [
    {
     "name": "stdout",
     "output_type": "stream",
     "text": [
      "(15058, 40)\n",
      "(44058, 40)\n",
      "(36210, 40)\n",
      "(11637, 40)\n",
      "\n",
      "(1036, 40)\n",
      "(3275, 40)\n",
      "(2790, 40)\n",
      "(928, 40)\n"
     ]
    }
   ],
   "source": [
    "print(fwd_df_train.shape)\n",
    "print(mid_df_train.shape)\n",
    "print(def_df_train.shape)\n",
    "print(gkr_df_train.shape)\n",
    "print(\"\")\n",
    "print(fwd_df_test.shape )\n",
    "print(mid_df_test.shape )\n",
    "print(def_df_test.shape )\n",
    "print(gkr_df_test.shape )"
   ]
  },
  {
   "cell_type": "code",
   "execution_count": 15,
   "id": "a0636d8f",
   "metadata": {
    "ExecuteTime": {
     "end_time": "2021-06-10T16:53:47.179180Z",
     "start_time": "2021-06-10T16:53:47.171895Z"
    }
   },
   "outputs": [
    {
     "data": {
      "text/plain": [
       "(106963, 40)"
      ]
     },
     "execution_count": 15,
     "metadata": {},
     "output_type": "execute_result"
    }
   ],
   "source": [
    "train_raw_df.shape"
   ]
  },
  {
   "cell_type": "code",
   "execution_count": 16,
   "id": "588a5aed",
   "metadata": {
    "ExecuteTime": {
     "end_time": "2021-06-10T16:53:47.190089Z",
     "start_time": "2021-06-10T16:53:47.183020Z"
    }
   },
   "outputs": [
    {
     "data": {
      "text/plain": [
       "105804"
      ]
     },
     "execution_count": 16,
     "metadata": {},
     "output_type": "execute_result"
    }
   ],
   "source": [
    "14907+43598+35796+11503"
   ]
  },
  {
   "cell_type": "markdown",
   "id": "d9bedaa1",
   "metadata": {},
   "source": [
    "# Preprocessing"
   ]
  },
  {
   "cell_type": "code",
   "execution_count": 17,
   "id": "eca9ccbb",
   "metadata": {
    "ExecuteTime": {
     "end_time": "2021-06-10T16:53:47.253212Z",
     "start_time": "2021-06-10T16:53:47.193048Z"
    }
   },
   "outputs": [
    {
     "name": "stderr",
     "output_type": "stream",
     "text": [
      "/Users/admin/.pyenv/versions/3.8.6/envs/fflpred/lib/python3.8/site-packages/pandas/core/frame.py:4308: SettingWithCopyWarning: \n",
      "A value is trying to be set on a copy of a slice from a DataFrame\n",
      "\n",
      "See the caveats in the documentation: https://pandas.pydata.org/pandas-docs/stable/user_guide/indexing.html#returning-a-view-versus-a-copy\n",
      "  return super().drop(\n"
     ]
    }
   ],
   "source": [
    "fwd_df_train.drop(columns=['fixture', 'element', 'team_a_score', 'team_h_score', 'team_id', 'team_name'],inplace=True)\n",
    "mid_df_train.drop(columns=['fixture', 'element', 'team_a_score', 'team_h_score', 'team_id', 'team_name'],inplace=True)\n",
    "def_df_train.drop(columns=['fixture', 'element', 'team_a_score', 'team_h_score', 'team_id', 'team_name'],inplace=True)\n",
    "gkr_df_train.drop(columns=['fixture', 'element', 'team_a_score', 'team_h_score', 'team_id', 'team_name'],inplace=True)\n",
    "fwd_df_test.drop(columns=['fixture', 'element', 'team_a_score', 'team_h_score', 'team_id', 'team_name'],inplace=True)  \n",
    "mid_df_test.drop(columns=['fixture', 'element', 'team_a_score', 'team_h_score', 'team_id', 'team_name'],inplace=True) \n",
    "def_df_test.drop(columns=['fixture', 'element', 'team_a_score', 'team_h_score', 'team_id', 'team_name'],inplace=True) \n",
    "gkr_df_test.drop(columns=['fixture', 'element', 'team_a_score', 'team_h_score', 'team_id', 'team_name'],inplace=True) \n",
    "\n",
    "\n"
   ]
  },
  {
   "cell_type": "markdown",
   "id": "3cbc127a",
   "metadata": {},
   "source": [
    "## Forwards "
   ]
  },
  {
   "cell_type": "code",
   "execution_count": 18,
   "id": "a0a68141",
   "metadata": {
    "ExecuteTime": {
     "end_time": "2021-06-10T16:53:47.290027Z",
     "start_time": "2021-06-10T16:53:47.269050Z"
    }
   },
   "outputs": [
    {
     "data": {
      "text/html": [
       "<div>\n",
       "<style scoped>\n",
       "    .dataframe tbody tr th:only-of-type {\n",
       "        vertical-align: middle;\n",
       "    }\n",
       "\n",
       "    .dataframe tbody tr th {\n",
       "        vertical-align: top;\n",
       "    }\n",
       "\n",
       "    .dataframe thead th {\n",
       "        text-align: right;\n",
       "    }\n",
       "</style>\n",
       "<table border=\"1\" class=\"dataframe\">\n",
       "  <thead>\n",
       "    <tr style=\"text-align: right;\">\n",
       "      <th></th>\n",
       "      <th>name</th>\n",
       "      <th>assists</th>\n",
       "      <th>bonus</th>\n",
       "      <th>bps</th>\n",
       "      <th>clean_sheets</th>\n",
       "      <th>creativity</th>\n",
       "      <th>goals_conceded</th>\n",
       "      <th>goals_scored</th>\n",
       "      <th>ict_index</th>\n",
       "      <th>influence</th>\n",
       "      <th>...</th>\n",
       "      <th>value</th>\n",
       "      <th>was_home</th>\n",
       "      <th>yellow_cards</th>\n",
       "      <th>GW</th>\n",
       "      <th>season</th>\n",
       "      <th>position</th>\n",
       "      <th>dreamteam_yearly_average</th>\n",
       "      <th>opponent_level</th>\n",
       "      <th>team_level</th>\n",
       "      <th>kickoff_date</th>\n",
       "    </tr>\n",
       "  </thead>\n",
       "  <tbody>\n",
       "    <tr>\n",
       "      <th>0</th>\n",
       "      <td>aaron connolly</td>\n",
       "      <td>0</td>\n",
       "      <td>0</td>\n",
       "      <td>1</td>\n",
       "      <td>0</td>\n",
       "      <td>0.1</td>\n",
       "      <td>1</td>\n",
       "      <td>0</td>\n",
       "      <td>0.0</td>\n",
       "      <td>0.2</td>\n",
       "      <td>...</td>\n",
       "      <td>45</td>\n",
       "      <td>False</td>\n",
       "      <td>0</td>\n",
       "      <td>4</td>\n",
       "      <td>20</td>\n",
       "      <td>FWD</td>\n",
       "      <td>NaN</td>\n",
       "      <td>1330.0</td>\n",
       "      <td>1010.0</td>\n",
       "      <td>2019-08-31</td>\n",
       "    </tr>\n",
       "  </tbody>\n",
       "</table>\n",
       "<p>1 rows × 34 columns</p>\n",
       "</div>"
      ],
      "text/plain": [
       "             name  assists  bonus  bps  clean_sheets  creativity  \\\n",
       "0  aaron connolly        0      0    1             0         0.1   \n",
       "\n",
       "   goals_conceded  goals_scored  ict_index  influence  ... value  was_home  \\\n",
       "0               1             0        0.0        0.2  ...    45     False   \n",
       "\n",
       "   yellow_cards  GW  season  position  dreamteam_yearly_average  \\\n",
       "0             0   4      20       FWD                       NaN   \n",
       "\n",
       "   opponent_level  team_level  kickoff_date  \n",
       "0          1330.0      1010.0    2019-08-31  \n",
       "\n",
       "[1 rows x 34 columns]"
      ]
     },
     "execution_count": 18,
     "metadata": {},
     "output_type": "execute_result"
    }
   ],
   "source": [
    "fwd_df_train.head(1)"
   ]
  },
  {
   "cell_type": "code",
   "execution_count": 19,
   "id": "21a48bc0",
   "metadata": {
    "ExecuteTime": {
     "end_time": "2021-06-10T16:53:47.299827Z",
     "start_time": "2021-06-10T16:53:47.293152Z"
    },
    "scrolled": false
   },
   "outputs": [
    {
     "data": {
      "text/plain": [
       "Index(['name', 'assists', 'bonus', 'bps', 'clean_sheets', 'creativity',\n",
       "       'goals_conceded', 'goals_scored', 'ict_index', 'influence',\n",
       "       'kickoff_time', 'minutes', 'opponent_team', 'own_goals',\n",
       "       'penalties_missed', 'penalties_saved', 'red_cards', 'saves', 'selected',\n",
       "       'threat', 'total_points', 'transfers_balance', 'transfers_in',\n",
       "       'transfers_out', 'value', 'was_home', 'yellow_cards', 'GW', 'season',\n",
       "       'position', 'dreamteam_yearly_average', 'opponent_level', 'team_level',\n",
       "       'kickoff_date'],\n",
       "      dtype='object')"
      ]
     },
     "execution_count": 19,
     "metadata": {},
     "output_type": "execute_result"
    }
   ],
   "source": [
    "fwd_df_train.columns"
   ]
  },
  {
   "cell_type": "markdown",
   "id": "b26b6eb6",
   "metadata": {},
   "source": [
    "The columns we want for forwards are (for now)\n"
   ]
  },
  {
   "cell_type": "code",
   "execution_count": 20,
   "id": "93c9b116",
   "metadata": {
    "ExecuteTime": {
     "end_time": "2021-06-10T16:53:47.313056Z",
     "start_time": "2021-06-10T16:53:47.305411Z"
    }
   },
   "outputs": [],
   "source": [
    "fwd_features=['name', 'assists', 'bps', 'creativity', 'goals_scored', \n",
    "              'ict_index', 'influence','kickoff_time','minutes',\n",
    "              'penalties_missed','red_cards','selected','threat','total_points','transfers_balance',\n",
    "              'value','was_home','yellow_cards','GW','season','opponent_level','team_level']"
   ]
  },
  {
   "cell_type": "code",
   "execution_count": 21,
   "id": "0b49754b",
   "metadata": {
    "ExecuteTime": {
     "end_time": "2021-06-10T16:53:47.357925Z",
     "start_time": "2021-06-10T16:53:47.331149Z"
    }
   },
   "outputs": [],
   "source": [
    "fwd_train=fwd_df_train[fwd_features]\n",
    "fwd_test=fwd_df_test[fwd_features]"
   ]
  },
  {
   "cell_type": "code",
   "execution_count": 22,
   "id": "8b792a57",
   "metadata": {
    "ExecuteTime": {
     "end_time": "2021-06-10T16:53:47.376157Z",
     "start_time": "2021-06-10T16:53:47.369111Z"
    }
   },
   "outputs": [
    {
     "name": "stderr",
     "output_type": "stream",
     "text": [
      "<ipython-input-22-bb4ec425f763>:1: SettingWithCopyWarning: \n",
      "A value is trying to be set on a copy of a slice from a DataFrame.\n",
      "Try using .loc[row_indexer,col_indexer] = value instead\n",
      "\n",
      "See the caveats in the documentation: https://pandas.pydata.org/pandas-docs/stable/user_guide/indexing.html#returning-a-view-versus-a-copy\n",
      "  fwd_train['cards']=fwd_train['yellow_cards']+fwd_train['red_cards']\n",
      "<ipython-input-22-bb4ec425f763>:2: SettingWithCopyWarning: \n",
      "A value is trying to be set on a copy of a slice from a DataFrame.\n",
      "Try using .loc[row_indexer,col_indexer] = value instead\n",
      "\n",
      "See the caveats in the documentation: https://pandas.pydata.org/pandas-docs/stable/user_guide/indexing.html#returning-a-view-versus-a-copy\n",
      "  fwd_test['cards']=fwd_test['yellow_cards']+fwd_test['red_cards']\n"
     ]
    }
   ],
   "source": [
    "fwd_train['cards']=fwd_train['yellow_cards']+fwd_train['red_cards']\n",
    "fwd_test['cards']=fwd_test['yellow_cards']+fwd_test['red_cards']\n",
    "\n"
   ]
  },
  {
   "cell_type": "code",
   "execution_count": 23,
   "id": "f189f649",
   "metadata": {
    "ExecuteTime": {
     "end_time": "2021-06-10T16:53:47.387078Z",
     "start_time": "2021-06-10T16:53:47.382473Z"
    },
    "scrolled": true
   },
   "outputs": [
    {
     "data": {
      "text/plain": [
       "Index(['name', 'assists', 'bps', 'creativity', 'goals_scored', 'ict_index',\n",
       "       'influence', 'kickoff_time', 'minutes', 'penalties_missed', 'red_cards',\n",
       "       'selected', 'threat', 'total_points', 'transfers_balance', 'value',\n",
       "       'was_home', 'yellow_cards', 'GW', 'season', 'opponent_level',\n",
       "       'team_level', 'cards'],\n",
       "      dtype='object')"
      ]
     },
     "execution_count": 23,
     "metadata": {},
     "output_type": "execute_result"
    }
   ],
   "source": [
    "fwd_train.columns"
   ]
  },
  {
   "cell_type": "code",
   "execution_count": 24,
   "id": "e858f219",
   "metadata": {
    "ExecuteTime": {
     "end_time": "2021-06-10T16:53:47.393407Z",
     "start_time": "2021-06-10T16:53:47.389552Z"
    }
   },
   "outputs": [],
   "source": [
    "rolling_features=['name','assists','bps','creativity','goals_scored','ict_index','influence',\n",
    "                  'minutes','selected','threat','total_points','transfers_balance','value','penalties_missed','cards']\n",
    "\n",
    "static_features=['kickoff_time','was_home','GW','season','opponent_level','team_level']\n",
    "\n",
    "\n",
    "\n",
    "total_points_train=fwd_train['total_points']\n",
    "total_points_test=fwd_test['total_points']\n",
    "\n",
    "\n"
   ]
  },
  {
   "cell_type": "markdown",
   "id": "209bfa39",
   "metadata": {},
   "source": [
    "### Rolling features"
   ]
  },
  {
   "cell_type": "code",
   "execution_count": 25,
   "id": "0d09c2f2",
   "metadata": {
    "ExecuteTime": {
     "end_time": "2021-06-10T16:53:47.767110Z",
     "start_time": "2021-06-10T16:53:47.395812Z"
    }
   },
   "outputs": [],
   "source": [
    "rolling_df_train=fwd_train[rolling_features].groupby('name').rolling(ra,closed = 'left').mean()\n",
    "rolling_df_test=fwd_test[rolling_features].groupby('name').rolling(ra,closed = 'left').mean()\n"
   ]
  },
  {
   "cell_type": "code",
   "execution_count": 26,
   "id": "c12f9d7d",
   "metadata": {
    "ExecuteTime": {
     "end_time": "2021-06-10T16:53:47.774977Z",
     "start_time": "2021-06-10T16:53:47.769730Z"
    }
   },
   "outputs": [],
   "source": [
    "rolling_df_train.rename(columns={'total_points':'rolling_points'},inplace=True)\n",
    "rolling_df_test.rename(columns={'total_points':'rolling_points'},inplace=True)"
   ]
  },
  {
   "cell_type": "code",
   "execution_count": 27,
   "id": "3de8bc5b",
   "metadata": {
    "ExecuteTime": {
     "end_time": "2021-06-10T16:53:47.791792Z",
     "start_time": "2021-06-10T16:53:47.778636Z"
    }
   },
   "outputs": [],
   "source": [
    "\n",
    "result = map(lambda position:position, total_points_train)\n",
    "rolling_df_train['total_points']=list(result)\n",
    "\n",
    "result = map(lambda position:position, total_points_test)\n",
    "rolling_df_test['total_points']=list(result)"
   ]
  },
  {
   "cell_type": "code",
   "execution_count": 28,
   "id": "3690fff9",
   "metadata": {
    "ExecuteTime": {
     "end_time": "2021-06-10T16:53:47.823565Z",
     "start_time": "2021-06-10T16:53:47.794536Z"
    },
    "scrolled": true
   },
   "outputs": [
    {
     "data": {
      "text/html": [
       "<div>\n",
       "<style scoped>\n",
       "    .dataframe tbody tr th:only-of-type {\n",
       "        vertical-align: middle;\n",
       "    }\n",
       "\n",
       "    .dataframe tbody tr th {\n",
       "        vertical-align: top;\n",
       "    }\n",
       "\n",
       "    .dataframe thead th {\n",
       "        text-align: right;\n",
       "    }\n",
       "</style>\n",
       "<table border=\"1\" class=\"dataframe\">\n",
       "  <thead>\n",
       "    <tr style=\"text-align: right;\">\n",
       "      <th></th>\n",
       "      <th></th>\n",
       "      <th>assists</th>\n",
       "      <th>bps</th>\n",
       "      <th>creativity</th>\n",
       "      <th>goals_scored</th>\n",
       "      <th>ict_index</th>\n",
       "      <th>influence</th>\n",
       "      <th>minutes</th>\n",
       "      <th>selected</th>\n",
       "      <th>threat</th>\n",
       "      <th>rolling_points</th>\n",
       "      <th>transfers_balance</th>\n",
       "      <th>value</th>\n",
       "      <th>penalties_missed</th>\n",
       "      <th>cards</th>\n",
       "      <th>total_points</th>\n",
       "    </tr>\n",
       "    <tr>\n",
       "      <th>name</th>\n",
       "      <th></th>\n",
       "      <th></th>\n",
       "      <th></th>\n",
       "      <th></th>\n",
       "      <th></th>\n",
       "      <th></th>\n",
       "      <th></th>\n",
       "      <th></th>\n",
       "      <th></th>\n",
       "      <th></th>\n",
       "      <th></th>\n",
       "      <th></th>\n",
       "      <th></th>\n",
       "      <th></th>\n",
       "      <th></th>\n",
       "      <th></th>\n",
       "    </tr>\n",
       "  </thead>\n",
       "  <tbody>\n",
       "    <tr>\n",
       "      <th rowspan=\"5\" valign=\"top\">aaron connolly</th>\n",
       "      <th>0</th>\n",
       "      <td>NaN</td>\n",
       "      <td>NaN</td>\n",
       "      <td>NaN</td>\n",
       "      <td>NaN</td>\n",
       "      <td>NaN</td>\n",
       "      <td>NaN</td>\n",
       "      <td>NaN</td>\n",
       "      <td>NaN</td>\n",
       "      <td>NaN</td>\n",
       "      <td>NaN</td>\n",
       "      <td>NaN</td>\n",
       "      <td>NaN</td>\n",
       "      <td>NaN</td>\n",
       "      <td>NaN</td>\n",
       "      <td>1</td>\n",
       "    </tr>\n",
       "    <tr>\n",
       "      <th>1</th>\n",
       "      <td>NaN</td>\n",
       "      <td>NaN</td>\n",
       "      <td>NaN</td>\n",
       "      <td>NaN</td>\n",
       "      <td>NaN</td>\n",
       "      <td>NaN</td>\n",
       "      <td>NaN</td>\n",
       "      <td>NaN</td>\n",
       "      <td>NaN</td>\n",
       "      <td>NaN</td>\n",
       "      <td>NaN</td>\n",
       "      <td>NaN</td>\n",
       "      <td>NaN</td>\n",
       "      <td>NaN</td>\n",
       "      <td>1</td>\n",
       "    </tr>\n",
       "    <tr>\n",
       "      <th>2</th>\n",
       "      <td>0.0</td>\n",
       "      <td>1.0</td>\n",
       "      <td>0.20</td>\n",
       "      <td>0.0</td>\n",
       "      <td>1.10</td>\n",
       "      <td>0.6</td>\n",
       "      <td>15.0</td>\n",
       "      <td>7014.5</td>\n",
       "      <td>10.5</td>\n",
       "      <td>1.0</td>\n",
       "      <td>5294.5</td>\n",
       "      <td>45.0</td>\n",
       "      <td>0.0</td>\n",
       "      <td>0.0</td>\n",
       "      <td>1</td>\n",
       "    </tr>\n",
       "    <tr>\n",
       "      <th>3</th>\n",
       "      <td>0.0</td>\n",
       "      <td>1.0</td>\n",
       "      <td>2.55</td>\n",
       "      <td>0.0</td>\n",
       "      <td>2.35</td>\n",
       "      <td>1.5</td>\n",
       "      <td>13.0</td>\n",
       "      <td>18416.5</td>\n",
       "      <td>19.5</td>\n",
       "      <td>1.0</td>\n",
       "      <td>9339.5</td>\n",
       "      <td>45.0</td>\n",
       "      <td>0.0</td>\n",
       "      <td>0.0</td>\n",
       "      <td>1</td>\n",
       "    </tr>\n",
       "    <tr>\n",
       "      <th>4</th>\n",
       "      <td>0.0</td>\n",
       "      <td>1.5</td>\n",
       "      <td>2.70</td>\n",
       "      <td>0.0</td>\n",
       "      <td>1.30</td>\n",
       "      <td>1.1</td>\n",
       "      <td>22.5</td>\n",
       "      <td>27751.5</td>\n",
       "      <td>9.0</td>\n",
       "      <td>1.0</td>\n",
       "      <td>8263.5</td>\n",
       "      <td>45.0</td>\n",
       "      <td>0.0</td>\n",
       "      <td>0.0</td>\n",
       "      <td>13</td>\n",
       "    </tr>\n",
       "  </tbody>\n",
       "</table>\n",
       "</div>"
      ],
      "text/plain": [
       "                  assists  bps  creativity  goals_scored  ict_index  \\\n",
       "name                                                                  \n",
       "aaron connolly 0      NaN  NaN         NaN           NaN        NaN   \n",
       "               1      NaN  NaN         NaN           NaN        NaN   \n",
       "               2      0.0  1.0        0.20           0.0       1.10   \n",
       "               3      0.0  1.0        2.55           0.0       2.35   \n",
       "               4      0.0  1.5        2.70           0.0       1.30   \n",
       "\n",
       "                  influence  minutes  selected  threat  rolling_points  \\\n",
       "name                                                                     \n",
       "aaron connolly 0        NaN      NaN       NaN     NaN             NaN   \n",
       "               1        NaN      NaN       NaN     NaN             NaN   \n",
       "               2        0.6     15.0    7014.5    10.5             1.0   \n",
       "               3        1.5     13.0   18416.5    19.5             1.0   \n",
       "               4        1.1     22.5   27751.5     9.0             1.0   \n",
       "\n",
       "                  transfers_balance  value  penalties_missed  cards  \\\n",
       "name                                                                  \n",
       "aaron connolly 0                NaN    NaN               NaN    NaN   \n",
       "               1                NaN    NaN               NaN    NaN   \n",
       "               2             5294.5   45.0               0.0    0.0   \n",
       "               3             9339.5   45.0               0.0    0.0   \n",
       "               4             8263.5   45.0               0.0    0.0   \n",
       "\n",
       "                  total_points  \n",
       "name                            \n",
       "aaron connolly 0             1  \n",
       "               1             1  \n",
       "               2             1  \n",
       "               3             1  \n",
       "               4            13  "
      ]
     },
     "execution_count": 28,
     "metadata": {},
     "output_type": "execute_result"
    }
   ],
   "source": [
    "rolling_df_train.head()"
   ]
  },
  {
   "cell_type": "code",
   "execution_count": 29,
   "id": "90fe0ff2",
   "metadata": {
    "ExecuteTime": {
     "end_time": "2021-06-10T16:53:47.927128Z",
     "start_time": "2021-06-10T16:53:47.827390Z"
    }
   },
   "outputs": [],
   "source": [
    "for i in static_features:\n",
    "    result = map(lambda position:position, fwd_train[i])\n",
    "    rolling_df_train[i]=list(result)\n",
    "for i in static_features:\n",
    "    result = map(lambda position:position, fwd_test[i])\n",
    "    rolling_df_test[i]=list(result)\n",
    "\n"
   ]
  },
  {
   "cell_type": "code",
   "execution_count": 30,
   "id": "5955ee0d",
   "metadata": {
    "ExecuteTime": {
     "end_time": "2021-06-10T16:53:47.946195Z",
     "start_time": "2021-06-10T16:53:47.930304Z"
    }
   },
   "outputs": [],
   "source": [
    "rolling_df_train.dropna(inplace=True)\n",
    "rolling_df_test.dropna(inplace=True)"
   ]
  },
  {
   "cell_type": "code",
   "execution_count": 31,
   "id": "4c875022",
   "metadata": {
    "ExecuteTime": {
     "end_time": "2021-06-10T16:53:47.956535Z",
     "start_time": "2021-06-10T16:53:47.948368Z"
    },
    "scrolled": true
   },
   "outputs": [
    {
     "data": {
      "text/plain": [
       "assists              0\n",
       "value                0\n",
       "opponent_level       0\n",
       "season               0\n",
       "GW                   0\n",
       "was_home             0\n",
       "kickoff_time         0\n",
       "total_points         0\n",
       "cards                0\n",
       "penalties_missed     0\n",
       "transfers_balance    0\n",
       "bps                  0\n",
       "rolling_points       0\n",
       "threat               0\n",
       "selected             0\n",
       "minutes              0\n",
       "influence            0\n",
       "ict_index            0\n",
       "goals_scored         0\n",
       "creativity           0\n",
       "team_level           0\n",
       "dtype: int64"
      ]
     },
     "execution_count": 31,
     "metadata": {},
     "output_type": "execute_result"
    }
   ],
   "source": [
    "rolling_df_train.isnull().sum().sort_values(ascending=False)"
   ]
  },
  {
   "cell_type": "code",
   "execution_count": 32,
   "id": "c3de3042",
   "metadata": {
    "ExecuteTime": {
     "end_time": "2021-06-10T16:53:47.966598Z",
     "start_time": "2021-06-10T16:53:47.959255Z"
    }
   },
   "outputs": [],
   "source": [
    "rolling_df_train.drop(columns=['creativity','influence','threat'],inplace=True)\n",
    "rolling_df_test.drop(columns=['creativity','influence','threat'],inplace=True)"
   ]
  },
  {
   "cell_type": "code",
   "execution_count": 33,
   "id": "9ed71f13",
   "metadata": {
    "ExecuteTime": {
     "end_time": "2021-06-10T16:53:48.006290Z",
     "start_time": "2021-06-10T16:53:47.969951Z"
    }
   },
   "outputs": [],
   "source": [
    "time=[]\n",
    "for row in rolling_df_train['kickoff_time']:\n",
    "    time.append(row.hour)\n",
    "rolling_df_train['time']=time\n",
    "\n",
    "time=[]\n",
    "for row in rolling_df_test['kickoff_time']:\n",
    "    time.append(row.hour)\n",
    "rolling_df_test['time']=time"
   ]
  },
  {
   "cell_type": "code",
   "execution_count": 34,
   "id": "2c56f184",
   "metadata": {
    "ExecuteTime": {
     "end_time": "2021-06-10T16:53:48.017624Z",
     "start_time": "2021-06-10T16:53:48.008841Z"
    }
   },
   "outputs": [],
   "source": [
    "rolling_df_train.drop(columns='kickoff_time',inplace=True)\n",
    "rolling_df_test.drop(columns='kickoff_time',inplace=True)"
   ]
  },
  {
   "cell_type": "code",
   "execution_count": 35,
   "id": "1a29e38c",
   "metadata": {
    "ExecuteTime": {
     "end_time": "2021-06-10T16:53:48.027363Z",
     "start_time": "2021-06-10T16:53:48.020693Z"
    }
   },
   "outputs": [
    {
     "data": {
      "text/plain": [
       "Index(['assists', 'bps', 'goals_scored', 'ict_index', 'minutes', 'selected',\n",
       "       'rolling_points', 'transfers_balance', 'value', 'penalties_missed',\n",
       "       'cards', 'total_points', 'was_home', 'GW', 'season', 'opponent_level',\n",
       "       'team_level', 'time'],\n",
       "      dtype='object')"
      ]
     },
     "execution_count": 35,
     "metadata": {},
     "output_type": "execute_result"
    }
   ],
   "source": [
    "rolling_df_train.columns"
   ]
  },
  {
   "cell_type": "code",
   "execution_count": 36,
   "id": "38195361",
   "metadata": {
    "ExecuteTime": {
     "end_time": "2021-06-10T16:53:48.069079Z",
     "start_time": "2021-06-10T16:53:48.030287Z"
    }
   },
   "outputs": [
    {
     "name": "stderr",
     "output_type": "stream",
     "text": [
      "/Users/admin/.pyenv/versions/3.8.6/envs/fflpred/lib/python3.8/site-packages/sklearn/utils/validation.py:63: DataConversionWarning: A column-vector y was passed when a 1d array was expected. Please change the shape of y to (n_samples, ), for example using ravel().\n",
      "  return f(*args, **kwargs)\n"
     ]
    }
   ],
   "source": [
    "from sklearn.preprocessing import LabelEncoder\n",
    "\n",
    "encoder = LabelEncoder()\n",
    "encoder.fit(rolling_df_train[['was_home']])\n",
    "rolling_df_train['was_home'] = encoder.transform(rolling_df_train[['was_home']])\n",
    "\n",
    "encoder = LabelEncoder()\n",
    "encoder.fit(rolling_df_test[['was_home']])\n",
    "rolling_df_test['was_home'] = encoder.transform(rolling_df_test[['was_home']])"
   ]
  },
  {
   "cell_type": "code",
   "execution_count": 37,
   "id": "b2d49e7c",
   "metadata": {
    "ExecuteTime": {
     "end_time": "2021-06-10T16:53:48.090036Z",
     "start_time": "2021-06-10T16:53:48.074423Z"
    }
   },
   "outputs": [],
   "source": [
    "rolling_df_train=rolling_df_train.reset_index()\n",
    "rolling_df_test=rolling_df_test.reset_index()\n"
   ]
  },
  {
   "cell_type": "code",
   "execution_count": 38,
   "id": "cd37dc92",
   "metadata": {
    "ExecuteTime": {
     "end_time": "2021-06-10T16:53:48.108411Z",
     "start_time": "2021-06-10T16:53:48.096677Z"
    }
   },
   "outputs": [],
   "source": [
    "hold_train=rolling_df_train[['name','GW','season']]\n",
    "hold_test=rolling_df_test[['name','GW','season']]\n",
    "\n",
    "rolling_df_train.drop(columns=['name','GW','season','level_1'],inplace=True)\n",
    "rolling_df_test.drop(columns=['name','GW','season','level_1'],inplace=True)"
   ]
  },
  {
   "cell_type": "code",
   "execution_count": 39,
   "id": "f88e3ddd",
   "metadata": {
    "ExecuteTime": {
     "end_time": "2021-06-10T16:53:48.142702Z",
     "start_time": "2021-06-10T16:53:48.114695Z"
    },
    "scrolled": true
   },
   "outputs": [
    {
     "data": {
      "text/html": [
       "<div>\n",
       "<style scoped>\n",
       "    .dataframe tbody tr th:only-of-type {\n",
       "        vertical-align: middle;\n",
       "    }\n",
       "\n",
       "    .dataframe tbody tr th {\n",
       "        vertical-align: top;\n",
       "    }\n",
       "\n",
       "    .dataframe thead th {\n",
       "        text-align: right;\n",
       "    }\n",
       "</style>\n",
       "<table border=\"1\" class=\"dataframe\">\n",
       "  <thead>\n",
       "    <tr style=\"text-align: right;\">\n",
       "      <th></th>\n",
       "      <th>assists</th>\n",
       "      <th>bps</th>\n",
       "      <th>goals_scored</th>\n",
       "      <th>ict_index</th>\n",
       "      <th>minutes</th>\n",
       "      <th>selected</th>\n",
       "      <th>rolling_points</th>\n",
       "      <th>transfers_balance</th>\n",
       "      <th>value</th>\n",
       "      <th>penalties_missed</th>\n",
       "      <th>cards</th>\n",
       "      <th>total_points</th>\n",
       "      <th>was_home</th>\n",
       "      <th>opponent_level</th>\n",
       "      <th>team_level</th>\n",
       "      <th>time</th>\n",
       "    </tr>\n",
       "  </thead>\n",
       "  <tbody>\n",
       "    <tr>\n",
       "      <th>0</th>\n",
       "      <td>0.0</td>\n",
       "      <td>1.0</td>\n",
       "      <td>0.0</td>\n",
       "      <td>1.10</td>\n",
       "      <td>15.0</td>\n",
       "      <td>7014.5</td>\n",
       "      <td>1.0</td>\n",
       "      <td>5294.5</td>\n",
       "      <td>45.0</td>\n",
       "      <td>0.0</td>\n",
       "      <td>0.0</td>\n",
       "      <td>1</td>\n",
       "      <td>0</td>\n",
       "      <td>1090.0</td>\n",
       "      <td>1010.0</td>\n",
       "      <td>16</td>\n",
       "    </tr>\n",
       "    <tr>\n",
       "      <th>1</th>\n",
       "      <td>0.0</td>\n",
       "      <td>1.0</td>\n",
       "      <td>0.0</td>\n",
       "      <td>2.35</td>\n",
       "      <td>13.0</td>\n",
       "      <td>18416.5</td>\n",
       "      <td>1.0</td>\n",
       "      <td>9339.5</td>\n",
       "      <td>45.0</td>\n",
       "      <td>0.0</td>\n",
       "      <td>0.0</td>\n",
       "      <td>1</td>\n",
       "      <td>0</td>\n",
       "      <td>1220.0</td>\n",
       "      <td>1010.0</td>\n",
       "      <td>14</td>\n",
       "    </tr>\n",
       "    <tr>\n",
       "      <th>2</th>\n",
       "      <td>0.0</td>\n",
       "      <td>1.5</td>\n",
       "      <td>0.0</td>\n",
       "      <td>1.30</td>\n",
       "      <td>22.5</td>\n",
       "      <td>27751.5</td>\n",
       "      <td>1.0</td>\n",
       "      <td>8263.5</td>\n",
       "      <td>45.0</td>\n",
       "      <td>0.0</td>\n",
       "      <td>0.0</td>\n",
       "      <td>13</td>\n",
       "      <td>1</td>\n",
       "      <td>1240.0</td>\n",
       "      <td>1050.0</td>\n",
       "      <td>11</td>\n",
       "    </tr>\n",
       "    <tr>\n",
       "      <th>3</th>\n",
       "      <td>0.0</td>\n",
       "      <td>27.5</td>\n",
       "      <td>1.0</td>\n",
       "      <td>10.10</td>\n",
       "      <td>52.0</td>\n",
       "      <td>33862.5</td>\n",
       "      <td>7.0</td>\n",
       "      <td>5296.5</td>\n",
       "      <td>45.0</td>\n",
       "      <td>0.0</td>\n",
       "      <td>0.0</td>\n",
       "      <td>1</td>\n",
       "      <td>0</td>\n",
       "      <td>1020.0</td>\n",
       "      <td>1010.0</td>\n",
       "      <td>14</td>\n",
       "    </tr>\n",
       "    <tr>\n",
       "      <th>4</th>\n",
       "      <td>0.0</td>\n",
       "      <td>28.0</td>\n",
       "      <td>1.0</td>\n",
       "      <td>11.85</td>\n",
       "      <td>62.0</td>\n",
       "      <td>72985.0</td>\n",
       "      <td>7.0</td>\n",
       "      <td>36479.0</td>\n",
       "      <td>45.0</td>\n",
       "      <td>0.0</td>\n",
       "      <td>0.0</td>\n",
       "      <td>8</td>\n",
       "      <td>1</td>\n",
       "      <td>1240.0</td>\n",
       "      <td>1050.0</td>\n",
       "      <td>14</td>\n",
       "    </tr>\n",
       "  </tbody>\n",
       "</table>\n",
       "</div>"
      ],
      "text/plain": [
       "   assists   bps  goals_scored  ict_index  minutes  selected  rolling_points  \\\n",
       "0      0.0   1.0           0.0       1.10     15.0    7014.5             1.0   \n",
       "1      0.0   1.0           0.0       2.35     13.0   18416.5             1.0   \n",
       "2      0.0   1.5           0.0       1.30     22.5   27751.5             1.0   \n",
       "3      0.0  27.5           1.0      10.10     52.0   33862.5             7.0   \n",
       "4      0.0  28.0           1.0      11.85     62.0   72985.0             7.0   \n",
       "\n",
       "   transfers_balance  value  penalties_missed  cards  total_points  was_home  \\\n",
       "0             5294.5   45.0               0.0    0.0             1         0   \n",
       "1             9339.5   45.0               0.0    0.0             1         0   \n",
       "2             8263.5   45.0               0.0    0.0            13         1   \n",
       "3             5296.5   45.0               0.0    0.0             1         0   \n",
       "4            36479.0   45.0               0.0    0.0             8         1   \n",
       "\n",
       "   opponent_level  team_level  time  \n",
       "0          1090.0      1010.0    16  \n",
       "1          1220.0      1010.0    14  \n",
       "2          1240.0      1050.0    11  \n",
       "3          1020.0      1010.0    14  \n",
       "4          1240.0      1050.0    14  "
      ]
     },
     "execution_count": 39,
     "metadata": {},
     "output_type": "execute_result"
    }
   ],
   "source": [
    "rolling_df_train.head()"
   ]
  },
  {
   "cell_type": "code",
   "execution_count": 40,
   "id": "f91d27d7",
   "metadata": {
    "ExecuteTime": {
     "end_time": "2021-06-10T16:53:48.151980Z",
     "start_time": "2021-06-10T16:53:48.145720Z"
    }
   },
   "outputs": [
    {
     "data": {
      "text/plain": [
       "Index(['assists', 'bps', 'goals_scored', 'ict_index', 'minutes', 'selected',\n",
       "       'rolling_points', 'transfers_balance', 'value', 'penalties_missed',\n",
       "       'cards', 'total_points', 'was_home', 'opponent_level', 'team_level',\n",
       "       'time'],\n",
       "      dtype='object')"
      ]
     },
     "execution_count": 40,
     "metadata": {},
     "output_type": "execute_result"
    }
   ],
   "source": [
    "rolling_df_train.columns"
   ]
  },
  {
   "cell_type": "code",
   "execution_count": 41,
   "id": "0071f0f8",
   "metadata": {
    "ExecuteTime": {
     "end_time": "2021-06-10T16:53:48.159553Z",
     "start_time": "2021-06-10T16:53:48.154633Z"
    }
   },
   "outputs": [
    {
     "data": {
      "text/plain": [
       "(5007, 16)"
      ]
     },
     "execution_count": 41,
     "metadata": {},
     "output_type": "execute_result"
    }
   ],
   "source": [
    "rolling_df_train.shape"
   ]
  },
  {
   "cell_type": "markdown",
   "id": "e4109ffd",
   "metadata": {},
   "source": [
    "## Models for the forwards"
   ]
  },
  {
   "cell_type": "markdown",
   "id": "4cff9560",
   "metadata": {},
   "source": [
    "### Gradient Boosting"
   ]
  },
  {
   "cell_type": "code",
   "execution_count": 77,
   "id": "3346ec6d",
   "metadata": {
    "ExecuteTime": {
     "end_time": "2021-06-10T17:08:39.007735Z",
     "start_time": "2021-06-10T17:08:39.001713Z"
    }
   },
   "outputs": [],
   "source": [
    "X_train=rolling_df_train.drop(columns=['total_points','goals_scored'])\n",
    "X_test=rolling_df_test.drop(columns=['total_points','goals_scored'])"
   ]
  },
  {
   "cell_type": "code",
   "execution_count": 78,
   "id": "e12c3f7f",
   "metadata": {
    "ExecuteTime": {
     "end_time": "2021-06-10T17:08:39.800494Z",
     "start_time": "2021-06-10T17:08:39.795789Z"
    }
   },
   "outputs": [],
   "source": [
    "y_train=rolling_df_train['total_points']\n",
    "y_test=rolling_df_test['total_points']\n"
   ]
  },
  {
   "cell_type": "code",
   "execution_count": 79,
   "id": "6f0829cd",
   "metadata": {
    "ExecuteTime": {
     "end_time": "2021-06-10T17:08:41.335622Z",
     "start_time": "2021-06-10T17:08:40.603076Z"
    }
   },
   "outputs": [
    {
     "data": {
      "text/plain": [
       "1.2514306810088025"
      ]
     },
     "execution_count": 79,
     "metadata": {},
     "output_type": "execute_result"
    }
   ],
   "source": [
    "from sklearn.ensemble import GradientBoostingRegressor\n",
    "from sklearn.model_selection import GridSearchCV\n",
    "from sklearn.metrics import mean_absolute_error\n",
    "from sklearn.model_selection import cross_val_score\n",
    "\n",
    "reg = GradientBoostingRegressor(random_state=0,loss='ls')\n",
    "reg.fit(X_train, y_train)\n",
    "y_pred=reg.predict(X_test)\n",
    "\n",
    "mean_absolute_error(y_test,y_pred)"
   ]
  },
  {
   "cell_type": "code",
   "execution_count": 48,
   "id": "a38cc65e",
   "metadata": {
    "ExecuteTime": {
     "end_time": "2021-06-10T17:00:28.759480Z",
     "start_time": "2021-06-10T16:55:53.799606Z"
    }
   },
   "outputs": [
    {
     "data": {
      "text/html": [
       "<style>#sk-b5e8abb1-4c19-4834-b585-377d125b42d4 {color: black;background-color: white;}#sk-b5e8abb1-4c19-4834-b585-377d125b42d4 pre{padding: 0;}#sk-b5e8abb1-4c19-4834-b585-377d125b42d4 div.sk-toggleable {background-color: white;}#sk-b5e8abb1-4c19-4834-b585-377d125b42d4 label.sk-toggleable__label {cursor: pointer;display: block;width: 100%;margin-bottom: 0;padding: 0.2em 0.3em;box-sizing: border-box;text-align: center;}#sk-b5e8abb1-4c19-4834-b585-377d125b42d4 div.sk-toggleable__content {max-height: 0;max-width: 0;overflow: hidden;text-align: left;background-color: #f0f8ff;}#sk-b5e8abb1-4c19-4834-b585-377d125b42d4 div.sk-toggleable__content pre {margin: 0.2em;color: black;border-radius: 0.25em;background-color: #f0f8ff;}#sk-b5e8abb1-4c19-4834-b585-377d125b42d4 input.sk-toggleable__control:checked~div.sk-toggleable__content {max-height: 200px;max-width: 100%;overflow: auto;}#sk-b5e8abb1-4c19-4834-b585-377d125b42d4 div.sk-estimator input.sk-toggleable__control:checked~label.sk-toggleable__label {background-color: #d4ebff;}#sk-b5e8abb1-4c19-4834-b585-377d125b42d4 div.sk-label input.sk-toggleable__control:checked~label.sk-toggleable__label {background-color: #d4ebff;}#sk-b5e8abb1-4c19-4834-b585-377d125b42d4 input.sk-hidden--visually {border: 0;clip: rect(1px 1px 1px 1px);clip: rect(1px, 1px, 1px, 1px);height: 1px;margin: -1px;overflow: hidden;padding: 0;position: absolute;width: 1px;}#sk-b5e8abb1-4c19-4834-b585-377d125b42d4 div.sk-estimator {font-family: monospace;background-color: #f0f8ff;margin: 0.25em 0.25em;border: 1px dotted black;border-radius: 0.25em;box-sizing: border-box;}#sk-b5e8abb1-4c19-4834-b585-377d125b42d4 div.sk-estimator:hover {background-color: #d4ebff;}#sk-b5e8abb1-4c19-4834-b585-377d125b42d4 div.sk-parallel-item::after {content: \"\";width: 100%;border-bottom: 1px solid gray;flex-grow: 1;}#sk-b5e8abb1-4c19-4834-b585-377d125b42d4 div.sk-label:hover label.sk-toggleable__label {background-color: #d4ebff;}#sk-b5e8abb1-4c19-4834-b585-377d125b42d4 div.sk-serial::before {content: \"\";position: absolute;border-left: 1px solid gray;box-sizing: border-box;top: 2em;bottom: 0;left: 50%;}#sk-b5e8abb1-4c19-4834-b585-377d125b42d4 div.sk-serial {display: flex;flex-direction: column;align-items: center;background-color: white;}#sk-b5e8abb1-4c19-4834-b585-377d125b42d4 div.sk-item {z-index: 1;}#sk-b5e8abb1-4c19-4834-b585-377d125b42d4 div.sk-parallel {display: flex;align-items: stretch;justify-content: center;background-color: white;}#sk-b5e8abb1-4c19-4834-b585-377d125b42d4 div.sk-parallel-item {display: flex;flex-direction: column;position: relative;background-color: white;}#sk-b5e8abb1-4c19-4834-b585-377d125b42d4 div.sk-parallel-item:first-child::after {align-self: flex-end;width: 50%;}#sk-b5e8abb1-4c19-4834-b585-377d125b42d4 div.sk-parallel-item:last-child::after {align-self: flex-start;width: 50%;}#sk-b5e8abb1-4c19-4834-b585-377d125b42d4 div.sk-parallel-item:only-child::after {width: 0;}#sk-b5e8abb1-4c19-4834-b585-377d125b42d4 div.sk-dashed-wrapped {border: 1px dashed gray;margin: 0.2em;box-sizing: border-box;padding-bottom: 0.1em;background-color: white;position: relative;}#sk-b5e8abb1-4c19-4834-b585-377d125b42d4 div.sk-label label {font-family: monospace;font-weight: bold;background-color: white;display: inline-block;line-height: 1.2em;}#sk-b5e8abb1-4c19-4834-b585-377d125b42d4 div.sk-label-container {position: relative;z-index: 2;text-align: center;}#sk-b5e8abb1-4c19-4834-b585-377d125b42d4 div.sk-container {display: inline-block;position: relative;}</style><div id=\"sk-b5e8abb1-4c19-4834-b585-377d125b42d4\" class\"sk-top-container\"><div class=\"sk-container\"><div class=\"sk-item sk-dashed-wrapped\"><div class=\"sk-label-container\"><div class=\"sk-label sk-toggleable\"><input class=\"sk-toggleable__control sk-hidden--visually\" id=\"1c8cc3fd-cfa7-4fa5-8e4b-48bfd61037cd\" type=\"checkbox\" ><label class=\"sk-toggleable__label\" for=\"1c8cc3fd-cfa7-4fa5-8e4b-48bfd61037cd\">GridSearchCV</label><div class=\"sk-toggleable__content\"><pre>GridSearchCV(cv=3, estimator=GradientBoostingRegressor(), n_jobs=-1,\n",
       "             param_grid={'learning_rate': [0.01, 0.025, 0.05, 0.075, 0.1, 0.15,\n",
       "                                           0.2],\n",
       "                         'max_depth': [3, 5, 8],\n",
       "                         'max_features': ['log2', 'sqrt'],\n",
       "                         'min_samples_leaf': array([0.1       , 0.15714286, 0.21428571, 0.27142857, 0.32857143,\n",
       "       0.38571429, 0.44285714, 0.5       ]),\n",
       "                         'min_samples_split': array([0.1       , 0.15714286, 0.21428571, 0.27142857, 0.32857143,\n",
       "       0.38571429, 0.44285714, 0.5       ]),\n",
       "                         'n_estimators': [10, 100]})</pre></div></div></div><div class=\"sk-parallel\"><div class=\"sk-parallel-item\"><div class=\"sk-item\"><div class=\"sk-serial\"><div class=\"sk-item\"><div class=\"sk-estimator sk-toggleable\"><input class=\"sk-toggleable__control sk-hidden--visually\" id=\"8a8b3c59-146d-435f-b354-e6576a0c2376\" type=\"checkbox\" ><label class=\"sk-toggleable__label\" for=\"8a8b3c59-146d-435f-b354-e6576a0c2376\">GradientBoostingRegressor</label><div class=\"sk-toggleable__content\"><pre>GradientBoostingRegressor()</pre></div></div></div></div></div></div></div></div></div></div>"
      ],
      "text/plain": [
       "GridSearchCV(cv=3, estimator=GradientBoostingRegressor(), n_jobs=-1,\n",
       "             param_grid={'learning_rate': [0.01, 0.025, 0.05, 0.075, 0.1, 0.15,\n",
       "                                           0.2],\n",
       "                         'max_depth': [3, 5, 8],\n",
       "                         'max_features': ['log2', 'sqrt'],\n",
       "                         'min_samples_leaf': array([0.1       , 0.15714286, 0.21428571, 0.27142857, 0.32857143,\n",
       "       0.38571429, 0.44285714, 0.5       ]),\n",
       "                         'min_samples_split': array([0.1       , 0.15714286, 0.21428571, 0.27142857, 0.32857143,\n",
       "       0.38571429, 0.44285714, 0.5       ]),\n",
       "                         'n_estimators': [10, 100]})"
      ]
     },
     "execution_count": 48,
     "metadata": {},
     "output_type": "execute_result"
    }
   ],
   "source": [
    "from sklearn.metrics import make_scorer\n",
    "\n",
    "parameters = {\n",
    "    \"learning_rate\": [0.01, 0.025, 0.05, 0.075, 0.1, 0.15, 0.2],\n",
    "    \"min_samples_split\": np.linspace(0.1, 0.5, 8),\n",
    "    \"min_samples_leaf\": np.linspace(0.1, 0.5, 8),\n",
    "    \"max_depth\":[3,5,8],\n",
    "    \"max_features\":[\"log2\",\"sqrt\"],\n",
    "    \"n_estimators\":[10,100]\n",
    "    }\n",
    "\n",
    "clf = GridSearchCV(GradientBoostingRegressor(), parameters,cv=3, n_jobs=-1)\n",
    "clf.fit(X_train, y_train)"
   ]
  },
  {
   "cell_type": "code",
   "execution_count": 53,
   "id": "084a0064",
   "metadata": {
    "ExecuteTime": {
     "end_time": "2021-06-10T17:02:24.182607Z",
     "start_time": "2021-06-10T17:02:24.170412Z"
    }
   },
   "outputs": [
    {
     "data": {
      "text/html": [
       "<style>#sk-47ce07b5-7c70-4f88-9360-41c4c186f102 {color: black;background-color: white;}#sk-47ce07b5-7c70-4f88-9360-41c4c186f102 pre{padding: 0;}#sk-47ce07b5-7c70-4f88-9360-41c4c186f102 div.sk-toggleable {background-color: white;}#sk-47ce07b5-7c70-4f88-9360-41c4c186f102 label.sk-toggleable__label {cursor: pointer;display: block;width: 100%;margin-bottom: 0;padding: 0.2em 0.3em;box-sizing: border-box;text-align: center;}#sk-47ce07b5-7c70-4f88-9360-41c4c186f102 div.sk-toggleable__content {max-height: 0;max-width: 0;overflow: hidden;text-align: left;background-color: #f0f8ff;}#sk-47ce07b5-7c70-4f88-9360-41c4c186f102 div.sk-toggleable__content pre {margin: 0.2em;color: black;border-radius: 0.25em;background-color: #f0f8ff;}#sk-47ce07b5-7c70-4f88-9360-41c4c186f102 input.sk-toggleable__control:checked~div.sk-toggleable__content {max-height: 200px;max-width: 100%;overflow: auto;}#sk-47ce07b5-7c70-4f88-9360-41c4c186f102 div.sk-estimator input.sk-toggleable__control:checked~label.sk-toggleable__label {background-color: #d4ebff;}#sk-47ce07b5-7c70-4f88-9360-41c4c186f102 div.sk-label input.sk-toggleable__control:checked~label.sk-toggleable__label {background-color: #d4ebff;}#sk-47ce07b5-7c70-4f88-9360-41c4c186f102 input.sk-hidden--visually {border: 0;clip: rect(1px 1px 1px 1px);clip: rect(1px, 1px, 1px, 1px);height: 1px;margin: -1px;overflow: hidden;padding: 0;position: absolute;width: 1px;}#sk-47ce07b5-7c70-4f88-9360-41c4c186f102 div.sk-estimator {font-family: monospace;background-color: #f0f8ff;margin: 0.25em 0.25em;border: 1px dotted black;border-radius: 0.25em;box-sizing: border-box;}#sk-47ce07b5-7c70-4f88-9360-41c4c186f102 div.sk-estimator:hover {background-color: #d4ebff;}#sk-47ce07b5-7c70-4f88-9360-41c4c186f102 div.sk-parallel-item::after {content: \"\";width: 100%;border-bottom: 1px solid gray;flex-grow: 1;}#sk-47ce07b5-7c70-4f88-9360-41c4c186f102 div.sk-label:hover label.sk-toggleable__label {background-color: #d4ebff;}#sk-47ce07b5-7c70-4f88-9360-41c4c186f102 div.sk-serial::before {content: \"\";position: absolute;border-left: 1px solid gray;box-sizing: border-box;top: 2em;bottom: 0;left: 50%;}#sk-47ce07b5-7c70-4f88-9360-41c4c186f102 div.sk-serial {display: flex;flex-direction: column;align-items: center;background-color: white;}#sk-47ce07b5-7c70-4f88-9360-41c4c186f102 div.sk-item {z-index: 1;}#sk-47ce07b5-7c70-4f88-9360-41c4c186f102 div.sk-parallel {display: flex;align-items: stretch;justify-content: center;background-color: white;}#sk-47ce07b5-7c70-4f88-9360-41c4c186f102 div.sk-parallel-item {display: flex;flex-direction: column;position: relative;background-color: white;}#sk-47ce07b5-7c70-4f88-9360-41c4c186f102 div.sk-parallel-item:first-child::after {align-self: flex-end;width: 50%;}#sk-47ce07b5-7c70-4f88-9360-41c4c186f102 div.sk-parallel-item:last-child::after {align-self: flex-start;width: 50%;}#sk-47ce07b5-7c70-4f88-9360-41c4c186f102 div.sk-parallel-item:only-child::after {width: 0;}#sk-47ce07b5-7c70-4f88-9360-41c4c186f102 div.sk-dashed-wrapped {border: 1px dashed gray;margin: 0.2em;box-sizing: border-box;padding-bottom: 0.1em;background-color: white;position: relative;}#sk-47ce07b5-7c70-4f88-9360-41c4c186f102 div.sk-label label {font-family: monospace;font-weight: bold;background-color: white;display: inline-block;line-height: 1.2em;}#sk-47ce07b5-7c70-4f88-9360-41c4c186f102 div.sk-label-container {position: relative;z-index: 2;text-align: center;}#sk-47ce07b5-7c70-4f88-9360-41c4c186f102 div.sk-container {display: inline-block;position: relative;}</style><div id=\"sk-47ce07b5-7c70-4f88-9360-41c4c186f102\" class\"sk-top-container\"><div class=\"sk-container\"><div class=\"sk-item\"><div class=\"sk-estimator sk-toggleable\"><input class=\"sk-toggleable__control sk-hidden--visually\" id=\"eafdb65a-dcb6-40d8-ab83-5d22624c64c2\" type=\"checkbox\" checked><label class=\"sk-toggleable__label\" for=\"eafdb65a-dcb6-40d8-ab83-5d22624c64c2\">GradientBoostingRegressor</label><div class=\"sk-toggleable__content\"><pre>GradientBoostingRegressor(learning_rate=0.075, max_features='sqrt',\n",
       "                          min_samples_leaf=0.1,\n",
       "                          min_samples_split=0.2142857142857143)</pre></div></div></div></div></div>"
      ],
      "text/plain": [
       "GradientBoostingRegressor(learning_rate=0.075, max_features='sqrt',\n",
       "                          min_samples_leaf=0.1,\n",
       "                          min_samples_split=0.2142857142857143)"
      ]
     },
     "execution_count": 53,
     "metadata": {},
     "output_type": "execute_result"
    }
   ],
   "source": [
    "clf.best_estimator_"
   ]
  },
  {
   "cell_type": "code",
   "execution_count": 50,
   "id": "17dd68b3",
   "metadata": {
    "ExecuteTime": {
     "end_time": "2021-06-10T17:00:57.253853Z",
     "start_time": "2021-06-10T17:00:57.250509Z"
    }
   },
   "outputs": [],
   "source": [
    "model=clf.best_estimator_"
   ]
  },
  {
   "cell_type": "code",
   "execution_count": 51,
   "id": "c9f3957d",
   "metadata": {
    "ExecuteTime": {
     "end_time": "2021-06-10T17:01:14.263746Z",
     "start_time": "2021-06-10T17:01:14.254053Z"
    }
   },
   "outputs": [],
   "source": [
    "y_pred=model.predict(X_test)"
   ]
  },
  {
   "cell_type": "code",
   "execution_count": 52,
   "id": "085300f2",
   "metadata": {
    "ExecuteTime": {
     "end_time": "2021-06-10T17:01:30.651690Z",
     "start_time": "2021-06-10T17:01:30.644484Z"
    }
   },
   "outputs": [
    {
     "data": {
      "text/plain": [
       "1.2533919556248563"
      ]
     },
     "execution_count": 52,
     "metadata": {},
     "output_type": "execute_result"
    }
   ],
   "source": [
    "mean_absolute_error(y_test,y_pred)"
   ]
  },
  {
   "cell_type": "code",
   "execution_count": 70,
   "id": "c41700ee",
   "metadata": {
    "ExecuteTime": {
     "end_time": "2021-06-10T17:07:10.938085Z",
     "start_time": "2021-06-10T17:07:10.930500Z"
    },
    "scrolled": true
   },
   "outputs": [
    {
     "name": "stderr",
     "output_type": "stream",
     "text": [
      "<ipython-input-70-9c4b9cdd679b>:1: SettingWithCopyWarning: \n",
      "A value is trying to be set on a copy of a slice from a DataFrame.\n",
      "Try using .loc[row_indexer,col_indexer] = value instead\n",
      "\n",
      "See the caveats in the documentation: https://pandas.pydata.org/pandas-docs/stable/user_guide/indexing.html#returning-a-view-versus-a-copy\n",
      "  hold_test['y_pred']=y_pred\n"
     ]
    }
   ],
   "source": [
    "hold_test['y_pred']=y_pred"
   ]
  },
  {
   "cell_type": "code",
   "execution_count": 55,
   "id": "42f09040",
   "metadata": {
    "ExecuteTime": {
     "end_time": "2021-06-10T17:04:37.548592Z",
     "start_time": "2021-06-10T17:04:37.542898Z"
    },
    "collapsed": true
   },
   "outputs": [
    {
     "name": "stderr",
     "output_type": "stream",
     "text": [
      "<ipython-input-55-088461d3fca5>:1: SettingWithCopyWarning: \n",
      "A value is trying to be set on a copy of a slice from a DataFrame.\n",
      "Try using .loc[row_indexer,col_indexer] = value instead\n",
      "\n",
      "See the caveats in the documentation: https://pandas.pydata.org/pandas-docs/stable/user_guide/indexing.html#returning-a-view-versus-a-copy\n",
      "  hold_test['y_test']=y_test\n"
     ]
    }
   ],
   "source": [
    "hold_test['y_test']=y_test"
   ]
  },
  {
   "cell_type": "code",
   "execution_count": 56,
   "id": "bed30e9f",
   "metadata": {
    "ExecuteTime": {
     "end_time": "2021-06-10T17:04:41.467273Z",
     "start_time": "2021-06-10T17:04:41.446841Z"
    }
   },
   "outputs": [
    {
     "data": {
      "text/html": [
       "<div>\n",
       "<style scoped>\n",
       "    .dataframe tbody tr th:only-of-type {\n",
       "        vertical-align: middle;\n",
       "    }\n",
       "\n",
       "    .dataframe tbody tr th {\n",
       "        vertical-align: top;\n",
       "    }\n",
       "\n",
       "    .dataframe thead th {\n",
       "        text-align: right;\n",
       "    }\n",
       "</style>\n",
       "<table border=\"1\" class=\"dataframe\">\n",
       "  <thead>\n",
       "    <tr style=\"text-align: right;\">\n",
       "      <th></th>\n",
       "      <th>name</th>\n",
       "      <th>GW</th>\n",
       "      <th>season</th>\n",
       "      <th>y_pred</th>\n",
       "      <th>y_test</th>\n",
       "    </tr>\n",
       "  </thead>\n",
       "  <tbody>\n",
       "    <tr>\n",
       "      <th>181</th>\n",
       "      <td>chris wood</td>\n",
       "      <td>30</td>\n",
       "      <td>21</td>\n",
       "      <td>3.503131</td>\n",
       "      <td>10</td>\n",
       "    </tr>\n",
       "    <tr>\n",
       "      <th>182</th>\n",
       "      <td>chris wood</td>\n",
       "      <td>31</td>\n",
       "      <td>21</td>\n",
       "      <td>3.632766</td>\n",
       "      <td>5</td>\n",
       "    </tr>\n",
       "    <tr>\n",
       "      <th>183</th>\n",
       "      <td>chris wood</td>\n",
       "      <td>32</td>\n",
       "      <td>21</td>\n",
       "      <td>3.821845</td>\n",
       "      <td>2</td>\n",
       "    </tr>\n",
       "    <tr>\n",
       "      <th>184</th>\n",
       "      <td>chris wood</td>\n",
       "      <td>33</td>\n",
       "      <td>21</td>\n",
       "      <td>3.970661</td>\n",
       "      <td>20</td>\n",
       "    </tr>\n",
       "    <tr>\n",
       "      <th>185</th>\n",
       "      <td>chris wood</td>\n",
       "      <td>34</td>\n",
       "      <td>21</td>\n",
       "      <td>3.210584</td>\n",
       "      <td>6</td>\n",
       "    </tr>\n",
       "    <tr>\n",
       "      <th>186</th>\n",
       "      <td>chris wood</td>\n",
       "      <td>35</td>\n",
       "      <td>21</td>\n",
       "      <td>3.693752</td>\n",
       "      <td>6</td>\n",
       "    </tr>\n",
       "    <tr>\n",
       "      <th>187</th>\n",
       "      <td>chris wood</td>\n",
       "      <td>36</td>\n",
       "      <td>21</td>\n",
       "      <td>3.375151</td>\n",
       "      <td>2</td>\n",
       "    </tr>\n",
       "    <tr>\n",
       "      <th>188</th>\n",
       "      <td>chris wood</td>\n",
       "      <td>37</td>\n",
       "      <td>21</td>\n",
       "      <td>2.822543</td>\n",
       "      <td>2</td>\n",
       "    </tr>\n",
       "    <tr>\n",
       "      <th>189</th>\n",
       "      <td>chris wood</td>\n",
       "      <td>38</td>\n",
       "      <td>21</td>\n",
       "      <td>3.254510</td>\n",
       "      <td>2</td>\n",
       "    </tr>\n",
       "  </tbody>\n",
       "</table>\n",
       "</div>"
      ],
      "text/plain": [
       "           name  GW  season    y_pred  y_test\n",
       "181  chris wood  30      21  3.503131      10\n",
       "182  chris wood  31      21  3.632766       5\n",
       "183  chris wood  32      21  3.821845       2\n",
       "184  chris wood  33      21  3.970661      20\n",
       "185  chris wood  34      21  3.210584       6\n",
       "186  chris wood  35      21  3.693752       6\n",
       "187  chris wood  36      21  3.375151       2\n",
       "188  chris wood  37      21  2.822543       2\n",
       "189  chris wood  38      21  3.254510       2"
      ]
     },
     "execution_count": 56,
     "metadata": {},
     "output_type": "execute_result"
    }
   ],
   "source": [
    "hold_test[hold_test['name']=='chris wood']"
   ]
  },
  {
   "cell_type": "code",
   "execution_count": 57,
   "id": "921fb93e",
   "metadata": {
    "ExecuteTime": {
     "end_time": "2021-06-10T17:04:47.056507Z",
     "start_time": "2021-06-10T17:04:47.043296Z"
    },
    "scrolled": true
   },
   "outputs": [
    {
     "data": {
      "text/html": [
       "<div>\n",
       "<style scoped>\n",
       "    .dataframe tbody tr th:only-of-type {\n",
       "        vertical-align: middle;\n",
       "    }\n",
       "\n",
       "    .dataframe tbody tr th {\n",
       "        vertical-align: top;\n",
       "    }\n",
       "\n",
       "    .dataframe thead th {\n",
       "        text-align: right;\n",
       "    }\n",
       "</style>\n",
       "<table border=\"1\" class=\"dataframe\">\n",
       "  <thead>\n",
       "    <tr style=\"text-align: right;\">\n",
       "      <th></th>\n",
       "      <th>name</th>\n",
       "      <th>GW</th>\n",
       "      <th>season</th>\n",
       "      <th>y_pred</th>\n",
       "      <th>y_test</th>\n",
       "    </tr>\n",
       "  </thead>\n",
       "  <tbody>\n",
       "    <tr>\n",
       "      <th>364</th>\n",
       "      <td>harry kane</td>\n",
       "      <td>29</td>\n",
       "      <td>21</td>\n",
       "      <td>4.547066</td>\n",
       "      <td>7</td>\n",
       "    </tr>\n",
       "    <tr>\n",
       "      <th>365</th>\n",
       "      <td>harry kane</td>\n",
       "      <td>30</td>\n",
       "      <td>21</td>\n",
       "      <td>5.397669</td>\n",
       "      <td>13</td>\n",
       "    </tr>\n",
       "    <tr>\n",
       "      <th>366</th>\n",
       "      <td>harry kane</td>\n",
       "      <td>31</td>\n",
       "      <td>21</td>\n",
       "      <td>5.201550</td>\n",
       "      <td>2</td>\n",
       "    </tr>\n",
       "    <tr>\n",
       "      <th>367</th>\n",
       "      <td>harry kane</td>\n",
       "      <td>32</td>\n",
       "      <td>21</td>\n",
       "      <td>4.852073</td>\n",
       "      <td>12</td>\n",
       "    </tr>\n",
       "    <tr>\n",
       "      <th>368</th>\n",
       "      <td>harry kane</td>\n",
       "      <td>32</td>\n",
       "      <td>21</td>\n",
       "      <td>5.296080</td>\n",
       "      <td>0</td>\n",
       "    </tr>\n",
       "    <tr>\n",
       "      <th>369</th>\n",
       "      <td>harry kane</td>\n",
       "      <td>34</td>\n",
       "      <td>21</td>\n",
       "      <td>4.639427</td>\n",
       "      <td>2</td>\n",
       "    </tr>\n",
       "    <tr>\n",
       "      <th>370</th>\n",
       "      <td>harry kane</td>\n",
       "      <td>35</td>\n",
       "      <td>21</td>\n",
       "      <td>4.277150</td>\n",
       "      <td>2</td>\n",
       "    </tr>\n",
       "    <tr>\n",
       "      <th>371</th>\n",
       "      <td>harry kane</td>\n",
       "      <td>36</td>\n",
       "      <td>21</td>\n",
       "      <td>5.200784</td>\n",
       "      <td>8</td>\n",
       "    </tr>\n",
       "    <tr>\n",
       "      <th>372</th>\n",
       "      <td>harry kane</td>\n",
       "      <td>37</td>\n",
       "      <td>21</td>\n",
       "      <td>4.784496</td>\n",
       "      <td>2</td>\n",
       "    </tr>\n",
       "    <tr>\n",
       "      <th>373</th>\n",
       "      <td>harry kane</td>\n",
       "      <td>38</td>\n",
       "      <td>21</td>\n",
       "      <td>5.285654</td>\n",
       "      <td>10</td>\n",
       "    </tr>\n",
       "  </tbody>\n",
       "</table>\n",
       "</div>"
      ],
      "text/plain": [
       "           name  GW  season    y_pred  y_test\n",
       "364  harry kane  29      21  4.547066       7\n",
       "365  harry kane  30      21  5.397669      13\n",
       "366  harry kane  31      21  5.201550       2\n",
       "367  harry kane  32      21  4.852073      12\n",
       "368  harry kane  32      21  5.296080       0\n",
       "369  harry kane  34      21  4.639427       2\n",
       "370  harry kane  35      21  4.277150       2\n",
       "371  harry kane  36      21  5.200784       8\n",
       "372  harry kane  37      21  4.784496       2\n",
       "373  harry kane  38      21  5.285654      10"
      ]
     },
     "execution_count": 57,
     "metadata": {},
     "output_type": "execute_result"
    }
   ],
   "source": [
    "hold_test[hold_test['name']=='harry kane']"
   ]
  },
  {
   "cell_type": "code",
   "execution_count": 58,
   "id": "cfbc1254",
   "metadata": {
    "ExecuteTime": {
     "end_time": "2021-06-10T17:04:49.357995Z",
     "start_time": "2021-06-10T17:04:49.077124Z"
    },
    "scrolled": true
   },
   "outputs": [
    {
     "data": {
      "text/plain": [
       "<matplotlib.legend.Legend at 0x127f44610>"
      ]
     },
     "execution_count": 58,
     "metadata": {},
     "output_type": "execute_result"
    },
    {
     "data": {
      "image/png": "[encoded data removed]",
      "text/plain": [
       "<Figure size 432x288 with 1 Axes>"
      ]
     },
     "metadata": {
      "needs_background": "light"
     },
     "output_type": "display_data"
    }
   ],
   "source": [
    "hold_df=hold_test.copy()\n",
    "plt.plot(hold_df[hold_df['name']=='harry kane']['GW'],np.abs(hold_df[hold_df['name']=='harry kane']['y_pred']-hold_df[hold_df['name']=='harry kane']['y_test']),label='harry kane')\n",
    "plt.plot(hold_df[hold_df['name']=='timo werner']['GW'],np.abs(hold_df[hold_df['name']=='timo werner']['y_pred']-hold_df[hold_df['name']=='timo werner']['y_test']),label='timo werner')\n",
    "plt.plot(hold_df[hold_df['name']=='aaron connolly']['GW'],np.abs(hold_df[hold_df['name']=='aaron connolly']['y_pred']-hold_df[hold_df['name']=='aaron connolly']['y_test']),label='aaron connolly')\n",
    "plt.plot(hold_df[hold_df['name']=='anthony martial']['GW'],np.abs(hold_df[hold_df['name']=='anthony martial']['y_pred']-hold_df[hold_df['name']=='anthony martial']['y_test']),label='anthony martial')\n",
    "plt.plot([28,30,32,34,36,38],[1.2592478095185238,1.2592478095185238,1.2592478095185238,1.2592478095185238,1.2592478095185238,1.2592478095185238],label='model')\n",
    "plt.legend()"
   ]
  },
  {
   "cell_type": "code",
   "execution_count": 59,
   "id": "613470e7",
   "metadata": {
    "ExecuteTime": {
     "end_time": "2021-06-10T17:04:51.876067Z",
     "start_time": "2021-06-10T17:04:51.861165Z"
    },
    "scrolled": false
   },
   "outputs": [
    {
     "data": {
      "text/html": [
       "<div>\n",
       "<style scoped>\n",
       "    .dataframe tbody tr th:only-of-type {\n",
       "        vertical-align: middle;\n",
       "    }\n",
       "\n",
       "    .dataframe tbody tr th {\n",
       "        vertical-align: top;\n",
       "    }\n",
       "\n",
       "    .dataframe thead th {\n",
       "        text-align: right;\n",
       "    }\n",
       "</style>\n",
       "<table border=\"1\" class=\"dataframe\">\n",
       "  <thead>\n",
       "    <tr style=\"text-align: right;\">\n",
       "      <th></th>\n",
       "      <th>name</th>\n",
       "      <th>GW</th>\n",
       "      <th>season</th>\n",
       "      <th>y_pred</th>\n",
       "      <th>y_test</th>\n",
       "    </tr>\n",
       "  </thead>\n",
       "  <tbody>\n",
       "    <tr>\n",
       "      <th>162</th>\n",
       "      <td>che adams</td>\n",
       "      <td>28</td>\n",
       "      <td>21</td>\n",
       "      <td>3.129098</td>\n",
       "      <td>8</td>\n",
       "    </tr>\n",
       "    <tr>\n",
       "      <th>336</th>\n",
       "      <td>gabriel fernando de jesus</td>\n",
       "      <td>28</td>\n",
       "      <td>21</td>\n",
       "      <td>2.420553</td>\n",
       "      <td>7</td>\n",
       "    </tr>\n",
       "    <tr>\n",
       "      <th>230</th>\n",
       "      <td>danny ings</td>\n",
       "      <td>28</td>\n",
       "      <td>21</td>\n",
       "      <td>2.215942</td>\n",
       "      <td>0</td>\n",
       "    </tr>\n",
       "    <tr>\n",
       "      <th>776</th>\n",
       "      <td>sergio agüero</td>\n",
       "      <td>28</td>\n",
       "      <td>21</td>\n",
       "      <td>1.573876</td>\n",
       "      <td>6</td>\n",
       "    </tr>\n",
       "    <tr>\n",
       "      <th>785</th>\n",
       "      <td>shane long</td>\n",
       "      <td>28</td>\n",
       "      <td>21</td>\n",
       "      <td>0.200512</td>\n",
       "      <td>0</td>\n",
       "    </tr>\n",
       "  </tbody>\n",
       "</table>\n",
       "</div>"
      ],
      "text/plain": [
       "                          name  GW  season    y_pred  y_test\n",
       "162                  che adams  28      21  3.129098       8\n",
       "336  gabriel fernando de jesus  28      21  2.420553       7\n",
       "230                 danny ings  28      21  2.215942       0\n",
       "776              sergio agüero  28      21  1.573876       6\n",
       "785                 shane long  28      21  0.200512       0"
      ]
     },
     "execution_count": 59,
     "metadata": {},
     "output_type": "execute_result"
    }
   ],
   "source": [
    "hold_df[hold_df['GW']==28].sort_values(by='y_pred',ascending=False).head(5)"
   ]
  },
  {
   "cell_type": "code",
   "execution_count": 60,
   "id": "ed6b38c6",
   "metadata": {
    "ExecuteTime": {
     "end_time": "2021-06-10T17:04:53.439048Z",
     "start_time": "2021-06-10T17:04:53.422319Z"
    },
    "scrolled": true
   },
   "outputs": [
    {
     "data": {
      "text/html": [
       "<div>\n",
       "<style scoped>\n",
       "    .dataframe tbody tr th:only-of-type {\n",
       "        vertical-align: middle;\n",
       "    }\n",
       "\n",
       "    .dataframe tbody tr th {\n",
       "        vertical-align: top;\n",
       "    }\n",
       "\n",
       "    .dataframe thead th {\n",
       "        text-align: right;\n",
       "    }\n",
       "</style>\n",
       "<table border=\"1\" class=\"dataframe\">\n",
       "  <thead>\n",
       "    <tr style=\"text-align: right;\">\n",
       "      <th></th>\n",
       "      <th>name</th>\n",
       "      <th>GW</th>\n",
       "      <th>season</th>\n",
       "      <th>y_pred</th>\n",
       "      <th>y_test</th>\n",
       "    </tr>\n",
       "  </thead>\n",
       "  <tbody>\n",
       "    <tr>\n",
       "      <th>162</th>\n",
       "      <td>che adams</td>\n",
       "      <td>28</td>\n",
       "      <td>21</td>\n",
       "      <td>3.129098</td>\n",
       "      <td>8</td>\n",
       "    </tr>\n",
       "    <tr>\n",
       "      <th>336</th>\n",
       "      <td>gabriel fernando de jesus</td>\n",
       "      <td>28</td>\n",
       "      <td>21</td>\n",
       "      <td>2.420553</td>\n",
       "      <td>7</td>\n",
       "    </tr>\n",
       "    <tr>\n",
       "      <th>776</th>\n",
       "      <td>sergio agüero</td>\n",
       "      <td>28</td>\n",
       "      <td>21</td>\n",
       "      <td>1.573876</td>\n",
       "      <td>6</td>\n",
       "    </tr>\n",
       "    <tr>\n",
       "      <th>220</th>\n",
       "      <td>daniel n'lundulu</td>\n",
       "      <td>28</td>\n",
       "      <td>21</td>\n",
       "      <td>0.105307</td>\n",
       "      <td>1</td>\n",
       "    </tr>\n",
       "    <tr>\n",
       "      <th>230</th>\n",
       "      <td>danny ings</td>\n",
       "      <td>28</td>\n",
       "      <td>21</td>\n",
       "      <td>2.215942</td>\n",
       "      <td>0</td>\n",
       "    </tr>\n",
       "  </tbody>\n",
       "</table>\n",
       "</div>"
      ],
      "text/plain": [
       "                          name  GW  season    y_pred  y_test\n",
       "162                  che adams  28      21  3.129098       8\n",
       "336  gabriel fernando de jesus  28      21  2.420553       7\n",
       "776              sergio agüero  28      21  1.573876       6\n",
       "220           daniel n'lundulu  28      21  0.105307       1\n",
       "230                 danny ings  28      21  2.215942       0"
      ]
     },
     "execution_count": 60,
     "metadata": {},
     "output_type": "execute_result"
    }
   ],
   "source": [
    "hold_df[hold_df['GW']==28].sort_values(by='y_test',ascending=False).head(5)"
   ]
  },
  {
   "cell_type": "markdown",
   "id": "5a752cca",
   "metadata": {},
   "source": [
    "### KNN"
   ]
  },
  {
   "cell_type": "code",
   "execution_count": null,
   "id": "d72f8cea",
   "metadata": {
    "ExecuteTime": {
     "end_time": "2021-06-10T16:53:49.476279Z",
     "start_time": "2021-06-10T16:52:31.919Z"
    }
   },
   "outputs": [],
   "source": [
    "X_train=rolling_df_train.drop(columns='total_points')\n",
    "X_test=rolling_df_test.drop(columns='total_points')\n",
    "\n",
    "y_train=rolling_df_train['total_points']\n",
    "y_test=rolling_df_test['total_points']"
   ]
  },
  {
   "cell_type": "code",
   "execution_count": null,
   "id": "e5a62217",
   "metadata": {
    "ExecuteTime": {
     "end_time": "2021-06-10T16:53:49.489318Z",
     "start_time": "2021-06-10T16:52:31.923Z"
    }
   },
   "outputs": [],
   "source": [
    "X_train"
   ]
  },
  {
   "cell_type": "code",
   "execution_count": null,
   "id": "7e583e6e",
   "metadata": {
    "ExecuteTime": {
     "end_time": "2021-06-10T16:53:49.495619Z",
     "start_time": "2021-06-10T16:52:31.925Z"
    }
   },
   "outputs": [],
   "source": [
    "from sklearn.preprocessing import MinMaxScaler\n",
    "\n",
    "scaler = MinMaxScaler()\n",
    "scaler.fit(X_train)\n",
    "X_train=scaler.transform(X_train)\n",
    "X_test=scaler.transform(X_test)"
   ]
  },
  {
   "cell_type": "code",
   "execution_count": null,
   "id": "42aae042",
   "metadata": {
    "ExecuteTime": {
     "end_time": "2021-06-10T16:53:49.498385Z",
     "start_time": "2021-06-10T16:52:31.928Z"
    }
   },
   "outputs": [],
   "source": [
    "from sklearn.neighbors import KNeighborsRegressor\n",
    "from sklearn.model_selection import GridSearchCV\n",
    "\n",
    "reg = KNeighborsRegressor()\n",
    "reg.fit(X_train, y_train)\n",
    "\n",
    "result=cross_val_score(reg, X_train, y_train).mean()\n",
    "\n",
    "result\n"
   ]
  },
  {
   "cell_type": "code",
   "execution_count": null,
   "id": "dff2bb6f",
   "metadata": {
    "ExecuteTime": {
     "end_time": "2021-06-10T16:53:49.501136Z",
     "start_time": "2021-06-10T16:52:31.931Z"
    }
   },
   "outputs": [],
   "source": [
    "y_pred=reg.predict(X_test)\n",
    "\n",
    "mean_absolute_error(y_test,y_pred)"
   ]
  },
  {
   "cell_type": "markdown",
   "id": "c58b78b3",
   "metadata": {},
   "source": [
    "# Midfielders"
   ]
  },
  {
   "cell_type": "code",
   "execution_count": null,
   "id": "1b5379a3",
   "metadata": {
    "ExecuteTime": {
     "end_time": "2021-06-10T16:53:49.503572Z",
     "start_time": "2021-06-10T16:52:31.934Z"
    }
   },
   "outputs": [],
   "source": [
    "mid_features=['name','assists','bps','clean_sheets','creativity','goals_conceded','goals_scored','ict_index',\n",
    "              'influence','kickoff_time','minutes','penalties_missed','red_cards','selected',\n",
    "              'threat','total_points','transfers_balance','value','was_home','yellow_cards','GW',\n",
    "              'season','opponent_level','team_level']"
   ]
  },
  {
   "cell_type": "code",
   "execution_count": null,
   "id": "5c470895",
   "metadata": {
    "ExecuteTime": {
     "end_time": "2021-06-10T16:53:49.506228Z",
     "start_time": "2021-06-10T16:52:31.938Z"
    }
   },
   "outputs": [],
   "source": [
    "mid_train=mid_df_train[mid_features]\n",
    "mid_test=mid_df_test[mid_features]"
   ]
  },
  {
   "cell_type": "code",
   "execution_count": null,
   "id": "f617011f",
   "metadata": {
    "ExecuteTime": {
     "end_time": "2021-06-10T16:53:49.509333Z",
     "start_time": "2021-06-10T16:52:31.941Z"
    },
    "scrolled": true
   },
   "outputs": [],
   "source": [
    "mid_train['cards']=mid_train['yellow_cards']+mid_train['red_cards']\n",
    "mid_test['cards']=mid_test['yellow_cards']+mid_test['red_cards']\n",
    "\n"
   ]
  },
  {
   "cell_type": "code",
   "execution_count": null,
   "id": "cf029b2b",
   "metadata": {
    "ExecuteTime": {
     "end_time": "2021-06-10T16:53:49.512222Z",
     "start_time": "2021-06-10T16:52:31.944Z"
    },
    "scrolled": true
   },
   "outputs": [],
   "source": [
    "mid_train.columns"
   ]
  },
  {
   "cell_type": "code",
   "execution_count": null,
   "id": "6e7d84be",
   "metadata": {
    "ExecuteTime": {
     "end_time": "2021-06-10T16:53:49.524548Z",
     "start_time": "2021-06-10T16:52:31.947Z"
    }
   },
   "outputs": [],
   "source": [
    "rolling_features=['name','assists','bps','clean_sheets','creativity','goals_conceded','goals_scored','ict_index','influence',\n",
    "                  'minutes','selected','threat','total_points','transfers_balance','value','penalties_missed','cards']\n",
    "\n",
    "static_features=['kickoff_time','was_home','GW','season','opponent_level','team_level']\n",
    "\n",
    "\n",
    "\n",
    "total_points_train=mid_train['total_points']\n",
    "total_points_test=mid_test['total_points']\n",
    "\n",
    "\n"
   ]
  },
  {
   "cell_type": "markdown",
   "id": "e1cdebb6",
   "metadata": {},
   "source": [
    "## Rolling Features"
   ]
  },
  {
   "cell_type": "code",
   "execution_count": null,
   "id": "883cd2b8",
   "metadata": {
    "ExecuteTime": {
     "end_time": "2021-06-10T16:53:49.527525Z",
     "start_time": "2021-06-10T16:52:31.950Z"
    }
   },
   "outputs": [],
   "source": [
    "rolling_df_train=mid_train[rolling_features].groupby('name').rolling(ra,closed = 'left').mean()\n",
    "rolling_df_test=mid_test[rolling_features].groupby('name').rolling(ra,closed = 'left').mean()\n"
   ]
  },
  {
   "cell_type": "code",
   "execution_count": null,
   "id": "3dced415",
   "metadata": {
    "ExecuteTime": {
     "end_time": "2021-06-10T16:53:49.530407Z",
     "start_time": "2021-06-10T16:52:31.953Z"
    }
   },
   "outputs": [],
   "source": [
    "rolling_df_train.rename(columns={'total_points':'rolling_points'},inplace=True)\n",
    "rolling_df_test.rename(columns={'total_points':'rolling_points'},inplace=True)"
   ]
  },
  {
   "cell_type": "code",
   "execution_count": null,
   "id": "e076d011",
   "metadata": {
    "ExecuteTime": {
     "end_time": "2021-06-10T16:53:49.532351Z",
     "start_time": "2021-06-10T16:52:31.956Z"
    }
   },
   "outputs": [],
   "source": [
    "\n",
    "result = map(lambda position:position, total_points_train)\n",
    "rolling_df_train['total_points']=list(result)\n",
    "\n",
    "result = map(lambda position:position, total_points_test)\n",
    "rolling_df_test['total_points']=list(result)"
   ]
  },
  {
   "cell_type": "code",
   "execution_count": null,
   "id": "6abab8ed",
   "metadata": {
    "ExecuteTime": {
     "end_time": "2021-06-10T16:53:49.537447Z",
     "start_time": "2021-06-10T16:52:31.960Z"
    },
    "scrolled": true
   },
   "outputs": [],
   "source": [
    "rolling_df_train.head()"
   ]
  },
  {
   "cell_type": "code",
   "execution_count": null,
   "id": "c434bab9",
   "metadata": {
    "ExecuteTime": {
     "end_time": "2021-06-10T16:53:49.540916Z",
     "start_time": "2021-06-10T16:52:31.963Z"
    }
   },
   "outputs": [],
   "source": [
    "for i in static_features:\n",
    "    result = map(lambda position:position, mid_train[i])\n",
    "    rolling_df_train[i]=list(result)\n",
    "for i in static_features:\n",
    "    result = map(lambda position:position, mid_test[i])\n",
    "    rolling_df_test[i]=list(result)\n",
    "\n"
   ]
  },
  {
   "cell_type": "code",
   "execution_count": null,
   "id": "aa09b60c",
   "metadata": {
    "ExecuteTime": {
     "end_time": "2021-06-10T16:53:49.544532Z",
     "start_time": "2021-06-10T16:52:31.967Z"
    }
   },
   "outputs": [],
   "source": [
    "rolling_df_train.head()"
   ]
  },
  {
   "cell_type": "code",
   "execution_count": null,
   "id": "d56744d5",
   "metadata": {
    "ExecuteTime": {
     "end_time": "2021-06-10T16:53:49.546881Z",
     "start_time": "2021-06-10T16:52:31.970Z"
    }
   },
   "outputs": [],
   "source": [
    "rolling_df_train.dropna(inplace=True)\n",
    "rolling_df_test.dropna(inplace=True)"
   ]
  },
  {
   "cell_type": "code",
   "execution_count": null,
   "id": "b15d6d13",
   "metadata": {
    "ExecuteTime": {
     "end_time": "2021-06-10T16:53:49.549310Z",
     "start_time": "2021-06-10T16:52:31.973Z"
    }
   },
   "outputs": [],
   "source": [
    "rolling_df_train.isnull().sum().sort_values(ascending=False)"
   ]
  },
  {
   "cell_type": "code",
   "execution_count": null,
   "id": "46e987d9",
   "metadata": {
    "ExecuteTime": {
     "end_time": "2021-06-10T16:53:49.551823Z",
     "start_time": "2021-06-10T16:52:31.976Z"
    }
   },
   "outputs": [],
   "source": [
    "rolling_df_train.drop(columns=['creativity','influence','threat'],inplace=True)\n",
    "rolling_df_test.drop(columns=['creativity','influence','threat'],inplace=True)"
   ]
  },
  {
   "cell_type": "code",
   "execution_count": null,
   "id": "218e742e",
   "metadata": {
    "ExecuteTime": {
     "end_time": "2021-06-10T16:53:49.555332Z",
     "start_time": "2021-06-10T16:52:31.979Z"
    }
   },
   "outputs": [],
   "source": [
    "time=[]\n",
    "for row in rolling_df_train['kickoff_time']:\n",
    "    time.append(row.hour)\n",
    "rolling_df_train['time']=time\n",
    "\n",
    "time=[]\n",
    "for row in rolling_df_test['kickoff_time']:\n",
    "    time.append(row.hour)\n",
    "rolling_df_test['time']=time"
   ]
  },
  {
   "cell_type": "code",
   "execution_count": null,
   "id": "c158a83a",
   "metadata": {
    "ExecuteTime": {
     "end_time": "2021-06-10T16:53:49.557712Z",
     "start_time": "2021-06-10T16:52:31.982Z"
    }
   },
   "outputs": [],
   "source": [
    "rolling_df_train.drop(columns='kickoff_time',inplace=True)\n",
    "rolling_df_test.drop(columns='kickoff_time',inplace=True)"
   ]
  },
  {
   "cell_type": "code",
   "execution_count": null,
   "id": "ecaa187a",
   "metadata": {
    "ExecuteTime": {
     "end_time": "2021-06-10T16:53:49.561472Z",
     "start_time": "2021-06-10T16:52:31.986Z"
    }
   },
   "outputs": [],
   "source": [
    "rolling_df_train.columns"
   ]
  },
  {
   "cell_type": "code",
   "execution_count": null,
   "id": "2b35058f",
   "metadata": {
    "ExecuteTime": {
     "end_time": "2021-06-10T16:53:49.570317Z",
     "start_time": "2021-06-10T16:52:31.989Z"
    }
   },
   "outputs": [],
   "source": [
    "from sklearn.preprocessing import LabelEncoder\n",
    "\n",
    "encoder = LabelEncoder()\n",
    "encoder.fit(rolling_df_train[['was_home']])\n",
    "rolling_df_train['was_home'] = encoder.transform(rolling_df_train[['was_home']])\n",
    "\n",
    "encoder = LabelEncoder()\n",
    "encoder.fit(rolling_df_test[['was_home']])\n",
    "rolling_df_test['was_home'] = encoder.transform(rolling_df_test[['was_home']])"
   ]
  },
  {
   "cell_type": "code",
   "execution_count": null,
   "id": "1a632c9a",
   "metadata": {
    "ExecuteTime": {
     "end_time": "2021-06-10T16:53:49.572451Z",
     "start_time": "2021-06-10T16:52:31.993Z"
    }
   },
   "outputs": [],
   "source": [
    "rolling_df_train=rolling_df_train.reset_index()\n",
    "rolling_df_test=rolling_df_test.reset_index()\n"
   ]
  },
  {
   "cell_type": "code",
   "execution_count": null,
   "id": "66305968",
   "metadata": {
    "ExecuteTime": {
     "end_time": "2021-06-10T16:53:49.574872Z",
     "start_time": "2021-06-10T16:52:31.997Z"
    }
   },
   "outputs": [],
   "source": [
    "rolling_df_train.head()"
   ]
  },
  {
   "cell_type": "code",
   "execution_count": null,
   "id": "62f7b334",
   "metadata": {
    "ExecuteTime": {
     "end_time": "2021-06-10T16:53:49.576602Z",
     "start_time": "2021-06-10T16:52:32.000Z"
    }
   },
   "outputs": [],
   "source": [
    "hold_train=rolling_df_train[['name','GW','season']]\n",
    "hold_test=rolling_df_test[['name','GW','season']]\n",
    "\n",
    "rolling_df_train.drop(columns=['name','GW','season','level_1'],inplace=True)\n",
    "rolling_df_test.drop(columns=['name','GW','season','level_1'],inplace=True)"
   ]
  },
  {
   "cell_type": "code",
   "execution_count": null,
   "id": "f6598020",
   "metadata": {
    "ExecuteTime": {
     "end_time": "2021-06-10T16:53:49.578991Z",
     "start_time": "2021-06-10T16:52:32.004Z"
    },
    "scrolled": true
   },
   "outputs": [],
   "source": [
    "rolling_df_train.head()"
   ]
  },
  {
   "cell_type": "code",
   "execution_count": null,
   "id": "e2b4a991",
   "metadata": {
    "ExecuteTime": {
     "end_time": "2021-06-10T16:53:49.581244Z",
     "start_time": "2021-06-10T16:52:32.007Z"
    }
   },
   "outputs": [],
   "source": [
    "rolling_df_train.columns"
   ]
  },
  {
   "cell_type": "code",
   "execution_count": null,
   "id": "b7929c3d",
   "metadata": {
    "ExecuteTime": {
     "end_time": "2021-06-10T16:53:49.583486Z",
     "start_time": "2021-06-10T16:52:32.010Z"
    }
   },
   "outputs": [],
   "source": [
    "rolling_df_train.shape"
   ]
  },
  {
   "cell_type": "markdown",
   "id": "c9204865",
   "metadata": {},
   "source": [
    "## Models for the midfielders"
   ]
  },
  {
   "cell_type": "markdown",
   "id": "9e1bdd9e",
   "metadata": {},
   "source": [
    "### Gradient Boosting"
   ]
  },
  {
   "cell_type": "code",
   "execution_count": null,
   "id": "04e5c5d4",
   "metadata": {
    "ExecuteTime": {
     "end_time": "2021-06-10T16:53:49.586599Z",
     "start_time": "2021-06-10T16:52:32.014Z"
    }
   },
   "outputs": [],
   "source": [
    "X_train=rolling_df_train.drop(columns='total_points')\n",
    "X_test=rolling_df_test.drop(columns='total_points')"
   ]
  },
  {
   "cell_type": "code",
   "execution_count": null,
   "id": "27ad596d",
   "metadata": {
    "ExecuteTime": {
     "end_time": "2021-06-10T16:53:49.594173Z",
     "start_time": "2021-06-10T16:52:32.016Z"
    }
   },
   "outputs": [],
   "source": [
    "y_train=rolling_df_train['total_points']\n",
    "y_test=rolling_df_test['total_points']\n"
   ]
  },
  {
   "cell_type": "code",
   "execution_count": null,
   "id": "8ba9ef70",
   "metadata": {
    "ExecuteTime": {
     "end_time": "2021-06-10T16:53:49.598858Z",
     "start_time": "2021-06-10T16:52:32.019Z"
    }
   },
   "outputs": [],
   "source": [
    "from sklearn.ensemble import GradientBoostingRegressor\n",
    "from sklearn.model_selection import GridSearchCV\n",
    "from sklearn.metrics import mean_absolute_error\n",
    "from sklearn.model_selection import cross_val_score\n",
    "\n",
    "reg = GradientBoostingRegressor(random_state=0,loss='ls')\n",
    "reg.fit(X_train, y_train)\n",
    "y_pred=reg.predict(X_test)\n",
    "\n",
    "mean_absolute_error(y_test,y_pred)"
   ]
  },
  {
   "cell_type": "code",
   "execution_count": null,
   "id": "ab788483",
   "metadata": {
    "ExecuteTime": {
     "end_time": "2021-06-10T16:53:49.606593Z",
     "start_time": "2021-06-10T16:52:32.022Z"
    }
   },
   "outputs": [],
   "source": [
    "result=cross_val_score(reg, X_train, y_train).mean()\n",
    "\n",
    "result"
   ]
  },
  {
   "cell_type": "code",
   "execution_count": null,
   "id": "03225ab9",
   "metadata": {
    "ExecuteTime": {
     "end_time": "2021-06-10T16:53:49.612068Z",
     "start_time": "2021-06-10T16:52:32.025Z"
    }
   },
   "outputs": [],
   "source": [
    "hold_test['y_pred']=y_pred"
   ]
  },
  {
   "cell_type": "code",
   "execution_count": null,
   "id": "ba8c8473",
   "metadata": {
    "ExecuteTime": {
     "end_time": "2021-06-10T16:53:49.614152Z",
     "start_time": "2021-06-10T16:52:32.028Z"
    }
   },
   "outputs": [],
   "source": [
    "hold_test['y_test']=y_test"
   ]
  },
  {
   "cell_type": "code",
   "execution_count": null,
   "id": "00380433",
   "metadata": {
    "ExecuteTime": {
     "end_time": "2021-06-10T16:53:49.616258Z",
     "start_time": "2021-06-10T16:52:32.032Z"
    }
   },
   "outputs": [],
   "source": [
    "hold_test[hold_test['name']=='paul pogba']"
   ]
  },
  {
   "cell_type": "code",
   "execution_count": null,
   "id": "4f710564",
   "metadata": {
    "ExecuteTime": {
     "end_time": "2021-06-10T16:53:49.620429Z",
     "start_time": "2021-06-10T16:52:32.036Z"
    },
    "scrolled": true
   },
   "outputs": [],
   "source": [
    "hold_test[hold_test['name']=='harry winks']"
   ]
  },
  {
   "cell_type": "code",
   "execution_count": null,
   "id": "32afcf03",
   "metadata": {
    "ExecuteTime": {
     "end_time": "2021-06-10T16:53:49.627183Z",
     "start_time": "2021-06-10T16:52:32.041Z"
    },
    "scrolled": true
   },
   "outputs": [],
   "source": [
    "hold_df=hold_test.copy()\n",
    "plt.plot(hold_df[hold_df['name']=='harry winks']['GW'],np.abs(hold_df[hold_df['name']=='harry winks']['y_pred']-hold_df[hold_df['name']=='harry winks']['y_test']),label='harry winks')\n",
    "plt.plot(hold_df[hold_df['name']=='paul pogba']['GW'],np.abs(hold_df[hold_df['name']=='paul pogba']['y_pred']-hold_df[hold_df['name']=='paul pogba']['y_test']),label='paul pogba')\n",
    "plt.plot(hold_df[hold_df['name']=='declan rice']['GW'],np.abs(hold_df[hold_df['name']=='declan rice']['y_pred']-hold_df[hold_df['name']=='declan rice']['y_test']),label='declan rice')\n",
    "plt.plot(hold_df[hold_df['name']=='mason mount']['GW'],np.abs(hold_df[hold_df['name']=='mason mount']['y_pred']-hold_df[hold_df['name']=='mason mount']['y_test']),label='mason mount')\n",
    "plt.plot([28,30,32,34,36,38],[1.046823268074249,1.046823268074249,1.046823268074249,1.046823268074249,1.046823268074249,1.046823268074249],label='model')\n",
    "plt.legend()"
   ]
  },
  {
   "cell_type": "code",
   "execution_count": null,
   "id": "823020ad",
   "metadata": {
    "ExecuteTime": {
     "end_time": "2021-06-10T16:53:49.631072Z",
     "start_time": "2021-06-10T16:52:32.045Z"
    },
    "scrolled": false
   },
   "outputs": [],
   "source": [
    "hold_df[hold_df['GW']==38].sort_values(by='y_pred',ascending=False).head(5)"
   ]
  },
  {
   "cell_type": "code",
   "execution_count": null,
   "id": "6e49ae33",
   "metadata": {
    "ExecuteTime": {
     "end_time": "2021-06-10T16:53:49.635463Z",
     "start_time": "2021-06-10T16:52:32.049Z"
    },
    "scrolled": false
   },
   "outputs": [],
   "source": [
    "hold_df[hold_df['GW']==38].sort_values(by='y_test',ascending=False).head(5)"
   ]
  },
  {
   "cell_type": "markdown",
   "id": "3916d2bf",
   "metadata": {},
   "source": [
    "### KNN"
   ]
  },
  {
   "cell_type": "code",
   "execution_count": null,
   "id": "742054d9",
   "metadata": {
    "ExecuteTime": {
     "end_time": "2021-06-10T16:53:49.649053Z",
     "start_time": "2021-06-10T16:52:32.053Z"
    }
   },
   "outputs": [],
   "source": [
    "X_train=rolling_df_train.drop(columns='total_points')\n",
    "X_test=rolling_df_test.drop(columns='total_points')\n",
    "\n",
    "y_train=rolling_df_train['total_points']\n",
    "y_test=rolling_df_test['total_points']"
   ]
  },
  {
   "cell_type": "code",
   "execution_count": null,
   "id": "0d9ed16f",
   "metadata": {
    "ExecuteTime": {
     "end_time": "2021-06-10T16:53:49.651025Z",
     "start_time": "2021-06-10T16:52:32.058Z"
    }
   },
   "outputs": [],
   "source": [
    "X_train"
   ]
  },
  {
   "cell_type": "code",
   "execution_count": null,
   "id": "b36bd9b1",
   "metadata": {
    "ExecuteTime": {
     "end_time": "2021-06-10T16:53:49.652847Z",
     "start_time": "2021-06-10T16:52:32.061Z"
    }
   },
   "outputs": [],
   "source": [
    "from sklearn.preprocessing import MinMaxScaler\n",
    "\n",
    "scaler = MinMaxScaler()\n",
    "scaler.fit(X_train)\n",
    "X_train=scaler.transform(X_train)\n",
    "X_test=scaler.transform(X_test)"
   ]
  },
  {
   "cell_type": "code",
   "execution_count": null,
   "id": "98ad6b6e",
   "metadata": {
    "ExecuteTime": {
     "end_time": "2021-06-10T16:53:49.663668Z",
     "start_time": "2021-06-10T16:52:32.065Z"
    }
   },
   "outputs": [],
   "source": [
    "from sklearn.neighbors import KNeighborsRegressor\n",
    "from sklearn.model_selection import GridSearchCV\n",
    "\n",
    "reg = KNeighborsRegressor()\n",
    "reg.fit(X_train, y_train)\n",
    "\n",
    "result=cross_val_score(reg, X_train, y_train).mean()\n",
    "\n",
    "result\n"
   ]
  },
  {
   "cell_type": "code",
   "execution_count": null,
   "id": "4cb41036",
   "metadata": {
    "ExecuteTime": {
     "end_time": "2021-06-10T16:53:49.714203Z",
     "start_time": "2021-06-10T16:52:32.068Z"
    }
   },
   "outputs": [],
   "source": [
    "y_pred=reg.predict(X_test)\n",
    "\n",
    "mean_absolute_error(y_test,y_pred)"
   ]
  },
  {
   "cell_type": "markdown",
   "id": "626489fe",
   "metadata": {},
   "source": [
    "# Defenders"
   ]
  },
  {
   "cell_type": "code",
   "execution_count": null,
   "id": "e1eb437f",
   "metadata": {
    "ExecuteTime": {
     "end_time": "2021-06-10T16:53:49.716236Z",
     "start_time": "2021-06-10T16:52:32.073Z"
    }
   },
   "outputs": [],
   "source": [
    "def_features=['name','assists','bps','clean_sheets','creativity','goals_conceded','goals_scored',\n",
    "              'ict_index','influence','kickoff_time','minutes','penalties_missed','red_cards',\n",
    "              'selected','threat','total_points','transfers_balance','value','was_home',\n",
    "              'yellow_cards','GW','season','opponent_level','team_level']"
   ]
  },
  {
   "cell_type": "markdown",
   "id": "f7e3e125",
   "metadata": {},
   "source": [
    "# Goalkeepers"
   ]
  },
  {
   "cell_type": "code",
   "execution_count": null,
   "id": "02bc22b1",
   "metadata": {
    "ExecuteTime": {
     "end_time": "2021-06-10T16:53:49.718768Z",
     "start_time": "2021-06-10T16:52:32.077Z"
    }
   },
   "outputs": [],
   "source": [
    "gk_features=['name','assists','bps','clean_sheets','creativity','goals_conceded','ict_index','influence',\n",
    "             'kickoff_time','minutes','penalties_saved','red_cards','saves','selected','threat','total_points',\n",
    "            'transfers_balance','value','was_home','yellow_cards','GW','season','opponent_level','team_level']"
   ]
  },
  {
   "cell_type": "code",
   "execution_count": null,
   "id": "17f1c28a",
   "metadata": {
    "ExecuteTime": {
     "end_time": "2021-06-10T16:53:49.721737Z",
     "start_time": "2021-06-10T16:52:32.080Z"
    }
   },
   "outputs": [],
   "source": [
    "def roll_match_features(df, roll=3, method='mean'):\n",
    "    '''\n",
    "    Returns the lagged dataframe with a chosen method and lagging window\n",
    "    Adds a 'real_total_points' column\n",
    "    '''\n",
    "    # splitting into game features and known features\n",
    "    known_features = ['name', 'opponent_team','kickoff_time','was_home',\n",
    "                      'opponent_level','team_level','dreamteam_yearly_average','GW',\n",
    "                      'team_id','season','kickoff_date','position']\n",
    "    game_features = ['name','assists', 'bonus', 'bps', 'clean_sheets','creativity','goals_conceded',\n",
    "                     'threat','goals_scored', 'ict_index','influence','kickoff_time', 'minutes',\n",
    "                     'own_goals','penalties_missed', 'penalties_saved','red_cards', 'saves',\n",
    "                     'transfers_balance','value','yellow_cards','team_a_score','team_h_score',\n",
    "                     'total_points']\n",
    "    \n",
    "    df_pre_match = df[known_features]\n",
    "    df_match = df[game_features]\n",
    "    \n",
    "    # roll with a given method\n",
    "    rolled_df = df_match.groupby('name')\n",
    "    if method == 'mean':\n",
    "        rolled_df = rolled_df.rolling(roll,closed='left').mean()\n",
    "    elif method == 'max':\n",
    "        rolled_df = rolled_df.rolling(roll,closed='left').max()\n",
    "    elif method == 'min':\n",
    "        rolled_df = rolled_df.rolling(roll,closed='left').min()\n",
    "    else: #do a mean() meathod\n",
    "        rolled_df = rolled_df.rolling(roll,closed='left').mean()\n",
    "    rolled_df.reset_index(inplace=True)\n",
    "    \n",
    "    # Add back the un-lagged, real total_points\n",
    "    rolled_df['real_total_points'] = df_match['total_points']\n",
    "    \n",
    "    # Rename the rolled columns to how they were rolled\n",
    "    game_features.remove('name')\n",
    "    game_features_rolled=[]\n",
    "    for feat in game_features:\n",
    "        game_features_rolled.append('r_' + feat)\n",
    "    feat_new_names_dict = dict(zip(game_features, game_features_rolled))\n",
    "    rolled_df.rename(feat_new_names_dict,axis=1, inplace=True)\n",
    "    \n",
    "    # Join the features available pre-match\n",
    "    data = rolled_df.join(df_pre_match[['opponent_team','kickoff_time','was_home',\n",
    "                 'opponent_level','team_level','dreamteam_yearly_average','GW',\n",
    "                  'team_id','season','kickoff_date','position']])\n",
    "    \n",
    "    # Delete the NaN values fromn the rolled 'points_pred' columns\n",
    "    data = data[~data.r_total_points.isnull()]\n",
    "    \n",
    "    return data"
   ]
  }
 ],
 "metadata": {
  "kernelspec": {
   "display_name": "Python 3",
   "language": "python",
   "name": "python3"
  },
  "language_info": {
   "codemirror_mode": {
    "name": "ipython",
    "version": 3
   },
   "file_extension": ".py",
   "mimetype": "text/x-python",
   "name": "python",
   "nbconvert_exporter": "python",
   "pygments_lexer": "ipython3",
   "version": "3.8.6"
  },
  "toc": {
   "base_numbering": 1,
   "nav_menu": {},
   "number_sections": true,
   "sideBar": true,
   "skip_h1_title": false,
   "title_cell": "Table of Contents",
   "title_sidebar": "Contents",
   "toc_cell": false,
   "toc_position": {
    "height": "calc(100% - 180px)",
    "left": "10px",
    "top": "150px",
    "width": "288px"
   },
   "toc_section_display": true,
   "toc_window_display": true
  }
 },
 "nbformat": 4,
 "nbformat_minor": 5
}
