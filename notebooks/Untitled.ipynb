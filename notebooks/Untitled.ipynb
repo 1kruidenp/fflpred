{
 "cells": [
  {
   "cell_type": "code",
   "execution_count": 2,
   "id": "ae5255e6",
   "metadata": {
    "ExecuteTime": {
     "end_time": "2021-06-07T15:16:11.615734Z",
     "start_time": "2021-06-07T15:16:11.075734Z"
    }
   },
   "outputs": [],
   "source": [
    "import pandas as pd"
   ]
  },
  {
   "cell_type": "markdown",
   "id": "5dfd42fe",
   "metadata": {},
   "source": [
    "# Looking at the merged_gw"
   ]
  },
  {
   "cell_type": "code",
   "execution_count": 26,
   "id": "4605b7e4",
   "metadata": {
    "ExecuteTime": {
     "end_time": "2021-06-07T13:25:44.816574Z",
     "start_time": "2021-06-07T13:25:44.667950Z"
    },
    "scrolled": true
   },
   "outputs": [],
   "source": [
    "df_2020=pd.read_csv('../raw_data/2020-21/gws/merged_gw.csv')"
   ]
  },
  {
   "cell_type": "code",
   "execution_count": 30,
   "id": "11c6988c",
   "metadata": {
    "ExecuteTime": {
     "end_time": "2021-06-07T13:25:51.940810Z",
     "start_time": "2021-06-07T13:25:51.772360Z"
    }
   },
   "outputs": [],
   "source": [
    "df_2016=pd.read_csv('../raw_data/2016-17/gws/merged_gw.csv')"
   ]
  },
  {
   "cell_type": "code",
   "execution_count": 39,
   "id": "d29528aa",
   "metadata": {
    "ExecuteTime": {
     "end_time": "2021-06-07T13:31:14.573173Z",
     "start_time": "2021-06-07T13:31:14.366183Z"
    }
   },
   "outputs": [],
   "source": [
    "df_2017=pd.read_csv('../raw_data/2017-18/gws/merged_gw.csv')"
   ]
  },
  {
   "cell_type": "code",
   "execution_count": 40,
   "id": "4a8a0857",
   "metadata": {
    "ExecuteTime": {
     "end_time": "2021-06-07T13:31:15.589546Z",
     "start_time": "2021-06-07T13:31:15.359181Z"
    }
   },
   "outputs": [],
   "source": [
    "df_2018=pd.read_csv('../raw_data/2018-19/gws/merged_gw.csv')"
   ]
  },
  {
   "cell_type": "code",
   "execution_count": 41,
   "id": "0c6264cc",
   "metadata": {
    "ExecuteTime": {
     "end_time": "2021-06-07T13:31:16.328465Z",
     "start_time": "2021-06-07T13:31:16.189036Z"
    }
   },
   "outputs": [],
   "source": [
    "df_2019=pd.read_csv('../raw_data/2019-20/gws/merged_gw.csv')"
   ]
  },
  {
   "cell_type": "code",
   "execution_count": 44,
   "id": "048c2b2e",
   "metadata": {
    "ExecuteTime": {
     "end_time": "2021-06-07T13:31:57.541320Z",
     "start_time": "2021-06-07T13:31:57.530716Z"
    }
   },
   "outputs": [
    {
     "data": {
      "text/plain": [
       "(23679, 56)"
      ]
     },
     "execution_count": 44,
     "metadata": {},
     "output_type": "execute_result"
    }
   ],
   "source": [
    "df_2016.shape"
   ]
  },
  {
   "cell_type": "code",
   "execution_count": 45,
   "id": "2298b9ee",
   "metadata": {
    "ExecuteTime": {
     "end_time": "2021-06-07T13:31:58.456875Z",
     "start_time": "2021-06-07T13:31:58.448034Z"
    }
   },
   "outputs": [
    {
     "data": {
      "text/plain": [
       "(22467, 56)"
      ]
     },
     "execution_count": 45,
     "metadata": {},
     "output_type": "execute_result"
    }
   ],
   "source": [
    "df_2017.shape"
   ]
  },
  {
   "cell_type": "code",
   "execution_count": 46,
   "id": "0b761a54",
   "metadata": {
    "ExecuteTime": {
     "end_time": "2021-06-07T13:31:59.743921Z",
     "start_time": "2021-06-07T13:31:59.730863Z"
    }
   },
   "outputs": [
    {
     "data": {
      "text/plain": [
       "(21790, 56)"
      ]
     },
     "execution_count": 46,
     "metadata": {},
     "output_type": "execute_result"
    }
   ],
   "source": [
    "df_2018.shape"
   ]
  },
  {
   "cell_type": "code",
   "execution_count": 47,
   "id": "8d53bc6c",
   "metadata": {
    "ExecuteTime": {
     "end_time": "2021-06-07T13:32:00.689254Z",
     "start_time": "2021-06-07T13:32:00.677968Z"
    }
   },
   "outputs": [
    {
     "data": {
      "text/plain": [
       "(22560, 33)"
      ]
     },
     "execution_count": 47,
     "metadata": {},
     "output_type": "execute_result"
    }
   ],
   "source": [
    "df_2019.shape"
   ]
  },
  {
   "cell_type": "code",
   "execution_count": 48,
   "id": "3422c562",
   "metadata": {
    "ExecuteTime": {
     "end_time": "2021-06-07T13:32:01.948794Z",
     "start_time": "2021-06-07T13:32:01.939151Z"
    }
   },
   "outputs": [
    {
     "data": {
      "text/plain": [
       "(24365, 36)"
      ]
     },
     "execution_count": 48,
     "metadata": {},
     "output_type": "execute_result"
    }
   ],
   "source": [
    "df_2020.shape"
   ]
  },
  {
   "cell_type": "code",
   "execution_count": 34,
   "id": "41a097f3",
   "metadata": {
    "ExecuteTime": {
     "end_time": "2021-06-07T13:26:32.837759Z",
     "start_time": "2021-06-07T13:26:32.827012Z"
    }
   },
   "outputs": [
    {
     "data": {
      "text/plain": [
       "Index(['name', 'assists', 'attempted_passes', 'big_chances_created',\n",
       "       'big_chances_missed', 'bonus', 'bps', 'clean_sheets',\n",
       "       'clearances_blocks_interceptions', 'completed_passes', 'creativity',\n",
       "       'dribbles', 'ea_index', 'element', 'errors_leading_to_goal',\n",
       "       'errors_leading_to_goal_attempt', 'fixture', 'fouls', 'goals_conceded',\n",
       "       'goals_scored', 'ict_index', 'id', 'influence', 'key_passes',\n",
       "       'kickoff_time', 'kickoff_time_formatted', 'loaned_in', 'loaned_out',\n",
       "       'minutes', 'offside', 'open_play_crosses', 'opponent_team', 'own_goals',\n",
       "       'penalties_conceded', 'penalties_missed', 'penalties_saved',\n",
       "       'recoveries', 'red_cards', 'round', 'saves', 'selected', 'tackled',\n",
       "       'tackles', 'target_missed', 'team_a_score', 'team_h_score', 'threat',\n",
       "       'total_points', 'transfers_balance', 'transfers_in', 'transfers_out',\n",
       "       'value', 'was_home', 'winning_goals', 'yellow_cards', 'GW'],\n",
       "      dtype='object')"
      ]
     },
     "execution_count": 34,
     "metadata": {},
     "output_type": "execute_result"
    }
   ],
   "source": [
    "df_2016.columns"
   ]
  },
  {
   "cell_type": "code",
   "execution_count": 49,
   "id": "d96edd0d",
   "metadata": {
    "ExecuteTime": {
     "end_time": "2021-06-07T13:32:39.359836Z",
     "start_time": "2021-06-07T13:32:39.348459Z"
    }
   },
   "outputs": [
    {
     "data": {
      "text/plain": [
       "Index(['name', 'assists', 'bonus', 'bps', 'clean_sheets', 'creativity',\n",
       "       'element', 'fixture', 'goals_conceded', 'goals_scored', 'ict_index',\n",
       "       'influence', 'kickoff_time', 'minutes', 'opponent_team', 'own_goals',\n",
       "       'penalties_missed', 'penalties_saved', 'red_cards', 'round', 'saves',\n",
       "       'selected', 'team_a_score', 'team_h_score', 'threat', 'total_points',\n",
       "       'transfers_balance', 'transfers_in', 'transfers_out', 'value',\n",
       "       'was_home', 'yellow_cards', 'GW'],\n",
       "      dtype='object')"
      ]
     },
     "execution_count": 49,
     "metadata": {},
     "output_type": "execute_result"
    }
   ],
   "source": [
    "df_2019.columns"
   ]
  },
  {
   "cell_type": "code",
   "execution_count": 35,
   "id": "0f924f2e",
   "metadata": {
    "ExecuteTime": {
     "end_time": "2021-06-07T13:26:36.096425Z",
     "start_time": "2021-06-07T13:26:36.080925Z"
    },
    "scrolled": true
   },
   "outputs": [
    {
     "data": {
      "text/plain": [
       "Index(['name', 'position', 'team', 'xP', 'assists', 'bonus', 'bps',\n",
       "       'clean_sheets', 'creativity', 'element', 'fixture', 'goals_conceded',\n",
       "       'goals_scored', 'ict_index', 'influence', 'kickoff_time', 'minutes',\n",
       "       'opponent_team', 'own_goals', 'penalties_missed', 'penalties_saved',\n",
       "       'red_cards', 'round', 'saves', 'selected', 'team_a_score',\n",
       "       'team_h_score', 'threat', 'total_points', 'transfers_balance',\n",
       "       'transfers_in', 'transfers_out', 'value', 'was_home', 'yellow_cards',\n",
       "       'GW'],\n",
       "      dtype='object')"
      ]
     },
     "execution_count": 35,
     "metadata": {},
     "output_type": "execute_result"
    }
   ],
   "source": [
    "df_2020.columns"
   ]
  },
  {
   "cell_type": "code",
   "execution_count": 57,
   "id": "7263c568",
   "metadata": {
    "ExecuteTime": {
     "end_time": "2021-06-07T13:40:37.723398Z",
     "start_time": "2021-06-07T13:40:37.715649Z"
    }
   },
   "outputs": [],
   "source": [
    "columns_in_all=[]\n",
    "for column in df_2016.columns:\n",
    "    if column in df_2017.columns and column in df_2018.columns and column in df_2019.columns and column in df_2020.columns:\n",
    "        columns_in_all.append(column)"
   ]
  },
  {
   "cell_type": "code",
   "execution_count": 60,
   "id": "22de5301",
   "metadata": {
    "ExecuteTime": {
     "end_time": "2021-06-07T13:40:55.402605Z",
     "start_time": "2021-06-07T13:40:55.325144Z"
    }
   },
   "outputs": [
    {
     "data": {
      "text/plain": [
       "['name',\n",
       " 'assists',\n",
       " 'bonus',\n",
       " 'bps',\n",
       " 'clean_sheets',\n",
       " 'creativity',\n",
       " 'element',\n",
       " 'fixture',\n",
       " 'goals_conceded',\n",
       " 'goals_scored',\n",
       " 'ict_index',\n",
       " 'influence',\n",
       " 'kickoff_time',\n",
       " 'minutes',\n",
       " 'opponent_team',\n",
       " 'own_goals',\n",
       " 'penalties_missed',\n",
       " 'penalties_saved',\n",
       " 'red_cards',\n",
       " 'round',\n",
       " 'saves',\n",
       " 'selected',\n",
       " 'team_a_score',\n",
       " 'team_h_score',\n",
       " 'threat',\n",
       " 'total_points',\n",
       " 'transfers_balance',\n",
       " 'transfers_in',\n",
       " 'transfers_out',\n",
       " 'value',\n",
       " 'was_home',\n",
       " 'yellow_cards',\n",
       " 'GW']"
      ]
     },
     "execution_count": 60,
     "metadata": {},
     "output_type": "execute_result"
    }
   ],
   "source": [
    "columns_in_all"
   ]
  },
  {
   "cell_type": "code",
   "execution_count": 62,
   "id": "ab97d9cc",
   "metadata": {
    "ExecuteTime": {
     "end_time": "2021-06-07T13:43:30.545411Z",
     "start_time": "2021-06-07T13:43:27.722160Z"
    }
   },
   "outputs": [],
   "source": [
    "import matplotlib.pyplot as plt\n"
   ]
  },
  {
   "cell_type": "code",
   "execution_count": 145,
   "id": "9df9576e",
   "metadata": {
    "ExecuteTime": {
     "end_time": "2021-06-07T14:56:34.011168Z",
     "start_time": "2021-06-07T14:56:33.783487Z"
    }
   },
   "outputs": [
    {
     "name": "stdout",
     "output_type": "stream",
     "text": [
      "Untitled.ipynb\r\n"
     ]
    }
   ],
   "source": [
    "!ls"
   ]
  },
  {
   "cell_type": "markdown",
   "id": "86a5f1d0",
   "metadata": {},
   "source": [
    "# Assigning a player position to each player"
   ]
  },
  {
   "cell_type": "code",
   "execution_count": 3,
   "id": "c12e596b",
   "metadata": {
    "ExecuteTime": {
     "end_time": "2021-06-07T15:16:15.055246Z",
     "start_time": "2021-06-07T15:16:14.956956Z"
    }
   },
   "outputs": [
    {
     "data": {
      "text/plain": [
       "(114861, 33)"
      ]
     },
     "execution_count": 3,
     "metadata": {},
     "output_type": "execute_result"
    }
   ],
   "source": [
    "all_merged=pd.read_pickle('../raw_data/full_data.pickle')\n",
    "all_merged.shape"
   ]
  },
  {
   "cell_type": "code",
   "execution_count": 38,
   "id": "fab53723",
   "metadata": {
    "ExecuteTime": {
     "end_time": "2021-06-07T15:46:09.196113Z",
     "start_time": "2021-06-07T15:46:08.926848Z"
    },
    "scrolled": true
   },
   "outputs": [
    {
     "data": {
      "text/html": [
       "<div>\n",
       "<style scoped>\n",
       "    .dataframe tbody tr th:only-of-type {\n",
       "        vertical-align: middle;\n",
       "    }\n",
       "\n",
       "    .dataframe tbody tr th {\n",
       "        vertical-align: top;\n",
       "    }\n",
       "\n",
       "    .dataframe thead th {\n",
       "        text-align: right;\n",
       "    }\n",
       "</style>\n",
       "<table border=\"1\" class=\"dataframe\">\n",
       "  <thead>\n",
       "    <tr style=\"text-align: right;\">\n",
       "      <th></th>\n",
       "      <th>name</th>\n",
       "      <th>assists</th>\n",
       "      <th>bonus</th>\n",
       "      <th>bps</th>\n",
       "      <th>clean_sheets</th>\n",
       "      <th>creativity</th>\n",
       "      <th>element</th>\n",
       "      <th>fixture</th>\n",
       "      <th>goals_conceded</th>\n",
       "      <th>goals_scored</th>\n",
       "      <th>...</th>\n",
       "      <th>threat</th>\n",
       "      <th>total_points</th>\n",
       "      <th>transfers_balance</th>\n",
       "      <th>transfers_in</th>\n",
       "      <th>transfers_out</th>\n",
       "      <th>value</th>\n",
       "      <th>was_home</th>\n",
       "      <th>yellow_cards</th>\n",
       "      <th>GW</th>\n",
       "      <th>season</th>\n",
       "    </tr>\n",
       "  </thead>\n",
       "  <tbody>\n",
       "    <tr>\n",
       "      <th>0</th>\n",
       "      <td>Aaron Connolly</td>\n",
       "      <td>0</td>\n",
       "      <td>0</td>\n",
       "      <td>-3</td>\n",
       "      <td>0</td>\n",
       "      <td>0.3</td>\n",
       "      <td>78</td>\n",
       "      <td>7</td>\n",
       "      <td>2</td>\n",
       "      <td>0</td>\n",
       "      <td>...</td>\n",
       "      <td>32.0</td>\n",
       "      <td>1</td>\n",
       "      <td>0</td>\n",
       "      <td>0</td>\n",
       "      <td>0</td>\n",
       "      <td>55</td>\n",
       "      <td>True</td>\n",
       "      <td>0</td>\n",
       "      <td>1</td>\n",
       "      <td>21</td>\n",
       "    </tr>\n",
       "    <tr>\n",
       "      <th>1</th>\n",
       "      <td>Aaron Cresswell</td>\n",
       "      <td>0</td>\n",
       "      <td>0</td>\n",
       "      <td>11</td>\n",
       "      <td>0</td>\n",
       "      <td>11.2</td>\n",
       "      <td>435</td>\n",
       "      <td>6</td>\n",
       "      <td>2</td>\n",
       "      <td>0</td>\n",
       "      <td>...</td>\n",
       "      <td>0.0</td>\n",
       "      <td>1</td>\n",
       "      <td>0</td>\n",
       "      <td>0</td>\n",
       "      <td>0</td>\n",
       "      <td>50</td>\n",
       "      <td>True</td>\n",
       "      <td>0</td>\n",
       "      <td>1</td>\n",
       "      <td>21</td>\n",
       "    </tr>\n",
       "    <tr>\n",
       "      <th>2</th>\n",
       "      <td>Aaron Mooy</td>\n",
       "      <td>0</td>\n",
       "      <td>0</td>\n",
       "      <td>0</td>\n",
       "      <td>0</td>\n",
       "      <td>0.0</td>\n",
       "      <td>60</td>\n",
       "      <td>7</td>\n",
       "      <td>0</td>\n",
       "      <td>0</td>\n",
       "      <td>...</td>\n",
       "      <td>0.0</td>\n",
       "      <td>0</td>\n",
       "      <td>0</td>\n",
       "      <td>0</td>\n",
       "      <td>0</td>\n",
       "      <td>50</td>\n",
       "      <td>True</td>\n",
       "      <td>0</td>\n",
       "      <td>1</td>\n",
       "      <td>21</td>\n",
       "    </tr>\n",
       "    <tr>\n",
       "      <th>3</th>\n",
       "      <td>Aaron Ramsdale</td>\n",
       "      <td>0</td>\n",
       "      <td>0</td>\n",
       "      <td>12</td>\n",
       "      <td>0</td>\n",
       "      <td>0.0</td>\n",
       "      <td>483</td>\n",
       "      <td>8</td>\n",
       "      <td>2</td>\n",
       "      <td>0</td>\n",
       "      <td>...</td>\n",
       "      <td>0.0</td>\n",
       "      <td>1</td>\n",
       "      <td>0</td>\n",
       "      <td>0</td>\n",
       "      <td>0</td>\n",
       "      <td>50</td>\n",
       "      <td>True</td>\n",
       "      <td>0</td>\n",
       "      <td>1</td>\n",
       "      <td>21</td>\n",
       "    </tr>\n",
       "    <tr>\n",
       "      <th>4</th>\n",
       "      <td>Abdoulaye Doucouré</td>\n",
       "      <td>0</td>\n",
       "      <td>0</td>\n",
       "      <td>20</td>\n",
       "      <td>1</td>\n",
       "      <td>44.6</td>\n",
       "      <td>512</td>\n",
       "      <td>4</td>\n",
       "      <td>0</td>\n",
       "      <td>0</td>\n",
       "      <td>...</td>\n",
       "      <td>4.0</td>\n",
       "      <td>3</td>\n",
       "      <td>0</td>\n",
       "      <td>0</td>\n",
       "      <td>0</td>\n",
       "      <td>55</td>\n",
       "      <td>False</td>\n",
       "      <td>0</td>\n",
       "      <td>1</td>\n",
       "      <td>21</td>\n",
       "    </tr>\n",
       "    <tr>\n",
       "      <th>...</th>\n",
       "      <td>...</td>\n",
       "      <td>...</td>\n",
       "      <td>...</td>\n",
       "      <td>...</td>\n",
       "      <td>...</td>\n",
       "      <td>...</td>\n",
       "      <td>...</td>\n",
       "      <td>...</td>\n",
       "      <td>...</td>\n",
       "      <td>...</td>\n",
       "      <td>...</td>\n",
       "      <td>...</td>\n",
       "      <td>...</td>\n",
       "      <td>...</td>\n",
       "      <td>...</td>\n",
       "      <td>...</td>\n",
       "      <td>...</td>\n",
       "      <td>...</td>\n",
       "      <td>...</td>\n",
       "      <td>...</td>\n",
       "      <td>...</td>\n",
       "    </tr>\n",
       "    <tr>\n",
       "      <th>23674</th>\n",
       "      <td>Yohan_Cabaye</td>\n",
       "      <td>0</td>\n",
       "      <td>3</td>\n",
       "      <td>42</td>\n",
       "      <td>0</td>\n",
       "      <td>41.2</td>\n",
       "      <td>118</td>\n",
       "      <td>86</td>\n",
       "      <td>3</td>\n",
       "      <td>1</td>\n",
       "      <td>...</td>\n",
       "      <td>117.0</td>\n",
       "      <td>10</td>\n",
       "      <td>-2177</td>\n",
       "      <td>152</td>\n",
       "      <td>2329</td>\n",
       "      <td>56</td>\n",
       "      <td>False</td>\n",
       "      <td>0</td>\n",
       "      <td>9</td>\n",
       "      <td>17</td>\n",
       "    </tr>\n",
       "    <tr>\n",
       "      <th>23675</th>\n",
       "      <td>Younes_Kaboul</td>\n",
       "      <td>0</td>\n",
       "      <td>0</td>\n",
       "      <td>23</td>\n",
       "      <td>1</td>\n",
       "      <td>0.6</td>\n",
       "      <td>341</td>\n",
       "      <td>89</td>\n",
       "      <td>0</td>\n",
       "      <td>0</td>\n",
       "      <td>...</td>\n",
       "      <td>12.0</td>\n",
       "      <td>6</td>\n",
       "      <td>1403</td>\n",
       "      <td>1897</td>\n",
       "      <td>494</td>\n",
       "      <td>44</td>\n",
       "      <td>False</td>\n",
       "      <td>0</td>\n",
       "      <td>9</td>\n",
       "      <td>17</td>\n",
       "    </tr>\n",
       "    <tr>\n",
       "      <th>23676</th>\n",
       "      <td>Zlatan_Ibrahimovic</td>\n",
       "      <td>0</td>\n",
       "      <td>0</td>\n",
       "      <td>8</td>\n",
       "      <td>0</td>\n",
       "      <td>23.1</td>\n",
       "      <td>272</td>\n",
       "      <td>84</td>\n",
       "      <td>4</td>\n",
       "      <td>0</td>\n",
       "      <td>...</td>\n",
       "      <td>56.0</td>\n",
       "      <td>2</td>\n",
       "      <td>-237262</td>\n",
       "      <td>4227</td>\n",
       "      <td>241489</td>\n",
       "      <td>113</td>\n",
       "      <td>False</td>\n",
       "      <td>0</td>\n",
       "      <td>9</td>\n",
       "      <td>17</td>\n",
       "    </tr>\n",
       "    <tr>\n",
       "      <th>23677</th>\n",
       "      <td>Álvaro_Arbeloa</td>\n",
       "      <td>0</td>\n",
       "      <td>0</td>\n",
       "      <td>0</td>\n",
       "      <td>0</td>\n",
       "      <td>0.0</td>\n",
       "      <td>568</td>\n",
       "      <td>90</td>\n",
       "      <td>0</td>\n",
       "      <td>0</td>\n",
       "      <td>...</td>\n",
       "      <td>0.0</td>\n",
       "      <td>0</td>\n",
       "      <td>-291</td>\n",
       "      <td>140</td>\n",
       "      <td>431</td>\n",
       "      <td>49</td>\n",
       "      <td>True</td>\n",
       "      <td>0</td>\n",
       "      <td>9</td>\n",
       "      <td>17</td>\n",
       "    </tr>\n",
       "    <tr>\n",
       "      <th>23678</th>\n",
       "      <td>Álvaro_Negredo</td>\n",
       "      <td>0</td>\n",
       "      <td>0</td>\n",
       "      <td>-3</td>\n",
       "      <td>1</td>\n",
       "      <td>12.8</td>\n",
       "      <td>478</td>\n",
       "      <td>81</td>\n",
       "      <td>0</td>\n",
       "      <td>0</td>\n",
       "      <td>...</td>\n",
       "      <td>105.0</td>\n",
       "      <td>2</td>\n",
       "      <td>-98062</td>\n",
       "      <td>3386</td>\n",
       "      <td>101448</td>\n",
       "      <td>64</td>\n",
       "      <td>False</td>\n",
       "      <td>0</td>\n",
       "      <td>9</td>\n",
       "      <td>17</td>\n",
       "    </tr>\n",
       "  </tbody>\n",
       "</table>\n",
       "<p>114861 rows × 33 columns</p>\n",
       "</div>"
      ],
      "text/plain": [
       "                     name  assists  bonus  bps  clean_sheets  creativity  \\\n",
       "0          Aaron Connolly        0      0   -3             0         0.3   \n",
       "1         Aaron Cresswell        0      0   11             0        11.2   \n",
       "2              Aaron Mooy        0      0    0             0         0.0   \n",
       "3          Aaron Ramsdale        0      0   12             0         0.0   \n",
       "4      Abdoulaye Doucouré        0      0   20             1        44.6   \n",
       "...                   ...      ...    ...  ...           ...         ...   \n",
       "23674        Yohan_Cabaye        0      3   42             0        41.2   \n",
       "23675       Younes_Kaboul        0      0   23             1         0.6   \n",
       "23676  Zlatan_Ibrahimovic        0      0    8             0        23.1   \n",
       "23677      Álvaro_Arbeloa        0      0    0             0         0.0   \n",
       "23678      Álvaro_Negredo        0      0   -3             1        12.8   \n",
       "\n",
       "       element  fixture  goals_conceded  goals_scored  ...  threat  \\\n",
       "0           78        7               2             0  ...    32.0   \n",
       "1          435        6               2             0  ...     0.0   \n",
       "2           60        7               0             0  ...     0.0   \n",
       "3          483        8               2             0  ...     0.0   \n",
       "4          512        4               0             0  ...     4.0   \n",
       "...        ...      ...             ...           ...  ...     ...   \n",
       "23674      118       86               3             1  ...   117.0   \n",
       "23675      341       89               0             0  ...    12.0   \n",
       "23676      272       84               4             0  ...    56.0   \n",
       "23677      568       90               0             0  ...     0.0   \n",
       "23678      478       81               0             0  ...   105.0   \n",
       "\n",
       "       total_points transfers_balance  transfers_in  transfers_out  value  \\\n",
       "0                 1                 0             0              0     55   \n",
       "1                 1                 0             0              0     50   \n",
       "2                 0                 0             0              0     50   \n",
       "3                 1                 0             0              0     50   \n",
       "4                 3                 0             0              0     55   \n",
       "...             ...               ...           ...            ...    ...   \n",
       "23674            10             -2177           152           2329     56   \n",
       "23675             6              1403          1897            494     44   \n",
       "23676             2           -237262          4227         241489    113   \n",
       "23677             0              -291           140            431     49   \n",
       "23678             2            -98062          3386         101448     64   \n",
       "\n",
       "       was_home  yellow_cards  GW  season  \n",
       "0          True             0   1      21  \n",
       "1          True             0   1      21  \n",
       "2          True             0   1      21  \n",
       "3          True             0   1      21  \n",
       "4         False             0   1      21  \n",
       "...         ...           ...  ..     ...  \n",
       "23674     False             0   9      17  \n",
       "23675     False             0   9      17  \n",
       "23676     False             0   9      17  \n",
       "23677      True             0   9      17  \n",
       "23678     False             0   9      17  \n",
       "\n",
       "[114861 rows x 33 columns]"
      ]
     },
     "execution_count": 38,
     "metadata": {},
     "output_type": "execute_result"
    }
   ],
   "source": [
    "all_merged"
   ]
  },
  {
   "cell_type": "code",
   "execution_count": 20,
   "id": "a95c2777",
   "metadata": {
    "ExecuteTime": {
     "end_time": "2021-06-07T15:27:44.524404Z",
     "start_time": "2021-06-07T15:27:44.390022Z"
    }
   },
   "outputs": [],
   "source": [
    "big_df=pd.DataFrame()\n",
    "\n",
    "raw_data_path = '../raw_data'\n",
    "\n",
    "raw21 = pd.read_csv(raw_data_path + '/2020-21/players_raw.csv', encoding='utf_8')\n",
    "raw20 = pd.read_csv(raw_data_path + '/2019-20/players_raw.csv', encoding='utf_8')\n",
    "raw19 = pd.read_csv(raw_data_path + '/2018-19/players_raw.csv', encoding='ISO-8859-1')\n",
    "raw18 = pd.read_csv(raw_data_path + '/2017-18/players_raw.csv', encoding='ISO-8859-1')\n",
    "raw17 = pd.read_csv(raw_data_path + '/2016-17/players_raw.csv', encoding='ISO-8859-1')"
   ]
  },
  {
   "cell_type": "code",
   "execution_count": 28,
   "id": "c02f8da7",
   "metadata": {
    "ExecuteTime": {
     "end_time": "2021-06-07T15:31:44.699228Z",
     "start_time": "2021-06-07T15:31:44.688694Z"
    }
   },
   "outputs": [],
   "source": [
    "raw17['element_type']\n",
    "\n",
    "position_by_name={\n",
    "    1:'GK',\n",
    "    2:'DEF',\n",
    "    3:'MID',\n",
    "    4:'FWD'\n",
    "}\n",
    "\n",
    "\n",
    "raw_seasons=[raw17,raw18,raw19,raw20,raw21]\n",
    "for season in raw_seasons:\n",
    "\n",
    "    positions=map(lambda num:position_by_name[num], season['element_type'] )\n",
    "    season['position']=list(positions)"
   ]
  },
  {
   "cell_type": "code",
   "execution_count": 35,
   "id": "c5429588",
   "metadata": {
    "ExecuteTime": {
     "end_time": "2021-06-07T15:37:27.426946Z",
     "start_time": "2021-06-07T15:37:27.365794Z"
    },
    "scrolled": true
   },
   "outputs": [
    {
     "data": {
      "text/html": [
       "<div>\n",
       "<style scoped>\n",
       "    .dataframe tbody tr th:only-of-type {\n",
       "        vertical-align: middle;\n",
       "    }\n",
       "\n",
       "    .dataframe tbody tr th {\n",
       "        vertical-align: top;\n",
       "    }\n",
       "\n",
       "    .dataframe thead th {\n",
       "        text-align: right;\n",
       "    }\n",
       "</style>\n",
       "<table border=\"1\" class=\"dataframe\">\n",
       "  <thead>\n",
       "    <tr style=\"text-align: right;\">\n",
       "      <th></th>\n",
       "      <th>first_name</th>\n",
       "      <th>second_name</th>\n",
       "      <th>position</th>\n",
       "    </tr>\n",
       "  </thead>\n",
       "  <tbody>\n",
       "    <tr>\n",
       "      <th>0</th>\n",
       "      <td>David</td>\n",
       "      <td>Ospina</td>\n",
       "      <td>GK</td>\n",
       "    </tr>\n",
       "    <tr>\n",
       "      <th>1</th>\n",
       "      <td>Petr</td>\n",
       "      <td>Cech</td>\n",
       "      <td>GK</td>\n",
       "    </tr>\n",
       "    <tr>\n",
       "      <th>2</th>\n",
       "      <td>Laurent</td>\n",
       "      <td>Koscielny</td>\n",
       "      <td>DEF</td>\n",
       "    </tr>\n",
       "    <tr>\n",
       "      <th>3</th>\n",
       "      <td>Per</td>\n",
       "      <td>Mertesacker</td>\n",
       "      <td>DEF</td>\n",
       "    </tr>\n",
       "    <tr>\n",
       "      <th>4</th>\n",
       "      <td>Gabriel Armando</td>\n",
       "      <td>de Abreu</td>\n",
       "      <td>DEF</td>\n",
       "    </tr>\n",
       "  </tbody>\n",
       "</table>\n",
       "</div>"
      ],
      "text/plain": [
       "        first_name  second_name position\n",
       "0            David       Ospina       GK\n",
       "1             Petr         Cech       GK\n",
       "2          Laurent    Koscielny      DEF\n",
       "3              Per  Mertesacker      DEF\n",
       "4  Gabriel Armando     de Abreu      DEF"
      ]
     },
     "execution_count": 35,
     "metadata": {},
     "output_type": "execute_result"
    }
   ],
   "source": [
    "raw17[['first_name','second_name','position']].head()"
   ]
  },
  {
   "cell_type": "code",
   "execution_count": 37,
   "id": "1a8cd878",
   "metadata": {
    "ExecuteTime": {
     "end_time": "2021-06-07T15:37:50.970806Z",
     "start_time": "2021-06-07T15:37:50.958459Z"
    }
   },
   "outputs": [
    {
     "data": {
      "text/html": [
       "<div>\n",
       "<style scoped>\n",
       "    .dataframe tbody tr th:only-of-type {\n",
       "        vertical-align: middle;\n",
       "    }\n",
       "\n",
       "    .dataframe tbody tr th {\n",
       "        vertical-align: top;\n",
       "    }\n",
       "\n",
       "    .dataframe thead th {\n",
       "        text-align: right;\n",
       "    }\n",
       "</style>\n",
       "<table border=\"1\" class=\"dataframe\">\n",
       "  <thead>\n",
       "    <tr style=\"text-align: right;\">\n",
       "      <th></th>\n",
       "      <th>first_name</th>\n",
       "      <th>second_name</th>\n",
       "      <th>position</th>\n",
       "    </tr>\n",
       "  </thead>\n",
       "  <tbody>\n",
       "    <tr>\n",
       "      <th>0</th>\n",
       "      <td>Mesut</td>\n",
       "      <td>Özil</td>\n",
       "      <td>MID</td>\n",
       "    </tr>\n",
       "    <tr>\n",
       "      <th>1</th>\n",
       "      <td>Sokratis</td>\n",
       "      <td>Papastathopoulos</td>\n",
       "      <td>DEF</td>\n",
       "    </tr>\n",
       "    <tr>\n",
       "      <th>2</th>\n",
       "      <td>David</td>\n",
       "      <td>Luiz Moreira Marinho</td>\n",
       "      <td>DEF</td>\n",
       "    </tr>\n",
       "    <tr>\n",
       "      <th>3</th>\n",
       "      <td>Pierre-Emerick</td>\n",
       "      <td>Aubameyang</td>\n",
       "      <td>MID</td>\n",
       "    </tr>\n",
       "    <tr>\n",
       "      <th>4</th>\n",
       "      <td>Cédric</td>\n",
       "      <td>Soares</td>\n",
       "      <td>DEF</td>\n",
       "    </tr>\n",
       "  </tbody>\n",
       "</table>\n",
       "</div>"
      ],
      "text/plain": [
       "       first_name           second_name position\n",
       "0           Mesut                  Özil      MID\n",
       "1        Sokratis      Papastathopoulos      DEF\n",
       "2           David  Luiz Moreira Marinho      DEF\n",
       "3  Pierre-Emerick            Aubameyang      MID\n",
       "4          Cédric                Soares      DEF"
      ]
     },
     "execution_count": 37,
     "metadata": {},
     "output_type": "execute_result"
    }
   ],
   "source": [
    "raw21[['first_name','second_name','position']].head()"
   ]
  }
 ],
 "metadata": {
  "kernelspec": {
   "display_name": "Python 3",
   "language": "python",
   "name": "python3"
  },
  "language_info": {
   "codemirror_mode": {
    "name": "ipython",
    "version": 3
   },
   "file_extension": ".py",
   "mimetype": "text/x-python",
   "name": "python",
   "nbconvert_exporter": "python",
   "pygments_lexer": "ipython3",
   "version": "3.8.6"
  },
  "toc": {
   "base_numbering": 1,
   "nav_menu": {},
   "number_sections": true,
   "sideBar": true,
   "skip_h1_title": false,
   "title_cell": "Table of Contents",
   "title_sidebar": "Contents",
   "toc_cell": false,
   "toc_position": {},
   "toc_section_display": true,
   "toc_window_display": false
  }
 },
 "nbformat": 4,
 "nbformat_minor": 5
}
