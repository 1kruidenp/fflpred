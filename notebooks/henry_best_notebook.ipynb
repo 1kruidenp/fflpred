{
 "cells": [
  {
   "cell_type": "code",
   "execution_count": 2,
   "id": "4fc4727f",
   "metadata": {},
   "outputs": [],
   "source": [
    "import pandas as pd\n",
    "import numpy as np\n",
    "import matplotlib.pyplot as plt\n",
    "from merge_years.import_data import get_full_data"
   ]
  },
  {
   "cell_type": "code",
   "execution_count": 3,
   "id": "5a37ffa8",
   "metadata": {},
   "outputs": [],
   "source": [
    "full_data = get_full_data('../raw_data')"
   ]
  },
  {
   "cell_type": "code",
   "execution_count": 109,
   "id": "edbe204d",
   "metadata": {},
   "outputs": [
    {
     "data": {
      "text/plain": [
       "Index(['name', 'assists', 'bonus', 'bps', 'clean_sheets', 'creativity',\n",
       "       'element', 'fixture', 'goals_conceded', 'goals_scored', 'ict_index',\n",
       "       'influence', 'kickoff_time', 'minutes', 'opponent_team', 'own_goals',\n",
       "       'penalties_missed', 'penalties_saved', 'red_cards', 'saves', 'selected',\n",
       "       'team_a_score', 'team_h_score', 'threat', 'total_points',\n",
       "       'transfers_balance', 'transfers_in', 'transfers_out', 'value',\n",
       "       'was_home', 'yellow_cards', 'GW', 'season', 'position',\n",
       "       'dreamteam_yearly_average', 'team_id', 'team_name', 'opponent_level',\n",
       "       'team_level', 'kickoff_date'],\n",
       "      dtype='object')"
      ]
     },
     "execution_count": 109,
     "metadata": {},
     "output_type": "execute_result"
    }
   ],
   "source": [
    "full_data.columns"
   ]
  },
  {
   "cell_type": "markdown",
   "id": "c2441a8e",
   "metadata": {},
   "source": [
    "## Pre Processing, feature engineering, splitting etc"
   ]
  },
  {
   "cell_type": "markdown",
   "id": "d9c69d9f",
   "metadata": {
    "heading_collapsed": true
   },
   "source": [
    "### Rolling Function "
   ]
  },
  {
   "cell_type": "code",
   "execution_count": 73,
   "id": "f0e477b3",
   "metadata": {
    "hidden": true
   },
   "outputs": [],
   "source": [
    "def roll_match_features(df, roll=2, method='mean'):\n",
    "    '''\n",
    "    Returns the lagged dataframe with a chosen method and lagging window\n",
    "    Adds a 'real_total_points' column\n",
    "    '''\n",
    "    df = df[df.season > 19]\n",
    "    # splitting into game features and known features\n",
    "    known_features = ['name', 'opponent_team','kickoff_time','was_home',\n",
    "                      'opponent_level','team_level','dreamteam_yearly_average','GW',\n",
    "                      'team_id','season','kickoff_date','position','value']\n",
    "\n",
    "    game_features = ['name','assists', 'bonus', 'bps', 'clean_sheets','creativity','goals_conceded',\n",
    "                     'threat','goals_scored', 'ict_index','influence','kickoff_time', 'minutes',\n",
    "                     'own_goals','penalties_missed', 'value', 'penalties_saved','red_cards', 'saves',\n",
    "                     'transfers_balance','yellow_cards','team_a_score','team_h_score',\n",
    "                     'total_points']\n",
    "    \n",
    "    df_pre_match = df[known_features]\n",
    "    df_match = df[game_features]\n",
    "    \n",
    "    # roll with a given method\n",
    "    rolled_df = df_match.groupby('name')\n",
    "    if method == 'mean':\n",
    "        rolled_df = rolled_df.rolling(roll,closed='left').mean()\n",
    "    elif method == 'max':\n",
    "        rolled_df = rolled_df.rolling(roll,closed='left').max()\n",
    "    elif method == 'min':\n",
    "        rolled_df = rolled_df.rolling(roll,closed='left').min()\n",
    "    else: #do a mean() meathod\n",
    "        rolled_df = rolled_df.rolling(roll,closed='left').mean()\n",
    "\n",
    "    rolled_df.reset_index(inplace=True)\n",
    "    \n",
    "    # Add back the un-lagged, real total_points\n",
    "    rolled_df['real_total_points'] = np.array(df_match['total_points'])\n",
    "    \n",
    "    # Rename the rolled columns to how they were rolled\n",
    "    game_features.remove('name')\n",
    "    game_features_rolled=[]\n",
    "    for feat in game_features:\n",
    "        game_features_rolled.append('r_' + feat)\n",
    "    feat_new_names_dict = dict(zip(game_features, game_features_rolled))\n",
    "    rolled_df.rename(feat_new_names_dict,axis=1, inplace=True)\n",
    "    \n",
    "    # Join the features available pre-match\n",
    "    data = rolled_df.join(df_pre_match.reset_index()[['was_home','GW','position','value','season','team_level','opponent_level']])\n",
    "    \n",
    "    # Delete the NaN values fromn the rolled 'r_total_points' columns\n",
    "    data = data[~data.r_total_points.isnull()]\n",
    "    \n",
    "    return data"
   ]
  },
  {
   "cell_type": "markdown",
   "id": "63d791b2",
   "metadata": {},
   "source": [
    "### preparing the feats "
   ]
  },
  {
   "cell_type": "markdown",
   "id": "1760a80b",
   "metadata": {
    "heading_collapsed": true
   },
   "source": [
    "##### TO DO"
   ]
  },
  {
   "cell_type": "markdown",
   "id": "8ea0d7b6",
   "metadata": {
    "hidden": true
   },
   "source": [
    "*** TO DO ***\n",
    "- Missing Values:\n",
    "    - r_team_a_score / r_team_h_score\n",
    "    - position\n",
    "- ENCODE \n",
    "    - \"was_home\"\n",
    "    - \"position\"\n",
    "- SCALING\n",
    "- (LATER): missing values for \"team_level\",\"opponent_team\",\"opponent_level\""
   ]
  },
  {
   "cell_type": "markdown",
   "id": "d78a9175",
   "metadata": {
    "heading_collapsed": true
   },
   "source": [
    "#### Pre Processing:\n"
   ]
  },
  {
   "cell_type": "code",
   "execution_count": 7,
   "id": "79e40a4f",
   "metadata": {
    "hidden": true,
    "scrolled": true
   },
   "outputs": [],
   "source": [
    "from sklearn.impute import SimpleImputer\n",
    "from sklearn.preprocessing import OneHotEncoder\n",
    "\n",
    "def pre_processing(data):\n",
    "    # Adding the missing r_team_scores:\n",
    "    imp = SimpleImputer(missing_values=np.nan, strategy='constant', fill_value=0)\n",
    "    data[\"r_team_h_score\"] = imp.fit_transform(data[[\"r_team_h_score\"]])\n",
    "    data[\"r_team_a_score\"] = imp.fit_transform(data[[\"r_team_a_score\"]])\n",
    "    \n",
    "    # Adding missing positions to 1 defender (15 rows)\n",
    "    imp_string = SimpleImputer(missing_values=np.nan, strategy='constant', fill_value=\"DEF\")\n",
    "    data[\"position\"] = imp_string.fit_transform(data[[\"position\"]])\n",
    "    \n",
    "    if len(data.position.unique()) == 4:\n",
    "        # OHE positions if ['DEF','FWD','GK','MID']\n",
    "        enc=OneHotEncoder()\n",
    "        enc.fit(data[['position']])\n",
    "        positions=enc.transform(data[['position']]).toarray()\n",
    "        data[\"DEF\"], data[\"FWD\"], data['GK'], data['MID'] = positions.T\n",
    "    else:\n",
    "        pass\n",
    "    \n",
    "    # Was_home\n",
    "    data['was_home'] = data.was_home.map(int)\n",
    "        \n",
    "    return data"
   ]
  },
  {
   "cell_type": "markdown",
   "id": "b1d0cf1b",
   "metadata": {
    "heading_collapsed": true
   },
   "source": [
    "#### Split"
   ]
  },
  {
   "cell_type": "code",
   "execution_count": 94,
   "id": "712bd883",
   "metadata": {
    "hidden": true
   },
   "outputs": [],
   "source": [
    "def split(data, roll=2):\n",
    "    # Train & Test\n",
    "    test_data = data[(data.season > 20) & (data.GW >= 38)]\n",
    "    train_data = data[~((data.season > 20) & (data.GW >= 38))]\n",
    "    \n",
    "    # X & y train\n",
    "    X_train = train_data.drop('real_total_points', axis = 1)\n",
    "    y_train = train_data.real_total_points\n",
    "    \n",
    "    # X & y test\n",
    "    X_test = test_data.drop('real_total_points', axis = 1)\n",
    "    y_test = test_data.real_total_points\n",
    "    \n",
    "    return (X_train,X_test,y_train,y_test)"
   ]
  },
  {
   "cell_type": "markdown",
   "id": "035daca9",
   "metadata": {
    "heading_collapsed": true
   },
   "source": [
    "#### SCALING"
   ]
  },
  {
   "cell_type": "code",
   "execution_count": 9,
   "id": "7fdcf605",
   "metadata": {
    "hidden": true
   },
   "outputs": [],
   "source": [
    "from sklearn.preprocessing import StandardScaler\n",
    "\n",
    "def scale(X_train, X_test,drop=[\"name\",\"season\",\"position\",\"GW\"]):\n",
    "    # drop features\n",
    "    X_train.drop(drop,axis=1,inplace=True)\n",
    "    X_test_prescaled = X_test.drop(drop,axis=1)\n",
    "    print(f\"COLUMNS USED: {list(X_train.columns)}\")\n",
    "\n",
    "    scaler = StandardScaler()\n",
    "    scaler.fit(X_train)\n",
    "    X_train_scaled = scaler.transform(X_train)\n",
    "    X_test_scaled = scaler.transform(X_test_prescaled)\n",
    "    return (X_train_scaled, X_test_scaled)"
   ]
  },
  {
   "cell_type": "markdown",
   "id": "dfd0cfe1",
   "metadata": {
    "heading_collapsed": true
   },
   "source": [
    "### ALL IN ONE"
   ]
  },
  {
   "cell_type": "code",
   "execution_count": 10,
   "id": "023ca5b5",
   "metadata": {
    "hidden": true
   },
   "outputs": [],
   "source": [
    "def model_ready(df, drop=[\"name\",\"level_1\",\"season\",\"position\",\"GW\"], roll=3):\n",
    "    '''\n",
    "    Can take \"full_data\" or \"fwd_data\" as input\n",
    "    Returns X_train_scaled, X_test_scaled, y_train y_test\n",
    "    '''\n",
    "    # Roll the game-related features, keep the known features\n",
    "    unclean_data = roll_match_features(df, roll=roll)\n",
    "    \n",
    "    # preprocess\n",
    "    data = pre_processing(unclean_data)\n",
    "    \n",
    "    #split\n",
    "    X_train, X_test, y_train, y_test = split(data, roll=roll)\n",
    "    \n",
    "    #scale\n",
    "    X_train_scaled, X_test_scaled = scale(X_train,X_test, drop=drop)\n",
    "    \n",
    "    print(f\"\"\"\n",
    "    MOVING AVERAGE WINDOW (roll) = {roll}\n",
    "    \"\"\")\n",
    "    \n",
    "    return(X_train_scaled, X_test_scaled, X_test, y_train, y_test)"
   ]
  },
  {
   "cell_type": "markdown",
   "id": "28551262",
   "metadata": {},
   "source": [
    "## Model"
   ]
  },
  {
   "cell_type": "markdown",
   "id": "be9f2ca1",
   "metadata": {
    "heading_collapsed": true
   },
   "source": [
    "#### model arch"
   ]
  },
  {
   "cell_type": "code",
   "execution_count": 11,
   "id": "e57db67d",
   "metadata": {
    "hidden": true
   },
   "outputs": [],
   "source": [
    "from tensorflow.keras import regularizers\n",
    "from tensorflow.keras import models\n",
    "from tensorflow.keras import layers\n",
    "from tensorflow.keras.optimizers import Adam\n",
    "from tensorflow.keras.callbacks import EarlyStopping\n",
    "\n",
    "reg_l1 = regularizers.L1(0.01)"
   ]
  },
  {
   "cell_type": "code",
   "execution_count": 12,
   "id": "b545631f",
   "metadata": {
    "hidden": true
   },
   "outputs": [],
   "source": [
    "def init_model(dim, learn = 0.00003, dropout = False):\n",
    "    model = models.Sequential()\n",
    "    \n",
    "    model.add(layers.Dense(35, input_dim=dim, activation='relu'))\n",
    "    if dropout:\n",
    "        model.add(layers.Dropout(rate = 0.01))\n",
    "    pass\n",
    "\n",
    "    model.add(layers.Dense(25, activation='relu', kernel_regularizer=reg_l1))\n",
    "    if dropout:\n",
    "        model.add(layers.Dropout(rate = 0.01))\n",
    "    pass\n",
    "\n",
    "    model.add(layers.Dense(15, activation='relu'))\n",
    "    if dropout:\n",
    "        model.add(layers.Dropout(rate = 0.01))\n",
    "    \n",
    "    # output layer for regression task\n",
    "    model.add(layers.Dense(1, activation='linear'))\n",
    "    \n",
    "    model.compile(loss='mse', \n",
    "                  optimizer=Adam(learning_rate=learn),\n",
    "                  metrics=['mae'])\n",
    "    return model"
   ]
  },
  {
   "cell_type": "markdown",
   "id": "c22c0993",
   "metadata": {},
   "source": [
    "#### model training neural network = 35, 25, 10"
   ]
  },
  {
   "cell_type": "markdown",
   "id": "938dccdc",
   "metadata": {},
   "source": [
    "Model is trained with rows of payers who played > 1 minute only\n",
    "\n",
    "Model is trained on years 20/21 only in order to have team level and opponent team level \n"
   ]
  },
  {
   "cell_type": "code",
   "execution_count": 99,
   "id": "59f1b99b",
   "metadata": {
    "scrolled": true
   },
   "outputs": [
    {
     "name": "stdout",
     "output_type": "stream",
     "text": [
      "COLUMNS USED: ['r_assists', 'r_bonus', 'r_bps', 'r_clean_sheets', 'r_creativity', 'r_goals_conceded', 'r_threat', 'r_goals_scored', 'r_ict_index', 'r_influence', 'r_minutes', 'r_own_goals', 'r_penalties_missed', 'r_value', 'r_penalties_saved', 'r_red_cards', 'r_saves', 'r_transfers_balance', 'r_yellow_cards', 'r_team_a_score', 'r_team_h_score', 'r_total_points', 'was_home', 'team_level', 'opponent_level', 'DEF', 'FWD', 'GK', 'MID']\n",
      "\n",
      "    MOVING AVERAGE WINDOW (roll) = 2\n",
      "    \n"
     ]
    },
    {
     "data": {
      "text/plain": [
       "(44429, 29)"
      ]
     },
     "execution_count": 99,
     "metadata": {},
     "output_type": "execute_result"
    }
   ],
   "source": [
    "drop = [\"name\",\"level_1\",\"season\",\"position\",\"GW\",'value']\n",
    "roll = 2\n",
    "players_data = full_data[full_data['minutes'] > 0]\n",
    "\n",
    "X_train_scaled, X_test_scaled, x_test, y_train, y_test = model_ready(full_data, drop, roll)\n",
    "X_train_scaled.shape"
   ]
  },
  {
   "cell_type": "code",
   "execution_count": 100,
   "id": "476d7efe",
   "metadata": {
    "scrolled": true
   },
   "outputs": [
    {
     "name": "stdout",
     "output_type": "stream",
     "text": [
      "Epoch 1/600\n",
      "1111/1111 [==============================] - 2s 1ms/step - loss: 7.4284 - mae: 1.2930 - val_loss: 7.1094 - val_mae: 1.3341\n",
      "Epoch 2/600\n",
      "1111/1111 [==============================] - 1s 1ms/step - loss: 6.4276 - mae: 1.2913 - val_loss: 6.6139 - val_mae: 1.3345\n",
      "Epoch 3/600\n",
      "1111/1111 [==============================] - 1s 1ms/step - loss: 6.1554 - mae: 1.2736 - val_loss: 6.3668 - val_mae: 1.3100\n",
      "Epoch 4/600\n",
      "1111/1111 [==============================] - 1s 1ms/step - loss: 5.9780 - mae: 1.2501 - val_loss: 6.1955 - val_mae: 1.2906\n",
      "Epoch 5/600\n",
      "1111/1111 [==============================] - 1s 1ms/step - loss: 5.8470 - mae: 1.2321 - val_loss: 6.0689 - val_mae: 1.2749\n",
      "Epoch 6/600\n",
      "1111/1111 [==============================] - 1s 1ms/step - loss: 5.7445 - mae: 1.2211 - val_loss: 5.9734 - val_mae: 1.2666\n",
      "Epoch 7/600\n",
      "1111/1111 [==============================] - 1s 1ms/step - loss: 5.6627 - mae: 1.2132 - val_loss: 5.8991 - val_mae: 1.2615\n",
      "Epoch 8/600\n",
      "1111/1111 [==============================] - 1s 1ms/step - loss: 5.5949 - mae: 1.2082 - val_loss: 5.8382 - val_mae: 1.2528\n",
      "Epoch 9/600\n",
      "1111/1111 [==============================] - 1s 1ms/step - loss: 5.5386 - mae: 1.2052 - val_loss: 5.7877 - val_mae: 1.2516\n",
      "Epoch 10/600\n",
      "1111/1111 [==============================] - 1s 1ms/step - loss: 5.4888 - mae: 1.2028 - val_loss: 5.7410 - val_mae: 1.2440\n",
      "Epoch 11/600\n",
      "1111/1111 [==============================] - 1s 1ms/step - loss: 5.4441 - mae: 1.1979 - val_loss: 5.7019 - val_mae: 1.2531\n",
      "Epoch 12/600\n",
      "1111/1111 [==============================] - 1s 1ms/step - loss: 5.4031 - mae: 1.1993 - val_loss: 5.6630 - val_mae: 1.2409\n",
      "Epoch 13/600\n",
      "1111/1111 [==============================] - 1s 1ms/step - loss: 5.3656 - mae: 1.1938 - val_loss: 5.6293 - val_mae: 1.2498\n",
      "Epoch 14/600\n",
      "1111/1111 [==============================] - 1s 1ms/step - loss: 5.3304 - mae: 1.1966 - val_loss: 5.5954 - val_mae: 1.2401\n",
      "Epoch 15/600\n",
      "1111/1111 [==============================] - 2s 1ms/step - loss: 5.2982 - mae: 1.1916 - val_loss: 5.5646 - val_mae: 1.2422\n",
      "Epoch 16/600\n",
      "1111/1111 [==============================] - 1s 1ms/step - loss: 5.2669 - mae: 1.1912 - val_loss: 5.5386 - val_mae: 1.2502\n",
      "Epoch 17/600\n",
      "1111/1111 [==============================] - 1s 1ms/step - loss: 5.2386 - mae: 1.1943 - val_loss: 5.5088 - val_mae: 1.2430\n",
      "Epoch 18/600\n",
      "1111/1111 [==============================] - 1s 1ms/step - loss: 5.2109 - mae: 1.1910 - val_loss: 5.4826 - val_mae: 1.2380\n",
      "Epoch 19/600\n",
      "1111/1111 [==============================] - 1s 1ms/step - loss: 5.1851 - mae: 1.1901 - val_loss: 5.4599 - val_mae: 1.2400\n",
      "Epoch 20/600\n",
      "1111/1111 [==============================] - 1s 1ms/step - loss: 5.1599 - mae: 1.1921 - val_loss: 5.4343 - val_mae: 1.2313\n",
      "Epoch 21/600\n",
      "1111/1111 [==============================] - 1s 1ms/step - loss: 5.1367 - mae: 1.1866 - val_loss: 5.4131 - val_mae: 1.2435\n",
      "Epoch 22/600\n",
      "1111/1111 [==============================] - 1s 1ms/step - loss: 5.1140 - mae: 1.1888 - val_loss: 5.3904 - val_mae: 1.2398\n",
      "Epoch 23/600\n",
      "1111/1111 [==============================] - 1s 1ms/step - loss: 5.0925 - mae: 1.1908 - val_loss: 5.3677 - val_mae: 1.2345\n",
      "Epoch 24/600\n",
      "1111/1111 [==============================] - 1s 1ms/step - loss: 5.0719 - mae: 1.1853 - val_loss: 5.3492 - val_mae: 1.2405\n",
      "Epoch 25/600\n",
      "1111/1111 [==============================] - 1s 1ms/step - loss: 5.0518 - mae: 1.1882 - val_loss: 5.3311 - val_mae: 1.2387\n",
      "Epoch 26/600\n",
      "1111/1111 [==============================] - 1s 1ms/step - loss: 5.0328 - mae: 1.1856 - val_loss: 5.3132 - val_mae: 1.2411\n",
      "Epoch 27/600\n",
      "1111/1111 [==============================] - 1s 1ms/step - loss: 5.0146 - mae: 1.1873 - val_loss: 5.2926 - val_mae: 1.2329\n",
      "Epoch 28/600\n",
      "1111/1111 [==============================] - 1s 1ms/step - loss: 4.9966 - mae: 1.1846 - val_loss: 5.2779 - val_mae: 1.2399\n",
      "Epoch 29/600\n",
      "1111/1111 [==============================] - 1s 1ms/step - loss: 4.9795 - mae: 1.1857 - val_loss: 5.2588 - val_mae: 1.2312\n",
      "Epoch 30/600\n",
      "1111/1111 [==============================] - 1s 1ms/step - loss: 4.9641 - mae: 1.1821 - val_loss: 5.2467 - val_mae: 1.2416\n",
      "Epoch 31/600\n",
      "1111/1111 [==============================] - 1s 1ms/step - loss: 4.9485 - mae: 1.1854 - val_loss: 5.2297 - val_mae: 1.2324\n",
      "Epoch 32/600\n",
      "1111/1111 [==============================] - 1s 1ms/step - loss: 4.9339 - mae: 1.1830 - val_loss: 5.2168 - val_mae: 1.2382\n",
      "Epoch 33/600\n",
      "1111/1111 [==============================] - 1s 1ms/step - loss: 4.9192 - mae: 1.1819 - val_loss: 5.2054 - val_mae: 1.2403\n",
      "Epoch 34/600\n",
      "1111/1111 [==============================] - 1s 1ms/step - loss: 4.9060 - mae: 1.1845 - val_loss: 5.1893 - val_mae: 1.2334\n",
      "Epoch 35/600\n",
      "1111/1111 [==============================] - 1s 1ms/step - loss: 4.8924 - mae: 1.1846 - val_loss: 5.1747 - val_mae: 1.2235\n",
      "Epoch 36/600\n",
      "1111/1111 [==============================] - 1s 1ms/step - loss: 4.8801 - mae: 1.1784 - val_loss: 5.1663 - val_mae: 1.2388\n",
      "Epoch 37/600\n",
      "1111/1111 [==============================] - 1s 1ms/step - loss: 4.8678 - mae: 1.1838 - val_loss: 5.1514 - val_mae: 1.2271\n",
      "Epoch 38/600\n",
      "1111/1111 [==============================] - 2s 2ms/step - loss: 4.8561 - mae: 1.1785 - val_loss: 5.1454 - val_mae: 1.2420\n",
      "Epoch 39/600\n",
      "1111/1111 [==============================] - 2s 2ms/step - loss: 4.8454 - mae: 1.1847 - val_loss: 5.1302 - val_mae: 1.2318\n",
      "Epoch 40/600\n",
      "1111/1111 [==============================] - 2s 2ms/step - loss: 4.8343 - mae: 1.1791 - val_loss: 5.1195 - val_mae: 1.2376TA: 1s - loss: 4.7753 - mae: 1.175 - ETA: 1s - loss\n",
      "Epoch 41/600\n",
      "1111/1111 [==============================] - 2s 2ms/step - loss: 4.8235 - mae: 1.1820 - val_loss: 5.1086 - val_mae: 1.2344\n",
      "Epoch 42/600\n",
      "1111/1111 [==============================] - 2s 2ms/step - loss: 4.8130 - mae: 1.1820 - val_loss: 5.1011 - val_mae: 1.2345\n",
      "Epoch 43/600\n",
      "1111/1111 [==============================] - 2s 1ms/step - loss: 4.8035 - mae: 1.1813 - val_loss: 5.0919 - val_mae: 1.2338\n",
      "Epoch 44/600\n",
      "1111/1111 [==============================] - 2s 1ms/step - loss: 4.7930 - mae: 1.1798 - val_loss: 5.0858 - val_mae: 1.2410\n",
      "Epoch 45/600\n",
      "1111/1111 [==============================] - 2s 2ms/step - loss: 4.7837 - mae: 1.1817 - val_loss: 5.0729 - val_mae: 1.2312\n",
      "Epoch 46/600\n",
      "1111/1111 [==============================] - 2s 2ms/step - loss: 4.7746 - mae: 1.1808 - val_loss: 5.0641 - val_mae: 1.2328\n",
      "Epoch 47/600\n",
      "1111/1111 [==============================] - 2s 2ms/step - loss: 4.7657 - mae: 1.1811 - val_loss: 5.0550 - val_mae: 1.2312\n",
      "Epoch 48/600\n",
      "1111/1111 [==============================] - 2s 1ms/step - loss: 4.7572 - mae: 1.1797 - val_loss: 5.0473 - val_mae: 1.2348\n",
      "Epoch 49/600\n",
      "1111/1111 [==============================] - 2s 1ms/step - loss: 4.7482 - mae: 1.1835 - val_loss: 5.0382 - val_mae: 1.2190\n",
      "Epoch 50/600\n",
      "1111/1111 [==============================] - 2s 2ms/step - loss: 4.7401 - mae: 1.1764 - val_loss: 5.0363 - val_mae: 1.2426\n",
      "Epoch 51/600\n",
      "1111/1111 [==============================] - 1s 1ms/step - loss: 4.7330 - mae: 1.1837 - val_loss: 5.0252 - val_mae: 1.2262\n",
      "Epoch 52/600\n",
      "1111/1111 [==============================] - 1s 1ms/step - loss: 4.7251 - mae: 1.1777 - val_loss: 5.0191 - val_mae: 1.2385\n",
      "Epoch 53/600\n",
      "1111/1111 [==============================] - 2s 1ms/step - loss: 4.7171 - mae: 1.1815 - val_loss: 5.0106 - val_mae: 1.2344\n",
      "Epoch 54/600\n",
      "1111/1111 [==============================] - 1s 1ms/step - loss: 4.7107 - mae: 1.1823 - val_loss: 5.0035 - val_mae: 1.2282\n",
      "Epoch 55/600\n",
      "1111/1111 [==============================] - 2s 1ms/step - loss: 4.7034 - mae: 1.1776 - val_loss: 4.9976 - val_mae: 1.2390\n",
      "Epoch 56/600\n",
      "1111/1111 [==============================] - 2s 2ms/step - loss: 4.6973 - mae: 1.1821 - val_loss: 4.9913 - val_mae: 1.2305\n",
      "Epoch 57/600\n",
      "1111/1111 [==============================] - 1s 1ms/step - loss: 4.6901 - mae: 1.1792 - val_loss: 4.9896 - val_mae: 1.2400\n",
      "Epoch 58/600\n",
      "1111/1111 [==============================] - 2s 1ms/step - loss: 4.6839 - mae: 1.1810 - val_loss: 4.9787 - val_mae: 1.2335\n",
      "Epoch 59/600\n",
      "1111/1111 [==============================] - 1s 1ms/step - loss: 4.6777 - mae: 1.1790 - val_loss: 4.9746 - val_mae: 1.2363\n",
      "Epoch 60/600\n",
      "1111/1111 [==============================] - 2s 1ms/step - loss: 4.6718 - mae: 1.1808 - val_loss: 4.9696 - val_mae: 1.2358\n"
     ]
    },
    {
     "name": "stdout",
     "output_type": "stream",
     "text": [
      "Epoch 61/600\n",
      "1111/1111 [==============================] - 1s 1ms/step - loss: 4.6661 - mae: 1.1809 - val_loss: 4.9611 - val_mae: 1.2287\n",
      "Epoch 62/600\n",
      "1111/1111 [==============================] - 1s 1ms/step - loss: 4.6603 - mae: 1.1808 - val_loss: 4.9546 - val_mae: 1.2256\n",
      "Epoch 63/600\n",
      "1111/1111 [==============================] - 1s 1ms/step - loss: 4.6550 - mae: 1.1788 - val_loss: 4.9509 - val_mae: 1.2319\n",
      "Epoch 64/600\n",
      "1111/1111 [==============================] - 1s 1ms/step - loss: 4.6494 - mae: 1.1799 - val_loss: 4.9453 - val_mae: 1.2342\n",
      "Epoch 65/600\n",
      "1111/1111 [==============================] - 2s 1ms/step - loss: 4.6434 - mae: 1.1811 - val_loss: 4.9401 - val_mae: 1.2203\n",
      "Epoch 66/600\n",
      "1111/1111 [==============================] - 1s 1ms/step - loss: 4.6394 - mae: 1.1783 - val_loss: 4.9372 - val_mae: 1.2322\n",
      "Epoch 67/600\n",
      "1111/1111 [==============================] - 1s 1ms/step - loss: 4.6335 - mae: 1.1780 - val_loss: 4.9324 - val_mae: 1.2381\n",
      "Epoch 68/600\n",
      "1111/1111 [==============================] - 2s 1ms/step - loss: 4.6289 - mae: 1.1800 - val_loss: 4.9260 - val_mae: 1.2316\n",
      "Epoch 69/600\n",
      "1111/1111 [==============================] - 1s 1ms/step - loss: 4.6237 - mae: 1.1804 - val_loss: 4.9221 - val_mae: 1.2283\n",
      "Epoch 70/600\n",
      "1111/1111 [==============================] - 2s 1ms/step - loss: 4.6193 - mae: 1.1786 - val_loss: 4.9186 - val_mae: 1.2355\n",
      "Epoch 71/600\n",
      "1111/1111 [==============================] - 1s 1ms/step - loss: 4.6142 - mae: 1.1813 - val_loss: 4.9119 - val_mae: 1.2203\n",
      "Epoch 72/600\n",
      "1111/1111 [==============================] - 1s 1ms/step - loss: 4.6093 - mae: 1.1793 - val_loss: 4.9068 - val_mae: 1.2174\n",
      "Epoch 73/600\n",
      "1111/1111 [==============================] - 1s 1ms/step - loss: 4.6055 - mae: 1.1766 - val_loss: 4.9029 - val_mae: 1.2301\n",
      "Epoch 74/600\n",
      "1111/1111 [==============================] - 1s 1ms/step - loss: 4.6011 - mae: 1.1788 - val_loss: 4.9009 - val_mae: 1.2369\n",
      "Epoch 75/600\n",
      "1111/1111 [==============================] - 1s 1ms/step - loss: 4.5967 - mae: 1.1791 - val_loss: 4.8989 - val_mae: 1.2365\n",
      "Epoch 76/600\n",
      "1111/1111 [==============================] - 2s 1ms/step - loss: 4.5925 - mae: 1.1807 - val_loss: 4.8925 - val_mae: 1.2262\n",
      "Epoch 77/600\n",
      "1111/1111 [==============================] - 1s 1ms/step - loss: 4.5880 - mae: 1.1775 - val_loss: 4.8916 - val_mae: 1.2384\n",
      "Epoch 78/600\n",
      "1111/1111 [==============================] - 2s 1ms/step - loss: 4.5827 - mae: 1.1805 - val_loss: 4.8835 - val_mae: 1.2249\n",
      "Epoch 79/600\n",
      "1111/1111 [==============================] - 1s 1ms/step - loss: 4.5800 - mae: 1.1795 - val_loss: 4.8794 - val_mae: 1.2254\n",
      "Epoch 80/600\n",
      "1111/1111 [==============================] - 1s 1ms/step - loss: 4.5755 - mae: 1.1779 - val_loss: 4.8780 - val_mae: 1.2320\n",
      "Epoch 81/600\n",
      "1111/1111 [==============================] - 1s 1ms/step - loss: 4.5717 - mae: 1.1768 - val_loss: 4.8760 - val_mae: 1.2420\n",
      "Epoch 82/600\n",
      "1111/1111 [==============================] - 1s 1ms/step - loss: 4.5667 - mae: 1.1780 - val_loss: 4.8775 - val_mae: 1.2482\n",
      "Epoch 83/600\n",
      "1111/1111 [==============================] - 1s 1ms/step - loss: 4.5640 - mae: 1.1815 - val_loss: 4.8666 - val_mae: 1.2303\n",
      "Epoch 84/600\n",
      "1111/1111 [==============================] - 1s 1ms/step - loss: 4.5595 - mae: 1.1778 - val_loss: 4.8624 - val_mae: 1.2330\n",
      "Epoch 85/600\n",
      "1111/1111 [==============================] - 1s 1ms/step - loss: 4.5558 - mae: 1.1777 - val_loss: 4.8638 - val_mae: 1.2400\n",
      "Epoch 86/600\n",
      "1111/1111 [==============================] - 1s 1ms/step - loss: 4.5516 - mae: 1.1802 - val_loss: 4.8547 - val_mae: 1.2274\n",
      "Epoch 87/600\n",
      "1111/1111 [==============================] - 1s 1ms/step - loss: 4.5484 - mae: 1.1769 - val_loss: 4.8574 - val_mae: 1.2402\n",
      "Epoch 88/600\n",
      "1111/1111 [==============================] - 1s 1ms/step - loss: 4.5454 - mae: 1.1788 - val_loss: 4.8501 - val_mae: 1.2289\n",
      "Epoch 89/600\n",
      "1111/1111 [==============================] - 1s 1ms/step - loss: 4.5418 - mae: 1.1772 - val_loss: 4.8475 - val_mae: 1.2327\n",
      "Epoch 90/600\n",
      "1111/1111 [==============================] - 1s 1ms/step - loss: 4.5385 - mae: 1.1802 - val_loss: 4.8430 - val_mae: 1.2263\n",
      "Epoch 91/600\n",
      "1111/1111 [==============================] - 1s 1ms/step - loss: 4.5350 - mae: 1.1765 - val_loss: 4.8413 - val_mae: 1.2315\n",
      "Epoch 92/600\n",
      "1111/1111 [==============================] - 1s 1ms/step - loss: 4.5318 - mae: 1.1793 - val_loss: 4.8364 - val_mae: 1.2238\n",
      "Epoch 93/600\n",
      "1111/1111 [==============================] - 1s 1ms/step - loss: 4.5286 - mae: 1.1769 - val_loss: 4.8349 - val_mae: 1.2292\n",
      "Epoch 94/600\n",
      "1111/1111 [==============================] - 1s 1ms/step - loss: 4.5253 - mae: 1.1782 - val_loss: 4.8310 - val_mae: 1.2212\n",
      "Epoch 95/600\n",
      "1111/1111 [==============================] - 1s 1ms/step - loss: 4.5225 - mae: 1.1768 - val_loss: 4.8287 - val_mae: 1.2232\n",
      "Epoch 96/600\n",
      "1111/1111 [==============================] - 1s 1ms/step - loss: 4.5193 - mae: 1.1776 - val_loss: 4.8268 - val_mae: 1.2223\n",
      "Epoch 97/600\n",
      "1111/1111 [==============================] - 1s 1ms/step - loss: 4.5167 - mae: 1.1764 - val_loss: 4.8232 - val_mae: 1.2260\n",
      "Epoch 98/600\n",
      "1111/1111 [==============================] - 1s 1ms/step - loss: 4.5134 - mae: 1.1762 - val_loss: 4.8239 - val_mae: 1.2321\n",
      "Epoch 99/600\n",
      "1111/1111 [==============================] - 1s 1ms/step - loss: 4.5109 - mae: 1.1758 - val_loss: 4.8196 - val_mae: 1.2339\n",
      "Epoch 100/600\n",
      "1111/1111 [==============================] - 1s 1ms/step - loss: 4.5082 - mae: 1.1766 - val_loss: 4.8185 - val_mae: 1.2365\n",
      "Epoch 101/600\n",
      "1111/1111 [==============================] - 1s 1ms/step - loss: 4.5055 - mae: 1.1778 - val_loss: 4.8150 - val_mae: 1.2306\n",
      "Epoch 102/600\n",
      "1111/1111 [==============================] - 1s 1ms/step - loss: 4.5023 - mae: 1.1757 - val_loss: 4.8147 - val_mae: 1.2376\n",
      "Epoch 103/600\n",
      "1111/1111 [==============================] - 1s 1ms/step - loss: 4.4998 - mae: 1.1780 - val_loss: 4.8084 - val_mae: 1.2219\n",
      "Epoch 104/600\n",
      "1111/1111 [==============================] - 1s 1ms/step - loss: 4.4972 - mae: 1.1751 - val_loss: 4.8080 - val_mae: 1.2315\n",
      "Epoch 105/600\n",
      "1111/1111 [==============================] - 1s 1ms/step - loss: 4.4949 - mae: 1.1773 - val_loss: 4.8035 - val_mae: 1.2208\n",
      "Epoch 106/600\n",
      "1111/1111 [==============================] - 1s 1ms/step - loss: 4.4928 - mae: 1.1756 - val_loss: 4.8021 - val_mae: 1.2236\n",
      "Epoch 107/600\n",
      "1111/1111 [==============================] - 1s 1ms/step - loss: 4.4912 - mae: 1.1754 - val_loss: 4.8018 - val_mae: 1.2243\n",
      "Epoch 108/600\n",
      "1111/1111 [==============================] - 1s 1ms/step - loss: 4.4881 - mae: 1.1767 - val_loss: 4.7994 - val_mae: 1.2226\n",
      "Epoch 109/600\n",
      "1111/1111 [==============================] - 1s 1ms/step - loss: 4.4855 - mae: 1.1734 - val_loss: 4.7995 - val_mae: 1.2376\n",
      "Epoch 110/600\n",
      "1111/1111 [==============================] - 1s 1ms/step - loss: 4.4829 - mae: 1.1786 - val_loss: 4.7954 - val_mae: 1.2181\n",
      "Epoch 111/600\n",
      "1111/1111 [==============================] - 1s 1ms/step - loss: 4.4816 - mae: 1.1726 - val_loss: 4.8005 - val_mae: 1.2440\n",
      "Epoch 112/600\n",
      "1111/1111 [==============================] - 1s 1ms/step - loss: 4.4792 - mae: 1.1777 - val_loss: 4.7910 - val_mae: 1.2205\n",
      "Epoch 113/600\n",
      "1111/1111 [==============================] - 1s 1ms/step - loss: 4.4774 - mae: 1.1738 - val_loss: 4.7933 - val_mae: 1.2408\n",
      "Epoch 114/600\n",
      "1111/1111 [==============================] - 1s 1ms/step - loss: 4.4755 - mae: 1.1773 - val_loss: 4.7891 - val_mae: 1.2237\n",
      "Epoch 115/600\n",
      "1111/1111 [==============================] - 1s 1ms/step - loss: 4.4730 - mae: 1.1739 - val_loss: 4.7901 - val_mae: 1.2382\n",
      "Epoch 116/600\n",
      "1111/1111 [==============================] - 1s 1ms/step - loss: 4.4703 - mae: 1.1752 - val_loss: 4.7858 - val_mae: 1.2326\n",
      "Epoch 117/600\n",
      "1111/1111 [==============================] - 1s 1ms/step - loss: 4.4691 - mae: 1.1756 - val_loss: 4.7850 - val_mae: 1.2269\n",
      "Epoch 118/600\n",
      "1111/1111 [==============================] - 1s 1ms/step - loss: 4.4672 - mae: 1.1746 - val_loss: 4.7820 - val_mae: 1.2311\n",
      "Epoch 119/600\n",
      "1111/1111 [==============================] - 1s 1ms/step - loss: 4.4654 - mae: 1.1750 - val_loss: 4.7824 - val_mae: 1.2373\n",
      "Epoch 120/600\n",
      "1111/1111 [==============================] - 1s 1ms/step - loss: 4.4634 - mae: 1.1745 - val_loss: 4.7825 - val_mae: 1.2363\n",
      "Epoch 121/600\n"
     ]
    },
    {
     "name": "stdout",
     "output_type": "stream",
     "text": [
      "1111/1111 [==============================] - 1s 1ms/step - loss: 4.4613 - mae: 1.1750 - val_loss: 4.7800 - val_mae: 1.2315\n",
      "Epoch 122/600\n",
      "1111/1111 [==============================] - 1s 1ms/step - loss: 4.4596 - mae: 1.1747 - val_loss: 4.7772 - val_mae: 1.2250\n",
      "Epoch 123/600\n",
      "1111/1111 [==============================] - 1s 1ms/step - loss: 4.4575 - mae: 1.1729 - val_loss: 4.7787 - val_mae: 1.2405\n",
      "Epoch 124/600\n",
      "1111/1111 [==============================] - 1s 1ms/step - loss: 4.4563 - mae: 1.1761 - val_loss: 4.7734 - val_mae: 1.2231\n",
      "Epoch 125/600\n",
      "1111/1111 [==============================] - 1s 1ms/step - loss: 4.4538 - mae: 1.1733 - val_loss: 4.7746 - val_mae: 1.2329\n",
      "Epoch 126/600\n",
      "1111/1111 [==============================] - 1s 1ms/step - loss: 4.4522 - mae: 1.1742 - val_loss: 4.7721 - val_mae: 1.2331\n",
      "Epoch 127/600\n",
      "1111/1111 [==============================] - 1s 1ms/step - loss: 4.4508 - mae: 1.1726 - val_loss: 4.7736 - val_mae: 1.2413\n",
      "Epoch 128/600\n",
      "1111/1111 [==============================] - 1s 1ms/step - loss: 4.4487 - mae: 1.1746 - val_loss: 4.7670 - val_mae: 1.2292\n",
      "Epoch 129/600\n",
      "1111/1111 [==============================] - 1s 1ms/step - loss: 4.4473 - mae: 1.1738 - val_loss: 4.7673 - val_mae: 1.2348\n",
      "Epoch 130/600\n",
      "1111/1111 [==============================] - 1s 1ms/step - loss: 4.4460 - mae: 1.1732 - val_loss: 4.7671 - val_mae: 1.2375\n",
      "Epoch 131/600\n",
      "1111/1111 [==============================] - 1s 1ms/step - loss: 4.4432 - mae: 1.1737 - val_loss: 4.7712 - val_mae: 1.2391\n",
      "Epoch 132/600\n",
      "1111/1111 [==============================] - 1s 1ms/step - loss: 4.4433 - mae: 1.1741 - val_loss: 4.7643 - val_mae: 1.2304\n",
      "Epoch 133/600\n",
      "1111/1111 [==============================] - 1s 1ms/step - loss: 4.4413 - mae: 1.1719 - val_loss: 4.7667 - val_mae: 1.2392\n",
      "Epoch 134/600\n",
      "1111/1111 [==============================] - 1s 1ms/step - loss: 4.4396 - mae: 1.1749 - val_loss: 4.7596 - val_mae: 1.2198\n",
      "Epoch 135/600\n",
      "1111/1111 [==============================] - 1s 1ms/step - loss: 4.4387 - mae: 1.1728 - val_loss: 4.7594 - val_mae: 1.2202\n",
      "Epoch 136/600\n",
      "1111/1111 [==============================] - 1s 1ms/step - loss: 4.4367 - mae: 1.1732 - val_loss: 4.7577 - val_mae: 1.2151\n",
      "Epoch 137/600\n",
      "1111/1111 [==============================] - 1s 1ms/step - loss: 4.4360 - mae: 1.1716 - val_loss: 4.7599 - val_mae: 1.2349\n",
      "Epoch 138/600\n",
      "1111/1111 [==============================] - 1s 1ms/step - loss: 4.4352 - mae: 1.1735 - val_loss: 4.7584 - val_mae: 1.2307\n",
      "Epoch 139/600\n",
      "1111/1111 [==============================] - 1s 1ms/step - loss: 4.4334 - mae: 1.1725 - val_loss: 4.7549 - val_mae: 1.2238\n",
      "Epoch 140/600\n",
      "1111/1111 [==============================] - 1s 1ms/step - loss: 4.4322 - mae: 1.1737 - val_loss: 4.7535 - val_mae: 1.2237\n",
      "Epoch 141/600\n",
      "1111/1111 [==============================] - 1s 1ms/step - loss: 4.4302 - mae: 1.1726 - val_loss: 4.7542 - val_mae: 1.2181\n",
      "Epoch 142/600\n",
      "1111/1111 [==============================] - 1s 1ms/step - loss: 4.4293 - mae: 1.1718 - val_loss: 4.7542 - val_mae: 1.2242\n",
      "Epoch 143/600\n",
      "1111/1111 [==============================] - 1s 1ms/step - loss: 4.4286 - mae: 1.1734 - val_loss: 4.7522 - val_mae: 1.2170\n",
      "Epoch 144/600\n",
      "1111/1111 [==============================] - 1s 1ms/step - loss: 4.4265 - mae: 1.1720 - val_loss: 4.7526 - val_mae: 1.2237\n",
      "Epoch 145/600\n",
      "1111/1111 [==============================] - 1s 1ms/step - loss: 4.4254 - mae: 1.1720 - val_loss: 4.7493 - val_mae: 1.2204\n",
      "Epoch 146/600\n",
      "1111/1111 [==============================] - 1s 1ms/step - loss: 4.4241 - mae: 1.1726 - val_loss: 4.7494 - val_mae: 1.2218\n",
      "Epoch 147/600\n",
      "1111/1111 [==============================] - 1s 1ms/step - loss: 4.4235 - mae: 1.1706 - val_loss: 4.7539 - val_mae: 1.2371\n",
      "Epoch 148/600\n",
      "1111/1111 [==============================] - 1s 1ms/step - loss: 4.4222 - mae: 1.1741 - val_loss: 4.7458 - val_mae: 1.2124\n",
      "Epoch 149/600\n",
      "1111/1111 [==============================] - 1s 1ms/step - loss: 4.4209 - mae: 1.1710 - val_loss: 4.7506 - val_mae: 1.2326\n",
      "Epoch 150/600\n",
      "1111/1111 [==============================] - 1s 1ms/step - loss: 4.4198 - mae: 1.1730 - val_loss: 4.7444 - val_mae: 1.2182\n",
      "Epoch 151/600\n",
      "1111/1111 [==============================] - 1s 1ms/step - loss: 4.4186 - mae: 1.1714 - val_loss: 4.7456 - val_mae: 1.2189\n",
      "Epoch 152/600\n",
      "1111/1111 [==============================] - 1s 1ms/step - loss: 4.4181 - mae: 1.1713 - val_loss: 4.7449 - val_mae: 1.2292\n",
      "Epoch 153/600\n",
      "1111/1111 [==============================] - 1s 1ms/step - loss: 4.4167 - mae: 1.1725 - val_loss: 4.7417 - val_mae: 1.2167\n",
      "Epoch 154/600\n",
      "1111/1111 [==============================] - 1s 1ms/step - loss: 4.4157 - mae: 1.1711 - val_loss: 4.7419 - val_mae: 1.2286\n",
      "Epoch 155/600\n",
      "1111/1111 [==============================] - 1s 1ms/step - loss: 4.4145 - mae: 1.1718 - val_loss: 4.7412 - val_mae: 1.2262\n",
      "Epoch 156/600\n",
      "1111/1111 [==============================] - 1s 1ms/step - loss: 4.4131 - mae: 1.1696 - val_loss: 4.7442 - val_mae: 1.2434\n",
      "Epoch 157/600\n",
      "1111/1111 [==============================] - 1s 1ms/step - loss: 4.4126 - mae: 1.1721 - val_loss: 4.7434 - val_mae: 1.2367\n",
      "Epoch 158/600\n",
      "1111/1111 [==============================] - 1s 1ms/step - loss: 4.4122 - mae: 1.1728 - val_loss: 4.7395 - val_mae: 1.2244\n",
      "Epoch 159/600\n",
      "1111/1111 [==============================] - 1s 1ms/step - loss: 4.4105 - mae: 1.1707 - val_loss: 4.7380 - val_mae: 1.2214\n",
      "Epoch 160/600\n",
      "1111/1111 [==============================] - 1s 1ms/step - loss: 4.4096 - mae: 1.1715 - val_loss: 4.7387 - val_mae: 1.2241\n",
      "Epoch 161/600\n",
      "1111/1111 [==============================] - 1s 1ms/step - loss: 4.4091 - mae: 1.1698 - val_loss: 4.7400 - val_mae: 1.2351\n",
      "Epoch 162/600\n",
      "1111/1111 [==============================] - 1s 1ms/step - loss: 4.4074 - mae: 1.1714 - val_loss: 4.7364 - val_mae: 1.2213\n",
      "Epoch 163/600\n",
      "1111/1111 [==============================] - 1s 1ms/step - loss: 4.4069 - mae: 1.1708 - val_loss: 4.7378 - val_mae: 1.2262\n",
      "Epoch 164/600\n",
      "1111/1111 [==============================] - 1s 1ms/step - loss: 4.4048 - mae: 1.1715 - val_loss: 4.7380 - val_mae: 1.2194\n",
      "Epoch 165/600\n",
      "1111/1111 [==============================] - 1s 1ms/step - loss: 4.4051 - mae: 1.1692 - val_loss: 4.7407 - val_mae: 1.2390\n",
      "Epoch 166/600\n",
      "1111/1111 [==============================] - 1s 1ms/step - loss: 4.4031 - mae: 1.1740 - val_loss: 4.7335 - val_mae: 1.2071\n",
      "Epoch 167/600\n",
      "1111/1111 [==============================] - 1s 1ms/step - loss: 4.4035 - mae: 1.1675 - val_loss: 4.7386 - val_mae: 1.2385\n",
      "Epoch 168/600\n",
      "1111/1111 [==============================] - 1s 1ms/step - loss: 4.4024 - mae: 1.1713 - val_loss: 4.7367 - val_mae: 1.2325\n",
      "Epoch 169/600\n",
      "1111/1111 [==============================] - 1s 1ms/step - loss: 4.4015 - mae: 1.1717 - val_loss: 4.7342 - val_mae: 1.2223\n",
      "Epoch 170/600\n",
      "1111/1111 [==============================] - 1s 1ms/step - loss: 4.3998 - mae: 1.1712 - val_loss: 4.7312 - val_mae: 1.2099\n",
      "Epoch 171/600\n",
      "1111/1111 [==============================] - 1s 1ms/step - loss: 4.3996 - mae: 1.1684 - val_loss: 4.7318 - val_mae: 1.2331\n",
      "Epoch 172/600\n",
      "1111/1111 [==============================] - 1s 1ms/step - loss: 4.3988 - mae: 1.1710 - val_loss: 4.7333 - val_mae: 1.2324\n",
      "Epoch 173/600\n",
      "1111/1111 [==============================] - 1s 1ms/step - loss: 4.3979 - mae: 1.1709 - val_loss: 4.7326 - val_mae: 1.2291\n",
      "Epoch 174/600\n",
      "1111/1111 [==============================] - 2s 1ms/step - loss: 4.3969 - mae: 1.1711 - val_loss: 4.7303 - val_mae: 1.2189\n",
      "Epoch 175/600\n",
      "1111/1111 [==============================] - 1s 1ms/step - loss: 4.3964 - mae: 1.1697 - val_loss: 4.7292 - val_mae: 1.2214\n",
      "Epoch 176/600\n",
      "1111/1111 [==============================] - 1s 1ms/step - loss: 4.3954 - mae: 1.1703 - val_loss: 4.7302 - val_mae: 1.2263\n",
      "Epoch 177/600\n",
      "1111/1111 [==============================] - 1s 1ms/step - loss: 4.3946 - mae: 1.1718 - val_loss: 4.7291 - val_mae: 1.2039\n",
      "Epoch 178/600\n",
      "1111/1111 [==============================] - 1s 1ms/step - loss: 4.3943 - mae: 1.1674 - val_loss: 4.7314 - val_mae: 1.2291\n",
      "Epoch 179/600\n",
      "1111/1111 [==============================] - 1s 1ms/step - loss: 4.3936 - mae: 1.1705 - val_loss: 4.7332 - val_mae: 1.2261\n",
      "Epoch 180/600\n",
      "1111/1111 [==============================] - 1s 1ms/step - loss: 4.3924 - mae: 1.1692 - val_loss: 4.7281 - val_mae: 1.2241\n"
     ]
    },
    {
     "name": "stdout",
     "output_type": "stream",
     "text": [
      "Epoch 181/600\n",
      "1111/1111 [==============================] - 1s 1ms/step - loss: 4.3919 - mae: 1.1700 - val_loss: 4.7296 - val_mae: 1.2316\n",
      "Epoch 182/600\n",
      "1111/1111 [==============================] - 1s 1ms/step - loss: 4.3912 - mae: 1.1684 - val_loss: 4.7316 - val_mae: 1.2399\n",
      "Epoch 183/600\n",
      "1111/1111 [==============================] - 1s 1ms/step - loss: 4.3897 - mae: 1.1719 - val_loss: 4.7261 - val_mae: 1.2158\n",
      "Epoch 184/600\n",
      "1111/1111 [==============================] - 1s 1ms/step - loss: 4.3903 - mae: 1.1680 - val_loss: 4.7269 - val_mae: 1.2264\n",
      "Epoch 185/600\n",
      "1111/1111 [==============================] - 1s 1ms/step - loss: 4.3888 - mae: 1.1697 - val_loss: 4.7254 - val_mae: 1.2222\n",
      "Epoch 186/600\n",
      "1111/1111 [==============================] - 1s 1ms/step - loss: 4.3878 - mae: 1.1716 - val_loss: 4.7254 - val_mae: 1.2155\n",
      "Epoch 187/600\n",
      "1111/1111 [==============================] - 1s 1ms/step - loss: 4.3880 - mae: 1.1682 - val_loss: 4.7282 - val_mae: 1.2284\n",
      "Epoch 188/600\n",
      "1111/1111 [==============================] - 1s 1ms/step - loss: 4.3859 - mae: 1.1684 - val_loss: 4.7356 - val_mae: 1.2432\n",
      "Epoch 189/600\n",
      "1111/1111 [==============================] - 1s 1ms/step - loss: 4.3857 - mae: 1.1704 - val_loss: 4.7258 - val_mae: 1.2237\n",
      "Epoch 190/600\n",
      "1111/1111 [==============================] - 1s 1ms/step - loss: 4.3857 - mae: 1.1694 - val_loss: 4.7286 - val_mae: 1.2261\n",
      "Epoch 191/600\n",
      "1111/1111 [==============================] - 1s 1ms/step - loss: 4.3839 - mae: 1.1685 - val_loss: 4.7264 - val_mae: 1.2306\n",
      "Epoch 192/600\n",
      "1111/1111 [==============================] - 1s 1ms/step - loss: 4.3835 - mae: 1.1704 - val_loss: 4.7236 - val_mae: 1.2136\n",
      "Epoch 193/600\n",
      "1111/1111 [==============================] - 1s 1ms/step - loss: 4.3838 - mae: 1.1690 - val_loss: 4.7230 - val_mae: 1.2211\n",
      "Epoch 194/600\n",
      "1111/1111 [==============================] - 1s 1ms/step - loss: 4.3834 - mae: 1.1687 - val_loss: 4.7241 - val_mae: 1.2162\n",
      "Epoch 195/600\n",
      "1111/1111 [==============================] - 1s 1ms/step - loss: 4.3828 - mae: 1.1682 - val_loss: 4.7253 - val_mae: 1.2235\n",
      "Epoch 196/600\n",
      "1111/1111 [==============================] - 1s 1ms/step - loss: 4.3808 - mae: 1.1677 - val_loss: 4.7239 - val_mae: 1.2288\n",
      "Epoch 197/600\n",
      "1111/1111 [==============================] - 1s 1ms/step - loss: 4.3813 - mae: 1.1697 - val_loss: 4.7219 - val_mae: 1.2176\n",
      "Epoch 198/600\n",
      "1111/1111 [==============================] - 1s 1ms/step - loss: 4.3801 - mae: 1.1675 - val_loss: 4.7238 - val_mae: 1.2321\n",
      "Epoch 199/600\n",
      "1111/1111 [==============================] - 1s 1ms/step - loss: 4.3790 - mae: 1.1707 - val_loss: 4.7202 - val_mae: 1.2143\n",
      "Epoch 200/600\n",
      "1111/1111 [==============================] - 1s 1ms/step - loss: 4.3784 - mae: 1.1665 - val_loss: 4.7281 - val_mae: 1.2349\n",
      "Epoch 201/600\n",
      "1111/1111 [==============================] - 1s 1ms/step - loss: 4.3789 - mae: 1.1709 - val_loss: 4.7214 - val_mae: 1.2094\n",
      "Epoch 202/600\n",
      "1111/1111 [==============================] - 1s 1ms/step - loss: 4.3779 - mae: 1.1676 - val_loss: 4.7209 - val_mae: 1.2137\n",
      "Epoch 203/600\n",
      "1111/1111 [==============================] - 1s 1ms/step - loss: 4.3767 - mae: 1.1684 - val_loss: 4.7228 - val_mae: 1.2168\n",
      "Epoch 204/600\n",
      "1111/1111 [==============================] - 1s 1ms/step - loss: 4.3760 - mae: 1.1674 - val_loss: 4.7222 - val_mae: 1.2244\n",
      "Epoch 205/600\n",
      "1111/1111 [==============================] - 1s 1ms/step - loss: 4.3762 - mae: 1.1680 - val_loss: 4.7211 - val_mae: 1.2217\n",
      "Epoch 206/600\n",
      "1111/1111 [==============================] - 1s 1ms/step - loss: 4.3753 - mae: 1.1694 - val_loss: 4.7208 - val_mae: 1.2180\n",
      "Epoch 207/600\n",
      "1111/1111 [==============================] - 1s 1ms/step - loss: 4.3741 - mae: 1.1685 - val_loss: 4.7203 - val_mae: 1.2121\n",
      "Epoch 208/600\n",
      "1111/1111 [==============================] - 1s 1ms/step - loss: 4.3745 - mae: 1.1676 - val_loss: 4.7191 - val_mae: 1.2181\n",
      "Epoch 209/600\n",
      "1111/1111 [==============================] - 1s 1ms/step - loss: 4.3735 - mae: 1.1673 - val_loss: 4.7230 - val_mae: 1.2340\n",
      "Epoch 210/600\n",
      "1111/1111 [==============================] - 1s 1ms/step - loss: 4.3731 - mae: 1.1685 - val_loss: 4.7257 - val_mae: 1.2324\n",
      "Epoch 211/600\n",
      "1111/1111 [==============================] - 1s 1ms/step - loss: 4.3725 - mae: 1.1682 - val_loss: 4.7210 - val_mae: 1.2243\n",
      "Epoch 212/600\n",
      "1111/1111 [==============================] - 1s 1ms/step - loss: 4.3716 - mae: 1.1661 - val_loss: 4.7325 - val_mae: 1.2601\n",
      "Epoch 213/600\n",
      "1111/1111 [==============================] - 1s 1ms/step - loss: 4.3708 - mae: 1.1694 - val_loss: 4.7228 - val_mae: 1.2352\n",
      "Epoch 214/600\n",
      "1111/1111 [==============================] - 1s 1ms/step - loss: 4.3702 - mae: 1.1683 - val_loss: 4.7248 - val_mae: 1.2299\n",
      "Epoch 215/600\n",
      "1111/1111 [==============================] - 1s 1ms/step - loss: 4.3707 - mae: 1.1687 - val_loss: 4.7204 - val_mae: 1.2213\n",
      "Epoch 216/600\n",
      "1111/1111 [==============================] - 1s 1ms/step - loss: 4.3689 - mae: 1.1679 - val_loss: 4.7276 - val_mae: 1.2303\n",
      "Epoch 217/600\n",
      "1111/1111 [==============================] - 1s 1ms/step - loss: 4.3692 - mae: 1.1680 - val_loss: 4.7205 - val_mae: 1.2253\n",
      "Epoch 218/600\n",
      "1111/1111 [==============================] - 1s 1ms/step - loss: 4.3687 - mae: 1.1685 - val_loss: 4.7183 - val_mae: 1.2154\n",
      "Epoch 219/600\n",
      "1111/1111 [==============================] - 1s 1ms/step - loss: 4.3682 - mae: 1.1652 - val_loss: 4.7281 - val_mae: 1.2454\n",
      "Epoch 220/600\n",
      "1111/1111 [==============================] - 1s 1ms/step - loss: 4.3678 - mae: 1.1693 - val_loss: 4.7221 - val_mae: 1.2280\n",
      "Epoch 221/600\n",
      "1111/1111 [==============================] - 1s 1ms/step - loss: 4.3669 - mae: 1.1666 - val_loss: 4.7239 - val_mae: 1.2324\n",
      "Epoch 222/600\n",
      "1111/1111 [==============================] - 1s 1ms/step - loss: 4.3667 - mae: 1.1671 - val_loss: 4.7196 - val_mae: 1.2269\n",
      "Epoch 223/600\n",
      "1111/1111 [==============================] - 1s 1ms/step - loss: 4.3661 - mae: 1.1675 - val_loss: 4.7248 - val_mae: 1.2336\n",
      "Epoch 224/600\n",
      "1111/1111 [==============================] - 1s 1ms/step - loss: 4.3658 - mae: 1.1677 - val_loss: 4.7222 - val_mae: 1.2325\n",
      "Epoch 225/600\n",
      "1111/1111 [==============================] - 1s 1ms/step - loss: 4.3645 - mae: 1.1692 - val_loss: 4.7171 - val_mae: 1.2142\n",
      "Epoch 226/600\n",
      "1111/1111 [==============================] - 1s 1ms/step - loss: 4.3643 - mae: 1.1675 - val_loss: 4.7161 - val_mae: 1.2151\n",
      "Epoch 227/600\n",
      "1111/1111 [==============================] - 1s 1ms/step - loss: 4.3644 - mae: 1.1662 - val_loss: 4.7194 - val_mae: 1.2322\n",
      "Epoch 228/600\n",
      "1111/1111 [==============================] - 2s 1ms/step - loss: 4.3631 - mae: 1.1677 - val_loss: 4.7185 - val_mae: 1.2240\n",
      "Epoch 229/600\n",
      "1111/1111 [==============================] - 1s 1ms/step - loss: 4.3637 - mae: 1.1670 - val_loss: 4.7193 - val_mae: 1.2238\n",
      "Epoch 230/600\n",
      "1111/1111 [==============================] - 1s 1ms/step - loss: 4.3626 - mae: 1.1649 - val_loss: 4.7251 - val_mae: 1.2432\n",
      "Epoch 231/600\n",
      "1111/1111 [==============================] - 1s 1ms/step - loss: 4.3620 - mae: 1.1672 - val_loss: 4.7223 - val_mae: 1.2423\n",
      "Epoch 232/600\n",
      "1111/1111 [==============================] - 1s 1ms/step - loss: 4.3622 - mae: 1.1688 - val_loss: 4.7185 - val_mae: 1.2190\n",
      "Epoch 233/600\n",
      "1111/1111 [==============================] - 1s 1ms/step - loss: 4.3611 - mae: 1.1684 - val_loss: 4.7178 - val_mae: 1.2088\n",
      "Epoch 234/600\n",
      "1111/1111 [==============================] - 1s 1ms/step - loss: 4.3613 - mae: 1.1660 - val_loss: 4.7164 - val_mae: 1.2229\n",
      "Epoch 235/600\n",
      "1111/1111 [==============================] - 1s 1ms/step - loss: 4.3606 - mae: 1.1669 - val_loss: 4.7180 - val_mae: 1.2272\n",
      "Epoch 236/600\n",
      "1111/1111 [==============================] - 3s 2ms/step - loss: 4.3600 - mae: 1.1662 - val_loss: 4.7190 - val_mae: 1.2360\n"
     ]
    }
   ],
   "source": [
    "model = init_model(29,learn = 0.00003)\n",
    "es = EarlyStopping(patience=10)\n",
    "\n",
    "history = model.fit(X_train_scaled, y_train, \n",
    "                  batch_size=32, \n",
    "                  epochs=600,\n",
    "                  validation_split=0.2,\n",
    "                  callbacks=[es])"
   ]
  },
  {
   "cell_type": "code",
   "execution_count": 101,
   "id": "4416295e",
   "metadata": {
    "scrolled": true
   },
   "outputs": [
    {
     "name": "stdout",
     "output_type": "stream",
     "text": [
      "23/23 [==============================] - 0s 2ms/step - loss: 4.6819 - mae: 1.1331\n"
     ]
    },
    {
     "data": {
      "text/plain": [
       "[4.681911945343018, 1.1330723762512207]"
      ]
     },
     "execution_count": 101,
     "metadata": {},
     "output_type": "execute_result"
    }
   ],
   "source": [
    "y_eval = model.evaluate(X_test_scaled, y_test)\n",
    "y_pred = model.predict(X_test_scaled)\n",
    "y_eval"
   ]
  },
  {
   "cell_type": "markdown",
   "id": "89c1d360",
   "metadata": {},
   "source": [
    "## Test  : assessing the starting 11"
   ]
  },
  {
   "cell_type": "markdown",
   "id": "9403d655",
   "metadata": {
    "heading_collapsed": true
   },
   "source": [
    "### TESTING ON ALL Players (not just minute > 0)"
   ]
  },
  {
   "cell_type": "code",
   "execution_count": 46,
   "id": "72f62be7",
   "metadata": {
    "hidden": true
   },
   "outputs": [
    {
     "name": "stdout",
     "output_type": "stream",
     "text": [
      "COLUMNS USED: ['r_assists', 'r_bonus', 'r_bps', 'r_clean_sheets', 'r_creativity', 'r_goals_conceded', 'r_threat', 'r_goals_scored', 'r_ict_index', 'r_influence', 'r_minutes', 'r_own_goals', 'r_penalties_missed', 'r_penalties_saved', 'r_red_cards', 'r_saves', 'r_transfers_balance', 'r_value', 'r_yellow_cards', 'r_team_a_score', 'r_team_h_score', 'r_total_points', 'was_home', 'team_level', 'opponent_level', 'DEF', 'FWD', 'GK', 'MID']\n",
      "\n",
      "    MOVING AVERAGE WINDOW (roll) = 3\n",
      "    \n"
     ]
    },
    {
     "data": {
      "text/plain": [
       "(41212, 29)"
      ]
     },
     "execution_count": 46,
     "metadata": {},
     "output_type": "execute_result"
    }
   ],
   "source": [
    "drop = [\"name\",\"level_1\",\"season\",\"position\",\"GW\"]\n",
    "roll = 3\n",
    "players_data = full_data[full_data['minutes'] > 0]\n",
    "\n",
    "X_train_scaled, X_test_scaled, x_test, y_train, y_test = model_ready(full_data, drop, roll)\n",
    "X_train_scaled.shape"
   ]
  },
  {
   "cell_type": "code",
   "execution_count": 47,
   "id": "ae11cf57",
   "metadata": {
    "hidden": true
   },
   "outputs": [
    {
     "name": "stdout",
     "output_type": "stream",
     "text": [
      "94/94 [==============================] - 0s 952us/step - loss: 4.1588 - mae: 1.0938\n"
     ]
    },
    {
     "data": {
      "text/plain": [
       "[4.1587934494018555, 1.0938401222229004]"
      ]
     },
     "execution_count": 47,
     "metadata": {},
     "output_type": "execute_result"
    }
   ],
   "source": [
    "y_eval = model.evaluate(X_test_scaled, y_test)\n",
    "y_pred = model.predict(X_test_scaled)\n",
    "y_eval"
   ]
  },
  {
   "cell_type": "markdown",
   "id": "71bcc34f",
   "metadata": {},
   "source": [
    "### test"
   ]
  },
  {
   "cell_type": "code",
   "execution_count": 102,
   "id": "82a0ebb7",
   "metadata": {},
   "outputs": [],
   "source": [
    "x_test.drop(['level_1','r_assists', 'r_bonus','r_bps','r_clean_sheets',\n",
    "               'r_creativity', 'r_goals_conceded', 'r_threat','r_goals_scored',\n",
    "               'r_ict_index', 'r_influence', 'was_home', 'r_minutes','r_own_goals',\n",
    "               'r_penalties_missed','r_penalties_saved', 'r_red_cards','r_saves',\n",
    "               'r_transfers_balance', 'r_value','opponent_level','team_level','r_yellow_cards','r_team_a_score',\n",
    "               'r_team_h_score','DEF','FWD','MID','GK','r_total_points'], axis=1, inplace = True) \n",
    "\n",
    "x_test[\"predicted_points\"] = y_pred\n",
    "x_test[\"real_points\"] = y_test"
   ]
  },
  {
   "cell_type": "markdown",
   "id": "0502faf8",
   "metadata": {
    "heading_collapsed": true
   },
   "source": [
    "##### functions"
   ]
  },
  {
   "cell_type": "code",
   "execution_count": 49,
   "id": "b94230b5",
   "metadata": {
    "hidden": true
   },
   "outputs": [],
   "source": [
    "def select(df, position):\n",
    "    GW_list=[38]\n",
    "    \n",
    "    if position == 'DEF':\n",
    "        test_df = df[df['position'] == \"DEF\"]\n",
    "        num = 5\n",
    "    elif position == 'MID':\n",
    "        test_df = df[df['position'] == \"MID\"]\n",
    "        num = 5\n",
    "    elif position == 'FWD':\n",
    "        test_df = df[df['position'] == \"FWD\"]\n",
    "        num = 3\n",
    "    elif position == 'GK':\n",
    "        test_df = df[df['position'] == \"GK\"]\n",
    "        num = 2\n",
    "    else:\n",
    "        return 'not a valid position, use \"GK\", \"DEF\", \"MID\",\"FWD\"'\n",
    "    \n",
    "    top_predicted = []\n",
    "    for GW in GW_list:\n",
    "        best = test_df[test_df['GW']==GW].sort_values(by='predicted_points',ascending=False).head(num)\n",
    "        top_predicted.append(best)\n",
    "    top_predicted = pd.concat(top_predicted)\n",
    "    \n",
    "    \n",
    "    top_actual = []\n",
    "    for GW in GW_list:\n",
    "        best = test_df[test_df['GW']==GW].sort_values(by='real_points',ascending=False).head(num)\n",
    "        top_actual.append(best)\n",
    "    top_actual = pd.concat(top_actual)\n",
    "\n",
    "    return (top_actual, top_predicted)"
   ]
  },
  {
   "cell_type": "code",
   "execution_count": 50,
   "id": "77e73309",
   "metadata": {
    "hidden": true
   },
   "outputs": [],
   "source": [
    "def best(df):\n",
    "    # Selecting the predicted best starting 11\n",
    "    GK = df[df.position == \"GK\"].head(1)\n",
    "    DEF = df[df.position == \"DEF\"].head(3)\n",
    "    FWD = df[df.position == \"MID\"].head(2)\n",
    "    FWD = df[df.position == \"FWD\"].head(1)\n",
    "\n",
    "    DEFs = df[df.position == \"DEF\"].tail(2)\n",
    "    MIDs = df[df.position == \"MID\"].tail(3)\n",
    "    FWDs = df[df.position == \"FWD\"].tail(2)\n",
    "    \n",
    "    bestpick = pd.concat([DEFs,MIDs,FWDs])\n",
    "    bestpick.sort_values(by='predicted_points', ascending = False, inplace = True)\n",
    "    final_team = pd.concat([GK,DEF, bestpick.head(7)])\n",
    "    return final_team"
   ]
  },
  {
   "cell_type": "code",
   "execution_count": 51,
   "id": "d99aadbd",
   "metadata": {
    "hidden": true
   },
   "outputs": [],
   "source": [
    "def team_maker(df):\n",
    "    top_actual_def, top_predicted_def= select(x_test, position=\"DEF\")\n",
    "    top_actual_mid, top_predicted_mid = select(x_test, position=\"MID\")\n",
    "    top_actual_fwd, top_predicted_fwd = select(x_test, position=\"FWD\")\n",
    "    top_actual_gk, top_predicted_gk = select(x_test, position=\"GK\")\n",
    "    \n",
    "    # Forming squads of best 15 players\n",
    "    predicted_team = pd.concat([top_predicted_gk, top_predicted_def, top_predicted_mid, top_predicted_fwd])\n",
    "    actual_team = pd.concat([top_actual_gk, top_actual_def, top_actual_mid, top_actual_fwd])\n",
    "    \n",
    "    # Sorting the squads by best players (according to relevant points)\n",
    "    predicted_team.sort_values('predicted_points', ascending = False, inplace=True)\n",
    "    actual_team.sort_values('real_points', ascending = False, inplace=True)\n",
    "    \n",
    "    # Selecting the predicted best starting 11\n",
    "    final_pred_team = best(predicted_team)\n",
    "    final_actual_team = best(actual_team)\n",
    "    \n",
    "    return (final_pred_team, final_actual_team)"
   ]
  },
  {
   "cell_type": "markdown",
   "id": "ba5aff65",
   "metadata": {},
   "source": [
    "##### teams :"
   ]
  },
  {
   "cell_type": "code",
   "execution_count": 103,
   "id": "c5fd7e21",
   "metadata": {},
   "outputs": [],
   "source": [
    "final_pred_team, final_actual_team = team_maker(x_test)"
   ]
  },
  {
   "cell_type": "code",
   "execution_count": 105,
   "id": "08754127",
   "metadata": {},
   "outputs": [
    {
     "data": {
      "text/plain": [
       "(129, 83)"
      ]
     },
     "execution_count": 105,
     "metadata": {},
     "output_type": "execute_result"
    }
   ],
   "source": [
    "actual_team_points = final_actual_team.real_points.sum()\n",
    "predicted_team_points = final_pred_team.real_points.sum()\n",
    "\n",
    "actual_team_points, predicted_team_points"
   ]
  },
  {
   "cell_type": "markdown",
   "id": "66530611",
   "metadata": {},
   "source": [
    "TRAIN & TEST ON MINUTE > 0 \n",
    "roll = 2 -> team score of 65, 63, 62 (with patience = 10)\n",
    "\n",
    "roll = 3 -> team score of 63, 76, 85 (with patience = 10), 77 (with patience = 10)\n",
    "\n",
    "roll = 4 -> team score of 81, 65\n",
    "\n",
    "roll = 5 -> team score of 69\n",
    "\n",
    "roll = 6 -> team score of 77\n",
    "\n",
    "roll = 7 -> team score of 79\n",
    "\n",
    "roll = 8 -> team score of 80\n",
    "\n",
    "roll = 9 -> team score of 65\n",
    "\n",
    "--\n",
    "\n",
    "y_test starts GW 34 & roll = 2 -> team score = 78 \n",
    "\n",
    "^NOTE : unfair because we would want the tool to take all possible weeks into account\n",
    "\n",
    "------------------ IMPORTANT IS UNDER:\n",
    "\n",
    "TRAIN & TEST ALL \n",
    "\n",
    "*trained and tested WITH All players (not just where minute > 1)*\n",
    "\n",
    "86, 65, 62, \n",
    "\n",
    "roll = 2 -> 83\n",
    "\n",
    "------------------ IMPORTANT IS ABOVE\n",
    "\n",
    "TRAIN ON MINUTE > 0 & TESTED ON ALL DATA\n",
    "\n",
    "*tested WITH All players (not just where minute > 1)*\n",
    "\n",
    "roll = 3 -> team score of 49"
   ]
  },
  {
   "cell_type": "code",
   "execution_count": 107,
   "id": "00dc30cd",
   "metadata": {},
   "outputs": [
    {
     "data": {
      "text/html": [
       "<div>\n",
       "<style scoped>\n",
       "    .dataframe tbody tr th:only-of-type {\n",
       "        vertical-align: middle;\n",
       "    }\n",
       "\n",
       "    .dataframe tbody tr th {\n",
       "        vertical-align: top;\n",
       "    }\n",
       "\n",
       "    .dataframe thead th {\n",
       "        text-align: right;\n",
       "    }\n",
       "</style>\n",
       "<table border=\"1\" class=\"dataframe\">\n",
       "  <thead>\n",
       "    <tr style=\"text-align: right;\">\n",
       "      <th></th>\n",
       "      <th>name</th>\n",
       "      <th>GW</th>\n",
       "      <th>position</th>\n",
       "      <th>value</th>\n",
       "      <th>season</th>\n",
       "      <th>predicted_points</th>\n",
       "      <th>real_points</th>\n",
       "    </tr>\n",
       "  </thead>\n",
       "  <tbody>\n",
       "    <tr>\n",
       "      <th>72</th>\n",
       "      <td>aaron connolly</td>\n",
       "      <td>38</td>\n",
       "      <td>FWD</td>\n",
       "      <td>52</td>\n",
       "      <td>21</td>\n",
       "      <td>0.197021</td>\n",
       "      <td>1</td>\n",
       "    </tr>\n",
       "    <tr>\n",
       "      <th>148</th>\n",
       "      <td>aaron cresswell</td>\n",
       "      <td>38</td>\n",
       "      <td>DEF</td>\n",
       "      <td>57</td>\n",
       "      <td>21</td>\n",
       "      <td>3.643553</td>\n",
       "      <td>6</td>\n",
       "    </tr>\n",
       "    <tr>\n",
       "      <th>262</th>\n",
       "      <td>aaron mooy</td>\n",
       "      <td>38</td>\n",
       "      <td>MID</td>\n",
       "      <td>50</td>\n",
       "      <td>21</td>\n",
       "      <td>0.227593</td>\n",
       "      <td>0</td>\n",
       "    </tr>\n",
       "    <tr>\n",
       "      <th>338</th>\n",
       "      <td>aaron ramsdale</td>\n",
       "      <td>38</td>\n",
       "      <td>GK</td>\n",
       "      <td>46</td>\n",
       "      <td>21</td>\n",
       "      <td>3.908362</td>\n",
       "      <td>9</td>\n",
       "    </tr>\n",
       "    <tr>\n",
       "      <th>414</th>\n",
       "      <td>aaron wan-bissaka</td>\n",
       "      <td>38</td>\n",
       "      <td>DEF</td>\n",
       "      <td>58</td>\n",
       "      <td>21</td>\n",
       "      <td>3.987929</td>\n",
       "      <td>0</td>\n",
       "    </tr>\n",
       "    <tr>\n",
       "      <th>...</th>\n",
       "      <td>...</td>\n",
       "      <td>...</td>\n",
       "      <td>...</td>\n",
       "      <td>...</td>\n",
       "      <td>...</td>\n",
       "      <td>...</td>\n",
       "      <td>...</td>\n",
       "    </tr>\n",
       "    <tr>\n",
       "      <th>46762</th>\n",
       "      <td>zack steffen</td>\n",
       "      <td>38</td>\n",
       "      <td>GK</td>\n",
       "      <td>44</td>\n",
       "      <td>21</td>\n",
       "      <td>0.010003</td>\n",
       "      <td>0</td>\n",
       "    </tr>\n",
       "    <tr>\n",
       "      <th>46779</th>\n",
       "      <td>zak brunt</td>\n",
       "      <td>38</td>\n",
       "      <td>MID</td>\n",
       "      <td>45</td>\n",
       "      <td>21</td>\n",
       "      <td>0.030641</td>\n",
       "      <td>0</td>\n",
       "    </tr>\n",
       "    <tr>\n",
       "      <th>46827</th>\n",
       "      <td>zeze steven sessegnon</td>\n",
       "      <td>38</td>\n",
       "      <td>DEF</td>\n",
       "      <td>43</td>\n",
       "      <td>21</td>\n",
       "      <td>0.260415</td>\n",
       "      <td>0</td>\n",
       "    </tr>\n",
       "    <tr>\n",
       "      <th>46903</th>\n",
       "      <td>çaglar söyüncü</td>\n",
       "      <td>38</td>\n",
       "      <td>DEF</td>\n",
       "      <td>53</td>\n",
       "      <td>21</td>\n",
       "      <td>2.843693</td>\n",
       "      <td>0</td>\n",
       "    </tr>\n",
       "    <tr>\n",
       "      <th>46979</th>\n",
       "      <td>ørjan nyland</td>\n",
       "      <td>38</td>\n",
       "      <td>GK</td>\n",
       "      <td>40</td>\n",
       "      <td>21</td>\n",
       "      <td>-0.011318</td>\n",
       "      <td>0</td>\n",
       "    </tr>\n",
       "  </tbody>\n",
       "</table>\n",
       "<p>705 rows × 7 columns</p>\n",
       "</div>"
      ],
      "text/plain": [
       "                        name  GW position  value  season  predicted_points  \\\n",
       "72            aaron connolly  38      FWD     52      21          0.197021   \n",
       "148          aaron cresswell  38      DEF     57      21          3.643553   \n",
       "262               aaron mooy  38      MID     50      21          0.227593   \n",
       "338           aaron ramsdale  38       GK     46      21          3.908362   \n",
       "414        aaron wan-bissaka  38      DEF     58      21          3.987929   \n",
       "...                      ...  ..      ...    ...     ...               ...   \n",
       "46762           zack steffen  38       GK     44      21          0.010003   \n",
       "46779              zak brunt  38      MID     45      21          0.030641   \n",
       "46827  zeze steven sessegnon  38      DEF     43      21          0.260415   \n",
       "46903         çaglar söyüncü  38      DEF     53      21          2.843693   \n",
       "46979           ørjan nyland  38       GK     40      21         -0.011318   \n",
       "\n",
       "       real_points  \n",
       "72               1  \n",
       "148              6  \n",
       "262              0  \n",
       "338              9  \n",
       "414              0  \n",
       "...            ...  \n",
       "46762            0  \n",
       "46779            0  \n",
       "46827            0  \n",
       "46903            0  \n",
       "46979            0  \n",
       "\n",
       "[705 rows x 7 columns]"
      ]
     },
     "execution_count": 107,
     "metadata": {},
     "output_type": "execute_result"
    }
   ],
   "source": [
    "x_test"
   ]
  },
  {
   "cell_type": "code",
   "execution_count": 108,
   "id": "515bc5bb",
   "metadata": {},
   "outputs": [],
   "source": [
    "x_test.to_csv(\"../latest_prediction.csv\")"
   ]
  }
 ],
 "metadata": {
  "kernelspec": {
   "display_name": "Python 3",
   "language": "python",
   "name": "python3"
  },
  "language_info": {
   "codemirror_mode": {
    "name": "ipython",
    "version": 3
   },
   "file_extension": ".py",
   "mimetype": "text/x-python",
   "name": "python",
   "nbconvert_exporter": "python",
   "pygments_lexer": "ipython3",
   "version": "3.9.1"
  },
  "toc": {
   "base_numbering": 1,
   "nav_menu": {},
   "number_sections": true,
   "sideBar": true,
   "skip_h1_title": false,
   "title_cell": "Table of Contents",
   "title_sidebar": "Contents",
   "toc_cell": false,
   "toc_position": {},
   "toc_section_display": true,
   "toc_window_display": false
  }
 },
 "nbformat": 4,
 "nbformat_minor": 5
}
