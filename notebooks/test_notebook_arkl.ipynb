{
 "cells": [
  {
   "cell_type": "code",
<<<<<<< Updated upstream
   "execution_count": 1,
   "id": "6799f055",
   "metadata": {
    "ExecuteTime": {
     "end_time": "2021-06-08T13:40:26.387057Z",
     "start_time": "2021-06-08T13:40:26.293828Z"
=======
   "execution_count": 7,
   "id": "6799f055",
   "metadata": {
    "ExecuteTime": {
     "end_time": "2021-06-08T14:32:18.420292Z",
     "start_time": "2021-06-08T14:32:18.338015Z"
>>>>>>> Stashed changes
    }
   },
   "outputs": [
    {
     "ename": "ModuleNotFoundError",
<<<<<<< Updated upstream
     "evalue": "No module named 'merge_years.import_data'",
=======
     "evalue": "No module named 'import_data'",
>>>>>>> Stashed changes
     "output_type": "error",
     "traceback": [
      "\u001b[0;31m---------------------------------------------------------------------------\u001b[0m",
      "\u001b[0;31mModuleNotFoundError\u001b[0m                       Traceback (most recent call last)",
<<<<<<< Updated upstream
      "\u001b[0;32m<ipython-input-1-47525ee827d4>\u001b[0m in \u001b[0;36m<module>\u001b[0;34m\u001b[0m\n\u001b[0;32m----> 1\u001b[0;31m \u001b[0;32mfrom\u001b[0m \u001b[0mmerge_years\u001b[0m\u001b[0;34m.\u001b[0m\u001b[0mimport_data\u001b[0m \u001b[0;32mimport\u001b[0m \u001b[0mget_full_data\u001b[0m\u001b[0;34m\u001b[0m\u001b[0;34m\u001b[0m\u001b[0m\n\u001b[0m",
      "\u001b[0;31mModuleNotFoundError\u001b[0m: No module named 'merge_years.import_data'"
=======
      "\u001b[0;32m<ipython-input-7-8b69373c9c82>\u001b[0m in \u001b[0;36m<module>\u001b[0;34m\u001b[0m\n\u001b[0;32m----> 1\u001b[0;31m \u001b[0;32mfrom\u001b[0m \u001b[0mimport_data\u001b[0m \u001b[0;32mimport\u001b[0m \u001b[0mget_full_data\u001b[0m\u001b[0;34m\u001b[0m\u001b[0;34m\u001b[0m\u001b[0m\n\u001b[0m",
      "\u001b[0;31mModuleNotFoundError\u001b[0m: No module named 'import_data'"
>>>>>>> Stashed changes
     ]
    }
   ],
   "source": [
<<<<<<< Updated upstream
    "from merge_years.import_data import get_full_data"
=======
    "from import_data import get_full_data"
>>>>>>> Stashed changes
   ]
  },
  {
   "cell_type": "code",
<<<<<<< Updated upstream
   "execution_count": null,
   "id": "433961f9",
=======
   "execution_count": 8,
   "id": "433961f9",
   "metadata": {
    "ExecuteTime": {
     "end_time": "2021-06-08T14:35:13.084680Z",
     "start_time": "2021-06-08T14:35:12.914304Z"
    }
   },
   "outputs": [
    {
     "name": "stdout",
     "output_type": "stream",
     "text": [
      "/Users/armin/code/1kruidenp/fflpred/notebooks\r\n"
     ]
    }
   ],
   "source": [
    "!pwd"
   ]
  },
  {
   "cell_type": "code",
   "execution_count": 14,
   "id": "046cdd5c",
   "metadata": {
    "ExecuteTime": {
     "end_time": "2021-06-08T14:40:02.074925Z",
     "start_time": "2021-06-08T14:40:02.062725Z"
    }
   },
   "outputs": [
    {
     "ename": "ImportError",
     "evalue": "cannot import name 'get_full_data_new' from 'merge_years.import_data' (/Users/armin/code/1kruidenp/fflpred/merge_years/import_data.py)",
     "output_type": "error",
     "traceback": [
      "\u001b[0;31m---------------------------------------------------------------------------\u001b[0m",
      "\u001b[0;31mImportError\u001b[0m                               Traceback (most recent call last)",
      "\u001b[0;32m<ipython-input-14-52e96e9de571>\u001b[0m in \u001b[0;36m<module>\u001b[0;34m\u001b[0m\n\u001b[0;32m----> 1\u001b[0;31m \u001b[0;32mfrom\u001b[0m \u001b[0mmerge_years\u001b[0m\u001b[0;34m.\u001b[0m\u001b[0mimport_data\u001b[0m \u001b[0;32mimport\u001b[0m \u001b[0mget_full_data_new\u001b[0m\u001b[0;34m\u001b[0m\u001b[0;34m\u001b[0m\u001b[0m\n\u001b[0m",
      "\u001b[0;31mImportError\u001b[0m: cannot import name 'get_full_data_new' from 'merge_years.import_data' (/Users/armin/code/1kruidenp/fflpred/merge_years/import_data.py)"
     ]
    }
   ],
   "source": [
    "from merge_years.import_data import get_full_data_new"
   ]
  },
  {
   "cell_type": "code",
   "execution_count": null,
   "id": "ec2cfebf",
>>>>>>> Stashed changes
   "metadata": {},
   "outputs": [],
   "source": []
  }
 ],
 "metadata": {
  "kernelspec": {
   "display_name": "Python 3",
   "language": "python",
   "name": "python3"
  },
  "language_info": {
   "codemirror_mode": {
    "name": "ipython",
    "version": 3
   },
   "file_extension": ".py",
   "mimetype": "text/x-python",
   "name": "python",
   "nbconvert_exporter": "python",
   "pygments_lexer": "ipython3",
   "version": "3.8.6"
  },
  "toc": {
   "base_numbering": 1,
   "nav_menu": {},
   "number_sections": true,
   "sideBar": true,
   "skip_h1_title": false,
   "title_cell": "Table of Contents",
   "title_sidebar": "Contents",
   "toc_cell": false,
   "toc_position": {},
   "toc_section_display": true,
   "toc_window_display": false
  }
 },
 "nbformat": 4,
 "nbformat_minor": 5
}
