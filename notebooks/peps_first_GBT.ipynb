{
 "cells": [
  {
   "cell_type": "code",
   "execution_count": 1,
   "id": "2594cfc6",
   "metadata": {
    "ExecuteTime": {
     "end_time": "2021-06-13T11:16:05.608133Z",
     "start_time": "2021-06-13T11:16:03.983918Z"
    }
   },
   "outputs": [],
   "source": [
    "import pandas as pd\n",
    "import numpy as np\n",
    "import matplotlib.pyplot as plt\n",
    "import seaborn as sns\n",
    "from sklearn import set_config; set_config(display='diagram')"
   ]
  },
  {
   "cell_type": "code",
   "execution_count": 2,
   "id": "1545ea67",
   "metadata": {
    "ExecuteTime": {
     "end_time": "2021-06-13T11:16:05.618154Z",
     "start_time": "2021-06-13T11:16:05.610967Z"
    }
   },
   "outputs": [],
   "source": [
    "from merge_years.import_data import get_full_data\n"
   ]
  },
  {
   "cell_type": "code",
   "execution_count": 3,
   "id": "c49f8322",
   "metadata": {
    "ExecuteTime": {
     "end_time": "2021-06-13T11:16:05.758034Z",
     "start_time": "2021-06-13T11:16:05.622173Z"
    }
   },
   "outputs": [],
   "source": [
    "!cd .."
   ]
  },
  {
   "cell_type": "code",
   "execution_count": 4,
   "id": "73560539",
   "metadata": {
    "ExecuteTime": {
     "end_time": "2021-06-13T11:17:05.335036Z",
     "start_time": "2021-06-13T11:16:05.764101Z"
    },
    "scrolled": true
   },
   "outputs": [
    {
     "ename": "ValueError",
     "evalue": "You are trying to merge on int64 and object columns. If you wish to proceed you should use pd.concat",
     "output_type": "error",
     "traceback": [
      "\u001b[0;31m---------------------------------------------------------------------------\u001b[0m",
      "\u001b[0;31mValueError\u001b[0m                                Traceback (most recent call last)",
      "\u001b[0;32m<ipython-input-4-0315f45b5387>\u001b[0m in \u001b[0;36m<module>\u001b[0;34m\u001b[0m\n\u001b[0;32m----> 1\u001b[0;31m \u001b[0mraw_data\u001b[0m\u001b[0;34m=\u001b[0m\u001b[0mget_full_data\u001b[0m\u001b[0;34m(\u001b[0m\u001b[0;34m'../raw_data'\u001b[0m\u001b[0;34m)\u001b[0m\u001b[0;34m\u001b[0m\u001b[0;34m\u001b[0m\u001b[0m\n\u001b[0m",
      "\u001b[0;32m~/.pyenv/versions/3.8.6/envs/fflpred/lib/python3.8/site-packages/merge_years/import_data.py\u001b[0m in \u001b[0;36mget_full_data\u001b[0;34m(raw_data_path, return_missing_column_list)\u001b[0m\n\u001b[1;32m     83\u001b[0m \u001b[0;34m\u001b[0m\u001b[0m\n\u001b[1;32m     84\u001b[0m     \u001b[0;31m# Add team name for last two years to dataframe\u001b[0m\u001b[0;34m\u001b[0m\u001b[0;34m\u001b[0m\u001b[0;34m\u001b[0m\u001b[0m\n\u001b[0;32m---> 85\u001b[0;31m     \u001b[0mcomplete_data\u001b[0m \u001b[0;34m=\u001b[0m \u001b[0madd_team\u001b[0m\u001b[0;34m(\u001b[0m\u001b[0mcomplete_data\u001b[0m\u001b[0;34m,\u001b[0m \u001b[0mplayers_raw_seasons\u001b[0m\u001b[0;34m,\u001b[0m \u001b[0mraw_data_path\u001b[0m\u001b[0;34m)\u001b[0m\u001b[0;34m\u001b[0m\u001b[0;34m\u001b[0m\u001b[0m\n\u001b[0m\u001b[1;32m     86\u001b[0m \u001b[0;34m\u001b[0m\u001b[0m\n\u001b[1;32m     87\u001b[0m     \u001b[0;31m# Add opponent strength\u001b[0m\u001b[0;34m\u001b[0m\u001b[0;34m\u001b[0m\u001b[0;34m\u001b[0m\u001b[0m\n",
      "\u001b[0;32m~/.pyenv/versions/3.8.6/envs/fflpred/lib/python3.8/site-packages/merge_years/import_data.py\u001b[0m in \u001b[0;36madd_team\u001b[0;34m(df, players_raw_seasons, raw_data_path)\u001b[0m\n\u001b[1;32m    259\u001b[0m     \u001b[0mxyz\u001b[0m\u001b[0;34m.\u001b[0m\u001b[0mrename\u001b[0m\u001b[0;34m(\u001b[0m\u001b[0mcolumns\u001b[0m\u001b[0;34m=\u001b[0m\u001b[0;34m{\u001b[0m\u001b[0;34m'name'\u001b[0m\u001b[0;34m:\u001b[0m \u001b[0;34m'team_name'\u001b[0m\u001b[0;34m,\u001b[0m \u001b[0;34m'id'\u001b[0m\u001b[0;34m:\u001b[0m \u001b[0;34m'team_id'\u001b[0m\u001b[0;34m}\u001b[0m\u001b[0;34m,\u001b[0m \u001b[0minplace\u001b[0m\u001b[0;34m=\u001b[0m\u001b[0;32mTrue\u001b[0m\u001b[0;34m)\u001b[0m\u001b[0;34m\u001b[0m\u001b[0;34m\u001b[0m\u001b[0m\n\u001b[1;32m    260\u001b[0m     \u001b[0mxyz\u001b[0m\u001b[0;34m.\u001b[0m\u001b[0mset_index\u001b[0m\u001b[0;34m(\u001b[0m\u001b[0;34m'team_id'\u001b[0m\u001b[0;34m,\u001b[0m \u001b[0mdrop\u001b[0m\u001b[0;34m=\u001b[0m\u001b[0;32mTrue\u001b[0m\u001b[0;34m,\u001b[0m \u001b[0minplace\u001b[0m\u001b[0;34m=\u001b[0m\u001b[0;32mTrue\u001b[0m\u001b[0;34m)\u001b[0m\u001b[0;34m\u001b[0m\u001b[0;34m\u001b[0m\u001b[0m\n\u001b[0;32m--> 261\u001b[0;31m     \u001b[0mdf20\u001b[0m \u001b[0;34m=\u001b[0m \u001b[0mdf20\u001b[0m\u001b[0;34m.\u001b[0m\u001b[0mjoin\u001b[0m\u001b[0;34m(\u001b[0m\u001b[0mxyz\u001b[0m\u001b[0;34m,\u001b[0m \u001b[0mon\u001b[0m\u001b[0;34m=\u001b[0m\u001b[0;34m[\u001b[0m\u001b[0;34m'team_id'\u001b[0m\u001b[0;34m]\u001b[0m\u001b[0;34m)\u001b[0m\u001b[0;34m\u001b[0m\u001b[0;34m\u001b[0m\u001b[0m\n\u001b[0m\u001b[1;32m    262\u001b[0m \u001b[0;34m\u001b[0m\u001b[0m\n\u001b[1;32m    263\u001b[0m     \u001b[0mdf21\u001b[0m \u001b[0;34m=\u001b[0m \u001b[0mdf\u001b[0m\u001b[0;34m.\u001b[0m\u001b[0mloc\u001b[0m\u001b[0;34m[\u001b[0m\u001b[0mdf\u001b[0m\u001b[0;34m[\u001b[0m\u001b[0;34m'season'\u001b[0m\u001b[0;34m]\u001b[0m \u001b[0;34m==\u001b[0m \u001b[0;36m21\u001b[0m\u001b[0;34m]\u001b[0m\u001b[0;34m.\u001b[0m\u001b[0mcopy\u001b[0m\u001b[0;34m(\u001b[0m\u001b[0;34m)\u001b[0m\u001b[0;34m\u001b[0m\u001b[0;34m\u001b[0m\u001b[0m\n",
      "\u001b[0;32m~/.pyenv/versions/3.8.6/envs/fflpred/lib/python3.8/site-packages/pandas/core/frame.py\u001b[0m in \u001b[0;36mjoin\u001b[0;34m(self, other, on, how, lsuffix, rsuffix, sort)\u001b[0m\n\u001b[1;32m   8108\u001b[0m         \u001b[0;36m5\u001b[0m  \u001b[0mK5\u001b[0m  \u001b[0mA5\u001b[0m  \u001b[0mNaN\u001b[0m\u001b[0;34m\u001b[0m\u001b[0;34m\u001b[0m\u001b[0m\n\u001b[1;32m   8109\u001b[0m         \"\"\"\n\u001b[0;32m-> 8110\u001b[0;31m         return self._join_compat(\n\u001b[0m\u001b[1;32m   8111\u001b[0m             \u001b[0mother\u001b[0m\u001b[0;34m,\u001b[0m \u001b[0mon\u001b[0m\u001b[0;34m=\u001b[0m\u001b[0mon\u001b[0m\u001b[0;34m,\u001b[0m \u001b[0mhow\u001b[0m\u001b[0;34m=\u001b[0m\u001b[0mhow\u001b[0m\u001b[0;34m,\u001b[0m \u001b[0mlsuffix\u001b[0m\u001b[0;34m=\u001b[0m\u001b[0mlsuffix\u001b[0m\u001b[0;34m,\u001b[0m \u001b[0mrsuffix\u001b[0m\u001b[0;34m=\u001b[0m\u001b[0mrsuffix\u001b[0m\u001b[0;34m,\u001b[0m \u001b[0msort\u001b[0m\u001b[0;34m=\u001b[0m\u001b[0msort\u001b[0m\u001b[0;34m\u001b[0m\u001b[0;34m\u001b[0m\u001b[0m\n\u001b[1;32m   8112\u001b[0m         )\n",
      "\u001b[0;32m~/.pyenv/versions/3.8.6/envs/fflpred/lib/python3.8/site-packages/pandas/core/frame.py\u001b[0m in \u001b[0;36m_join_compat\u001b[0;34m(self, other, on, how, lsuffix, rsuffix, sort)\u001b[0m\n\u001b[1;32m   8133\u001b[0m                     \u001b[0msort\u001b[0m\u001b[0;34m=\u001b[0m\u001b[0msort\u001b[0m\u001b[0;34m,\u001b[0m\u001b[0;34m\u001b[0m\u001b[0;34m\u001b[0m\u001b[0m\n\u001b[1;32m   8134\u001b[0m                 )\n\u001b[0;32m-> 8135\u001b[0;31m             return merge(\n\u001b[0m\u001b[1;32m   8136\u001b[0m                 \u001b[0mself\u001b[0m\u001b[0;34m,\u001b[0m\u001b[0;34m\u001b[0m\u001b[0;34m\u001b[0m\u001b[0m\n\u001b[1;32m   8137\u001b[0m                 \u001b[0mother\u001b[0m\u001b[0;34m,\u001b[0m\u001b[0;34m\u001b[0m\u001b[0;34m\u001b[0m\u001b[0m\n",
      "\u001b[0;32m~/.pyenv/versions/3.8.6/envs/fflpred/lib/python3.8/site-packages/pandas/core/reshape/merge.py\u001b[0m in \u001b[0;36mmerge\u001b[0;34m(left, right, how, on, left_on, right_on, left_index, right_index, sort, suffixes, copy, indicator, validate)\u001b[0m\n\u001b[1;32m     72\u001b[0m     \u001b[0mvalidate\u001b[0m\u001b[0;34m=\u001b[0m\u001b[0;32mNone\u001b[0m\u001b[0;34m,\u001b[0m\u001b[0;34m\u001b[0m\u001b[0;34m\u001b[0m\u001b[0m\n\u001b[1;32m     73\u001b[0m ) -> \"DataFrame\":\n\u001b[0;32m---> 74\u001b[0;31m     op = _MergeOperation(\n\u001b[0m\u001b[1;32m     75\u001b[0m         \u001b[0mleft\u001b[0m\u001b[0;34m,\u001b[0m\u001b[0;34m\u001b[0m\u001b[0;34m\u001b[0m\u001b[0m\n\u001b[1;32m     76\u001b[0m         \u001b[0mright\u001b[0m\u001b[0;34m,\u001b[0m\u001b[0;34m\u001b[0m\u001b[0;34m\u001b[0m\u001b[0m\n",
      "\u001b[0;32m~/.pyenv/versions/3.8.6/envs/fflpred/lib/python3.8/site-packages/pandas/core/reshape/merge.py\u001b[0m in \u001b[0;36m__init__\u001b[0;34m(self, left, right, how, on, left_on, right_on, axis, left_index, right_index, sort, suffixes, copy, indicator, validate)\u001b[0m\n\u001b[1;32m    670\u001b[0m         \u001b[0;31m# validate the merge keys dtypes. We may need to coerce\u001b[0m\u001b[0;34m\u001b[0m\u001b[0;34m\u001b[0m\u001b[0;34m\u001b[0m\u001b[0m\n\u001b[1;32m    671\u001b[0m         \u001b[0;31m# to avoid incompatible dtypes\u001b[0m\u001b[0;34m\u001b[0m\u001b[0;34m\u001b[0m\u001b[0;34m\u001b[0m\u001b[0m\n\u001b[0;32m--> 672\u001b[0;31m         \u001b[0mself\u001b[0m\u001b[0;34m.\u001b[0m\u001b[0m_maybe_coerce_merge_keys\u001b[0m\u001b[0;34m(\u001b[0m\u001b[0;34m)\u001b[0m\u001b[0;34m\u001b[0m\u001b[0;34m\u001b[0m\u001b[0m\n\u001b[0m\u001b[1;32m    673\u001b[0m \u001b[0;34m\u001b[0m\u001b[0m\n\u001b[1;32m    674\u001b[0m         \u001b[0;31m# If argument passed to validate,\u001b[0m\u001b[0;34m\u001b[0m\u001b[0;34m\u001b[0m\u001b[0;34m\u001b[0m\u001b[0m\n",
      "\u001b[0;32m~/.pyenv/versions/3.8.6/envs/fflpred/lib/python3.8/site-packages/pandas/core/reshape/merge.py\u001b[0m in \u001b[0;36m_maybe_coerce_merge_keys\u001b[0;34m(self)\u001b[0m\n\u001b[1;32m   1191\u001b[0m                     \u001b[0minferred_right\u001b[0m \u001b[0;32min\u001b[0m \u001b[0mstring_types\u001b[0m \u001b[0;32mand\u001b[0m \u001b[0minferred_left\u001b[0m \u001b[0;32mnot\u001b[0m \u001b[0;32min\u001b[0m \u001b[0mstring_types\u001b[0m\u001b[0;34m\u001b[0m\u001b[0;34m\u001b[0m\u001b[0m\n\u001b[1;32m   1192\u001b[0m                 ):\n\u001b[0;32m-> 1193\u001b[0;31m                     \u001b[0;32mraise\u001b[0m \u001b[0mValueError\u001b[0m\u001b[0;34m(\u001b[0m\u001b[0mmsg\u001b[0m\u001b[0;34m)\u001b[0m\u001b[0;34m\u001b[0m\u001b[0;34m\u001b[0m\u001b[0m\n\u001b[0m\u001b[1;32m   1194\u001b[0m \u001b[0;34m\u001b[0m\u001b[0m\n\u001b[1;32m   1195\u001b[0m             \u001b[0;31m# datetimelikes must match exactly\u001b[0m\u001b[0;34m\u001b[0m\u001b[0;34m\u001b[0m\u001b[0;34m\u001b[0m\u001b[0m\n",
      "\u001b[0;31mValueError\u001b[0m: You are trying to merge on int64 and object columns. If you wish to proceed you should use pd.concat"
     ]
    }
   ],
   "source": [
    "raw_data=get_full_data('../raw_data')"
   ]
  },
  {
   "cell_type": "code",
   "execution_count": null,
   "id": "58499d4c",
   "metadata": {
    "ExecuteTime": {
     "end_time": "2021-06-13T11:17:05.345910Z",
     "start_time": "2021-06-13T11:16:03.997Z"
    }
   },
   "outputs": [],
   "source": [
    "raw_data.shape"
   ]
  },
  {
   "cell_type": "code",
   "execution_count": null,
   "id": "af8dc640",
   "metadata": {
    "ExecuteTime": {
     "end_time": "2021-06-13T11:17:05.348357Z",
     "start_time": "2021-06-13T11:16:04.000Z"
    },
    "scrolled": true
   },
   "outputs": [],
   "source": [
    "raw_data = raw_data[raw_data.name != 'ben davies']\n",
    "print(raw_data.shape)\n",
    "#raw_data = raw_data[raw_data.name != 'danny ward']\n",
    "#raw_data.shape"
   ]
  },
  {
   "cell_type": "code",
   "execution_count": null,
   "id": "33f4cc1d",
   "metadata": {
    "ExecuteTime": {
     "end_time": "2021-06-13T11:17:05.353929Z",
     "start_time": "2021-06-13T11:16:04.014Z"
    }
   },
   "outputs": [],
   "source": [
    "raw_data[raw_data['position'].isnull()]\n"
   ]
  },
  {
   "cell_type": "code",
   "execution_count": null,
   "id": "9392f1e2",
   "metadata": {
    "ExecuteTime": {
     "end_time": "2021-06-13T11:17:05.357298Z",
     "start_time": "2021-06-13T11:16:04.017Z"
    }
   },
   "outputs": [],
   "source": [
    "j=0\n",
    "for i,row in raw_data.iterrows():\n",
    "    if row['name']=='caglar söyüncü':\n",
    "        print(j)\n",
    "        raw_data['position'].at[i]='DEF'\n",
    "        j+=1"
   ]
  },
  {
   "cell_type": "code",
   "execution_count": null,
   "id": "503412f7",
   "metadata": {
    "ExecuteTime": {
     "end_time": "2021-06-13T11:17:05.360148Z",
     "start_time": "2021-06-13T11:16:04.020Z"
    }
   },
   "outputs": [],
   "source": [
    "raw_data.isnull().sum().sort_values(ascending=False)"
   ]
  },
  {
   "cell_type": "code",
   "execution_count": null,
   "id": "df20262c",
   "metadata": {
    "ExecuteTime": {
     "end_time": "2021-06-13T11:17:05.362319Z",
     "start_time": "2021-06-13T11:16:04.022Z"
    }
   },
   "outputs": [],
   "source": [
    "raw_data.columns"
   ]
  },
  {
   "cell_type": "code",
   "execution_count": null,
   "id": "51937f11",
   "metadata": {
    "ExecuteTime": {
     "end_time": "2021-06-13T11:17:05.364785Z",
     "start_time": "2021-06-13T11:16:04.025Z"
    }
   },
   "outputs": [],
   "source": [
    "'aaron connolly' in raw_data[raw_data['season']==21]['name'].unique()"
   ]
  },
  {
   "cell_type": "markdown",
   "id": "f0e15340",
   "metadata": {},
   "source": [
    "# Feature engineering"
   ]
  },
  {
   "cell_type": "code",
   "execution_count": null,
   "id": "c9c98285",
   "metadata": {
    "ExecuteTime": {
     "end_time": "2021-06-13T11:17:05.367925Z",
     "start_time": "2021-06-13T11:16:04.027Z"
    }
   },
   "outputs": [],
   "source": [
    "raw_data.columns"
   ]
  },
  {
   "cell_type": "code",
   "execution_count": null,
   "id": "c7cd251b",
   "metadata": {
    "ExecuteTime": {
     "end_time": "2021-06-13T11:17:05.373541Z",
     "start_time": "2021-06-13T11:16:04.032Z"
    }
   },
   "outputs": [],
   "source": [
    "raw_data.head()"
   ]
  },
  {
   "cell_type": "code",
   "execution_count": null,
   "id": "f6fd6017",
   "metadata": {
    "ExecuteTime": {
     "end_time": "2021-06-13T11:17:05.376332Z",
     "start_time": "2021-06-13T11:16:04.035Z"
    }
   },
   "outputs": [],
   "source": [
    "features = ['name','assists','bps','clean_sheets','goals_scored',\n",
    "            'opponent_level','transfers_balance','was_home','position',\n",
    "           'saves','kickoff_time','value','dreamteam_yearly_average','GW','season','total_points','kickoff_date']\n",
    "subset_df = raw_data[features]"
   ]
  },
  {
   "cell_type": "code",
   "execution_count": null,
   "id": "f316aeed",
   "metadata": {
    "ExecuteTime": {
     "end_time": "2021-06-13T11:17:05.378793Z",
     "start_time": "2021-06-13T11:16:04.039Z"
    },
    "scrolled": true
   },
   "outputs": [],
   "source": [
    "subset_df.head()"
   ]
  },
  {
   "cell_type": "code",
   "execution_count": null,
   "id": "0f24350b",
   "metadata": {
    "ExecuteTime": {
     "end_time": "2021-06-13T11:17:05.380801Z",
     "start_time": "2021-06-13T11:16:04.043Z"
    }
   },
   "outputs": [],
   "source": [
    "time=[]\n",
    "for row in subset_df['kickoff_time']:\n",
    "    time.append(row.hour)\n",
    "subset_df['time']=time"
   ]
  },
  {
   "cell_type": "code",
   "execution_count": null,
   "id": "a2d76369",
   "metadata": {
    "ExecuteTime": {
     "end_time": "2021-06-13T11:17:05.383365Z",
     "start_time": "2021-06-13T11:16:04.046Z"
    }
   },
   "outputs": [],
   "source": [
    "subset_df.drop(columns='kickoff_time',inplace=True)"
   ]
  },
  {
   "cell_type": "code",
   "execution_count": null,
   "id": "dbe5fd3e",
   "metadata": {
    "ExecuteTime": {
     "end_time": "2021-06-13T11:17:05.388236Z",
     "start_time": "2021-06-13T11:16:04.056Z"
    }
   },
   "outputs": [],
   "source": [
    "subset_df"
   ]
  },
  {
   "cell_type": "code",
   "execution_count": null,
   "id": "ede27017",
   "metadata": {
    "ExecuteTime": {
     "end_time": "2021-06-13T11:17:05.393150Z",
     "start_time": "2021-06-13T11:16:04.059Z"
    }
   },
   "outputs": [],
   "source": [
    "rolling_features=['name','assists','bps','clean_sheets','goals_scored','opponent_level',\n",
    "                   'transfers_balance','was_home','saves','value','total_points','time']\n",
    "#missing position, dreamteam, GW, Season\n",
    "\n"
   ]
  },
  {
   "cell_type": "code",
   "execution_count": null,
   "id": "e38eb3c6",
   "metadata": {
    "ExecuteTime": {
     "end_time": "2021-06-13T11:17:05.396718Z",
     "start_time": "2021-06-13T11:16:04.062Z"
    },
    "scrolled": true
   },
   "outputs": [],
   "source": [
    "rolling_df=subset_df[rolling_features].groupby('name').rolling(5,closed = 'left').mean()"
   ]
  },
  {
   "cell_type": "code",
   "execution_count": null,
   "id": "496fc2b3",
   "metadata": {
    "ExecuteTime": {
     "end_time": "2021-06-13T11:17:05.398826Z",
     "start_time": "2021-06-13T11:16:04.073Z"
    }
   },
   "outputs": [],
   "source": [
    "rolling_df.head(10)"
   ]
  },
  {
   "cell_type": "code",
   "execution_count": null,
   "id": "c6ff9c48",
   "metadata": {
    "ExecuteTime": {
     "end_time": "2021-06-13T11:17:05.401546Z",
     "start_time": "2021-06-13T11:16:04.076Z"
    },
    "scrolled": true
   },
   "outputs": [],
   "source": [
    "rolling_df.rename(columns={'total_points':'rolling_points'},inplace=True)\n",
    "\n",
    "\n",
    "result = map(lambda position:position, subset_df['position'])\n",
    "rolling_df['position']=list(result)\n",
    "\n",
    "result = map(lambda position:position, subset_df['dreamteam_yearly_average'])\n",
    "rolling_df['dreamteam_yearly_average']=list(result)\n",
    "\n",
    "result = map(lambda position:position, subset_df['GW'])\n",
    "rolling_df['GW']=list(result)\n",
    "\n",
    "result = map(lambda position:position, subset_df['season'])\n",
    "rolling_df['season']=list(result)\n",
    "\n",
    "result = map(lambda position:position, subset_df['total_points'])\n",
    "rolling_df['total_points']=list(result)\n",
    "\n",
    "result = map(lambda position:position, subset_df['kickoff_date'])\n",
    "rolling_df['kickoff_date']=list(result)"
   ]
  },
  {
   "cell_type": "code",
   "execution_count": null,
   "id": "da791783",
   "metadata": {
    "ExecuteTime": {
     "end_time": "2021-06-13T11:17:05.406120Z",
     "start_time": "2021-06-13T11:16:04.081Z"
    },
    "scrolled": true
   },
   "outputs": [],
   "source": [
    "rolling_df.tail()\n"
   ]
  },
  {
   "cell_type": "code",
   "execution_count": null,
   "id": "5005bb9e",
   "metadata": {
    "ExecuteTime": {
     "end_time": "2021-06-13T11:17:05.408530Z",
     "start_time": "2021-06-13T11:16:04.083Z"
    }
   },
   "outputs": [],
   "source": [
    "len(rolling_df['assists'].dropna())"
   ]
  },
  {
   "cell_type": "code",
   "execution_count": null,
   "id": "7e887325",
   "metadata": {
    "ExecuteTime": {
     "end_time": "2021-06-13T11:17:05.411233Z",
     "start_time": "2021-06-13T11:16:04.086Z"
    }
   },
   "outputs": [],
   "source": [
    "not_processed_df_name=rolling_df.dropna(subset=['assists'])"
   ]
  },
  {
   "cell_type": "code",
   "execution_count": null,
   "id": "fc8efd4a",
   "metadata": {
    "ExecuteTime": {
     "end_time": "2021-06-13T11:17:05.413427Z",
     "start_time": "2021-06-13T11:16:04.089Z"
    }
   },
   "outputs": [],
   "source": [
    "not_processed_df=not_processed_df_name.reset_index()"
   ]
  },
  {
   "cell_type": "code",
   "execution_count": null,
   "id": "2d45140f",
   "metadata": {
    "ExecuteTime": {
     "end_time": "2021-06-13T11:17:05.417406Z",
     "start_time": "2021-06-13T11:16:04.092Z"
    },
    "scrolled": true
   },
   "outputs": [],
   "source": [
    "player_dtya={}\n",
    "for i,player in enumerate(not_processed_df['name'].unique()):\n",
    "    player_dtya[player]=not_processed_df[not_processed_df['name']==player]['dreamteam_yearly_average'].max()\n",
    "    if i%100==0:\n",
    "        print(player,i)"
   ]
  },
  {
   "cell_type": "code",
   "execution_count": null,
   "id": "5bf342fb",
   "metadata": {
    "ExecuteTime": {
     "end_time": "2021-06-13T11:17:05.423249Z",
     "start_time": "2021-06-13T11:16:04.095Z"
    }
   },
   "outputs": [],
   "source": [
    "ls=[]\n",
    "for i,row in not_processed_df.iterrows():\n",
    "    ls.append(player_dtya[row['name']])\n",
    "not_processed_df['dreamteam_yearly_average']=ls"
   ]
  },
  {
   "cell_type": "code",
   "execution_count": null,
   "id": "c7f2329c",
   "metadata": {
    "ExecuteTime": {
     "end_time": "2021-06-13T11:17:05.425350Z",
     "start_time": "2021-06-13T11:16:04.101Z"
    },
    "scrolled": true
   },
   "outputs": [],
   "source": [
    "not_processed_df.head(350)"
   ]
  },
  {
   "cell_type": "code",
   "execution_count": null,
   "id": "c239003d",
   "metadata": {
    "ExecuteTime": {
     "end_time": "2021-06-13T11:17:05.427887Z",
     "start_time": "2021-06-13T11:16:04.103Z"
    }
   },
   "outputs": [],
   "source": [
    "not_processed_df.isnull().sum().sort_values(ascending=False)"
   ]
  },
  {
   "cell_type": "code",
   "execution_count": null,
   "id": "34102dc4",
   "metadata": {
    "ExecuteTime": {
     "end_time": "2021-06-13T11:17:05.430170Z",
     "start_time": "2021-06-13T11:16:04.106Z"
    },
    "scrolled": true
   },
   "outputs": [],
   "source": [
    "\n",
    "feature_selected_df=not_processed_df.dropna().drop(columns=['level_1','season'])#season"
   ]
  },
  {
   "cell_type": "code",
   "execution_count": null,
   "id": "ad9fb979",
   "metadata": {
    "ExecuteTime": {
     "end_time": "2021-06-13T11:17:05.432808Z",
     "start_time": "2021-06-13T11:16:04.109Z"
    }
   },
   "outputs": [],
   "source": [
    "feature_selected_df.isnull().sum().sort_values(ascending=False)"
   ]
  },
  {
   "cell_type": "code",
   "execution_count": null,
   "id": "ba3c07f2",
   "metadata": {
    "ExecuteTime": {
     "end_time": "2021-06-13T11:17:05.437389Z",
     "start_time": "2021-06-13T11:16:04.111Z"
    }
   },
   "outputs": [],
   "source": [
    "feature_selected_df.shape"
   ]
  },
  {
   "cell_type": "markdown",
   "id": "a8a34937",
   "metadata": {},
   "source": [
    "# Preprocessing"
   ]
  },
  {
   "cell_type": "code",
   "execution_count": null,
   "id": "ddfca96a",
   "metadata": {
    "ExecuteTime": {
     "end_time": "2021-06-13T11:17:05.439848Z",
     "start_time": "2021-06-13T11:16:04.118Z"
    },
    "scrolled": false
   },
   "outputs": [],
   "source": [
    "feature_selected_df.head(550)"
   ]
  },
  {
   "cell_type": "code",
   "execution_count": null,
   "id": "815af889",
   "metadata": {
    "ExecuteTime": {
     "end_time": "2021-06-13T11:17:05.442165Z",
     "start_time": "2021-06-13T11:16:04.125Z"
    },
    "scrolled": true
   },
   "outputs": [],
   "source": [
    "from sklearn.preprocessing import OneHotEncoder\n",
    "\n",
    "enc=OneHotEncoder()\n",
    "\n",
    "enc.fit(feature_selected_df[['position']])\n",
    "\n",
    "#enc.categories_\n",
    "#order for position is ['DEF','FWD','GK','MID']\n",
    "positions=enc.transform(feature_selected_df[['position']]).toarray()\n",
    "feature_selected_df[\"DEF\"],feature_selected_df[\"FWD\"],feature_selected_df['GK'], feature_selected_df['MID'] = positions.T \n",
    "\n",
    "feature_selected_df.head(500)"
   ]
  },
  {
   "cell_type": "code",
   "execution_count": null,
   "id": "f62a5559",
   "metadata": {
    "ExecuteTime": {
     "end_time": "2021-06-13T11:17:05.444416Z",
     "start_time": "2021-06-13T11:16:04.128Z"
    }
   },
   "outputs": [],
   "source": [
    "final_df=feature_selected_df.drop(columns='position')"
   ]
  },
  {
   "cell_type": "code",
   "execution_count": null,
   "id": "144e5bcb",
   "metadata": {
    "ExecuteTime": {
     "end_time": "2021-06-13T11:17:05.446839Z",
     "start_time": "2021-06-13T11:16:04.133Z"
    }
   },
   "outputs": [],
   "source": [
    "final_df"
   ]
  },
  {
   "cell_type": "markdown",
   "id": "935805e9",
   "metadata": {},
   "source": [
    "# Make model"
   ]
  },
  {
   "cell_type": "code",
   "execution_count": null,
   "id": "d53f679b",
   "metadata": {
    "ExecuteTime": {
     "end_time": "2021-06-13T11:17:05.449027Z",
     "start_time": "2021-06-13T11:16:04.137Z"
    }
   },
   "outputs": [],
   "source": [
    "X=final_df.drop(columns='total_points')\n",
    "y=final_df['total_points']"
   ]
  },
  {
   "cell_type": "code",
   "execution_count": null,
   "id": "ea8799dd",
   "metadata": {
    "ExecuteTime": {
     "end_time": "2021-06-13T11:17:05.451524Z",
     "start_time": "2021-06-13T11:16:04.139Z"
    }
   },
   "outputs": [],
   "source": [
    "X.drop(columns=['name','GW','kickoff_date'],inplace=True)"
   ]
  },
  {
   "cell_type": "code",
   "execution_count": null,
   "id": "74f3d99d",
   "metadata": {
    "ExecuteTime": {
     "end_time": "2021-06-13T11:17:05.455894Z",
     "start_time": "2021-06-13T11:16:04.142Z"
    }
   },
   "outputs": [],
   "source": [
    "from sklearn.model_selection import train_test_split\n",
    "\n",
    "X_train, X_test, y_train, y_test = train_test_split(X, y, test_size=0.3, random_state=42)\n",
    "\n"
   ]
  },
  {
   "cell_type": "code",
   "execution_count": null,
   "id": "3dcfab1c",
   "metadata": {
    "ExecuteTime": {
     "end_time": "2021-06-13T11:17:05.458715Z",
     "start_time": "2021-06-13T11:16:04.145Z"
    }
   },
   "outputs": [],
   "source": [
    "X_test.shape"
   ]
  },
  {
   "cell_type": "code",
   "execution_count": null,
   "id": "b8c8b801",
   "metadata": {
    "ExecuteTime": {
     "end_time": "2021-06-13T11:17:05.461118Z",
     "start_time": "2021-06-13T11:16:04.148Z"
    }
   },
   "outputs": [],
   "source": [
    "X_train.shape"
   ]
  },
  {
   "cell_type": "code",
   "execution_count": null,
   "id": "dee5306e",
   "metadata": {
    "ExecuteTime": {
     "end_time": "2021-06-13T11:17:05.464220Z",
     "start_time": "2021-06-13T11:16:04.150Z"
    }
   },
   "outputs": [],
   "source": [
    "from sklearn.ensemble import GradientBoostingRegressor\n",
    "from sklearn.model_selection import GridSearchCV\n",
    "from sklearn.metrics import mean_absolute_error\n",
    "\n",
    "reg = GradientBoostingRegressor(random_state=0,loss='ls')\n",
    "reg.fit(X_train, y_train)\n",
    "y_pred=reg.predict(X_test)\n",
    "\n",
    "mean_absolute_error(y_test,y_pred)\n"
   ]
  },
  {
   "cell_type": "code",
   "execution_count": null,
   "id": "c9af458e",
   "metadata": {
    "ExecuteTime": {
     "end_time": "2021-06-13T11:17:05.467459Z",
     "start_time": "2021-06-13T11:16:04.171Z"
    }
   },
   "outputs": [],
   "source": [
    "for i,value in enumerate(y_pred):\n",
    "    print(y_test.iloc[i],value)\n"
   ]
  },
  {
   "cell_type": "code",
   "execution_count": null,
   "id": "5e773b46",
   "metadata": {
    "ExecuteTime": {
     "end_time": "2021-06-13T11:17:05.473179Z",
     "start_time": "2021-06-13T11:16:04.176Z"
    }
   },
   "outputs": [],
   "source": [
    "plt.scatter(y_test,y_pred)"
   ]
  },
  {
   "cell_type": "markdown",
   "id": "13702d30",
   "metadata": {},
   "source": [
    "# Trying to detect 5 players last 4-5 gameweeks"
   ]
  },
  {
   "cell_type": "code",
   "execution_count": null,
   "id": "b4f414f4",
   "metadata": {
    "ExecuteTime": {
     "end_time": "2021-06-13T11:17:05.480716Z",
     "start_time": "2021-06-13T11:16:04.182Z"
    }
   },
   "outputs": [],
   "source": [
    "final_df"
   ]
  },
  {
   "cell_type": "code",
   "execution_count": null,
   "id": "d1a81191",
   "metadata": {
    "ExecuteTime": {
     "end_time": "2021-06-13T11:17:05.489427Z",
     "start_time": "2021-06-13T11:16:04.185Z"
    }
   },
   "outputs": [],
   "source": [
    "#train_df = final_df[final_df.kickoff_date < pd.to_datetime('2021-05-07')]\n",
    "#test_df = final_df[final_df.kickoff_date >= pd.to_datetime('2021-05-07')]\n",
    "\n",
    "train_df = final_df[final_df.GW < 29]\n",
    "test_df = final_df[final_df.GW >= 34]\n",
    "\n",
    "test_df = test_df[test_df.kickoff_date > pd.to_datetime('2021-01-01')]"
   ]
  },
  {
   "cell_type": "code",
   "execution_count": null,
   "id": "84dd36a9",
   "metadata": {
    "ExecuteTime": {
     "end_time": "2021-06-13T11:17:05.504753Z",
     "start_time": "2021-06-13T11:16:04.188Z"
    }
   },
   "outputs": [],
   "source": [
    "train_df.shape"
   ]
  },
  {
   "cell_type": "code",
   "execution_count": null,
   "id": "36c9f730",
   "metadata": {
    "ExecuteTime": {
     "end_time": "2021-06-13T11:17:05.511991Z",
     "start_time": "2021-06-13T11:16:04.191Z"
    }
   },
   "outputs": [],
   "source": [
    "test_df.shape"
   ]
  },
  {
   "cell_type": "code",
   "execution_count": null,
   "id": "6edf2c4b",
   "metadata": {
    "ExecuteTime": {
     "end_time": "2021-06-13T11:17:05.518752Z",
     "start_time": "2021-06-13T11:16:04.193Z"
    }
   },
   "outputs": [],
   "source": [
    "new_df=test_df[['name','total_points','GW']]"
   ]
  },
  {
   "cell_type": "code",
   "execution_count": null,
   "id": "b7eac162",
   "metadata": {
    "ExecuteTime": {
     "end_time": "2021-06-13T11:17:05.523056Z",
     "start_time": "2021-06-13T11:16:04.195Z"
    }
   },
   "outputs": [],
   "source": [
    "X_train=train_df.drop(columns=['total_points','name','GW','kickoff_date'])\n",
    "y_train=train_df['total_points']\n",
    "\n",
    "X_test=test_df.drop(columns=['total_points','name','GW','kickoff_date'])\n",
    "y_test=test_df['total_points']"
   ]
  },
  {
   "cell_type": "code",
   "execution_count": null,
   "id": "f5fe367b",
   "metadata": {
    "ExecuteTime": {
     "end_time": "2021-06-13T11:17:05.525064Z",
     "start_time": "2021-06-13T11:16:04.198Z"
    }
   },
   "outputs": [],
   "source": [
    "corrMatrix = train_df.corr()\n",
    "print (corrMatrix)"
   ]
  },
  {
   "cell_type": "code",
   "execution_count": null,
   "id": "9ed90169",
   "metadata": {
    "ExecuteTime": {
     "end_time": "2021-06-13T11:17:05.528637Z",
     "start_time": "2021-06-13T11:16:04.201Z"
    }
   },
   "outputs": [],
   "source": [
    "X_train.shape"
   ]
  },
  {
   "cell_type": "code",
   "execution_count": null,
   "id": "de011997",
   "metadata": {
    "ExecuteTime": {
     "end_time": "2021-06-13T11:17:05.530979Z",
     "start_time": "2021-06-13T11:16:04.204Z"
    }
   },
   "outputs": [],
   "source": [
    "X_test.shape"
   ]
  },
  {
   "cell_type": "code",
   "execution_count": null,
   "id": "8ead693f",
   "metadata": {
    "ExecuteTime": {
     "end_time": "2021-06-13T11:17:05.533407Z",
     "start_time": "2021-06-13T11:16:04.209Z"
    },
    "scrolled": true
   },
   "outputs": [],
   "source": [
    "X_train.head()"
   ]
  },
  {
   "cell_type": "code",
   "execution_count": null,
   "id": "93681abb",
   "metadata": {
    "ExecuteTime": {
     "end_time": "2021-06-13T11:17:05.538966Z",
     "start_time": "2021-06-13T11:16:04.212Z"
    }
   },
   "outputs": [],
   "source": [
    "from sklearn.ensemble import GradientBoostingRegressor\n",
    "from sklearn.neighbors import KNeighborsRegressor\n",
    "from sklearn.model_selection import GridSearchCV\n",
    "from sklearn.metrics import mean_absolute_error\n",
    "\n",
    "reg = KNeighborsRegressor()\n",
    "reg.fit(X_train, y_train)\n",
    "y_pred=reg.predict(X_test)\n",
    "\n",
    "mean_absolute_error(y_test,y_pred)"
   ]
  },
  {
   "cell_type": "code",
   "execution_count": null,
   "id": "2979749d",
   "metadata": {
    "ExecuteTime": {
     "end_time": "2021-06-13T11:17:05.541701Z",
     "start_time": "2021-06-13T11:16:04.215Z"
    },
    "scrolled": true
   },
   "outputs": [],
   "source": [
    "new_df['y_pred']=y_pred"
   ]
  },
  {
   "cell_type": "code",
   "execution_count": null,
   "id": "69fe25a5",
   "metadata": {
    "ExecuteTime": {
     "end_time": "2021-06-13T11:17:05.546430Z",
     "start_time": "2021-06-13T11:16:04.219Z"
    }
   },
   "outputs": [],
   "source": [
    "new_df[new_df['name']=='heung-min son']"
   ]
  },
  {
   "cell_type": "code",
   "execution_count": null,
   "id": "a18a0474",
   "metadata": {
    "ExecuteTime": {
     "end_time": "2021-06-13T11:17:05.582956Z",
     "start_time": "2021-06-13T11:16:04.223Z"
    },
    "scrolled": true
   },
   "outputs": [],
   "source": [
    "new_df[new_df['name']=='kyle walker']"
   ]
  },
  {
   "cell_type": "code",
   "execution_count": null,
   "id": "df0e287f",
   "metadata": {
    "ExecuteTime": {
     "end_time": "2021-06-13T11:17:05.588955Z",
     "start_time": "2021-06-13T11:16:04.227Z"
    }
   },
   "outputs": [],
   "source": [
    "new_df[new_df['name']=='jesse lingard']"
   ]
  },
  {
   "cell_type": "code",
   "execution_count": null,
   "id": "d9970087",
   "metadata": {
    "ExecuteTime": {
     "end_time": "2021-06-13T11:17:05.591084Z",
     "start_time": "2021-06-13T11:16:04.230Z"
    }
   },
   "outputs": [],
   "source": [
    "new_df[new_df['name']=='youri tielemans']"
   ]
  },
  {
   "cell_type": "code",
   "execution_count": null,
   "id": "ea6eb93b",
   "metadata": {
    "ExecuteTime": {
     "end_time": "2021-06-13T11:17:05.611301Z",
     "start_time": "2021-06-13T11:16:04.233Z"
    }
   },
   "outputs": [],
   "source": [
    "new_df[new_df['name']=='james justin']"
   ]
  },
  {
   "cell_type": "code",
   "execution_count": null,
   "id": "263e7f4a",
   "metadata": {
    "ExecuteTime": {
     "end_time": "2021-06-13T11:17:05.621780Z",
     "start_time": "2021-06-13T11:16:04.237Z"
    },
    "scrolled": true
   },
   "outputs": [],
   "source": [
    "plt.plot(new_df[new_df['name']=='youri tielemans']['GW'],np.abs(new_df[new_df['name']=='youri tielemans']['y_pred']-new_df[new_df['name']=='youri tielemans']['total_points']),label='youri tielemans')\n",
    "plt.plot(new_df[new_df['name']=='timo werner']['GW'],np.abs(new_df[new_df['name']=='timo werner']['y_pred']-new_df[new_df['name']=='timo werner']['total_points']),label='timo werner')\n",
    "plt.plot(new_df[new_df['name']=='jesse lingard']['GW'],np.abs(new_df[new_df['name']=='jesse lingard']['y_pred']-new_df[new_df['name']=='jesse lingard']['total_points']),label='jesse lingard')\n",
    "plt.plot(new_df[new_df['name']=='james justin']['GW'],np.abs(new_df[new_df['name']=='james justin']['y_pred']-new_df[new_df['name']=='james justin']['total_points']),label='james justin')\n",
    "\n",
    "plt.legend()\n",
    "\n"
   ]
  },
  {
   "cell_type": "code",
   "execution_count": null,
   "id": "2ad21fbe",
   "metadata": {
    "ExecuteTime": {
     "end_time": "2021-06-13T11:17:05.624397Z",
     "start_time": "2021-06-13T11:16:04.241Z"
    }
   },
   "outputs": [],
   "source": [
    "player_dtya={}\n",
    "for i,player in enumerate(new_df['name'].unique()):\n",
    "    \n",
    "    print(player,i)"
   ]
  },
  {
   "cell_type": "markdown",
   "id": "4fce31c1",
   "metadata": {},
   "source": [
    "# Other stuff"
   ]
  },
  {
   "cell_type": "code",
   "execution_count": null,
   "id": "9585641e",
   "metadata": {
    "ExecuteTime": {
     "end_time": "2021-06-13T11:17:05.628507Z",
     "start_time": "2021-06-13T11:16:04.244Z"
    }
   },
   "outputs": [],
   "source": [
    "def get_assists_per_game(df,player):\n",
    "    ls=[0]\n",
    "    assists=0\n",
    "    num_games=0\n",
    "    for i,row in df.iterrows():\n",
    "        if row['minutes']>0:\n",
    "            num_games+=1\n",
    "            assists+=row['assists']\n",
    "        if num_games>0:\n",
    "            ls.append(assists/num_games)\n",
    "        else:\n",
    "            ls.append(0)\n",
    "    del ls[-1]\n",
    "    return ls[-1]"
   ]
  },
  {
   "cell_type": "code",
   "execution_count": null,
   "id": "fc0a5a42",
   "metadata": {
    "ExecuteTime": {
     "end_time": "2021-06-13T11:17:05.630123Z",
     "start_time": "2021-06-13T11:16:04.247Z"
    }
   },
   "outputs": [],
   "source": [
    "def get_goals_per_game(df,player):\n",
    "    ls=[0]\n",
    "    goals=0\n",
    "    num_games=0\n",
    "    for i,row in df.iterrows():\n",
    "        if row['minutes']>0:\n",
    "            num_games+=1\n",
    "            goals+=row['goals_scored']\n",
    "        if num_games>0:\n",
    "            ls.append(goals/num_games)\n",
    "        else:\n",
    "            ls.append(0)\n",
    "    del ls[-1]\n",
    "    return ls[-1]\n",
    "\n",
    "def get_clean_sheets_per_game(df,player):\n",
    "    ls=[0]\n",
    "    clean_sheets=0\n",
    "    num_games=0\n",
    "    for i,row in df.iterrows():\n",
    "        if row['minutes']>0:\n",
    "            num_games+=1\n",
    "            clean_sheets+=row['clean_sheets']\n",
    "        if num_games>0:\n",
    "            ls.append(clean_sheets/num_games)\n",
    "        else:\n",
    "            ls.append(0)\n",
    "    del ls[-1]\n",
    "    return ls[-1]\n",
    "\n",
    "def get_minutes_per_game(df,player):\n",
    "    ls=[0]\n",
    "    minutes=0\n",
    "    num_games=0\n",
    "    for i,row in df.iterrows():\n",
    "        if row['minutes']>0:\n",
    "            num_games+=1\n",
    "            minutes+=row['minutes']\n",
    "        if num_games>0:\n",
    "            ls.append(minutes/num_games)\n",
    "        else:\n",
    "            ls.append(0)\n",
    "    del ls[-1]\n",
    "    return ls[-1]"
   ]
  },
  {
   "cell_type": "code",
   "execution_count": null,
   "id": "d6a0d535",
   "metadata": {
    "ExecuteTime": {
     "end_time": "2021-06-13T11:17:05.632097Z",
     "start_time": "2021-06-13T11:16:04.251Z"
    }
   },
   "outputs": [],
   "source": [
    "X_raw.shape"
   ]
  },
  {
   "cell_type": "code",
   "execution_count": null,
   "id": "d0f0dfd5",
   "metadata": {
    "ExecuteTime": {
     "end_time": "2021-06-13T11:17:05.635479Z",
     "start_time": "2021-06-13T11:16:04.255Z"
    }
   },
   "outputs": [],
   "source": [
    "assists_per_game=[]\n",
    "goals_per_game=[]\n",
    "clean_sheets_per_game=[]\n",
    "minutes_per_game=[]\n",
    "\n",
    "for i,player in enumerate(X_raw['name'].unique()):\n",
    "    if i%100==0:\n",
    "        print(player,i)\n",
    "    assists_per_game+=get_assists_per_game(X_raw[X_raw['name']==player],player)\n",
    "    goals_per_game+=get_goals_per_game(X_raw[X_raw['name']==player],player)\n",
    "    clean_sheets_per_game+=get_clean_sheets_per_game(X_raw[X_raw['name']==player],player)\n",
    "    minutes_per_game+=get_minutes_per_game(X_raw[X_raw['name']==player],player)"
   ]
  },
  {
   "cell_type": "code",
   "execution_count": null,
   "id": "fa4c7d0e",
   "metadata": {
    "ExecuteTime": {
     "end_time": "2021-06-13T11:17:05.637802Z",
     "start_time": "2021-06-13T11:16:04.258Z"
    }
   },
   "outputs": [],
   "source": [
    "X_raw['apg']=assists_per_game\n",
    "X_raw['gpg']=goals_per_game\n",
    "X_raw['cspg']=clean_sheets_per_game\n",
    "X_raw['mpg']=minutes_per_game"
   ]
  },
  {
   "cell_type": "code",
   "execution_count": null,
   "id": "7f638ae6",
   "metadata": {
    "ExecuteTime": {
     "end_time": "2021-06-13T11:17:05.639552Z",
     "start_time": "2021-06-13T11:16:04.260Z"
    },
    "scrolled": true
   },
   "outputs": [],
   "source": [
    "X_raw.columns"
   ]
  },
  {
   "cell_type": "code",
   "execution_count": null,
   "id": "b558ea76",
   "metadata": {
    "ExecuteTime": {
     "end_time": "2021-06-13T11:17:05.644168Z",
     "start_time": "2021-06-13T11:16:04.265Z"
    },
    "scrolled": true
   },
   "outputs": [],
   "source": [
    "X_raw.shape"
   ]
  },
  {
   "cell_type": "code",
   "execution_count": null,
   "id": "e96e165d",
   "metadata": {
    "ExecuteTime": {
     "end_time": "2021-06-13T11:17:05.645841Z",
     "start_time": "2021-06-13T11:16:04.268Z"
    }
   },
   "outputs": [],
   "source": [
    "X_raw.drop(columns=['assists','bonus','bps','clean_sheets','element','fixture','goals_conceded','goals_scored'\n",
    "                    ,'minutes','opponent_team','own_goals','penalties_missed','penalties_saved','red_cards','saves'\n",
    "                    ,'selected','team_a_score','team_h_score','transfers_balance','transfers_in','transfers_out'\n",
    "                    ,'value','yellow_cards','team_id','team_name','ict_index','influence','threat','creativity'],inplace=True) #Bonus, bps"
   ]
  },
  {
   "cell_type": "code",
   "execution_count": null,
   "id": "4c1a28ad",
   "metadata": {
    "ExecuteTime": {
     "end_time": "2021-06-13T11:17:05.647940Z",
     "start_time": "2021-06-13T11:16:04.271Z"
    }
   },
   "outputs": [],
   "source": [
    "X_raw.shape"
   ]
  },
  {
   "cell_type": "code",
   "execution_count": null,
   "id": "0b422de5",
   "metadata": {
    "ExecuteTime": {
     "end_time": "2021-06-13T11:17:05.651841Z",
     "start_time": "2021-06-13T11:16:04.273Z"
    }
   },
   "outputs": [],
   "source": [
    "X_raw.columns"
   ]
  },
  {
   "cell_type": "code",
   "execution_count": null,
   "id": "03102ec1",
   "metadata": {
    "ExecuteTime": {
     "end_time": "2021-06-13T11:17:05.654023Z",
     "start_time": "2021-06-13T11:16:04.275Z"
    },
    "scrolled": true
   },
   "outputs": [],
   "source": [
    "X_raw.head()"
   ]
  }
 ],
 "metadata": {
  "kernelspec": {
   "display_name": "Python 3",
   "language": "python",
   "name": "python3"
  },
  "language_info": {
   "codemirror_mode": {
    "name": "ipython",
    "version": 3
   },
   "file_extension": ".py",
   "mimetype": "text/x-python",
   "name": "python",
   "nbconvert_exporter": "python",
   "pygments_lexer": "ipython3",
   "version": "3.8.6"
  },
  "toc": {
   "base_numbering": 1,
   "nav_menu": {},
   "number_sections": true,
   "sideBar": true,
   "skip_h1_title": false,
   "title_cell": "Table of Contents",
   "title_sidebar": "Contents",
   "toc_cell": false,
   "toc_position": {},
   "toc_section_display": true,
   "toc_window_display": false
  }
 },
 "nbformat": 4,
 "nbformat_minor": 5
}
